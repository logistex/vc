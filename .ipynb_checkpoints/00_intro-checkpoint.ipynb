{
 "cells": [
  {
   "cell_type": "markdown",
   "id": "937ea319",
   "metadata": {},
   "source": [
    "# 과정 소개\n",
    "\n",
    "- 명칭: 데이터 시각화\n",
    "- 원저: [Visualization Curriculum](https://uwdata.github.io/visualization-curriculum)\n",
    "- 편저: 신해웅\n",
    "- 저작권: By Jeffrey Heer, Dominik Moritz, Jake VanderPlas, and Brock Craft  \n",
    "  &nbsp;&nbsp;&nbsp;&nbsp;&nbsp;&nbsp;&nbsp;&nbsp;&nbsp;&nbsp;&nbsp;&nbsp;&nbsp;© Copyright 2020.\n",
    "- 내용\n",
    "  - Vega-Lite 및 Altair를 사용하는 대화형 노트북의 데이터 시각화 커리큘럼이다. \n",
    "  - 이 책에는 파이썬 기반 주피터 노트북 시리즈가 포함되어 있다. \n",
    "\n"
   ]
  },
  {
   "cell_type": "markdown",
   "id": "a90f8040",
   "metadata": {},
   "source": [
    "## 목차\n",
    "\n",
    "1. Vega-Lite 및 Altair 소개\n",
    "2. 자료형, 그래픽 마크 및 시각적 인코딩 채널\n",
    "3. 데이터 변환\n",
    "4. 축척, 축 및 범례\n",
    "5. 다중 뷰 구성\n",
    "6. 상호작용\n",
    "7. 지도 시각화\n",
    "8. Altair 디버깅 지침\n"
   ]
  }
 ],
 "metadata": {
  "kernelspec": {
   "display_name": "Python 3",
   "language": "python",
   "name": "python3"
  },
  "language_info": {
   "codemirror_mode": {
    "name": "ipython",
    "version": 3
   },
   "file_extension": ".py",
   "mimetype": "text/x-python",
   "name": "python",
   "nbconvert_exporter": "python",
   "pygments_lexer": "ipython3",
   "version": "3.8.11"
  },
  "latex_envs": {
   "LaTeX_envs_menu_present": true,
   "autoclose": false,
   "autocomplete": true,
   "bibliofile": "biblio.bib",
   "cite_by": "apalike",
   "current_citInitial": 1,
   "eqLabelWithNumbers": true,
   "eqNumInitial": 1,
   "hotkeys": {
    "equation": "Ctrl-E",
    "itemize": "Ctrl-I"
   },
   "labels_anchors": false,
   "latex_user_defs": false,
   "report_style_numbering": false,
   "user_envs_cfg": false
  },
  "toc": {
   "base_numbering": 1,
   "nav_menu": {},
   "number_sections": false,
   "sideBar": true,
   "skip_h1_title": false,
   "title_cell": "Table of Contents",
   "title_sidebar": "Contents",
   "toc_cell": false,
   "toc_position": {},
   "toc_section_display": true,
   "toc_window_display": true
  },
  "varInspector": {
   "cols": {
    "lenName": 16,
    "lenType": 16,
    "lenVar": 40
   },
   "kernels_config": {
    "python": {
     "delete_cmd_postfix": "",
     "delete_cmd_prefix": "del ",
     "library": "var_list.py",
     "varRefreshCmd": "print(var_dic_list())"
    },
    "r": {
     "delete_cmd_postfix": ") ",
     "delete_cmd_prefix": "rm(",
     "library": "var_list.r",
     "varRefreshCmd": "cat(var_dic_list()) "
    }
   },
   "types_to_exclude": [
    "module",
    "function",
    "builtin_function_or_method",
    "instance",
    "_Feature"
   ],
   "window_display": false
  }
 },
 "nbformat": 4,
 "nbformat_minor": 5
}
