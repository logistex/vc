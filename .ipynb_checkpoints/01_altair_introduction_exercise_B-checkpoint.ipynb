{
 "cells": [
  {
   "cell_type": "code",
   "execution_count": 1,
   "id": "8dbc6dd1",
   "metadata": {},
   "outputs": [],
   "source": [
    "# 라이브러리 임포트\n",
    "import pandas as pd \n",
    "import altair as alt \n",
    "from vega_datasets import data "
   ]
  },
  {
   "cell_type": "code",
   "execution_count": 2,
   "id": "efc427ba",
   "metadata": {},
   "outputs": [
    {
     "data": {
      "text/plain": [
       "['7zip',\n",
       " 'airports',\n",
       " 'annual-precip',\n",
       " 'anscombe',\n",
       " 'barley',\n",
       " 'birdstrikes',\n",
       " 'budget',\n",
       " 'budgets',\n",
       " 'burtin',\n",
       " 'cars',\n",
       " 'climate',\n",
       " 'co2-concentration',\n",
       " 'countries',\n",
       " 'crimea',\n",
       " 'disasters',\n",
       " 'driving',\n",
       " 'earthquakes',\n",
       " 'ffox',\n",
       " 'flare',\n",
       " 'flare-dependencies',\n",
       " 'flights-10k',\n",
       " 'flights-200k',\n",
       " 'flights-20k',\n",
       " 'flights-2k',\n",
       " 'flights-3m',\n",
       " 'flights-5k',\n",
       " 'flights-airport',\n",
       " 'gapminder',\n",
       " 'gapminder-health-income',\n",
       " 'gimp',\n",
       " 'github',\n",
       " 'graticule',\n",
       " 'income',\n",
       " 'iowa-electricity',\n",
       " 'iris',\n",
       " 'jobs',\n",
       " 'la-riots',\n",
       " 'londonBoroughs',\n",
       " 'londonCentroids',\n",
       " 'londonTubeLines',\n",
       " 'lookup_groups',\n",
       " 'lookup_people',\n",
       " 'miserables',\n",
       " 'monarchs',\n",
       " 'movies',\n",
       " 'normal-2d',\n",
       " 'obesity',\n",
       " 'ohlc',\n",
       " 'points',\n",
       " 'population',\n",
       " 'population_engineers_hurricanes',\n",
       " 'seattle-temps',\n",
       " 'seattle-weather',\n",
       " 'sf-temps',\n",
       " 'sp500',\n",
       " 'stocks',\n",
       " 'udistrict',\n",
       " 'unemployment',\n",
       " 'unemployment-across-industries',\n",
       " 'uniform-2d',\n",
       " 'us-10m',\n",
       " 'us-employment',\n",
       " 'us-state-capitals',\n",
       " 'volcano',\n",
       " 'weather',\n",
       " 'weball26',\n",
       " 'wheat',\n",
       " 'windvectors',\n",
       " 'world-110m',\n",
       " 'zipcodes']"
      ]
     },
     "execution_count": 2,
     "metadata": {},
     "output_type": "execute_result"
    }
   ],
   "source": [
    "# 베가 데이터 세트의 목록 확인\n",
    "data.list_datasets()"
   ]
  },
  {
   "cell_type": "code",
   "execution_count": 3,
   "id": "3073bc96",
   "metadata": {
    "scrolled": true
   },
   "outputs": [
    {
     "data": {
      "text/html": [
       "<div>\n",
       "<style scoped>\n",
       "    .dataframe tbody tr th:only-of-type {\n",
       "        vertical-align: middle;\n",
       "    }\n",
       "\n",
       "    .dataframe tbody tr th {\n",
       "        vertical-align: top;\n",
       "    }\n",
       "\n",
       "    .dataframe thead th {\n",
       "        text-align: right;\n",
       "    }\n",
       "</style>\n",
       "<table border=\"1\" class=\"dataframe\">\n",
       "  <thead>\n",
       "    <tr style=\"text-align: right;\">\n",
       "      <th></th>\n",
       "      <th>_comment</th>\n",
       "      <th>year</th>\n",
       "      <th>fertility</th>\n",
       "      <th>life_expect</th>\n",
       "      <th>n_fertility</th>\n",
       "      <th>n_life_expect</th>\n",
       "      <th>country</th>\n",
       "      <th>p_fertility</th>\n",
       "      <th>p_life_expect</th>\n",
       "    </tr>\n",
       "  </thead>\n",
       "  <tbody>\n",
       "    <tr>\n",
       "      <th>0</th>\n",
       "      <td>Data courtesy of Gapminder.org</td>\n",
       "      <td>1955</td>\n",
       "      <td>7.7</td>\n",
       "      <td>30.332</td>\n",
       "      <td>7.7</td>\n",
       "      <td>31.997</td>\n",
       "      <td>Afghanistan</td>\n",
       "      <td>NaN</td>\n",
       "      <td>NaN</td>\n",
       "    </tr>\n",
       "    <tr>\n",
       "      <th>1</th>\n",
       "      <td>NaN</td>\n",
       "      <td>1960</td>\n",
       "      <td>7.7</td>\n",
       "      <td>31.997</td>\n",
       "      <td>7.7</td>\n",
       "      <td>34.020</td>\n",
       "      <td>Afghanistan</td>\n",
       "      <td>7.7</td>\n",
       "      <td>30.332</td>\n",
       "    </tr>\n",
       "    <tr>\n",
       "      <th>2</th>\n",
       "      <td>NaN</td>\n",
       "      <td>1965</td>\n",
       "      <td>7.7</td>\n",
       "      <td>34.020</td>\n",
       "      <td>7.7</td>\n",
       "      <td>36.088</td>\n",
       "      <td>Afghanistan</td>\n",
       "      <td>7.7</td>\n",
       "      <td>31.997</td>\n",
       "    </tr>\n",
       "    <tr>\n",
       "      <th>3</th>\n",
       "      <td>NaN</td>\n",
       "      <td>1970</td>\n",
       "      <td>7.7</td>\n",
       "      <td>36.088</td>\n",
       "      <td>7.7</td>\n",
       "      <td>38.438</td>\n",
       "      <td>Afghanistan</td>\n",
       "      <td>7.7</td>\n",
       "      <td>34.020</td>\n",
       "    </tr>\n",
       "    <tr>\n",
       "      <th>4</th>\n",
       "      <td>NaN</td>\n",
       "      <td>1975</td>\n",
       "      <td>7.7</td>\n",
       "      <td>38.438</td>\n",
       "      <td>7.8</td>\n",
       "      <td>39.854</td>\n",
       "      <td>Afghanistan</td>\n",
       "      <td>7.7</td>\n",
       "      <td>36.088</td>\n",
       "    </tr>\n",
       "  </tbody>\n",
       "</table>\n",
       "</div>"
      ],
      "text/plain": [
       "                         _comment  year  fertility  life_expect  n_fertility  \\\n",
       "0  Data courtesy of Gapminder.org  1955        7.7       30.332          7.7   \n",
       "1                             NaN  1960        7.7       31.997          7.7   \n",
       "2                             NaN  1965        7.7       34.020          7.7   \n",
       "3                             NaN  1970        7.7       36.088          7.7   \n",
       "4                             NaN  1975        7.7       38.438          7.8   \n",
       "\n",
       "   n_life_expect      country  p_fertility  p_life_expect  \n",
       "0         31.997  Afghanistan          NaN            NaN  \n",
       "1         34.020  Afghanistan          7.7         30.332  \n",
       "2         36.088  Afghanistan          7.7         31.997  \n",
       "3         38.438  Afghanistan          7.7         34.020  \n",
       "4         39.854  Afghanistan          7.7         36.088  "
      ]
     },
     "execution_count": 3,
     "metadata": {},
     "output_type": "execute_result"
    }
   ],
   "source": [
    "# 국가별 연도별 데이터라는 사실을 확인\n",
    "countries = data.countries() \n",
    "countries.head()"
   ]
  },
  {
   "cell_type": "code",
   "execution_count": 4,
   "id": "a0b0dfdc",
   "metadata": {},
   "outputs": [
    {
     "data": {
      "text/plain": [
       "2000"
      ]
     },
     "execution_count": 4,
     "metadata": {},
     "output_type": "execute_result"
    }
   ],
   "source": [
    "# 연도의 최대값을 확인\n",
    "countries.year.max()"
   ]
  },
  {
   "cell_type": "code",
   "execution_count": 5,
   "id": "99b049d5",
   "metadata": {},
   "outputs": [],
   "source": [
    "# 시각화 대상 국가 확정\n",
    "filter_list = ['South Korea', 'Hong Kong', 'North Korea', 'Japan', 'Philippines', 'Rwanda', 'Afghanistan']"
   ]
  },
  {
   "cell_type": "code",
   "execution_count": 6,
   "id": "b5aa7310",
   "metadata": {},
   "outputs": [
    {
     "data": {
      "text/html": [
       "\n",
       "<div id=\"altair-viz-c754d17b1e31417798e9f16be10beb10\"></div>\n",
       "<script type=\"text/javascript\">\n",
       "  (function(spec, embedOpt){\n",
       "    let outputDiv = document.currentScript.previousElementSibling;\n",
       "    if (outputDiv.id !== \"altair-viz-c754d17b1e31417798e9f16be10beb10\") {\n",
       "      outputDiv = document.getElementById(\"altair-viz-c754d17b1e31417798e9f16be10beb10\");\n",
       "    }\n",
       "    const paths = {\n",
       "      \"vega\": \"https://cdn.jsdelivr.net/npm//vega@5?noext\",\n",
       "      \"vega-lib\": \"https://cdn.jsdelivr.net/npm//vega-lib?noext\",\n",
       "      \"vega-lite\": \"https://cdn.jsdelivr.net/npm//vega-lite@4.8.1?noext\",\n",
       "      \"vega-embed\": \"https://cdn.jsdelivr.net/npm//vega-embed@6?noext\",\n",
       "    };\n",
       "\n",
       "    function loadScript(lib) {\n",
       "      return new Promise(function(resolve, reject) {\n",
       "        var s = document.createElement('script');\n",
       "        s.src = paths[lib];\n",
       "        s.async = true;\n",
       "        s.onload = () => resolve(paths[lib]);\n",
       "        s.onerror = () => reject(`Error loading script: ${paths[lib]}`);\n",
       "        document.getElementsByTagName(\"head\")[0].appendChild(s);\n",
       "      });\n",
       "    }\n",
       "\n",
       "    function showError(err) {\n",
       "      outputDiv.innerHTML = `<div class=\"error\" style=\"color:red;\">${err}</div>`;\n",
       "      throw err;\n",
       "    }\n",
       "\n",
       "    function displayChart(vegaEmbed) {\n",
       "      vegaEmbed(outputDiv, spec, embedOpt)\n",
       "        .catch(err => showError(`Javascript Error: ${err.message}<br>This usually means there's a typo in your chart specification. See the javascript console for the full traceback.`));\n",
       "    }\n",
       "\n",
       "    if(typeof define === \"function\" && define.amd) {\n",
       "      requirejs.config({paths});\n",
       "      require([\"vega-embed\"], displayChart, err => showError(`Error loading script: ${err.message}`));\n",
       "    } else if (typeof vegaEmbed === \"function\") {\n",
       "      displayChart(vegaEmbed);\n",
       "    } else {\n",
       "      loadScript(\"vega\")\n",
       "        .then(() => loadScript(\"vega-lite\"))\n",
       "        .then(() => loadScript(\"vega-embed\"))\n",
       "        .catch(showError)\n",
       "        .then(() => displayChart(vegaEmbed));\n",
       "    }\n",
       "  })({\"config\": {\"view\": {\"continuousWidth\": 400, \"continuousHeight\": 300}, \"axis\": {\"labelColor\": \"#7780e4\", \"labelFontSize\": 12, \"titleColor\": \"#525edc\", \"titleFontSize\": 16}, \"title\": {\"fontSize\": 24}}, \"data\": {\"name\": \"data-f422f54c41d02e8619444fae43243eab\"}, \"mark\": {\"type\": \"bar\", \"color\": \"#929ae9\"}, \"encoding\": {\"x\": {\"type\": \"quantitative\", \"axis\": {\"title\": \"\\ucd9c\\uc0b0\\uc728\"}, \"field\": \"fertility\"}, \"y\": {\"type\": \"nominal\", \"axis\": {\"title\": \"\\uad6d\\uac00\", \"titleAngle\": 360, \"titlePadding\": 20}, \"field\": \"country\", \"sort\": \"-x\"}}, \"height\": 400, \"title\": {\"text\": [\"\\uad6d\\uac00\\ubcc4 \\ucd9c\\uc0b0\\uc728\"], \"subtitle\": [\"(2000\\ub144 \\uae30\\uc900)\"], \"color\": \"#0516cd\", \"subtitleColor\": \"#0516cd\"}, \"width\": 600, \"$schema\": \"https://vega.github.io/schema/vega-lite/v4.8.1.json\", \"datasets\": {\"data-f422f54c41d02e8619444fae43243eab\": [{\"_comment\": null, \"year\": 2000, \"fertility\": 7.4792, \"life_expect\": 42.129, \"n_fertility\": null, \"n_life_expect\": null, \"country\": \"Afghanistan\", \"p_fertility\": 8.0, \"p_life_expect\": 41.763}, {\"_comment\": null, \"year\": 2000, \"fertility\": 0.9400000000000001, \"life_expect\": 81.495, \"n_fertility\": null, \"n_life_expect\": null, \"country\": \"Hong Kong\", \"p_fertility\": 1.08, \"p_life_expect\": 80.0}, {\"_comment\": null, \"year\": 2000, \"fertility\": 1.291, \"life_expect\": 82.0, \"n_fertility\": null, \"n_life_expect\": null, \"country\": \"Japan\", \"p_fertility\": 1.3900000000000001, \"p_life_expect\": 80.69}, {\"_comment\": null, \"year\": 2000, \"fertility\": 1.9173, \"life_expect\": 66.662, \"n_fertility\": null, \"n_life_expect\": null, \"country\": \"South Korea\", \"p_fertility\": 2.0938, \"p_life_expect\": 67.727}, {\"_comment\": null, \"year\": 2000, \"fertility\": 1.242, \"life_expect\": 77.045, \"n_fertility\": null, \"n_life_expect\": null, \"country\": \"North Korea\", \"p_fertility\": 1.514, \"p_life_expect\": 74.647}, {\"_comment\": null, \"year\": 2000, \"fertility\": 3.5436, \"life_expect\": 70.303, \"n_fertility\": null, \"n_life_expect\": null, \"country\": \"Philippines\", \"p_fertility\": 3.7248, \"p_life_expect\": 68.564}, {\"_comment\": null, \"year\": 2000, \"fertility\": 6.01, \"life_expect\": 43.413, \"n_fertility\": null, \"n_life_expect\": null, \"country\": \"Rwanda\", \"p_fertility\": 6.0993, \"p_life_expect\": 36.087}]}}, {\"mode\": \"vega-lite\"});\n",
       "</script>"
      ],
      "text/plain": [
       "alt.Chart(...)"
      ]
     },
     "execution_count": 6,
     "metadata": {},
     "output_type": "execute_result"
    }
   ],
   "source": [
    "source = countries.query('(year == 2000) and (country == @filter_list)')\n",
    "alt.Chart(\n",
    "    source,\n",
    ").mark_bar(\n",
    "    color='#929ae9'                   # 막대 색상\n",
    ").encode(\n",
    "    x=alt.X('fertility', \n",
    "            axis=alt.Axis(title='출산율')), \n",
    "    y=alt.Y('country', \n",
    "            sort='-x', \n",
    "            axis=alt.Axis(title='국가', \n",
    "                          titleAngle=360, \n",
    "                          titlePadding=20)), \n",
    ").properties(\n",
    "    width=600,\n",
    "    height=400, \n",
    "    title={\n",
    "      \"text\": [\"국가별 출산율\"], \n",
    "      \"subtitle\": [\"(2000년 기준)\"],\n",
    "      \"color\": \"#0516cd\",             # 차트 제목 색상  \n",
    "      \"subtitleColor\": \"#0516cd\"      # 차트 제목 색상   \n",
    "    }, \n",
    ").configure_axis(\n",
    "    labelFontSize=12, \n",
    "    labelColor='#7780e4',             # 축 레이블 색상\n",
    "    titleFontSize=16, \n",
    "    titleColor='#525edc'              # 축 제목 색상\n",
    ").configure_title(   \n",
    "    fontSize=24, \n",
    ")"
   ]
  },
  {
   "cell_type": "code",
   "execution_count": null,
   "id": "68f43bf2",
   "metadata": {},
   "outputs": [],
   "source": []
  },
  {
   "cell_type": "code",
   "execution_count": null,
   "id": "ca8e3238",
   "metadata": {},
   "outputs": [],
   "source": []
  }
 ],
 "metadata": {
  "kernelspec": {
   "display_name": "Python 3",
   "language": "python",
   "name": "python3"
  },
  "language_info": {
   "codemirror_mode": {
    "name": "ipython",
    "version": 3
   },
   "file_extension": ".py",
   "mimetype": "text/x-python",
   "name": "python",
   "nbconvert_exporter": "python",
   "pygments_lexer": "ipython3",
   "version": "3.8.11"
  },
  "latex_envs": {
   "LaTeX_envs_menu_present": true,
   "autoclose": false,
   "autocomplete": true,
   "bibliofile": "biblio.bib",
   "cite_by": "apalike",
   "current_citInitial": 1,
   "eqLabelWithNumbers": true,
   "eqNumInitial": 1,
   "hotkeys": {
    "equation": "Ctrl-E",
    "itemize": "Ctrl-I"
   },
   "labels_anchors": false,
   "latex_user_defs": false,
   "report_style_numbering": false,
   "user_envs_cfg": false
  },
  "toc": {
   "base_numbering": 1,
   "nav_menu": {},
   "number_sections": true,
   "sideBar": true,
   "skip_h1_title": true,
   "title_cell": "Table of Contents",
   "title_sidebar": "Contents",
   "toc_cell": false,
   "toc_position": {},
   "toc_section_display": true,
   "toc_window_display": true
  },
  "varInspector": {
   "cols": {
    "lenName": 16,
    "lenType": 16,
    "lenVar": 40
   },
   "kernels_config": {
    "python": {
     "delete_cmd_postfix": "",
     "delete_cmd_prefix": "del ",
     "library": "var_list.py",
     "varRefreshCmd": "print(var_dic_list())"
    },
    "r": {
     "delete_cmd_postfix": ") ",
     "delete_cmd_prefix": "rm(",
     "library": "var_list.r",
     "varRefreshCmd": "cat(var_dic_list()) "
    }
   },
   "types_to_exclude": [
    "module",
    "function",
    "builtin_function_or_method",
    "instance",
    "_Feature"
   ],
   "window_display": false
  }
 },
 "nbformat": 4,
 "nbformat_minor": 5
}
