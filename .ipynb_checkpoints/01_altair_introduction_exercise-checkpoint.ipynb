{
 "cells": [
  {
   "cell_type": "markdown",
   "id": "99d84489",
   "metadata": {},
   "source": [
    "# 알테어 시각화 과제 01 "
   ]
  },
  {
   "cell_type": "markdown",
   "id": "6aa94955",
   "metadata": {},
   "source": [
    "## 1. [0.5 점] (판다스, 알테어) 라이브러리를 (pd, alt)라는 별칭으로 수입하라. "
   ]
  },
  {
   "cell_type": "code",
   "execution_count": 1,
   "id": "8dbc6dd1",
   "metadata": {},
   "outputs": [],
   "source": [
    "# 라이브러리 수입 코드를 작성하라. \n",
    " "
   ]
  },
  {
   "cell_type": "markdown",
   "id": "f2580bd9",
   "metadata": {},
   "source": [
    "## 2. [0.5 점] 베가 데이터세트로부터 `data`를 수입하라. "
   ]
  },
  {
   "cell_type": "code",
   "execution_count": 2,
   "id": "a3f1fa5f",
   "metadata": {},
   "outputs": [],
   "source": [
    "# 베가 데이터세트로부터 data를 수입하는 코드를 작성하라. \n",
    " "
   ]
  },
  {
   "cell_type": "markdown",
   "id": "23448093",
   "metadata": {},
   "source": [
    "## 3.  [0.5 점] 베가 데이터 세트의 목록을 확인하라. \n",
    "\n",
    "힌트: `list_datasets` 메소드를 활용하라."
   ]
  },
  {
   "cell_type": "code",
   "execution_count": 3,
   "id": "efc427ba",
   "metadata": {
    "scrolled": true
   },
   "outputs": [],
   "source": [
    "# 베가 데이터 세트의 목록을 확인하는 코드를 작성하라. \n"
   ]
  },
  {
   "cell_type": "markdown",
   "id": "fd03020e",
   "metadata": {},
   "source": [
    "## 4. [0.5 점] 베가 데이터 세트에서 `countries` 데이터를 같은 이름의 데이터프레임으로 입력하라. \n",
    "\n",
    "해당 데이터가 국가별 연도별 데이터라는 사실을 출력하여 확인하라. "
   ]
  },
  {
   "cell_type": "code",
   "execution_count": 4,
   "id": "3073bc96",
   "metadata": {
    "scrolled": false
   },
   "outputs": [],
   "source": [
    "# countries 데이터를 같은 이름의 데이터프레임으로 입력하는 코드를 작성하라. \n",
    "         "
   ]
  },
  {
   "cell_type": "markdown",
   "id": "0eef2ab7",
   "metadata": {},
   "source": [
    "## 5. [1.0 점] `year` 열의 최대값을 확인하라. "
   ]
  },
  {
   "cell_type": "code",
   "execution_count": 5,
   "id": "a0b0dfdc",
   "metadata": {
    "scrolled": true
   },
   "outputs": [],
   "source": [
    "# 연도의 최대값을 확인하는 코드를 작성하라. \n"
   ]
  },
  {
   "cell_type": "markdown",
   "id": "0b249256",
   "metadata": {},
   "source": [
    "## 6. [1.0 점] 시각화 대상 국가를 제한하기 위한 리스트 변수를 작성하라. \n",
    "\n",
    "리스트 이름은 `filter_list`로 지정하라.   \n",
    "리스트 항목은 '남한', '북한', '홍콩', '일본', '필리핀', '르완다', '아프가니스탄'의 7개 국가로 지정하라. "
   ]
  },
  {
   "cell_type": "code",
   "execution_count": 6,
   "id": "99b049d5",
   "metadata": {},
   "outputs": [],
   "source": [
    "# 시각화 대상 국가를 제한하는 리스트 변수를 정의하라. \n"
   ]
  },
  {
   "cell_type": "markdown",
   "id": "b608845c",
   "metadata": {},
   "source": [
    "## 7. [2.0 점]시각화 원천 데이터를 정의하라. \n",
    "\n",
    "데이터프레임 이름을 `source`로 지정하라. \n",
    "데이터프레임에 저장할 데이터는 `countries`로부터 `filter_list`에서 지정한 국가에 대한 2000년도 데이터로 지정하라.  "
   ]
  },
  {
   "cell_type": "code",
   "execution_count": 7,
   "id": "ea11f3ad",
   "metadata": {},
   "outputs": [],
   "source": [
    "# countries 데이터프레임로부터 filter_list에 지정된 국가의 2000년도 데이터만을 추출하여 source라는 데이터프레임에 저장하라. \n"
   ]
  },
  {
   "cell_type": "markdown",
   "id": "36bf6a81",
   "metadata": {},
   "source": [
    "## 8. [6.0 점] 아래와 같은 차트와 최대한 유사하도록 시각화를 수행하라. \n",
    "\n",
    "- [2.0 점] 수평 막대 차트의 막대 크기가 2000년도 기준 출산율로 바르게 표시\n",
    "- [1.0 점] 출산율 기준으로 내림차순 정렬된 7개 국가가 y축 눈금에 표시 \n",
    "- [0.5 점] x 축 제목을 '출산율'이라고 한글로 표시  \n",
    "- [0.5 점] y 축 제목을 '국가'라고 한글로 표시\n",
    "- [1.0 점] y 축 제목을 다른 한글과 같은 각도로 표시\n",
    "- [0.5 점] 차트 주 제목을 '국가별 출산율'과 같이 부 제목보다 큰 글꼴로 표시\n",
    "- [0.5 점] 차트 부 제목을 '(2000년 기준)'과 같이 주 제목보다 작은 글꼴로 표시\n",
    "\n",
    "\n",
    "![fetility](https://user-images.githubusercontent.com/10287629/140648216-3aff5aa0-0489-4f7e-87d8-bafb2ff94bf3.png)\n"
   ]
  },
  {
   "cell_type": "code",
   "execution_count": 8,
   "id": "b5aa7310",
   "metadata": {},
   "outputs": [],
   "source": [
    "# 시각화 코드를 작성하라. \n"
   ]
  }
 ],
 "metadata": {
  "kernelspec": {
   "display_name": "Python 3",
   "language": "python",
   "name": "python3"
  },
  "language_info": {
   "codemirror_mode": {
    "name": "ipython",
    "version": 3
   },
   "file_extension": ".py",
   "mimetype": "text/x-python",
   "name": "python",
   "nbconvert_exporter": "python",
   "pygments_lexer": "ipython3",
   "version": "3.8.11"
  },
  "latex_envs": {
   "LaTeX_envs_menu_present": true,
   "autoclose": false,
   "autocomplete": true,
   "bibliofile": "biblio.bib",
   "cite_by": "apalike",
   "current_citInitial": 1,
   "eqLabelWithNumbers": true,
   "eqNumInitial": 1,
   "hotkeys": {
    "equation": "Ctrl-E",
    "itemize": "Ctrl-I"
   },
   "labels_anchors": false,
   "latex_user_defs": false,
   "report_style_numbering": false,
   "user_envs_cfg": false
  },
  "toc": {
   "base_numbering": 1,
   "nav_menu": {},
   "number_sections": false,
   "sideBar": true,
   "skip_h1_title": false,
   "title_cell": "Table of Contents",
   "title_sidebar": "Contents",
   "toc_cell": false,
   "toc_position": {},
   "toc_section_display": true,
   "toc_window_display": true
  },
  "varInspector": {
   "cols": {
    "lenName": 16,
    "lenType": 16,
    "lenVar": 40
   },
   "kernels_config": {
    "python": {
     "delete_cmd_postfix": "",
     "delete_cmd_prefix": "del ",
     "library": "var_list.py",
     "varRefreshCmd": "print(var_dic_list())"
    },
    "r": {
     "delete_cmd_postfix": ") ",
     "delete_cmd_prefix": "rm(",
     "library": "var_list.r",
     "varRefreshCmd": "cat(var_dic_list()) "
    }
   },
   "types_to_exclude": [
    "module",
    "function",
    "builtin_function_or_method",
    "instance",
    "_Feature"
   ],
   "window_display": false
  }
 },
 "nbformat": 4,
 "nbformat_minor": 5
}
