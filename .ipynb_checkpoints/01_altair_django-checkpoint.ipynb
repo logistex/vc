{
 "cells": [
  {
   "cell_type": "markdown",
   "id": "42d84728",
   "metadata": {},
   "source": [
    "# 알테어 시각화 결과를 장고로 배포하기 \n",
    "\n",
    "- [신교수 파이썬애니웨어 사이트](http://logistex2021.pythonanywhere.com)\n",
    "  - {'id'; '손님', 'pw'; '0000'}으로 로그인\n",
    "  - `차트` 메뉴 중 처음 두 하위 메뉴가 알테어로 작성한 차트 \n",
    "    - `알테어 산점도`\n",
    "    - `알테어 상호작용`    "
   ]
  },
  {
   "cell_type": "markdown",
   "id": "109cce46",
   "metadata": {
    "slideshow": {
     "slide_type": "skip"
    }
   },
   "source": [
    "- [신교수 파이썬애니웨어 사이트를 위한 깃허브 저장소](https://github.com/logistex/pa21)"
   ]
  },
  {
   "cell_type": "markdown",
   "id": "f384fc2b",
   "metadata": {},
   "source": [
    "- 알테어 관련 패키지 설치\n",
    "  ```shell\n",
    "  $ conda install -c conda-forge altair vega_datasets vega\n",
    "  ```\n",
    "- 알테어 차트를 장고로 배포하는 방법\n",
    "  - 뷰에서 알테어 차트를 json 형식으로 저장하여 템플릿으로 전달\n",
    "  - 템플릿에서는 전달받은 json 형식 차트 명세를 `spec` 변수에 지정"
   ]
  },
  {
   "cell_type": "markdown",
   "id": "12ad2776",
   "metadata": {},
   "source": [
    "- `알테어 산점도` 작성을 위한 코드\n",
    "  - 뷰 코드  \n",
    "    ```python\n",
    "    # views.py \n",
    "    def alt_django(request):\n",
    "        import altair as alt\n",
    "        from vega_datasets import data\n",
    "\n",
    "        cars = data.cars()\n",
    "        chart_json = alt.Chart(cars).mark_circle().encode(\n",
    "            alt.X('Miles_per_Gallon'),\n",
    "            alt.Y('Horsepower'),\n",
    "            alt.Color('Origin'),\n",
    "        ).to_json()                                                                 # 차트를 json 형식으로 저장 \n",
    "        return render(request, 'chart/alt_chart.html', {'chart_json': chart_json})  # 저장한 json 형식 차트를 템플릿으로 전달\n",
    "    ```  \n",
    "  \n",
    "  - 템플릿 코드\n",
    "    ```html\n",
    "    <!DOCTYPE html>\n",
    "    <html>\n",
    "      <head>\n",
    "        <script src=\"https://cdn.jsdelivr.net/npm/vega@5\"></script>\n",
    "        <script src=\"https://cdn.jsdelivr.net/npm/vega-lite@3\"></script>\n",
    "        <script src=\"https://cdn.jsdelivr.net/npm/vega-embed@4\"></script>\n",
    "      </head>\n",
    "      <body>\n",
    "        <div id=\"vis\"></div>                                                                      \n",
    "        <script type=\"text/javascript\">\n",
    "            var spec = {{ chart_json|safe }};                    /* json 형식 차트를 지정 */   \n",
    "            var opt = {\"renderer\": \"canvas\", \"actions\": false};    \n",
    "            vegaEmbed(\"#vis\", spec, opt);\n",
    "        </script>\n",
    "      </body>\n",
    "    </html>\n",
    "    ```"
   ]
  },
  {
   "cell_type": "markdown",
   "id": "9606d7b4",
   "metadata": {},
   "source": [
    "- `알테어 상호작용` 작성을 위한 코드\n",
    "  - 뷰 코드  \n",
    "    ```python\n",
    "    # views.py \n",
    "    def alt_interactive(request):\n",
    "        import altair as alt\n",
    "        from vega_datasets import data\n",
    "        \n",
    "        domain = ['Europe', 'Japan', 'USA', ]\n",
    "        range_ = ['red', 'green', 'blue', ]\n",
    "\n",
    "        cars = data.cars()\n",
    "        # x-축 인코딩에 대한 선택 구간 생성하여 브러쉬로 정의\n",
    "        brush = alt.selection_interval(encodings=['x'], )\n",
    "\n",
    "        # 브러쉬에 해당하면 진하게, 브러시에서 벗어나면 연하게\n",
    "        opacity = alt.condition(brush, alt.value(0.9), alt.value(0.1), )\n",
    "\n",
    "        # 연도별 자동차 도수를 개괄하는 도수분포도\n",
    "        # 연도별 자동차 도수를 선택하는 상호작용적 구간 브러쉬 추가\n",
    "        overview = alt.Chart(cars).mark_bar().encode(\n",
    "            alt.X('Year:O', timeUnit='year',                # 연도를 추출하고 서수형으로 지정\n",
    "                  axis=alt.Axis(title=None, labelAngle=0),  # 축 제목 생략, 축 눈금 레이블 각도 생략\n",
    "                  ),\n",
    "            alt.Y('count()', title=None),                   # 도수, 축 제목 생략\n",
    "            opacity=opacity,\n",
    "        ).add_selection(\n",
    "            brush,                                          # 차트에 대한 구간 브러쉬 선택 추가\n",
    "        ).properties(\n",
    "            width=800,                                      # 차트   폭 800 픽셀로 설정\n",
    "            height=150,                                     # 차트 높이 150 픽셀로 설정\n",
    "            title = {\n",
    "                'text': ['', '알테어 상호작용성', ''],\n",
    "                'subtitle': ['자동차 히스토그램'],\n",
    "            },\n",
    "        )\n",
    "\n",
    "        # 개괄 도수분포도에 대응하는 상세 마력-연비 산점도\n",
    "        # 브러쉬 선택에 대응하는 산점도 내부 점의 투명도 조절\n",
    "        detail = alt.Chart(cars).mark_circle().encode(\n",
    "            alt.X('Miles_per_Gallon', axis=alt.Axis(title='연비 [단위: 갤론 당 마일]'), ),\n",
    "            alt.Y('Horsepower', axis=alt.Axis(title='마력'), ),\n",
    "            alt.Color('Origin',\n",
    "                      legend=alt.Legend(\n",
    "                          title='원산지',\n",
    "                          orient='none',\n",
    "                          legendX=820,\n",
    "                          legendY=230,\n",
    "                      ),\n",
    "                      scale=alt.Scale(domain=domain, range=range_, ), \n",
    "            ),\n",
    "            opacity=opacity,                                # 브러쉬 선택에 대응하여 투명도 조절\n",
    "        ).properties(\n",
    "            width=800,                                      # 차트 폭을 상단 차트와 동일하게 설정\n",
    "            height=500,\n",
    "            title={\n",
    "                'text': [''],\n",
    "                'subtitle': ['연비-마력 산점도'], \n",
    "            },\n",
    "        )\n",
    "\n",
    "        # '&' 연산자로 차트 수직 병합\n",
    "        interlinked = overview & detail\n",
    "        interlinked_json = interlinked.to_json()\n",
    "        return render(request, 'chart/alt_interactive.html', {'interlinked_json': interlinked_json})\n",
    "    ```  \n",
    "  \n",
    "  - 템플릿 코드\n",
    "    ```html\n",
    "    <!DOCTYPE html>\n",
    "    <html>\n",
    "      <head>\n",
    "        <script src=\"https://cdn.jsdelivr.net/npm/vega@5\"></script>\n",
    "        <script src=\"https://cdn.jsdelivr.net/npm/vega-lite@3\"></script>\n",
    "        <script src=\"https://cdn.jsdelivr.net/npm/vega-embed@4\"></script>\n",
    "      </head>\n",
    "      <body>\n",
    "        <div id=\"vis\"></div>                                                                      \n",
    "        <script type=\"text/javascript\">\n",
    "            var spec = {{ interlinked_json|safe }};              /* json 형식 차트를 지정 */   \n",
    "            var opt = {\"renderer\": \"canvas\", \"actions\": false};    \n",
    "            vegaEmbed(\"#vis\", spec, opt);\n",
    "        </script>\n",
    "      </body>\n",
    "    </html>\n",
    "    ```"
   ]
  }
 ],
 "metadata": {
  "celltoolbar": "Slideshow",
  "kernelspec": {
   "display_name": "Python 3",
   "language": "python",
   "name": "python3"
  },
  "language_info": {
   "codemirror_mode": {
    "name": "ipython",
    "version": 3
   },
   "file_extension": ".py",
   "mimetype": "text/x-python",
   "name": "python",
   "nbconvert_exporter": "python",
   "pygments_lexer": "ipython3",
   "version": "3.8.11"
  },
  "latex_envs": {
   "LaTeX_envs_menu_present": true,
   "autoclose": false,
   "autocomplete": true,
   "bibliofile": "biblio.bib",
   "cite_by": "apalike",
   "current_citInitial": 1,
   "eqLabelWithNumbers": true,
   "eqNumInitial": 1,
   "hotkeys": {
    "equation": "Ctrl-E",
    "itemize": "Ctrl-I"
   },
   "labels_anchors": false,
   "latex_user_defs": false,
   "report_style_numbering": false,
   "user_envs_cfg": false
  },
  "toc": {
   "base_numbering": 1,
   "nav_menu": {},
   "number_sections": true,
   "sideBar": true,
   "skip_h1_title": true,
   "title_cell": "Table of Contents",
   "title_sidebar": "Contents",
   "toc_cell": false,
   "toc_position": {},
   "toc_section_display": true,
   "toc_window_display": true
  },
  "varInspector": {
   "cols": {
    "lenName": 16,
    "lenType": 16,
    "lenVar": 40
   },
   "kernels_config": {
    "python": {
     "delete_cmd_postfix": "",
     "delete_cmd_prefix": "del ",
     "library": "var_list.py",
     "varRefreshCmd": "print(var_dic_list())"
    },
    "r": {
     "delete_cmd_postfix": ") ",
     "delete_cmd_prefix": "rm(",
     "library": "var_list.r",
     "varRefreshCmd": "cat(var_dic_list()) "
    }
   },
   "types_to_exclude": [
    "module",
    "function",
    "builtin_function_or_method",
    "instance",
    "_Feature"
   ],
   "window_display": false
  }
 },
 "nbformat": 4,
 "nbformat_minor": 5
}
