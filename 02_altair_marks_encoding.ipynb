{
 "cells": [
  {
   "cell_type": "markdown",
   "metadata": {
    "slideshow": {
     "slide_type": "slide"
    }
   },
   "source": [
    "알테어를 활용한 탐색적 데이터 시각화\n",
    "===\n",
    "\n",
    "(Explorative Data Visualization with Altair)\n",
    "===\n",
    "\n",
    "![altair](https://user-images.githubusercontent.com/10287629/138803189-907e3229-ba81-49c1-be97-0df36a01f013.png)\n",
    "\n",
    "<div style=\"page-break-after: always;\"></div>"
   ]
  },
  {
   "cell_type": "markdown",
   "metadata": {
    "colab_type": "text",
    "id": "IyWDKt1wJhjq",
    "slideshow": {
     "slide_type": "slide"
    }
   },
   "source": [
    "# 2장. 데이터 유형, 마크 및 인코딩 채널\n",
    "\n",
    "- 다음과 같은 기본적 요소를 가지고, 다양한 데이터 시각화 결과를 완성할 수 있다.\n",
    "  - _데이터 유형_\n",
    "  - _마크_\n",
    "  - _인코딩 채널_\n",
    "- 데이터 시각화는 _그래픽 마크_(graphical mark)의 집합체로 완성된다.  \n",
    "  - 마크의 속성에는 위치(position), 모양(shape), 크기(size), 색상(color) 등이 포함된다.  \n",
    "  - 이러한 마크는 _채널_(channel)을 통하여 특정 데이터 값에 인코드(encode)된다. \n",
    "- 이들에 대해서 살펴보고, 이들에 대한 사용 방법을 공부하자.\n",
    "![altair_scatter](https://user-images.githubusercontent.com/10287629/141655740-1db9102d-6b97-4783-98b0-80531715695e.png)"
   ]
  },
  {
   "cell_type": "markdown",
   "metadata": {
    "slideshow": {
     "slide_type": "subslide"
    }
   },
   "source": [
    "- _이 노트북은 [data visualization curriculum](https://github.com/uwdata/visualization-curriculum)의 일부이다._ "
   ]
  },
  {
   "cell_type": "code",
   "execution_count": 1,
   "metadata": {
    "colab": {},
    "colab_type": "code",
    "id": "Y5K12kFBKE6v",
    "slideshow": {
     "slide_type": "fragment"
    }
   },
   "outputs": [],
   "source": [
    "import pandas as pd\n",
    "import altair as alt"
   ]
  },
  {
   "cell_type": "markdown",
   "metadata": {
    "colab_type": "text",
    "id": "dkfRE2_2KOZ9",
    "slideshow": {
     "slide_type": "slide"
    }
   },
   "source": [
    "## 1. 세계 개발 데이터\n"
   ]
  },
  {
   "cell_type": "markdown",
   "metadata": {
    "colab_type": "text",
    "id": "LbfvKf2tzCmb",
    "slideshow": {
     "slide_type": "fragment"
    }
   },
   "source": [
    "- 세계 개발 데이터는 세계 각국의 건강과 인구에 관한 데이터이다.\n",
    "  - `year`(연도): 1955년부터 2005년까지\n",
    "  - `country`(국가): 63개 국가\n",
    "  - `pop`(인구), `life_expect`(기대 수명), `fertility`(출산율)\n",
    "  - 수집 주체: [Gapminder Foundation](https://www.gapminder.org/)\n",
    "  - 강연: [Hans Rosling's popular TED talk](https://youtu.be/hVimVzgtD6w?t=306)"
   ]
  },
  {
   "cell_type": "code",
   "execution_count": 2,
   "metadata": {
    "pycharm": {
     "name": "#%%\n"
    },
    "slideshow": {
     "slide_type": "subslide"
    }
   },
   "outputs": [
    {
     "data": {
      "text/html": [
       "\n",
       "        <iframe\n",
       "            width=\"400\"\n",
       "            height=\"300\"\n",
       "            src=\"https://www.youtube.com/embed/hVimVzgtD6w?t=300\"\n",
       "            frameborder=\"0\"\n",
       "            allowfullscreen\n",
       "        ></iframe>\n",
       "        "
      ],
      "text/plain": [
       "<IPython.lib.display.YouTubeVideo at 0x20ba70c5e20>"
      ]
     },
     "metadata": {},
     "output_type": "display_data"
    }
   ],
   "source": [
    "# import IPython.display.YouTubeVideo class.\n",
    "from IPython.display import YouTubeVideo\n",
    "# create an instance of YouTubeVideo class with provided youtube video id.\n",
    "youtube_video = YouTubeVideo('hVimVzgtD6w?t=300')\n",
    "# display youtube video\n",
    "display(youtube_video)"
   ]
  },
  {
   "cell_type": "markdown",
   "metadata": {
    "slideshow": {
     "slide_type": "fragment"
    }
   },
   "source": [
    "- 세계 개발 데이터를 시각화하기 위하여,\n",
    "  [vega-datasets](https://github.com/vega/vega-datasets) 컬렉션으로부터  \n",
    "  판다스 데이터프레임으로 적재하자.  "
   ]
  },
  {
   "cell_type": "code",
   "execution_count": 3,
   "metadata": {
    "colab": {},
    "colab_type": "code",
    "id": "cMgPRofkJHJP",
    "slideshow": {
     "slide_type": "fragment"
    }
   },
   "outputs": [],
   "source": [
    "from vega_datasets import data as vega_data\n",
    "# data = pd.read_json(vega_data.gapminder.url)\n",
    "data = vega_data.gapminder()"
   ]
  },
  {
   "cell_type": "markdown",
   "metadata": {
    "colab_type": "text",
    "id": "ioAtaF9P0IMX",
    "slideshow": {
     "slide_type": "subslide"
    }
   },
   "source": [
    "- 데이터 세트의 규모를 파악해 보자. "
   ]
  },
  {
   "cell_type": "code",
   "execution_count": 4,
   "metadata": {
    "colab": {
     "base_uri": "https://localhost:8080/",
     "height": 34
    },
    "colab_type": "code",
    "id": "oM-Lodk_KK8T",
    "outputId": "134a2f4a-c15d-4fcd-fd93-49b26a4f5e30",
    "scrolled": true,
    "slideshow": {
     "slide_type": "fragment"
    }
   },
   "outputs": [
    {
     "data": {
      "text/plain": [
       "(693, 6)"
      ]
     },
     "execution_count": 4,
     "metadata": {},
     "output_type": "execute_result"
    }
   ],
   "source": [
    "data.shape"
   ]
  },
  {
   "cell_type": "markdown",
   "metadata": {
    "colab_type": "text",
    "id": "spJtZFQN0KCQ",
    "slideshow": {
     "slide_type": "fragment"
    }
   },
   "source": [
    "- 693행 및 6 열! 데이터 내용을 들여다 보자: "
   ]
  },
  {
   "cell_type": "code",
   "execution_count": 5,
   "metadata": {
    "colab": {
     "base_uri": "https://localhost:8080/",
     "height": 204
    },
    "colab_type": "code",
    "id": "SpB2dH0JKVJe",
    "outputId": "ec103505-4d8f-4310-a6e1-7eea3d789c28",
    "scrolled": true,
    "slideshow": {
     "slide_type": "fragment"
    }
   },
   "outputs": [
    {
     "data": {
      "text/html": [
       "<div>\n",
       "<style scoped>\n",
       "    .dataframe tbody tr th:only-of-type {\n",
       "        vertical-align: middle;\n",
       "    }\n",
       "\n",
       "    .dataframe tbody tr th {\n",
       "        vertical-align: top;\n",
       "    }\n",
       "\n",
       "    .dataframe thead th {\n",
       "        text-align: right;\n",
       "    }\n",
       "</style>\n",
       "<table border=\"1\" class=\"dataframe\">\n",
       "  <thead>\n",
       "    <tr style=\"text-align: right;\">\n",
       "      <th></th>\n",
       "      <th>year</th>\n",
       "      <th>country</th>\n",
       "      <th>cluster</th>\n",
       "      <th>pop</th>\n",
       "      <th>life_expect</th>\n",
       "      <th>fertility</th>\n",
       "    </tr>\n",
       "  </thead>\n",
       "  <tbody>\n",
       "    <tr>\n",
       "      <th>0</th>\n",
       "      <td>1955</td>\n",
       "      <td>Afghanistan</td>\n",
       "      <td>0</td>\n",
       "      <td>8891209</td>\n",
       "      <td>30.332</td>\n",
       "      <td>7.7</td>\n",
       "    </tr>\n",
       "    <tr>\n",
       "      <th>1</th>\n",
       "      <td>1960</td>\n",
       "      <td>Afghanistan</td>\n",
       "      <td>0</td>\n",
       "      <td>9829450</td>\n",
       "      <td>31.997</td>\n",
       "      <td>7.7</td>\n",
       "    </tr>\n",
       "    <tr>\n",
       "      <th>2</th>\n",
       "      <td>1965</td>\n",
       "      <td>Afghanistan</td>\n",
       "      <td>0</td>\n",
       "      <td>10997885</td>\n",
       "      <td>34.020</td>\n",
       "      <td>7.7</td>\n",
       "    </tr>\n",
       "    <tr>\n",
       "      <th>3</th>\n",
       "      <td>1970</td>\n",
       "      <td>Afghanistan</td>\n",
       "      <td>0</td>\n",
       "      <td>12430623</td>\n",
       "      <td>36.088</td>\n",
       "      <td>7.7</td>\n",
       "    </tr>\n",
       "    <tr>\n",
       "      <th>4</th>\n",
       "      <td>1975</td>\n",
       "      <td>Afghanistan</td>\n",
       "      <td>0</td>\n",
       "      <td>14132019</td>\n",
       "      <td>38.438</td>\n",
       "      <td>7.7</td>\n",
       "    </tr>\n",
       "  </tbody>\n",
       "</table>\n",
       "</div>"
      ],
      "text/plain": [
       "   year      country  cluster       pop  life_expect  fertility\n",
       "0  1955  Afghanistan        0   8891209       30.332        7.7\n",
       "1  1960  Afghanistan        0   9829450       31.997        7.7\n",
       "2  1965  Afghanistan        0  10997885       34.020        7.7\n",
       "3  1970  Afghanistan        0  12430623       36.088        7.7\n",
       "4  1975  Afghanistan        0  14132019       38.438        7.7"
      ]
     },
     "execution_count": 5,
     "metadata": {},
     "output_type": "execute_result"
    }
   ],
   "source": [
    "data.head(5)"
   ]
  },
  {
   "cell_type": "markdown",
   "metadata": {
    "slideshow": {
     "slide_type": "subslide"
    }
   },
   "source": [
    "- 데이터에 관한 주요 통계량을 살펴보자. \n",
    "  - unique: 중복 없는 값의 개수 (63개 국가)\n",
    "  - top: (비수치 값에 대하여, 가장 자주 등장하는) 최빈값\n",
    "  - freq: 최빈값의 등장 횟수"
   ]
  },
  {
   "cell_type": "code",
   "execution_count": 6,
   "metadata": {
    "scrolled": false,
    "slideshow": {
     "slide_type": "fragment"
    }
   },
   "outputs": [
    {
     "data": {
      "text/html": [
       "<div>\n",
       "<style scoped>\n",
       "    .dataframe tbody tr th:only-of-type {\n",
       "        vertical-align: middle;\n",
       "    }\n",
       "\n",
       "    .dataframe tbody tr th {\n",
       "        vertical-align: top;\n",
       "    }\n",
       "\n",
       "    .dataframe thead th {\n",
       "        text-align: right;\n",
       "    }\n",
       "</style>\n",
       "<table border=\"1\" class=\"dataframe\">\n",
       "  <thead>\n",
       "    <tr style=\"text-align: right;\">\n",
       "      <th></th>\n",
       "      <th>year</th>\n",
       "      <th>country</th>\n",
       "      <th>cluster</th>\n",
       "      <th>pop</th>\n",
       "      <th>life_expect</th>\n",
       "      <th>fertility</th>\n",
       "    </tr>\n",
       "  </thead>\n",
       "  <tbody>\n",
       "    <tr>\n",
       "      <th>count</th>\n",
       "      <td>693.000000</td>\n",
       "      <td>693</td>\n",
       "      <td>693.000000</td>\n",
       "      <td>6.930000e+02</td>\n",
       "      <td>693.000000</td>\n",
       "      <td>693.000000</td>\n",
       "    </tr>\n",
       "    <tr>\n",
       "      <th>unique</th>\n",
       "      <td>NaN</td>\n",
       "      <td>63</td>\n",
       "      <td>NaN</td>\n",
       "      <td>NaN</td>\n",
       "      <td>NaN</td>\n",
       "      <td>NaN</td>\n",
       "    </tr>\n",
       "    <tr>\n",
       "      <th>top</th>\n",
       "      <td>NaN</td>\n",
       "      <td>Afghanistan</td>\n",
       "      <td>NaN</td>\n",
       "      <td>NaN</td>\n",
       "      <td>NaN</td>\n",
       "      <td>NaN</td>\n",
       "    </tr>\n",
       "    <tr>\n",
       "      <th>freq</th>\n",
       "      <td>NaN</td>\n",
       "      <td>11</td>\n",
       "      <td>NaN</td>\n",
       "      <td>NaN</td>\n",
       "      <td>NaN</td>\n",
       "      <td>NaN</td>\n",
       "    </tr>\n",
       "    <tr>\n",
       "      <th>mean</th>\n",
       "      <td>1980.000000</td>\n",
       "      <td>NaN</td>\n",
       "      <td>2.476190</td>\n",
       "      <td>5.623431e+07</td>\n",
       "      <td>66.146406</td>\n",
       "      <td>3.605755</td>\n",
       "    </tr>\n",
       "    <tr>\n",
       "      <th>std</th>\n",
       "      <td>15.822809</td>\n",
       "      <td>NaN</td>\n",
       "      <td>1.446971</td>\n",
       "      <td>1.553014e+08</td>\n",
       "      <td>10.714033</td>\n",
       "      <td>1.921234</td>\n",
       "    </tr>\n",
       "    <tr>\n",
       "      <th>min</th>\n",
       "      <td>1955.000000</td>\n",
       "      <td>NaN</td>\n",
       "      <td>0.000000</td>\n",
       "      <td>5.386500e+04</td>\n",
       "      <td>23.599000</td>\n",
       "      <td>0.940000</td>\n",
       "    </tr>\n",
       "    <tr>\n",
       "      <th>25%</th>\n",
       "      <td>1965.000000</td>\n",
       "      <td>NaN</td>\n",
       "      <td>1.000000</td>\n",
       "      <td>4.563732e+06</td>\n",
       "      <td>59.957000</td>\n",
       "      <td>2.015000</td>\n",
       "    </tr>\n",
       "    <tr>\n",
       "      <th>50%</th>\n",
       "      <td>1980.000000</td>\n",
       "      <td>NaN</td>\n",
       "      <td>3.000000</td>\n",
       "      <td>1.229200e+07</td>\n",
       "      <td>69.498000</td>\n",
       "      <td>2.930000</td>\n",
       "    </tr>\n",
       "    <tr>\n",
       "      <th>75%</th>\n",
       "      <td>1995.000000</td>\n",
       "      <td>NaN</td>\n",
       "      <td>3.000000</td>\n",
       "      <td>4.443444e+07</td>\n",
       "      <td>73.840000</td>\n",
       "      <td>5.000500</td>\n",
       "    </tr>\n",
       "    <tr>\n",
       "      <th>max</th>\n",
       "      <td>2005.000000</td>\n",
       "      <td>NaN</td>\n",
       "      <td>5.000000</td>\n",
       "      <td>1.303182e+09</td>\n",
       "      <td>82.603000</td>\n",
       "      <td>8.500000</td>\n",
       "    </tr>\n",
       "  </tbody>\n",
       "</table>\n",
       "</div>"
      ],
      "text/plain": [
       "               year      country     cluster           pop  life_expect  \\\n",
       "count    693.000000          693  693.000000  6.930000e+02   693.000000   \n",
       "unique          NaN           63         NaN           NaN          NaN   \n",
       "top             NaN  Afghanistan         NaN           NaN          NaN   \n",
       "freq            NaN           11         NaN           NaN          NaN   \n",
       "mean    1980.000000          NaN    2.476190  5.623431e+07    66.146406   \n",
       "std       15.822809          NaN    1.446971  1.553014e+08    10.714033   \n",
       "min     1955.000000          NaN    0.000000  5.386500e+04    23.599000   \n",
       "25%     1965.000000          NaN    1.000000  4.563732e+06    59.957000   \n",
       "50%     1980.000000          NaN    3.000000  1.229200e+07    69.498000   \n",
       "75%     1995.000000          NaN    3.000000  4.443444e+07    73.840000   \n",
       "max     2005.000000          NaN    5.000000  1.303182e+09    82.603000   \n",
       "\n",
       "         fertility  \n",
       "count   693.000000  \n",
       "unique         NaN  \n",
       "top            NaN  \n",
       "freq           NaN  \n",
       "mean      3.605755  \n",
       "std       1.921234  \n",
       "min       0.940000  \n",
       "25%       2.015000  \n",
       "50%       2.930000  \n",
       "75%       5.000500  \n",
       "max       8.500000  "
      ]
     },
     "execution_count": 6,
     "metadata": {},
     "output_type": "execute_result"
    }
   ],
   "source": [
    "data.describe(include='all')"
   ]
  },
  {
   "cell_type": "markdown",
   "metadata": {
    "colab_type": "text",
    "id": "ZpJ2OTZbY3Kf",
    "slideshow": {
     "slide_type": "subslide"
    }
   },
   "source": [
    "- 국가마다 5년 주기로 데이터가 저장되어 있다. \n",
    "  - 인구 규모는 최소 5.4만명에서 최대 13억명 수준이고, 중앙값은 1.2억명 수준이다. \n",
    "  - 기대수명은 최소 23.6세에서 최대 82.6세이고, 중앙값은 69.5세 수준이다. \n",
    "  - 출산율은 최소 0.9명에서 최대 8.5명이고, 중앙값은 2.9명 수준이다. \n",
    "- `cluster` 필드에는 정수 코드가 보이는데, 이것이 무엇인지는 나중에 알아보자. "
   ]
  },
  {
   "cell_type": "markdown",
   "metadata": {
    "colab_type": "text",
    "id": "nTSCOwsEvo15",
    "slideshow": {
     "slide_type": "fragment"
    }
   },
   "source": [
    "- 데이터프레임 규모를 줄이기 위하여, 2000년도 데이터만 추출하자: "
   ]
  },
  {
   "cell_type": "code",
   "execution_count": 7,
   "metadata": {
    "colab": {},
    "colab_type": "code",
    "id": "kCVTdUK2Le_M",
    "slideshow": {
     "slide_type": "fragment"
    }
   },
   "outputs": [],
   "source": [
    "data2000 = data.loc[data['year'] == 2000]\n",
    "# data2000 = data.loc[data.year == 2000]"
   ]
  },
  {
   "cell_type": "code",
   "execution_count": 8,
   "metadata": {
    "colab": {
     "base_uri": "https://localhost:8080/",
     "height": 204
    },
    "colab_type": "code",
    "id": "mOLR5Nh-MLWm",
    "outputId": "8629f998-e723-4b92-9a95-f0df3c9843a8",
    "slideshow": {
     "slide_type": "fragment"
    }
   },
   "outputs": [
    {
     "data": {
      "text/html": [
       "<div>\n",
       "<style scoped>\n",
       "    .dataframe tbody tr th:only-of-type {\n",
       "        vertical-align: middle;\n",
       "    }\n",
       "\n",
       "    .dataframe tbody tr th {\n",
       "        vertical-align: top;\n",
       "    }\n",
       "\n",
       "    .dataframe thead th {\n",
       "        text-align: right;\n",
       "    }\n",
       "</style>\n",
       "<table border=\"1\" class=\"dataframe\">\n",
       "  <thead>\n",
       "    <tr style=\"text-align: right;\">\n",
       "      <th></th>\n",
       "      <th>year</th>\n",
       "      <th>country</th>\n",
       "      <th>cluster</th>\n",
       "      <th>pop</th>\n",
       "      <th>life_expect</th>\n",
       "      <th>fertility</th>\n",
       "    </tr>\n",
       "  </thead>\n",
       "  <tbody>\n",
       "    <tr>\n",
       "      <th>9</th>\n",
       "      <td>2000</td>\n",
       "      <td>Afghanistan</td>\n",
       "      <td>0</td>\n",
       "      <td>23898198</td>\n",
       "      <td>42.129</td>\n",
       "      <td>7.4792</td>\n",
       "    </tr>\n",
       "    <tr>\n",
       "      <th>20</th>\n",
       "      <td>2000</td>\n",
       "      <td>Argentina</td>\n",
       "      <td>3</td>\n",
       "      <td>37497728</td>\n",
       "      <td>74.340</td>\n",
       "      <td>2.3500</td>\n",
       "    </tr>\n",
       "    <tr>\n",
       "      <th>31</th>\n",
       "      <td>2000</td>\n",
       "      <td>Aruba</td>\n",
       "      <td>3</td>\n",
       "      <td>69539</td>\n",
       "      <td>73.451</td>\n",
       "      <td>2.1240</td>\n",
       "    </tr>\n",
       "    <tr>\n",
       "      <th>42</th>\n",
       "      <td>2000</td>\n",
       "      <td>Australia</td>\n",
       "      <td>4</td>\n",
       "      <td>19164620</td>\n",
       "      <td>80.370</td>\n",
       "      <td>1.7560</td>\n",
       "    </tr>\n",
       "    <tr>\n",
       "      <th>53</th>\n",
       "      <td>2000</td>\n",
       "      <td>Austria</td>\n",
       "      <td>1</td>\n",
       "      <td>8113413</td>\n",
       "      <td>78.980</td>\n",
       "      <td>1.3820</td>\n",
       "    </tr>\n",
       "  </tbody>\n",
       "</table>\n",
       "</div>"
      ],
      "text/plain": [
       "    year      country  cluster       pop  life_expect  fertility\n",
       "9   2000  Afghanistan        0  23898198       42.129     7.4792\n",
       "20  2000    Argentina        3  37497728       74.340     2.3500\n",
       "31  2000        Aruba        3     69539       73.451     2.1240\n",
       "42  2000    Australia        4  19164620       80.370     1.7560\n",
       "53  2000      Austria        1   8113413       78.980     1.3820"
      ]
     },
     "execution_count": 8,
     "metadata": {},
     "output_type": "execute_result"
    }
   ],
   "source": [
    "data2000.head(5)"
   ]
  },
  {
   "cell_type": "markdown",
   "metadata": {
    "colab_type": "text",
    "id": "xyIb1bzLJgG-",
    "slideshow": {
     "slide_type": "slide"
    }
   },
   "source": [
    "## 2. 데이터 유형\n"
   ]
  },
  {
   "cell_type": "markdown",
   "metadata": {
    "colab_type": "text",
    "id": "vyj1xBF2NTY6",
    "slideshow": {
     "slide_type": "fragment"
    }
   },
   "source": [
    "- 효과적인 시각화를 위한 첫번째 요소는 입력 데이터이다.  \n",
    "  - 데이터 값은 다양한 측정 형태를 표현한다.\n",
    "    - 명목 척도: 성별(남, 여), 인명, 지명, 학급 번호, ...\n",
    "    - 서열 척도: 등수(1, 2, ...), 학년, ... \n",
    "    - 구간 척도: 온도(32°F = 0°C), 연도(서기 2021년 = 단기 4354년), ...\n",
    "    - 비율 척도: 무게(10kg, 20kg, ...), 길이, ...\n",
    "  - 이들 측정치에서 어떤 종류의 비교가 가능할까?  \n",
    "  - 이러한 비교를 위해서는 어떤 종류의 시각적 인코딩이 필요할까?\n",
    "- 알테어에서 (시각적 인코딩 선택 사항을 알리기 위해) 사용하는  \n",
    "  기본적 *데이터 유형*부터 살펴보자. \n",
    "  - 데이터 유형에 근거하여 우리가 사용할 비교 유형이 결정된다. \n",
    "  - 이를 통하여 데이터 시각화 설계를 위한 의사결정이 가능하다. "
   ]
  },
  {
   "cell_type": "markdown",
   "metadata": {
    "colab_type": "text",
    "id": "vyj1xBF2NTY6",
    "slideshow": {
     "slide_type": "subslide"
    }
   },
   "source": [
    "### 2.1 명목형\n",
    "\n",
    "- *명목형*(nominal: N) 데이터는 범주(category) 이름으로 구성되고,  \n",
    "  *범주형* 데이터라고도 한다. \n",
    "- 명목형 데이터에서는 값이 동등한지 비교할 수 있다. \n",
    "  - 명목형 값 A와 명목형 값 B는 같은가, 아니면 다른가? (A = B) 아니면 (A != B).\n",
    "  - 명목형 값은 (철자를 기준으로 순서는 정할 수 있지만) 크기를 정의할 수 없다.  \n",
    "- 위 데이터 세트에서 `country` 필드는 명목형이다.  \n",
    "- 명목형 데이터를 시각화할 때, 값이 같은지 아니면 다른지를 판단할 수 있어야 한다. \n",
    "  - 위치, 색상(파랑, 빨강, 초록, *기타*), 모양 등의 채널을 활용할 수 있다. \n",
    "  - 크기 채널은 사용하기는 어렵다. "
   ]
  },
  {
   "cell_type": "markdown",
   "metadata": {
    "colab_type": "text",
    "id": "vyj1xBF2NTY6",
    "slideshow": {
     "slide_type": "subslide"
    }
   },
   "source": [
    "### 2.2 서수형\n",
    "\n",
    "- *서수형*(ordinal: O) 데이터는 특정 순서를 가진 값으로 구성된다. \n",
    "\n",
    "- 서수형 데이터를 사용하여 값의 순위(등수)를 비교할 수 있다. \n",
    "  - 값 A가 값 B보다 앞에 오는가, 아나면 뒤에 오는가? (A < B) 아니면 (A >= B). \n",
    "  - A가 B보다 앞서는가, 아닌가?\n",
    "- 위 데이터 세트에서 `year` 필드는 서수형이다. \n",
    "- 서수형 데이터를 시각화할 때, 값의 순위(등수)를 판단할 수 있어야 한다. \n",
    "  - 위치, 크기, 색상의 강도 등의 채널을 활용할 수 있다. \n",
    "  - 색상 자체를 채널로 사용하기는 어렵다. "
   ]
  },
  {
   "cell_type": "markdown",
   "metadata": {
    "colab_type": "text",
    "id": "vyj1xBF2NTY6",
    "slideshow": {
     "slide_type": "subslide"
    }
   },
   "source": [
    "### 2.3 정량형\n",
    "\n",
    "- *정량형*(quantitative: Q) 데이터는 수치적 차이를 구분할 수 있는 값들로 구성된다. \n",
    "- 정량형 데이터를 구간(interval) 척도와 비율(ratio) 척도로 구분할 수 있다. \n",
    "  - 구간 척도에 해당하는 값에 대해서는  \n",
    "    영점(zero-point)을 정의할 수 없으며,   \n",
    "    두 값 사이의 거리를 (상대적으로) 측정할 수 있다. \n",
    "    - 0년이 '시간이 없다'는 뜻이 아니다.  0°C가 '온도가 없다'는 뜻이 아니다.  \n",
    "    - 값 A와 값 B 사이의 거리는 얼마인가? (A - B). \n",
    "    - 예를 들자면, A는 B에서 12 단위 떨어져 있다. \n",
    "  - 비율 척도에 해당하는 값에 대해서는  \n",
    "    영점(zero-point)이 의미를 가지며,  \n",
    "    비율이나 축척 인자를 측정할 수 있다. \n",
    "    - 0kg은 무게가 없다는 뜻이다. 0m는 길이가 없다는 뜻이다. \n",
    "    - 값 A는 값 B의 몇 배인가?(A / B)  \n",
    "      10kg은 5kg의 두 배이다. 10m는 5m의 두 배이다. "
   ]
  },
  {
   "cell_type": "markdown",
   "metadata": {
    "colab_type": "text",
    "id": "vyj1xBF2NTY6",
    "slideshow": {
     "slide_type": "subslide"
    }
   },
   "source": [
    "- 위 데이터 세트에서, `year` 필드는 정량형 구간 척도에 해당하는 필드이다. \n",
    "  - 구간 척도에서 영점은 의미가 없다. 연도, 온도 등은 구간 척도의 예이다. \n",
    "  - 연도에서는 서기, 단기, 불기, 공기, ... 등과 같이 영점에 절대적인 의미가 없으며,  \n",
    "      서기 0년이라는 시점이 시간이 없다는 의미가 아니다. \n",
    "  - 온도에서는 섭씨, 화씨 등과 같이 영점에 절대적인 의미가 없으며,  \n",
    "      섭씨 0도라는 점이 온도가 없다는 의미가 아니다. \n",
    "  - 구간 척도에서 영점은 편의상 기준점을 설정한 것일 뿐이다. \n",
    "- 위 데이터 세트에서,  \n",
    "  `fertility`(출산율) 및 `life_expect`(기대 수명)은 정량형 비율 척도에 해당하는 필드이다. \n",
    "  - 비율척도에서는 영점이 의미를 가진다.  \n",
    "    무게, 길이, 넓이, 출산율, 기대 수명 등은 비율 척도의 예이다. \n",
    "  - 무게나 길이에서 영점은 무게나 길이가 없다는 의미이다. "
   ]
  },
  {
   "cell_type": "markdown",
   "metadata": {
    "colab_type": "text",
    "id": "vyj1xBF2NTY6",
    "slideshow": {
     "slide_type": "subslide"
    }
   },
   "source": [
    "- 베가-라이트는 정량형 데이터를 표시할 수 있지만,  \n",
    "  구간 척도와 비율 척도를 구별하지는 않는다. \n",
    "- 정량형 데이터를 시각화할 때, \n",
    "  - 위치, 크기, 색상 강도 등의 채널을 활용할 수 있다. \n",
    "  - 비율 척도 값의 비례 관계를 비교할 때는,  \n",
    "    원칙적으로 축에서 *영점의 표시가 필수적*이다.\n",
    "  - 구간 척도 값의 비교에서는 *영점 표시를 생략*할 수 있다."
   ]
  },
  {
   "cell_type": "markdown",
   "metadata": {
    "colab_type": "text",
    "id": "vyj1xBF2NTY6",
    "slideshow": {
     "slide_type": "subslide"
    }
   },
   "source": [
    "### 2.4 시간형\n",
    "\n",
    "- 시간형(temporal: T) 데이터는 시점이나 시간 구간을 측정하는 값들로 구성된다. \n",
    "  - 이는 정량형 데이터의 특별한 경우로서 타임스탬프(timestamp)로 부른다. \n",
    "  - 시간을 표현하는 다양한 표현 방식을 가진다.  \n",
    "    예를 들어서 [그레고리 달력](https://ko.wikipedia.org/wiki/%EA%B7%B8%EB%A0%88%EA%B3%A0%EB%A6%AC%EB%A0%A5)을 참고하라. \n",
    "  - 베가-라이트에서 시간 유형은  \n",
    "    (연, 월, 일, 시간 등의) 다양한 시간 단위에 대한 처리가 가능하며,  \n",
    "    특정 시점 및 기간을 처리할 수 있다. "
   ]
  },
  {
   "cell_type": "markdown",
   "metadata": {
    "colab_type": "text",
    "id": "vyj1xBF2NTY6",
    "slideshow": {
     "slide_type": "subslide"
    }
   },
   "source": [
    "- 시간에 관한 값의 예는 \n",
    "  - `“2019-01-04T17:50:35.643Z”`와 같은 세계 표준 [ISO 날짜-시간 형식](https://ko.wikipedia.org/wiki/ISO_8601)과   \n",
    "  - `“2019-01-04”`나 `“Jan 04 2019”`와 같은 날짜를 표시하는 문자열을 포괄한다. \n",
    "- 우리가 살펴보고 있는 세계 개발 데이터 세트에는 완전한 시간형 데이터가 포함되지 않았다.  \n",
    "  - 대신에 `year` 필드에는 정수로 표현된 연도 값이 들어있다. \n",
    "  - 알테어에서 시간 데이터를 쓰는 자세한 방법에 관해서는  \n",
    "    [Times and Dates documentation](https://altair-viz.github.io/user_guide/times_and_dates.html)를 참고하라. \n",
    "- 날짜/시간에 관한 국제 표준을 이해하려면  \n",
    "  [UTC 와 표기법, 그리고 ISO 8601, RFC 3339 표준](https://ohgyun.com/416)를 참고하라.   "
   ]
  },
  {
   "cell_type": "markdown",
   "metadata": {
    "colab_type": "text",
    "id": "vyj1xBF2NTY6",
    "slideshow": {
     "slide_type": "subslide"
    }
   },
   "source": [
    "### 2.5 요약\n",
    "\n",
    "- 이들 데이터 유형은 상호배타적이지 않으며, 오히려 계층적 구조라고 할 수 있다. \n",
    "  - 서수형 데이터에서도 (이름의 동등성에 관한) 명목형 비교가 가능하다. \n",
    "  - 정량형 데이터에서도 (순위 순서에 관한) 서수형 비교가 가능하다. \n",
    "- 더군다나 이들 데이터 유형이 고정된 범주로만 취급되지 않는다. \n",
    "  - 숫자로 표시된 데이터 필드라고 해서  \n",
    "    반드시 정량형 유형으로만 처리해야 하는 것은 아니다. \n",
    "  - 예를 들어서, (10대, 20대, ...)와 같은 연령 집합을 가정하면, 이를  \n",
    "    명목형으로 처리하여 이름만 구별할 수도 있고,  \n",
    "    서수형으로 처리하여 순위를 인정할 수도 있고,  \n",
    "    정량형으로 처리하여 평균값을 계산할 수도 있다. \n",
    "- 이러한 데이터를 어떻게 시각적으로 인코드할 수 있는지 살펴 보자. "
   ]
  },
  {
   "cell_type": "markdown",
   "metadata": {
    "colab_type": "text",
    "id": "yaz3tS2RKf03",
    "slideshow": {
     "slide_type": "slide"
    }
   },
   "source": [
    "## 3. 인코딩 채널"
   ]
  },
  {
   "cell_type": "markdown",
   "metadata": {
    "colab_type": "text",
    "id": "yaz3tS2RKf03",
    "slideshow": {
     "slide_type": "slide"
    }
   },
   "source": [
    "- 알테어의 핵심에는 인코딩의 활용이 있는데,  \n",
    "  이를 통해 (데이터 유형별로 구별된) 데이터 필드를  \n",
    "  특정 *마크* 유형의 인코딩 *채널*에 연결시킬 수 있다. \n",
    "```python\n",
    "# 자동차 연비 및 마력 시각화 코드\n",
    "alt.Chart(cars).mark_circle().encode(\n",
    "    x='Miles_per_Gallon',  #   연비를 x     채널로 인코딩 \n",
    "    y='Horsepower',        #   마력을 y     채널로 인코딩\n",
    "    color='Origin'         # 원산지를 color 채널로 인코딩 \n",
    ")\n",
    "```\n",
    "- 사용 가능한 채널을 모두 확인하려면,  \n",
    "  [Altair encoding documentation](https://altair-viz.github.io/user_guide/encoding.html)를 참고하라. "
   ]
  },
  {
   "cell_type": "markdown",
   "metadata": {
    "slideshow": {
     "slide_type": "subslide"
    }
   },
   "source": [
    "- 중요한 인코딩 채널은 다음과 같다. \n",
    "    - `x`: 마크의 수평 축 또는 x-축\n",
    "    - `y`: 마크의 수직 축 또는 y-축\n",
    "    - `size`: 마크의 크기, 마크 유형에 따라서 마크의 면적이나 길이를 의미함\n",
    "    - `color`: 마크의 색상, [legal CSS color](https://developer.mozilla.org/en-US/docs/Web/CSS/color_value)로 지정함\n",
    "    - `opacity`: 마크의 투명도, 0(완전 투명)부터 1(완전 불투명)까지로 지정함\n",
    "    - `shape`: `point` 마크를 위한 기호의 모양\n",
    "    - `tooltip`: 마크 위로 마우스를 올릴(hover) 때 출력할 툴팁 텍스트\n",
    "    - `order`: 마크 표시 순서\n",
    "    - `column`: 차트를 수평 정렬하는 하위 플롯으로 배치하는 열\n",
    "    - `row`: 차트를 수직 정렬하는 하위 플롯으로 배치하는 행"
   ]
  },
  {
   "cell_type": "markdown",
   "metadata": {
    "colab_type": "text",
    "id": "vujZA4b6OCRC",
    "slideshow": {
     "slide_type": "slide"
    }
   },
   "source": [
    "### 3.1 X\n",
    "\n",
    "- `x` 인코딩 채널로 (마크의 수평 위치) x 좌표를 설정한다. \n",
    "  - 축의 제목은 자동적으로 지정된다. \n",
    "  - 아래 차트에서는  \n",
    "    데이터 유형을 정량형 `Q`로 지정하였으므로,  \n",
    "    연속적인 선형 축 스케일로 자동 처리되었다. "
   ]
  },
  {
   "cell_type": "code",
   "execution_count": 9,
   "metadata": {
    "colab": {
     "base_uri": "https://localhost:8080/",
     "height": 87
    },
    "colab_type": "code",
    "id": "nswya-ToLaRP",
    "outputId": "2a958755-7f70-4a86-ab6f-2cfb24ad7231",
    "slideshow": {
     "slide_type": "fragment"
    }
   },
   "outputs": [
    {
     "data": {
      "text/html": [
       "\n",
       "<div id=\"altair-viz-fbd371be13fe49638587b2b88f85486d\"></div>\n",
       "<script type=\"text/javascript\">\n",
       "  (function(spec, embedOpt){\n",
       "    let outputDiv = document.currentScript.previousElementSibling;\n",
       "    if (outputDiv.id !== \"altair-viz-fbd371be13fe49638587b2b88f85486d\") {\n",
       "      outputDiv = document.getElementById(\"altair-viz-fbd371be13fe49638587b2b88f85486d\");\n",
       "    }\n",
       "    const paths = {\n",
       "      \"vega\": \"https://cdn.jsdelivr.net/npm//vega@5?noext\",\n",
       "      \"vega-lib\": \"https://cdn.jsdelivr.net/npm//vega-lib?noext\",\n",
       "      \"vega-lite\": \"https://cdn.jsdelivr.net/npm//vega-lite@4.8.1?noext\",\n",
       "      \"vega-embed\": \"https://cdn.jsdelivr.net/npm//vega-embed@6?noext\",\n",
       "    };\n",
       "\n",
       "    function loadScript(lib) {\n",
       "      return new Promise(function(resolve, reject) {\n",
       "        var s = document.createElement('script');\n",
       "        s.src = paths[lib];\n",
       "        s.async = true;\n",
       "        s.onload = () => resolve(paths[lib]);\n",
       "        s.onerror = () => reject(`Error loading script: ${paths[lib]}`);\n",
       "        document.getElementsByTagName(\"head\")[0].appendChild(s);\n",
       "      });\n",
       "    }\n",
       "\n",
       "    function showError(err) {\n",
       "      outputDiv.innerHTML = `<div class=\"error\" style=\"color:red;\">${err}</div>`;\n",
       "      throw err;\n",
       "    }\n",
       "\n",
       "    function displayChart(vegaEmbed) {\n",
       "      vegaEmbed(outputDiv, spec, embedOpt)\n",
       "        .catch(err => showError(`Javascript Error: ${err.message}<br>This usually means there's a typo in your chart specification. See the javascript console for the full traceback.`));\n",
       "    }\n",
       "\n",
       "    if(typeof define === \"function\" && define.amd) {\n",
       "      requirejs.config({paths});\n",
       "      require([\"vega-embed\"], displayChart, err => showError(`Error loading script: ${err.message}`));\n",
       "    } else if (typeof vegaEmbed === \"function\") {\n",
       "      displayChart(vegaEmbed);\n",
       "    } else {\n",
       "      loadScript(\"vega\")\n",
       "        .then(() => loadScript(\"vega-lite\"))\n",
       "        .then(() => loadScript(\"vega-embed\"))\n",
       "        .catch(showError)\n",
       "        .then(() => displayChart(vegaEmbed));\n",
       "    }\n",
       "  })({\"config\": {\"view\": {\"continuousWidth\": 400, \"continuousHeight\": 300}}, \"data\": {\"name\": \"data-fdeb0b749a6385830bd1445d39ad6ea0\"}, \"mark\": \"point\", \"encoding\": {\"x\": {\"type\": \"quantitative\", \"field\": \"fertility\"}}, \"$schema\": \"https://vega.github.io/schema/vega-lite/v4.8.1.json\", \"datasets\": {\"data-fdeb0b749a6385830bd1445d39ad6ea0\": [{\"year\": 2000, \"country\": \"Afghanistan\", \"cluster\": 0, \"pop\": 23898198, \"life_expect\": 42.129, \"fertility\": 7.4792}, {\"year\": 2000, \"country\": \"Argentina\", \"cluster\": 3, \"pop\": 37497728, \"life_expect\": 74.34, \"fertility\": 2.35}, {\"year\": 2000, \"country\": \"Aruba\", \"cluster\": 3, \"pop\": 69539, \"life_expect\": 73.451, \"fertility\": 2.124}, {\"year\": 2000, \"country\": \"Australia\", \"cluster\": 4, \"pop\": 19164620, \"life_expect\": 80.37, \"fertility\": 1.756}, {\"year\": 2000, \"country\": \"Austria\", \"cluster\": 1, \"pop\": 8113413, \"life_expect\": 78.98, \"fertility\": 1.3820000000000001}, {\"year\": 2000, \"country\": \"Bahamas\", \"cluster\": 3, \"pop\": 290075, \"life_expect\": 71.068, \"fertility\": 2.1111}, {\"year\": 2000, \"country\": \"Bangladesh\", \"cluster\": 0, \"pop\": 130406594, \"life_expect\": 62.013, \"fertility\": 3.224}, {\"year\": 2000, \"country\": \"Barbados\", \"cluster\": 3, \"pop\": 273483, \"life_expect\": 75.97, \"fertility\": 1.5}, {\"year\": 2000, \"country\": \"Belgium\", \"cluster\": 1, \"pop\": 10263618, \"life_expect\": 78.32, \"fertility\": 1.638}, {\"year\": 2000, \"country\": \"Bolivia\", \"cluster\": 3, \"pop\": 8152620, \"life_expect\": 63.883, \"fertility\": 3.9585}, {\"year\": 2000, \"country\": \"Brazil\", \"cluster\": 3, \"pop\": 175552771, \"life_expect\": 71.006, \"fertility\": 2.345}, {\"year\": 2000, \"country\": \"Canada\", \"cluster\": 3, \"pop\": 31278097, \"life_expect\": 79.77, \"fertility\": 1.522}, {\"year\": 2000, \"country\": \"Chile\", \"cluster\": 3, \"pop\": 15153450, \"life_expect\": 77.86, \"fertility\": 2.0}, {\"year\": 2000, \"country\": \"China\", \"cluster\": 4, \"pop\": 1262645000, \"life_expect\": 72.028, \"fertility\": 1.7000000000000002}, {\"year\": 2000, \"country\": \"Colombia\", \"cluster\": 3, \"pop\": 39685655, \"life_expect\": 71.682, \"fertility\": 2.4705}, {\"year\": 2000, \"country\": \"Costa Rica\", \"cluster\": 3, \"pop\": 3710558, \"life_expect\": 78.123, \"fertility\": 2.2815}, {\"year\": 2000, \"country\": \"Croatia\", \"cluster\": 1, \"pop\": 4410830, \"life_expect\": 74.876, \"fertility\": 1.348}, {\"year\": 2000, \"country\": \"Cuba\", \"cluster\": 3, \"pop\": 11134273, \"life_expect\": 77.158, \"fertility\": 1.63}, {\"year\": 2000, \"country\": \"Dominican Republic\", \"cluster\": 3, \"pop\": 8385828, \"life_expect\": 70.847, \"fertility\": 2.95}, {\"year\": 2000, \"country\": \"Ecuador\", \"cluster\": 3, \"pop\": 12505204, \"life_expect\": 74.173, \"fertility\": 2.8175}, {\"year\": 2000, \"country\": \"Egypt\", \"cluster\": 5, \"pop\": 70492342, \"life_expect\": 69.806, \"fertility\": 3.174}, {\"year\": 2000, \"country\": \"El Salvador\", \"cluster\": 3, \"pop\": 6122515, \"life_expect\": 70.734, \"fertility\": 2.883}, {\"year\": 2000, \"country\": \"Finland\", \"cluster\": 1, \"pop\": 5168595, \"life_expect\": 78.37, \"fertility\": 1.754}, {\"year\": 2000, \"country\": \"France\", \"cluster\": 1, \"pop\": 59381628, \"life_expect\": 79.59, \"fertility\": 1.8833000000000002}, {\"year\": 2000, \"country\": \"Georgia\", \"cluster\": 1, \"pop\": 4777209, \"life_expect\": 70.476, \"fertility\": 1.478}, {\"year\": 2000, \"country\": \"Germany\", \"cluster\": 1, \"pop\": 82187909, \"life_expect\": 78.67, \"fertility\": 1.346}, {\"year\": 2000, \"country\": \"Greece\", \"cluster\": 1, \"pop\": 10559110, \"life_expect\": 78.256, \"fertility\": 1.2770000000000001}, {\"year\": 2000, \"country\": \"Grenada\", \"cluster\": 3, \"pop\": 89312, \"life_expect\": 67.746, \"fertility\": 2.429}, {\"year\": 2000, \"country\": \"Haiti\", \"cluster\": 3, \"pop\": 7306302, \"life_expect\": 58.137, \"fertility\": 4.0}, {\"year\": 2000, \"country\": \"Hong Kong\", \"cluster\": 4, \"pop\": 6658720, \"life_expect\": 81.495, \"fertility\": 0.9400000000000001}, {\"year\": 2000, \"country\": \"Iceland\", \"cluster\": 1, \"pop\": 281043, \"life_expect\": 80.5, \"fertility\": 1.9929999999999999}, {\"year\": 2000, \"country\": \"India\", \"cluster\": 0, \"pop\": 1007702000, \"life_expect\": 62.879, \"fertility\": 3.1132}, {\"year\": 2000, \"country\": \"Indonesia\", \"cluster\": 4, \"pop\": 206265000, \"life_expect\": 68.588, \"fertility\": 2.3761}, {\"year\": 2000, \"country\": \"Iran\", \"cluster\": 5, \"pop\": 65660289, \"life_expect\": 69.451, \"fertility\": 2.124}, {\"year\": 2000, \"country\": \"Iraq\", \"cluster\": 5, \"pop\": 22675617, \"life_expect\": 57.046, \"fertility\": 4.858}, {\"year\": 2000, \"country\": \"Ireland\", \"cluster\": 1, \"pop\": 3791690, \"life_expect\": 77.783, \"fertility\": 1.9689999999999999}, {\"year\": 2000, \"country\": \"Israel\", \"cluster\": 5, \"pop\": 5842454, \"life_expect\": 79.696, \"fertility\": 2.906}, {\"year\": 2000, \"country\": \"Italy\", \"cluster\": 1, \"pop\": 57719337, \"life_expect\": 80.24, \"fertility\": 1.286}, {\"year\": 2000, \"country\": \"Jamaica\", \"cluster\": 3, \"pop\": 2615467, \"life_expect\": 72.047, \"fertility\": 2.628}, {\"year\": 2000, \"country\": \"Japan\", \"cluster\": 4, \"pop\": 126699784, \"life_expect\": 82.0, \"fertility\": 1.291}, {\"year\": 2000, \"country\": \"Kenya\", \"cluster\": 2, \"pop\": 29985839, \"life_expect\": 50.992, \"fertility\": 5.0}, {\"year\": 2000, \"country\": \"South Korea\", \"cluster\": 4, \"pop\": 21647682, \"life_expect\": 66.662, \"fertility\": 1.9173}, {\"year\": 2000, \"country\": \"North Korea\", \"cluster\": 4, \"pop\": 47351083, \"life_expect\": 77.045, \"fertility\": 1.242}, {\"year\": 2000, \"country\": \"Lebanon\", \"cluster\": 5, \"pop\": 3578036, \"life_expect\": 71.028, \"fertility\": 2.319}, {\"year\": 2000, \"country\": \"Mexico\", \"cluster\": 3, \"pop\": 99926620, \"life_expect\": 74.902, \"fertility\": 2.4005}, {\"year\": 2000, \"country\": \"Netherlands\", \"cluster\": 1, \"pop\": 15907853, \"life_expect\": 78.53, \"fertility\": 1.726}, {\"year\": 2000, \"country\": \"New Zealand\", \"cluster\": 4, \"pop\": 3819762, \"life_expect\": 79.11, \"fertility\": 1.964}, {\"year\": 2000, \"country\": \"Nigeria\", \"cluster\": 2, \"pop\": 114306700, \"life_expect\": 46.608, \"fertility\": 5.845}, {\"year\": 2000, \"country\": \"Norway\", \"cluster\": 1, \"pop\": 4492400, \"life_expect\": 79.05, \"fertility\": 1.8010000000000002}, {\"year\": 2000, \"country\": \"Pakistan\", \"cluster\": 0, \"pop\": 146342958, \"life_expect\": 63.61, \"fertility\": 3.9936}, {\"year\": 2000, \"country\": \"Peru\", \"cluster\": 3, \"pop\": 25979722, \"life_expect\": 69.906, \"fertility\": 2.7005}, {\"year\": 2000, \"country\": \"Philippines\", \"cluster\": 4, \"pop\": 79739825, \"life_expect\": 70.303, \"fertility\": 3.5436}, {\"year\": 2000, \"country\": \"Poland\", \"cluster\": 1, \"pop\": 38654164, \"life_expect\": 74.67, \"fertility\": 1.251}, {\"year\": 2000, \"country\": \"Portugal\", \"cluster\": 1, \"pop\": 10335597, \"life_expect\": 77.29, \"fertility\": 1.454}, {\"year\": 2000, \"country\": \"Rwanda\", \"cluster\": 2, \"pop\": 7507056, \"life_expect\": 43.413, \"fertility\": 6.01}, {\"year\": 2000, \"country\": \"Saudi Arabia\", \"cluster\": 5, \"pop\": 23153090, \"life_expect\": 71.626, \"fertility\": 3.81}, {\"year\": 2000, \"country\": \"South Africa\", \"cluster\": 2, \"pop\": 44066197, \"life_expect\": 53.365, \"fertility\": 2.802}, {\"year\": 2000, \"country\": \"Spain\", \"cluster\": 1, \"pop\": 40016081, \"life_expect\": 79.78, \"fertility\": 1.287}, {\"year\": 2000, \"country\": \"Switzerland\", \"cluster\": 1, \"pop\": 7266920, \"life_expect\": 80.62, \"fertility\": 1.415}, {\"year\": 2000, \"country\": \"Turkey\", \"cluster\": 1, \"pop\": 65666677, \"life_expect\": 70.845, \"fertility\": 2.23}, {\"year\": 2000, \"country\": \"United Kingdom\", \"cluster\": 1, \"pop\": 59522468, \"life_expect\": 78.471, \"fertility\": 1.695}, {\"year\": 2000, \"country\": \"United States\", \"cluster\": 3, \"pop\": 282338631, \"life_expect\": 77.31, \"fertility\": 2.038}, {\"year\": 2000, \"country\": \"Venezuela\", \"cluster\": 3, \"pop\": 23542649, \"life_expect\": 72.766, \"fertility\": 2.723}]}}, {\"mode\": \"vega-lite\"});\n",
       "</script>"
      ],
      "text/plain": [
       "alt.Chart(...)"
      ]
     },
     "execution_count": 9,
     "metadata": {},
     "output_type": "execute_result"
    }
   ],
   "source": [
    "alt.Chart(data2000).mark_point().encode(\n",
    "    alt.X('fertility:Q')\n",
    ")"
   ]
  },
  {
   "cell_type": "markdown",
   "metadata": {
    "colab_type": "text",
    "id": "WwQuuyKUOElr",
    "slideshow": {
     "slide_type": "slide"
    }
   },
   "source": [
    "### 3.2 Y\n",
    "\n",
    "- `y` 인코딩 채널로 (마크의 수직 위치) y 좌표를 설정한다. \n",
    "  - `cluster` 필드를  \n",
    "    서수형 `O`로 지정하였으므로,  \n",
    "    이산형 축으로 처리되었다.  \n",
    "  - 이산형 축에서 (값 간의 간격인) 눈금 간격은 기본값으로 처리된다.  "
   ]
  },
  {
   "cell_type": "code",
   "execution_count": 10,
   "metadata": {
    "colab": {
     "base_uri": "https://localhost:8080/",
     "height": 192
    },
    "colab_type": "code",
    "id": "eP38vNrdNrHF",
    "outputId": "9ff5b4a8-143c-4595-845f-026ed2e747a8",
    "slideshow": {
     "slide_type": "fragment"
    }
   },
   "outputs": [
    {
     "data": {
      "text/html": [
       "\n",
       "<div id=\"altair-viz-087cbf224ec74ed991f2c67532c37c22\"></div>\n",
       "<script type=\"text/javascript\">\n",
       "  (function(spec, embedOpt){\n",
       "    let outputDiv = document.currentScript.previousElementSibling;\n",
       "    if (outputDiv.id !== \"altair-viz-087cbf224ec74ed991f2c67532c37c22\") {\n",
       "      outputDiv = document.getElementById(\"altair-viz-087cbf224ec74ed991f2c67532c37c22\");\n",
       "    }\n",
       "    const paths = {\n",
       "      \"vega\": \"https://cdn.jsdelivr.net/npm//vega@5?noext\",\n",
       "      \"vega-lib\": \"https://cdn.jsdelivr.net/npm//vega-lib?noext\",\n",
       "      \"vega-lite\": \"https://cdn.jsdelivr.net/npm//vega-lite@4.8.1?noext\",\n",
       "      \"vega-embed\": \"https://cdn.jsdelivr.net/npm//vega-embed@6?noext\",\n",
       "    };\n",
       "\n",
       "    function loadScript(lib) {\n",
       "      return new Promise(function(resolve, reject) {\n",
       "        var s = document.createElement('script');\n",
       "        s.src = paths[lib];\n",
       "        s.async = true;\n",
       "        s.onload = () => resolve(paths[lib]);\n",
       "        s.onerror = () => reject(`Error loading script: ${paths[lib]}`);\n",
       "        document.getElementsByTagName(\"head\")[0].appendChild(s);\n",
       "      });\n",
       "    }\n",
       "\n",
       "    function showError(err) {\n",
       "      outputDiv.innerHTML = `<div class=\"error\" style=\"color:red;\">${err}</div>`;\n",
       "      throw err;\n",
       "    }\n",
       "\n",
       "    function displayChart(vegaEmbed) {\n",
       "      vegaEmbed(outputDiv, spec, embedOpt)\n",
       "        .catch(err => showError(`Javascript Error: ${err.message}<br>This usually means there's a typo in your chart specification. See the javascript console for the full traceback.`));\n",
       "    }\n",
       "\n",
       "    if(typeof define === \"function\" && define.amd) {\n",
       "      requirejs.config({paths});\n",
       "      require([\"vega-embed\"], displayChart, err => showError(`Error loading script: ${err.message}`));\n",
       "    } else if (typeof vegaEmbed === \"function\") {\n",
       "      displayChart(vegaEmbed);\n",
       "    } else {\n",
       "      loadScript(\"vega\")\n",
       "        .then(() => loadScript(\"vega-lite\"))\n",
       "        .then(() => loadScript(\"vega-embed\"))\n",
       "        .catch(showError)\n",
       "        .then(() => displayChart(vegaEmbed));\n",
       "    }\n",
       "  })({\"config\": {\"view\": {\"continuousWidth\": 400, \"continuousHeight\": 300}}, \"data\": {\"name\": \"data-fdeb0b749a6385830bd1445d39ad6ea0\"}, \"mark\": \"point\", \"encoding\": {\"x\": {\"type\": \"quantitative\", \"field\": \"fertility\"}, \"y\": {\"type\": \"ordinal\", \"field\": \"cluster\"}}, \"$schema\": \"https://vega.github.io/schema/vega-lite/v4.8.1.json\", \"datasets\": {\"data-fdeb0b749a6385830bd1445d39ad6ea0\": [{\"year\": 2000, \"country\": \"Afghanistan\", \"cluster\": 0, \"pop\": 23898198, \"life_expect\": 42.129, \"fertility\": 7.4792}, {\"year\": 2000, \"country\": \"Argentina\", \"cluster\": 3, \"pop\": 37497728, \"life_expect\": 74.34, \"fertility\": 2.35}, {\"year\": 2000, \"country\": \"Aruba\", \"cluster\": 3, \"pop\": 69539, \"life_expect\": 73.451, \"fertility\": 2.124}, {\"year\": 2000, \"country\": \"Australia\", \"cluster\": 4, \"pop\": 19164620, \"life_expect\": 80.37, \"fertility\": 1.756}, {\"year\": 2000, \"country\": \"Austria\", \"cluster\": 1, \"pop\": 8113413, \"life_expect\": 78.98, \"fertility\": 1.3820000000000001}, {\"year\": 2000, \"country\": \"Bahamas\", \"cluster\": 3, \"pop\": 290075, \"life_expect\": 71.068, \"fertility\": 2.1111}, {\"year\": 2000, \"country\": \"Bangladesh\", \"cluster\": 0, \"pop\": 130406594, \"life_expect\": 62.013, \"fertility\": 3.224}, {\"year\": 2000, \"country\": \"Barbados\", \"cluster\": 3, \"pop\": 273483, \"life_expect\": 75.97, \"fertility\": 1.5}, {\"year\": 2000, \"country\": \"Belgium\", \"cluster\": 1, \"pop\": 10263618, \"life_expect\": 78.32, \"fertility\": 1.638}, {\"year\": 2000, \"country\": \"Bolivia\", \"cluster\": 3, \"pop\": 8152620, \"life_expect\": 63.883, \"fertility\": 3.9585}, {\"year\": 2000, \"country\": \"Brazil\", \"cluster\": 3, \"pop\": 175552771, \"life_expect\": 71.006, \"fertility\": 2.345}, {\"year\": 2000, \"country\": \"Canada\", \"cluster\": 3, \"pop\": 31278097, \"life_expect\": 79.77, \"fertility\": 1.522}, {\"year\": 2000, \"country\": \"Chile\", \"cluster\": 3, \"pop\": 15153450, \"life_expect\": 77.86, \"fertility\": 2.0}, {\"year\": 2000, \"country\": \"China\", \"cluster\": 4, \"pop\": 1262645000, \"life_expect\": 72.028, \"fertility\": 1.7000000000000002}, {\"year\": 2000, \"country\": \"Colombia\", \"cluster\": 3, \"pop\": 39685655, \"life_expect\": 71.682, \"fertility\": 2.4705}, {\"year\": 2000, \"country\": \"Costa Rica\", \"cluster\": 3, \"pop\": 3710558, \"life_expect\": 78.123, \"fertility\": 2.2815}, {\"year\": 2000, \"country\": \"Croatia\", \"cluster\": 1, \"pop\": 4410830, \"life_expect\": 74.876, \"fertility\": 1.348}, {\"year\": 2000, \"country\": \"Cuba\", \"cluster\": 3, \"pop\": 11134273, \"life_expect\": 77.158, \"fertility\": 1.63}, {\"year\": 2000, \"country\": \"Dominican Republic\", \"cluster\": 3, \"pop\": 8385828, \"life_expect\": 70.847, \"fertility\": 2.95}, {\"year\": 2000, \"country\": \"Ecuador\", \"cluster\": 3, \"pop\": 12505204, \"life_expect\": 74.173, \"fertility\": 2.8175}, {\"year\": 2000, \"country\": \"Egypt\", \"cluster\": 5, \"pop\": 70492342, \"life_expect\": 69.806, \"fertility\": 3.174}, {\"year\": 2000, \"country\": \"El Salvador\", \"cluster\": 3, \"pop\": 6122515, \"life_expect\": 70.734, \"fertility\": 2.883}, {\"year\": 2000, \"country\": \"Finland\", \"cluster\": 1, \"pop\": 5168595, \"life_expect\": 78.37, \"fertility\": 1.754}, {\"year\": 2000, \"country\": \"France\", \"cluster\": 1, \"pop\": 59381628, \"life_expect\": 79.59, \"fertility\": 1.8833000000000002}, {\"year\": 2000, \"country\": \"Georgia\", \"cluster\": 1, \"pop\": 4777209, \"life_expect\": 70.476, \"fertility\": 1.478}, {\"year\": 2000, \"country\": \"Germany\", \"cluster\": 1, \"pop\": 82187909, \"life_expect\": 78.67, \"fertility\": 1.346}, {\"year\": 2000, \"country\": \"Greece\", \"cluster\": 1, \"pop\": 10559110, \"life_expect\": 78.256, \"fertility\": 1.2770000000000001}, {\"year\": 2000, \"country\": \"Grenada\", \"cluster\": 3, \"pop\": 89312, \"life_expect\": 67.746, \"fertility\": 2.429}, {\"year\": 2000, \"country\": \"Haiti\", \"cluster\": 3, \"pop\": 7306302, \"life_expect\": 58.137, \"fertility\": 4.0}, {\"year\": 2000, \"country\": \"Hong Kong\", \"cluster\": 4, \"pop\": 6658720, \"life_expect\": 81.495, \"fertility\": 0.9400000000000001}, {\"year\": 2000, \"country\": \"Iceland\", \"cluster\": 1, \"pop\": 281043, \"life_expect\": 80.5, \"fertility\": 1.9929999999999999}, {\"year\": 2000, \"country\": \"India\", \"cluster\": 0, \"pop\": 1007702000, \"life_expect\": 62.879, \"fertility\": 3.1132}, {\"year\": 2000, \"country\": \"Indonesia\", \"cluster\": 4, \"pop\": 206265000, \"life_expect\": 68.588, \"fertility\": 2.3761}, {\"year\": 2000, \"country\": \"Iran\", \"cluster\": 5, \"pop\": 65660289, \"life_expect\": 69.451, \"fertility\": 2.124}, {\"year\": 2000, \"country\": \"Iraq\", \"cluster\": 5, \"pop\": 22675617, \"life_expect\": 57.046, \"fertility\": 4.858}, {\"year\": 2000, \"country\": \"Ireland\", \"cluster\": 1, \"pop\": 3791690, \"life_expect\": 77.783, \"fertility\": 1.9689999999999999}, {\"year\": 2000, \"country\": \"Israel\", \"cluster\": 5, \"pop\": 5842454, \"life_expect\": 79.696, \"fertility\": 2.906}, {\"year\": 2000, \"country\": \"Italy\", \"cluster\": 1, \"pop\": 57719337, \"life_expect\": 80.24, \"fertility\": 1.286}, {\"year\": 2000, \"country\": \"Jamaica\", \"cluster\": 3, \"pop\": 2615467, \"life_expect\": 72.047, \"fertility\": 2.628}, {\"year\": 2000, \"country\": \"Japan\", \"cluster\": 4, \"pop\": 126699784, \"life_expect\": 82.0, \"fertility\": 1.291}, {\"year\": 2000, \"country\": \"Kenya\", \"cluster\": 2, \"pop\": 29985839, \"life_expect\": 50.992, \"fertility\": 5.0}, {\"year\": 2000, \"country\": \"South Korea\", \"cluster\": 4, \"pop\": 21647682, \"life_expect\": 66.662, \"fertility\": 1.9173}, {\"year\": 2000, \"country\": \"North Korea\", \"cluster\": 4, \"pop\": 47351083, \"life_expect\": 77.045, \"fertility\": 1.242}, {\"year\": 2000, \"country\": \"Lebanon\", \"cluster\": 5, \"pop\": 3578036, \"life_expect\": 71.028, \"fertility\": 2.319}, {\"year\": 2000, \"country\": \"Mexico\", \"cluster\": 3, \"pop\": 99926620, \"life_expect\": 74.902, \"fertility\": 2.4005}, {\"year\": 2000, \"country\": \"Netherlands\", \"cluster\": 1, \"pop\": 15907853, \"life_expect\": 78.53, \"fertility\": 1.726}, {\"year\": 2000, \"country\": \"New Zealand\", \"cluster\": 4, \"pop\": 3819762, \"life_expect\": 79.11, \"fertility\": 1.964}, {\"year\": 2000, \"country\": \"Nigeria\", \"cluster\": 2, \"pop\": 114306700, \"life_expect\": 46.608, \"fertility\": 5.845}, {\"year\": 2000, \"country\": \"Norway\", \"cluster\": 1, \"pop\": 4492400, \"life_expect\": 79.05, \"fertility\": 1.8010000000000002}, {\"year\": 2000, \"country\": \"Pakistan\", \"cluster\": 0, \"pop\": 146342958, \"life_expect\": 63.61, \"fertility\": 3.9936}, {\"year\": 2000, \"country\": \"Peru\", \"cluster\": 3, \"pop\": 25979722, \"life_expect\": 69.906, \"fertility\": 2.7005}, {\"year\": 2000, \"country\": \"Philippines\", \"cluster\": 4, \"pop\": 79739825, \"life_expect\": 70.303, \"fertility\": 3.5436}, {\"year\": 2000, \"country\": \"Poland\", \"cluster\": 1, \"pop\": 38654164, \"life_expect\": 74.67, \"fertility\": 1.251}, {\"year\": 2000, \"country\": \"Portugal\", \"cluster\": 1, \"pop\": 10335597, \"life_expect\": 77.29, \"fertility\": 1.454}, {\"year\": 2000, \"country\": \"Rwanda\", \"cluster\": 2, \"pop\": 7507056, \"life_expect\": 43.413, \"fertility\": 6.01}, {\"year\": 2000, \"country\": \"Saudi Arabia\", \"cluster\": 5, \"pop\": 23153090, \"life_expect\": 71.626, \"fertility\": 3.81}, {\"year\": 2000, \"country\": \"South Africa\", \"cluster\": 2, \"pop\": 44066197, \"life_expect\": 53.365, \"fertility\": 2.802}, {\"year\": 2000, \"country\": \"Spain\", \"cluster\": 1, \"pop\": 40016081, \"life_expect\": 79.78, \"fertility\": 1.287}, {\"year\": 2000, \"country\": \"Switzerland\", \"cluster\": 1, \"pop\": 7266920, \"life_expect\": 80.62, \"fertility\": 1.415}, {\"year\": 2000, \"country\": \"Turkey\", \"cluster\": 1, \"pop\": 65666677, \"life_expect\": 70.845, \"fertility\": 2.23}, {\"year\": 2000, \"country\": \"United Kingdom\", \"cluster\": 1, \"pop\": 59522468, \"life_expect\": 78.471, \"fertility\": 1.695}, {\"year\": 2000, \"country\": \"United States\", \"cluster\": 3, \"pop\": 282338631, \"life_expect\": 77.31, \"fertility\": 2.038}, {\"year\": 2000, \"country\": \"Venezuela\", \"cluster\": 3, \"pop\": 23542649, \"life_expect\": 72.766, \"fertility\": 2.723}]}}, {\"mode\": \"vega-lite\"});\n",
       "</script>"
      ],
      "text/plain": [
       "alt.Chart(...)"
      ]
     },
     "execution_count": 10,
     "metadata": {},
     "output_type": "execute_result"
    }
   ],
   "source": [
    "alt.Chart(data2000).mark_point().encode(\n",
    "    alt.X('fertility:Q'),\n",
    "    alt.Y('cluster:O')\n",
    ")"
   ]
  },
  {
   "cell_type": "markdown",
   "metadata": {
    "colab_type": "text",
    "id": "2BQetZgvc0f_",
    "slideshow": {
     "slide_type": "subslide"
    }
   },
   "source": [
    "- 직전 차트에서  \n",
    "  서수형으로 지정되었던 y 축을  \n",
    "  정량형으로 변경하면 어떻게 될까?\n",
    "  - y 축을 기대 수명 `life_expect` 필드로, 데이터 유형은 `Q`로 지정하자. \n",
    "  - 결과는 두 축 모두 선형 스케일을 가지는 산점도(scatter plot)로 시각화된다. \n",
    "  - 출산율과 기대 수명 사이에 강력한 *(반비례)* 상관관계가 확인된다. "
   ]
  },
  {
   "cell_type": "code",
   "execution_count": 11,
   "metadata": {
    "colab": {
     "base_uri": "https://localhost:8080/",
     "height": 372
    },
    "colab_type": "code",
    "id": "n8PJhH6jN68w",
    "outputId": "ac41eaeb-4872-48db-ddf1-ab6b5c84f387",
    "slideshow": {
     "slide_type": "fragment"
    }
   },
   "outputs": [
    {
     "data": {
      "text/html": [
       "\n",
       "<div id=\"altair-viz-c873ff19a6744e11b31401f2b23e35f4\"></div>\n",
       "<script type=\"text/javascript\">\n",
       "  (function(spec, embedOpt){\n",
       "    let outputDiv = document.currentScript.previousElementSibling;\n",
       "    if (outputDiv.id !== \"altair-viz-c873ff19a6744e11b31401f2b23e35f4\") {\n",
       "      outputDiv = document.getElementById(\"altair-viz-c873ff19a6744e11b31401f2b23e35f4\");\n",
       "    }\n",
       "    const paths = {\n",
       "      \"vega\": \"https://cdn.jsdelivr.net/npm//vega@5?noext\",\n",
       "      \"vega-lib\": \"https://cdn.jsdelivr.net/npm//vega-lib?noext\",\n",
       "      \"vega-lite\": \"https://cdn.jsdelivr.net/npm//vega-lite@4.8.1?noext\",\n",
       "      \"vega-embed\": \"https://cdn.jsdelivr.net/npm//vega-embed@6?noext\",\n",
       "    };\n",
       "\n",
       "    function loadScript(lib) {\n",
       "      return new Promise(function(resolve, reject) {\n",
       "        var s = document.createElement('script');\n",
       "        s.src = paths[lib];\n",
       "        s.async = true;\n",
       "        s.onload = () => resolve(paths[lib]);\n",
       "        s.onerror = () => reject(`Error loading script: ${paths[lib]}`);\n",
       "        document.getElementsByTagName(\"head\")[0].appendChild(s);\n",
       "      });\n",
       "    }\n",
       "\n",
       "    function showError(err) {\n",
       "      outputDiv.innerHTML = `<div class=\"error\" style=\"color:red;\">${err}</div>`;\n",
       "      throw err;\n",
       "    }\n",
       "\n",
       "    function displayChart(vegaEmbed) {\n",
       "      vegaEmbed(outputDiv, spec, embedOpt)\n",
       "        .catch(err => showError(`Javascript Error: ${err.message}<br>This usually means there's a typo in your chart specification. See the javascript console for the full traceback.`));\n",
       "    }\n",
       "\n",
       "    if(typeof define === \"function\" && define.amd) {\n",
       "      requirejs.config({paths});\n",
       "      require([\"vega-embed\"], displayChart, err => showError(`Error loading script: ${err.message}`));\n",
       "    } else if (typeof vegaEmbed === \"function\") {\n",
       "      displayChart(vegaEmbed);\n",
       "    } else {\n",
       "      loadScript(\"vega\")\n",
       "        .then(() => loadScript(\"vega-lite\"))\n",
       "        .then(() => loadScript(\"vega-embed\"))\n",
       "        .catch(showError)\n",
       "        .then(() => displayChart(vegaEmbed));\n",
       "    }\n",
       "  })({\"config\": {\"view\": {\"continuousWidth\": 400, \"continuousHeight\": 300}}, \"data\": {\"name\": \"data-fdeb0b749a6385830bd1445d39ad6ea0\"}, \"mark\": \"point\", \"encoding\": {\"x\": {\"type\": \"quantitative\", \"field\": \"fertility\"}, \"y\": {\"type\": \"quantitative\", \"field\": \"life_expect\"}}, \"$schema\": \"https://vega.github.io/schema/vega-lite/v4.8.1.json\", \"datasets\": {\"data-fdeb0b749a6385830bd1445d39ad6ea0\": [{\"year\": 2000, \"country\": \"Afghanistan\", \"cluster\": 0, \"pop\": 23898198, \"life_expect\": 42.129, \"fertility\": 7.4792}, {\"year\": 2000, \"country\": \"Argentina\", \"cluster\": 3, \"pop\": 37497728, \"life_expect\": 74.34, \"fertility\": 2.35}, {\"year\": 2000, \"country\": \"Aruba\", \"cluster\": 3, \"pop\": 69539, \"life_expect\": 73.451, \"fertility\": 2.124}, {\"year\": 2000, \"country\": \"Australia\", \"cluster\": 4, \"pop\": 19164620, \"life_expect\": 80.37, \"fertility\": 1.756}, {\"year\": 2000, \"country\": \"Austria\", \"cluster\": 1, \"pop\": 8113413, \"life_expect\": 78.98, \"fertility\": 1.3820000000000001}, {\"year\": 2000, \"country\": \"Bahamas\", \"cluster\": 3, \"pop\": 290075, \"life_expect\": 71.068, \"fertility\": 2.1111}, {\"year\": 2000, \"country\": \"Bangladesh\", \"cluster\": 0, \"pop\": 130406594, \"life_expect\": 62.013, \"fertility\": 3.224}, {\"year\": 2000, \"country\": \"Barbados\", \"cluster\": 3, \"pop\": 273483, \"life_expect\": 75.97, \"fertility\": 1.5}, {\"year\": 2000, \"country\": \"Belgium\", \"cluster\": 1, \"pop\": 10263618, \"life_expect\": 78.32, \"fertility\": 1.638}, {\"year\": 2000, \"country\": \"Bolivia\", \"cluster\": 3, \"pop\": 8152620, \"life_expect\": 63.883, \"fertility\": 3.9585}, {\"year\": 2000, \"country\": \"Brazil\", \"cluster\": 3, \"pop\": 175552771, \"life_expect\": 71.006, \"fertility\": 2.345}, {\"year\": 2000, \"country\": \"Canada\", \"cluster\": 3, \"pop\": 31278097, \"life_expect\": 79.77, \"fertility\": 1.522}, {\"year\": 2000, \"country\": \"Chile\", \"cluster\": 3, \"pop\": 15153450, \"life_expect\": 77.86, \"fertility\": 2.0}, {\"year\": 2000, \"country\": \"China\", \"cluster\": 4, \"pop\": 1262645000, \"life_expect\": 72.028, \"fertility\": 1.7000000000000002}, {\"year\": 2000, \"country\": \"Colombia\", \"cluster\": 3, \"pop\": 39685655, \"life_expect\": 71.682, \"fertility\": 2.4705}, {\"year\": 2000, \"country\": \"Costa Rica\", \"cluster\": 3, \"pop\": 3710558, \"life_expect\": 78.123, \"fertility\": 2.2815}, {\"year\": 2000, \"country\": \"Croatia\", \"cluster\": 1, \"pop\": 4410830, \"life_expect\": 74.876, \"fertility\": 1.348}, {\"year\": 2000, \"country\": \"Cuba\", \"cluster\": 3, \"pop\": 11134273, \"life_expect\": 77.158, \"fertility\": 1.63}, {\"year\": 2000, \"country\": \"Dominican Republic\", \"cluster\": 3, \"pop\": 8385828, \"life_expect\": 70.847, \"fertility\": 2.95}, {\"year\": 2000, \"country\": \"Ecuador\", \"cluster\": 3, \"pop\": 12505204, \"life_expect\": 74.173, \"fertility\": 2.8175}, {\"year\": 2000, \"country\": \"Egypt\", \"cluster\": 5, \"pop\": 70492342, \"life_expect\": 69.806, \"fertility\": 3.174}, {\"year\": 2000, \"country\": \"El Salvador\", \"cluster\": 3, \"pop\": 6122515, \"life_expect\": 70.734, \"fertility\": 2.883}, {\"year\": 2000, \"country\": \"Finland\", \"cluster\": 1, \"pop\": 5168595, \"life_expect\": 78.37, \"fertility\": 1.754}, {\"year\": 2000, \"country\": \"France\", \"cluster\": 1, \"pop\": 59381628, \"life_expect\": 79.59, \"fertility\": 1.8833000000000002}, {\"year\": 2000, \"country\": \"Georgia\", \"cluster\": 1, \"pop\": 4777209, \"life_expect\": 70.476, \"fertility\": 1.478}, {\"year\": 2000, \"country\": \"Germany\", \"cluster\": 1, \"pop\": 82187909, \"life_expect\": 78.67, \"fertility\": 1.346}, {\"year\": 2000, \"country\": \"Greece\", \"cluster\": 1, \"pop\": 10559110, \"life_expect\": 78.256, \"fertility\": 1.2770000000000001}, {\"year\": 2000, \"country\": \"Grenada\", \"cluster\": 3, \"pop\": 89312, \"life_expect\": 67.746, \"fertility\": 2.429}, {\"year\": 2000, \"country\": \"Haiti\", \"cluster\": 3, \"pop\": 7306302, \"life_expect\": 58.137, \"fertility\": 4.0}, {\"year\": 2000, \"country\": \"Hong Kong\", \"cluster\": 4, \"pop\": 6658720, \"life_expect\": 81.495, \"fertility\": 0.9400000000000001}, {\"year\": 2000, \"country\": \"Iceland\", \"cluster\": 1, \"pop\": 281043, \"life_expect\": 80.5, \"fertility\": 1.9929999999999999}, {\"year\": 2000, \"country\": \"India\", \"cluster\": 0, \"pop\": 1007702000, \"life_expect\": 62.879, \"fertility\": 3.1132}, {\"year\": 2000, \"country\": \"Indonesia\", \"cluster\": 4, \"pop\": 206265000, \"life_expect\": 68.588, \"fertility\": 2.3761}, {\"year\": 2000, \"country\": \"Iran\", \"cluster\": 5, \"pop\": 65660289, \"life_expect\": 69.451, \"fertility\": 2.124}, {\"year\": 2000, \"country\": \"Iraq\", \"cluster\": 5, \"pop\": 22675617, \"life_expect\": 57.046, \"fertility\": 4.858}, {\"year\": 2000, \"country\": \"Ireland\", \"cluster\": 1, \"pop\": 3791690, \"life_expect\": 77.783, \"fertility\": 1.9689999999999999}, {\"year\": 2000, \"country\": \"Israel\", \"cluster\": 5, \"pop\": 5842454, \"life_expect\": 79.696, \"fertility\": 2.906}, {\"year\": 2000, \"country\": \"Italy\", \"cluster\": 1, \"pop\": 57719337, \"life_expect\": 80.24, \"fertility\": 1.286}, {\"year\": 2000, \"country\": \"Jamaica\", \"cluster\": 3, \"pop\": 2615467, \"life_expect\": 72.047, \"fertility\": 2.628}, {\"year\": 2000, \"country\": \"Japan\", \"cluster\": 4, \"pop\": 126699784, \"life_expect\": 82.0, \"fertility\": 1.291}, {\"year\": 2000, \"country\": \"Kenya\", \"cluster\": 2, \"pop\": 29985839, \"life_expect\": 50.992, \"fertility\": 5.0}, {\"year\": 2000, \"country\": \"South Korea\", \"cluster\": 4, \"pop\": 21647682, \"life_expect\": 66.662, \"fertility\": 1.9173}, {\"year\": 2000, \"country\": \"North Korea\", \"cluster\": 4, \"pop\": 47351083, \"life_expect\": 77.045, \"fertility\": 1.242}, {\"year\": 2000, \"country\": \"Lebanon\", \"cluster\": 5, \"pop\": 3578036, \"life_expect\": 71.028, \"fertility\": 2.319}, {\"year\": 2000, \"country\": \"Mexico\", \"cluster\": 3, \"pop\": 99926620, \"life_expect\": 74.902, \"fertility\": 2.4005}, {\"year\": 2000, \"country\": \"Netherlands\", \"cluster\": 1, \"pop\": 15907853, \"life_expect\": 78.53, \"fertility\": 1.726}, {\"year\": 2000, \"country\": \"New Zealand\", \"cluster\": 4, \"pop\": 3819762, \"life_expect\": 79.11, \"fertility\": 1.964}, {\"year\": 2000, \"country\": \"Nigeria\", \"cluster\": 2, \"pop\": 114306700, \"life_expect\": 46.608, \"fertility\": 5.845}, {\"year\": 2000, \"country\": \"Norway\", \"cluster\": 1, \"pop\": 4492400, \"life_expect\": 79.05, \"fertility\": 1.8010000000000002}, {\"year\": 2000, \"country\": \"Pakistan\", \"cluster\": 0, \"pop\": 146342958, \"life_expect\": 63.61, \"fertility\": 3.9936}, {\"year\": 2000, \"country\": \"Peru\", \"cluster\": 3, \"pop\": 25979722, \"life_expect\": 69.906, \"fertility\": 2.7005}, {\"year\": 2000, \"country\": \"Philippines\", \"cluster\": 4, \"pop\": 79739825, \"life_expect\": 70.303, \"fertility\": 3.5436}, {\"year\": 2000, \"country\": \"Poland\", \"cluster\": 1, \"pop\": 38654164, \"life_expect\": 74.67, \"fertility\": 1.251}, {\"year\": 2000, \"country\": \"Portugal\", \"cluster\": 1, \"pop\": 10335597, \"life_expect\": 77.29, \"fertility\": 1.454}, {\"year\": 2000, \"country\": \"Rwanda\", \"cluster\": 2, \"pop\": 7507056, \"life_expect\": 43.413, \"fertility\": 6.01}, {\"year\": 2000, \"country\": \"Saudi Arabia\", \"cluster\": 5, \"pop\": 23153090, \"life_expect\": 71.626, \"fertility\": 3.81}, {\"year\": 2000, \"country\": \"South Africa\", \"cluster\": 2, \"pop\": 44066197, \"life_expect\": 53.365, \"fertility\": 2.802}, {\"year\": 2000, \"country\": \"Spain\", \"cluster\": 1, \"pop\": 40016081, \"life_expect\": 79.78, \"fertility\": 1.287}, {\"year\": 2000, \"country\": \"Switzerland\", \"cluster\": 1, \"pop\": 7266920, \"life_expect\": 80.62, \"fertility\": 1.415}, {\"year\": 2000, \"country\": \"Turkey\", \"cluster\": 1, \"pop\": 65666677, \"life_expect\": 70.845, \"fertility\": 2.23}, {\"year\": 2000, \"country\": \"United Kingdom\", \"cluster\": 1, \"pop\": 59522468, \"life_expect\": 78.471, \"fertility\": 1.695}, {\"year\": 2000, \"country\": \"United States\", \"cluster\": 3, \"pop\": 282338631, \"life_expect\": 77.31, \"fertility\": 2.038}, {\"year\": 2000, \"country\": \"Venezuela\", \"cluster\": 3, \"pop\": 23542649, \"life_expect\": 72.766, \"fertility\": 2.723}]}}, {\"mode\": \"vega-lite\"});\n",
       "</script>"
      ],
      "text/plain": [
       "alt.Chart(...)"
      ]
     },
     "execution_count": 11,
     "metadata": {},
     "output_type": "execute_result"
    }
   ],
   "source": [
    "alt.Chart(data2000).mark_point().encode(\n",
    "    alt.X('fertility:Q'),\n",
    "    alt.Y('life_expect:Q')\n",
    ")"
   ]
  },
  {
   "cell_type": "markdown",
   "metadata": {
    "colab_type": "text",
    "id": "GUKc1DEDTbA0",
    "slideshow": {
     "slide_type": "subslide"
    }
   },
   "source": [
    "- 기본적으로, 선형 정량형 스케일로 지정된 축에는 원점이 포함되는데,   \n",
    "  이는 비율 척도 데이터의 비교를 위한 기준선을 제공하기 위한 것이다. \n",
    "- 그렇지만 어떤 경우에는 원점 기준선이 의미가 없거나  \n",
    "  비교를 위하여 특정 구간에만 초점을 맞추고 싶을 수 있다. \n",
    "- 원점 기준선이 자동적으로 포함되는 것을 방지하려면,  \n",
    "  인코딩 `scale` 매개변수를 사용해서 스케일 맵핑을 설정해야 한다. "
   ]
  },
  {
   "cell_type": "code",
   "execution_count": 12,
   "metadata": {
    "colab": {
     "base_uri": "https://localhost:8080/",
     "height": 372
    },
    "colab_type": "code",
    "id": "-6klI5DhSdik",
    "outputId": "8cb0ca55-176b-4d2f-8891-2c124276e429",
    "slideshow": {
     "slide_type": "fragment"
    }
   },
   "outputs": [
    {
     "data": {
      "text/html": [
       "\n",
       "<div id=\"altair-viz-b3335aed170346aab470676e2f56814a\"></div>\n",
       "<script type=\"text/javascript\">\n",
       "  (function(spec, embedOpt){\n",
       "    let outputDiv = document.currentScript.previousElementSibling;\n",
       "    if (outputDiv.id !== \"altair-viz-b3335aed170346aab470676e2f56814a\") {\n",
       "      outputDiv = document.getElementById(\"altair-viz-b3335aed170346aab470676e2f56814a\");\n",
       "    }\n",
       "    const paths = {\n",
       "      \"vega\": \"https://cdn.jsdelivr.net/npm//vega@5?noext\",\n",
       "      \"vega-lib\": \"https://cdn.jsdelivr.net/npm//vega-lib?noext\",\n",
       "      \"vega-lite\": \"https://cdn.jsdelivr.net/npm//vega-lite@4.8.1?noext\",\n",
       "      \"vega-embed\": \"https://cdn.jsdelivr.net/npm//vega-embed@6?noext\",\n",
       "    };\n",
       "\n",
       "    function loadScript(lib) {\n",
       "      return new Promise(function(resolve, reject) {\n",
       "        var s = document.createElement('script');\n",
       "        s.src = paths[lib];\n",
       "        s.async = true;\n",
       "        s.onload = () => resolve(paths[lib]);\n",
       "        s.onerror = () => reject(`Error loading script: ${paths[lib]}`);\n",
       "        document.getElementsByTagName(\"head\")[0].appendChild(s);\n",
       "      });\n",
       "    }\n",
       "\n",
       "    function showError(err) {\n",
       "      outputDiv.innerHTML = `<div class=\"error\" style=\"color:red;\">${err}</div>`;\n",
       "      throw err;\n",
       "    }\n",
       "\n",
       "    function displayChart(vegaEmbed) {\n",
       "      vegaEmbed(outputDiv, spec, embedOpt)\n",
       "        .catch(err => showError(`Javascript Error: ${err.message}<br>This usually means there's a typo in your chart specification. See the javascript console for the full traceback.`));\n",
       "    }\n",
       "\n",
       "    if(typeof define === \"function\" && define.amd) {\n",
       "      requirejs.config({paths});\n",
       "      require([\"vega-embed\"], displayChart, err => showError(`Error loading script: ${err.message}`));\n",
       "    } else if (typeof vegaEmbed === \"function\") {\n",
       "      displayChart(vegaEmbed);\n",
       "    } else {\n",
       "      loadScript(\"vega\")\n",
       "        .then(() => loadScript(\"vega-lite\"))\n",
       "        .then(() => loadScript(\"vega-embed\"))\n",
       "        .catch(showError)\n",
       "        .then(() => displayChart(vegaEmbed));\n",
       "    }\n",
       "  })({\"config\": {\"view\": {\"continuousWidth\": 400, \"continuousHeight\": 300}}, \"data\": {\"name\": \"data-fdeb0b749a6385830bd1445d39ad6ea0\"}, \"mark\": \"point\", \"encoding\": {\"x\": {\"type\": \"quantitative\", \"field\": \"fertility\", \"scale\": {\"zero\": false}}, \"y\": {\"type\": \"quantitative\", \"field\": \"life_expect\", \"scale\": {\"zero\": false}}}, \"$schema\": \"https://vega.github.io/schema/vega-lite/v4.8.1.json\", \"datasets\": {\"data-fdeb0b749a6385830bd1445d39ad6ea0\": [{\"year\": 2000, \"country\": \"Afghanistan\", \"cluster\": 0, \"pop\": 23898198, \"life_expect\": 42.129, \"fertility\": 7.4792}, {\"year\": 2000, \"country\": \"Argentina\", \"cluster\": 3, \"pop\": 37497728, \"life_expect\": 74.34, \"fertility\": 2.35}, {\"year\": 2000, \"country\": \"Aruba\", \"cluster\": 3, \"pop\": 69539, \"life_expect\": 73.451, \"fertility\": 2.124}, {\"year\": 2000, \"country\": \"Australia\", \"cluster\": 4, \"pop\": 19164620, \"life_expect\": 80.37, \"fertility\": 1.756}, {\"year\": 2000, \"country\": \"Austria\", \"cluster\": 1, \"pop\": 8113413, \"life_expect\": 78.98, \"fertility\": 1.3820000000000001}, {\"year\": 2000, \"country\": \"Bahamas\", \"cluster\": 3, \"pop\": 290075, \"life_expect\": 71.068, \"fertility\": 2.1111}, {\"year\": 2000, \"country\": \"Bangladesh\", \"cluster\": 0, \"pop\": 130406594, \"life_expect\": 62.013, \"fertility\": 3.224}, {\"year\": 2000, \"country\": \"Barbados\", \"cluster\": 3, \"pop\": 273483, \"life_expect\": 75.97, \"fertility\": 1.5}, {\"year\": 2000, \"country\": \"Belgium\", \"cluster\": 1, \"pop\": 10263618, \"life_expect\": 78.32, \"fertility\": 1.638}, {\"year\": 2000, \"country\": \"Bolivia\", \"cluster\": 3, \"pop\": 8152620, \"life_expect\": 63.883, \"fertility\": 3.9585}, {\"year\": 2000, \"country\": \"Brazil\", \"cluster\": 3, \"pop\": 175552771, \"life_expect\": 71.006, \"fertility\": 2.345}, {\"year\": 2000, \"country\": \"Canada\", \"cluster\": 3, \"pop\": 31278097, \"life_expect\": 79.77, \"fertility\": 1.522}, {\"year\": 2000, \"country\": \"Chile\", \"cluster\": 3, \"pop\": 15153450, \"life_expect\": 77.86, \"fertility\": 2.0}, {\"year\": 2000, \"country\": \"China\", \"cluster\": 4, \"pop\": 1262645000, \"life_expect\": 72.028, \"fertility\": 1.7000000000000002}, {\"year\": 2000, \"country\": \"Colombia\", \"cluster\": 3, \"pop\": 39685655, \"life_expect\": 71.682, \"fertility\": 2.4705}, {\"year\": 2000, \"country\": \"Costa Rica\", \"cluster\": 3, \"pop\": 3710558, \"life_expect\": 78.123, \"fertility\": 2.2815}, {\"year\": 2000, \"country\": \"Croatia\", \"cluster\": 1, \"pop\": 4410830, \"life_expect\": 74.876, \"fertility\": 1.348}, {\"year\": 2000, \"country\": \"Cuba\", \"cluster\": 3, \"pop\": 11134273, \"life_expect\": 77.158, \"fertility\": 1.63}, {\"year\": 2000, \"country\": \"Dominican Republic\", \"cluster\": 3, \"pop\": 8385828, \"life_expect\": 70.847, \"fertility\": 2.95}, {\"year\": 2000, \"country\": \"Ecuador\", \"cluster\": 3, \"pop\": 12505204, \"life_expect\": 74.173, \"fertility\": 2.8175}, {\"year\": 2000, \"country\": \"Egypt\", \"cluster\": 5, \"pop\": 70492342, \"life_expect\": 69.806, \"fertility\": 3.174}, {\"year\": 2000, \"country\": \"El Salvador\", \"cluster\": 3, \"pop\": 6122515, \"life_expect\": 70.734, \"fertility\": 2.883}, {\"year\": 2000, \"country\": \"Finland\", \"cluster\": 1, \"pop\": 5168595, \"life_expect\": 78.37, \"fertility\": 1.754}, {\"year\": 2000, \"country\": \"France\", \"cluster\": 1, \"pop\": 59381628, \"life_expect\": 79.59, \"fertility\": 1.8833000000000002}, {\"year\": 2000, \"country\": \"Georgia\", \"cluster\": 1, \"pop\": 4777209, \"life_expect\": 70.476, \"fertility\": 1.478}, {\"year\": 2000, \"country\": \"Germany\", \"cluster\": 1, \"pop\": 82187909, \"life_expect\": 78.67, \"fertility\": 1.346}, {\"year\": 2000, \"country\": \"Greece\", \"cluster\": 1, \"pop\": 10559110, \"life_expect\": 78.256, \"fertility\": 1.2770000000000001}, {\"year\": 2000, \"country\": \"Grenada\", \"cluster\": 3, \"pop\": 89312, \"life_expect\": 67.746, \"fertility\": 2.429}, {\"year\": 2000, \"country\": \"Haiti\", \"cluster\": 3, \"pop\": 7306302, \"life_expect\": 58.137, \"fertility\": 4.0}, {\"year\": 2000, \"country\": \"Hong Kong\", \"cluster\": 4, \"pop\": 6658720, \"life_expect\": 81.495, \"fertility\": 0.9400000000000001}, {\"year\": 2000, \"country\": \"Iceland\", \"cluster\": 1, \"pop\": 281043, \"life_expect\": 80.5, \"fertility\": 1.9929999999999999}, {\"year\": 2000, \"country\": \"India\", \"cluster\": 0, \"pop\": 1007702000, \"life_expect\": 62.879, \"fertility\": 3.1132}, {\"year\": 2000, \"country\": \"Indonesia\", \"cluster\": 4, \"pop\": 206265000, \"life_expect\": 68.588, \"fertility\": 2.3761}, {\"year\": 2000, \"country\": \"Iran\", \"cluster\": 5, \"pop\": 65660289, \"life_expect\": 69.451, \"fertility\": 2.124}, {\"year\": 2000, \"country\": \"Iraq\", \"cluster\": 5, \"pop\": 22675617, \"life_expect\": 57.046, \"fertility\": 4.858}, {\"year\": 2000, \"country\": \"Ireland\", \"cluster\": 1, \"pop\": 3791690, \"life_expect\": 77.783, \"fertility\": 1.9689999999999999}, {\"year\": 2000, \"country\": \"Israel\", \"cluster\": 5, \"pop\": 5842454, \"life_expect\": 79.696, \"fertility\": 2.906}, {\"year\": 2000, \"country\": \"Italy\", \"cluster\": 1, \"pop\": 57719337, \"life_expect\": 80.24, \"fertility\": 1.286}, {\"year\": 2000, \"country\": \"Jamaica\", \"cluster\": 3, \"pop\": 2615467, \"life_expect\": 72.047, \"fertility\": 2.628}, {\"year\": 2000, \"country\": \"Japan\", \"cluster\": 4, \"pop\": 126699784, \"life_expect\": 82.0, \"fertility\": 1.291}, {\"year\": 2000, \"country\": \"Kenya\", \"cluster\": 2, \"pop\": 29985839, \"life_expect\": 50.992, \"fertility\": 5.0}, {\"year\": 2000, \"country\": \"South Korea\", \"cluster\": 4, \"pop\": 21647682, \"life_expect\": 66.662, \"fertility\": 1.9173}, {\"year\": 2000, \"country\": \"North Korea\", \"cluster\": 4, \"pop\": 47351083, \"life_expect\": 77.045, \"fertility\": 1.242}, {\"year\": 2000, \"country\": \"Lebanon\", \"cluster\": 5, \"pop\": 3578036, \"life_expect\": 71.028, \"fertility\": 2.319}, {\"year\": 2000, \"country\": \"Mexico\", \"cluster\": 3, \"pop\": 99926620, \"life_expect\": 74.902, \"fertility\": 2.4005}, {\"year\": 2000, \"country\": \"Netherlands\", \"cluster\": 1, \"pop\": 15907853, \"life_expect\": 78.53, \"fertility\": 1.726}, {\"year\": 2000, \"country\": \"New Zealand\", \"cluster\": 4, \"pop\": 3819762, \"life_expect\": 79.11, \"fertility\": 1.964}, {\"year\": 2000, \"country\": \"Nigeria\", \"cluster\": 2, \"pop\": 114306700, \"life_expect\": 46.608, \"fertility\": 5.845}, {\"year\": 2000, \"country\": \"Norway\", \"cluster\": 1, \"pop\": 4492400, \"life_expect\": 79.05, \"fertility\": 1.8010000000000002}, {\"year\": 2000, \"country\": \"Pakistan\", \"cluster\": 0, \"pop\": 146342958, \"life_expect\": 63.61, \"fertility\": 3.9936}, {\"year\": 2000, \"country\": \"Peru\", \"cluster\": 3, \"pop\": 25979722, \"life_expect\": 69.906, \"fertility\": 2.7005}, {\"year\": 2000, \"country\": \"Philippines\", \"cluster\": 4, \"pop\": 79739825, \"life_expect\": 70.303, \"fertility\": 3.5436}, {\"year\": 2000, \"country\": \"Poland\", \"cluster\": 1, \"pop\": 38654164, \"life_expect\": 74.67, \"fertility\": 1.251}, {\"year\": 2000, \"country\": \"Portugal\", \"cluster\": 1, \"pop\": 10335597, \"life_expect\": 77.29, \"fertility\": 1.454}, {\"year\": 2000, \"country\": \"Rwanda\", \"cluster\": 2, \"pop\": 7507056, \"life_expect\": 43.413, \"fertility\": 6.01}, {\"year\": 2000, \"country\": \"Saudi Arabia\", \"cluster\": 5, \"pop\": 23153090, \"life_expect\": 71.626, \"fertility\": 3.81}, {\"year\": 2000, \"country\": \"South Africa\", \"cluster\": 2, \"pop\": 44066197, \"life_expect\": 53.365, \"fertility\": 2.802}, {\"year\": 2000, \"country\": \"Spain\", \"cluster\": 1, \"pop\": 40016081, \"life_expect\": 79.78, \"fertility\": 1.287}, {\"year\": 2000, \"country\": \"Switzerland\", \"cluster\": 1, \"pop\": 7266920, \"life_expect\": 80.62, \"fertility\": 1.415}, {\"year\": 2000, \"country\": \"Turkey\", \"cluster\": 1, \"pop\": 65666677, \"life_expect\": 70.845, \"fertility\": 2.23}, {\"year\": 2000, \"country\": \"United Kingdom\", \"cluster\": 1, \"pop\": 59522468, \"life_expect\": 78.471, \"fertility\": 1.695}, {\"year\": 2000, \"country\": \"United States\", \"cluster\": 3, \"pop\": 282338631, \"life_expect\": 77.31, \"fertility\": 2.038}, {\"year\": 2000, \"country\": \"Venezuela\", \"cluster\": 3, \"pop\": 23542649, \"life_expect\": 72.766, \"fertility\": 2.723}]}}, {\"mode\": \"vega-lite\"});\n",
       "</script>"
      ],
      "text/plain": [
       "alt.Chart(...)"
      ]
     },
     "execution_count": 12,
     "metadata": {},
     "output_type": "execute_result"
    }
   ],
   "source": [
    "alt.Chart(data2000).mark_point().encode(\n",
    "    alt.X('fertility:Q', scale=alt.Scale(zero=False)),   # 스케일 맵핑 설정 \n",
    "    alt.Y('life_expect:Q', scale=alt.Scale(zero=False))  # 스케일 맵핑 설정\n",
    ")"
   ]
  },
  {
   "cell_type": "markdown",
   "metadata": {
    "colab_type": "text",
    "id": "oUKf6WQmSzqC",
    "slideshow": {
     "slide_type": "subslide"
    }
   },
   "source": [
    "- 이렇게 하면, 축 스케일에 원점이 포함되지 않는다.  \n",
    "  - 그래도 일부 내부 여백(padding)이 여전히 포함되는데,  \n",
    "    5 또는 10 등의 배수 수치로 눈금선을 멋지게(nice) 처리하기 위한 것이다.  \n",
    "  - `nice=False` 인자를 추가로 지정할 수 있다. "
   ]
  },
  {
   "cell_type": "code",
   "execution_count": 13,
   "metadata": {
    "colab": {
     "base_uri": "https://localhost:8080/",
     "height": 372
    },
    "colab_type": "code",
    "id": "-6klI5DhSdik",
    "outputId": "8cb0ca55-176b-4d2f-8891-2c124276e429",
    "slideshow": {
     "slide_type": "fragment"
    }
   },
   "outputs": [
    {
     "data": {
      "text/html": [
       "\n",
       "<div id=\"altair-viz-09e9552cac644df990b138fc6d3e5a8f\"></div>\n",
       "<script type=\"text/javascript\">\n",
       "  (function(spec, embedOpt){\n",
       "    let outputDiv = document.currentScript.previousElementSibling;\n",
       "    if (outputDiv.id !== \"altair-viz-09e9552cac644df990b138fc6d3e5a8f\") {\n",
       "      outputDiv = document.getElementById(\"altair-viz-09e9552cac644df990b138fc6d3e5a8f\");\n",
       "    }\n",
       "    const paths = {\n",
       "      \"vega\": \"https://cdn.jsdelivr.net/npm//vega@5?noext\",\n",
       "      \"vega-lib\": \"https://cdn.jsdelivr.net/npm//vega-lib?noext\",\n",
       "      \"vega-lite\": \"https://cdn.jsdelivr.net/npm//vega-lite@4.8.1?noext\",\n",
       "      \"vega-embed\": \"https://cdn.jsdelivr.net/npm//vega-embed@6?noext\",\n",
       "    };\n",
       "\n",
       "    function loadScript(lib) {\n",
       "      return new Promise(function(resolve, reject) {\n",
       "        var s = document.createElement('script');\n",
       "        s.src = paths[lib];\n",
       "        s.async = true;\n",
       "        s.onload = () => resolve(paths[lib]);\n",
       "        s.onerror = () => reject(`Error loading script: ${paths[lib]}`);\n",
       "        document.getElementsByTagName(\"head\")[0].appendChild(s);\n",
       "      });\n",
       "    }\n",
       "\n",
       "    function showError(err) {\n",
       "      outputDiv.innerHTML = `<div class=\"error\" style=\"color:red;\">${err}</div>`;\n",
       "      throw err;\n",
       "    }\n",
       "\n",
       "    function displayChart(vegaEmbed) {\n",
       "      vegaEmbed(outputDiv, spec, embedOpt)\n",
       "        .catch(err => showError(`Javascript Error: ${err.message}<br>This usually means there's a typo in your chart specification. See the javascript console for the full traceback.`));\n",
       "    }\n",
       "\n",
       "    if(typeof define === \"function\" && define.amd) {\n",
       "      requirejs.config({paths});\n",
       "      require([\"vega-embed\"], displayChart, err => showError(`Error loading script: ${err.message}`));\n",
       "    } else if (typeof vegaEmbed === \"function\") {\n",
       "      displayChart(vegaEmbed);\n",
       "    } else {\n",
       "      loadScript(\"vega\")\n",
       "        .then(() => loadScript(\"vega-lite\"))\n",
       "        .then(() => loadScript(\"vega-embed\"))\n",
       "        .catch(showError)\n",
       "        .then(() => displayChart(vegaEmbed));\n",
       "    }\n",
       "  })({\"config\": {\"view\": {\"continuousWidth\": 400, \"continuousHeight\": 300}}, \"data\": {\"name\": \"data-fdeb0b749a6385830bd1445d39ad6ea0\"}, \"mark\": \"point\", \"encoding\": {\"x\": {\"type\": \"quantitative\", \"field\": \"fertility\", \"scale\": {\"nice\": false, \"zero\": false}}, \"y\": {\"type\": \"quantitative\", \"field\": \"life_expect\", \"scale\": {\"nice\": false, \"zero\": false}}}, \"$schema\": \"https://vega.github.io/schema/vega-lite/v4.8.1.json\", \"datasets\": {\"data-fdeb0b749a6385830bd1445d39ad6ea0\": [{\"year\": 2000, \"country\": \"Afghanistan\", \"cluster\": 0, \"pop\": 23898198, \"life_expect\": 42.129, \"fertility\": 7.4792}, {\"year\": 2000, \"country\": \"Argentina\", \"cluster\": 3, \"pop\": 37497728, \"life_expect\": 74.34, \"fertility\": 2.35}, {\"year\": 2000, \"country\": \"Aruba\", \"cluster\": 3, \"pop\": 69539, \"life_expect\": 73.451, \"fertility\": 2.124}, {\"year\": 2000, \"country\": \"Australia\", \"cluster\": 4, \"pop\": 19164620, \"life_expect\": 80.37, \"fertility\": 1.756}, {\"year\": 2000, \"country\": \"Austria\", \"cluster\": 1, \"pop\": 8113413, \"life_expect\": 78.98, \"fertility\": 1.3820000000000001}, {\"year\": 2000, \"country\": \"Bahamas\", \"cluster\": 3, \"pop\": 290075, \"life_expect\": 71.068, \"fertility\": 2.1111}, {\"year\": 2000, \"country\": \"Bangladesh\", \"cluster\": 0, \"pop\": 130406594, \"life_expect\": 62.013, \"fertility\": 3.224}, {\"year\": 2000, \"country\": \"Barbados\", \"cluster\": 3, \"pop\": 273483, \"life_expect\": 75.97, \"fertility\": 1.5}, {\"year\": 2000, \"country\": \"Belgium\", \"cluster\": 1, \"pop\": 10263618, \"life_expect\": 78.32, \"fertility\": 1.638}, {\"year\": 2000, \"country\": \"Bolivia\", \"cluster\": 3, \"pop\": 8152620, \"life_expect\": 63.883, \"fertility\": 3.9585}, {\"year\": 2000, \"country\": \"Brazil\", \"cluster\": 3, \"pop\": 175552771, \"life_expect\": 71.006, \"fertility\": 2.345}, {\"year\": 2000, \"country\": \"Canada\", \"cluster\": 3, \"pop\": 31278097, \"life_expect\": 79.77, \"fertility\": 1.522}, {\"year\": 2000, \"country\": \"Chile\", \"cluster\": 3, \"pop\": 15153450, \"life_expect\": 77.86, \"fertility\": 2.0}, {\"year\": 2000, \"country\": \"China\", \"cluster\": 4, \"pop\": 1262645000, \"life_expect\": 72.028, \"fertility\": 1.7000000000000002}, {\"year\": 2000, \"country\": \"Colombia\", \"cluster\": 3, \"pop\": 39685655, \"life_expect\": 71.682, \"fertility\": 2.4705}, {\"year\": 2000, \"country\": \"Costa Rica\", \"cluster\": 3, \"pop\": 3710558, \"life_expect\": 78.123, \"fertility\": 2.2815}, {\"year\": 2000, \"country\": \"Croatia\", \"cluster\": 1, \"pop\": 4410830, \"life_expect\": 74.876, \"fertility\": 1.348}, {\"year\": 2000, \"country\": \"Cuba\", \"cluster\": 3, \"pop\": 11134273, \"life_expect\": 77.158, \"fertility\": 1.63}, {\"year\": 2000, \"country\": \"Dominican Republic\", \"cluster\": 3, \"pop\": 8385828, \"life_expect\": 70.847, \"fertility\": 2.95}, {\"year\": 2000, \"country\": \"Ecuador\", \"cluster\": 3, \"pop\": 12505204, \"life_expect\": 74.173, \"fertility\": 2.8175}, {\"year\": 2000, \"country\": \"Egypt\", \"cluster\": 5, \"pop\": 70492342, \"life_expect\": 69.806, \"fertility\": 3.174}, {\"year\": 2000, \"country\": \"El Salvador\", \"cluster\": 3, \"pop\": 6122515, \"life_expect\": 70.734, \"fertility\": 2.883}, {\"year\": 2000, \"country\": \"Finland\", \"cluster\": 1, \"pop\": 5168595, \"life_expect\": 78.37, \"fertility\": 1.754}, {\"year\": 2000, \"country\": \"France\", \"cluster\": 1, \"pop\": 59381628, \"life_expect\": 79.59, \"fertility\": 1.8833000000000002}, {\"year\": 2000, \"country\": \"Georgia\", \"cluster\": 1, \"pop\": 4777209, \"life_expect\": 70.476, \"fertility\": 1.478}, {\"year\": 2000, \"country\": \"Germany\", \"cluster\": 1, \"pop\": 82187909, \"life_expect\": 78.67, \"fertility\": 1.346}, {\"year\": 2000, \"country\": \"Greece\", \"cluster\": 1, \"pop\": 10559110, \"life_expect\": 78.256, \"fertility\": 1.2770000000000001}, {\"year\": 2000, \"country\": \"Grenada\", \"cluster\": 3, \"pop\": 89312, \"life_expect\": 67.746, \"fertility\": 2.429}, {\"year\": 2000, \"country\": \"Haiti\", \"cluster\": 3, \"pop\": 7306302, \"life_expect\": 58.137, \"fertility\": 4.0}, {\"year\": 2000, \"country\": \"Hong Kong\", \"cluster\": 4, \"pop\": 6658720, \"life_expect\": 81.495, \"fertility\": 0.9400000000000001}, {\"year\": 2000, \"country\": \"Iceland\", \"cluster\": 1, \"pop\": 281043, \"life_expect\": 80.5, \"fertility\": 1.9929999999999999}, {\"year\": 2000, \"country\": \"India\", \"cluster\": 0, \"pop\": 1007702000, \"life_expect\": 62.879, \"fertility\": 3.1132}, {\"year\": 2000, \"country\": \"Indonesia\", \"cluster\": 4, \"pop\": 206265000, \"life_expect\": 68.588, \"fertility\": 2.3761}, {\"year\": 2000, \"country\": \"Iran\", \"cluster\": 5, \"pop\": 65660289, \"life_expect\": 69.451, \"fertility\": 2.124}, {\"year\": 2000, \"country\": \"Iraq\", \"cluster\": 5, \"pop\": 22675617, \"life_expect\": 57.046, \"fertility\": 4.858}, {\"year\": 2000, \"country\": \"Ireland\", \"cluster\": 1, \"pop\": 3791690, \"life_expect\": 77.783, \"fertility\": 1.9689999999999999}, {\"year\": 2000, \"country\": \"Israel\", \"cluster\": 5, \"pop\": 5842454, \"life_expect\": 79.696, \"fertility\": 2.906}, {\"year\": 2000, \"country\": \"Italy\", \"cluster\": 1, \"pop\": 57719337, \"life_expect\": 80.24, \"fertility\": 1.286}, {\"year\": 2000, \"country\": \"Jamaica\", \"cluster\": 3, \"pop\": 2615467, \"life_expect\": 72.047, \"fertility\": 2.628}, {\"year\": 2000, \"country\": \"Japan\", \"cluster\": 4, \"pop\": 126699784, \"life_expect\": 82.0, \"fertility\": 1.291}, {\"year\": 2000, \"country\": \"Kenya\", \"cluster\": 2, \"pop\": 29985839, \"life_expect\": 50.992, \"fertility\": 5.0}, {\"year\": 2000, \"country\": \"South Korea\", \"cluster\": 4, \"pop\": 21647682, \"life_expect\": 66.662, \"fertility\": 1.9173}, {\"year\": 2000, \"country\": \"North Korea\", \"cluster\": 4, \"pop\": 47351083, \"life_expect\": 77.045, \"fertility\": 1.242}, {\"year\": 2000, \"country\": \"Lebanon\", \"cluster\": 5, \"pop\": 3578036, \"life_expect\": 71.028, \"fertility\": 2.319}, {\"year\": 2000, \"country\": \"Mexico\", \"cluster\": 3, \"pop\": 99926620, \"life_expect\": 74.902, \"fertility\": 2.4005}, {\"year\": 2000, \"country\": \"Netherlands\", \"cluster\": 1, \"pop\": 15907853, \"life_expect\": 78.53, \"fertility\": 1.726}, {\"year\": 2000, \"country\": \"New Zealand\", \"cluster\": 4, \"pop\": 3819762, \"life_expect\": 79.11, \"fertility\": 1.964}, {\"year\": 2000, \"country\": \"Nigeria\", \"cluster\": 2, \"pop\": 114306700, \"life_expect\": 46.608, \"fertility\": 5.845}, {\"year\": 2000, \"country\": \"Norway\", \"cluster\": 1, \"pop\": 4492400, \"life_expect\": 79.05, \"fertility\": 1.8010000000000002}, {\"year\": 2000, \"country\": \"Pakistan\", \"cluster\": 0, \"pop\": 146342958, \"life_expect\": 63.61, \"fertility\": 3.9936}, {\"year\": 2000, \"country\": \"Peru\", \"cluster\": 3, \"pop\": 25979722, \"life_expect\": 69.906, \"fertility\": 2.7005}, {\"year\": 2000, \"country\": \"Philippines\", \"cluster\": 4, \"pop\": 79739825, \"life_expect\": 70.303, \"fertility\": 3.5436}, {\"year\": 2000, \"country\": \"Poland\", \"cluster\": 1, \"pop\": 38654164, \"life_expect\": 74.67, \"fertility\": 1.251}, {\"year\": 2000, \"country\": \"Portugal\", \"cluster\": 1, \"pop\": 10335597, \"life_expect\": 77.29, \"fertility\": 1.454}, {\"year\": 2000, \"country\": \"Rwanda\", \"cluster\": 2, \"pop\": 7507056, \"life_expect\": 43.413, \"fertility\": 6.01}, {\"year\": 2000, \"country\": \"Saudi Arabia\", \"cluster\": 5, \"pop\": 23153090, \"life_expect\": 71.626, \"fertility\": 3.81}, {\"year\": 2000, \"country\": \"South Africa\", \"cluster\": 2, \"pop\": 44066197, \"life_expect\": 53.365, \"fertility\": 2.802}, {\"year\": 2000, \"country\": \"Spain\", \"cluster\": 1, \"pop\": 40016081, \"life_expect\": 79.78, \"fertility\": 1.287}, {\"year\": 2000, \"country\": \"Switzerland\", \"cluster\": 1, \"pop\": 7266920, \"life_expect\": 80.62, \"fertility\": 1.415}, {\"year\": 2000, \"country\": \"Turkey\", \"cluster\": 1, \"pop\": 65666677, \"life_expect\": 70.845, \"fertility\": 2.23}, {\"year\": 2000, \"country\": \"United Kingdom\", \"cluster\": 1, \"pop\": 59522468, \"life_expect\": 78.471, \"fertility\": 1.695}, {\"year\": 2000, \"country\": \"United States\", \"cluster\": 3, \"pop\": 282338631, \"life_expect\": 77.31, \"fertility\": 2.038}, {\"year\": 2000, \"country\": \"Venezuela\", \"cluster\": 3, \"pop\": 23542649, \"life_expect\": 72.766, \"fertility\": 2.723}]}}, {\"mode\": \"vega-lite\"});\n",
       "</script>"
      ],
      "text/plain": [
       "alt.Chart(...)"
      ]
     },
     "execution_count": 13,
     "metadata": {},
     "output_type": "execute_result"
    }
   ],
   "source": [
    "alt.Chart(data2000).mark_point().encode(\n",
    "    alt.X('fertility:Q', scale=alt.Scale(zero=False, nice=False)),   # 스케일 맵핑 설정 \n",
    "    alt.Y('life_expect:Q', scale=alt.Scale(zero=False, nice=False))  # 스케일 맵핑 설정\n",
    ")"
   ]
  },
  {
   "cell_type": "markdown",
   "metadata": {
    "colab_type": "text",
    "id": "hKCsQ0iIPMTV",
    "slideshow": {
     "slide_type": "slide"
    }
   },
   "source": [
    "### 3.3 크기"
   ]
  },
  {
   "cell_type": "markdown",
   "metadata": {
    "colab_type": "text",
    "id": "G7YtT-HNdYT9",
    "slideshow": {
     "slide_type": "fragment"
    }
   },
   "source": [
    "- `size` 인코딩 채널은 마크의 크기를 설정한다. \n",
    "  - 채널의 의미는 마크 유형에 따라 달라진다. \n",
    "  - `point` 마크라면, `size` 채널은 플롯팅 심볼의 픽셀 영역을 의미한다. \n",
    "  - 점의 지름은 `size` 값의 제곱근으로 설정된다.  \n",
    "    $$지름 = \\sqrt{size}$$ 또는 $$(size = 지름^2)$$\n",
    "- 앞서 작성했던 산점도에 대하여 인구 규모 `pop` 필드를 `size` 채널로 인코딩해 보자.  \n",
    "  차트에는 크기에 대한 범례가 추가된다. "
   ]
  },
  {
   "cell_type": "code",
   "execution_count": 14,
   "metadata": {
    "colab": {
     "base_uri": "https://localhost:8080/",
     "height": 372
    },
    "colab_type": "code",
    "id": "sGENuXRfOIPz",
    "outputId": "4f76557c-4e35-41fc-9e06-513be34969ae",
    "slideshow": {
     "slide_type": "subslide"
    }
   },
   "outputs": [
    {
     "data": {
      "text/html": [
       "\n",
       "<div id=\"altair-viz-fa6352aa7ebd4eae853253fd77d3bf06\"></div>\n",
       "<script type=\"text/javascript\">\n",
       "  (function(spec, embedOpt){\n",
       "    let outputDiv = document.currentScript.previousElementSibling;\n",
       "    if (outputDiv.id !== \"altair-viz-fa6352aa7ebd4eae853253fd77d3bf06\") {\n",
       "      outputDiv = document.getElementById(\"altair-viz-fa6352aa7ebd4eae853253fd77d3bf06\");\n",
       "    }\n",
       "    const paths = {\n",
       "      \"vega\": \"https://cdn.jsdelivr.net/npm//vega@5?noext\",\n",
       "      \"vega-lib\": \"https://cdn.jsdelivr.net/npm//vega-lib?noext\",\n",
       "      \"vega-lite\": \"https://cdn.jsdelivr.net/npm//vega-lite@4.8.1?noext\",\n",
       "      \"vega-embed\": \"https://cdn.jsdelivr.net/npm//vega-embed@6?noext\",\n",
       "    };\n",
       "\n",
       "    function loadScript(lib) {\n",
       "      return new Promise(function(resolve, reject) {\n",
       "        var s = document.createElement('script');\n",
       "        s.src = paths[lib];\n",
       "        s.async = true;\n",
       "        s.onload = () => resolve(paths[lib]);\n",
       "        s.onerror = () => reject(`Error loading script: ${paths[lib]}`);\n",
       "        document.getElementsByTagName(\"head\")[0].appendChild(s);\n",
       "      });\n",
       "    }\n",
       "\n",
       "    function showError(err) {\n",
       "      outputDiv.innerHTML = `<div class=\"error\" style=\"color:red;\">${err}</div>`;\n",
       "      throw err;\n",
       "    }\n",
       "\n",
       "    function displayChart(vegaEmbed) {\n",
       "      vegaEmbed(outputDiv, spec, embedOpt)\n",
       "        .catch(err => showError(`Javascript Error: ${err.message}<br>This usually means there's a typo in your chart specification. See the javascript console for the full traceback.`));\n",
       "    }\n",
       "\n",
       "    if(typeof define === \"function\" && define.amd) {\n",
       "      requirejs.config({paths});\n",
       "      require([\"vega-embed\"], displayChart, err => showError(`Error loading script: ${err.message}`));\n",
       "    } else if (typeof vegaEmbed === \"function\") {\n",
       "      displayChart(vegaEmbed);\n",
       "    } else {\n",
       "      loadScript(\"vega\")\n",
       "        .then(() => loadScript(\"vega-lite\"))\n",
       "        .then(() => loadScript(\"vega-embed\"))\n",
       "        .catch(showError)\n",
       "        .then(() => displayChart(vegaEmbed));\n",
       "    }\n",
       "  })({\"config\": {\"view\": {\"continuousWidth\": 400, \"continuousHeight\": 300}}, \"data\": {\"name\": \"data-fdeb0b749a6385830bd1445d39ad6ea0\"}, \"mark\": \"point\", \"encoding\": {\"size\": {\"type\": \"quantitative\", \"field\": \"pop\"}, \"x\": {\"type\": \"quantitative\", \"field\": \"fertility\"}, \"y\": {\"type\": \"quantitative\", \"field\": \"life_expect\"}}, \"$schema\": \"https://vega.github.io/schema/vega-lite/v4.8.1.json\", \"datasets\": {\"data-fdeb0b749a6385830bd1445d39ad6ea0\": [{\"year\": 2000, \"country\": \"Afghanistan\", \"cluster\": 0, \"pop\": 23898198, \"life_expect\": 42.129, \"fertility\": 7.4792}, {\"year\": 2000, \"country\": \"Argentina\", \"cluster\": 3, \"pop\": 37497728, \"life_expect\": 74.34, \"fertility\": 2.35}, {\"year\": 2000, \"country\": \"Aruba\", \"cluster\": 3, \"pop\": 69539, \"life_expect\": 73.451, \"fertility\": 2.124}, {\"year\": 2000, \"country\": \"Australia\", \"cluster\": 4, \"pop\": 19164620, \"life_expect\": 80.37, \"fertility\": 1.756}, {\"year\": 2000, \"country\": \"Austria\", \"cluster\": 1, \"pop\": 8113413, \"life_expect\": 78.98, \"fertility\": 1.3820000000000001}, {\"year\": 2000, \"country\": \"Bahamas\", \"cluster\": 3, \"pop\": 290075, \"life_expect\": 71.068, \"fertility\": 2.1111}, {\"year\": 2000, \"country\": \"Bangladesh\", \"cluster\": 0, \"pop\": 130406594, \"life_expect\": 62.013, \"fertility\": 3.224}, {\"year\": 2000, \"country\": \"Barbados\", \"cluster\": 3, \"pop\": 273483, \"life_expect\": 75.97, \"fertility\": 1.5}, {\"year\": 2000, \"country\": \"Belgium\", \"cluster\": 1, \"pop\": 10263618, \"life_expect\": 78.32, \"fertility\": 1.638}, {\"year\": 2000, \"country\": \"Bolivia\", \"cluster\": 3, \"pop\": 8152620, \"life_expect\": 63.883, \"fertility\": 3.9585}, {\"year\": 2000, \"country\": \"Brazil\", \"cluster\": 3, \"pop\": 175552771, \"life_expect\": 71.006, \"fertility\": 2.345}, {\"year\": 2000, \"country\": \"Canada\", \"cluster\": 3, \"pop\": 31278097, \"life_expect\": 79.77, \"fertility\": 1.522}, {\"year\": 2000, \"country\": \"Chile\", \"cluster\": 3, \"pop\": 15153450, \"life_expect\": 77.86, \"fertility\": 2.0}, {\"year\": 2000, \"country\": \"China\", \"cluster\": 4, \"pop\": 1262645000, \"life_expect\": 72.028, \"fertility\": 1.7000000000000002}, {\"year\": 2000, \"country\": \"Colombia\", \"cluster\": 3, \"pop\": 39685655, \"life_expect\": 71.682, \"fertility\": 2.4705}, {\"year\": 2000, \"country\": \"Costa Rica\", \"cluster\": 3, \"pop\": 3710558, \"life_expect\": 78.123, \"fertility\": 2.2815}, {\"year\": 2000, \"country\": \"Croatia\", \"cluster\": 1, \"pop\": 4410830, \"life_expect\": 74.876, \"fertility\": 1.348}, {\"year\": 2000, \"country\": \"Cuba\", \"cluster\": 3, \"pop\": 11134273, \"life_expect\": 77.158, \"fertility\": 1.63}, {\"year\": 2000, \"country\": \"Dominican Republic\", \"cluster\": 3, \"pop\": 8385828, \"life_expect\": 70.847, \"fertility\": 2.95}, {\"year\": 2000, \"country\": \"Ecuador\", \"cluster\": 3, \"pop\": 12505204, \"life_expect\": 74.173, \"fertility\": 2.8175}, {\"year\": 2000, \"country\": \"Egypt\", \"cluster\": 5, \"pop\": 70492342, \"life_expect\": 69.806, \"fertility\": 3.174}, {\"year\": 2000, \"country\": \"El Salvador\", \"cluster\": 3, \"pop\": 6122515, \"life_expect\": 70.734, \"fertility\": 2.883}, {\"year\": 2000, \"country\": \"Finland\", \"cluster\": 1, \"pop\": 5168595, \"life_expect\": 78.37, \"fertility\": 1.754}, {\"year\": 2000, \"country\": \"France\", \"cluster\": 1, \"pop\": 59381628, \"life_expect\": 79.59, \"fertility\": 1.8833000000000002}, {\"year\": 2000, \"country\": \"Georgia\", \"cluster\": 1, \"pop\": 4777209, \"life_expect\": 70.476, \"fertility\": 1.478}, {\"year\": 2000, \"country\": \"Germany\", \"cluster\": 1, \"pop\": 82187909, \"life_expect\": 78.67, \"fertility\": 1.346}, {\"year\": 2000, \"country\": \"Greece\", \"cluster\": 1, \"pop\": 10559110, \"life_expect\": 78.256, \"fertility\": 1.2770000000000001}, {\"year\": 2000, \"country\": \"Grenada\", \"cluster\": 3, \"pop\": 89312, \"life_expect\": 67.746, \"fertility\": 2.429}, {\"year\": 2000, \"country\": \"Haiti\", \"cluster\": 3, \"pop\": 7306302, \"life_expect\": 58.137, \"fertility\": 4.0}, {\"year\": 2000, \"country\": \"Hong Kong\", \"cluster\": 4, \"pop\": 6658720, \"life_expect\": 81.495, \"fertility\": 0.9400000000000001}, {\"year\": 2000, \"country\": \"Iceland\", \"cluster\": 1, \"pop\": 281043, \"life_expect\": 80.5, \"fertility\": 1.9929999999999999}, {\"year\": 2000, \"country\": \"India\", \"cluster\": 0, \"pop\": 1007702000, \"life_expect\": 62.879, \"fertility\": 3.1132}, {\"year\": 2000, \"country\": \"Indonesia\", \"cluster\": 4, \"pop\": 206265000, \"life_expect\": 68.588, \"fertility\": 2.3761}, {\"year\": 2000, \"country\": \"Iran\", \"cluster\": 5, \"pop\": 65660289, \"life_expect\": 69.451, \"fertility\": 2.124}, {\"year\": 2000, \"country\": \"Iraq\", \"cluster\": 5, \"pop\": 22675617, \"life_expect\": 57.046, \"fertility\": 4.858}, {\"year\": 2000, \"country\": \"Ireland\", \"cluster\": 1, \"pop\": 3791690, \"life_expect\": 77.783, \"fertility\": 1.9689999999999999}, {\"year\": 2000, \"country\": \"Israel\", \"cluster\": 5, \"pop\": 5842454, \"life_expect\": 79.696, \"fertility\": 2.906}, {\"year\": 2000, \"country\": \"Italy\", \"cluster\": 1, \"pop\": 57719337, \"life_expect\": 80.24, \"fertility\": 1.286}, {\"year\": 2000, \"country\": \"Jamaica\", \"cluster\": 3, \"pop\": 2615467, \"life_expect\": 72.047, \"fertility\": 2.628}, {\"year\": 2000, \"country\": \"Japan\", \"cluster\": 4, \"pop\": 126699784, \"life_expect\": 82.0, \"fertility\": 1.291}, {\"year\": 2000, \"country\": \"Kenya\", \"cluster\": 2, \"pop\": 29985839, \"life_expect\": 50.992, \"fertility\": 5.0}, {\"year\": 2000, \"country\": \"South Korea\", \"cluster\": 4, \"pop\": 21647682, \"life_expect\": 66.662, \"fertility\": 1.9173}, {\"year\": 2000, \"country\": \"North Korea\", \"cluster\": 4, \"pop\": 47351083, \"life_expect\": 77.045, \"fertility\": 1.242}, {\"year\": 2000, \"country\": \"Lebanon\", \"cluster\": 5, \"pop\": 3578036, \"life_expect\": 71.028, \"fertility\": 2.319}, {\"year\": 2000, \"country\": \"Mexico\", \"cluster\": 3, \"pop\": 99926620, \"life_expect\": 74.902, \"fertility\": 2.4005}, {\"year\": 2000, \"country\": \"Netherlands\", \"cluster\": 1, \"pop\": 15907853, \"life_expect\": 78.53, \"fertility\": 1.726}, {\"year\": 2000, \"country\": \"New Zealand\", \"cluster\": 4, \"pop\": 3819762, \"life_expect\": 79.11, \"fertility\": 1.964}, {\"year\": 2000, \"country\": \"Nigeria\", \"cluster\": 2, \"pop\": 114306700, \"life_expect\": 46.608, \"fertility\": 5.845}, {\"year\": 2000, \"country\": \"Norway\", \"cluster\": 1, \"pop\": 4492400, \"life_expect\": 79.05, \"fertility\": 1.8010000000000002}, {\"year\": 2000, \"country\": \"Pakistan\", \"cluster\": 0, \"pop\": 146342958, \"life_expect\": 63.61, \"fertility\": 3.9936}, {\"year\": 2000, \"country\": \"Peru\", \"cluster\": 3, \"pop\": 25979722, \"life_expect\": 69.906, \"fertility\": 2.7005}, {\"year\": 2000, \"country\": \"Philippines\", \"cluster\": 4, \"pop\": 79739825, \"life_expect\": 70.303, \"fertility\": 3.5436}, {\"year\": 2000, \"country\": \"Poland\", \"cluster\": 1, \"pop\": 38654164, \"life_expect\": 74.67, \"fertility\": 1.251}, {\"year\": 2000, \"country\": \"Portugal\", \"cluster\": 1, \"pop\": 10335597, \"life_expect\": 77.29, \"fertility\": 1.454}, {\"year\": 2000, \"country\": \"Rwanda\", \"cluster\": 2, \"pop\": 7507056, \"life_expect\": 43.413, \"fertility\": 6.01}, {\"year\": 2000, \"country\": \"Saudi Arabia\", \"cluster\": 5, \"pop\": 23153090, \"life_expect\": 71.626, \"fertility\": 3.81}, {\"year\": 2000, \"country\": \"South Africa\", \"cluster\": 2, \"pop\": 44066197, \"life_expect\": 53.365, \"fertility\": 2.802}, {\"year\": 2000, \"country\": \"Spain\", \"cluster\": 1, \"pop\": 40016081, \"life_expect\": 79.78, \"fertility\": 1.287}, {\"year\": 2000, \"country\": \"Switzerland\", \"cluster\": 1, \"pop\": 7266920, \"life_expect\": 80.62, \"fertility\": 1.415}, {\"year\": 2000, \"country\": \"Turkey\", \"cluster\": 1, \"pop\": 65666677, \"life_expect\": 70.845, \"fertility\": 2.23}, {\"year\": 2000, \"country\": \"United Kingdom\", \"cluster\": 1, \"pop\": 59522468, \"life_expect\": 78.471, \"fertility\": 1.695}, {\"year\": 2000, \"country\": \"United States\", \"cluster\": 3, \"pop\": 282338631, \"life_expect\": 77.31, \"fertility\": 2.038}, {\"year\": 2000, \"country\": \"Venezuela\", \"cluster\": 3, \"pop\": 23542649, \"life_expect\": 72.766, \"fertility\": 2.723}]}}, {\"mode\": \"vega-lite\"});\n",
       "</script>"
      ],
      "text/plain": [
       "alt.Chart(...)"
      ]
     },
     "execution_count": 14,
     "metadata": {},
     "output_type": "execute_result"
    }
   ],
   "source": [
    "alt.Chart(data2000).mark_point().encode(\n",
    "    alt.X('fertility:Q'),\n",
    "    alt.Y('life_expect:Q'),\n",
    "    alt.Size('pop:Q')\n",
    ")"
   ]
  },
  {
   "cell_type": "markdown",
   "metadata": {
    "colab_type": "text",
    "id": "g5Cu5F2Ad9xG",
    "slideshow": {
     "slide_type": "subslide"
    }
   },
   "source": [
    "- 어떤 상황에서는 기본적으로 지정되는 크기가 마음에 들지 않을 수 있다. \n",
    "  - 크기를 맞춤형으로 지정하려면,  \n",
    "    `scale` 속성에 대하여 `range` 매개변수를  \n",
    "    크기에 대한 최소값과 최대값의 배열로 지정할 수 있다. \n",
    "  - 아래에서는 점의 크기를 최소값은 0 픽셀로, 최대값은 1,000 픽셀로 지정하였다. "
   ]
  },
  {
   "cell_type": "code",
   "execution_count": 15,
   "metadata": {
    "colab": {
     "base_uri": "https://localhost:8080/",
     "height": 372
    },
    "colab_type": "code",
    "id": "cALgZSQfQzi0",
    "outputId": "0d88f561-9737-43fa-a84a-7ad6dcdfbf0c",
    "slideshow": {
     "slide_type": "fragment"
    }
   },
   "outputs": [
    {
     "data": {
      "text/html": [
       "\n",
       "<div id=\"altair-viz-d38078357d304509b28cea9f84a2cb33\"></div>\n",
       "<script type=\"text/javascript\">\n",
       "  (function(spec, embedOpt){\n",
       "    let outputDiv = document.currentScript.previousElementSibling;\n",
       "    if (outputDiv.id !== \"altair-viz-d38078357d304509b28cea9f84a2cb33\") {\n",
       "      outputDiv = document.getElementById(\"altair-viz-d38078357d304509b28cea9f84a2cb33\");\n",
       "    }\n",
       "    const paths = {\n",
       "      \"vega\": \"https://cdn.jsdelivr.net/npm//vega@5?noext\",\n",
       "      \"vega-lib\": \"https://cdn.jsdelivr.net/npm//vega-lib?noext\",\n",
       "      \"vega-lite\": \"https://cdn.jsdelivr.net/npm//vega-lite@4.8.1?noext\",\n",
       "      \"vega-embed\": \"https://cdn.jsdelivr.net/npm//vega-embed@6?noext\",\n",
       "    };\n",
       "\n",
       "    function loadScript(lib) {\n",
       "      return new Promise(function(resolve, reject) {\n",
       "        var s = document.createElement('script');\n",
       "        s.src = paths[lib];\n",
       "        s.async = true;\n",
       "        s.onload = () => resolve(paths[lib]);\n",
       "        s.onerror = () => reject(`Error loading script: ${paths[lib]}`);\n",
       "        document.getElementsByTagName(\"head\")[0].appendChild(s);\n",
       "      });\n",
       "    }\n",
       "\n",
       "    function showError(err) {\n",
       "      outputDiv.innerHTML = `<div class=\"error\" style=\"color:red;\">${err}</div>`;\n",
       "      throw err;\n",
       "    }\n",
       "\n",
       "    function displayChart(vegaEmbed) {\n",
       "      vegaEmbed(outputDiv, spec, embedOpt)\n",
       "        .catch(err => showError(`Javascript Error: ${err.message}<br>This usually means there's a typo in your chart specification. See the javascript console for the full traceback.`));\n",
       "    }\n",
       "\n",
       "    if(typeof define === \"function\" && define.amd) {\n",
       "      requirejs.config({paths});\n",
       "      require([\"vega-embed\"], displayChart, err => showError(`Error loading script: ${err.message}`));\n",
       "    } else if (typeof vegaEmbed === \"function\") {\n",
       "      displayChart(vegaEmbed);\n",
       "    } else {\n",
       "      loadScript(\"vega\")\n",
       "        .then(() => loadScript(\"vega-lite\"))\n",
       "        .then(() => loadScript(\"vega-embed\"))\n",
       "        .catch(showError)\n",
       "        .then(() => displayChart(vegaEmbed));\n",
       "    }\n",
       "  })({\"config\": {\"view\": {\"continuousWidth\": 400, \"continuousHeight\": 300}}, \"data\": {\"name\": \"data-fdeb0b749a6385830bd1445d39ad6ea0\"}, \"mark\": \"point\", \"encoding\": {\"size\": {\"type\": \"quantitative\", \"field\": \"pop\", \"scale\": {\"range\": [0, 1000]}}, \"x\": {\"type\": \"quantitative\", \"field\": \"fertility\"}, \"y\": {\"type\": \"quantitative\", \"field\": \"life_expect\"}}, \"$schema\": \"https://vega.github.io/schema/vega-lite/v4.8.1.json\", \"datasets\": {\"data-fdeb0b749a6385830bd1445d39ad6ea0\": [{\"year\": 2000, \"country\": \"Afghanistan\", \"cluster\": 0, \"pop\": 23898198, \"life_expect\": 42.129, \"fertility\": 7.4792}, {\"year\": 2000, \"country\": \"Argentina\", \"cluster\": 3, \"pop\": 37497728, \"life_expect\": 74.34, \"fertility\": 2.35}, {\"year\": 2000, \"country\": \"Aruba\", \"cluster\": 3, \"pop\": 69539, \"life_expect\": 73.451, \"fertility\": 2.124}, {\"year\": 2000, \"country\": \"Australia\", \"cluster\": 4, \"pop\": 19164620, \"life_expect\": 80.37, \"fertility\": 1.756}, {\"year\": 2000, \"country\": \"Austria\", \"cluster\": 1, \"pop\": 8113413, \"life_expect\": 78.98, \"fertility\": 1.3820000000000001}, {\"year\": 2000, \"country\": \"Bahamas\", \"cluster\": 3, \"pop\": 290075, \"life_expect\": 71.068, \"fertility\": 2.1111}, {\"year\": 2000, \"country\": \"Bangladesh\", \"cluster\": 0, \"pop\": 130406594, \"life_expect\": 62.013, \"fertility\": 3.224}, {\"year\": 2000, \"country\": \"Barbados\", \"cluster\": 3, \"pop\": 273483, \"life_expect\": 75.97, \"fertility\": 1.5}, {\"year\": 2000, \"country\": \"Belgium\", \"cluster\": 1, \"pop\": 10263618, \"life_expect\": 78.32, \"fertility\": 1.638}, {\"year\": 2000, \"country\": \"Bolivia\", \"cluster\": 3, \"pop\": 8152620, \"life_expect\": 63.883, \"fertility\": 3.9585}, {\"year\": 2000, \"country\": \"Brazil\", \"cluster\": 3, \"pop\": 175552771, \"life_expect\": 71.006, \"fertility\": 2.345}, {\"year\": 2000, \"country\": \"Canada\", \"cluster\": 3, \"pop\": 31278097, \"life_expect\": 79.77, \"fertility\": 1.522}, {\"year\": 2000, \"country\": \"Chile\", \"cluster\": 3, \"pop\": 15153450, \"life_expect\": 77.86, \"fertility\": 2.0}, {\"year\": 2000, \"country\": \"China\", \"cluster\": 4, \"pop\": 1262645000, \"life_expect\": 72.028, \"fertility\": 1.7000000000000002}, {\"year\": 2000, \"country\": \"Colombia\", \"cluster\": 3, \"pop\": 39685655, \"life_expect\": 71.682, \"fertility\": 2.4705}, {\"year\": 2000, \"country\": \"Costa Rica\", \"cluster\": 3, \"pop\": 3710558, \"life_expect\": 78.123, \"fertility\": 2.2815}, {\"year\": 2000, \"country\": \"Croatia\", \"cluster\": 1, \"pop\": 4410830, \"life_expect\": 74.876, \"fertility\": 1.348}, {\"year\": 2000, \"country\": \"Cuba\", \"cluster\": 3, \"pop\": 11134273, \"life_expect\": 77.158, \"fertility\": 1.63}, {\"year\": 2000, \"country\": \"Dominican Republic\", \"cluster\": 3, \"pop\": 8385828, \"life_expect\": 70.847, \"fertility\": 2.95}, {\"year\": 2000, \"country\": \"Ecuador\", \"cluster\": 3, \"pop\": 12505204, \"life_expect\": 74.173, \"fertility\": 2.8175}, {\"year\": 2000, \"country\": \"Egypt\", \"cluster\": 5, \"pop\": 70492342, \"life_expect\": 69.806, \"fertility\": 3.174}, {\"year\": 2000, \"country\": \"El Salvador\", \"cluster\": 3, \"pop\": 6122515, \"life_expect\": 70.734, \"fertility\": 2.883}, {\"year\": 2000, \"country\": \"Finland\", \"cluster\": 1, \"pop\": 5168595, \"life_expect\": 78.37, \"fertility\": 1.754}, {\"year\": 2000, \"country\": \"France\", \"cluster\": 1, \"pop\": 59381628, \"life_expect\": 79.59, \"fertility\": 1.8833000000000002}, {\"year\": 2000, \"country\": \"Georgia\", \"cluster\": 1, \"pop\": 4777209, \"life_expect\": 70.476, \"fertility\": 1.478}, {\"year\": 2000, \"country\": \"Germany\", \"cluster\": 1, \"pop\": 82187909, \"life_expect\": 78.67, \"fertility\": 1.346}, {\"year\": 2000, \"country\": \"Greece\", \"cluster\": 1, \"pop\": 10559110, \"life_expect\": 78.256, \"fertility\": 1.2770000000000001}, {\"year\": 2000, \"country\": \"Grenada\", \"cluster\": 3, \"pop\": 89312, \"life_expect\": 67.746, \"fertility\": 2.429}, {\"year\": 2000, \"country\": \"Haiti\", \"cluster\": 3, \"pop\": 7306302, \"life_expect\": 58.137, \"fertility\": 4.0}, {\"year\": 2000, \"country\": \"Hong Kong\", \"cluster\": 4, \"pop\": 6658720, \"life_expect\": 81.495, \"fertility\": 0.9400000000000001}, {\"year\": 2000, \"country\": \"Iceland\", \"cluster\": 1, \"pop\": 281043, \"life_expect\": 80.5, \"fertility\": 1.9929999999999999}, {\"year\": 2000, \"country\": \"India\", \"cluster\": 0, \"pop\": 1007702000, \"life_expect\": 62.879, \"fertility\": 3.1132}, {\"year\": 2000, \"country\": \"Indonesia\", \"cluster\": 4, \"pop\": 206265000, \"life_expect\": 68.588, \"fertility\": 2.3761}, {\"year\": 2000, \"country\": \"Iran\", \"cluster\": 5, \"pop\": 65660289, \"life_expect\": 69.451, \"fertility\": 2.124}, {\"year\": 2000, \"country\": \"Iraq\", \"cluster\": 5, \"pop\": 22675617, \"life_expect\": 57.046, \"fertility\": 4.858}, {\"year\": 2000, \"country\": \"Ireland\", \"cluster\": 1, \"pop\": 3791690, \"life_expect\": 77.783, \"fertility\": 1.9689999999999999}, {\"year\": 2000, \"country\": \"Israel\", \"cluster\": 5, \"pop\": 5842454, \"life_expect\": 79.696, \"fertility\": 2.906}, {\"year\": 2000, \"country\": \"Italy\", \"cluster\": 1, \"pop\": 57719337, \"life_expect\": 80.24, \"fertility\": 1.286}, {\"year\": 2000, \"country\": \"Jamaica\", \"cluster\": 3, \"pop\": 2615467, \"life_expect\": 72.047, \"fertility\": 2.628}, {\"year\": 2000, \"country\": \"Japan\", \"cluster\": 4, \"pop\": 126699784, \"life_expect\": 82.0, \"fertility\": 1.291}, {\"year\": 2000, \"country\": \"Kenya\", \"cluster\": 2, \"pop\": 29985839, \"life_expect\": 50.992, \"fertility\": 5.0}, {\"year\": 2000, \"country\": \"South Korea\", \"cluster\": 4, \"pop\": 21647682, \"life_expect\": 66.662, \"fertility\": 1.9173}, {\"year\": 2000, \"country\": \"North Korea\", \"cluster\": 4, \"pop\": 47351083, \"life_expect\": 77.045, \"fertility\": 1.242}, {\"year\": 2000, \"country\": \"Lebanon\", \"cluster\": 5, \"pop\": 3578036, \"life_expect\": 71.028, \"fertility\": 2.319}, {\"year\": 2000, \"country\": \"Mexico\", \"cluster\": 3, \"pop\": 99926620, \"life_expect\": 74.902, \"fertility\": 2.4005}, {\"year\": 2000, \"country\": \"Netherlands\", \"cluster\": 1, \"pop\": 15907853, \"life_expect\": 78.53, \"fertility\": 1.726}, {\"year\": 2000, \"country\": \"New Zealand\", \"cluster\": 4, \"pop\": 3819762, \"life_expect\": 79.11, \"fertility\": 1.964}, {\"year\": 2000, \"country\": \"Nigeria\", \"cluster\": 2, \"pop\": 114306700, \"life_expect\": 46.608, \"fertility\": 5.845}, {\"year\": 2000, \"country\": \"Norway\", \"cluster\": 1, \"pop\": 4492400, \"life_expect\": 79.05, \"fertility\": 1.8010000000000002}, {\"year\": 2000, \"country\": \"Pakistan\", \"cluster\": 0, \"pop\": 146342958, \"life_expect\": 63.61, \"fertility\": 3.9936}, {\"year\": 2000, \"country\": \"Peru\", \"cluster\": 3, \"pop\": 25979722, \"life_expect\": 69.906, \"fertility\": 2.7005}, {\"year\": 2000, \"country\": \"Philippines\", \"cluster\": 4, \"pop\": 79739825, \"life_expect\": 70.303, \"fertility\": 3.5436}, {\"year\": 2000, \"country\": \"Poland\", \"cluster\": 1, \"pop\": 38654164, \"life_expect\": 74.67, \"fertility\": 1.251}, {\"year\": 2000, \"country\": \"Portugal\", \"cluster\": 1, \"pop\": 10335597, \"life_expect\": 77.29, \"fertility\": 1.454}, {\"year\": 2000, \"country\": \"Rwanda\", \"cluster\": 2, \"pop\": 7507056, \"life_expect\": 43.413, \"fertility\": 6.01}, {\"year\": 2000, \"country\": \"Saudi Arabia\", \"cluster\": 5, \"pop\": 23153090, \"life_expect\": 71.626, \"fertility\": 3.81}, {\"year\": 2000, \"country\": \"South Africa\", \"cluster\": 2, \"pop\": 44066197, \"life_expect\": 53.365, \"fertility\": 2.802}, {\"year\": 2000, \"country\": \"Spain\", \"cluster\": 1, \"pop\": 40016081, \"life_expect\": 79.78, \"fertility\": 1.287}, {\"year\": 2000, \"country\": \"Switzerland\", \"cluster\": 1, \"pop\": 7266920, \"life_expect\": 80.62, \"fertility\": 1.415}, {\"year\": 2000, \"country\": \"Turkey\", \"cluster\": 1, \"pop\": 65666677, \"life_expect\": 70.845, \"fertility\": 2.23}, {\"year\": 2000, \"country\": \"United Kingdom\", \"cluster\": 1, \"pop\": 59522468, \"life_expect\": 78.471, \"fertility\": 1.695}, {\"year\": 2000, \"country\": \"United States\", \"cluster\": 3, \"pop\": 282338631, \"life_expect\": 77.31, \"fertility\": 2.038}, {\"year\": 2000, \"country\": \"Venezuela\", \"cluster\": 3, \"pop\": 23542649, \"life_expect\": 72.766, \"fertility\": 2.723}]}}, {\"mode\": \"vega-lite\"});\n",
       "</script>"
      ],
      "text/plain": [
       "alt.Chart(...)"
      ]
     },
     "execution_count": 15,
     "metadata": {},
     "output_type": "execute_result"
    }
   ],
   "source": [
    "alt.Chart(data2000).mark_point().encode(\n",
    "    alt.X('fertility:Q'),\n",
    "    alt.Y('life_expect:Q'),\n",
    "    alt.Size('pop:Q', scale=alt.Scale(range=[0, 1000]))\n",
    ")"
   ]
  },
  {
   "cell_type": "markdown",
   "metadata": {
    "colab_type": "text",
    "id": "yF__0zZ0PJyT",
    "slideshow": {
     "slide_type": "slide"
    }
   },
   "source": [
    "### 3.4 색상과 투명도"
   ]
  },
  {
   "cell_type": "markdown",
   "metadata": {
    "colab_type": "text",
    "id": "u5QXPLxJeohH",
    "slideshow": {
     "slide_type": "fragment"
    }
   },
   "source": [
    "- `color` 인코딩 채널은 마크 색상을 설정한다.  \n",
    "  색상 인코딩의 스타일은 데이터 유형에 의존적이다.  \n",
    "  - 명목형 데이터에 대한 색상은  \n",
    "    다채로운 색상을 (질적으로 구분하는) 색채로 처리된다. \n",
    "  - 서수형 및 정량형 데이터에 대한 색상은  \n",
    "    순서화된 색상을 (양적으로 구분하는) 그래디언트(gradient)로 처리된다. \n",
    "- 여기서는 `color` 채널을 명목형 `N` 데이터 유형의 `cluster` 필드로 지정하였다. \n",
    "  - 클러스터에 대한 범례가 추가되었다. \n",
    "  - 클러스터 필드의 의미를 짐작할 수 있는가?"
   ]
  },
  {
   "cell_type": "code",
   "execution_count": 16,
   "metadata": {
    "colab": {
     "base_uri": "https://localhost:8080/",
     "height": 372
    },
    "colab_type": "code",
    "id": "bI73XTt5OTmA",
    "outputId": "f12aeb57-07c5-422e-8cb1-62253b545af8",
    "slideshow": {
     "slide_type": "subslide"
    }
   },
   "outputs": [
    {
     "data": {
      "text/html": [
       "\n",
       "<div id=\"altair-viz-10cbbca86bea4c1b8305131062250f8b\"></div>\n",
       "<script type=\"text/javascript\">\n",
       "  (function(spec, embedOpt){\n",
       "    let outputDiv = document.currentScript.previousElementSibling;\n",
       "    if (outputDiv.id !== \"altair-viz-10cbbca86bea4c1b8305131062250f8b\") {\n",
       "      outputDiv = document.getElementById(\"altair-viz-10cbbca86bea4c1b8305131062250f8b\");\n",
       "    }\n",
       "    const paths = {\n",
       "      \"vega\": \"https://cdn.jsdelivr.net/npm//vega@5?noext\",\n",
       "      \"vega-lib\": \"https://cdn.jsdelivr.net/npm//vega-lib?noext\",\n",
       "      \"vega-lite\": \"https://cdn.jsdelivr.net/npm//vega-lite@4.8.1?noext\",\n",
       "      \"vega-embed\": \"https://cdn.jsdelivr.net/npm//vega-embed@6?noext\",\n",
       "    };\n",
       "\n",
       "    function loadScript(lib) {\n",
       "      return new Promise(function(resolve, reject) {\n",
       "        var s = document.createElement('script');\n",
       "        s.src = paths[lib];\n",
       "        s.async = true;\n",
       "        s.onload = () => resolve(paths[lib]);\n",
       "        s.onerror = () => reject(`Error loading script: ${paths[lib]}`);\n",
       "        document.getElementsByTagName(\"head\")[0].appendChild(s);\n",
       "      });\n",
       "    }\n",
       "\n",
       "    function showError(err) {\n",
       "      outputDiv.innerHTML = `<div class=\"error\" style=\"color:red;\">${err}</div>`;\n",
       "      throw err;\n",
       "    }\n",
       "\n",
       "    function displayChart(vegaEmbed) {\n",
       "      vegaEmbed(outputDiv, spec, embedOpt)\n",
       "        .catch(err => showError(`Javascript Error: ${err.message}<br>This usually means there's a typo in your chart specification. See the javascript console for the full traceback.`));\n",
       "    }\n",
       "\n",
       "    if(typeof define === \"function\" && define.amd) {\n",
       "      requirejs.config({paths});\n",
       "      require([\"vega-embed\"], displayChart, err => showError(`Error loading script: ${err.message}`));\n",
       "    } else if (typeof vegaEmbed === \"function\") {\n",
       "      displayChart(vegaEmbed);\n",
       "    } else {\n",
       "      loadScript(\"vega\")\n",
       "        .then(() => loadScript(\"vega-lite\"))\n",
       "        .then(() => loadScript(\"vega-embed\"))\n",
       "        .catch(showError)\n",
       "        .then(() => displayChart(vegaEmbed));\n",
       "    }\n",
       "  })({\"config\": {\"view\": {\"continuousWidth\": 400, \"continuousHeight\": 300}}, \"data\": {\"name\": \"data-fdeb0b749a6385830bd1445d39ad6ea0\"}, \"mark\": \"point\", \"encoding\": {\"color\": {\"type\": \"nominal\", \"field\": \"cluster\"}, \"size\": {\"type\": \"quantitative\", \"field\": \"pop\", \"scale\": {\"range\": [0, 1000]}}, \"x\": {\"type\": \"quantitative\", \"field\": \"fertility\"}, \"y\": {\"type\": \"quantitative\", \"field\": \"life_expect\"}}, \"$schema\": \"https://vega.github.io/schema/vega-lite/v4.8.1.json\", \"datasets\": {\"data-fdeb0b749a6385830bd1445d39ad6ea0\": [{\"year\": 2000, \"country\": \"Afghanistan\", \"cluster\": 0, \"pop\": 23898198, \"life_expect\": 42.129, \"fertility\": 7.4792}, {\"year\": 2000, \"country\": \"Argentina\", \"cluster\": 3, \"pop\": 37497728, \"life_expect\": 74.34, \"fertility\": 2.35}, {\"year\": 2000, \"country\": \"Aruba\", \"cluster\": 3, \"pop\": 69539, \"life_expect\": 73.451, \"fertility\": 2.124}, {\"year\": 2000, \"country\": \"Australia\", \"cluster\": 4, \"pop\": 19164620, \"life_expect\": 80.37, \"fertility\": 1.756}, {\"year\": 2000, \"country\": \"Austria\", \"cluster\": 1, \"pop\": 8113413, \"life_expect\": 78.98, \"fertility\": 1.3820000000000001}, {\"year\": 2000, \"country\": \"Bahamas\", \"cluster\": 3, \"pop\": 290075, \"life_expect\": 71.068, \"fertility\": 2.1111}, {\"year\": 2000, \"country\": \"Bangladesh\", \"cluster\": 0, \"pop\": 130406594, \"life_expect\": 62.013, \"fertility\": 3.224}, {\"year\": 2000, \"country\": \"Barbados\", \"cluster\": 3, \"pop\": 273483, \"life_expect\": 75.97, \"fertility\": 1.5}, {\"year\": 2000, \"country\": \"Belgium\", \"cluster\": 1, \"pop\": 10263618, \"life_expect\": 78.32, \"fertility\": 1.638}, {\"year\": 2000, \"country\": \"Bolivia\", \"cluster\": 3, \"pop\": 8152620, \"life_expect\": 63.883, \"fertility\": 3.9585}, {\"year\": 2000, \"country\": \"Brazil\", \"cluster\": 3, \"pop\": 175552771, \"life_expect\": 71.006, \"fertility\": 2.345}, {\"year\": 2000, \"country\": \"Canada\", \"cluster\": 3, \"pop\": 31278097, \"life_expect\": 79.77, \"fertility\": 1.522}, {\"year\": 2000, \"country\": \"Chile\", \"cluster\": 3, \"pop\": 15153450, \"life_expect\": 77.86, \"fertility\": 2.0}, {\"year\": 2000, \"country\": \"China\", \"cluster\": 4, \"pop\": 1262645000, \"life_expect\": 72.028, \"fertility\": 1.7000000000000002}, {\"year\": 2000, \"country\": \"Colombia\", \"cluster\": 3, \"pop\": 39685655, \"life_expect\": 71.682, \"fertility\": 2.4705}, {\"year\": 2000, \"country\": \"Costa Rica\", \"cluster\": 3, \"pop\": 3710558, \"life_expect\": 78.123, \"fertility\": 2.2815}, {\"year\": 2000, \"country\": \"Croatia\", \"cluster\": 1, \"pop\": 4410830, \"life_expect\": 74.876, \"fertility\": 1.348}, {\"year\": 2000, \"country\": \"Cuba\", \"cluster\": 3, \"pop\": 11134273, \"life_expect\": 77.158, \"fertility\": 1.63}, {\"year\": 2000, \"country\": \"Dominican Republic\", \"cluster\": 3, \"pop\": 8385828, \"life_expect\": 70.847, \"fertility\": 2.95}, {\"year\": 2000, \"country\": \"Ecuador\", \"cluster\": 3, \"pop\": 12505204, \"life_expect\": 74.173, \"fertility\": 2.8175}, {\"year\": 2000, \"country\": \"Egypt\", \"cluster\": 5, \"pop\": 70492342, \"life_expect\": 69.806, \"fertility\": 3.174}, {\"year\": 2000, \"country\": \"El Salvador\", \"cluster\": 3, \"pop\": 6122515, \"life_expect\": 70.734, \"fertility\": 2.883}, {\"year\": 2000, \"country\": \"Finland\", \"cluster\": 1, \"pop\": 5168595, \"life_expect\": 78.37, \"fertility\": 1.754}, {\"year\": 2000, \"country\": \"France\", \"cluster\": 1, \"pop\": 59381628, \"life_expect\": 79.59, \"fertility\": 1.8833000000000002}, {\"year\": 2000, \"country\": \"Georgia\", \"cluster\": 1, \"pop\": 4777209, \"life_expect\": 70.476, \"fertility\": 1.478}, {\"year\": 2000, \"country\": \"Germany\", \"cluster\": 1, \"pop\": 82187909, \"life_expect\": 78.67, \"fertility\": 1.346}, {\"year\": 2000, \"country\": \"Greece\", \"cluster\": 1, \"pop\": 10559110, \"life_expect\": 78.256, \"fertility\": 1.2770000000000001}, {\"year\": 2000, \"country\": \"Grenada\", \"cluster\": 3, \"pop\": 89312, \"life_expect\": 67.746, \"fertility\": 2.429}, {\"year\": 2000, \"country\": \"Haiti\", \"cluster\": 3, \"pop\": 7306302, \"life_expect\": 58.137, \"fertility\": 4.0}, {\"year\": 2000, \"country\": \"Hong Kong\", \"cluster\": 4, \"pop\": 6658720, \"life_expect\": 81.495, \"fertility\": 0.9400000000000001}, {\"year\": 2000, \"country\": \"Iceland\", \"cluster\": 1, \"pop\": 281043, \"life_expect\": 80.5, \"fertility\": 1.9929999999999999}, {\"year\": 2000, \"country\": \"India\", \"cluster\": 0, \"pop\": 1007702000, \"life_expect\": 62.879, \"fertility\": 3.1132}, {\"year\": 2000, \"country\": \"Indonesia\", \"cluster\": 4, \"pop\": 206265000, \"life_expect\": 68.588, \"fertility\": 2.3761}, {\"year\": 2000, \"country\": \"Iran\", \"cluster\": 5, \"pop\": 65660289, \"life_expect\": 69.451, \"fertility\": 2.124}, {\"year\": 2000, \"country\": \"Iraq\", \"cluster\": 5, \"pop\": 22675617, \"life_expect\": 57.046, \"fertility\": 4.858}, {\"year\": 2000, \"country\": \"Ireland\", \"cluster\": 1, \"pop\": 3791690, \"life_expect\": 77.783, \"fertility\": 1.9689999999999999}, {\"year\": 2000, \"country\": \"Israel\", \"cluster\": 5, \"pop\": 5842454, \"life_expect\": 79.696, \"fertility\": 2.906}, {\"year\": 2000, \"country\": \"Italy\", \"cluster\": 1, \"pop\": 57719337, \"life_expect\": 80.24, \"fertility\": 1.286}, {\"year\": 2000, \"country\": \"Jamaica\", \"cluster\": 3, \"pop\": 2615467, \"life_expect\": 72.047, \"fertility\": 2.628}, {\"year\": 2000, \"country\": \"Japan\", \"cluster\": 4, \"pop\": 126699784, \"life_expect\": 82.0, \"fertility\": 1.291}, {\"year\": 2000, \"country\": \"Kenya\", \"cluster\": 2, \"pop\": 29985839, \"life_expect\": 50.992, \"fertility\": 5.0}, {\"year\": 2000, \"country\": \"South Korea\", \"cluster\": 4, \"pop\": 21647682, \"life_expect\": 66.662, \"fertility\": 1.9173}, {\"year\": 2000, \"country\": \"North Korea\", \"cluster\": 4, \"pop\": 47351083, \"life_expect\": 77.045, \"fertility\": 1.242}, {\"year\": 2000, \"country\": \"Lebanon\", \"cluster\": 5, \"pop\": 3578036, \"life_expect\": 71.028, \"fertility\": 2.319}, {\"year\": 2000, \"country\": \"Mexico\", \"cluster\": 3, \"pop\": 99926620, \"life_expect\": 74.902, \"fertility\": 2.4005}, {\"year\": 2000, \"country\": \"Netherlands\", \"cluster\": 1, \"pop\": 15907853, \"life_expect\": 78.53, \"fertility\": 1.726}, {\"year\": 2000, \"country\": \"New Zealand\", \"cluster\": 4, \"pop\": 3819762, \"life_expect\": 79.11, \"fertility\": 1.964}, {\"year\": 2000, \"country\": \"Nigeria\", \"cluster\": 2, \"pop\": 114306700, \"life_expect\": 46.608, \"fertility\": 5.845}, {\"year\": 2000, \"country\": \"Norway\", \"cluster\": 1, \"pop\": 4492400, \"life_expect\": 79.05, \"fertility\": 1.8010000000000002}, {\"year\": 2000, \"country\": \"Pakistan\", \"cluster\": 0, \"pop\": 146342958, \"life_expect\": 63.61, \"fertility\": 3.9936}, {\"year\": 2000, \"country\": \"Peru\", \"cluster\": 3, \"pop\": 25979722, \"life_expect\": 69.906, \"fertility\": 2.7005}, {\"year\": 2000, \"country\": \"Philippines\", \"cluster\": 4, \"pop\": 79739825, \"life_expect\": 70.303, \"fertility\": 3.5436}, {\"year\": 2000, \"country\": \"Poland\", \"cluster\": 1, \"pop\": 38654164, \"life_expect\": 74.67, \"fertility\": 1.251}, {\"year\": 2000, \"country\": \"Portugal\", \"cluster\": 1, \"pop\": 10335597, \"life_expect\": 77.29, \"fertility\": 1.454}, {\"year\": 2000, \"country\": \"Rwanda\", \"cluster\": 2, \"pop\": 7507056, \"life_expect\": 43.413, \"fertility\": 6.01}, {\"year\": 2000, \"country\": \"Saudi Arabia\", \"cluster\": 5, \"pop\": 23153090, \"life_expect\": 71.626, \"fertility\": 3.81}, {\"year\": 2000, \"country\": \"South Africa\", \"cluster\": 2, \"pop\": 44066197, \"life_expect\": 53.365, \"fertility\": 2.802}, {\"year\": 2000, \"country\": \"Spain\", \"cluster\": 1, \"pop\": 40016081, \"life_expect\": 79.78, \"fertility\": 1.287}, {\"year\": 2000, \"country\": \"Switzerland\", \"cluster\": 1, \"pop\": 7266920, \"life_expect\": 80.62, \"fertility\": 1.415}, {\"year\": 2000, \"country\": \"Turkey\", \"cluster\": 1, \"pop\": 65666677, \"life_expect\": 70.845, \"fertility\": 2.23}, {\"year\": 2000, \"country\": \"United Kingdom\", \"cluster\": 1, \"pop\": 59522468, \"life_expect\": 78.471, \"fertility\": 1.695}, {\"year\": 2000, \"country\": \"United States\", \"cluster\": 3, \"pop\": 282338631, \"life_expect\": 77.31, \"fertility\": 2.038}, {\"year\": 2000, \"country\": \"Venezuela\", \"cluster\": 3, \"pop\": 23542649, \"life_expect\": 72.766, \"fertility\": 2.723}]}}, {\"mode\": \"vega-lite\"});\n",
       "</script>"
      ],
      "text/plain": [
       "alt.Chart(...)"
      ]
     },
     "execution_count": 16,
     "metadata": {},
     "output_type": "execute_result"
    }
   ],
   "source": [
    "alt.Chart(data2000).mark_point().encode(\n",
    "    alt.X('fertility:Q'),\n",
    "    alt.Y('life_expect:Q'),\n",
    "    alt.Size('pop:Q', scale=alt.Scale(range=[0,1000])),\n",
    "    alt.Color('cluster:N')\n",
    ")"
   ]
  },
  {
   "cell_type": "markdown",
   "metadata": {
    "colab_type": "text",
    "id": "dNOkUJfNfFac",
    "slideshow": {
     "slide_type": "subslide"
    }
   },
   "source": [
    "- 원의 내부가 색상으로 채워지기를 바란다면,  \n",
    "  `mark_point()` 메소드에서 `filled=True`  속성을 지정하면 된다. "
   ]
  },
  {
   "cell_type": "code",
   "execution_count": 17,
   "metadata": {
    "colab": {
     "base_uri": "https://localhost:8080/",
     "height": 372
    },
    "colab_type": "code",
    "id": "HH34VMCAQO6s",
    "outputId": "8aba4f13-bfe3-43b1-e3ea-554a8d20b7f5",
    "slideshow": {
     "slide_type": "fragment"
    }
   },
   "outputs": [
    {
     "data": {
      "text/html": [
       "\n",
       "<div id=\"altair-viz-82cf936046d04c48a2b9fa5e1a8b6f48\"></div>\n",
       "<script type=\"text/javascript\">\n",
       "  (function(spec, embedOpt){\n",
       "    let outputDiv = document.currentScript.previousElementSibling;\n",
       "    if (outputDiv.id !== \"altair-viz-82cf936046d04c48a2b9fa5e1a8b6f48\") {\n",
       "      outputDiv = document.getElementById(\"altair-viz-82cf936046d04c48a2b9fa5e1a8b6f48\");\n",
       "    }\n",
       "    const paths = {\n",
       "      \"vega\": \"https://cdn.jsdelivr.net/npm//vega@5?noext\",\n",
       "      \"vega-lib\": \"https://cdn.jsdelivr.net/npm//vega-lib?noext\",\n",
       "      \"vega-lite\": \"https://cdn.jsdelivr.net/npm//vega-lite@4.8.1?noext\",\n",
       "      \"vega-embed\": \"https://cdn.jsdelivr.net/npm//vega-embed@6?noext\",\n",
       "    };\n",
       "\n",
       "    function loadScript(lib) {\n",
       "      return new Promise(function(resolve, reject) {\n",
       "        var s = document.createElement('script');\n",
       "        s.src = paths[lib];\n",
       "        s.async = true;\n",
       "        s.onload = () => resolve(paths[lib]);\n",
       "        s.onerror = () => reject(`Error loading script: ${paths[lib]}`);\n",
       "        document.getElementsByTagName(\"head\")[0].appendChild(s);\n",
       "      });\n",
       "    }\n",
       "\n",
       "    function showError(err) {\n",
       "      outputDiv.innerHTML = `<div class=\"error\" style=\"color:red;\">${err}</div>`;\n",
       "      throw err;\n",
       "    }\n",
       "\n",
       "    function displayChart(vegaEmbed) {\n",
       "      vegaEmbed(outputDiv, spec, embedOpt)\n",
       "        .catch(err => showError(`Javascript Error: ${err.message}<br>This usually means there's a typo in your chart specification. See the javascript console for the full traceback.`));\n",
       "    }\n",
       "\n",
       "    if(typeof define === \"function\" && define.amd) {\n",
       "      requirejs.config({paths});\n",
       "      require([\"vega-embed\"], displayChart, err => showError(`Error loading script: ${err.message}`));\n",
       "    } else if (typeof vegaEmbed === \"function\") {\n",
       "      displayChart(vegaEmbed);\n",
       "    } else {\n",
       "      loadScript(\"vega\")\n",
       "        .then(() => loadScript(\"vega-lite\"))\n",
       "        .then(() => loadScript(\"vega-embed\"))\n",
       "        .catch(showError)\n",
       "        .then(() => displayChart(vegaEmbed));\n",
       "    }\n",
       "  })({\"config\": {\"view\": {\"continuousWidth\": 400, \"continuousHeight\": 300}}, \"data\": {\"name\": \"data-fdeb0b749a6385830bd1445d39ad6ea0\"}, \"mark\": {\"type\": \"point\", \"filled\": true}, \"encoding\": {\"color\": {\"type\": \"nominal\", \"field\": \"cluster\"}, \"size\": {\"type\": \"quantitative\", \"field\": \"pop\", \"scale\": {\"range\": [0, 1000]}}, \"x\": {\"type\": \"quantitative\", \"field\": \"fertility\"}, \"y\": {\"type\": \"quantitative\", \"field\": \"life_expect\"}}, \"$schema\": \"https://vega.github.io/schema/vega-lite/v4.8.1.json\", \"datasets\": {\"data-fdeb0b749a6385830bd1445d39ad6ea0\": [{\"year\": 2000, \"country\": \"Afghanistan\", \"cluster\": 0, \"pop\": 23898198, \"life_expect\": 42.129, \"fertility\": 7.4792}, {\"year\": 2000, \"country\": \"Argentina\", \"cluster\": 3, \"pop\": 37497728, \"life_expect\": 74.34, \"fertility\": 2.35}, {\"year\": 2000, \"country\": \"Aruba\", \"cluster\": 3, \"pop\": 69539, \"life_expect\": 73.451, \"fertility\": 2.124}, {\"year\": 2000, \"country\": \"Australia\", \"cluster\": 4, \"pop\": 19164620, \"life_expect\": 80.37, \"fertility\": 1.756}, {\"year\": 2000, \"country\": \"Austria\", \"cluster\": 1, \"pop\": 8113413, \"life_expect\": 78.98, \"fertility\": 1.3820000000000001}, {\"year\": 2000, \"country\": \"Bahamas\", \"cluster\": 3, \"pop\": 290075, \"life_expect\": 71.068, \"fertility\": 2.1111}, {\"year\": 2000, \"country\": \"Bangladesh\", \"cluster\": 0, \"pop\": 130406594, \"life_expect\": 62.013, \"fertility\": 3.224}, {\"year\": 2000, \"country\": \"Barbados\", \"cluster\": 3, \"pop\": 273483, \"life_expect\": 75.97, \"fertility\": 1.5}, {\"year\": 2000, \"country\": \"Belgium\", \"cluster\": 1, \"pop\": 10263618, \"life_expect\": 78.32, \"fertility\": 1.638}, {\"year\": 2000, \"country\": \"Bolivia\", \"cluster\": 3, \"pop\": 8152620, \"life_expect\": 63.883, \"fertility\": 3.9585}, {\"year\": 2000, \"country\": \"Brazil\", \"cluster\": 3, \"pop\": 175552771, \"life_expect\": 71.006, \"fertility\": 2.345}, {\"year\": 2000, \"country\": \"Canada\", \"cluster\": 3, \"pop\": 31278097, \"life_expect\": 79.77, \"fertility\": 1.522}, {\"year\": 2000, \"country\": \"Chile\", \"cluster\": 3, \"pop\": 15153450, \"life_expect\": 77.86, \"fertility\": 2.0}, {\"year\": 2000, \"country\": \"China\", \"cluster\": 4, \"pop\": 1262645000, \"life_expect\": 72.028, \"fertility\": 1.7000000000000002}, {\"year\": 2000, \"country\": \"Colombia\", \"cluster\": 3, \"pop\": 39685655, \"life_expect\": 71.682, \"fertility\": 2.4705}, {\"year\": 2000, \"country\": \"Costa Rica\", \"cluster\": 3, \"pop\": 3710558, \"life_expect\": 78.123, \"fertility\": 2.2815}, {\"year\": 2000, \"country\": \"Croatia\", \"cluster\": 1, \"pop\": 4410830, \"life_expect\": 74.876, \"fertility\": 1.348}, {\"year\": 2000, \"country\": \"Cuba\", \"cluster\": 3, \"pop\": 11134273, \"life_expect\": 77.158, \"fertility\": 1.63}, {\"year\": 2000, \"country\": \"Dominican Republic\", \"cluster\": 3, \"pop\": 8385828, \"life_expect\": 70.847, \"fertility\": 2.95}, {\"year\": 2000, \"country\": \"Ecuador\", \"cluster\": 3, \"pop\": 12505204, \"life_expect\": 74.173, \"fertility\": 2.8175}, {\"year\": 2000, \"country\": \"Egypt\", \"cluster\": 5, \"pop\": 70492342, \"life_expect\": 69.806, \"fertility\": 3.174}, {\"year\": 2000, \"country\": \"El Salvador\", \"cluster\": 3, \"pop\": 6122515, \"life_expect\": 70.734, \"fertility\": 2.883}, {\"year\": 2000, \"country\": \"Finland\", \"cluster\": 1, \"pop\": 5168595, \"life_expect\": 78.37, \"fertility\": 1.754}, {\"year\": 2000, \"country\": \"France\", \"cluster\": 1, \"pop\": 59381628, \"life_expect\": 79.59, \"fertility\": 1.8833000000000002}, {\"year\": 2000, \"country\": \"Georgia\", \"cluster\": 1, \"pop\": 4777209, \"life_expect\": 70.476, \"fertility\": 1.478}, {\"year\": 2000, \"country\": \"Germany\", \"cluster\": 1, \"pop\": 82187909, \"life_expect\": 78.67, \"fertility\": 1.346}, {\"year\": 2000, \"country\": \"Greece\", \"cluster\": 1, \"pop\": 10559110, \"life_expect\": 78.256, \"fertility\": 1.2770000000000001}, {\"year\": 2000, \"country\": \"Grenada\", \"cluster\": 3, \"pop\": 89312, \"life_expect\": 67.746, \"fertility\": 2.429}, {\"year\": 2000, \"country\": \"Haiti\", \"cluster\": 3, \"pop\": 7306302, \"life_expect\": 58.137, \"fertility\": 4.0}, {\"year\": 2000, \"country\": \"Hong Kong\", \"cluster\": 4, \"pop\": 6658720, \"life_expect\": 81.495, \"fertility\": 0.9400000000000001}, {\"year\": 2000, \"country\": \"Iceland\", \"cluster\": 1, \"pop\": 281043, \"life_expect\": 80.5, \"fertility\": 1.9929999999999999}, {\"year\": 2000, \"country\": \"India\", \"cluster\": 0, \"pop\": 1007702000, \"life_expect\": 62.879, \"fertility\": 3.1132}, {\"year\": 2000, \"country\": \"Indonesia\", \"cluster\": 4, \"pop\": 206265000, \"life_expect\": 68.588, \"fertility\": 2.3761}, {\"year\": 2000, \"country\": \"Iran\", \"cluster\": 5, \"pop\": 65660289, \"life_expect\": 69.451, \"fertility\": 2.124}, {\"year\": 2000, \"country\": \"Iraq\", \"cluster\": 5, \"pop\": 22675617, \"life_expect\": 57.046, \"fertility\": 4.858}, {\"year\": 2000, \"country\": \"Ireland\", \"cluster\": 1, \"pop\": 3791690, \"life_expect\": 77.783, \"fertility\": 1.9689999999999999}, {\"year\": 2000, \"country\": \"Israel\", \"cluster\": 5, \"pop\": 5842454, \"life_expect\": 79.696, \"fertility\": 2.906}, {\"year\": 2000, \"country\": \"Italy\", \"cluster\": 1, \"pop\": 57719337, \"life_expect\": 80.24, \"fertility\": 1.286}, {\"year\": 2000, \"country\": \"Jamaica\", \"cluster\": 3, \"pop\": 2615467, \"life_expect\": 72.047, \"fertility\": 2.628}, {\"year\": 2000, \"country\": \"Japan\", \"cluster\": 4, \"pop\": 126699784, \"life_expect\": 82.0, \"fertility\": 1.291}, {\"year\": 2000, \"country\": \"Kenya\", \"cluster\": 2, \"pop\": 29985839, \"life_expect\": 50.992, \"fertility\": 5.0}, {\"year\": 2000, \"country\": \"South Korea\", \"cluster\": 4, \"pop\": 21647682, \"life_expect\": 66.662, \"fertility\": 1.9173}, {\"year\": 2000, \"country\": \"North Korea\", \"cluster\": 4, \"pop\": 47351083, \"life_expect\": 77.045, \"fertility\": 1.242}, {\"year\": 2000, \"country\": \"Lebanon\", \"cluster\": 5, \"pop\": 3578036, \"life_expect\": 71.028, \"fertility\": 2.319}, {\"year\": 2000, \"country\": \"Mexico\", \"cluster\": 3, \"pop\": 99926620, \"life_expect\": 74.902, \"fertility\": 2.4005}, {\"year\": 2000, \"country\": \"Netherlands\", \"cluster\": 1, \"pop\": 15907853, \"life_expect\": 78.53, \"fertility\": 1.726}, {\"year\": 2000, \"country\": \"New Zealand\", \"cluster\": 4, \"pop\": 3819762, \"life_expect\": 79.11, \"fertility\": 1.964}, {\"year\": 2000, \"country\": \"Nigeria\", \"cluster\": 2, \"pop\": 114306700, \"life_expect\": 46.608, \"fertility\": 5.845}, {\"year\": 2000, \"country\": \"Norway\", \"cluster\": 1, \"pop\": 4492400, \"life_expect\": 79.05, \"fertility\": 1.8010000000000002}, {\"year\": 2000, \"country\": \"Pakistan\", \"cluster\": 0, \"pop\": 146342958, \"life_expect\": 63.61, \"fertility\": 3.9936}, {\"year\": 2000, \"country\": \"Peru\", \"cluster\": 3, \"pop\": 25979722, \"life_expect\": 69.906, \"fertility\": 2.7005}, {\"year\": 2000, \"country\": \"Philippines\", \"cluster\": 4, \"pop\": 79739825, \"life_expect\": 70.303, \"fertility\": 3.5436}, {\"year\": 2000, \"country\": \"Poland\", \"cluster\": 1, \"pop\": 38654164, \"life_expect\": 74.67, \"fertility\": 1.251}, {\"year\": 2000, \"country\": \"Portugal\", \"cluster\": 1, \"pop\": 10335597, \"life_expect\": 77.29, \"fertility\": 1.454}, {\"year\": 2000, \"country\": \"Rwanda\", \"cluster\": 2, \"pop\": 7507056, \"life_expect\": 43.413, \"fertility\": 6.01}, {\"year\": 2000, \"country\": \"Saudi Arabia\", \"cluster\": 5, \"pop\": 23153090, \"life_expect\": 71.626, \"fertility\": 3.81}, {\"year\": 2000, \"country\": \"South Africa\", \"cluster\": 2, \"pop\": 44066197, \"life_expect\": 53.365, \"fertility\": 2.802}, {\"year\": 2000, \"country\": \"Spain\", \"cluster\": 1, \"pop\": 40016081, \"life_expect\": 79.78, \"fertility\": 1.287}, {\"year\": 2000, \"country\": \"Switzerland\", \"cluster\": 1, \"pop\": 7266920, \"life_expect\": 80.62, \"fertility\": 1.415}, {\"year\": 2000, \"country\": \"Turkey\", \"cluster\": 1, \"pop\": 65666677, \"life_expect\": 70.845, \"fertility\": 2.23}, {\"year\": 2000, \"country\": \"United Kingdom\", \"cluster\": 1, \"pop\": 59522468, \"life_expect\": 78.471, \"fertility\": 1.695}, {\"year\": 2000, \"country\": \"United States\", \"cluster\": 3, \"pop\": 282338631, \"life_expect\": 77.31, \"fertility\": 2.038}, {\"year\": 2000, \"country\": \"Venezuela\", \"cluster\": 3, \"pop\": 23542649, \"life_expect\": 72.766, \"fertility\": 2.723}]}}, {\"mode\": \"vega-lite\"});\n",
       "</script>"
      ],
      "text/plain": [
       "alt.Chart(...)"
      ]
     },
     "execution_count": 17,
     "metadata": {},
     "output_type": "execute_result"
    }
   ],
   "source": [
    "alt.Chart(data2000).mark_point(filled=True).encode(\n",
    "    alt.X('fertility:Q'),\n",
    "    alt.Y('life_expect:Q'),\n",
    "    alt.Size('pop:Q', scale=alt.Scale(range=[0,1000])),\n",
    "    alt.Color('cluster:N')\n",
    ")"
   ]
  },
  {
   "cell_type": "markdown",
   "metadata": {
    "colab_type": "text",
    "id": "YY96rt7zfRYG",
    "slideshow": {
     "slide_type": "subslide"
    }
   },
   "source": [
    "- 기본적으로, 알테어는 과도한 겹침 현상을 완화하기 위하여 투명도를 활용한다.  \n",
    "  투명도를 맞춤형으로 조절하려면,  \n",
    "  - `mark_*` 메소드에 대하여 기본값을 지정하거나, \n",
    "  - 인코딩 메소드에서 `OpacityValue` 값을 설정해야 한다. \n",
    "- 아래에서는 인코드 메소드에서 `OpacityValue` 값을  \n",
    "  (데이터 필드가 아닌) 상수로 지정하였다. "
   ]
  },
  {
   "cell_type": "code",
   "execution_count": 18,
   "metadata": {
    "colab": {
     "base_uri": "https://localhost:8080/",
     "height": 372
    },
    "colab_type": "code",
    "id": "42kM5nuDOfGm",
    "outputId": "2dd14842-8fd5-4997-ea47-91cd489e0193",
    "slideshow": {
     "slide_type": "fragment"
    }
   },
   "outputs": [
    {
     "data": {
      "text/html": [
       "\n",
       "<div id=\"altair-viz-751148fab1a24b3e82259b06df55a4fa\"></div>\n",
       "<script type=\"text/javascript\">\n",
       "  (function(spec, embedOpt){\n",
       "    let outputDiv = document.currentScript.previousElementSibling;\n",
       "    if (outputDiv.id !== \"altair-viz-751148fab1a24b3e82259b06df55a4fa\") {\n",
       "      outputDiv = document.getElementById(\"altair-viz-751148fab1a24b3e82259b06df55a4fa\");\n",
       "    }\n",
       "    const paths = {\n",
       "      \"vega\": \"https://cdn.jsdelivr.net/npm//vega@5?noext\",\n",
       "      \"vega-lib\": \"https://cdn.jsdelivr.net/npm//vega-lib?noext\",\n",
       "      \"vega-lite\": \"https://cdn.jsdelivr.net/npm//vega-lite@4.8.1?noext\",\n",
       "      \"vega-embed\": \"https://cdn.jsdelivr.net/npm//vega-embed@6?noext\",\n",
       "    };\n",
       "\n",
       "    function loadScript(lib) {\n",
       "      return new Promise(function(resolve, reject) {\n",
       "        var s = document.createElement('script');\n",
       "        s.src = paths[lib];\n",
       "        s.async = true;\n",
       "        s.onload = () => resolve(paths[lib]);\n",
       "        s.onerror = () => reject(`Error loading script: ${paths[lib]}`);\n",
       "        document.getElementsByTagName(\"head\")[0].appendChild(s);\n",
       "      });\n",
       "    }\n",
       "\n",
       "    function showError(err) {\n",
       "      outputDiv.innerHTML = `<div class=\"error\" style=\"color:red;\">${err}</div>`;\n",
       "      throw err;\n",
       "    }\n",
       "\n",
       "    function displayChart(vegaEmbed) {\n",
       "      vegaEmbed(outputDiv, spec, embedOpt)\n",
       "        .catch(err => showError(`Javascript Error: ${err.message}<br>This usually means there's a typo in your chart specification. See the javascript console for the full traceback.`));\n",
       "    }\n",
       "\n",
       "    if(typeof define === \"function\" && define.amd) {\n",
       "      requirejs.config({paths});\n",
       "      require([\"vega-embed\"], displayChart, err => showError(`Error loading script: ${err.message}`));\n",
       "    } else if (typeof vegaEmbed === \"function\") {\n",
       "      displayChart(vegaEmbed);\n",
       "    } else {\n",
       "      loadScript(\"vega\")\n",
       "        .then(() => loadScript(\"vega-lite\"))\n",
       "        .then(() => loadScript(\"vega-embed\"))\n",
       "        .catch(showError)\n",
       "        .then(() => displayChart(vegaEmbed));\n",
       "    }\n",
       "  })({\"config\": {\"view\": {\"continuousWidth\": 400, \"continuousHeight\": 300}}, \"data\": {\"name\": \"data-fdeb0b749a6385830bd1445d39ad6ea0\"}, \"mark\": {\"type\": \"point\", \"filled\": true}, \"encoding\": {\"color\": {\"type\": \"nominal\", \"field\": \"cluster\"}, \"opacity\": {\"value\": 0.5}, \"size\": {\"type\": \"quantitative\", \"field\": \"pop\", \"scale\": {\"range\": [0, 1000]}}, \"x\": {\"type\": \"quantitative\", \"field\": \"fertility\"}, \"y\": {\"type\": \"quantitative\", \"field\": \"life_expect\"}}, \"$schema\": \"https://vega.github.io/schema/vega-lite/v4.8.1.json\", \"datasets\": {\"data-fdeb0b749a6385830bd1445d39ad6ea0\": [{\"year\": 2000, \"country\": \"Afghanistan\", \"cluster\": 0, \"pop\": 23898198, \"life_expect\": 42.129, \"fertility\": 7.4792}, {\"year\": 2000, \"country\": \"Argentina\", \"cluster\": 3, \"pop\": 37497728, \"life_expect\": 74.34, \"fertility\": 2.35}, {\"year\": 2000, \"country\": \"Aruba\", \"cluster\": 3, \"pop\": 69539, \"life_expect\": 73.451, \"fertility\": 2.124}, {\"year\": 2000, \"country\": \"Australia\", \"cluster\": 4, \"pop\": 19164620, \"life_expect\": 80.37, \"fertility\": 1.756}, {\"year\": 2000, \"country\": \"Austria\", \"cluster\": 1, \"pop\": 8113413, \"life_expect\": 78.98, \"fertility\": 1.3820000000000001}, {\"year\": 2000, \"country\": \"Bahamas\", \"cluster\": 3, \"pop\": 290075, \"life_expect\": 71.068, \"fertility\": 2.1111}, {\"year\": 2000, \"country\": \"Bangladesh\", \"cluster\": 0, \"pop\": 130406594, \"life_expect\": 62.013, \"fertility\": 3.224}, {\"year\": 2000, \"country\": \"Barbados\", \"cluster\": 3, \"pop\": 273483, \"life_expect\": 75.97, \"fertility\": 1.5}, {\"year\": 2000, \"country\": \"Belgium\", \"cluster\": 1, \"pop\": 10263618, \"life_expect\": 78.32, \"fertility\": 1.638}, {\"year\": 2000, \"country\": \"Bolivia\", \"cluster\": 3, \"pop\": 8152620, \"life_expect\": 63.883, \"fertility\": 3.9585}, {\"year\": 2000, \"country\": \"Brazil\", \"cluster\": 3, \"pop\": 175552771, \"life_expect\": 71.006, \"fertility\": 2.345}, {\"year\": 2000, \"country\": \"Canada\", \"cluster\": 3, \"pop\": 31278097, \"life_expect\": 79.77, \"fertility\": 1.522}, {\"year\": 2000, \"country\": \"Chile\", \"cluster\": 3, \"pop\": 15153450, \"life_expect\": 77.86, \"fertility\": 2.0}, {\"year\": 2000, \"country\": \"China\", \"cluster\": 4, \"pop\": 1262645000, \"life_expect\": 72.028, \"fertility\": 1.7000000000000002}, {\"year\": 2000, \"country\": \"Colombia\", \"cluster\": 3, \"pop\": 39685655, \"life_expect\": 71.682, \"fertility\": 2.4705}, {\"year\": 2000, \"country\": \"Costa Rica\", \"cluster\": 3, \"pop\": 3710558, \"life_expect\": 78.123, \"fertility\": 2.2815}, {\"year\": 2000, \"country\": \"Croatia\", \"cluster\": 1, \"pop\": 4410830, \"life_expect\": 74.876, \"fertility\": 1.348}, {\"year\": 2000, \"country\": \"Cuba\", \"cluster\": 3, \"pop\": 11134273, \"life_expect\": 77.158, \"fertility\": 1.63}, {\"year\": 2000, \"country\": \"Dominican Republic\", \"cluster\": 3, \"pop\": 8385828, \"life_expect\": 70.847, \"fertility\": 2.95}, {\"year\": 2000, \"country\": \"Ecuador\", \"cluster\": 3, \"pop\": 12505204, \"life_expect\": 74.173, \"fertility\": 2.8175}, {\"year\": 2000, \"country\": \"Egypt\", \"cluster\": 5, \"pop\": 70492342, \"life_expect\": 69.806, \"fertility\": 3.174}, {\"year\": 2000, \"country\": \"El Salvador\", \"cluster\": 3, \"pop\": 6122515, \"life_expect\": 70.734, \"fertility\": 2.883}, {\"year\": 2000, \"country\": \"Finland\", \"cluster\": 1, \"pop\": 5168595, \"life_expect\": 78.37, \"fertility\": 1.754}, {\"year\": 2000, \"country\": \"France\", \"cluster\": 1, \"pop\": 59381628, \"life_expect\": 79.59, \"fertility\": 1.8833000000000002}, {\"year\": 2000, \"country\": \"Georgia\", \"cluster\": 1, \"pop\": 4777209, \"life_expect\": 70.476, \"fertility\": 1.478}, {\"year\": 2000, \"country\": \"Germany\", \"cluster\": 1, \"pop\": 82187909, \"life_expect\": 78.67, \"fertility\": 1.346}, {\"year\": 2000, \"country\": \"Greece\", \"cluster\": 1, \"pop\": 10559110, \"life_expect\": 78.256, \"fertility\": 1.2770000000000001}, {\"year\": 2000, \"country\": \"Grenada\", \"cluster\": 3, \"pop\": 89312, \"life_expect\": 67.746, \"fertility\": 2.429}, {\"year\": 2000, \"country\": \"Haiti\", \"cluster\": 3, \"pop\": 7306302, \"life_expect\": 58.137, \"fertility\": 4.0}, {\"year\": 2000, \"country\": \"Hong Kong\", \"cluster\": 4, \"pop\": 6658720, \"life_expect\": 81.495, \"fertility\": 0.9400000000000001}, {\"year\": 2000, \"country\": \"Iceland\", \"cluster\": 1, \"pop\": 281043, \"life_expect\": 80.5, \"fertility\": 1.9929999999999999}, {\"year\": 2000, \"country\": \"India\", \"cluster\": 0, \"pop\": 1007702000, \"life_expect\": 62.879, \"fertility\": 3.1132}, {\"year\": 2000, \"country\": \"Indonesia\", \"cluster\": 4, \"pop\": 206265000, \"life_expect\": 68.588, \"fertility\": 2.3761}, {\"year\": 2000, \"country\": \"Iran\", \"cluster\": 5, \"pop\": 65660289, \"life_expect\": 69.451, \"fertility\": 2.124}, {\"year\": 2000, \"country\": \"Iraq\", \"cluster\": 5, \"pop\": 22675617, \"life_expect\": 57.046, \"fertility\": 4.858}, {\"year\": 2000, \"country\": \"Ireland\", \"cluster\": 1, \"pop\": 3791690, \"life_expect\": 77.783, \"fertility\": 1.9689999999999999}, {\"year\": 2000, \"country\": \"Israel\", \"cluster\": 5, \"pop\": 5842454, \"life_expect\": 79.696, \"fertility\": 2.906}, {\"year\": 2000, \"country\": \"Italy\", \"cluster\": 1, \"pop\": 57719337, \"life_expect\": 80.24, \"fertility\": 1.286}, {\"year\": 2000, \"country\": \"Jamaica\", \"cluster\": 3, \"pop\": 2615467, \"life_expect\": 72.047, \"fertility\": 2.628}, {\"year\": 2000, \"country\": \"Japan\", \"cluster\": 4, \"pop\": 126699784, \"life_expect\": 82.0, \"fertility\": 1.291}, {\"year\": 2000, \"country\": \"Kenya\", \"cluster\": 2, \"pop\": 29985839, \"life_expect\": 50.992, \"fertility\": 5.0}, {\"year\": 2000, \"country\": \"South Korea\", \"cluster\": 4, \"pop\": 21647682, \"life_expect\": 66.662, \"fertility\": 1.9173}, {\"year\": 2000, \"country\": \"North Korea\", \"cluster\": 4, \"pop\": 47351083, \"life_expect\": 77.045, \"fertility\": 1.242}, {\"year\": 2000, \"country\": \"Lebanon\", \"cluster\": 5, \"pop\": 3578036, \"life_expect\": 71.028, \"fertility\": 2.319}, {\"year\": 2000, \"country\": \"Mexico\", \"cluster\": 3, \"pop\": 99926620, \"life_expect\": 74.902, \"fertility\": 2.4005}, {\"year\": 2000, \"country\": \"Netherlands\", \"cluster\": 1, \"pop\": 15907853, \"life_expect\": 78.53, \"fertility\": 1.726}, {\"year\": 2000, \"country\": \"New Zealand\", \"cluster\": 4, \"pop\": 3819762, \"life_expect\": 79.11, \"fertility\": 1.964}, {\"year\": 2000, \"country\": \"Nigeria\", \"cluster\": 2, \"pop\": 114306700, \"life_expect\": 46.608, \"fertility\": 5.845}, {\"year\": 2000, \"country\": \"Norway\", \"cluster\": 1, \"pop\": 4492400, \"life_expect\": 79.05, \"fertility\": 1.8010000000000002}, {\"year\": 2000, \"country\": \"Pakistan\", \"cluster\": 0, \"pop\": 146342958, \"life_expect\": 63.61, \"fertility\": 3.9936}, {\"year\": 2000, \"country\": \"Peru\", \"cluster\": 3, \"pop\": 25979722, \"life_expect\": 69.906, \"fertility\": 2.7005}, {\"year\": 2000, \"country\": \"Philippines\", \"cluster\": 4, \"pop\": 79739825, \"life_expect\": 70.303, \"fertility\": 3.5436}, {\"year\": 2000, \"country\": \"Poland\", \"cluster\": 1, \"pop\": 38654164, \"life_expect\": 74.67, \"fertility\": 1.251}, {\"year\": 2000, \"country\": \"Portugal\", \"cluster\": 1, \"pop\": 10335597, \"life_expect\": 77.29, \"fertility\": 1.454}, {\"year\": 2000, \"country\": \"Rwanda\", \"cluster\": 2, \"pop\": 7507056, \"life_expect\": 43.413, \"fertility\": 6.01}, {\"year\": 2000, \"country\": \"Saudi Arabia\", \"cluster\": 5, \"pop\": 23153090, \"life_expect\": 71.626, \"fertility\": 3.81}, {\"year\": 2000, \"country\": \"South Africa\", \"cluster\": 2, \"pop\": 44066197, \"life_expect\": 53.365, \"fertility\": 2.802}, {\"year\": 2000, \"country\": \"Spain\", \"cluster\": 1, \"pop\": 40016081, \"life_expect\": 79.78, \"fertility\": 1.287}, {\"year\": 2000, \"country\": \"Switzerland\", \"cluster\": 1, \"pop\": 7266920, \"life_expect\": 80.62, \"fertility\": 1.415}, {\"year\": 2000, \"country\": \"Turkey\", \"cluster\": 1, \"pop\": 65666677, \"life_expect\": 70.845, \"fertility\": 2.23}, {\"year\": 2000, \"country\": \"United Kingdom\", \"cluster\": 1, \"pop\": 59522468, \"life_expect\": 78.471, \"fertility\": 1.695}, {\"year\": 2000, \"country\": \"United States\", \"cluster\": 3, \"pop\": 282338631, \"life_expect\": 77.31, \"fertility\": 2.038}, {\"year\": 2000, \"country\": \"Venezuela\", \"cluster\": 3, \"pop\": 23542649, \"life_expect\": 72.766, \"fertility\": 2.723}]}}, {\"mode\": \"vega-lite\"});\n",
       "</script>"
      ],
      "text/plain": [
       "alt.Chart(...)"
      ]
     },
     "execution_count": 18,
     "metadata": {},
     "output_type": "execute_result"
    }
   ],
   "source": [
    "alt.Chart(data2000).mark_point(filled=True).encode(\n",
    "    alt.X('fertility:Q'),\n",
    "    alt.Y('life_expect:Q'),\n",
    "    alt.Size('pop:Q', scale=alt.Scale(range=[0,1000])),\n",
    "    alt.Color('cluster:N'),\n",
    "    alt.OpacityValue(0.5)\n",
    ")"
   ]
  },
  {
   "cell_type": "markdown",
   "metadata": {
    "colab_type": "text",
    "id": "zW2Siu5sPaiE",
    "slideshow": {
     "slide_type": "slide"
    }
   },
   "source": [
    "### 3.5 모양"
   ]
  },
  {
   "cell_type": "markdown",
   "metadata": {
    "colab_type": "text",
    "id": "MGM2hdOqf3Tu",
    "slideshow": {
     "slide_type": "fragment"
    }
   },
   "source": [
    "- `shape` 인코딩 채널은 `point` 마크에 대한 기하학적 모양을 설정한다.  \n",
    "  - 이제껏 공부한 다른 채널과 달리,  \n",
    "    `shape` 채널은 (`point` 아닌) 다른 마크 유형에 대해서는 사용할 수 없다. \n",
    "  - 모양 인코딩 채널은 명목형 데이터에 대해서만 사용 가능하며,  \n",
    "    서수형 및 정량형 비교에 대해서는 적용이 불가능하다. \n",
    "- `cluster` 필드를 `shape` 및 `color` 채널에 지정해 보자. \n",
    "  - 단일 필드에 대하여 복수 채널을 지정하는 방식을  \n",
    "    *다중 인코딩*(redundant encoding)이라고 한다. \n",
    "  - 시각화 결과에는 색상과 모양이 결합된 단일 심볼이 범례에 추가된다.  "
   ]
  },
  {
   "cell_type": "code",
   "execution_count": 19,
   "metadata": {
    "colab": {
     "base_uri": "https://localhost:8080/",
     "height": 372
    },
    "colab_type": "code",
    "id": "czAIeWjSPS5x",
    "outputId": "e418f006-988c-42a9-9a81-664d1d52d93c",
    "slideshow": {
     "slide_type": "subslide"
    }
   },
   "outputs": [
    {
     "data": {
      "text/html": [
       "\n",
       "<div id=\"altair-viz-73b0b1eee78d442e84a0804a00e3db17\"></div>\n",
       "<script type=\"text/javascript\">\n",
       "  (function(spec, embedOpt){\n",
       "    let outputDiv = document.currentScript.previousElementSibling;\n",
       "    if (outputDiv.id !== \"altair-viz-73b0b1eee78d442e84a0804a00e3db17\") {\n",
       "      outputDiv = document.getElementById(\"altair-viz-73b0b1eee78d442e84a0804a00e3db17\");\n",
       "    }\n",
       "    const paths = {\n",
       "      \"vega\": \"https://cdn.jsdelivr.net/npm//vega@5?noext\",\n",
       "      \"vega-lib\": \"https://cdn.jsdelivr.net/npm//vega-lib?noext\",\n",
       "      \"vega-lite\": \"https://cdn.jsdelivr.net/npm//vega-lite@4.8.1?noext\",\n",
       "      \"vega-embed\": \"https://cdn.jsdelivr.net/npm//vega-embed@6?noext\",\n",
       "    };\n",
       "\n",
       "    function loadScript(lib) {\n",
       "      return new Promise(function(resolve, reject) {\n",
       "        var s = document.createElement('script');\n",
       "        s.src = paths[lib];\n",
       "        s.async = true;\n",
       "        s.onload = () => resolve(paths[lib]);\n",
       "        s.onerror = () => reject(`Error loading script: ${paths[lib]}`);\n",
       "        document.getElementsByTagName(\"head\")[0].appendChild(s);\n",
       "      });\n",
       "    }\n",
       "\n",
       "    function showError(err) {\n",
       "      outputDiv.innerHTML = `<div class=\"error\" style=\"color:red;\">${err}</div>`;\n",
       "      throw err;\n",
       "    }\n",
       "\n",
       "    function displayChart(vegaEmbed) {\n",
       "      vegaEmbed(outputDiv, spec, embedOpt)\n",
       "        .catch(err => showError(`Javascript Error: ${err.message}<br>This usually means there's a typo in your chart specification. See the javascript console for the full traceback.`));\n",
       "    }\n",
       "\n",
       "    if(typeof define === \"function\" && define.amd) {\n",
       "      requirejs.config({paths});\n",
       "      require([\"vega-embed\"], displayChart, err => showError(`Error loading script: ${err.message}`));\n",
       "    } else if (typeof vegaEmbed === \"function\") {\n",
       "      displayChart(vegaEmbed);\n",
       "    } else {\n",
       "      loadScript(\"vega\")\n",
       "        .then(() => loadScript(\"vega-lite\"))\n",
       "        .then(() => loadScript(\"vega-embed\"))\n",
       "        .catch(showError)\n",
       "        .then(() => displayChart(vegaEmbed));\n",
       "    }\n",
       "  })({\"config\": {\"view\": {\"continuousWidth\": 400, \"continuousHeight\": 300}}, \"data\": {\"name\": \"data-fdeb0b749a6385830bd1445d39ad6ea0\"}, \"mark\": {\"type\": \"point\", \"filled\": true}, \"encoding\": {\"color\": {\"type\": \"nominal\", \"field\": \"cluster\"}, \"opacity\": {\"value\": 0.5}, \"shape\": {\"type\": \"nominal\", \"field\": \"cluster\"}, \"size\": {\"type\": \"quantitative\", \"field\": \"pop\", \"scale\": {\"range\": [0, 1000]}}, \"x\": {\"type\": \"quantitative\", \"field\": \"fertility\"}, \"y\": {\"type\": \"quantitative\", \"field\": \"life_expect\"}}, \"$schema\": \"https://vega.github.io/schema/vega-lite/v4.8.1.json\", \"datasets\": {\"data-fdeb0b749a6385830bd1445d39ad6ea0\": [{\"year\": 2000, \"country\": \"Afghanistan\", \"cluster\": 0, \"pop\": 23898198, \"life_expect\": 42.129, \"fertility\": 7.4792}, {\"year\": 2000, \"country\": \"Argentina\", \"cluster\": 3, \"pop\": 37497728, \"life_expect\": 74.34, \"fertility\": 2.35}, {\"year\": 2000, \"country\": \"Aruba\", \"cluster\": 3, \"pop\": 69539, \"life_expect\": 73.451, \"fertility\": 2.124}, {\"year\": 2000, \"country\": \"Australia\", \"cluster\": 4, \"pop\": 19164620, \"life_expect\": 80.37, \"fertility\": 1.756}, {\"year\": 2000, \"country\": \"Austria\", \"cluster\": 1, \"pop\": 8113413, \"life_expect\": 78.98, \"fertility\": 1.3820000000000001}, {\"year\": 2000, \"country\": \"Bahamas\", \"cluster\": 3, \"pop\": 290075, \"life_expect\": 71.068, \"fertility\": 2.1111}, {\"year\": 2000, \"country\": \"Bangladesh\", \"cluster\": 0, \"pop\": 130406594, \"life_expect\": 62.013, \"fertility\": 3.224}, {\"year\": 2000, \"country\": \"Barbados\", \"cluster\": 3, \"pop\": 273483, \"life_expect\": 75.97, \"fertility\": 1.5}, {\"year\": 2000, \"country\": \"Belgium\", \"cluster\": 1, \"pop\": 10263618, \"life_expect\": 78.32, \"fertility\": 1.638}, {\"year\": 2000, \"country\": \"Bolivia\", \"cluster\": 3, \"pop\": 8152620, \"life_expect\": 63.883, \"fertility\": 3.9585}, {\"year\": 2000, \"country\": \"Brazil\", \"cluster\": 3, \"pop\": 175552771, \"life_expect\": 71.006, \"fertility\": 2.345}, {\"year\": 2000, \"country\": \"Canada\", \"cluster\": 3, \"pop\": 31278097, \"life_expect\": 79.77, \"fertility\": 1.522}, {\"year\": 2000, \"country\": \"Chile\", \"cluster\": 3, \"pop\": 15153450, \"life_expect\": 77.86, \"fertility\": 2.0}, {\"year\": 2000, \"country\": \"China\", \"cluster\": 4, \"pop\": 1262645000, \"life_expect\": 72.028, \"fertility\": 1.7000000000000002}, {\"year\": 2000, \"country\": \"Colombia\", \"cluster\": 3, \"pop\": 39685655, \"life_expect\": 71.682, \"fertility\": 2.4705}, {\"year\": 2000, \"country\": \"Costa Rica\", \"cluster\": 3, \"pop\": 3710558, \"life_expect\": 78.123, \"fertility\": 2.2815}, {\"year\": 2000, \"country\": \"Croatia\", \"cluster\": 1, \"pop\": 4410830, \"life_expect\": 74.876, \"fertility\": 1.348}, {\"year\": 2000, \"country\": \"Cuba\", \"cluster\": 3, \"pop\": 11134273, \"life_expect\": 77.158, \"fertility\": 1.63}, {\"year\": 2000, \"country\": \"Dominican Republic\", \"cluster\": 3, \"pop\": 8385828, \"life_expect\": 70.847, \"fertility\": 2.95}, {\"year\": 2000, \"country\": \"Ecuador\", \"cluster\": 3, \"pop\": 12505204, \"life_expect\": 74.173, \"fertility\": 2.8175}, {\"year\": 2000, \"country\": \"Egypt\", \"cluster\": 5, \"pop\": 70492342, \"life_expect\": 69.806, \"fertility\": 3.174}, {\"year\": 2000, \"country\": \"El Salvador\", \"cluster\": 3, \"pop\": 6122515, \"life_expect\": 70.734, \"fertility\": 2.883}, {\"year\": 2000, \"country\": \"Finland\", \"cluster\": 1, \"pop\": 5168595, \"life_expect\": 78.37, \"fertility\": 1.754}, {\"year\": 2000, \"country\": \"France\", \"cluster\": 1, \"pop\": 59381628, \"life_expect\": 79.59, \"fertility\": 1.8833000000000002}, {\"year\": 2000, \"country\": \"Georgia\", \"cluster\": 1, \"pop\": 4777209, \"life_expect\": 70.476, \"fertility\": 1.478}, {\"year\": 2000, \"country\": \"Germany\", \"cluster\": 1, \"pop\": 82187909, \"life_expect\": 78.67, \"fertility\": 1.346}, {\"year\": 2000, \"country\": \"Greece\", \"cluster\": 1, \"pop\": 10559110, \"life_expect\": 78.256, \"fertility\": 1.2770000000000001}, {\"year\": 2000, \"country\": \"Grenada\", \"cluster\": 3, \"pop\": 89312, \"life_expect\": 67.746, \"fertility\": 2.429}, {\"year\": 2000, \"country\": \"Haiti\", \"cluster\": 3, \"pop\": 7306302, \"life_expect\": 58.137, \"fertility\": 4.0}, {\"year\": 2000, \"country\": \"Hong Kong\", \"cluster\": 4, \"pop\": 6658720, \"life_expect\": 81.495, \"fertility\": 0.9400000000000001}, {\"year\": 2000, \"country\": \"Iceland\", \"cluster\": 1, \"pop\": 281043, \"life_expect\": 80.5, \"fertility\": 1.9929999999999999}, {\"year\": 2000, \"country\": \"India\", \"cluster\": 0, \"pop\": 1007702000, \"life_expect\": 62.879, \"fertility\": 3.1132}, {\"year\": 2000, \"country\": \"Indonesia\", \"cluster\": 4, \"pop\": 206265000, \"life_expect\": 68.588, \"fertility\": 2.3761}, {\"year\": 2000, \"country\": \"Iran\", \"cluster\": 5, \"pop\": 65660289, \"life_expect\": 69.451, \"fertility\": 2.124}, {\"year\": 2000, \"country\": \"Iraq\", \"cluster\": 5, \"pop\": 22675617, \"life_expect\": 57.046, \"fertility\": 4.858}, {\"year\": 2000, \"country\": \"Ireland\", \"cluster\": 1, \"pop\": 3791690, \"life_expect\": 77.783, \"fertility\": 1.9689999999999999}, {\"year\": 2000, \"country\": \"Israel\", \"cluster\": 5, \"pop\": 5842454, \"life_expect\": 79.696, \"fertility\": 2.906}, {\"year\": 2000, \"country\": \"Italy\", \"cluster\": 1, \"pop\": 57719337, \"life_expect\": 80.24, \"fertility\": 1.286}, {\"year\": 2000, \"country\": \"Jamaica\", \"cluster\": 3, \"pop\": 2615467, \"life_expect\": 72.047, \"fertility\": 2.628}, {\"year\": 2000, \"country\": \"Japan\", \"cluster\": 4, \"pop\": 126699784, \"life_expect\": 82.0, \"fertility\": 1.291}, {\"year\": 2000, \"country\": \"Kenya\", \"cluster\": 2, \"pop\": 29985839, \"life_expect\": 50.992, \"fertility\": 5.0}, {\"year\": 2000, \"country\": \"South Korea\", \"cluster\": 4, \"pop\": 21647682, \"life_expect\": 66.662, \"fertility\": 1.9173}, {\"year\": 2000, \"country\": \"North Korea\", \"cluster\": 4, \"pop\": 47351083, \"life_expect\": 77.045, \"fertility\": 1.242}, {\"year\": 2000, \"country\": \"Lebanon\", \"cluster\": 5, \"pop\": 3578036, \"life_expect\": 71.028, \"fertility\": 2.319}, {\"year\": 2000, \"country\": \"Mexico\", \"cluster\": 3, \"pop\": 99926620, \"life_expect\": 74.902, \"fertility\": 2.4005}, {\"year\": 2000, \"country\": \"Netherlands\", \"cluster\": 1, \"pop\": 15907853, \"life_expect\": 78.53, \"fertility\": 1.726}, {\"year\": 2000, \"country\": \"New Zealand\", \"cluster\": 4, \"pop\": 3819762, \"life_expect\": 79.11, \"fertility\": 1.964}, {\"year\": 2000, \"country\": \"Nigeria\", \"cluster\": 2, \"pop\": 114306700, \"life_expect\": 46.608, \"fertility\": 5.845}, {\"year\": 2000, \"country\": \"Norway\", \"cluster\": 1, \"pop\": 4492400, \"life_expect\": 79.05, \"fertility\": 1.8010000000000002}, {\"year\": 2000, \"country\": \"Pakistan\", \"cluster\": 0, \"pop\": 146342958, \"life_expect\": 63.61, \"fertility\": 3.9936}, {\"year\": 2000, \"country\": \"Peru\", \"cluster\": 3, \"pop\": 25979722, \"life_expect\": 69.906, \"fertility\": 2.7005}, {\"year\": 2000, \"country\": \"Philippines\", \"cluster\": 4, \"pop\": 79739825, \"life_expect\": 70.303, \"fertility\": 3.5436}, {\"year\": 2000, \"country\": \"Poland\", \"cluster\": 1, \"pop\": 38654164, \"life_expect\": 74.67, \"fertility\": 1.251}, {\"year\": 2000, \"country\": \"Portugal\", \"cluster\": 1, \"pop\": 10335597, \"life_expect\": 77.29, \"fertility\": 1.454}, {\"year\": 2000, \"country\": \"Rwanda\", \"cluster\": 2, \"pop\": 7507056, \"life_expect\": 43.413, \"fertility\": 6.01}, {\"year\": 2000, \"country\": \"Saudi Arabia\", \"cluster\": 5, \"pop\": 23153090, \"life_expect\": 71.626, \"fertility\": 3.81}, {\"year\": 2000, \"country\": \"South Africa\", \"cluster\": 2, \"pop\": 44066197, \"life_expect\": 53.365, \"fertility\": 2.802}, {\"year\": 2000, \"country\": \"Spain\", \"cluster\": 1, \"pop\": 40016081, \"life_expect\": 79.78, \"fertility\": 1.287}, {\"year\": 2000, \"country\": \"Switzerland\", \"cluster\": 1, \"pop\": 7266920, \"life_expect\": 80.62, \"fertility\": 1.415}, {\"year\": 2000, \"country\": \"Turkey\", \"cluster\": 1, \"pop\": 65666677, \"life_expect\": 70.845, \"fertility\": 2.23}, {\"year\": 2000, \"country\": \"United Kingdom\", \"cluster\": 1, \"pop\": 59522468, \"life_expect\": 78.471, \"fertility\": 1.695}, {\"year\": 2000, \"country\": \"United States\", \"cluster\": 3, \"pop\": 282338631, \"life_expect\": 77.31, \"fertility\": 2.038}, {\"year\": 2000, \"country\": \"Venezuela\", \"cluster\": 3, \"pop\": 23542649, \"life_expect\": 72.766, \"fertility\": 2.723}]}}, {\"mode\": \"vega-lite\"});\n",
       "</script>"
      ],
      "text/plain": [
       "alt.Chart(...)"
      ]
     },
     "execution_count": 19,
     "metadata": {},
     "output_type": "execute_result"
    }
   ],
   "source": [
    "alt.Chart(data2000).mark_point(filled=True).encode(\n",
    "    alt.X('fertility:Q'),\n",
    "    alt.Y('life_expect:Q'),\n",
    "    alt.Size('pop:Q', scale=alt.Scale(range=[0,1000])),\n",
    "    alt.Color('cluster:N'),\n",
    "    alt.OpacityValue(0.5),\n",
    "    alt.Shape('cluster:N')\n",
    ")"
   ]
  },
  {
   "cell_type": "markdown",
   "metadata": {
    "colab_type": "text",
    "id": "ramTzfIgUtEi",
    "slideshow": {
     "slide_type": "slide"
    }
   },
   "source": [
    "### 3.6 툴팁 및 순서"
   ]
  },
  {
   "cell_type": "markdown",
   "metadata": {
    "colab_type": "text",
    "id": "VE-29r8dg1Us",
    "slideshow": {
     "slide_type": "fragment"
    }
   },
   "source": [
    "- 아직까지 시각화된 점이 어느 나라인지를 짐작하기는 쉽지 않다.  \n",
    "  상호작용 방식으로 볼 수 있는 툴팁으로 나라 이름을 확인해 보자. \n",
    "- `tooltip` 인코딩 채널은  \n",
    "  사용자가 마우스 커서를 특정 마크에 올릴 때 보여줄  \n",
    "  툴팁 텍스트를 지정한다.  \n",
    "  `country` 필드에 대한 툴팁 인코딩을 추가하자. "
   ]
  },
  {
   "cell_type": "code",
   "execution_count": 20,
   "metadata": {
    "colab": {
     "base_uri": "https://localhost:8080/",
     "height": 372
    },
    "colab_type": "code",
    "id": "61evgaeFUyU0",
    "outputId": "f13ddd14-3b6f-4f96-ca08-8d3b2ba94a34",
    "slideshow": {
     "slide_type": "subslide"
    }
   },
   "outputs": [
    {
     "data": {
      "text/html": [
       "\n",
       "<div id=\"altair-viz-230bb9e20fbe49d2b565e70cd028a310\"></div>\n",
       "<script type=\"text/javascript\">\n",
       "  (function(spec, embedOpt){\n",
       "    let outputDiv = document.currentScript.previousElementSibling;\n",
       "    if (outputDiv.id !== \"altair-viz-230bb9e20fbe49d2b565e70cd028a310\") {\n",
       "      outputDiv = document.getElementById(\"altair-viz-230bb9e20fbe49d2b565e70cd028a310\");\n",
       "    }\n",
       "    const paths = {\n",
       "      \"vega\": \"https://cdn.jsdelivr.net/npm//vega@5?noext\",\n",
       "      \"vega-lib\": \"https://cdn.jsdelivr.net/npm//vega-lib?noext\",\n",
       "      \"vega-lite\": \"https://cdn.jsdelivr.net/npm//vega-lite@4.8.1?noext\",\n",
       "      \"vega-embed\": \"https://cdn.jsdelivr.net/npm//vega-embed@6?noext\",\n",
       "    };\n",
       "\n",
       "    function loadScript(lib) {\n",
       "      return new Promise(function(resolve, reject) {\n",
       "        var s = document.createElement('script');\n",
       "        s.src = paths[lib];\n",
       "        s.async = true;\n",
       "        s.onload = () => resolve(paths[lib]);\n",
       "        s.onerror = () => reject(`Error loading script: ${paths[lib]}`);\n",
       "        document.getElementsByTagName(\"head\")[0].appendChild(s);\n",
       "      });\n",
       "    }\n",
       "\n",
       "    function showError(err) {\n",
       "      outputDiv.innerHTML = `<div class=\"error\" style=\"color:red;\">${err}</div>`;\n",
       "      throw err;\n",
       "    }\n",
       "\n",
       "    function displayChart(vegaEmbed) {\n",
       "      vegaEmbed(outputDiv, spec, embedOpt)\n",
       "        .catch(err => showError(`Javascript Error: ${err.message}<br>This usually means there's a typo in your chart specification. See the javascript console for the full traceback.`));\n",
       "    }\n",
       "\n",
       "    if(typeof define === \"function\" && define.amd) {\n",
       "      requirejs.config({paths});\n",
       "      require([\"vega-embed\"], displayChart, err => showError(`Error loading script: ${err.message}`));\n",
       "    } else if (typeof vegaEmbed === \"function\") {\n",
       "      displayChart(vegaEmbed);\n",
       "    } else {\n",
       "      loadScript(\"vega\")\n",
       "        .then(() => loadScript(\"vega-lite\"))\n",
       "        .then(() => loadScript(\"vega-embed\"))\n",
       "        .catch(showError)\n",
       "        .then(() => displayChart(vegaEmbed));\n",
       "    }\n",
       "  })({\"config\": {\"view\": {\"continuousWidth\": 400, \"continuousHeight\": 300}}, \"data\": {\"name\": \"data-fdeb0b749a6385830bd1445d39ad6ea0\"}, \"mark\": {\"type\": \"point\", \"filled\": true}, \"encoding\": {\"color\": {\"type\": \"nominal\", \"field\": \"cluster\"}, \"opacity\": {\"value\": 0.5}, \"size\": {\"type\": \"quantitative\", \"field\": \"pop\", \"scale\": {\"range\": [0, 1000]}}, \"tooltip\": {\"type\": \"nominal\", \"field\": \"country\"}, \"x\": {\"type\": \"quantitative\", \"field\": \"fertility\"}, \"y\": {\"type\": \"quantitative\", \"field\": \"life_expect\"}}, \"$schema\": \"https://vega.github.io/schema/vega-lite/v4.8.1.json\", \"datasets\": {\"data-fdeb0b749a6385830bd1445d39ad6ea0\": [{\"year\": 2000, \"country\": \"Afghanistan\", \"cluster\": 0, \"pop\": 23898198, \"life_expect\": 42.129, \"fertility\": 7.4792}, {\"year\": 2000, \"country\": \"Argentina\", \"cluster\": 3, \"pop\": 37497728, \"life_expect\": 74.34, \"fertility\": 2.35}, {\"year\": 2000, \"country\": \"Aruba\", \"cluster\": 3, \"pop\": 69539, \"life_expect\": 73.451, \"fertility\": 2.124}, {\"year\": 2000, \"country\": \"Australia\", \"cluster\": 4, \"pop\": 19164620, \"life_expect\": 80.37, \"fertility\": 1.756}, {\"year\": 2000, \"country\": \"Austria\", \"cluster\": 1, \"pop\": 8113413, \"life_expect\": 78.98, \"fertility\": 1.3820000000000001}, {\"year\": 2000, \"country\": \"Bahamas\", \"cluster\": 3, \"pop\": 290075, \"life_expect\": 71.068, \"fertility\": 2.1111}, {\"year\": 2000, \"country\": \"Bangladesh\", \"cluster\": 0, \"pop\": 130406594, \"life_expect\": 62.013, \"fertility\": 3.224}, {\"year\": 2000, \"country\": \"Barbados\", \"cluster\": 3, \"pop\": 273483, \"life_expect\": 75.97, \"fertility\": 1.5}, {\"year\": 2000, \"country\": \"Belgium\", \"cluster\": 1, \"pop\": 10263618, \"life_expect\": 78.32, \"fertility\": 1.638}, {\"year\": 2000, \"country\": \"Bolivia\", \"cluster\": 3, \"pop\": 8152620, \"life_expect\": 63.883, \"fertility\": 3.9585}, {\"year\": 2000, \"country\": \"Brazil\", \"cluster\": 3, \"pop\": 175552771, \"life_expect\": 71.006, \"fertility\": 2.345}, {\"year\": 2000, \"country\": \"Canada\", \"cluster\": 3, \"pop\": 31278097, \"life_expect\": 79.77, \"fertility\": 1.522}, {\"year\": 2000, \"country\": \"Chile\", \"cluster\": 3, \"pop\": 15153450, \"life_expect\": 77.86, \"fertility\": 2.0}, {\"year\": 2000, \"country\": \"China\", \"cluster\": 4, \"pop\": 1262645000, \"life_expect\": 72.028, \"fertility\": 1.7000000000000002}, {\"year\": 2000, \"country\": \"Colombia\", \"cluster\": 3, \"pop\": 39685655, \"life_expect\": 71.682, \"fertility\": 2.4705}, {\"year\": 2000, \"country\": \"Costa Rica\", \"cluster\": 3, \"pop\": 3710558, \"life_expect\": 78.123, \"fertility\": 2.2815}, {\"year\": 2000, \"country\": \"Croatia\", \"cluster\": 1, \"pop\": 4410830, \"life_expect\": 74.876, \"fertility\": 1.348}, {\"year\": 2000, \"country\": \"Cuba\", \"cluster\": 3, \"pop\": 11134273, \"life_expect\": 77.158, \"fertility\": 1.63}, {\"year\": 2000, \"country\": \"Dominican Republic\", \"cluster\": 3, \"pop\": 8385828, \"life_expect\": 70.847, \"fertility\": 2.95}, {\"year\": 2000, \"country\": \"Ecuador\", \"cluster\": 3, \"pop\": 12505204, \"life_expect\": 74.173, \"fertility\": 2.8175}, {\"year\": 2000, \"country\": \"Egypt\", \"cluster\": 5, \"pop\": 70492342, \"life_expect\": 69.806, \"fertility\": 3.174}, {\"year\": 2000, \"country\": \"El Salvador\", \"cluster\": 3, \"pop\": 6122515, \"life_expect\": 70.734, \"fertility\": 2.883}, {\"year\": 2000, \"country\": \"Finland\", \"cluster\": 1, \"pop\": 5168595, \"life_expect\": 78.37, \"fertility\": 1.754}, {\"year\": 2000, \"country\": \"France\", \"cluster\": 1, \"pop\": 59381628, \"life_expect\": 79.59, \"fertility\": 1.8833000000000002}, {\"year\": 2000, \"country\": \"Georgia\", \"cluster\": 1, \"pop\": 4777209, \"life_expect\": 70.476, \"fertility\": 1.478}, {\"year\": 2000, \"country\": \"Germany\", \"cluster\": 1, \"pop\": 82187909, \"life_expect\": 78.67, \"fertility\": 1.346}, {\"year\": 2000, \"country\": \"Greece\", \"cluster\": 1, \"pop\": 10559110, \"life_expect\": 78.256, \"fertility\": 1.2770000000000001}, {\"year\": 2000, \"country\": \"Grenada\", \"cluster\": 3, \"pop\": 89312, \"life_expect\": 67.746, \"fertility\": 2.429}, {\"year\": 2000, \"country\": \"Haiti\", \"cluster\": 3, \"pop\": 7306302, \"life_expect\": 58.137, \"fertility\": 4.0}, {\"year\": 2000, \"country\": \"Hong Kong\", \"cluster\": 4, \"pop\": 6658720, \"life_expect\": 81.495, \"fertility\": 0.9400000000000001}, {\"year\": 2000, \"country\": \"Iceland\", \"cluster\": 1, \"pop\": 281043, \"life_expect\": 80.5, \"fertility\": 1.9929999999999999}, {\"year\": 2000, \"country\": \"India\", \"cluster\": 0, \"pop\": 1007702000, \"life_expect\": 62.879, \"fertility\": 3.1132}, {\"year\": 2000, \"country\": \"Indonesia\", \"cluster\": 4, \"pop\": 206265000, \"life_expect\": 68.588, \"fertility\": 2.3761}, {\"year\": 2000, \"country\": \"Iran\", \"cluster\": 5, \"pop\": 65660289, \"life_expect\": 69.451, \"fertility\": 2.124}, {\"year\": 2000, \"country\": \"Iraq\", \"cluster\": 5, \"pop\": 22675617, \"life_expect\": 57.046, \"fertility\": 4.858}, {\"year\": 2000, \"country\": \"Ireland\", \"cluster\": 1, \"pop\": 3791690, \"life_expect\": 77.783, \"fertility\": 1.9689999999999999}, {\"year\": 2000, \"country\": \"Israel\", \"cluster\": 5, \"pop\": 5842454, \"life_expect\": 79.696, \"fertility\": 2.906}, {\"year\": 2000, \"country\": \"Italy\", \"cluster\": 1, \"pop\": 57719337, \"life_expect\": 80.24, \"fertility\": 1.286}, {\"year\": 2000, \"country\": \"Jamaica\", \"cluster\": 3, \"pop\": 2615467, \"life_expect\": 72.047, \"fertility\": 2.628}, {\"year\": 2000, \"country\": \"Japan\", \"cluster\": 4, \"pop\": 126699784, \"life_expect\": 82.0, \"fertility\": 1.291}, {\"year\": 2000, \"country\": \"Kenya\", \"cluster\": 2, \"pop\": 29985839, \"life_expect\": 50.992, \"fertility\": 5.0}, {\"year\": 2000, \"country\": \"South Korea\", \"cluster\": 4, \"pop\": 21647682, \"life_expect\": 66.662, \"fertility\": 1.9173}, {\"year\": 2000, \"country\": \"North Korea\", \"cluster\": 4, \"pop\": 47351083, \"life_expect\": 77.045, \"fertility\": 1.242}, {\"year\": 2000, \"country\": \"Lebanon\", \"cluster\": 5, \"pop\": 3578036, \"life_expect\": 71.028, \"fertility\": 2.319}, {\"year\": 2000, \"country\": \"Mexico\", \"cluster\": 3, \"pop\": 99926620, \"life_expect\": 74.902, \"fertility\": 2.4005}, {\"year\": 2000, \"country\": \"Netherlands\", \"cluster\": 1, \"pop\": 15907853, \"life_expect\": 78.53, \"fertility\": 1.726}, {\"year\": 2000, \"country\": \"New Zealand\", \"cluster\": 4, \"pop\": 3819762, \"life_expect\": 79.11, \"fertility\": 1.964}, {\"year\": 2000, \"country\": \"Nigeria\", \"cluster\": 2, \"pop\": 114306700, \"life_expect\": 46.608, \"fertility\": 5.845}, {\"year\": 2000, \"country\": \"Norway\", \"cluster\": 1, \"pop\": 4492400, \"life_expect\": 79.05, \"fertility\": 1.8010000000000002}, {\"year\": 2000, \"country\": \"Pakistan\", \"cluster\": 0, \"pop\": 146342958, \"life_expect\": 63.61, \"fertility\": 3.9936}, {\"year\": 2000, \"country\": \"Peru\", \"cluster\": 3, \"pop\": 25979722, \"life_expect\": 69.906, \"fertility\": 2.7005}, {\"year\": 2000, \"country\": \"Philippines\", \"cluster\": 4, \"pop\": 79739825, \"life_expect\": 70.303, \"fertility\": 3.5436}, {\"year\": 2000, \"country\": \"Poland\", \"cluster\": 1, \"pop\": 38654164, \"life_expect\": 74.67, \"fertility\": 1.251}, {\"year\": 2000, \"country\": \"Portugal\", \"cluster\": 1, \"pop\": 10335597, \"life_expect\": 77.29, \"fertility\": 1.454}, {\"year\": 2000, \"country\": \"Rwanda\", \"cluster\": 2, \"pop\": 7507056, \"life_expect\": 43.413, \"fertility\": 6.01}, {\"year\": 2000, \"country\": \"Saudi Arabia\", \"cluster\": 5, \"pop\": 23153090, \"life_expect\": 71.626, \"fertility\": 3.81}, {\"year\": 2000, \"country\": \"South Africa\", \"cluster\": 2, \"pop\": 44066197, \"life_expect\": 53.365, \"fertility\": 2.802}, {\"year\": 2000, \"country\": \"Spain\", \"cluster\": 1, \"pop\": 40016081, \"life_expect\": 79.78, \"fertility\": 1.287}, {\"year\": 2000, \"country\": \"Switzerland\", \"cluster\": 1, \"pop\": 7266920, \"life_expect\": 80.62, \"fertility\": 1.415}, {\"year\": 2000, \"country\": \"Turkey\", \"cluster\": 1, \"pop\": 65666677, \"life_expect\": 70.845, \"fertility\": 2.23}, {\"year\": 2000, \"country\": \"United Kingdom\", \"cluster\": 1, \"pop\": 59522468, \"life_expect\": 78.471, \"fertility\": 1.695}, {\"year\": 2000, \"country\": \"United States\", \"cluster\": 3, \"pop\": 282338631, \"life_expect\": 77.31, \"fertility\": 2.038}, {\"year\": 2000, \"country\": \"Venezuela\", \"cluster\": 3, \"pop\": 23542649, \"life_expect\": 72.766, \"fertility\": 2.723}]}}, {\"mode\": \"vega-lite\"});\n",
       "</script>"
      ],
      "text/plain": [
       "alt.Chart(...)"
      ]
     },
     "execution_count": 20,
     "metadata": {},
     "output_type": "execute_result"
    }
   ],
   "source": [
    "alt.Chart(data2000).mark_point(filled=True).encode(\n",
    "    alt.X('fertility:Q'),\n",
    "    alt.Y('life_expect:Q'),\n",
    "    alt.Size('pop:Q', scale=alt.Scale(range=[0,1000])),\n",
    "    alt.Color('cluster:N'),\n",
    "    alt.OpacityValue(0.5),\n",
    "    alt.Tooltip('country')\n",
    ")"
   ]
  },
  {
   "cell_type": "markdown",
   "metadata": {
    "colab_type": "text",
    "id": "IRexn5IAhgeW",
    "slideshow": {
     "slide_type": "subslide"
    }
   },
   "source": [
    "- 마우스로 탐사해보면, 특정 점에 대한 툴팁을 확인할 수 없는 경우가 있다.  \n",
    "  - 예를 들어서 다크 블루 색상에서 제일 큰 원이 인도이다.  \n",
    "  - 이 원이 인구가 더 작은 어느 나라의 원을 가리고 있고,  \n",
    "    해당 국가의 정보를 확인할 수가 없다. \n",
    "  - `order` 인코딩 채널로 이 문제를 해결할 수 있다. \n",
    "  - `order` 인코딩 채널은 데이터 점의 화면 표시 순서를 결정한다.  \n",
    "    이 채널은  `line` 및 `area` 마크의 표시 순서를 동시에 결정한다.\n",
    "- 차트에서 원이 표시되는 순서를 인구 `pop` 열의 내림차순으로 설정해서,  \n",
    "  작은 원이 큰 원보다 나중에 그려지도록 조정하자. "
   ]
  },
  {
   "cell_type": "code",
   "execution_count": 21,
   "metadata": {
    "colab": {
     "base_uri": "https://localhost:8080/",
     "height": 372
    },
    "colab_type": "code",
    "id": "DywIzwtgVD3Z",
    "outputId": "3b7254de-09f3-4850-f066-ea8318ec5479",
    "slideshow": {
     "slide_type": "subslide"
    }
   },
   "outputs": [
    {
     "data": {
      "text/html": [
       "\n",
       "<div id=\"altair-viz-da659fb5cab9433a85e14fad54897eae\"></div>\n",
       "<script type=\"text/javascript\">\n",
       "  (function(spec, embedOpt){\n",
       "    let outputDiv = document.currentScript.previousElementSibling;\n",
       "    if (outputDiv.id !== \"altair-viz-da659fb5cab9433a85e14fad54897eae\") {\n",
       "      outputDiv = document.getElementById(\"altair-viz-da659fb5cab9433a85e14fad54897eae\");\n",
       "    }\n",
       "    const paths = {\n",
       "      \"vega\": \"https://cdn.jsdelivr.net/npm//vega@5?noext\",\n",
       "      \"vega-lib\": \"https://cdn.jsdelivr.net/npm//vega-lib?noext\",\n",
       "      \"vega-lite\": \"https://cdn.jsdelivr.net/npm//vega-lite@4.8.1?noext\",\n",
       "      \"vega-embed\": \"https://cdn.jsdelivr.net/npm//vega-embed@6?noext\",\n",
       "    };\n",
       "\n",
       "    function loadScript(lib) {\n",
       "      return new Promise(function(resolve, reject) {\n",
       "        var s = document.createElement('script');\n",
       "        s.src = paths[lib];\n",
       "        s.async = true;\n",
       "        s.onload = () => resolve(paths[lib]);\n",
       "        s.onerror = () => reject(`Error loading script: ${paths[lib]}`);\n",
       "        document.getElementsByTagName(\"head\")[0].appendChild(s);\n",
       "      });\n",
       "    }\n",
       "\n",
       "    function showError(err) {\n",
       "      outputDiv.innerHTML = `<div class=\"error\" style=\"color:red;\">${err}</div>`;\n",
       "      throw err;\n",
       "    }\n",
       "\n",
       "    function displayChart(vegaEmbed) {\n",
       "      vegaEmbed(outputDiv, spec, embedOpt)\n",
       "        .catch(err => showError(`Javascript Error: ${err.message}<br>This usually means there's a typo in your chart specification. See the javascript console for the full traceback.`));\n",
       "    }\n",
       "\n",
       "    if(typeof define === \"function\" && define.amd) {\n",
       "      requirejs.config({paths});\n",
       "      require([\"vega-embed\"], displayChart, err => showError(`Error loading script: ${err.message}`));\n",
       "    } else if (typeof vegaEmbed === \"function\") {\n",
       "      displayChart(vegaEmbed);\n",
       "    } else {\n",
       "      loadScript(\"vega\")\n",
       "        .then(() => loadScript(\"vega-lite\"))\n",
       "        .then(() => loadScript(\"vega-embed\"))\n",
       "        .catch(showError)\n",
       "        .then(() => displayChart(vegaEmbed));\n",
       "    }\n",
       "  })({\"config\": {\"view\": {\"continuousWidth\": 400, \"continuousHeight\": 300}}, \"data\": {\"name\": \"data-fdeb0b749a6385830bd1445d39ad6ea0\"}, \"mark\": {\"type\": \"point\", \"filled\": true}, \"encoding\": {\"color\": {\"type\": \"nominal\", \"field\": \"cluster\"}, \"opacity\": {\"value\": 0.5}, \"order\": {\"type\": \"quantitative\", \"field\": \"pop\", \"sort\": \"descending\"}, \"size\": {\"type\": \"quantitative\", \"field\": \"pop\", \"scale\": {\"range\": [0, 1000]}}, \"tooltip\": {\"type\": \"nominal\", \"field\": \"country\"}, \"x\": {\"type\": \"quantitative\", \"field\": \"fertility\"}, \"y\": {\"type\": \"quantitative\", \"field\": \"life_expect\"}}, \"$schema\": \"https://vega.github.io/schema/vega-lite/v4.8.1.json\", \"datasets\": {\"data-fdeb0b749a6385830bd1445d39ad6ea0\": [{\"year\": 2000, \"country\": \"Afghanistan\", \"cluster\": 0, \"pop\": 23898198, \"life_expect\": 42.129, \"fertility\": 7.4792}, {\"year\": 2000, \"country\": \"Argentina\", \"cluster\": 3, \"pop\": 37497728, \"life_expect\": 74.34, \"fertility\": 2.35}, {\"year\": 2000, \"country\": \"Aruba\", \"cluster\": 3, \"pop\": 69539, \"life_expect\": 73.451, \"fertility\": 2.124}, {\"year\": 2000, \"country\": \"Australia\", \"cluster\": 4, \"pop\": 19164620, \"life_expect\": 80.37, \"fertility\": 1.756}, {\"year\": 2000, \"country\": \"Austria\", \"cluster\": 1, \"pop\": 8113413, \"life_expect\": 78.98, \"fertility\": 1.3820000000000001}, {\"year\": 2000, \"country\": \"Bahamas\", \"cluster\": 3, \"pop\": 290075, \"life_expect\": 71.068, \"fertility\": 2.1111}, {\"year\": 2000, \"country\": \"Bangladesh\", \"cluster\": 0, \"pop\": 130406594, \"life_expect\": 62.013, \"fertility\": 3.224}, {\"year\": 2000, \"country\": \"Barbados\", \"cluster\": 3, \"pop\": 273483, \"life_expect\": 75.97, \"fertility\": 1.5}, {\"year\": 2000, \"country\": \"Belgium\", \"cluster\": 1, \"pop\": 10263618, \"life_expect\": 78.32, \"fertility\": 1.638}, {\"year\": 2000, \"country\": \"Bolivia\", \"cluster\": 3, \"pop\": 8152620, \"life_expect\": 63.883, \"fertility\": 3.9585}, {\"year\": 2000, \"country\": \"Brazil\", \"cluster\": 3, \"pop\": 175552771, \"life_expect\": 71.006, \"fertility\": 2.345}, {\"year\": 2000, \"country\": \"Canada\", \"cluster\": 3, \"pop\": 31278097, \"life_expect\": 79.77, \"fertility\": 1.522}, {\"year\": 2000, \"country\": \"Chile\", \"cluster\": 3, \"pop\": 15153450, \"life_expect\": 77.86, \"fertility\": 2.0}, {\"year\": 2000, \"country\": \"China\", \"cluster\": 4, \"pop\": 1262645000, \"life_expect\": 72.028, \"fertility\": 1.7000000000000002}, {\"year\": 2000, \"country\": \"Colombia\", \"cluster\": 3, \"pop\": 39685655, \"life_expect\": 71.682, \"fertility\": 2.4705}, {\"year\": 2000, \"country\": \"Costa Rica\", \"cluster\": 3, \"pop\": 3710558, \"life_expect\": 78.123, \"fertility\": 2.2815}, {\"year\": 2000, \"country\": \"Croatia\", \"cluster\": 1, \"pop\": 4410830, \"life_expect\": 74.876, \"fertility\": 1.348}, {\"year\": 2000, \"country\": \"Cuba\", \"cluster\": 3, \"pop\": 11134273, \"life_expect\": 77.158, \"fertility\": 1.63}, {\"year\": 2000, \"country\": \"Dominican Republic\", \"cluster\": 3, \"pop\": 8385828, \"life_expect\": 70.847, \"fertility\": 2.95}, {\"year\": 2000, \"country\": \"Ecuador\", \"cluster\": 3, \"pop\": 12505204, \"life_expect\": 74.173, \"fertility\": 2.8175}, {\"year\": 2000, \"country\": \"Egypt\", \"cluster\": 5, \"pop\": 70492342, \"life_expect\": 69.806, \"fertility\": 3.174}, {\"year\": 2000, \"country\": \"El Salvador\", \"cluster\": 3, \"pop\": 6122515, \"life_expect\": 70.734, \"fertility\": 2.883}, {\"year\": 2000, \"country\": \"Finland\", \"cluster\": 1, \"pop\": 5168595, \"life_expect\": 78.37, \"fertility\": 1.754}, {\"year\": 2000, \"country\": \"France\", \"cluster\": 1, \"pop\": 59381628, \"life_expect\": 79.59, \"fertility\": 1.8833000000000002}, {\"year\": 2000, \"country\": \"Georgia\", \"cluster\": 1, \"pop\": 4777209, \"life_expect\": 70.476, \"fertility\": 1.478}, {\"year\": 2000, \"country\": \"Germany\", \"cluster\": 1, \"pop\": 82187909, \"life_expect\": 78.67, \"fertility\": 1.346}, {\"year\": 2000, \"country\": \"Greece\", \"cluster\": 1, \"pop\": 10559110, \"life_expect\": 78.256, \"fertility\": 1.2770000000000001}, {\"year\": 2000, \"country\": \"Grenada\", \"cluster\": 3, \"pop\": 89312, \"life_expect\": 67.746, \"fertility\": 2.429}, {\"year\": 2000, \"country\": \"Haiti\", \"cluster\": 3, \"pop\": 7306302, \"life_expect\": 58.137, \"fertility\": 4.0}, {\"year\": 2000, \"country\": \"Hong Kong\", \"cluster\": 4, \"pop\": 6658720, \"life_expect\": 81.495, \"fertility\": 0.9400000000000001}, {\"year\": 2000, \"country\": \"Iceland\", \"cluster\": 1, \"pop\": 281043, \"life_expect\": 80.5, \"fertility\": 1.9929999999999999}, {\"year\": 2000, \"country\": \"India\", \"cluster\": 0, \"pop\": 1007702000, \"life_expect\": 62.879, \"fertility\": 3.1132}, {\"year\": 2000, \"country\": \"Indonesia\", \"cluster\": 4, \"pop\": 206265000, \"life_expect\": 68.588, \"fertility\": 2.3761}, {\"year\": 2000, \"country\": \"Iran\", \"cluster\": 5, \"pop\": 65660289, \"life_expect\": 69.451, \"fertility\": 2.124}, {\"year\": 2000, \"country\": \"Iraq\", \"cluster\": 5, \"pop\": 22675617, \"life_expect\": 57.046, \"fertility\": 4.858}, {\"year\": 2000, \"country\": \"Ireland\", \"cluster\": 1, \"pop\": 3791690, \"life_expect\": 77.783, \"fertility\": 1.9689999999999999}, {\"year\": 2000, \"country\": \"Israel\", \"cluster\": 5, \"pop\": 5842454, \"life_expect\": 79.696, \"fertility\": 2.906}, {\"year\": 2000, \"country\": \"Italy\", \"cluster\": 1, \"pop\": 57719337, \"life_expect\": 80.24, \"fertility\": 1.286}, {\"year\": 2000, \"country\": \"Jamaica\", \"cluster\": 3, \"pop\": 2615467, \"life_expect\": 72.047, \"fertility\": 2.628}, {\"year\": 2000, \"country\": \"Japan\", \"cluster\": 4, \"pop\": 126699784, \"life_expect\": 82.0, \"fertility\": 1.291}, {\"year\": 2000, \"country\": \"Kenya\", \"cluster\": 2, \"pop\": 29985839, \"life_expect\": 50.992, \"fertility\": 5.0}, {\"year\": 2000, \"country\": \"South Korea\", \"cluster\": 4, \"pop\": 21647682, \"life_expect\": 66.662, \"fertility\": 1.9173}, {\"year\": 2000, \"country\": \"North Korea\", \"cluster\": 4, \"pop\": 47351083, \"life_expect\": 77.045, \"fertility\": 1.242}, {\"year\": 2000, \"country\": \"Lebanon\", \"cluster\": 5, \"pop\": 3578036, \"life_expect\": 71.028, \"fertility\": 2.319}, {\"year\": 2000, \"country\": \"Mexico\", \"cluster\": 3, \"pop\": 99926620, \"life_expect\": 74.902, \"fertility\": 2.4005}, {\"year\": 2000, \"country\": \"Netherlands\", \"cluster\": 1, \"pop\": 15907853, \"life_expect\": 78.53, \"fertility\": 1.726}, {\"year\": 2000, \"country\": \"New Zealand\", \"cluster\": 4, \"pop\": 3819762, \"life_expect\": 79.11, \"fertility\": 1.964}, {\"year\": 2000, \"country\": \"Nigeria\", \"cluster\": 2, \"pop\": 114306700, \"life_expect\": 46.608, \"fertility\": 5.845}, {\"year\": 2000, \"country\": \"Norway\", \"cluster\": 1, \"pop\": 4492400, \"life_expect\": 79.05, \"fertility\": 1.8010000000000002}, {\"year\": 2000, \"country\": \"Pakistan\", \"cluster\": 0, \"pop\": 146342958, \"life_expect\": 63.61, \"fertility\": 3.9936}, {\"year\": 2000, \"country\": \"Peru\", \"cluster\": 3, \"pop\": 25979722, \"life_expect\": 69.906, \"fertility\": 2.7005}, {\"year\": 2000, \"country\": \"Philippines\", \"cluster\": 4, \"pop\": 79739825, \"life_expect\": 70.303, \"fertility\": 3.5436}, {\"year\": 2000, \"country\": \"Poland\", \"cluster\": 1, \"pop\": 38654164, \"life_expect\": 74.67, \"fertility\": 1.251}, {\"year\": 2000, \"country\": \"Portugal\", \"cluster\": 1, \"pop\": 10335597, \"life_expect\": 77.29, \"fertility\": 1.454}, {\"year\": 2000, \"country\": \"Rwanda\", \"cluster\": 2, \"pop\": 7507056, \"life_expect\": 43.413, \"fertility\": 6.01}, {\"year\": 2000, \"country\": \"Saudi Arabia\", \"cluster\": 5, \"pop\": 23153090, \"life_expect\": 71.626, \"fertility\": 3.81}, {\"year\": 2000, \"country\": \"South Africa\", \"cluster\": 2, \"pop\": 44066197, \"life_expect\": 53.365, \"fertility\": 2.802}, {\"year\": 2000, \"country\": \"Spain\", \"cluster\": 1, \"pop\": 40016081, \"life_expect\": 79.78, \"fertility\": 1.287}, {\"year\": 2000, \"country\": \"Switzerland\", \"cluster\": 1, \"pop\": 7266920, \"life_expect\": 80.62, \"fertility\": 1.415}, {\"year\": 2000, \"country\": \"Turkey\", \"cluster\": 1, \"pop\": 65666677, \"life_expect\": 70.845, \"fertility\": 2.23}, {\"year\": 2000, \"country\": \"United Kingdom\", \"cluster\": 1, \"pop\": 59522468, \"life_expect\": 78.471, \"fertility\": 1.695}, {\"year\": 2000, \"country\": \"United States\", \"cluster\": 3, \"pop\": 282338631, \"life_expect\": 77.31, \"fertility\": 2.038}, {\"year\": 2000, \"country\": \"Venezuela\", \"cluster\": 3, \"pop\": 23542649, \"life_expect\": 72.766, \"fertility\": 2.723}]}}, {\"mode\": \"vega-lite\"});\n",
       "</script>"
      ],
      "text/plain": [
       "alt.Chart(...)"
      ]
     },
     "execution_count": 21,
     "metadata": {},
     "output_type": "execute_result"
    }
   ],
   "source": [
    "chart = alt.Chart(data2000).mark_point(filled=True).encode(\n",
    "    alt.X('fertility:Q'),\n",
    "    alt.Y('life_expect:Q'),\n",
    "    alt.Size('pop:Q', scale=alt.Scale(range=[0,1000])),\n",
    "    alt.Color('cluster:N'),\n",
    "    alt.OpacityValue(0.5),\n",
    "    alt.Tooltip('country:N'),\n",
    "    alt.Order('pop:Q', sort='descending')\n",
    ")\n",
    "chart"
   ]
  },
  {
   "cell_type": "markdown",
   "metadata": {
    "colab_type": "text",
    "id": "Ei93j-daiG6U",
    "slideshow": {
     "slide_type": "subslide"
    }
   },
   "source": [
    "- 이제 작은 원으로 표시된 국가 이름을 확인할 수 있다.  \n",
    "  인도 앞의 작은 원으로 표시된 국가는 방글라데시이다. \n",
    "- 이제 나라 이름을 확인해보면, `cluster`에 의하여 구분된 색상의 의미를 짐작할 수 있다. "
   ]
  },
  {
   "cell_type": "code",
   "execution_count": 22,
   "metadata": {
    "slideshow": {
     "slide_type": "fragment"
    }
   },
   "outputs": [
    {
     "data": {
      "text/html": [
       "\n",
       "<div id=\"altair-viz-918fe377507c4e1b826a9d7383e20647\"></div>\n",
       "<script type=\"text/javascript\">\n",
       "  (function(spec, embedOpt){\n",
       "    let outputDiv = document.currentScript.previousElementSibling;\n",
       "    if (outputDiv.id !== \"altair-viz-918fe377507c4e1b826a9d7383e20647\") {\n",
       "      outputDiv = document.getElementById(\"altair-viz-918fe377507c4e1b826a9d7383e20647\");\n",
       "    }\n",
       "    const paths = {\n",
       "      \"vega\": \"https://cdn.jsdelivr.net/npm//vega@5?noext\",\n",
       "      \"vega-lib\": \"https://cdn.jsdelivr.net/npm//vega-lib?noext\",\n",
       "      \"vega-lite\": \"https://cdn.jsdelivr.net/npm//vega-lite@4.8.1?noext\",\n",
       "      \"vega-embed\": \"https://cdn.jsdelivr.net/npm//vega-embed@6?noext\",\n",
       "    };\n",
       "\n",
       "    function loadScript(lib) {\n",
       "      return new Promise(function(resolve, reject) {\n",
       "        var s = document.createElement('script');\n",
       "        s.src = paths[lib];\n",
       "        s.async = true;\n",
       "        s.onload = () => resolve(paths[lib]);\n",
       "        s.onerror = () => reject(`Error loading script: ${paths[lib]}`);\n",
       "        document.getElementsByTagName(\"head\")[0].appendChild(s);\n",
       "      });\n",
       "    }\n",
       "\n",
       "    function showError(err) {\n",
       "      outputDiv.innerHTML = `<div class=\"error\" style=\"color:red;\">${err}</div>`;\n",
       "      throw err;\n",
       "    }\n",
       "\n",
       "    function displayChart(vegaEmbed) {\n",
       "      vegaEmbed(outputDiv, spec, embedOpt)\n",
       "        .catch(err => showError(`Javascript Error: ${err.message}<br>This usually means there's a typo in your chart specification. See the javascript console for the full traceback.`));\n",
       "    }\n",
       "\n",
       "    if(typeof define === \"function\" && define.amd) {\n",
       "      requirejs.config({paths});\n",
       "      require([\"vega-embed\"], displayChart, err => showError(`Error loading script: ${err.message}`));\n",
       "    } else if (typeof vegaEmbed === \"function\") {\n",
       "      displayChart(vegaEmbed);\n",
       "    } else {\n",
       "      loadScript(\"vega\")\n",
       "        .then(() => loadScript(\"vega-lite\"))\n",
       "        .then(() => loadScript(\"vega-embed\"))\n",
       "        .catch(showError)\n",
       "        .then(() => displayChart(vegaEmbed));\n",
       "    }\n",
       "  })({\"config\": {\"view\": {\"continuousWidth\": 400, \"continuousHeight\": 300}}, \"data\": {\"name\": \"data-fdeb0b749a6385830bd1445d39ad6ea0\"}, \"mark\": {\"type\": \"point\", \"filled\": true}, \"encoding\": {\"color\": {\"type\": \"nominal\", \"field\": \"cluster\"}, \"opacity\": {\"value\": 0.5}, \"order\": {\"type\": \"quantitative\", \"field\": \"pop\", \"sort\": \"descending\"}, \"size\": {\"type\": \"quantitative\", \"field\": \"pop\", \"scale\": {\"range\": [0, 1000]}}, \"tooltip\": {\"type\": \"nominal\", \"field\": \"country\"}, \"x\": {\"type\": \"quantitative\", \"field\": \"fertility\"}, \"y\": {\"type\": \"quantitative\", \"field\": \"life_expect\"}}, \"$schema\": \"https://vega.github.io/schema/vega-lite/v4.8.1.json\", \"datasets\": {\"data-fdeb0b749a6385830bd1445d39ad6ea0\": [{\"year\": 2000, \"country\": \"Afghanistan\", \"cluster\": 0, \"pop\": 23898198, \"life_expect\": 42.129, \"fertility\": 7.4792}, {\"year\": 2000, \"country\": \"Argentina\", \"cluster\": 3, \"pop\": 37497728, \"life_expect\": 74.34, \"fertility\": 2.35}, {\"year\": 2000, \"country\": \"Aruba\", \"cluster\": 3, \"pop\": 69539, \"life_expect\": 73.451, \"fertility\": 2.124}, {\"year\": 2000, \"country\": \"Australia\", \"cluster\": 4, \"pop\": 19164620, \"life_expect\": 80.37, \"fertility\": 1.756}, {\"year\": 2000, \"country\": \"Austria\", \"cluster\": 1, \"pop\": 8113413, \"life_expect\": 78.98, \"fertility\": 1.3820000000000001}, {\"year\": 2000, \"country\": \"Bahamas\", \"cluster\": 3, \"pop\": 290075, \"life_expect\": 71.068, \"fertility\": 2.1111}, {\"year\": 2000, \"country\": \"Bangladesh\", \"cluster\": 0, \"pop\": 130406594, \"life_expect\": 62.013, \"fertility\": 3.224}, {\"year\": 2000, \"country\": \"Barbados\", \"cluster\": 3, \"pop\": 273483, \"life_expect\": 75.97, \"fertility\": 1.5}, {\"year\": 2000, \"country\": \"Belgium\", \"cluster\": 1, \"pop\": 10263618, \"life_expect\": 78.32, \"fertility\": 1.638}, {\"year\": 2000, \"country\": \"Bolivia\", \"cluster\": 3, \"pop\": 8152620, \"life_expect\": 63.883, \"fertility\": 3.9585}, {\"year\": 2000, \"country\": \"Brazil\", \"cluster\": 3, \"pop\": 175552771, \"life_expect\": 71.006, \"fertility\": 2.345}, {\"year\": 2000, \"country\": \"Canada\", \"cluster\": 3, \"pop\": 31278097, \"life_expect\": 79.77, \"fertility\": 1.522}, {\"year\": 2000, \"country\": \"Chile\", \"cluster\": 3, \"pop\": 15153450, \"life_expect\": 77.86, \"fertility\": 2.0}, {\"year\": 2000, \"country\": \"China\", \"cluster\": 4, \"pop\": 1262645000, \"life_expect\": 72.028, \"fertility\": 1.7000000000000002}, {\"year\": 2000, \"country\": \"Colombia\", \"cluster\": 3, \"pop\": 39685655, \"life_expect\": 71.682, \"fertility\": 2.4705}, {\"year\": 2000, \"country\": \"Costa Rica\", \"cluster\": 3, \"pop\": 3710558, \"life_expect\": 78.123, \"fertility\": 2.2815}, {\"year\": 2000, \"country\": \"Croatia\", \"cluster\": 1, \"pop\": 4410830, \"life_expect\": 74.876, \"fertility\": 1.348}, {\"year\": 2000, \"country\": \"Cuba\", \"cluster\": 3, \"pop\": 11134273, \"life_expect\": 77.158, \"fertility\": 1.63}, {\"year\": 2000, \"country\": \"Dominican Republic\", \"cluster\": 3, \"pop\": 8385828, \"life_expect\": 70.847, \"fertility\": 2.95}, {\"year\": 2000, \"country\": \"Ecuador\", \"cluster\": 3, \"pop\": 12505204, \"life_expect\": 74.173, \"fertility\": 2.8175}, {\"year\": 2000, \"country\": \"Egypt\", \"cluster\": 5, \"pop\": 70492342, \"life_expect\": 69.806, \"fertility\": 3.174}, {\"year\": 2000, \"country\": \"El Salvador\", \"cluster\": 3, \"pop\": 6122515, \"life_expect\": 70.734, \"fertility\": 2.883}, {\"year\": 2000, \"country\": \"Finland\", \"cluster\": 1, \"pop\": 5168595, \"life_expect\": 78.37, \"fertility\": 1.754}, {\"year\": 2000, \"country\": \"France\", \"cluster\": 1, \"pop\": 59381628, \"life_expect\": 79.59, \"fertility\": 1.8833000000000002}, {\"year\": 2000, \"country\": \"Georgia\", \"cluster\": 1, \"pop\": 4777209, \"life_expect\": 70.476, \"fertility\": 1.478}, {\"year\": 2000, \"country\": \"Germany\", \"cluster\": 1, \"pop\": 82187909, \"life_expect\": 78.67, \"fertility\": 1.346}, {\"year\": 2000, \"country\": \"Greece\", \"cluster\": 1, \"pop\": 10559110, \"life_expect\": 78.256, \"fertility\": 1.2770000000000001}, {\"year\": 2000, \"country\": \"Grenada\", \"cluster\": 3, \"pop\": 89312, \"life_expect\": 67.746, \"fertility\": 2.429}, {\"year\": 2000, \"country\": \"Haiti\", \"cluster\": 3, \"pop\": 7306302, \"life_expect\": 58.137, \"fertility\": 4.0}, {\"year\": 2000, \"country\": \"Hong Kong\", \"cluster\": 4, \"pop\": 6658720, \"life_expect\": 81.495, \"fertility\": 0.9400000000000001}, {\"year\": 2000, \"country\": \"Iceland\", \"cluster\": 1, \"pop\": 281043, \"life_expect\": 80.5, \"fertility\": 1.9929999999999999}, {\"year\": 2000, \"country\": \"India\", \"cluster\": 0, \"pop\": 1007702000, \"life_expect\": 62.879, \"fertility\": 3.1132}, {\"year\": 2000, \"country\": \"Indonesia\", \"cluster\": 4, \"pop\": 206265000, \"life_expect\": 68.588, \"fertility\": 2.3761}, {\"year\": 2000, \"country\": \"Iran\", \"cluster\": 5, \"pop\": 65660289, \"life_expect\": 69.451, \"fertility\": 2.124}, {\"year\": 2000, \"country\": \"Iraq\", \"cluster\": 5, \"pop\": 22675617, \"life_expect\": 57.046, \"fertility\": 4.858}, {\"year\": 2000, \"country\": \"Ireland\", \"cluster\": 1, \"pop\": 3791690, \"life_expect\": 77.783, \"fertility\": 1.9689999999999999}, {\"year\": 2000, \"country\": \"Israel\", \"cluster\": 5, \"pop\": 5842454, \"life_expect\": 79.696, \"fertility\": 2.906}, {\"year\": 2000, \"country\": \"Italy\", \"cluster\": 1, \"pop\": 57719337, \"life_expect\": 80.24, \"fertility\": 1.286}, {\"year\": 2000, \"country\": \"Jamaica\", \"cluster\": 3, \"pop\": 2615467, \"life_expect\": 72.047, \"fertility\": 2.628}, {\"year\": 2000, \"country\": \"Japan\", \"cluster\": 4, \"pop\": 126699784, \"life_expect\": 82.0, \"fertility\": 1.291}, {\"year\": 2000, \"country\": \"Kenya\", \"cluster\": 2, \"pop\": 29985839, \"life_expect\": 50.992, \"fertility\": 5.0}, {\"year\": 2000, \"country\": \"South Korea\", \"cluster\": 4, \"pop\": 21647682, \"life_expect\": 66.662, \"fertility\": 1.9173}, {\"year\": 2000, \"country\": \"North Korea\", \"cluster\": 4, \"pop\": 47351083, \"life_expect\": 77.045, \"fertility\": 1.242}, {\"year\": 2000, \"country\": \"Lebanon\", \"cluster\": 5, \"pop\": 3578036, \"life_expect\": 71.028, \"fertility\": 2.319}, {\"year\": 2000, \"country\": \"Mexico\", \"cluster\": 3, \"pop\": 99926620, \"life_expect\": 74.902, \"fertility\": 2.4005}, {\"year\": 2000, \"country\": \"Netherlands\", \"cluster\": 1, \"pop\": 15907853, \"life_expect\": 78.53, \"fertility\": 1.726}, {\"year\": 2000, \"country\": \"New Zealand\", \"cluster\": 4, \"pop\": 3819762, \"life_expect\": 79.11, \"fertility\": 1.964}, {\"year\": 2000, \"country\": \"Nigeria\", \"cluster\": 2, \"pop\": 114306700, \"life_expect\": 46.608, \"fertility\": 5.845}, {\"year\": 2000, \"country\": \"Norway\", \"cluster\": 1, \"pop\": 4492400, \"life_expect\": 79.05, \"fertility\": 1.8010000000000002}, {\"year\": 2000, \"country\": \"Pakistan\", \"cluster\": 0, \"pop\": 146342958, \"life_expect\": 63.61, \"fertility\": 3.9936}, {\"year\": 2000, \"country\": \"Peru\", \"cluster\": 3, \"pop\": 25979722, \"life_expect\": 69.906, \"fertility\": 2.7005}, {\"year\": 2000, \"country\": \"Philippines\", \"cluster\": 4, \"pop\": 79739825, \"life_expect\": 70.303, \"fertility\": 3.5436}, {\"year\": 2000, \"country\": \"Poland\", \"cluster\": 1, \"pop\": 38654164, \"life_expect\": 74.67, \"fertility\": 1.251}, {\"year\": 2000, \"country\": \"Portugal\", \"cluster\": 1, \"pop\": 10335597, \"life_expect\": 77.29, \"fertility\": 1.454}, {\"year\": 2000, \"country\": \"Rwanda\", \"cluster\": 2, \"pop\": 7507056, \"life_expect\": 43.413, \"fertility\": 6.01}, {\"year\": 2000, \"country\": \"Saudi Arabia\", \"cluster\": 5, \"pop\": 23153090, \"life_expect\": 71.626, \"fertility\": 3.81}, {\"year\": 2000, \"country\": \"South Africa\", \"cluster\": 2, \"pop\": 44066197, \"life_expect\": 53.365, \"fertility\": 2.802}, {\"year\": 2000, \"country\": \"Spain\", \"cluster\": 1, \"pop\": 40016081, \"life_expect\": 79.78, \"fertility\": 1.287}, {\"year\": 2000, \"country\": \"Switzerland\", \"cluster\": 1, \"pop\": 7266920, \"life_expect\": 80.62, \"fertility\": 1.415}, {\"year\": 2000, \"country\": \"Turkey\", \"cluster\": 1, \"pop\": 65666677, \"life_expect\": 70.845, \"fertility\": 2.23}, {\"year\": 2000, \"country\": \"United Kingdom\", \"cluster\": 1, \"pop\": 59522468, \"life_expect\": 78.471, \"fertility\": 1.695}, {\"year\": 2000, \"country\": \"United States\", \"cluster\": 3, \"pop\": 282338631, \"life_expect\": 77.31, \"fertility\": 2.038}, {\"year\": 2000, \"country\": \"Venezuela\", \"cluster\": 3, \"pop\": 23542649, \"life_expect\": 72.766, \"fertility\": 2.723}]}}, {\"mode\": \"vega-lite\"});\n",
       "</script>"
      ],
      "text/plain": [
       "alt.Chart(...)"
      ]
     },
     "execution_count": 22,
     "metadata": {},
     "output_type": "execute_result"
    }
   ],
   "source": [
    "chart "
   ]
  },
  {
   "cell_type": "markdown",
   "metadata": {
    "colab_type": "text",
    "id": "9bsu1tn_idGt",
    "slideshow": {
     "slide_type": "subslide"
    }
   },
   "source": [
    "- 현재 툴팁은 데이터 레코드에 대한 단 한 가지 속성만을 표시하고 있다.  \n",
    "- 여러 값을 동시에 보여주려면,  \n",
    "  `tooltip` 채널에 대하여 배열로 원하는 여러 필드를 지정할 수 있다. "
   ]
  },
  {
   "cell_type": "code",
   "execution_count": 23,
   "metadata": {
    "colab": {
     "base_uri": "https://localhost:8080/",
     "height": 372
    },
    "colab_type": "code",
    "id": "450DUk-mXzzQ",
    "outputId": "ee47eb3b-146d-4c6b-dfa7-94ddeb0fc5d3",
    "slideshow": {
     "slide_type": "subslide"
    }
   },
   "outputs": [
    {
     "data": {
      "text/html": [
       "\n",
       "<div id=\"altair-viz-053d2c81841a4e15987bdb1af89be9c4\"></div>\n",
       "<script type=\"text/javascript\">\n",
       "  (function(spec, embedOpt){\n",
       "    let outputDiv = document.currentScript.previousElementSibling;\n",
       "    if (outputDiv.id !== \"altair-viz-053d2c81841a4e15987bdb1af89be9c4\") {\n",
       "      outputDiv = document.getElementById(\"altair-viz-053d2c81841a4e15987bdb1af89be9c4\");\n",
       "    }\n",
       "    const paths = {\n",
       "      \"vega\": \"https://cdn.jsdelivr.net/npm//vega@5?noext\",\n",
       "      \"vega-lib\": \"https://cdn.jsdelivr.net/npm//vega-lib?noext\",\n",
       "      \"vega-lite\": \"https://cdn.jsdelivr.net/npm//vega-lite@4.8.1?noext\",\n",
       "      \"vega-embed\": \"https://cdn.jsdelivr.net/npm//vega-embed@6?noext\",\n",
       "    };\n",
       "\n",
       "    function loadScript(lib) {\n",
       "      return new Promise(function(resolve, reject) {\n",
       "        var s = document.createElement('script');\n",
       "        s.src = paths[lib];\n",
       "        s.async = true;\n",
       "        s.onload = () => resolve(paths[lib]);\n",
       "        s.onerror = () => reject(`Error loading script: ${paths[lib]}`);\n",
       "        document.getElementsByTagName(\"head\")[0].appendChild(s);\n",
       "      });\n",
       "    }\n",
       "\n",
       "    function showError(err) {\n",
       "      outputDiv.innerHTML = `<div class=\"error\" style=\"color:red;\">${err}</div>`;\n",
       "      throw err;\n",
       "    }\n",
       "\n",
       "    function displayChart(vegaEmbed) {\n",
       "      vegaEmbed(outputDiv, spec, embedOpt)\n",
       "        .catch(err => showError(`Javascript Error: ${err.message}<br>This usually means there's a typo in your chart specification. See the javascript console for the full traceback.`));\n",
       "    }\n",
       "\n",
       "    if(typeof define === \"function\" && define.amd) {\n",
       "      requirejs.config({paths});\n",
       "      require([\"vega-embed\"], displayChart, err => showError(`Error loading script: ${err.message}`));\n",
       "    } else if (typeof vegaEmbed === \"function\") {\n",
       "      displayChart(vegaEmbed);\n",
       "    } else {\n",
       "      loadScript(\"vega\")\n",
       "        .then(() => loadScript(\"vega-lite\"))\n",
       "        .then(() => loadScript(\"vega-embed\"))\n",
       "        .catch(showError)\n",
       "        .then(() => displayChart(vegaEmbed));\n",
       "    }\n",
       "  })({\"config\": {\"view\": {\"continuousWidth\": 400, \"continuousHeight\": 300}}, \"data\": {\"name\": \"data-fdeb0b749a6385830bd1445d39ad6ea0\"}, \"mark\": {\"type\": \"point\", \"filled\": true}, \"encoding\": {\"color\": {\"type\": \"nominal\", \"field\": \"cluster\"}, \"opacity\": {\"value\": 0.5}, \"order\": {\"type\": \"quantitative\", \"field\": \"pop\", \"sort\": \"descending\"}, \"size\": {\"type\": \"quantitative\", \"field\": \"pop\", \"scale\": {\"range\": [0, 1000]}}, \"tooltip\": [{\"type\": \"nominal\", \"field\": \"country\"}, {\"type\": \"quantitative\", \"field\": \"fertility\"}, {\"type\": \"quantitative\", \"field\": \"life_expect\"}], \"x\": {\"type\": \"quantitative\", \"field\": \"fertility\"}, \"y\": {\"type\": \"quantitative\", \"field\": \"life_expect\"}}, \"$schema\": \"https://vega.github.io/schema/vega-lite/v4.8.1.json\", \"datasets\": {\"data-fdeb0b749a6385830bd1445d39ad6ea0\": [{\"year\": 2000, \"country\": \"Afghanistan\", \"cluster\": 0, \"pop\": 23898198, \"life_expect\": 42.129, \"fertility\": 7.4792}, {\"year\": 2000, \"country\": \"Argentina\", \"cluster\": 3, \"pop\": 37497728, \"life_expect\": 74.34, \"fertility\": 2.35}, {\"year\": 2000, \"country\": \"Aruba\", \"cluster\": 3, \"pop\": 69539, \"life_expect\": 73.451, \"fertility\": 2.124}, {\"year\": 2000, \"country\": \"Australia\", \"cluster\": 4, \"pop\": 19164620, \"life_expect\": 80.37, \"fertility\": 1.756}, {\"year\": 2000, \"country\": \"Austria\", \"cluster\": 1, \"pop\": 8113413, \"life_expect\": 78.98, \"fertility\": 1.3820000000000001}, {\"year\": 2000, \"country\": \"Bahamas\", \"cluster\": 3, \"pop\": 290075, \"life_expect\": 71.068, \"fertility\": 2.1111}, {\"year\": 2000, \"country\": \"Bangladesh\", \"cluster\": 0, \"pop\": 130406594, \"life_expect\": 62.013, \"fertility\": 3.224}, {\"year\": 2000, \"country\": \"Barbados\", \"cluster\": 3, \"pop\": 273483, \"life_expect\": 75.97, \"fertility\": 1.5}, {\"year\": 2000, \"country\": \"Belgium\", \"cluster\": 1, \"pop\": 10263618, \"life_expect\": 78.32, \"fertility\": 1.638}, {\"year\": 2000, \"country\": \"Bolivia\", \"cluster\": 3, \"pop\": 8152620, \"life_expect\": 63.883, \"fertility\": 3.9585}, {\"year\": 2000, \"country\": \"Brazil\", \"cluster\": 3, \"pop\": 175552771, \"life_expect\": 71.006, \"fertility\": 2.345}, {\"year\": 2000, \"country\": \"Canada\", \"cluster\": 3, \"pop\": 31278097, \"life_expect\": 79.77, \"fertility\": 1.522}, {\"year\": 2000, \"country\": \"Chile\", \"cluster\": 3, \"pop\": 15153450, \"life_expect\": 77.86, \"fertility\": 2.0}, {\"year\": 2000, \"country\": \"China\", \"cluster\": 4, \"pop\": 1262645000, \"life_expect\": 72.028, \"fertility\": 1.7000000000000002}, {\"year\": 2000, \"country\": \"Colombia\", \"cluster\": 3, \"pop\": 39685655, \"life_expect\": 71.682, \"fertility\": 2.4705}, {\"year\": 2000, \"country\": \"Costa Rica\", \"cluster\": 3, \"pop\": 3710558, \"life_expect\": 78.123, \"fertility\": 2.2815}, {\"year\": 2000, \"country\": \"Croatia\", \"cluster\": 1, \"pop\": 4410830, \"life_expect\": 74.876, \"fertility\": 1.348}, {\"year\": 2000, \"country\": \"Cuba\", \"cluster\": 3, \"pop\": 11134273, \"life_expect\": 77.158, \"fertility\": 1.63}, {\"year\": 2000, \"country\": \"Dominican Republic\", \"cluster\": 3, \"pop\": 8385828, \"life_expect\": 70.847, \"fertility\": 2.95}, {\"year\": 2000, \"country\": \"Ecuador\", \"cluster\": 3, \"pop\": 12505204, \"life_expect\": 74.173, \"fertility\": 2.8175}, {\"year\": 2000, \"country\": \"Egypt\", \"cluster\": 5, \"pop\": 70492342, \"life_expect\": 69.806, \"fertility\": 3.174}, {\"year\": 2000, \"country\": \"El Salvador\", \"cluster\": 3, \"pop\": 6122515, \"life_expect\": 70.734, \"fertility\": 2.883}, {\"year\": 2000, \"country\": \"Finland\", \"cluster\": 1, \"pop\": 5168595, \"life_expect\": 78.37, \"fertility\": 1.754}, {\"year\": 2000, \"country\": \"France\", \"cluster\": 1, \"pop\": 59381628, \"life_expect\": 79.59, \"fertility\": 1.8833000000000002}, {\"year\": 2000, \"country\": \"Georgia\", \"cluster\": 1, \"pop\": 4777209, \"life_expect\": 70.476, \"fertility\": 1.478}, {\"year\": 2000, \"country\": \"Germany\", \"cluster\": 1, \"pop\": 82187909, \"life_expect\": 78.67, \"fertility\": 1.346}, {\"year\": 2000, \"country\": \"Greece\", \"cluster\": 1, \"pop\": 10559110, \"life_expect\": 78.256, \"fertility\": 1.2770000000000001}, {\"year\": 2000, \"country\": \"Grenada\", \"cluster\": 3, \"pop\": 89312, \"life_expect\": 67.746, \"fertility\": 2.429}, {\"year\": 2000, \"country\": \"Haiti\", \"cluster\": 3, \"pop\": 7306302, \"life_expect\": 58.137, \"fertility\": 4.0}, {\"year\": 2000, \"country\": \"Hong Kong\", \"cluster\": 4, \"pop\": 6658720, \"life_expect\": 81.495, \"fertility\": 0.9400000000000001}, {\"year\": 2000, \"country\": \"Iceland\", \"cluster\": 1, \"pop\": 281043, \"life_expect\": 80.5, \"fertility\": 1.9929999999999999}, {\"year\": 2000, \"country\": \"India\", \"cluster\": 0, \"pop\": 1007702000, \"life_expect\": 62.879, \"fertility\": 3.1132}, {\"year\": 2000, \"country\": \"Indonesia\", \"cluster\": 4, \"pop\": 206265000, \"life_expect\": 68.588, \"fertility\": 2.3761}, {\"year\": 2000, \"country\": \"Iran\", \"cluster\": 5, \"pop\": 65660289, \"life_expect\": 69.451, \"fertility\": 2.124}, {\"year\": 2000, \"country\": \"Iraq\", \"cluster\": 5, \"pop\": 22675617, \"life_expect\": 57.046, \"fertility\": 4.858}, {\"year\": 2000, \"country\": \"Ireland\", \"cluster\": 1, \"pop\": 3791690, \"life_expect\": 77.783, \"fertility\": 1.9689999999999999}, {\"year\": 2000, \"country\": \"Israel\", \"cluster\": 5, \"pop\": 5842454, \"life_expect\": 79.696, \"fertility\": 2.906}, {\"year\": 2000, \"country\": \"Italy\", \"cluster\": 1, \"pop\": 57719337, \"life_expect\": 80.24, \"fertility\": 1.286}, {\"year\": 2000, \"country\": \"Jamaica\", \"cluster\": 3, \"pop\": 2615467, \"life_expect\": 72.047, \"fertility\": 2.628}, {\"year\": 2000, \"country\": \"Japan\", \"cluster\": 4, \"pop\": 126699784, \"life_expect\": 82.0, \"fertility\": 1.291}, {\"year\": 2000, \"country\": \"Kenya\", \"cluster\": 2, \"pop\": 29985839, \"life_expect\": 50.992, \"fertility\": 5.0}, {\"year\": 2000, \"country\": \"South Korea\", \"cluster\": 4, \"pop\": 21647682, \"life_expect\": 66.662, \"fertility\": 1.9173}, {\"year\": 2000, \"country\": \"North Korea\", \"cluster\": 4, \"pop\": 47351083, \"life_expect\": 77.045, \"fertility\": 1.242}, {\"year\": 2000, \"country\": \"Lebanon\", \"cluster\": 5, \"pop\": 3578036, \"life_expect\": 71.028, \"fertility\": 2.319}, {\"year\": 2000, \"country\": \"Mexico\", \"cluster\": 3, \"pop\": 99926620, \"life_expect\": 74.902, \"fertility\": 2.4005}, {\"year\": 2000, \"country\": \"Netherlands\", \"cluster\": 1, \"pop\": 15907853, \"life_expect\": 78.53, \"fertility\": 1.726}, {\"year\": 2000, \"country\": \"New Zealand\", \"cluster\": 4, \"pop\": 3819762, \"life_expect\": 79.11, \"fertility\": 1.964}, {\"year\": 2000, \"country\": \"Nigeria\", \"cluster\": 2, \"pop\": 114306700, \"life_expect\": 46.608, \"fertility\": 5.845}, {\"year\": 2000, \"country\": \"Norway\", \"cluster\": 1, \"pop\": 4492400, \"life_expect\": 79.05, \"fertility\": 1.8010000000000002}, {\"year\": 2000, \"country\": \"Pakistan\", \"cluster\": 0, \"pop\": 146342958, \"life_expect\": 63.61, \"fertility\": 3.9936}, {\"year\": 2000, \"country\": \"Peru\", \"cluster\": 3, \"pop\": 25979722, \"life_expect\": 69.906, \"fertility\": 2.7005}, {\"year\": 2000, \"country\": \"Philippines\", \"cluster\": 4, \"pop\": 79739825, \"life_expect\": 70.303, \"fertility\": 3.5436}, {\"year\": 2000, \"country\": \"Poland\", \"cluster\": 1, \"pop\": 38654164, \"life_expect\": 74.67, \"fertility\": 1.251}, {\"year\": 2000, \"country\": \"Portugal\", \"cluster\": 1, \"pop\": 10335597, \"life_expect\": 77.29, \"fertility\": 1.454}, {\"year\": 2000, \"country\": \"Rwanda\", \"cluster\": 2, \"pop\": 7507056, \"life_expect\": 43.413, \"fertility\": 6.01}, {\"year\": 2000, \"country\": \"Saudi Arabia\", \"cluster\": 5, \"pop\": 23153090, \"life_expect\": 71.626, \"fertility\": 3.81}, {\"year\": 2000, \"country\": \"South Africa\", \"cluster\": 2, \"pop\": 44066197, \"life_expect\": 53.365, \"fertility\": 2.802}, {\"year\": 2000, \"country\": \"Spain\", \"cluster\": 1, \"pop\": 40016081, \"life_expect\": 79.78, \"fertility\": 1.287}, {\"year\": 2000, \"country\": \"Switzerland\", \"cluster\": 1, \"pop\": 7266920, \"life_expect\": 80.62, \"fertility\": 1.415}, {\"year\": 2000, \"country\": \"Turkey\", \"cluster\": 1, \"pop\": 65666677, \"life_expect\": 70.845, \"fertility\": 2.23}, {\"year\": 2000, \"country\": \"United Kingdom\", \"cluster\": 1, \"pop\": 59522468, \"life_expect\": 78.471, \"fertility\": 1.695}, {\"year\": 2000, \"country\": \"United States\", \"cluster\": 3, \"pop\": 282338631, \"life_expect\": 77.31, \"fertility\": 2.038}, {\"year\": 2000, \"country\": \"Venezuela\", \"cluster\": 3, \"pop\": 23542649, \"life_expect\": 72.766, \"fertility\": 2.723}]}}, {\"mode\": \"vega-lite\"});\n",
       "</script>"
      ],
      "text/plain": [
       "alt.Chart(...)"
      ]
     },
     "execution_count": 23,
     "metadata": {},
     "output_type": "execute_result"
    }
   ],
   "source": [
    "alt.Chart(data2000).mark_point(filled=True).encode(\n",
    "    alt.X('fertility:Q'),\n",
    "    alt.Y('life_expect:Q'),\n",
    "    alt.Size('pop:Q', scale=alt.Scale(range=[0,1000])),\n",
    "    alt.Color('cluster:N'),\n",
    "    alt.OpacityValue(0.5),\n",
    "    alt.Order('pop:Q', sort='descending'),\n",
    "    tooltip = [\n",
    "        alt.Tooltip('country:N'),\n",
    "        alt.Tooltip('fertility:Q'),\n",
    "        alt.Tooltip('life_expect:Q')\n",
    "    ]   \n",
    ")"
   ]
  },
  {
   "cell_type": "markdown",
   "metadata": {
    "colab_type": "text",
    "id": "HLQjhEdwiyR2",
    "slideshow": {
     "slide_type": "subslide"
    }
   },
   "source": [
    "- 이제 마우스를 데이터 포인트에 올려서 여러 데이터 필드의 내용을 확인할 수 있다. "
   ]
  },
  {
   "cell_type": "markdown",
   "metadata": {
    "colab_type": "text",
    "id": "5ViS2LDKRmil",
    "slideshow": {
     "slide_type": "slide"
    }
   },
   "source": [
    "### 3.7 열/행 다면 구성"
   ]
  },
  {
   "cell_type": "markdown",
   "metadata": {
    "colab_type": "text",
    "id": "apPtlcDoi3yT",
    "slideshow": {
     "slide_type": "fragment"
    }
   },
   "source": [
    "- 공간적 위치야말로 시각적 인코딩을 위한 가장 강력하고도 유연한 채널이다.  \n",
    "  - 그런데 이미 `x` 및 `y` 채널에 데이터 필드를 할당한 상태라면,  \n",
    "    데이터의 부분 집합마다 하위 플롯을 별도로 시각화하는  \n",
    "    *격자 플롯*(trellis plot)을 생성할 수 있다.  \n",
    "  - 격자 플롯은  \n",
    "    뷰를 작은 여러 개로([small multiples](https://en.wikipedia.org/wiki/Small_multiple))  \n",
    "    구성하는 기법의 한 사례이다.\n",
    "- `column` 및 `row` 인코딩 채널은  \n",
    "  수평적이거나 수직적인 하위 플롯의 집합을 생성하도록 설정해 준다.  \n",
    "  - 지정한 데이터 필드 값에 근거하여  \n",
    "    데이터를 분할하여 하위 플롯을 다수 생성한다.  \n",
    "  - 여기서는 `cluster` 값마다 열을 구분하여  \n",
    "    하위 플롯을 격자 플롯 형태로 만들어 보자. "
   ]
  },
  {
   "cell_type": "code",
   "execution_count": 24,
   "metadata": {
    "colab": {
     "base_uri": "https://localhost:8080/",
     "height": 441
    },
    "colab_type": "code",
    "id": "gszjktorPmRc",
    "outputId": "b62aff8e-a2aa-409a-be1d-4cf3708f9ab3",
    "slideshow": {
     "slide_type": "subslide"
    }
   },
   "outputs": [
    {
     "data": {
      "text/html": [
       "\n",
       "<div id=\"altair-viz-4978a44a78934bb1b442d2b17d16a36b\"></div>\n",
       "<script type=\"text/javascript\">\n",
       "  (function(spec, embedOpt){\n",
       "    let outputDiv = document.currentScript.previousElementSibling;\n",
       "    if (outputDiv.id !== \"altair-viz-4978a44a78934bb1b442d2b17d16a36b\") {\n",
       "      outputDiv = document.getElementById(\"altair-viz-4978a44a78934bb1b442d2b17d16a36b\");\n",
       "    }\n",
       "    const paths = {\n",
       "      \"vega\": \"https://cdn.jsdelivr.net/npm//vega@5?noext\",\n",
       "      \"vega-lib\": \"https://cdn.jsdelivr.net/npm//vega-lib?noext\",\n",
       "      \"vega-lite\": \"https://cdn.jsdelivr.net/npm//vega-lite@4.8.1?noext\",\n",
       "      \"vega-embed\": \"https://cdn.jsdelivr.net/npm//vega-embed@6?noext\",\n",
       "    };\n",
       "\n",
       "    function loadScript(lib) {\n",
       "      return new Promise(function(resolve, reject) {\n",
       "        var s = document.createElement('script');\n",
       "        s.src = paths[lib];\n",
       "        s.async = true;\n",
       "        s.onload = () => resolve(paths[lib]);\n",
       "        s.onerror = () => reject(`Error loading script: ${paths[lib]}`);\n",
       "        document.getElementsByTagName(\"head\")[0].appendChild(s);\n",
       "      });\n",
       "    }\n",
       "\n",
       "    function showError(err) {\n",
       "      outputDiv.innerHTML = `<div class=\"error\" style=\"color:red;\">${err}</div>`;\n",
       "      throw err;\n",
       "    }\n",
       "\n",
       "    function displayChart(vegaEmbed) {\n",
       "      vegaEmbed(outputDiv, spec, embedOpt)\n",
       "        .catch(err => showError(`Javascript Error: ${err.message}<br>This usually means there's a typo in your chart specification. See the javascript console for the full traceback.`));\n",
       "    }\n",
       "\n",
       "    if(typeof define === \"function\" && define.amd) {\n",
       "      requirejs.config({paths});\n",
       "      require([\"vega-embed\"], displayChart, err => showError(`Error loading script: ${err.message}`));\n",
       "    } else if (typeof vegaEmbed === \"function\") {\n",
       "      displayChart(vegaEmbed);\n",
       "    } else {\n",
       "      loadScript(\"vega\")\n",
       "        .then(() => loadScript(\"vega-lite\"))\n",
       "        .then(() => loadScript(\"vega-embed\"))\n",
       "        .catch(showError)\n",
       "        .then(() => displayChart(vegaEmbed));\n",
       "    }\n",
       "  })({\"config\": {\"view\": {\"continuousWidth\": 400, \"continuousHeight\": 300}}, \"data\": {\"name\": \"data-fdeb0b749a6385830bd1445d39ad6ea0\"}, \"mark\": {\"type\": \"point\", \"filled\": true}, \"encoding\": {\"color\": {\"type\": \"nominal\", \"field\": \"cluster\"}, \"column\": {\"type\": \"nominal\", \"field\": \"cluster\"}, \"opacity\": {\"value\": 0.5}, \"order\": {\"type\": \"quantitative\", \"field\": \"pop\", \"sort\": \"descending\"}, \"size\": {\"type\": \"quantitative\", \"field\": \"pop\", \"scale\": {\"range\": [0, 1000]}}, \"tooltip\": {\"type\": \"nominal\", \"field\": \"country\"}, \"x\": {\"type\": \"quantitative\", \"field\": \"fertility\"}, \"y\": {\"type\": \"quantitative\", \"field\": \"life_expect\"}}, \"$schema\": \"https://vega.github.io/schema/vega-lite/v4.8.1.json\", \"datasets\": {\"data-fdeb0b749a6385830bd1445d39ad6ea0\": [{\"year\": 2000, \"country\": \"Afghanistan\", \"cluster\": 0, \"pop\": 23898198, \"life_expect\": 42.129, \"fertility\": 7.4792}, {\"year\": 2000, \"country\": \"Argentina\", \"cluster\": 3, \"pop\": 37497728, \"life_expect\": 74.34, \"fertility\": 2.35}, {\"year\": 2000, \"country\": \"Aruba\", \"cluster\": 3, \"pop\": 69539, \"life_expect\": 73.451, \"fertility\": 2.124}, {\"year\": 2000, \"country\": \"Australia\", \"cluster\": 4, \"pop\": 19164620, \"life_expect\": 80.37, \"fertility\": 1.756}, {\"year\": 2000, \"country\": \"Austria\", \"cluster\": 1, \"pop\": 8113413, \"life_expect\": 78.98, \"fertility\": 1.3820000000000001}, {\"year\": 2000, \"country\": \"Bahamas\", \"cluster\": 3, \"pop\": 290075, \"life_expect\": 71.068, \"fertility\": 2.1111}, {\"year\": 2000, \"country\": \"Bangladesh\", \"cluster\": 0, \"pop\": 130406594, \"life_expect\": 62.013, \"fertility\": 3.224}, {\"year\": 2000, \"country\": \"Barbados\", \"cluster\": 3, \"pop\": 273483, \"life_expect\": 75.97, \"fertility\": 1.5}, {\"year\": 2000, \"country\": \"Belgium\", \"cluster\": 1, \"pop\": 10263618, \"life_expect\": 78.32, \"fertility\": 1.638}, {\"year\": 2000, \"country\": \"Bolivia\", \"cluster\": 3, \"pop\": 8152620, \"life_expect\": 63.883, \"fertility\": 3.9585}, {\"year\": 2000, \"country\": \"Brazil\", \"cluster\": 3, \"pop\": 175552771, \"life_expect\": 71.006, \"fertility\": 2.345}, {\"year\": 2000, \"country\": \"Canada\", \"cluster\": 3, \"pop\": 31278097, \"life_expect\": 79.77, \"fertility\": 1.522}, {\"year\": 2000, \"country\": \"Chile\", \"cluster\": 3, \"pop\": 15153450, \"life_expect\": 77.86, \"fertility\": 2.0}, {\"year\": 2000, \"country\": \"China\", \"cluster\": 4, \"pop\": 1262645000, \"life_expect\": 72.028, \"fertility\": 1.7000000000000002}, {\"year\": 2000, \"country\": \"Colombia\", \"cluster\": 3, \"pop\": 39685655, \"life_expect\": 71.682, \"fertility\": 2.4705}, {\"year\": 2000, \"country\": \"Costa Rica\", \"cluster\": 3, \"pop\": 3710558, \"life_expect\": 78.123, \"fertility\": 2.2815}, {\"year\": 2000, \"country\": \"Croatia\", \"cluster\": 1, \"pop\": 4410830, \"life_expect\": 74.876, \"fertility\": 1.348}, {\"year\": 2000, \"country\": \"Cuba\", \"cluster\": 3, \"pop\": 11134273, \"life_expect\": 77.158, \"fertility\": 1.63}, {\"year\": 2000, \"country\": \"Dominican Republic\", \"cluster\": 3, \"pop\": 8385828, \"life_expect\": 70.847, \"fertility\": 2.95}, {\"year\": 2000, \"country\": \"Ecuador\", \"cluster\": 3, \"pop\": 12505204, \"life_expect\": 74.173, \"fertility\": 2.8175}, {\"year\": 2000, \"country\": \"Egypt\", \"cluster\": 5, \"pop\": 70492342, \"life_expect\": 69.806, \"fertility\": 3.174}, {\"year\": 2000, \"country\": \"El Salvador\", \"cluster\": 3, \"pop\": 6122515, \"life_expect\": 70.734, \"fertility\": 2.883}, {\"year\": 2000, \"country\": \"Finland\", \"cluster\": 1, \"pop\": 5168595, \"life_expect\": 78.37, \"fertility\": 1.754}, {\"year\": 2000, \"country\": \"France\", \"cluster\": 1, \"pop\": 59381628, \"life_expect\": 79.59, \"fertility\": 1.8833000000000002}, {\"year\": 2000, \"country\": \"Georgia\", \"cluster\": 1, \"pop\": 4777209, \"life_expect\": 70.476, \"fertility\": 1.478}, {\"year\": 2000, \"country\": \"Germany\", \"cluster\": 1, \"pop\": 82187909, \"life_expect\": 78.67, \"fertility\": 1.346}, {\"year\": 2000, \"country\": \"Greece\", \"cluster\": 1, \"pop\": 10559110, \"life_expect\": 78.256, \"fertility\": 1.2770000000000001}, {\"year\": 2000, \"country\": \"Grenada\", \"cluster\": 3, \"pop\": 89312, \"life_expect\": 67.746, \"fertility\": 2.429}, {\"year\": 2000, \"country\": \"Haiti\", \"cluster\": 3, \"pop\": 7306302, \"life_expect\": 58.137, \"fertility\": 4.0}, {\"year\": 2000, \"country\": \"Hong Kong\", \"cluster\": 4, \"pop\": 6658720, \"life_expect\": 81.495, \"fertility\": 0.9400000000000001}, {\"year\": 2000, \"country\": \"Iceland\", \"cluster\": 1, \"pop\": 281043, \"life_expect\": 80.5, \"fertility\": 1.9929999999999999}, {\"year\": 2000, \"country\": \"India\", \"cluster\": 0, \"pop\": 1007702000, \"life_expect\": 62.879, \"fertility\": 3.1132}, {\"year\": 2000, \"country\": \"Indonesia\", \"cluster\": 4, \"pop\": 206265000, \"life_expect\": 68.588, \"fertility\": 2.3761}, {\"year\": 2000, \"country\": \"Iran\", \"cluster\": 5, \"pop\": 65660289, \"life_expect\": 69.451, \"fertility\": 2.124}, {\"year\": 2000, \"country\": \"Iraq\", \"cluster\": 5, \"pop\": 22675617, \"life_expect\": 57.046, \"fertility\": 4.858}, {\"year\": 2000, \"country\": \"Ireland\", \"cluster\": 1, \"pop\": 3791690, \"life_expect\": 77.783, \"fertility\": 1.9689999999999999}, {\"year\": 2000, \"country\": \"Israel\", \"cluster\": 5, \"pop\": 5842454, \"life_expect\": 79.696, \"fertility\": 2.906}, {\"year\": 2000, \"country\": \"Italy\", \"cluster\": 1, \"pop\": 57719337, \"life_expect\": 80.24, \"fertility\": 1.286}, {\"year\": 2000, \"country\": \"Jamaica\", \"cluster\": 3, \"pop\": 2615467, \"life_expect\": 72.047, \"fertility\": 2.628}, {\"year\": 2000, \"country\": \"Japan\", \"cluster\": 4, \"pop\": 126699784, \"life_expect\": 82.0, \"fertility\": 1.291}, {\"year\": 2000, \"country\": \"Kenya\", \"cluster\": 2, \"pop\": 29985839, \"life_expect\": 50.992, \"fertility\": 5.0}, {\"year\": 2000, \"country\": \"South Korea\", \"cluster\": 4, \"pop\": 21647682, \"life_expect\": 66.662, \"fertility\": 1.9173}, {\"year\": 2000, \"country\": \"North Korea\", \"cluster\": 4, \"pop\": 47351083, \"life_expect\": 77.045, \"fertility\": 1.242}, {\"year\": 2000, \"country\": \"Lebanon\", \"cluster\": 5, \"pop\": 3578036, \"life_expect\": 71.028, \"fertility\": 2.319}, {\"year\": 2000, \"country\": \"Mexico\", \"cluster\": 3, \"pop\": 99926620, \"life_expect\": 74.902, \"fertility\": 2.4005}, {\"year\": 2000, \"country\": \"Netherlands\", \"cluster\": 1, \"pop\": 15907853, \"life_expect\": 78.53, \"fertility\": 1.726}, {\"year\": 2000, \"country\": \"New Zealand\", \"cluster\": 4, \"pop\": 3819762, \"life_expect\": 79.11, \"fertility\": 1.964}, {\"year\": 2000, \"country\": \"Nigeria\", \"cluster\": 2, \"pop\": 114306700, \"life_expect\": 46.608, \"fertility\": 5.845}, {\"year\": 2000, \"country\": \"Norway\", \"cluster\": 1, \"pop\": 4492400, \"life_expect\": 79.05, \"fertility\": 1.8010000000000002}, {\"year\": 2000, \"country\": \"Pakistan\", \"cluster\": 0, \"pop\": 146342958, \"life_expect\": 63.61, \"fertility\": 3.9936}, {\"year\": 2000, \"country\": \"Peru\", \"cluster\": 3, \"pop\": 25979722, \"life_expect\": 69.906, \"fertility\": 2.7005}, {\"year\": 2000, \"country\": \"Philippines\", \"cluster\": 4, \"pop\": 79739825, \"life_expect\": 70.303, \"fertility\": 3.5436}, {\"year\": 2000, \"country\": \"Poland\", \"cluster\": 1, \"pop\": 38654164, \"life_expect\": 74.67, \"fertility\": 1.251}, {\"year\": 2000, \"country\": \"Portugal\", \"cluster\": 1, \"pop\": 10335597, \"life_expect\": 77.29, \"fertility\": 1.454}, {\"year\": 2000, \"country\": \"Rwanda\", \"cluster\": 2, \"pop\": 7507056, \"life_expect\": 43.413, \"fertility\": 6.01}, {\"year\": 2000, \"country\": \"Saudi Arabia\", \"cluster\": 5, \"pop\": 23153090, \"life_expect\": 71.626, \"fertility\": 3.81}, {\"year\": 2000, \"country\": \"South Africa\", \"cluster\": 2, \"pop\": 44066197, \"life_expect\": 53.365, \"fertility\": 2.802}, {\"year\": 2000, \"country\": \"Spain\", \"cluster\": 1, \"pop\": 40016081, \"life_expect\": 79.78, \"fertility\": 1.287}, {\"year\": 2000, \"country\": \"Switzerland\", \"cluster\": 1, \"pop\": 7266920, \"life_expect\": 80.62, \"fertility\": 1.415}, {\"year\": 2000, \"country\": \"Turkey\", \"cluster\": 1, \"pop\": 65666677, \"life_expect\": 70.845, \"fertility\": 2.23}, {\"year\": 2000, \"country\": \"United Kingdom\", \"cluster\": 1, \"pop\": 59522468, \"life_expect\": 78.471, \"fertility\": 1.695}, {\"year\": 2000, \"country\": \"United States\", \"cluster\": 3, \"pop\": 282338631, \"life_expect\": 77.31, \"fertility\": 2.038}, {\"year\": 2000, \"country\": \"Venezuela\", \"cluster\": 3, \"pop\": 23542649, \"life_expect\": 72.766, \"fertility\": 2.723}]}}, {\"mode\": \"vega-lite\"});\n",
       "</script>"
      ],
      "text/plain": [
       "alt.Chart(...)"
      ]
     },
     "execution_count": 24,
     "metadata": {},
     "output_type": "execute_result"
    }
   ],
   "source": [
    "alt.Chart(data2000).mark_point(filled=True).encode(\n",
    "    alt.X('fertility:Q'),\n",
    "    alt.Y('life_expect:Q'),\n",
    "    alt.Size('pop:Q', scale=alt.Scale(range=[0,1000])),\n",
    "    alt.Color('cluster:N'),\n",
    "    alt.OpacityValue(0.5),\n",
    "    alt.Tooltip('country:N'),\n",
    "    alt.Order('pop:Q', sort='descending'),\n",
    "    alt.Column('cluster:N')\n",
    ")"
   ]
  },
  {
   "cell_type": "markdown",
   "metadata": {
    "colab_type": "text",
    "id": "8J0dxQoFj9jw",
    "slideshow": {
     "slide_type": "subslide"
    }
   },
   "source": [
    "- 직전 플롯은 너무 커서 한 눈에 보기 어렵다. \n",
    "  - 차트의 `width` 및 `height` 속성을 `properties()` 메소드에서 설정할 수 있다.\n",
    "  - 열 헤더에 `cluster` 값이 표시되기 때문에 이에 대한 범례를 제거하기 위해서  \n",
    "    `Color` 인코딩 채널에서 `legend=None`으로 지정한다. \n",
    "  - 또한 `Size` 인코딩 채널에서 `legend` 속성에 대하여  \n",
    "    `orient='bottom'` 및 `titleOrient='left'`로 지정한다.  "
   ]
  },
  {
   "cell_type": "code",
   "execution_count": 25,
   "metadata": {
    "colab": {
     "base_uri": "https://localhost:8080/",
     "height": 321
    },
    "colab_type": "code",
    "id": "PvKBL59lRrc_",
    "outputId": "3eb84b63-0c69-4985-ee9b-d0d69e5ffb33",
    "slideshow": {
     "slide_type": "subslide"
    }
   },
   "outputs": [
    {
     "data": {
      "text/html": [
       "\n",
       "<div id=\"altair-viz-73290557f71f4b7a9bfb74a0436d87dd\"></div>\n",
       "<script type=\"text/javascript\">\n",
       "  (function(spec, embedOpt){\n",
       "    let outputDiv = document.currentScript.previousElementSibling;\n",
       "    if (outputDiv.id !== \"altair-viz-73290557f71f4b7a9bfb74a0436d87dd\") {\n",
       "      outputDiv = document.getElementById(\"altair-viz-73290557f71f4b7a9bfb74a0436d87dd\");\n",
       "    }\n",
       "    const paths = {\n",
       "      \"vega\": \"https://cdn.jsdelivr.net/npm//vega@5?noext\",\n",
       "      \"vega-lib\": \"https://cdn.jsdelivr.net/npm//vega-lib?noext\",\n",
       "      \"vega-lite\": \"https://cdn.jsdelivr.net/npm//vega-lite@4.8.1?noext\",\n",
       "      \"vega-embed\": \"https://cdn.jsdelivr.net/npm//vega-embed@6?noext\",\n",
       "    };\n",
       "\n",
       "    function loadScript(lib) {\n",
       "      return new Promise(function(resolve, reject) {\n",
       "        var s = document.createElement('script');\n",
       "        s.src = paths[lib];\n",
       "        s.async = true;\n",
       "        s.onload = () => resolve(paths[lib]);\n",
       "        s.onerror = () => reject(`Error loading script: ${paths[lib]}`);\n",
       "        document.getElementsByTagName(\"head\")[0].appendChild(s);\n",
       "      });\n",
       "    }\n",
       "\n",
       "    function showError(err) {\n",
       "      outputDiv.innerHTML = `<div class=\"error\" style=\"color:red;\">${err}</div>`;\n",
       "      throw err;\n",
       "    }\n",
       "\n",
       "    function displayChart(vegaEmbed) {\n",
       "      vegaEmbed(outputDiv, spec, embedOpt)\n",
       "        .catch(err => showError(`Javascript Error: ${err.message}<br>This usually means there's a typo in your chart specification. See the javascript console for the full traceback.`));\n",
       "    }\n",
       "\n",
       "    if(typeof define === \"function\" && define.amd) {\n",
       "      requirejs.config({paths});\n",
       "      require([\"vega-embed\"], displayChart, err => showError(`Error loading script: ${err.message}`));\n",
       "    } else if (typeof vegaEmbed === \"function\") {\n",
       "      displayChart(vegaEmbed);\n",
       "    } else {\n",
       "      loadScript(\"vega\")\n",
       "        .then(() => loadScript(\"vega-lite\"))\n",
       "        .then(() => loadScript(\"vega-embed\"))\n",
       "        .catch(showError)\n",
       "        .then(() => displayChart(vegaEmbed));\n",
       "    }\n",
       "  })({\"config\": {\"view\": {\"continuousWidth\": 400, \"continuousHeight\": 300}}, \"data\": {\"name\": \"data-fdeb0b749a6385830bd1445d39ad6ea0\"}, \"mark\": {\"type\": \"point\", \"filled\": true}, \"encoding\": {\"color\": {\"type\": \"nominal\", \"field\": \"cluster\", \"legend\": null}, \"column\": {\"type\": \"nominal\", \"field\": \"cluster\"}, \"opacity\": {\"value\": 0.5}, \"order\": {\"type\": \"quantitative\", \"field\": \"pop\", \"sort\": \"descending\"}, \"size\": {\"type\": \"quantitative\", \"field\": \"pop\", \"legend\": {\"orient\": \"bottom\", \"titleOrient\": \"left\"}, \"scale\": {\"range\": [0, 1000]}}, \"tooltip\": {\"type\": \"nominal\", \"field\": \"country\"}, \"x\": {\"type\": \"quantitative\", \"field\": \"fertility\"}, \"y\": {\"type\": \"quantitative\", \"field\": \"life_expect\"}}, \"height\": 150, \"width\": 150, \"$schema\": \"https://vega.github.io/schema/vega-lite/v4.8.1.json\", \"datasets\": {\"data-fdeb0b749a6385830bd1445d39ad6ea0\": [{\"year\": 2000, \"country\": \"Afghanistan\", \"cluster\": 0, \"pop\": 23898198, \"life_expect\": 42.129, \"fertility\": 7.4792}, {\"year\": 2000, \"country\": \"Argentina\", \"cluster\": 3, \"pop\": 37497728, \"life_expect\": 74.34, \"fertility\": 2.35}, {\"year\": 2000, \"country\": \"Aruba\", \"cluster\": 3, \"pop\": 69539, \"life_expect\": 73.451, \"fertility\": 2.124}, {\"year\": 2000, \"country\": \"Australia\", \"cluster\": 4, \"pop\": 19164620, \"life_expect\": 80.37, \"fertility\": 1.756}, {\"year\": 2000, \"country\": \"Austria\", \"cluster\": 1, \"pop\": 8113413, \"life_expect\": 78.98, \"fertility\": 1.3820000000000001}, {\"year\": 2000, \"country\": \"Bahamas\", \"cluster\": 3, \"pop\": 290075, \"life_expect\": 71.068, \"fertility\": 2.1111}, {\"year\": 2000, \"country\": \"Bangladesh\", \"cluster\": 0, \"pop\": 130406594, \"life_expect\": 62.013, \"fertility\": 3.224}, {\"year\": 2000, \"country\": \"Barbados\", \"cluster\": 3, \"pop\": 273483, \"life_expect\": 75.97, \"fertility\": 1.5}, {\"year\": 2000, \"country\": \"Belgium\", \"cluster\": 1, \"pop\": 10263618, \"life_expect\": 78.32, \"fertility\": 1.638}, {\"year\": 2000, \"country\": \"Bolivia\", \"cluster\": 3, \"pop\": 8152620, \"life_expect\": 63.883, \"fertility\": 3.9585}, {\"year\": 2000, \"country\": \"Brazil\", \"cluster\": 3, \"pop\": 175552771, \"life_expect\": 71.006, \"fertility\": 2.345}, {\"year\": 2000, \"country\": \"Canada\", \"cluster\": 3, \"pop\": 31278097, \"life_expect\": 79.77, \"fertility\": 1.522}, {\"year\": 2000, \"country\": \"Chile\", \"cluster\": 3, \"pop\": 15153450, \"life_expect\": 77.86, \"fertility\": 2.0}, {\"year\": 2000, \"country\": \"China\", \"cluster\": 4, \"pop\": 1262645000, \"life_expect\": 72.028, \"fertility\": 1.7000000000000002}, {\"year\": 2000, \"country\": \"Colombia\", \"cluster\": 3, \"pop\": 39685655, \"life_expect\": 71.682, \"fertility\": 2.4705}, {\"year\": 2000, \"country\": \"Costa Rica\", \"cluster\": 3, \"pop\": 3710558, \"life_expect\": 78.123, \"fertility\": 2.2815}, {\"year\": 2000, \"country\": \"Croatia\", \"cluster\": 1, \"pop\": 4410830, \"life_expect\": 74.876, \"fertility\": 1.348}, {\"year\": 2000, \"country\": \"Cuba\", \"cluster\": 3, \"pop\": 11134273, \"life_expect\": 77.158, \"fertility\": 1.63}, {\"year\": 2000, \"country\": \"Dominican Republic\", \"cluster\": 3, \"pop\": 8385828, \"life_expect\": 70.847, \"fertility\": 2.95}, {\"year\": 2000, \"country\": \"Ecuador\", \"cluster\": 3, \"pop\": 12505204, \"life_expect\": 74.173, \"fertility\": 2.8175}, {\"year\": 2000, \"country\": \"Egypt\", \"cluster\": 5, \"pop\": 70492342, \"life_expect\": 69.806, \"fertility\": 3.174}, {\"year\": 2000, \"country\": \"El Salvador\", \"cluster\": 3, \"pop\": 6122515, \"life_expect\": 70.734, \"fertility\": 2.883}, {\"year\": 2000, \"country\": \"Finland\", \"cluster\": 1, \"pop\": 5168595, \"life_expect\": 78.37, \"fertility\": 1.754}, {\"year\": 2000, \"country\": \"France\", \"cluster\": 1, \"pop\": 59381628, \"life_expect\": 79.59, \"fertility\": 1.8833000000000002}, {\"year\": 2000, \"country\": \"Georgia\", \"cluster\": 1, \"pop\": 4777209, \"life_expect\": 70.476, \"fertility\": 1.478}, {\"year\": 2000, \"country\": \"Germany\", \"cluster\": 1, \"pop\": 82187909, \"life_expect\": 78.67, \"fertility\": 1.346}, {\"year\": 2000, \"country\": \"Greece\", \"cluster\": 1, \"pop\": 10559110, \"life_expect\": 78.256, \"fertility\": 1.2770000000000001}, {\"year\": 2000, \"country\": \"Grenada\", \"cluster\": 3, \"pop\": 89312, \"life_expect\": 67.746, \"fertility\": 2.429}, {\"year\": 2000, \"country\": \"Haiti\", \"cluster\": 3, \"pop\": 7306302, \"life_expect\": 58.137, \"fertility\": 4.0}, {\"year\": 2000, \"country\": \"Hong Kong\", \"cluster\": 4, \"pop\": 6658720, \"life_expect\": 81.495, \"fertility\": 0.9400000000000001}, {\"year\": 2000, \"country\": \"Iceland\", \"cluster\": 1, \"pop\": 281043, \"life_expect\": 80.5, \"fertility\": 1.9929999999999999}, {\"year\": 2000, \"country\": \"India\", \"cluster\": 0, \"pop\": 1007702000, \"life_expect\": 62.879, \"fertility\": 3.1132}, {\"year\": 2000, \"country\": \"Indonesia\", \"cluster\": 4, \"pop\": 206265000, \"life_expect\": 68.588, \"fertility\": 2.3761}, {\"year\": 2000, \"country\": \"Iran\", \"cluster\": 5, \"pop\": 65660289, \"life_expect\": 69.451, \"fertility\": 2.124}, {\"year\": 2000, \"country\": \"Iraq\", \"cluster\": 5, \"pop\": 22675617, \"life_expect\": 57.046, \"fertility\": 4.858}, {\"year\": 2000, \"country\": \"Ireland\", \"cluster\": 1, \"pop\": 3791690, \"life_expect\": 77.783, \"fertility\": 1.9689999999999999}, {\"year\": 2000, \"country\": \"Israel\", \"cluster\": 5, \"pop\": 5842454, \"life_expect\": 79.696, \"fertility\": 2.906}, {\"year\": 2000, \"country\": \"Italy\", \"cluster\": 1, \"pop\": 57719337, \"life_expect\": 80.24, \"fertility\": 1.286}, {\"year\": 2000, \"country\": \"Jamaica\", \"cluster\": 3, \"pop\": 2615467, \"life_expect\": 72.047, \"fertility\": 2.628}, {\"year\": 2000, \"country\": \"Japan\", \"cluster\": 4, \"pop\": 126699784, \"life_expect\": 82.0, \"fertility\": 1.291}, {\"year\": 2000, \"country\": \"Kenya\", \"cluster\": 2, \"pop\": 29985839, \"life_expect\": 50.992, \"fertility\": 5.0}, {\"year\": 2000, \"country\": \"South Korea\", \"cluster\": 4, \"pop\": 21647682, \"life_expect\": 66.662, \"fertility\": 1.9173}, {\"year\": 2000, \"country\": \"North Korea\", \"cluster\": 4, \"pop\": 47351083, \"life_expect\": 77.045, \"fertility\": 1.242}, {\"year\": 2000, \"country\": \"Lebanon\", \"cluster\": 5, \"pop\": 3578036, \"life_expect\": 71.028, \"fertility\": 2.319}, {\"year\": 2000, \"country\": \"Mexico\", \"cluster\": 3, \"pop\": 99926620, \"life_expect\": 74.902, \"fertility\": 2.4005}, {\"year\": 2000, \"country\": \"Netherlands\", \"cluster\": 1, \"pop\": 15907853, \"life_expect\": 78.53, \"fertility\": 1.726}, {\"year\": 2000, \"country\": \"New Zealand\", \"cluster\": 4, \"pop\": 3819762, \"life_expect\": 79.11, \"fertility\": 1.964}, {\"year\": 2000, \"country\": \"Nigeria\", \"cluster\": 2, \"pop\": 114306700, \"life_expect\": 46.608, \"fertility\": 5.845}, {\"year\": 2000, \"country\": \"Norway\", \"cluster\": 1, \"pop\": 4492400, \"life_expect\": 79.05, \"fertility\": 1.8010000000000002}, {\"year\": 2000, \"country\": \"Pakistan\", \"cluster\": 0, \"pop\": 146342958, \"life_expect\": 63.61, \"fertility\": 3.9936}, {\"year\": 2000, \"country\": \"Peru\", \"cluster\": 3, \"pop\": 25979722, \"life_expect\": 69.906, \"fertility\": 2.7005}, {\"year\": 2000, \"country\": \"Philippines\", \"cluster\": 4, \"pop\": 79739825, \"life_expect\": 70.303, \"fertility\": 3.5436}, {\"year\": 2000, \"country\": \"Poland\", \"cluster\": 1, \"pop\": 38654164, \"life_expect\": 74.67, \"fertility\": 1.251}, {\"year\": 2000, \"country\": \"Portugal\", \"cluster\": 1, \"pop\": 10335597, \"life_expect\": 77.29, \"fertility\": 1.454}, {\"year\": 2000, \"country\": \"Rwanda\", \"cluster\": 2, \"pop\": 7507056, \"life_expect\": 43.413, \"fertility\": 6.01}, {\"year\": 2000, \"country\": \"Saudi Arabia\", \"cluster\": 5, \"pop\": 23153090, \"life_expect\": 71.626, \"fertility\": 3.81}, {\"year\": 2000, \"country\": \"South Africa\", \"cluster\": 2, \"pop\": 44066197, \"life_expect\": 53.365, \"fertility\": 2.802}, {\"year\": 2000, \"country\": \"Spain\", \"cluster\": 1, \"pop\": 40016081, \"life_expect\": 79.78, \"fertility\": 1.287}, {\"year\": 2000, \"country\": \"Switzerland\", \"cluster\": 1, \"pop\": 7266920, \"life_expect\": 80.62, \"fertility\": 1.415}, {\"year\": 2000, \"country\": \"Turkey\", \"cluster\": 1, \"pop\": 65666677, \"life_expect\": 70.845, \"fertility\": 2.23}, {\"year\": 2000, \"country\": \"United Kingdom\", \"cluster\": 1, \"pop\": 59522468, \"life_expect\": 78.471, \"fertility\": 1.695}, {\"year\": 2000, \"country\": \"United States\", \"cluster\": 3, \"pop\": 282338631, \"life_expect\": 77.31, \"fertility\": 2.038}, {\"year\": 2000, \"country\": \"Venezuela\", \"cluster\": 3, \"pop\": 23542649, \"life_expect\": 72.766, \"fertility\": 2.723}]}}, {\"mode\": \"vega-lite\"});\n",
       "</script>"
      ],
      "text/plain": [
       "alt.Chart(...)"
      ]
     },
     "execution_count": 25,
     "metadata": {},
     "output_type": "execute_result"
    }
   ],
   "source": [
    "alt.Chart(data2000).mark_point(filled=True).encode(\n",
    "    alt.X('fertility:Q'),\n",
    "    alt.Y('life_expect:Q'),\n",
    "    alt.Size('pop:Q', scale=alt.Scale(range=[0,1000]),\n",
    "             legend=alt.Legend(orient='bottom', titleOrient='left')),\n",
    "    alt.Color('cluster:N', legend=None),\n",
    "    alt.OpacityValue(0.5),\n",
    "    alt.Tooltip('country:N'),\n",
    "    alt.Order('pop:Q', sort='descending'),\n",
    "    alt.Column('cluster:N')\n",
    ").properties(width=150, height=150)"
   ]
  },
  {
   "cell_type": "markdown",
   "metadata": {
    "colab_type": "text",
    "id": "OmQmca9WkKOU",
    "slideshow": {
     "slide_type": "subslide"
    }
   },
   "source": [
    "- `column` 및 `row` 인코딩을 지정하면,  \n",
    "  배후에서 이들이 `facet` 뷰 구성을 사용하는 새로운 명세로 변환된다.  \n",
    "  `facet`에 대해서는 나중에 더 자세히 공부할 기회를 가지겠다. "
   ]
  },
  {
   "cell_type": "markdown",
   "metadata": {
    "colab_type": "text",
    "id": "-tZXDmLjbAu5",
    "slideshow": {
     "slide_type": "slide"
    }
   },
   "source": [
    "### 3.8 상호작용적 필터링\n",
    "\n",
    "- 데이터 탐색을 위한 상호작용성에 대해서는 나중에 더 자세히 공부할 예정이다.  \n",
    "  - `year` 필드에 범위 슬라이더를 연결하여  \n",
    "    각 연도에 대한 상호작용적 문질러 닦기(scrubbing)를 구현할 수 있다. \n",
    "  - 아래 코드가 다소 복잡해 보이겠지만,  \n",
    "    나중에 상호작용성을 자세히 공부할 예정이므로 너무 걱정할 필요는 없다. \n",
    "- 연도 슬라이더를 앞뒤로 드래그하여 시간에 따라서 변화하는 데이터 값을 감상하라!"
   ]
  },
  {
   "cell_type": "code",
   "execution_count": 26,
   "metadata": {
    "colab": {
     "base_uri": "https://localhost:8080/",
     "height": 393
    },
    "colab_type": "code",
    "id": "6kQLe1wqZPub",
    "outputId": "3c934853-9167-4ad1-e560-b366250eb40e",
    "scrolled": true,
    "slideshow": {
     "slide_type": "subslide"
    }
   },
   "outputs": [
    {
     "data": {
      "text/html": [
       "\n",
       "<div id=\"altair-viz-e243b1e1d4744ea7b2174ded6b29941f\"></div>\n",
       "<script type=\"text/javascript\">\n",
       "  (function(spec, embedOpt){\n",
       "    let outputDiv = document.currentScript.previousElementSibling;\n",
       "    if (outputDiv.id !== \"altair-viz-e243b1e1d4744ea7b2174ded6b29941f\") {\n",
       "      outputDiv = document.getElementById(\"altair-viz-e243b1e1d4744ea7b2174ded6b29941f\");\n",
       "    }\n",
       "    const paths = {\n",
       "      \"vega\": \"https://cdn.jsdelivr.net/npm//vega@5?noext\",\n",
       "      \"vega-lib\": \"https://cdn.jsdelivr.net/npm//vega-lib?noext\",\n",
       "      \"vega-lite\": \"https://cdn.jsdelivr.net/npm//vega-lite@4.8.1?noext\",\n",
       "      \"vega-embed\": \"https://cdn.jsdelivr.net/npm//vega-embed@6?noext\",\n",
       "    };\n",
       "\n",
       "    function loadScript(lib) {\n",
       "      return new Promise(function(resolve, reject) {\n",
       "        var s = document.createElement('script');\n",
       "        s.src = paths[lib];\n",
       "        s.async = true;\n",
       "        s.onload = () => resolve(paths[lib]);\n",
       "        s.onerror = () => reject(`Error loading script: ${paths[lib]}`);\n",
       "        document.getElementsByTagName(\"head\")[0].appendChild(s);\n",
       "      });\n",
       "    }\n",
       "\n",
       "    function showError(err) {\n",
       "      outputDiv.innerHTML = `<div class=\"error\" style=\"color:red;\">${err}</div>`;\n",
       "      throw err;\n",
       "    }\n",
       "\n",
       "    function displayChart(vegaEmbed) {\n",
       "      vegaEmbed(outputDiv, spec, embedOpt)\n",
       "        .catch(err => showError(`Javascript Error: ${err.message}<br>This usually means there's a typo in your chart specification. See the javascript console for the full traceback.`));\n",
       "    }\n",
       "\n",
       "    if(typeof define === \"function\" && define.amd) {\n",
       "      requirejs.config({paths});\n",
       "      require([\"vega-embed\"], displayChart, err => showError(`Error loading script: ${err.message}`));\n",
       "    } else if (typeof vegaEmbed === \"function\") {\n",
       "      displayChart(vegaEmbed);\n",
       "    } else {\n",
       "      loadScript(\"vega\")\n",
       "        .then(() => loadScript(\"vega-lite\"))\n",
       "        .then(() => loadScript(\"vega-embed\"))\n",
       "        .catch(showError)\n",
       "        .then(() => displayChart(vegaEmbed));\n",
       "    }\n",
       "  })({\"config\": {\"view\": {\"continuousWidth\": 400, \"continuousHeight\": 300}}, \"data\": {\"name\": \"data-89be1acdd14c7effd56f4dd0fabf92c3\"}, \"mark\": {\"type\": \"point\", \"filled\": true}, \"encoding\": {\"color\": {\"type\": \"nominal\", \"field\": \"cluster\", \"legend\": null}, \"opacity\": {\"value\": 0.5}, \"order\": {\"type\": \"quantitative\", \"field\": \"pop\", \"sort\": \"descending\"}, \"size\": {\"type\": \"quantitative\", \"field\": \"pop\", \"scale\": {\"domain\": [0, 1200000000], \"range\": [0, 2000]}}, \"tooltip\": {\"type\": \"nominal\", \"field\": \"country\"}, \"x\": {\"type\": \"quantitative\", \"field\": \"fertility\", \"scale\": {\"domain\": [0, 9]}}, \"y\": {\"type\": \"quantitative\", \"field\": \"life_expect\", \"scale\": {\"domain\": [0, 90]}}}, \"selection\": {\"select\": {\"type\": \"single\", \"fields\": [\"year\"], \"init\": {\"year\": 1955}, \"bind\": {\"input\": \"range\", \"max\": 2005, \"min\": 1955, \"step\": 5}}}, \"transform\": [{\"filter\": {\"selection\": \"select\"}}], \"$schema\": \"https://vega.github.io/schema/vega-lite/v4.8.1.json\", \"datasets\": {\"data-89be1acdd14c7effd56f4dd0fabf92c3\": [{\"year\": 1955, \"country\": \"Afghanistan\", \"cluster\": 0, \"pop\": 8891209, \"life_expect\": 30.332, \"fertility\": 7.7}, {\"year\": 1960, \"country\": \"Afghanistan\", \"cluster\": 0, \"pop\": 9829450, \"life_expect\": 31.997, \"fertility\": 7.7}, {\"year\": 1965, \"country\": \"Afghanistan\", \"cluster\": 0, \"pop\": 10997885, \"life_expect\": 34.02, \"fertility\": 7.7}, {\"year\": 1970, \"country\": \"Afghanistan\", \"cluster\": 0, \"pop\": 12430623, \"life_expect\": 36.088, \"fertility\": 7.7}, {\"year\": 1975, \"country\": \"Afghanistan\", \"cluster\": 0, \"pop\": 14132019, \"life_expect\": 38.438, \"fertility\": 7.7}, {\"year\": 1980, \"country\": \"Afghanistan\", \"cluster\": 0, \"pop\": 15112149, \"life_expect\": 39.854, \"fertility\": 7.8}, {\"year\": 1985, \"country\": \"Afghanistan\", \"cluster\": 0, \"pop\": 13796928, \"life_expect\": 40.822, \"fertility\": 7.9}, {\"year\": 1990, \"country\": \"Afghanistan\", \"cluster\": 0, \"pop\": 14669339, \"life_expect\": 41.674, \"fertility\": 8.0}, {\"year\": 1995, \"country\": \"Afghanistan\", \"cluster\": 0, \"pop\": 20881480, \"life_expect\": 41.763, \"fertility\": 8.0}, {\"year\": 2000, \"country\": \"Afghanistan\", \"cluster\": 0, \"pop\": 23898198, \"life_expect\": 42.129, \"fertility\": 7.4792}, {\"year\": 2005, \"country\": \"Afghanistan\", \"cluster\": 0, \"pop\": 29928987, \"life_expect\": 43.828, \"fertility\": 7.0685}, {\"year\": 1955, \"country\": \"Argentina\", \"cluster\": 3, \"pop\": 18927821, \"life_expect\": 64.399, \"fertility\": 3.1265}, {\"year\": 1960, \"country\": \"Argentina\", \"cluster\": 3, \"pop\": 20616009, \"life_expect\": 65.142, \"fertility\": 3.0895}, {\"year\": 1965, \"country\": \"Argentina\", \"cluster\": 3, \"pop\": 22283100, \"life_expect\": 65.634, \"fertility\": 3.049}, {\"year\": 1970, \"country\": \"Argentina\", \"cluster\": 3, \"pop\": 23962313, \"life_expect\": 67.065, \"fertility\": 3.1455}, {\"year\": 1975, \"country\": \"Argentina\", \"cluster\": 3, \"pop\": 26081880, \"life_expect\": 68.481, \"fertility\": 3.44}, {\"year\": 1980, \"country\": \"Argentina\", \"cluster\": 3, \"pop\": 28369799, \"life_expect\": 69.942, \"fertility\": 3.15}, {\"year\": 1985, \"country\": \"Argentina\", \"cluster\": 3, \"pop\": 30675059, \"life_expect\": 70.774, \"fertility\": 3.053}, {\"year\": 1990, \"country\": \"Argentina\", \"cluster\": 3, \"pop\": 33022202, \"life_expect\": 71.868, \"fertility\": 2.9}, {\"year\": 1995, \"country\": \"Argentina\", \"cluster\": 3, \"pop\": 35311049, \"life_expect\": 73.275, \"fertility\": 2.63}, {\"year\": 2000, \"country\": \"Argentina\", \"cluster\": 3, \"pop\": 37497728, \"life_expect\": 74.34, \"fertility\": 2.35}, {\"year\": 2005, \"country\": \"Argentina\", \"cluster\": 3, \"pop\": 39537943, \"life_expect\": 75.32, \"fertility\": 2.254}, {\"year\": 1955, \"country\": \"Aruba\", \"cluster\": 3, \"pop\": 53865, \"life_expect\": 64.381, \"fertility\": 5.15}, {\"year\": 1960, \"country\": \"Aruba\", \"cluster\": 3, \"pop\": 57203, \"life_expect\": 66.606, \"fertility\": 4.399}, {\"year\": 1965, \"country\": \"Aruba\", \"cluster\": 3, \"pop\": 59020, \"life_expect\": 68.336, \"fertility\": 3.301}, {\"year\": 1970, \"country\": \"Aruba\", \"cluster\": 3, \"pop\": 59039, \"life_expect\": 70.941, \"fertility\": 2.651}, {\"year\": 1975, \"country\": \"Aruba\", \"cluster\": 3, \"pop\": 59390, \"life_expect\": 71.83, \"fertility\": 2.45}, {\"year\": 1980, \"country\": \"Aruba\", \"cluster\": 3, \"pop\": 60266, \"life_expect\": 74.116, \"fertility\": 2.358}, {\"year\": 1985, \"country\": \"Aruba\", \"cluster\": 3, \"pop\": 64129, \"life_expect\": 74.494, \"fertility\": 2.3}, {\"year\": 1990, \"country\": \"Aruba\", \"cluster\": 3, \"pop\": 66653, \"life_expect\": 74.108, \"fertility\": 2.2800000000000002}, {\"year\": 1995, \"country\": \"Aruba\", \"cluster\": 3, \"pop\": 67836, \"life_expect\": 73.011, \"fertility\": 2.208}, {\"year\": 2000, \"country\": \"Aruba\", \"cluster\": 3, \"pop\": 69539, \"life_expect\": 73.451, \"fertility\": 2.124}, {\"year\": 2005, \"country\": \"Aruba\", \"cluster\": 3, \"pop\": 71566, \"life_expect\": 74.239, \"fertility\": 2.04}, {\"year\": 1955, \"country\": \"Australia\", \"cluster\": 4, \"pop\": 9277087, \"life_expect\": 70.33, \"fertility\": 3.406}, {\"year\": 1960, \"country\": \"Australia\", \"cluster\": 4, \"pop\": 10361273, \"life_expect\": 70.93, \"fertility\": 3.274}, {\"year\": 1965, \"country\": \"Australia\", \"cluster\": 4, \"pop\": 11439384, \"life_expect\": 71.1, \"fertility\": 2.871}, {\"year\": 1970, \"country\": \"Australia\", \"cluster\": 4, \"pop\": 12660160, \"life_expect\": 71.93, \"fertility\": 2.535}, {\"year\": 1975, \"country\": \"Australia\", \"cluster\": 4, \"pop\": 13771400, \"life_expect\": 73.49, \"fertility\": 1.9889999999999999}, {\"year\": 1980, \"country\": \"Australia\", \"cluster\": 4, \"pop\": 14615900, \"life_expect\": 74.74, \"fertility\": 1.907}, {\"year\": 1985, \"country\": \"Australia\", \"cluster\": 4, \"pop\": 15788300, \"life_expect\": 76.32, \"fertility\": 1.859}, {\"year\": 1990, \"country\": \"Australia\", \"cluster\": 4, \"pop\": 17022133, \"life_expect\": 77.56, \"fertility\": 1.8599999999999999}, {\"year\": 1995, \"country\": \"Australia\", \"cluster\": 4, \"pop\": 18116171, \"life_expect\": 78.83, \"fertility\": 1.776}, {\"year\": 2000, \"country\": \"Australia\", \"cluster\": 4, \"pop\": 19164620, \"life_expect\": 80.37, \"fertility\": 1.756}, {\"year\": 2005, \"country\": \"Australia\", \"cluster\": 4, \"pop\": 20090437, \"life_expect\": 81.235, \"fertility\": 1.788}, {\"year\": 1955, \"country\": \"Austria\", \"cluster\": 1, \"pop\": 6946885, \"life_expect\": 67.48, \"fertility\": 2.52}, {\"year\": 1960, \"country\": \"Austria\", \"cluster\": 1, \"pop\": 7047437, \"life_expect\": 69.54, \"fertility\": 2.7800000000000002}, {\"year\": 1965, \"country\": \"Austria\", \"cluster\": 1, \"pop\": 7270889, \"life_expect\": 70.14, \"fertility\": 2.5300000000000002}, {\"year\": 1970, \"country\": \"Austria\", \"cluster\": 1, \"pop\": 7467086, \"life_expect\": 70.63, \"fertility\": 2.02}, {\"year\": 1975, \"country\": \"Austria\", \"cluster\": 1, \"pop\": 7578903, \"life_expect\": 72.17, \"fertility\": 1.6400000000000001}, {\"year\": 1980, \"country\": \"Austria\", \"cluster\": 1, \"pop\": 7549433, \"life_expect\": 73.18, \"fertility\": 1.62}, {\"year\": 1985, \"country\": \"Austria\", \"cluster\": 1, \"pop\": 7559776, \"life_expect\": 74.94, \"fertility\": 1.45}, {\"year\": 1990, \"country\": \"Austria\", \"cluster\": 1, \"pop\": 7722953, \"life_expect\": 76.04, \"fertility\": 1.47}, {\"year\": 1995, \"country\": \"Austria\", \"cluster\": 1, \"pop\": 8047433, \"life_expect\": 77.51, \"fertility\": 1.388}, {\"year\": 2000, \"country\": \"Austria\", \"cluster\": 1, \"pop\": 8113413, \"life_expect\": 78.98, \"fertility\": 1.3820000000000001}, {\"year\": 2005, \"country\": \"Austria\", \"cluster\": 1, \"pop\": 8184691, \"life_expect\": 79.829, \"fertility\": 1.42}, {\"year\": 1955, \"country\": \"Bahamas\", \"cluster\": 3, \"pop\": 87138, \"life_expect\": 62.405, \"fertility\": 4.305}, {\"year\": 1960, \"country\": \"Bahamas\", \"cluster\": 3, \"pop\": 112234, \"life_expect\": 64.209, \"fertility\": 4.503}, {\"year\": 1965, \"country\": \"Bahamas\", \"cluster\": 3, \"pop\": 139205, \"life_expect\": 65.795, \"fertility\": 3.794}, {\"year\": 1970, \"country\": \"Bahamas\", \"cluster\": 3, \"pop\": 170323, \"life_expect\": 66.515, \"fertility\": 3.444}, {\"year\": 1975, \"country\": \"Bahamas\", \"cluster\": 3, \"pop\": 189139, \"life_expect\": 67.199, \"fertility\": 3.221}, {\"year\": 1980, \"country\": \"Bahamas\", \"cluster\": 3, \"pop\": 209944, \"life_expect\": 67.874, \"fertility\": 3.16}, {\"year\": 1985, \"country\": \"Bahamas\", \"cluster\": 3, \"pop\": 234988, \"life_expect\": 69.524, \"fertility\": 2.62}, {\"year\": 1990, \"country\": \"Bahamas\", \"cluster\": 3, \"pop\": 257253, \"life_expect\": 69.171, \"fertility\": 2.6}, {\"year\": 1995, \"country\": \"Bahamas\", \"cluster\": 3, \"pop\": 275303, \"life_expect\": 68.472, \"fertility\": 2.4}, {\"year\": 2000, \"country\": \"Bahamas\", \"cluster\": 3, \"pop\": 290075, \"life_expect\": 71.068, \"fertility\": 2.1111}, {\"year\": 2005, \"country\": \"Bahamas\", \"cluster\": 3, \"pop\": 301790, \"life_expect\": 73.495, \"fertility\": 2.0221}, {\"year\": 1955, \"country\": \"Bangladesh\", \"cluster\": 0, \"pop\": 49601520, \"life_expect\": 39.348, \"fertility\": 6.76}, {\"year\": 1960, \"country\": \"Bangladesh\", \"cluster\": 0, \"pop\": 54621538, \"life_expect\": 41.216, \"fertility\": 6.85}, {\"year\": 1965, \"country\": \"Bangladesh\", \"cluster\": 0, \"pop\": 60332117, \"life_expect\": 43.453, \"fertility\": 6.6}, {\"year\": 1970, \"country\": \"Bangladesh\", \"cluster\": 0, \"pop\": 67402621, \"life_expect\": 45.252, \"fertility\": 6.15}, {\"year\": 1975, \"country\": \"Bangladesh\", \"cluster\": 0, \"pop\": 76253310, \"life_expect\": 46.923, \"fertility\": 5.6}, {\"year\": 1980, \"country\": \"Bangladesh\", \"cluster\": 0, \"pop\": 88076996, \"life_expect\": 50.009, \"fertility\": 5.25}, {\"year\": 1985, \"country\": \"Bangladesh\", \"cluster\": 0, \"pop\": 99752733, \"life_expect\": 52.819, \"fertility\": 4.629}, {\"year\": 1990, \"country\": \"Bangladesh\", \"cluster\": 0, \"pop\": 109896945, \"life_expect\": 56.018, \"fertility\": 4.117}, {\"year\": 1995, \"country\": \"Bangladesh\", \"cluster\": 0, \"pop\": 119186448, \"life_expect\": 59.412, \"fertility\": 3.5042999999999997}, {\"year\": 2000, \"country\": \"Bangladesh\", \"cluster\": 0, \"pop\": 130406594, \"life_expect\": 62.013, \"fertility\": 3.224}, {\"year\": 2005, \"country\": \"Bangladesh\", \"cluster\": 0, \"pop\": 144319628, \"life_expect\": 64.062, \"fertility\": 2.826}, {\"year\": 1955, \"country\": \"Barbados\", \"cluster\": 3, \"pop\": 227255, \"life_expect\": 62.57, \"fertility\": 4.67}, {\"year\": 1960, \"country\": \"Barbados\", \"cluster\": 3, \"pop\": 232339, \"life_expect\": 65.87, \"fertility\": 4.26}, {\"year\": 1965, \"country\": \"Barbados\", \"cluster\": 3, \"pop\": 234980, \"life_expect\": 67.62, \"fertility\": 3.45}, {\"year\": 1970, \"country\": \"Barbados\", \"cluster\": 3, \"pop\": 238756, \"life_expect\": 69.42, \"fertility\": 2.74}, {\"year\": 1975, \"country\": \"Barbados\", \"cluster\": 3, \"pop\": 247147, \"life_expect\": 71.27, \"fertility\": 2.19}, {\"year\": 1980, \"country\": \"Barbados\", \"cluster\": 3, \"pop\": 251966, \"life_expect\": 72.695, \"fertility\": 1.92}, {\"year\": 1985, \"country\": \"Barbados\", \"cluster\": 3, \"pop\": 257446, \"life_expect\": 74.027, \"fertility\": 1.75}, {\"year\": 1990, \"country\": \"Barbados\", \"cluster\": 3, \"pop\": 262624, \"life_expect\": 74.894, \"fertility\": 1.6}, {\"year\": 1995, \"country\": \"Barbados\", \"cluster\": 3, \"pop\": 267907, \"life_expect\": 74.912, \"fertility\": 1.5}, {\"year\": 2000, \"country\": \"Barbados\", \"cluster\": 3, \"pop\": 273483, \"life_expect\": 75.97, \"fertility\": 1.5}, {\"year\": 2005, \"country\": \"Barbados\", \"cluster\": 3, \"pop\": 278870, \"life_expect\": 77.296, \"fertility\": 1.5}, {\"year\": 1955, \"country\": \"Belgium\", \"cluster\": 1, \"pop\": 8868475, \"life_expect\": 69.24, \"fertility\": 2.496}, {\"year\": 1960, \"country\": \"Belgium\", \"cluster\": 1, \"pop\": 9118700, \"life_expect\": 70.25, \"fertility\": 2.644}, {\"year\": 1965, \"country\": \"Belgium\", \"cluster\": 1, \"pop\": 9448100, \"life_expect\": 70.94, \"fertility\": 2.392}, {\"year\": 1970, \"country\": \"Belgium\", \"cluster\": 1, \"pop\": 9637800, \"life_expect\": 71.44, \"fertility\": 2.015}, {\"year\": 1975, \"country\": \"Belgium\", \"cluster\": 1, \"pop\": 9794800, \"life_expect\": 72.8, \"fertility\": 1.705}, {\"year\": 1980, \"country\": \"Belgium\", \"cluster\": 1, \"pop\": 9846800, \"life_expect\": 73.93, \"fertility\": 1.595}, {\"year\": 1985, \"country\": \"Belgium\", \"cluster\": 1, \"pop\": 9858200, \"life_expect\": 75.35, \"fertility\": 1.5590000000000002}, {\"year\": 1990, \"country\": \"Belgium\", \"cluster\": 1, \"pop\": 9969310, \"life_expect\": 76.46, \"fertility\": 1.613}, {\"year\": 1995, \"country\": \"Belgium\", \"cluster\": 1, \"pop\": 10155459, \"life_expect\": 77.53, \"fertility\": 1.604}, {\"year\": 2000, \"country\": \"Belgium\", \"cluster\": 1, \"pop\": 10263618, \"life_expect\": 78.32, \"fertility\": 1.638}, {\"year\": 2005, \"country\": \"Belgium\", \"cluster\": 1, \"pop\": 10364388, \"life_expect\": 79.441, \"fertility\": 1.646}, {\"year\": 1955, \"country\": \"Bolivia\", \"cluster\": 3, \"pop\": 3074311, \"life_expect\": 41.89, \"fertility\": 6.75}, {\"year\": 1960, \"country\": \"Bolivia\", \"cluster\": 3, \"pop\": 3434073, \"life_expect\": 43.428, \"fertility\": 6.63}, {\"year\": 1965, \"country\": \"Bolivia\", \"cluster\": 3, \"pop\": 3853315, \"life_expect\": 45.032, \"fertility\": 6.5600000000000005}, {\"year\": 1970, \"country\": \"Bolivia\", \"cluster\": 3, \"pop\": 4346218, \"life_expect\": 46.714, \"fertility\": 6.5}, {\"year\": 1975, \"country\": \"Bolivia\", \"cluster\": 3, \"pop\": 4914316, \"life_expect\": 50.023, \"fertility\": 5.8}, {\"year\": 1980, \"country\": \"Bolivia\", \"cluster\": 3, \"pop\": 5441298, \"life_expect\": 53.859, \"fertility\": 5.2995}, {\"year\": 1985, \"country\": \"Bolivia\", \"cluster\": 3, \"pop\": 5934935, \"life_expect\": 57.251, \"fertility\": 5.0}, {\"year\": 1990, \"country\": \"Bolivia\", \"cluster\": 3, \"pop\": 6573900, \"life_expect\": 59.957, \"fertility\": 4.8}, {\"year\": 1995, \"country\": \"Bolivia\", \"cluster\": 3, \"pop\": 7376582, \"life_expect\": 62.05, \"fertility\": 4.324}, {\"year\": 2000, \"country\": \"Bolivia\", \"cluster\": 3, \"pop\": 8152620, \"life_expect\": 63.883, \"fertility\": 3.9585}, {\"year\": 2005, \"country\": \"Bolivia\", \"cluster\": 3, \"pop\": 8857870, \"life_expect\": 65.554, \"fertility\": 3.5}, {\"year\": 1955, \"country\": \"Brazil\", \"cluster\": 3, \"pop\": 61773546, \"life_expect\": 53.285, \"fertility\": 6.1501}, {\"year\": 1960, \"country\": \"Brazil\", \"cluster\": 3, \"pop\": 71694810, \"life_expect\": 55.665, \"fertility\": 6.1501}, {\"year\": 1965, \"country\": \"Brazil\", \"cluster\": 3, \"pop\": 83092908, \"life_expect\": 57.632, \"fertility\": 5.38}, {\"year\": 1970, \"country\": \"Brazil\", \"cluster\": 3, \"pop\": 95684297, \"life_expect\": 59.504, \"fertility\": 4.7175}, {\"year\": 1975, \"country\": \"Brazil\", \"cluster\": 3, \"pop\": 108823732, \"life_expect\": 61.489, \"fertility\": 4.305}, {\"year\": 1980, \"country\": \"Brazil\", \"cluster\": 3, \"pop\": 122958132, \"life_expect\": 63.336, \"fertility\": 3.8}, {\"year\": 1985, \"country\": \"Brazil\", \"cluster\": 3, \"pop\": 137302933, \"life_expect\": 65.205, \"fertility\": 3.1}, {\"year\": 1990, \"country\": \"Brazil\", \"cluster\": 3, \"pop\": 151083809, \"life_expect\": 67.057, \"fertility\": 2.6}, {\"year\": 1995, \"country\": \"Brazil\", \"cluster\": 3, \"pop\": 163542501, \"life_expect\": 69.388, \"fertility\": 2.45}, {\"year\": 2000, \"country\": \"Brazil\", \"cluster\": 3, \"pop\": 175552771, \"life_expect\": 71.006, \"fertility\": 2.345}, {\"year\": 2005, \"country\": \"Brazil\", \"cluster\": 3, \"pop\": 186112794, \"life_expect\": 72.39, \"fertility\": 2.245}, {\"year\": 1955, \"country\": \"Canada\", \"cluster\": 3, \"pop\": 16050356, \"life_expect\": 69.96, \"fertility\": 3.882}, {\"year\": 1960, \"country\": \"Canada\", \"cluster\": 3, \"pop\": 18266765, \"life_expect\": 71.3, \"fertility\": 3.675}, {\"year\": 1965, \"country\": \"Canada\", \"cluster\": 3, \"pop\": 20071104, \"life_expect\": 72.13, \"fertility\": 2.61}, {\"year\": 1970, \"country\": \"Canada\", \"cluster\": 3, \"pop\": 21749986, \"life_expect\": 72.88, \"fertility\": 1.976}, {\"year\": 1975, \"country\": \"Canada\", \"cluster\": 3, \"pop\": 23209200, \"life_expect\": 74.21, \"fertility\": 1.734}, {\"year\": 1980, \"country\": \"Canada\", \"cluster\": 3, \"pop\": 24593300, \"life_expect\": 75.76, \"fertility\": 1.634}, {\"year\": 1985, \"country\": \"Canada\", \"cluster\": 3, \"pop\": 25941600, \"life_expect\": 76.86, \"fertility\": 1.616}, {\"year\": 1990, \"country\": \"Canada\", \"cluster\": 3, \"pop\": 27790600, \"life_expect\": 77.95, \"fertility\": 1.694}, {\"year\": 1995, \"country\": \"Canada\", \"cluster\": 3, \"pop\": 29619002, \"life_expect\": 78.61, \"fertility\": 1.564}, {\"year\": 2000, \"country\": \"Canada\", \"cluster\": 3, \"pop\": 31278097, \"life_expect\": 79.77, \"fertility\": 1.522}, {\"year\": 2005, \"country\": \"Canada\", \"cluster\": 3, \"pop\": 32805041, \"life_expect\": 80.653, \"fertility\": 1.5270000000000001}, {\"year\": 1955, \"country\": \"Chile\", \"cluster\": 3, \"pop\": 6743269, \"life_expect\": 56.074, \"fertility\": 5.486}, {\"year\": 1960, \"country\": \"Chile\", \"cluster\": 3, \"pop\": 7585349, \"life_expect\": 57.924, \"fertility\": 5.4385}, {\"year\": 1965, \"country\": \"Chile\", \"cluster\": 3, \"pop\": 8509950, \"life_expect\": 60.523, \"fertility\": 4.4405}, {\"year\": 1970, \"country\": \"Chile\", \"cluster\": 3, \"pop\": 9368558, \"life_expect\": 63.441, \"fertility\": 3.63}, {\"year\": 1975, \"country\": \"Chile\", \"cluster\": 3, \"pop\": 10251542, \"life_expect\": 67.052, \"fertility\": 2.803}, {\"year\": 1980, \"country\": \"Chile\", \"cluster\": 3, \"pop\": 11093718, \"life_expect\": 70.565, \"fertility\": 2.6710000000000003}, {\"year\": 1985, \"country\": \"Chile\", \"cluster\": 3, \"pop\": 12066701, \"life_expect\": 72.492, \"fertility\": 2.65}, {\"year\": 1990, \"country\": \"Chile\", \"cluster\": 3, \"pop\": 13127760, \"life_expect\": 74.126, \"fertility\": 2.55}, {\"year\": 1995, \"country\": \"Chile\", \"cluster\": 3, \"pop\": 14205449, \"life_expect\": 75.816, \"fertility\": 2.21}, {\"year\": 2000, \"country\": \"Chile\", \"cluster\": 3, \"pop\": 15153450, \"life_expect\": 77.86, \"fertility\": 2.0}, {\"year\": 2005, \"country\": \"Chile\", \"cluster\": 3, \"pop\": 15980912, \"life_expect\": 78.553, \"fertility\": 1.944}, {\"year\": 1955, \"country\": \"China\", \"cluster\": 4, \"pop\": 608655000, \"life_expect\": 50.54896, \"fertility\": 5.59}, {\"year\": 1960, \"country\": \"China\", \"cluster\": 4, \"pop\": 667070000, \"life_expect\": 44.50136, \"fertility\": 5.72}, {\"year\": 1965, \"country\": \"China\", \"cluster\": 4, \"pop\": 715185000, \"life_expect\": 58.38112, \"fertility\": 6.06}, {\"year\": 1970, \"country\": \"China\", \"cluster\": 4, \"pop\": 818315000, \"life_expect\": 63.11888, \"fertility\": 4.86}, {\"year\": 1975, \"country\": \"China\", \"cluster\": 4, \"pop\": 916395000, \"life_expect\": 63.96736, \"fertility\": 3.32}, {\"year\": 1980, \"country\": \"China\", \"cluster\": 4, \"pop\": 981235000, \"life_expect\": 65.525, \"fertility\": 2.55}, {\"year\": 1985, \"country\": \"China\", \"cluster\": 4, \"pop\": 1051040000, \"life_expect\": 67.274, \"fertility\": 2.46}, {\"year\": 1990, \"country\": \"China\", \"cluster\": 4, \"pop\": 1135185000, \"life_expect\": 68.69, \"fertility\": 1.92}, {\"year\": 1995, \"country\": \"China\", \"cluster\": 4, \"pop\": 1204855000, \"life_expect\": 70.426, \"fertility\": 1.7810000000000001}, {\"year\": 2000, \"country\": \"China\", \"cluster\": 4, \"pop\": 1262645000, \"life_expect\": 72.028, \"fertility\": 1.7000000000000002}, {\"year\": 2005, \"country\": \"China\", \"cluster\": 4, \"pop\": 1303182268, \"life_expect\": 72.961, \"fertility\": 1.725}, {\"year\": 1955, \"country\": \"Colombia\", \"cluster\": 3, \"pop\": 13588405, \"life_expect\": 55.118, \"fertility\": 6.76}, {\"year\": 1960, \"country\": \"Colombia\", \"cluster\": 3, \"pop\": 15952727, \"life_expect\": 57.863, \"fertility\": 6.76}, {\"year\": 1965, \"country\": \"Colombia\", \"cluster\": 3, \"pop\": 18646175, \"life_expect\": 59.963, \"fertility\": 6.18}, {\"year\": 1970, \"country\": \"Colombia\", \"cluster\": 3, \"pop\": 21429658, \"life_expect\": 61.623, \"fertility\": 5.0005}, {\"year\": 1975, \"country\": \"Colombia\", \"cluster\": 3, \"pop\": 24114177, \"life_expect\": 63.837, \"fertility\": 4.3385}, {\"year\": 1980, \"country\": \"Colombia\", \"cluster\": 3, \"pop\": 26582811, \"life_expect\": 66.653, \"fertility\": 3.685}, {\"year\": 1985, \"country\": \"Colombia\", \"cluster\": 3, \"pop\": 29678395, \"life_expect\": 67.768, \"fertility\": 3.172}, {\"year\": 1990, \"country\": \"Colombia\", \"cluster\": 3, \"pop\": 32858579, \"life_expect\": 68.421, \"fertility\": 2.93005}, {\"year\": 1995, \"country\": \"Colombia\", \"cluster\": 3, \"pop\": 36280883, \"life_expect\": 70.313, \"fertility\": 2.7}, {\"year\": 2000, \"country\": \"Colombia\", \"cluster\": 3, \"pop\": 39685655, \"life_expect\": 71.682, \"fertility\": 2.4705}, {\"year\": 2005, \"country\": \"Colombia\", \"cluster\": 3, \"pop\": 42954279, \"life_expect\": 72.889, \"fertility\": 2.2205}, {\"year\": 1955, \"country\": \"Costa Rica\", \"cluster\": 3, \"pop\": 1031782, \"life_expect\": 60.026, \"fertility\": 7.1135}, {\"year\": 1960, \"country\": \"Costa Rica\", \"cluster\": 3, \"pop\": 1248022, \"life_expect\": 62.842, \"fertility\": 7.2245}, {\"year\": 1965, \"country\": \"Costa Rica\", \"cluster\": 3, \"pop\": 1487605, \"life_expect\": 65.424, \"fertility\": 5.801}, {\"year\": 1970, \"country\": \"Costa Rica\", \"cluster\": 3, \"pop\": 1735523, \"life_expect\": 67.849, \"fertility\": 4.346}, {\"year\": 1975, \"country\": \"Costa Rica\", \"cluster\": 3, \"pop\": 1991580, \"life_expect\": 70.75, \"fertility\": 3.7755}, {\"year\": 1980, \"country\": \"Costa Rica\", \"cluster\": 3, \"pop\": 2299124, \"life_expect\": 73.45, \"fertility\": 3.527}, {\"year\": 1985, \"country\": \"Costa Rica\", \"cluster\": 3, \"pop\": 2643808, \"life_expect\": 74.752, \"fertility\": 3.374}, {\"year\": 1990, \"country\": \"Costa Rica\", \"cluster\": 3, \"pop\": 3027175, \"life_expect\": 75.713, \"fertility\": 2.9450000000000003}, {\"year\": 1995, \"country\": \"Costa Rica\", \"cluster\": 3, \"pop\": 3383786, \"life_expect\": 77.26, \"fertility\": 2.5835}, {\"year\": 2000, \"country\": \"Costa Rica\", \"cluster\": 3, \"pop\": 3710558, \"life_expect\": 78.123, \"fertility\": 2.2815}, {\"year\": 2005, \"country\": \"Costa Rica\", \"cluster\": 3, \"pop\": 4016173, \"life_expect\": 78.782, \"fertility\": 2.0985}, {\"year\": 1955, \"country\": \"Croatia\", \"cluster\": 1, \"pop\": 3955526, \"life_expect\": 64.77, \"fertility\": 2.42}, {\"year\": 1960, \"country\": \"Croatia\", \"cluster\": 1, \"pop\": 4036145, \"life_expect\": 67.13, \"fertility\": 2.27}, {\"year\": 1965, \"country\": \"Croatia\", \"cluster\": 1, \"pop\": 4133313, \"life_expect\": 68.5, \"fertility\": 2.09}, {\"year\": 1970, \"country\": \"Croatia\", \"cluster\": 1, \"pop\": 4205389, \"life_expect\": 69.61, \"fertility\": 1.96}, {\"year\": 1975, \"country\": \"Croatia\", \"cluster\": 1, \"pop\": 4255000, \"life_expect\": 70.64, \"fertility\": 2.02}, {\"year\": 1980, \"country\": \"Croatia\", \"cluster\": 1, \"pop\": 4383000, \"life_expect\": 70.46, \"fertility\": 1.96}, {\"year\": 1985, \"country\": \"Croatia\", \"cluster\": 1, \"pop\": 4457874, \"life_expect\": 71.52, \"fertility\": 1.8399999999999999}, {\"year\": 1990, \"country\": \"Croatia\", \"cluster\": 1, \"pop\": 4508347, \"life_expect\": 72.527, \"fertility\": 1.52}, {\"year\": 1995, \"country\": \"Croatia\", \"cluster\": 1, \"pop\": 4496683, \"life_expect\": 73.68, \"fertility\": 1.537}, {\"year\": 2000, \"country\": \"Croatia\", \"cluster\": 1, \"pop\": 4410830, \"life_expect\": 74.876, \"fertility\": 1.348}, {\"year\": 2005, \"country\": \"Croatia\", \"cluster\": 1, \"pop\": 4495904, \"life_expect\": 75.748, \"fertility\": 1.346}, {\"year\": 1955, \"country\": \"Cuba\", \"cluster\": 3, \"pop\": 6381106, \"life_expect\": 62.325, \"fertility\": 3.6995}, {\"year\": 1960, \"country\": \"Cuba\", \"cluster\": 3, \"pop\": 7027210, \"life_expect\": 65.246, \"fertility\": 4.6805}, {\"year\": 1965, \"country\": \"Cuba\", \"cluster\": 3, \"pop\": 7809916, \"life_expect\": 68.29, \"fertility\": 4.3}, {\"year\": 1970, \"country\": \"Cuba\", \"cluster\": 3, \"pop\": 8542746, \"life_expect\": 70.723, \"fertility\": 3.6}, {\"year\": 1975, \"country\": \"Cuba\", \"cluster\": 3, \"pop\": 9290074, \"life_expect\": 72.649, \"fertility\": 2.15}, {\"year\": 1980, \"country\": \"Cuba\", \"cluster\": 3, \"pop\": 9652975, \"life_expect\": 73.717, \"fertility\": 1.8495}, {\"year\": 1985, \"country\": \"Cuba\", \"cluster\": 3, \"pop\": 10078658, \"life_expect\": 74.174, \"fertility\": 1.8495}, {\"year\": 1990, \"country\": \"Cuba\", \"cluster\": 3, \"pop\": 10544793, \"life_expect\": 74.414, \"fertility\": 1.6505}, {\"year\": 1995, \"country\": \"Cuba\", \"cluster\": 3, \"pop\": 10896802, \"life_expect\": 76.151, \"fertility\": 1.6095000000000002}, {\"year\": 2000, \"country\": \"Cuba\", \"cluster\": 3, \"pop\": 11134273, \"life_expect\": 77.158, \"fertility\": 1.63}, {\"year\": 2005, \"country\": \"Cuba\", \"cluster\": 3, \"pop\": 11346670, \"life_expect\": 78.273, \"fertility\": 1.49}, {\"year\": 1955, \"country\": \"Dominican Republic\", \"cluster\": 3, \"pop\": 2737257, \"life_expect\": 49.828, \"fertility\": 7.6405}, {\"year\": 1960, \"country\": \"Dominican Republic\", \"cluster\": 3, \"pop\": 3231488, \"life_expect\": 53.459, \"fertility\": 7.3505}, {\"year\": 1965, \"country\": \"Dominican Republic\", \"cluster\": 3, \"pop\": 3805881, \"life_expect\": 56.751, \"fertility\": 6.6495}, {\"year\": 1970, \"country\": \"Dominican Republic\", \"cluster\": 3, \"pop\": 4422755, \"life_expect\": 59.631, \"fertility\": 5.71}, {\"year\": 1975, \"country\": \"Dominican Republic\", \"cluster\": 3, \"pop\": 5048499, \"life_expect\": 61.788, \"fertility\": 4.76}, {\"year\": 1980, \"country\": \"Dominican Republic\", \"cluster\": 3, \"pop\": 5696855, \"life_expect\": 63.727, \"fertility\": 4.0}, {\"year\": 1985, \"country\": \"Dominican Republic\", \"cluster\": 3, \"pop\": 6377765, \"life_expect\": 66.046, \"fertility\": 3.47}, {\"year\": 1990, \"country\": \"Dominican Republic\", \"cluster\": 3, \"pop\": 7077651, \"life_expect\": 68.457, \"fertility\": 3.1995}, {\"year\": 1995, \"country\": \"Dominican Republic\", \"cluster\": 3, \"pop\": 7730224, \"life_expect\": 69.957, \"fertility\": 3.05}, {\"year\": 2000, \"country\": \"Dominican Republic\", \"cluster\": 3, \"pop\": 8385828, \"life_expect\": 70.847, \"fertility\": 2.95}, {\"year\": 2005, \"country\": \"Dominican Republic\", \"cluster\": 3, \"pop\": 9049595, \"life_expect\": 72.235, \"fertility\": 2.81}, {\"year\": 1955, \"country\": \"Ecuador\", \"cluster\": 3, \"pop\": 3842399, \"life_expect\": 51.356, \"fertility\": 6.7}, {\"year\": 1960, \"country\": \"Ecuador\", \"cluster\": 3, \"pop\": 4415956, \"life_expect\": 54.64, \"fertility\": 6.7}, {\"year\": 1965, \"country\": \"Ecuador\", \"cluster\": 3, \"pop\": 5117779, \"life_expect\": 56.678, \"fertility\": 6.5}, {\"year\": 1970, \"country\": \"Ecuador\", \"cluster\": 3, \"pop\": 5939246, \"life_expect\": 58.796, \"fertility\": 6.0005}, {\"year\": 1975, \"country\": \"Ecuador\", \"cluster\": 3, \"pop\": 6871698, \"life_expect\": 61.31, \"fertility\": 5.4005}, {\"year\": 1980, \"country\": \"Ecuador\", \"cluster\": 3, \"pop\": 7920499, \"life_expect\": 64.342, \"fertility\": 4.7005}, {\"year\": 1985, \"country\": \"Ecuador\", \"cluster\": 3, \"pop\": 9061664, \"life_expect\": 67.231, \"fertility\": 4.0}, {\"year\": 1990, \"country\": \"Ecuador\", \"cluster\": 3, \"pop\": 10318036, \"life_expect\": 69.613, \"fertility\": 3.4005}, {\"year\": 1995, \"country\": \"Ecuador\", \"cluster\": 3, \"pop\": 11438004, \"life_expect\": 72.312, \"fertility\": 3.1}, {\"year\": 2000, \"country\": \"Ecuador\", \"cluster\": 3, \"pop\": 12505204, \"life_expect\": 74.173, \"fertility\": 2.8175}, {\"year\": 2005, \"country\": \"Ecuador\", \"cluster\": 3, \"pop\": 13363593, \"life_expect\": 74.994, \"fertility\": 2.578}, {\"year\": 1955, \"country\": \"Egypt\", \"cluster\": 5, \"pop\": 23855527, \"life_expect\": 44.444, \"fertility\": 6.97}, {\"year\": 1960, \"country\": \"Egypt\", \"cluster\": 5, \"pop\": 26846610, \"life_expect\": 46.992, \"fertility\": 7.073}, {\"year\": 1965, \"country\": \"Egypt\", \"cluster\": 5, \"pop\": 30265148, \"life_expect\": 49.293, \"fertility\": 6.5600000000000005}, {\"year\": 1970, \"country\": \"Egypt\", \"cluster\": 5, \"pop\": 33574026, \"life_expect\": 51.137, \"fertility\": 5.855}, {\"year\": 1975, \"country\": \"Egypt\", \"cluster\": 5, \"pop\": 36952499, \"life_expect\": 53.319, \"fertility\": 5.609}, {\"year\": 1980, \"country\": \"Egypt\", \"cluster\": 5, \"pop\": 42634215, \"life_expect\": 56.006, \"fertility\": 5.332}, {\"year\": 1985, \"country\": \"Egypt\", \"cluster\": 5, \"pop\": 50052381, \"life_expect\": 59.797, \"fertility\": 4.833}, {\"year\": 1990, \"country\": \"Egypt\", \"cluster\": 5, \"pop\": 56694413, \"life_expect\": 63.674, \"fertility\": 3.908}, {\"year\": 1995, \"country\": \"Egypt\", \"cluster\": 5, \"pop\": 63321615, \"life_expect\": 67.217, \"fertility\": 3.5}, {\"year\": 2000, \"country\": \"Egypt\", \"cluster\": 5, \"pop\": 70492342, \"life_expect\": 69.806, \"fertility\": 3.174}, {\"year\": 2005, \"country\": \"Egypt\", \"cluster\": 5, \"pop\": 77505756, \"life_expect\": 71.338, \"fertility\": 2.891}, {\"year\": 1955, \"country\": \"El Salvador\", \"cluster\": 3, \"pop\": 2221139, \"life_expect\": 48.57, \"fertility\": 6.8065}, {\"year\": 1960, \"country\": \"El Salvador\", \"cluster\": 3, \"pop\": 2581583, \"life_expect\": 52.307, \"fertility\": 6.8469999999999995}, {\"year\": 1965, \"country\": \"El Salvador\", \"cluster\": 3, \"pop\": 3017852, \"life_expect\": 55.855, \"fertility\": 6.621}, {\"year\": 1970, \"country\": \"El Salvador\", \"cluster\": 3, \"pop\": 3603907, \"life_expect\": 58.207, \"fertility\": 6.0995}, {\"year\": 1975, \"country\": \"El Salvador\", \"cluster\": 3, \"pop\": 4071179, \"life_expect\": 56.696, \"fertility\": 5.5996}, {\"year\": 1980, \"country\": \"El Salvador\", \"cluster\": 3, \"pop\": 4566199, \"life_expect\": 56.604, \"fertility\": 4.5}, {\"year\": 1985, \"country\": \"El Salvador\", \"cluster\": 3, \"pop\": 4664361, \"life_expect\": 63.154, \"fertility\": 3.901}, {\"year\": 1990, \"country\": \"El Salvador\", \"cluster\": 3, \"pop\": 5099884, \"life_expect\": 66.798, \"fertility\": 3.52}, {\"year\": 1995, \"country\": \"El Salvador\", \"cluster\": 3, \"pop\": 5568437, \"life_expect\": 69.535, \"fertility\": 3.17}, {\"year\": 2000, \"country\": \"El Salvador\", \"cluster\": 3, \"pop\": 6122515, \"life_expect\": 70.734, \"fertility\": 2.883}, {\"year\": 2005, \"country\": \"El Salvador\", \"cluster\": 3, \"pop\": 6704932, \"life_expect\": 71.878, \"fertility\": 2.6825}, {\"year\": 1955, \"country\": \"Finland\", \"cluster\": 1, \"pop\": 4234900, \"life_expect\": 67.49, \"fertility\": 2.769}, {\"year\": 1960, \"country\": \"Finland\", \"cluster\": 1, \"pop\": 4429600, \"life_expect\": 68.75, \"fertility\": 2.66}, {\"year\": 1965, \"country\": \"Finland\", \"cluster\": 1, \"pop\": 4563732, \"life_expect\": 69.83, \"fertility\": 2.191}, {\"year\": 1970, \"country\": \"Finland\", \"cluster\": 1, \"pop\": 4606307, \"life_expect\": 70.87, \"fertility\": 1.623}, {\"year\": 1975, \"country\": \"Finland\", \"cluster\": 1, \"pop\": 4711439, \"life_expect\": 72.52, \"fertility\": 1.663}, {\"year\": 1980, \"country\": \"Finland\", \"cluster\": 1, \"pop\": 4779535, \"life_expect\": 74.55, \"fertility\": 1.685}, {\"year\": 1985, \"country\": \"Finland\", \"cluster\": 1, \"pop\": 4901783, \"life_expect\": 74.83, \"fertility\": 1.6600000000000001}, {\"year\": 1990, \"country\": \"Finland\", \"cluster\": 1, \"pop\": 4986431, \"life_expect\": 75.7, \"fertility\": 1.819}, {\"year\": 1995, \"country\": \"Finland\", \"cluster\": 1, \"pop\": 5104654, \"life_expect\": 77.13, \"fertility\": 1.7429999999999999}, {\"year\": 2000, \"country\": \"Finland\", \"cluster\": 1, \"pop\": 5168595, \"life_expect\": 78.37, \"fertility\": 1.754}, {\"year\": 2005, \"country\": \"Finland\", \"cluster\": 1, \"pop\": 5223442, \"life_expect\": 79.313, \"fertility\": 1.8250000000000002}, {\"year\": 1955, \"country\": \"France\", \"cluster\": 1, \"pop\": 43427669, \"life_expect\": 68.93, \"fertility\": 2.7119999999999997}, {\"year\": 1960, \"country\": \"France\", \"cluster\": 1, \"pop\": 45670000, \"life_expect\": 70.51, \"fertility\": 2.85}, {\"year\": 1965, \"country\": \"France\", \"cluster\": 1, \"pop\": 48763000, \"life_expect\": 71.55, \"fertility\": 2.607}, {\"year\": 1970, \"country\": \"France\", \"cluster\": 1, \"pop\": 50787000, \"life_expect\": 72.38, \"fertility\": 2.31}, {\"year\": 1975, \"country\": \"France\", \"cluster\": 1, \"pop\": 52758427, \"life_expect\": 73.83, \"fertility\": 1.862}, {\"year\": 1980, \"country\": \"France\", \"cluster\": 1, \"pop\": 53869743, \"life_expect\": 74.89, \"fertility\": 1.866}, {\"year\": 1985, \"country\": \"France\", \"cluster\": 1, \"pop\": 55171224, \"life_expect\": 76.34, \"fertility\": 1.8050000000000002}, {\"year\": 1990, \"country\": \"France\", \"cluster\": 1, \"pop\": 56735161, \"life_expect\": 77.46, \"fertility\": 1.713}, {\"year\": 1995, \"country\": \"France\", \"cluster\": 1, \"pop\": 58149727, \"life_expect\": 78.64, \"fertility\": 1.7624}, {\"year\": 2000, \"country\": \"France\", \"cluster\": 1, \"pop\": 59381628, \"life_expect\": 79.59, \"fertility\": 1.8833000000000002}, {\"year\": 2005, \"country\": \"France\", \"cluster\": 1, \"pop\": 60656178, \"life_expect\": 80.657, \"fertility\": 1.8916}, {\"year\": 1955, \"country\": \"Georgia\", \"cluster\": 1, \"pop\": 3827154, \"life_expect\": 62.625, \"fertility\": 2.909}, {\"year\": 1960, \"country\": \"Georgia\", \"cluster\": 1, \"pop\": 4146570, \"life_expect\": 64.644, \"fertility\": 2.979}, {\"year\": 1965, \"country\": \"Georgia\", \"cluster\": 1, \"pop\": 4464959, \"life_expect\": 66.654, \"fertility\": 2.6109999999999998}, {\"year\": 1970, \"country\": \"Georgia\", \"cluster\": 1, \"pop\": 4694491, \"life_expect\": 68.158, \"fertility\": 2.601}, {\"year\": 1975, \"country\": \"Georgia\", \"cluster\": 1, \"pop\": 4897656, \"life_expect\": 69.634, \"fertility\": 2.39}, {\"year\": 1980, \"country\": \"Georgia\", \"cluster\": 1, \"pop\": 5045697, \"life_expect\": 69.638, \"fertility\": 2.269}, {\"year\": 1985, \"country\": \"Georgia\", \"cluster\": 1, \"pop\": 5192957, \"life_expect\": 70.45, \"fertility\": 2.263}, {\"year\": 1990, \"country\": \"Georgia\", \"cluster\": 1, \"pop\": 5426207, \"life_expect\": 70.465, \"fertility\": 1.9500000000000002}, {\"year\": 1995, \"country\": \"Georgia\", \"cluster\": 1, \"pop\": 5012952, \"life_expect\": 70.49, \"fertility\": 1.58}, {\"year\": 2000, \"country\": \"Georgia\", \"cluster\": 1, \"pop\": 4777209, \"life_expect\": 70.476, \"fertility\": 1.478}, {\"year\": 2005, \"country\": \"Georgia\", \"cluster\": 1, \"pop\": 4677401, \"life_expect\": 70.987, \"fertility\": 1.407}, {\"year\": 1955, \"country\": \"Germany\", \"cluster\": 1, \"pop\": 70195612, \"life_expect\": 69.1, \"fertility\": 2.3}, {\"year\": 1960, \"country\": \"Germany\", \"cluster\": 1, \"pop\": 72480869, \"life_expect\": 70.3, \"fertility\": 2.49}, {\"year\": 1965, \"country\": \"Germany\", \"cluster\": 1, \"pop\": 75638851, \"life_expect\": 70.8, \"fertility\": 2.32}, {\"year\": 1970, \"country\": \"Germany\", \"cluster\": 1, \"pop\": 77783164, \"life_expect\": 71.0, \"fertility\": 1.6400000000000001}, {\"year\": 1975, \"country\": \"Germany\", \"cluster\": 1, \"pop\": 78682325, \"life_expect\": 72.5, \"fertility\": 1.52}, {\"year\": 1980, \"country\": \"Germany\", \"cluster\": 1, \"pop\": 78297904, \"life_expect\": 73.8, \"fertility\": 1.46}, {\"year\": 1985, \"country\": \"Germany\", \"cluster\": 1, \"pop\": 77684907, \"life_expect\": 74.847, \"fertility\": 1.43}, {\"year\": 1990, \"country\": \"Germany\", \"cluster\": 1, \"pop\": 79380394, \"life_expect\": 76.07, \"fertility\": 1.31}, {\"year\": 1995, \"country\": \"Germany\", \"cluster\": 1, \"pop\": 81653702, \"life_expect\": 77.34, \"fertility\": 1.34}, {\"year\": 2000, \"country\": \"Germany\", \"cluster\": 1, \"pop\": 82187909, \"life_expect\": 78.67, \"fertility\": 1.346}, {\"year\": 2005, \"country\": \"Germany\", \"cluster\": 1, \"pop\": 82431390, \"life_expect\": 79.406, \"fertility\": 1.3599999999999999}, {\"year\": 1955, \"country\": \"Greece\", \"cluster\": 1, \"pop\": 7965538, \"life_expect\": 67.86, \"fertility\": 2.27}, {\"year\": 1960, \"country\": \"Greece\", \"cluster\": 1, \"pop\": 8327405, \"life_expect\": 69.51, \"fertility\": 2.2}, {\"year\": 1965, \"country\": \"Greece\", \"cluster\": 1, \"pop\": 8550333, \"life_expect\": 71.0, \"fertility\": 2.38}, {\"year\": 1970, \"country\": \"Greece\", \"cluster\": 1, \"pop\": 8792806, \"life_expect\": 72.34, \"fertility\": 2.32}, {\"year\": 1975, \"country\": \"Greece\", \"cluster\": 1, \"pop\": 9046542, \"life_expect\": 73.68, \"fertility\": 2.32}, {\"year\": 1980, \"country\": \"Greece\", \"cluster\": 1, \"pop\": 9642505, \"life_expect\": 75.24, \"fertility\": 1.96}, {\"year\": 1985, \"country\": \"Greece\", \"cluster\": 1, \"pop\": 9923253, \"life_expect\": 76.67, \"fertility\": 1.53}, {\"year\": 1990, \"country\": \"Greece\", \"cluster\": 1, \"pop\": 10129603, \"life_expect\": 77.03, \"fertility\": 1.37}, {\"year\": 1995, \"country\": \"Greece\", \"cluster\": 1, \"pop\": 10457554, \"life_expect\": 77.869, \"fertility\": 1.296}, {\"year\": 2000, \"country\": \"Greece\", \"cluster\": 1, \"pop\": 10559110, \"life_expect\": 78.256, \"fertility\": 1.2770000000000001}, {\"year\": 2005, \"country\": \"Greece\", \"cluster\": 1, \"pop\": 10668354, \"life_expect\": 79.483, \"fertility\": 1.325}, {\"year\": 1955, \"country\": \"Grenada\", \"cluster\": 3, \"pop\": 84621, \"life_expect\": 63.114, \"fertility\": 6.7}, {\"year\": 1960, \"country\": \"Grenada\", \"cluster\": 3, \"pop\": 90148, \"life_expect\": 63.608, \"fertility\": 6.4}, {\"year\": 1965, \"country\": \"Grenada\", \"cluster\": 3, \"pop\": 93290, \"life_expect\": 64.091, \"fertility\": 4.8}, {\"year\": 1970, \"country\": \"Grenada\", \"cluster\": 3, \"pop\": 95410, \"life_expect\": 64.577, \"fertility\": 4.6}, {\"year\": 1975, \"country\": \"Grenada\", \"cluster\": 3, \"pop\": 95819, \"life_expect\": 65.035, \"fertility\": 4.3}, {\"year\": 1980, \"country\": \"Grenada\", \"cluster\": 3, \"pop\": 90164, \"life_expect\": 65.503, \"fertility\": 4.23}, {\"year\": 1985, \"country\": \"Grenada\", \"cluster\": 3, \"pop\": 92203, \"life_expect\": 66.002, \"fertility\": 4.14}, {\"year\": 1990, \"country\": \"Grenada\", \"cluster\": 3, \"pop\": 92360, \"life_expect\": 66.469, \"fertility\": 3.26}, {\"year\": 1995, \"country\": \"Grenada\", \"cluster\": 3, \"pop\": 90603, \"life_expect\": 66.986, \"fertility\": 2.814}, {\"year\": 2000, \"country\": \"Grenada\", \"cluster\": 3, \"pop\": 89312, \"life_expect\": 67.746, \"fertility\": 2.429}, {\"year\": 2005, \"country\": \"Grenada\", \"cluster\": 3, \"pop\": 89502, \"life_expect\": 68.724, \"fertility\": 2.302}, {\"year\": 1955, \"country\": \"Haiti\", \"cluster\": 3, \"pop\": 3376419, \"life_expect\": 40.696, \"fertility\": 6.3}, {\"year\": 1960, \"country\": \"Haiti\", \"cluster\": 3, \"pop\": 3722743, \"life_expect\": 43.59, \"fertility\": 6.3}, {\"year\": 1965, \"country\": \"Haiti\", \"cluster\": 3, \"pop\": 4137405, \"life_expect\": 46.243, \"fertility\": 6.0}, {\"year\": 1970, \"country\": \"Haiti\", \"cluster\": 3, \"pop\": 4604915, \"life_expect\": 48.042, \"fertility\": 5.6005}, {\"year\": 1975, \"country\": \"Haiti\", \"cluster\": 3, \"pop\": 4828338, \"life_expect\": 49.923, \"fertility\": 5.8}, {\"year\": 1980, \"country\": \"Haiti\", \"cluster\": 3, \"pop\": 5029725, \"life_expect\": 51.461, \"fertility\": 6.2099}, {\"year\": 1985, \"country\": \"Haiti\", \"cluster\": 3, \"pop\": 5517977, \"life_expect\": 53.636, \"fertility\": 5.69985}, {\"year\": 1990, \"country\": \"Haiti\", \"cluster\": 3, \"pop\": 6126101, \"life_expect\": 55.089, \"fertility\": 5.14985}, {\"year\": 1995, \"country\": \"Haiti\", \"cluster\": 3, \"pop\": 6675578, \"life_expect\": 56.671, \"fertility\": 4.61995}, {\"year\": 2000, \"country\": \"Haiti\", \"cluster\": 3, \"pop\": 7306302, \"life_expect\": 58.137, \"fertility\": 4.0}, {\"year\": 2005, \"country\": \"Haiti\", \"cluster\": 3, \"pop\": 8121622, \"life_expect\": 60.916, \"fertility\": 3.5445}, {\"year\": 1955, \"country\": \"Hong Kong\", \"cluster\": 4, \"pop\": 2490400, \"life_expect\": 64.75, \"fertility\": 4.72}, {\"year\": 1960, \"country\": \"Hong Kong\", \"cluster\": 4, \"pop\": 3075300, \"life_expect\": 67.65, \"fertility\": 5.31}, {\"year\": 1965, \"country\": \"Hong Kong\", \"cluster\": 4, \"pop\": 3597900, \"life_expect\": 70.0, \"fertility\": 4.02}, {\"year\": 1970, \"country\": \"Hong Kong\", \"cluster\": 4, \"pop\": 3959000, \"life_expect\": 72.0, \"fertility\": 2.89}, {\"year\": 1975, \"country\": \"Hong Kong\", \"cluster\": 4, \"pop\": 4395800, \"life_expect\": 73.6, \"fertility\": 2.32}, {\"year\": 1980, \"country\": \"Hong Kong\", \"cluster\": 4, \"pop\": 5063100, \"life_expect\": 75.45, \"fertility\": 1.8}, {\"year\": 1985, \"country\": \"Hong Kong\", \"cluster\": 4, \"pop\": 5456200, \"life_expect\": 76.2, \"fertility\": 1.31}, {\"year\": 1990, \"country\": \"Hong Kong\", \"cluster\": 4, \"pop\": 5687959, \"life_expect\": 77.601, \"fertility\": 1.288}, {\"year\": 1995, \"country\": \"Hong Kong\", \"cluster\": 4, \"pop\": 6225347, \"life_expect\": 80.0, \"fertility\": 1.08}, {\"year\": 2000, \"country\": \"Hong Kong\", \"cluster\": 4, \"pop\": 6658720, \"life_expect\": 81.495, \"fertility\": 0.9400000000000001}, {\"year\": 2005, \"country\": \"Hong Kong\", \"cluster\": 4, \"pop\": 6898686, \"life_expect\": 82.208, \"fertility\": 0.966}, {\"year\": 1955, \"country\": \"Iceland\", \"cluster\": 1, \"pop\": 158044, \"life_expect\": 73.47, \"fertility\": 4.023}, {\"year\": 1960, \"country\": \"Iceland\", \"cluster\": 1, \"pop\": 175860, \"life_expect\": 73.68, \"fertility\": 3.943}, {\"year\": 1965, \"country\": \"Iceland\", \"cluster\": 1, \"pop\": 192288, \"life_expect\": 73.73, \"fertility\": 3.154}, {\"year\": 1970, \"country\": \"Iceland\", \"cluster\": 1, \"pop\": 204104, \"life_expect\": 74.46, \"fertility\": 2.843}, {\"year\": 1975, \"country\": \"Iceland\", \"cluster\": 1, \"pop\": 218031, \"life_expect\": 76.11, \"fertility\": 2.287}, {\"year\": 1980, \"country\": \"Iceland\", \"cluster\": 1, \"pop\": 228161, \"life_expect\": 76.99, \"fertility\": 2.248}, {\"year\": 1985, \"country\": \"Iceland\", \"cluster\": 1, \"pop\": 241403, \"life_expect\": 77.23, \"fertility\": 2.116}, {\"year\": 1990, \"country\": \"Iceland\", \"cluster\": 1, \"pop\": 254719, \"life_expect\": 78.77, \"fertility\": 2.194}, {\"year\": 1995, \"country\": \"Iceland\", \"cluster\": 1, \"pop\": 267527, \"life_expect\": 78.95, \"fertility\": 2.056}, {\"year\": 2000, \"country\": \"Iceland\", \"cluster\": 1, \"pop\": 281043, \"life_expect\": 80.5, \"fertility\": 1.9929999999999999}, {\"year\": 2005, \"country\": \"Iceland\", \"cluster\": 1, \"pop\": 296737, \"life_expect\": 81.757, \"fertility\": 2.052}, {\"year\": 1955, \"country\": \"India\", \"cluster\": 0, \"pop\": 393000000, \"life_expect\": 40.249, \"fertility\": 5.8961}, {\"year\": 1960, \"country\": \"India\", \"cluster\": 0, \"pop\": 434000000, \"life_expect\": 43.605, \"fertility\": 5.8216}, {\"year\": 1965, \"country\": \"India\", \"cluster\": 0, \"pop\": 485000000, \"life_expect\": 47.193, \"fertility\": 5.6058}, {\"year\": 1970, \"country\": \"India\", \"cluster\": 0, \"pop\": 541000000, \"life_expect\": 50.651, \"fertility\": 5.264}, {\"year\": 1975, \"country\": \"India\", \"cluster\": 0, \"pop\": 607000000, \"life_expect\": 54.208, \"fertility\": 4.8888}, {\"year\": 1980, \"country\": \"India\", \"cluster\": 0, \"pop\": 679000000, \"life_expect\": 56.596, \"fertility\": 4.4975}, {\"year\": 1985, \"country\": \"India\", \"cluster\": 0, \"pop\": 755000000, \"life_expect\": 58.553, \"fertility\": 4.15}, {\"year\": 1990, \"country\": \"India\", \"cluster\": 0, \"pop\": 839000000, \"life_expect\": 60.223, \"fertility\": 3.8648}, {\"year\": 1995, \"country\": \"India\", \"cluster\": 0, \"pop\": 927000000, \"life_expect\": 61.765, \"fertility\": 3.4551}, {\"year\": 2000, \"country\": \"India\", \"cluster\": 0, \"pop\": 1007702000, \"life_expect\": 62.879, \"fertility\": 3.1132}, {\"year\": 2005, \"country\": \"India\", \"cluster\": 0, \"pop\": 1080264388, \"life_expect\": 64.698, \"fertility\": 2.8073}, {\"year\": 1955, \"country\": \"Indonesia\", \"cluster\": 4, \"pop\": 86807000, \"life_expect\": 39.918, \"fertility\": 5.672}, {\"year\": 1960, \"country\": \"Indonesia\", \"cluster\": 4, \"pop\": 95254000, \"life_expect\": 42.518, \"fertility\": 5.62}, {\"year\": 1965, \"country\": \"Indonesia\", \"cluster\": 4, \"pop\": 105093000, \"life_expect\": 45.964, \"fertility\": 5.568}, {\"year\": 1970, \"country\": \"Indonesia\", \"cluster\": 4, \"pop\": 116044000, \"life_expect\": 49.203, \"fertility\": 5.3}, {\"year\": 1975, \"country\": \"Indonesia\", \"cluster\": 4, \"pop\": 130297000, \"life_expect\": 52.702, \"fertility\": 4.73}, {\"year\": 1980, \"country\": \"Indonesia\", \"cluster\": 4, \"pop\": 146995000, \"life_expect\": 56.159, \"fertility\": 4.109}, {\"year\": 1985, \"country\": \"Indonesia\", \"cluster\": 4, \"pop\": 163403000, \"life_expect\": 60.137, \"fertility\": 3.4}, {\"year\": 1990, \"country\": \"Indonesia\", \"cluster\": 4, \"pop\": 178500000, \"life_expect\": 62.681, \"fertility\": 2.9}, {\"year\": 1995, \"country\": \"Indonesia\", \"cluster\": 4, \"pop\": 194755000, \"life_expect\": 66.041, \"fertility\": 2.55}, {\"year\": 2000, \"country\": \"Indonesia\", \"cluster\": 4, \"pop\": 206265000, \"life_expect\": 68.588, \"fertility\": 2.3761}, {\"year\": 2005, \"country\": \"Indonesia\", \"cluster\": 4, \"pop\": 218465000, \"life_expect\": 70.65, \"fertility\": 2.182}, {\"year\": 1955, \"country\": \"Iran\", \"cluster\": 5, \"pop\": 18729000, \"life_expect\": 47.181, \"fertility\": 7.0}, {\"year\": 1960, \"country\": \"Iran\", \"cluster\": 5, \"pop\": 21577000, \"life_expect\": 49.325, \"fertility\": 7.0}, {\"year\": 1965, \"country\": \"Iran\", \"cluster\": 5, \"pop\": 25000000, \"life_expect\": 52.469, \"fertility\": 6.8}, {\"year\": 1970, \"country\": \"Iran\", \"cluster\": 5, \"pop\": 28933000, \"life_expect\": 55.234, \"fertility\": 6.4}, {\"year\": 1975, \"country\": \"Iran\", \"cluster\": 5, \"pop\": 33379000, \"life_expect\": 57.702, \"fertility\": 6.5}, {\"year\": 1980, \"country\": \"Iran\", \"cluster\": 5, \"pop\": 39583397, \"life_expect\": 59.62, \"fertility\": 6.63}, {\"year\": 1985, \"country\": \"Iran\", \"cluster\": 5, \"pop\": 48439952, \"life_expect\": 63.04, \"fertility\": 5.62}, {\"year\": 1990, \"country\": \"Iran\", \"cluster\": 5, \"pop\": 57035717, \"life_expect\": 65.742, \"fertility\": 4.328}, {\"year\": 1995, \"country\": \"Iran\", \"cluster\": 5, \"pop\": 61628116, \"life_expect\": 68.042, \"fertility\": 2.534}, {\"year\": 2000, \"country\": \"Iran\", \"cluster\": 5, \"pop\": 65660289, \"life_expect\": 69.451, \"fertility\": 2.124}, {\"year\": 2005, \"country\": \"Iran\", \"cluster\": 5, \"pop\": 68017860, \"life_expect\": 70.964, \"fertility\": 2.04}, {\"year\": 1955, \"country\": \"Iraq\", \"cluster\": 5, \"pop\": 5903253, \"life_expect\": 48.437, \"fertility\": 7.3}, {\"year\": 1960, \"country\": \"Iraq\", \"cluster\": 5, \"pop\": 6822030, \"life_expect\": 51.457, \"fertility\": 7.25}, {\"year\": 1965, \"country\": \"Iraq\", \"cluster\": 5, \"pop\": 7970746, \"life_expect\": 54.459, \"fertility\": 7.2}, {\"year\": 1970, \"country\": \"Iraq\", \"cluster\": 5, \"pop\": 9413671, \"life_expect\": 56.95, \"fertility\": 7.15}, {\"year\": 1975, \"country\": \"Iraq\", \"cluster\": 5, \"pop\": 11117804, \"life_expect\": 60.413, \"fertility\": 6.8}, {\"year\": 1980, \"country\": \"Iraq\", \"cluster\": 5, \"pop\": 13232839, \"life_expect\": 62.038, \"fertility\": 6.35}, {\"year\": 1985, \"country\": \"Iraq\", \"cluster\": 5, \"pop\": 15693620, \"life_expect\": 65.044, \"fertility\": 6.15}, {\"year\": 1990, \"country\": \"Iraq\", \"cluster\": 5, \"pop\": 18134702, \"life_expect\": 59.461, \"fertility\": 5.7}, {\"year\": 1995, \"country\": \"Iraq\", \"cluster\": 5, \"pop\": 19557247, \"life_expect\": 58.811, \"fertility\": 5.37}, {\"year\": 2000, \"country\": \"Iraq\", \"cluster\": 5, \"pop\": 22675617, \"life_expect\": 57.046, \"fertility\": 4.858}, {\"year\": 2005, \"country\": \"Iraq\", \"cluster\": 5, \"pop\": 26074906, \"life_expect\": 59.545, \"fertility\": 4.264}, {\"year\": 1955, \"country\": \"Ireland\", \"cluster\": 1, \"pop\": 2916133, \"life_expect\": 68.9, \"fertility\": 3.68}, {\"year\": 1960, \"country\": \"Ireland\", \"cluster\": 1, \"pop\": 2832000, \"life_expect\": 70.29, \"fertility\": 3.979}, {\"year\": 1965, \"country\": \"Ireland\", \"cluster\": 1, \"pop\": 2876000, \"life_expect\": 71.08, \"fertility\": 3.873}, {\"year\": 1970, \"country\": \"Ireland\", \"cluster\": 1, \"pop\": 2950100, \"life_expect\": 71.28, \"fertility\": 3.815}, {\"year\": 1975, \"country\": \"Ireland\", \"cluster\": 1, \"pop\": 3177300, \"life_expect\": 72.03, \"fertility\": 3.478}, {\"year\": 1980, \"country\": \"Ireland\", \"cluster\": 1, \"pop\": 3401000, \"life_expect\": 73.1, \"fertility\": 2.877}, {\"year\": 1985, \"country\": \"Ireland\", \"cluster\": 1, \"pop\": 3540000, \"life_expect\": 74.36, \"fertility\": 2.287}, {\"year\": 1990, \"country\": \"Ireland\", \"cluster\": 1, \"pop\": 3508200, \"life_expect\": 75.467, \"fertility\": 1.9689999999999999}, {\"year\": 1995, \"country\": \"Ireland\", \"cluster\": 1, \"pop\": 3613890, \"life_expect\": 76.122, \"fertility\": 1.9}, {\"year\": 2000, \"country\": \"Ireland\", \"cluster\": 1, \"pop\": 3791690, \"life_expect\": 77.783, \"fertility\": 1.9689999999999999}, {\"year\": 2005, \"country\": \"Ireland\", \"cluster\": 1, \"pop\": 4015676, \"life_expect\": 78.885, \"fertility\": 1.964}, {\"year\": 1955, \"country\": \"Israel\", \"cluster\": 5, \"pop\": 1772032, \"life_expect\": 67.84, \"fertility\": 3.893}, {\"year\": 1960, \"country\": \"Israel\", \"cluster\": 5, \"pop\": 2141495, \"life_expect\": 69.39, \"fertility\": 3.852}, {\"year\": 1965, \"country\": \"Israel\", \"cluster\": 5, \"pop\": 2578184, \"life_expect\": 70.75, \"fertility\": 3.79}, {\"year\": 1970, \"country\": \"Israel\", \"cluster\": 5, \"pop\": 2903434, \"life_expect\": 71.63, \"fertility\": 3.77}, {\"year\": 1975, \"country\": \"Israel\", \"cluster\": 5, \"pop\": 3354242, \"life_expect\": 73.06, \"fertility\": 3.409}, {\"year\": 1980, \"country\": \"Israel\", \"cluster\": 5, \"pop\": 3737473, \"life_expect\": 74.45, \"fertility\": 3.125}, {\"year\": 1985, \"country\": \"Israel\", \"cluster\": 5, \"pop\": 4074965, \"life_expect\": 75.6, \"fertility\": 3.051}, {\"year\": 1990, \"country\": \"Israel\", \"cluster\": 5, \"pop\": 4512068, \"life_expect\": 76.93, \"fertility\": 2.933}, {\"year\": 1995, \"country\": \"Israel\", \"cluster\": 5, \"pop\": 5305120, \"life_expect\": 78.269, \"fertility\": 2.942}, {\"year\": 2000, \"country\": \"Israel\", \"cluster\": 5, \"pop\": 5842454, \"life_expect\": 79.696, \"fertility\": 2.906}, {\"year\": 2005, \"country\": \"Israel\", \"cluster\": 5, \"pop\": 6276883, \"life_expect\": 80.745, \"fertility\": 2.75}, {\"year\": 1955, \"country\": \"Italy\", \"cluster\": 1, \"pop\": 48633000, \"life_expect\": 67.81, \"fertility\": 2.35}, {\"year\": 1960, \"country\": \"Italy\", \"cluster\": 1, \"pop\": 50197600, \"life_expect\": 69.24, \"fertility\": 2.498}, {\"year\": 1965, \"country\": \"Italy\", \"cluster\": 1, \"pop\": 51987100, \"life_expect\": 71.06, \"fertility\": 2.493}, {\"year\": 1970, \"country\": \"Italy\", \"cluster\": 1, \"pop\": 53661100, \"life_expect\": 72.19, \"fertility\": 2.325}, {\"year\": 1975, \"country\": \"Italy\", \"cluster\": 1, \"pop\": 55571894, \"life_expect\": 73.48, \"fertility\": 1.889}, {\"year\": 1980, \"country\": \"Italy\", \"cluster\": 1, \"pop\": 56451247, \"life_expect\": 74.98, \"fertility\": 1.53}, {\"year\": 1985, \"country\": \"Italy\", \"cluster\": 1, \"pop\": 56731215, \"life_expect\": 76.42, \"fertility\": 1.349}, {\"year\": 1990, \"country\": \"Italy\", \"cluster\": 1, \"pop\": 56742886, \"life_expect\": 77.44, \"fertility\": 1.275}, {\"year\": 1995, \"country\": \"Italy\", \"cluster\": 1, \"pop\": 57274531, \"life_expect\": 78.82, \"fertility\": 1.213}, {\"year\": 2000, \"country\": \"Italy\", \"cluster\": 1, \"pop\": 57719337, \"life_expect\": 80.24, \"fertility\": 1.286}, {\"year\": 2005, \"country\": \"Italy\", \"cluster\": 1, \"pop\": 58103033, \"life_expect\": 80.546, \"fertility\": 1.379}, {\"year\": 1955, \"country\": \"Jamaica\", \"cluster\": 3, \"pop\": 1488805, \"life_expect\": 62.61, \"fertility\": 5.08}, {\"year\": 1960, \"country\": \"Jamaica\", \"cluster\": 3, \"pop\": 1631784, \"life_expect\": 65.61, \"fertility\": 5.64}, {\"year\": 1965, \"country\": \"Jamaica\", \"cluster\": 3, \"pop\": 1777397, \"life_expect\": 67.51, \"fertility\": 5.78}, {\"year\": 1970, \"country\": \"Jamaica\", \"cluster\": 3, \"pop\": 1943787, \"life_expect\": 69.0, \"fertility\": 5.0}, {\"year\": 1975, \"country\": \"Jamaica\", \"cluster\": 3, \"pop\": 2104879, \"life_expect\": 70.11, \"fertility\": 4.0}, {\"year\": 1980, \"country\": \"Jamaica\", \"cluster\": 3, \"pop\": 2228803, \"life_expect\": 71.21, \"fertility\": 3.55}, {\"year\": 1985, \"country\": \"Jamaica\", \"cluster\": 3, \"pop\": 2318652, \"life_expect\": 71.77, \"fertility\": 3.1}, {\"year\": 1990, \"country\": \"Jamaica\", \"cluster\": 3, \"pop\": 2347922, \"life_expect\": 71.766, \"fertility\": 2.84}, {\"year\": 1995, \"country\": \"Jamaica\", \"cluster\": 3, \"pop\": 2469389, \"life_expect\": 72.262, \"fertility\": 2.67}, {\"year\": 2000, \"country\": \"Jamaica\", \"cluster\": 3, \"pop\": 2615467, \"life_expect\": 72.047, \"fertility\": 2.628}, {\"year\": 2005, \"country\": \"Jamaica\", \"cluster\": 3, \"pop\": 2735520, \"life_expect\": 72.567, \"fertility\": 2.4289}, {\"year\": 1955, \"country\": \"Japan\", \"cluster\": 4, \"pop\": 89815060, \"life_expect\": 65.5, \"fertility\": 2.08}, {\"year\": 1960, \"country\": \"Japan\", \"cluster\": 4, \"pop\": 94091638, \"life_expect\": 68.73, \"fertility\": 2.02}, {\"year\": 1965, \"country\": \"Japan\", \"cluster\": 4, \"pop\": 98882534, \"life_expect\": 71.43, \"fertility\": 2.0}, {\"year\": 1970, \"country\": \"Japan\", \"cluster\": 4, \"pop\": 104344973, \"life_expect\": 73.42, \"fertility\": 2.07}, {\"year\": 1975, \"country\": \"Japan\", \"cluster\": 4, \"pop\": 111573116, \"life_expect\": 75.38, \"fertility\": 1.81}, {\"year\": 1980, \"country\": \"Japan\", \"cluster\": 4, \"pop\": 116807309, \"life_expect\": 77.11, \"fertility\": 1.76}, {\"year\": 1985, \"country\": \"Japan\", \"cluster\": 4, \"pop\": 120754335, \"life_expect\": 78.67, \"fertility\": 1.6600000000000001}, {\"year\": 1990, \"country\": \"Japan\", \"cluster\": 4, \"pop\": 123537399, \"life_expect\": 79.36, \"fertility\": 1.49}, {\"year\": 1995, \"country\": \"Japan\", \"cluster\": 4, \"pop\": 125341354, \"life_expect\": 80.69, \"fertility\": 1.3900000000000001}, {\"year\": 2000, \"country\": \"Japan\", \"cluster\": 4, \"pop\": 126699784, \"life_expect\": 82.0, \"fertility\": 1.291}, {\"year\": 2005, \"country\": \"Japan\", \"cluster\": 4, \"pop\": 127417244, \"life_expect\": 82.603, \"fertility\": 1.27}, {\"year\": 1955, \"country\": \"Kenya\", \"cluster\": 2, \"pop\": 7033999, \"life_expect\": 44.686, \"fertility\": 7.816}, {\"year\": 1960, \"country\": \"Kenya\", \"cluster\": 2, \"pop\": 8156827, \"life_expect\": 47.949, \"fertility\": 8.12}, {\"year\": 1965, \"country\": \"Kenya\", \"cluster\": 2, \"pop\": 9549179, \"life_expect\": 50.654, \"fertility\": 8.12}, {\"year\": 1970, \"country\": \"Kenya\", \"cluster\": 2, \"pop\": 11247182, \"life_expect\": 53.559, \"fertility\": 8.0}, {\"year\": 1975, \"country\": \"Kenya\", \"cluster\": 2, \"pop\": 13433414, \"life_expect\": 56.155, \"fertility\": 7.6}, {\"year\": 1980, \"country\": \"Kenya\", \"cluster\": 2, \"pop\": 16331401, \"life_expect\": 58.766, \"fertility\": 7.2}, {\"year\": 1985, \"country\": \"Kenya\", \"cluster\": 2, \"pop\": 19763285, \"life_expect\": 59.339, \"fertility\": 6.5}, {\"year\": 1990, \"country\": \"Kenya\", \"cluster\": 2, \"pop\": 23358413, \"life_expect\": 59.285, \"fertility\": 5.4}, {\"year\": 1995, \"country\": \"Kenya\", \"cluster\": 2, \"pop\": 27060142, \"life_expect\": 54.407, \"fertility\": 5.0}, {\"year\": 2000, \"country\": \"Kenya\", \"cluster\": 2, \"pop\": 29985839, \"life_expect\": 50.992, \"fertility\": 5.0}, {\"year\": 2005, \"country\": \"Kenya\", \"cluster\": 2, \"pop\": 33829590, \"life_expect\": 54.11, \"fertility\": 4.959}, {\"year\": 1955, \"country\": \"South Korea\", \"cluster\": 4, \"pop\": 8839427, \"life_expect\": 54.081, \"fertility\": 3.8}, {\"year\": 1960, \"country\": \"South Korea\", \"cluster\": 4, \"pop\": 10391909, \"life_expect\": 56.656, \"fertility\": 3.41}, {\"year\": 1965, \"country\": \"South Korea\", \"cluster\": 4, \"pop\": 11868751, \"life_expect\": 59.942, \"fertility\": 4.09}, {\"year\": 1970, \"country\": \"South Korea\", \"cluster\": 4, \"pop\": 13911902, \"life_expect\": 63.983, \"fertility\": 3.7199999999999998}, {\"year\": 1975, \"country\": \"South Korea\", \"cluster\": 4, \"pop\": 15801308, \"life_expect\": 67.159, \"fertility\": 2.58}, {\"year\": 1980, \"country\": \"South Korea\", \"cluster\": 4, \"pop\": 17113626, \"life_expect\": 69.1, \"fertility\": 2.93}, {\"year\": 1985, \"country\": \"South Korea\", \"cluster\": 4, \"pop\": 18481420, \"life_expect\": 70.647, \"fertility\": 2.45}, {\"year\": 1990, \"country\": \"South Korea\", \"cluster\": 4, \"pop\": 20018546, \"life_expect\": 69.978, \"fertility\": 2.35}, {\"year\": 1995, \"country\": \"South Korea\", \"cluster\": 4, \"pop\": 21561856, \"life_expect\": 67.727, \"fertility\": 2.0938}, {\"year\": 2000, \"country\": \"South Korea\", \"cluster\": 4, \"pop\": 21647682, \"life_expect\": 66.662, \"fertility\": 1.9173}, {\"year\": 2005, \"country\": \"South Korea\", \"cluster\": 4, \"pop\": 22912177, \"life_expect\": 67.297, \"fertility\": 1.85}, {\"year\": 1955, \"country\": \"North Korea\", \"cluster\": 4, \"pop\": 21551834, \"life_expect\": 52.681, \"fertility\": 6.332}, {\"year\": 1960, \"country\": \"North Korea\", \"cluster\": 4, \"pop\": 24784140, \"life_expect\": 55.292, \"fertility\": 5.63}, {\"year\": 1965, \"country\": \"North Korea\", \"cluster\": 4, \"pop\": 28705000, \"life_expect\": 57.716, \"fertility\": 4.708}, {\"year\": 1970, \"country\": \"North Korea\", \"cluster\": 4, \"pop\": 32241000, \"life_expect\": 62.612, \"fertility\": 4.281}, {\"year\": 1975, \"country\": \"North Korea\", \"cluster\": 4, \"pop\": 35281000, \"life_expect\": 64.766, \"fertility\": 2.919}, {\"year\": 1980, \"country\": \"North Korea\", \"cluster\": 4, \"pop\": 38124000, \"life_expect\": 67.123, \"fertility\": 2.234}, {\"year\": 1985, \"country\": \"North Korea\", \"cluster\": 4, \"pop\": 40806000, \"life_expect\": 69.81, \"fertility\": 1.601}, {\"year\": 1990, \"country\": \"North Korea\", \"cluster\": 4, \"pop\": 42869000, \"life_expect\": 72.244, \"fertility\": 1.6960000000000002}, {\"year\": 1995, \"country\": \"North Korea\", \"cluster\": 4, \"pop\": 45264146, \"life_expect\": 74.647, \"fertility\": 1.514}, {\"year\": 2000, \"country\": \"North Korea\", \"cluster\": 4, \"pop\": 47351083, \"life_expect\": 77.045, \"fertility\": 1.242}, {\"year\": 2005, \"country\": \"North Korea\", \"cluster\": 4, \"pop\": 48640671, \"life_expect\": 78.623, \"fertility\": 1.21}, {\"year\": 1955, \"country\": \"Lebanon\", \"cluster\": 5, \"pop\": 1560985, \"life_expect\": 59.489, \"fertility\": 5.72}, {\"year\": 1960, \"country\": \"Lebanon\", \"cluster\": 5, \"pop\": 1786235, \"life_expect\": 62.094, \"fertility\": 5.689}, {\"year\": 1965, \"country\": \"Lebanon\", \"cluster\": 5, \"pop\": 2057945, \"life_expect\": 63.87, \"fertility\": 5.336}, {\"year\": 1970, \"country\": \"Lebanon\", \"cluster\": 5, \"pop\": 2383029, \"life_expect\": 65.421, \"fertility\": 4.78}, {\"year\": 1975, \"country\": \"Lebanon\", \"cluster\": 5, \"pop\": 3098159, \"life_expect\": 66.099, \"fertility\": 4.311}, {\"year\": 1980, \"country\": \"Lebanon\", \"cluster\": 5, \"pop\": 3085876, \"life_expect\": 66.983, \"fertility\": 3.895}, {\"year\": 1985, \"country\": \"Lebanon\", \"cluster\": 5, \"pop\": 3088235, \"life_expect\": 67.926, \"fertility\": 3.313}, {\"year\": 1990, \"country\": \"Lebanon\", \"cluster\": 5, \"pop\": 3147267, \"life_expect\": 69.292, \"fertility\": 3.0}, {\"year\": 1995, \"country\": \"Lebanon\", \"cluster\": 5, \"pop\": 3334733, \"life_expect\": 70.265, \"fertility\": 2.6950000000000003}, {\"year\": 2000, \"country\": \"Lebanon\", \"cluster\": 5, \"pop\": 3578036, \"life_expect\": 71.028, \"fertility\": 2.319}, {\"year\": 2005, \"country\": \"Lebanon\", \"cluster\": 5, \"pop\": 3826018, \"life_expect\": 71.993, \"fertility\": 2.209}, {\"year\": 1955, \"country\": \"Mexico\", \"cluster\": 3, \"pop\": 32929914, \"life_expect\": 55.19, \"fertility\": 6.8}, {\"year\": 1960, \"country\": \"Mexico\", \"cluster\": 3, \"pop\": 38578505, \"life_expect\": 58.299, \"fertility\": 6.7495}, {\"year\": 1965, \"country\": \"Mexico\", \"cluster\": 3, \"pop\": 45142399, \"life_expect\": 60.11, \"fertility\": 6.7495}, {\"year\": 1970, \"country\": \"Mexico\", \"cluster\": 3, \"pop\": 52775158, \"life_expect\": 62.361, \"fertility\": 6.5}, {\"year\": 1975, \"country\": \"Mexico\", \"cluster\": 3, \"pop\": 60678045, \"life_expect\": 65.032, \"fertility\": 5.2505}, {\"year\": 1980, \"country\": \"Mexico\", \"cluster\": 3, \"pop\": 68347479, \"life_expect\": 67.405, \"fertility\": 4.25}, {\"year\": 1985, \"country\": \"Mexico\", \"cluster\": 3, \"pop\": 76767225, \"life_expect\": 69.498, \"fertility\": 3.6295}, {\"year\": 1990, \"country\": \"Mexico\", \"cluster\": 3, \"pop\": 84913652, \"life_expect\": 71.455, \"fertility\": 3.1905}, {\"year\": 1995, \"country\": \"Mexico\", \"cluster\": 3, \"pop\": 92880353, \"life_expect\": 73.67, \"fertility\": 2.6705}, {\"year\": 2000, \"country\": \"Mexico\", \"cluster\": 3, \"pop\": 99926620, \"life_expect\": 74.902, \"fertility\": 2.4005}, {\"year\": 2005, \"country\": \"Mexico\", \"cluster\": 3, \"pop\": 106202903, \"life_expect\": 76.195, \"fertility\": 2.211}, {\"year\": 1955, \"country\": \"Netherlands\", \"cluster\": 1, \"pop\": 10750842, \"life_expect\": 72.99, \"fertility\": 3.095}, {\"year\": 1960, \"country\": \"Netherlands\", \"cluster\": 1, \"pop\": 11486000, \"life_expect\": 73.23, \"fertility\": 3.168}, {\"year\": 1965, \"country\": \"Netherlands\", \"cluster\": 1, \"pop\": 12292000, \"life_expect\": 73.82, \"fertility\": 2.797}, {\"year\": 1970, \"country\": \"Netherlands\", \"cluster\": 1, \"pop\": 13032335, \"life_expect\": 73.75, \"fertility\": 2.059}, {\"year\": 1975, \"country\": \"Netherlands\", \"cluster\": 1, \"pop\": 13653438, \"life_expect\": 75.24, \"fertility\": 1.596}, {\"year\": 1980, \"country\": \"Netherlands\", \"cluster\": 1, \"pop\": 14143901, \"life_expect\": 76.05, \"fertility\": 1.5150000000000001}, {\"year\": 1985, \"country\": \"Netherlands\", \"cluster\": 1, \"pop\": 14491380, \"life_expect\": 76.83, \"fertility\": 1.5550000000000002}, {\"year\": 1990, \"country\": \"Netherlands\", \"cluster\": 1, \"pop\": 14951510, \"life_expect\": 77.42, \"fertility\": 1.583}, {\"year\": 1995, \"country\": \"Netherlands\", \"cluster\": 1, \"pop\": 15459054, \"life_expect\": 78.03, \"fertility\": 1.6}, {\"year\": 2000, \"country\": \"Netherlands\", \"cluster\": 1, \"pop\": 15907853, \"life_expect\": 78.53, \"fertility\": 1.726}, {\"year\": 2005, \"country\": \"Netherlands\", \"cluster\": 1, \"pop\": 16407491, \"life_expect\": 79.762, \"fertility\": 1.721}, {\"year\": 1955, \"country\": \"New Zealand\", \"cluster\": 4, \"pop\": 2136168, \"life_expect\": 70.26, \"fertility\": 4.07}, {\"year\": 1960, \"country\": \"New Zealand\", \"cluster\": 4, \"pop\": 2371746, \"life_expect\": 71.24, \"fertility\": 4.022}, {\"year\": 1965, \"country\": \"New Zealand\", \"cluster\": 4, \"pop\": 2640400, \"life_expect\": 71.52, \"fertility\": 3.348}, {\"year\": 1970, \"country\": \"New Zealand\", \"cluster\": 4, \"pop\": 2828050, \"life_expect\": 71.89, \"fertility\": 2.843}, {\"year\": 1975, \"country\": \"New Zealand\", \"cluster\": 4, \"pop\": 3117800, \"life_expect\": 72.22, \"fertility\": 2.178}, {\"year\": 1980, \"country\": \"New Zealand\", \"cluster\": 4, \"pop\": 3170150, \"life_expect\": 73.84, \"fertility\": 1.963}, {\"year\": 1985, \"country\": \"New Zealand\", \"cluster\": 4, \"pop\": 3298050, \"life_expect\": 74.32, \"fertility\": 2.053}, {\"year\": 1990, \"country\": \"New Zealand\", \"cluster\": 4, \"pop\": 3359604, \"life_expect\": 76.33, \"fertility\": 2.061}, {\"year\": 1995, \"country\": \"New Zealand\", \"cluster\": 4, \"pop\": 3565990, \"life_expect\": 77.55, \"fertility\": 1.952}, {\"year\": 2000, \"country\": \"New Zealand\", \"cluster\": 4, \"pop\": 3819762, \"life_expect\": 79.11, \"fertility\": 1.964}, {\"year\": 2005, \"country\": \"New Zealand\", \"cluster\": 4, \"pop\": 4035461, \"life_expect\": 80.204, \"fertility\": 1.994}, {\"year\": 1955, \"country\": \"Nigeria\", \"cluster\": 2, \"pop\": 35458978, \"life_expect\": 37.802, \"fertility\": 6.9}, {\"year\": 1960, \"country\": \"Nigeria\", \"cluster\": 2, \"pop\": 39914593, \"life_expect\": 39.36, \"fertility\": 6.9}, {\"year\": 1965, \"country\": \"Nigeria\", \"cluster\": 2, \"pop\": 45020052, \"life_expect\": 41.04, \"fertility\": 6.9}, {\"year\": 1970, \"country\": \"Nigeria\", \"cluster\": 2, \"pop\": 51027516, \"life_expect\": 42.821, \"fertility\": 6.9}, {\"year\": 1975, \"country\": \"Nigeria\", \"cluster\": 2, \"pop\": 58522112, \"life_expect\": 44.514, \"fertility\": 6.9}, {\"year\": 1980, \"country\": \"Nigeria\", \"cluster\": 2, \"pop\": 68550274, \"life_expect\": 45.826, \"fertility\": 6.9}, {\"year\": 1985, \"country\": \"Nigeria\", \"cluster\": 2, \"pop\": 77573154, \"life_expect\": 46.886, \"fertility\": 6.834}, {\"year\": 1990, \"country\": \"Nigeria\", \"cluster\": 2, \"pop\": 88510354, \"life_expect\": 47.472, \"fertility\": 6.635}, {\"year\": 1995, \"country\": \"Nigeria\", \"cluster\": 2, \"pop\": 100960105, \"life_expect\": 47.464, \"fertility\": 6.246}, {\"year\": 2000, \"country\": \"Nigeria\", \"cluster\": 2, \"pop\": 114306700, \"life_expect\": 46.608, \"fertility\": 5.845}, {\"year\": 2005, \"country\": \"Nigeria\", \"cluster\": 2, \"pop\": 128765768, \"life_expect\": 46.859, \"fertility\": 5.322}, {\"year\": 1955, \"country\": \"Norway\", \"cluster\": 1, \"pop\": 3427409, \"life_expect\": 73.44, \"fertility\": 2.8369999999999997}, {\"year\": 1960, \"country\": \"Norway\", \"cluster\": 1, \"pop\": 3581239, \"life_expect\": 73.47, \"fertility\": 2.898}, {\"year\": 1965, \"country\": \"Norway\", \"cluster\": 1, \"pop\": 3723153, \"life_expect\": 74.08, \"fertility\": 2.719}, {\"year\": 1970, \"country\": \"Norway\", \"cluster\": 1, \"pop\": 3877386, \"life_expect\": 74.34, \"fertility\": 2.248}, {\"year\": 1975, \"country\": \"Norway\", \"cluster\": 1, \"pop\": 4007313, \"life_expect\": 75.37, \"fertility\": 1.81}, {\"year\": 1980, \"country\": \"Norway\", \"cluster\": 1, \"pop\": 4085620, \"life_expect\": 75.97, \"fertility\": 1.687}, {\"year\": 1985, \"country\": \"Norway\", \"cluster\": 1, \"pop\": 4152419, \"life_expect\": 75.89, \"fertility\": 1.8}, {\"year\": 1990, \"country\": \"Norway\", \"cluster\": 1, \"pop\": 4242006, \"life_expect\": 77.32, \"fertility\": 1.8860000000000001}, {\"year\": 1995, \"country\": \"Norway\", \"cluster\": 1, \"pop\": 4359101, \"life_expect\": 78.32, \"fertility\": 1.853}, {\"year\": 2000, \"country\": \"Norway\", \"cluster\": 1, \"pop\": 4492400, \"life_expect\": 79.05, \"fertility\": 1.8010000000000002}, {\"year\": 2005, \"country\": \"Norway\", \"cluster\": 1, \"pop\": 4593041, \"life_expect\": 80.196, \"fertility\": 1.8479999999999999}, {\"year\": 1955, \"country\": \"Pakistan\", \"cluster\": 0, \"pop\": 44434445, \"life_expect\": 45.557, \"fertility\": 6.6}, {\"year\": 1960, \"country\": \"Pakistan\", \"cluster\": 0, \"pop\": 50386898, \"life_expect\": 47.67, \"fertility\": 6.6}, {\"year\": 1965, \"country\": \"Pakistan\", \"cluster\": 0, \"pop\": 57494940, \"life_expect\": 49.8, \"fertility\": 6.6}, {\"year\": 1970, \"country\": \"Pakistan\", \"cluster\": 0, \"pop\": 65705964, \"life_expect\": 51.929, \"fertility\": 6.6}, {\"year\": 1975, \"country\": \"Pakistan\", \"cluster\": 0, \"pop\": 74711541, \"life_expect\": 54.043, \"fertility\": 6.6}, {\"year\": 1980, \"country\": \"Pakistan\", \"cluster\": 0, \"pop\": 85219117, \"life_expect\": 56.158, \"fertility\": 6.6}, {\"year\": 1985, \"country\": \"Pakistan\", \"cluster\": 0, \"pop\": 99060352, \"life_expect\": 58.245, \"fertility\": 6.66}, {\"year\": 1990, \"country\": \"Pakistan\", \"cluster\": 0, \"pop\": 114578478, \"life_expect\": 60.838, \"fertility\": 5.8}, {\"year\": 1995, \"country\": \"Pakistan\", \"cluster\": 0, \"pop\": 128690285, \"life_expect\": 61.818, \"fertility\": 4.9596}, {\"year\": 2000, \"country\": \"Pakistan\", \"cluster\": 0, \"pop\": 146342958, \"life_expect\": 63.61, \"fertility\": 3.9936}, {\"year\": 2005, \"country\": \"Pakistan\", \"cluster\": 0, \"pop\": 162419946, \"life_expect\": 65.483, \"fertility\": 3.5211}, {\"year\": 1955, \"country\": \"Peru\", \"cluster\": 3, \"pop\": 8671500, \"life_expect\": 46.263, \"fertility\": 6.853}, {\"year\": 1960, \"country\": \"Peru\", \"cluster\": 3, \"pop\": 9931000, \"life_expect\": 49.096, \"fertility\": 6.853}, {\"year\": 1965, \"country\": \"Peru\", \"cluster\": 3, \"pop\": 11467300, \"life_expect\": 51.445, \"fertility\": 6.5600000000000005}, {\"year\": 1970, \"country\": \"Peru\", \"cluster\": 3, \"pop\": 13192800, \"life_expect\": 55.448, \"fertility\": 6.0}, {\"year\": 1975, \"country\": \"Peru\", \"cluster\": 3, \"pop\": 15161199, \"life_expect\": 58.447, \"fertility\": 5.378}, {\"year\": 1980, \"country\": \"Peru\", \"cluster\": 3, \"pop\": 17295298, \"life_expect\": 61.406, \"fertility\": 4.65}, {\"year\": 1985, \"country\": \"Peru\", \"cluster\": 3, \"pop\": 19348926, \"life_expect\": 64.134, \"fertility\": 4.1}, {\"year\": 1990, \"country\": \"Peru\", \"cluster\": 3, \"pop\": 21511443, \"life_expect\": 66.458, \"fertility\": 3.7}, {\"year\": 1995, \"country\": \"Peru\", \"cluster\": 3, \"pop\": 23846388, \"life_expect\": 68.386, \"fertility\": 3.0995}, {\"year\": 2000, \"country\": \"Peru\", \"cluster\": 3, \"pop\": 25979722, \"life_expect\": 69.906, \"fertility\": 2.7005}, {\"year\": 2005, \"country\": \"Peru\", \"cluster\": 3, \"pop\": 27925628, \"life_expect\": 71.421, \"fertility\": 2.5065}, {\"year\": 1955, \"country\": \"Philippines\", \"cluster\": 4, \"pop\": 24553055, \"life_expect\": 51.334, \"fertility\": 7.13}, {\"year\": 1960, \"country\": \"Philippines\", \"cluster\": 4, \"pop\": 28528939, \"life_expect\": 54.757, \"fertility\": 6.85}, {\"year\": 1965, \"country\": \"Philippines\", \"cluster\": 4, \"pop\": 33267569, \"life_expect\": 56.393, \"fertility\": 6.5}, {\"year\": 1970, \"country\": \"Philippines\", \"cluster\": 4, \"pop\": 38603696, \"life_expect\": 58.065, \"fertility\": 6.0}, {\"year\": 1975, \"country\": \"Philippines\", \"cluster\": 4, \"pop\": 44336842, \"life_expect\": 60.06, \"fertility\": 5.5}, {\"year\": 1980, \"country\": \"Philippines\", \"cluster\": 4, \"pop\": 50940182, \"life_expect\": 62.082, \"fertility\": 4.95}, {\"year\": 1985, \"country\": \"Philippines\", \"cluster\": 4, \"pop\": 57288037, \"life_expect\": 64.151, \"fertility\": 4.55}, {\"year\": 1990, \"country\": \"Philippines\", \"cluster\": 4, \"pop\": 64318120, \"life_expect\": 66.458, \"fertility\": 4.143}, {\"year\": 1995, \"country\": \"Philippines\", \"cluster\": 4, \"pop\": 71717437, \"life_expect\": 68.564, \"fertility\": 3.7248}, {\"year\": 2000, \"country\": \"Philippines\", \"cluster\": 4, \"pop\": 79739825, \"life_expect\": 70.303, \"fertility\": 3.5436}, {\"year\": 2005, \"country\": \"Philippines\", \"cluster\": 4, \"pop\": 87857473, \"life_expect\": 71.688, \"fertility\": 3.2327}, {\"year\": 1955, \"country\": \"Poland\", \"cluster\": 1, \"pop\": 27220668, \"life_expect\": 65.77, \"fertility\": 3.29}, {\"year\": 1960, \"country\": \"Poland\", \"cluster\": 1, \"pop\": 29589842, \"life_expect\": 67.64, \"fertility\": 2.65}, {\"year\": 1965, \"country\": \"Poland\", \"cluster\": 1, \"pop\": 31262358, \"life_expect\": 69.61, \"fertility\": 2.27}, {\"year\": 1970, \"country\": \"Poland\", \"cluster\": 1, \"pop\": 32526000, \"life_expect\": 70.85, \"fertility\": 2.25}, {\"year\": 1975, \"country\": \"Poland\", \"cluster\": 1, \"pop\": 33969240, \"life_expect\": 70.67, \"fertility\": 2.26}, {\"year\": 1980, \"country\": \"Poland\", \"cluster\": 1, \"pop\": 35578016, \"life_expect\": 71.32, \"fertility\": 2.33}, {\"year\": 1985, \"country\": \"Poland\", \"cluster\": 1, \"pop\": 37225792, \"life_expect\": 70.98, \"fertility\": 2.15}, {\"year\": 1990, \"country\": \"Poland\", \"cluster\": 1, \"pop\": 38119408, \"life_expect\": 70.99, \"fertility\": 1.8900000000000001}, {\"year\": 1995, \"country\": \"Poland\", \"cluster\": 1, \"pop\": 38600642, \"life_expect\": 72.75, \"fertility\": 1.478}, {\"year\": 2000, \"country\": \"Poland\", \"cluster\": 1, \"pop\": 38654164, \"life_expect\": 74.67, \"fertility\": 1.251}, {\"year\": 2005, \"country\": \"Poland\", \"cluster\": 1, \"pop\": 38557984, \"life_expect\": 75.563, \"fertility\": 1.227}, {\"year\": 1955, \"country\": \"Portugal\", \"cluster\": 1, \"pop\": 8692600, \"life_expect\": 61.51, \"fertility\": 3.03}, {\"year\": 1960, \"country\": \"Portugal\", \"cluster\": 1, \"pop\": 9036700, \"life_expect\": 64.39, \"fertility\": 3.074}, {\"year\": 1965, \"country\": \"Portugal\", \"cluster\": 1, \"pop\": 9128850, \"life_expect\": 66.6, \"fertility\": 2.849}, {\"year\": 1970, \"country\": \"Portugal\", \"cluster\": 1, \"pop\": 9044200, \"life_expect\": 69.26, \"fertility\": 2.748}, {\"year\": 1975, \"country\": \"Portugal\", \"cluster\": 1, \"pop\": 9411090, \"life_expect\": 70.41, \"fertility\": 2.41}, {\"year\": 1980, \"country\": \"Portugal\", \"cluster\": 1, \"pop\": 9777800, \"life_expect\": 72.77, \"fertility\": 1.982}, {\"year\": 1985, \"country\": \"Portugal\", \"cluster\": 1, \"pop\": 9897192, \"life_expect\": 74.06, \"fertility\": 1.5939999999999999}, {\"year\": 1990, \"country\": \"Portugal\", \"cluster\": 1, \"pop\": 9922689, \"life_expect\": 74.86, \"fertility\": 1.516}, {\"year\": 1995, \"country\": \"Portugal\", \"cluster\": 1, \"pop\": 10065543, \"life_expect\": 75.97, \"fertility\": 1.475}, {\"year\": 2000, \"country\": \"Portugal\", \"cluster\": 1, \"pop\": 10335597, \"life_expect\": 77.29, \"fertility\": 1.454}, {\"year\": 2005, \"country\": \"Portugal\", \"cluster\": 1, \"pop\": 10566212, \"life_expect\": 78.098, \"fertility\": 1.455}, {\"year\": 1955, \"country\": \"Rwanda\", \"cluster\": 2, \"pop\": 2698272, \"life_expect\": 41.5, \"fertility\": 8.0}, {\"year\": 1960, \"country\": \"Rwanda\", \"cluster\": 2, \"pop\": 3031804, \"life_expect\": 43.0, \"fertility\": 8.1}, {\"year\": 1965, \"country\": \"Rwanda\", \"cluster\": 2, \"pop\": 3264640, \"life_expect\": 44.1, \"fertility\": 8.2}, {\"year\": 1970, \"country\": \"Rwanda\", \"cluster\": 2, \"pop\": 3769171, \"life_expect\": 44.6, \"fertility\": 8.29}, {\"year\": 1975, \"country\": \"Rwanda\", \"cluster\": 2, \"pop\": 4356863, \"life_expect\": 45.0, \"fertility\": 8.492}, {\"year\": 1980, \"country\": \"Rwanda\", \"cluster\": 2, \"pop\": 5138689, \"life_expect\": 46.218, \"fertility\": 8.5}, {\"year\": 1985, \"country\": \"Rwanda\", \"cluster\": 2, \"pop\": 6009833, \"life_expect\": 44.02, \"fertility\": 8.25}, {\"year\": 1990, \"country\": \"Rwanda\", \"cluster\": 2, \"pop\": 6923738, \"life_expect\": 23.599, \"fertility\": 6.9}, {\"year\": 1995, \"country\": \"Rwanda\", \"cluster\": 2, \"pop\": 5706501, \"life_expect\": 36.087, \"fertility\": 6.0993}, {\"year\": 2000, \"country\": \"Rwanda\", \"cluster\": 2, \"pop\": 7507056, \"life_expect\": 43.413, \"fertility\": 6.01}, {\"year\": 2005, \"country\": \"Rwanda\", \"cluster\": 2, \"pop\": 8440820, \"life_expect\": 46.242, \"fertility\": 5.9169}, {\"year\": 1955, \"country\": \"Saudi Arabia\", \"cluster\": 5, \"pop\": 4243218, \"life_expect\": 42.868, \"fertility\": 7.175}, {\"year\": 1960, \"country\": \"Saudi Arabia\", \"cluster\": 5, \"pop\": 4718301, \"life_expect\": 45.914, \"fertility\": 7.257}, {\"year\": 1965, \"country\": \"Saudi Arabia\", \"cluster\": 5, \"pop\": 5327432, \"life_expect\": 49.901, \"fertility\": 7.257}, {\"year\": 1970, \"country\": \"Saudi Arabia\", \"cluster\": 5, \"pop\": 6109051, \"life_expect\": 53.886, \"fertility\": 7.298}, {\"year\": 1975, \"country\": \"Saudi Arabia\", \"cluster\": 5, \"pop\": 7204820, \"life_expect\": 58.69, \"fertility\": 7.2780000000000005}, {\"year\": 1980, \"country\": \"Saudi Arabia\", \"cluster\": 5, \"pop\": 9999161, \"life_expect\": 63.012, \"fertility\": 7.015}, {\"year\": 1985, \"country\": \"Saudi Arabia\", \"cluster\": 5, \"pop\": 13330067, \"life_expect\": 66.295, \"fertility\": 6.217}, {\"year\": 1990, \"country\": \"Saudi Arabia\", \"cluster\": 5, \"pop\": 16060761, \"life_expect\": 68.768, \"fertility\": 5.446}, {\"year\": 1995, \"country\": \"Saudi Arabia\", \"cluster\": 5, \"pop\": 19966998, \"life_expect\": 70.533, \"fertility\": 4.621}, {\"year\": 2000, \"country\": \"Saudi Arabia\", \"cluster\": 5, \"pop\": 23153090, \"life_expect\": 71.626, \"fertility\": 3.81}, {\"year\": 2005, \"country\": \"Saudi Arabia\", \"cluster\": 5, \"pop\": 26417599, \"life_expect\": 72.777, \"fertility\": 3.352}, {\"year\": 1955, \"country\": \"South Africa\", \"cluster\": 2, \"pop\": 15368551, \"life_expect\": 47.985, \"fertility\": 6.5}, {\"year\": 1960, \"country\": \"South Africa\", \"cluster\": 2, \"pop\": 17416653, \"life_expect\": 49.951, \"fertility\": 6.3}, {\"year\": 1965, \"country\": \"South Africa\", \"cluster\": 2, \"pop\": 19898242, \"life_expect\": 51.927, \"fertility\": 5.7}, {\"year\": 1970, \"country\": \"South Africa\", \"cluster\": 2, \"pop\": 22739921, \"life_expect\": 53.696, \"fertility\": 5.47}, {\"year\": 1975, \"country\": \"South Africa\", \"cluster\": 2, \"pop\": 25815144, \"life_expect\": 55.527, \"fertility\": 5.0}, {\"year\": 1980, \"country\": \"South Africa\", \"cluster\": 2, \"pop\": 29251588, \"life_expect\": 58.161, \"fertility\": 4.556}, {\"year\": 1985, \"country\": \"South Africa\", \"cluster\": 2, \"pop\": 34254092, \"life_expect\": 60.834, \"fertility\": 3.85}, {\"year\": 1990, \"country\": \"South Africa\", \"cluster\": 2, \"pop\": 38391094, \"life_expect\": 61.888, \"fertility\": 3.343}, {\"year\": 1995, \"country\": \"South Africa\", \"cluster\": 2, \"pop\": 41779149, \"life_expect\": 60.236, \"fertility\": 2.954}, {\"year\": 2000, \"country\": \"South Africa\", \"cluster\": 2, \"pop\": 44066197, \"life_expect\": 53.365, \"fertility\": 2.802}, {\"year\": 2005, \"country\": \"South Africa\", \"cluster\": 2, \"pop\": 44344136, \"life_expect\": 49.339, \"fertility\": 2.637}, {\"year\": 1955, \"country\": \"Spain\", \"cluster\": 1, \"pop\": 29318745, \"life_expect\": 66.66, \"fertility\": 2.75}, {\"year\": 1960, \"country\": \"Spain\", \"cluster\": 1, \"pop\": 30641187, \"life_expect\": 69.69, \"fertility\": 2.89}, {\"year\": 1965, \"country\": \"Spain\", \"cluster\": 1, \"pop\": 32084511, \"life_expect\": 71.44, \"fertility\": 2.92}, {\"year\": 1970, \"country\": \"Spain\", \"cluster\": 1, \"pop\": 33876479, \"life_expect\": 73.06, \"fertility\": 2.86}, {\"year\": 1975, \"country\": \"Spain\", \"cluster\": 1, \"pop\": 35563535, \"life_expect\": 74.39, \"fertility\": 2.5700000000000003}, {\"year\": 1980, \"country\": \"Spain\", \"cluster\": 1, \"pop\": 37488360, \"life_expect\": 76.3, \"fertility\": 1.8900000000000001}, {\"year\": 1985, \"country\": \"Spain\", \"cluster\": 1, \"pop\": 38534853, \"life_expect\": 76.9, \"fertility\": 1.48}, {\"year\": 1990, \"country\": \"Spain\", \"cluster\": 1, \"pop\": 39350769, \"life_expect\": 77.57, \"fertility\": 1.27}, {\"year\": 1995, \"country\": \"Spain\", \"cluster\": 1, \"pop\": 39749715, \"life_expect\": 78.77, \"fertility\": 1.182}, {\"year\": 2000, \"country\": \"Spain\", \"cluster\": 1, \"pop\": 40016081, \"life_expect\": 79.78, \"fertility\": 1.287}, {\"year\": 2005, \"country\": \"Spain\", \"cluster\": 1, \"pop\": 40341462, \"life_expect\": 80.941, \"fertility\": 1.409}, {\"year\": 1955, \"country\": \"Switzerland\", \"cluster\": 1, \"pop\": 4980000, \"life_expect\": 70.56, \"fertility\": 2.34}, {\"year\": 1960, \"country\": \"Switzerland\", \"cluster\": 1, \"pop\": 5362000, \"life_expect\": 71.32, \"fertility\": 2.51}, {\"year\": 1965, \"country\": \"Switzerland\", \"cluster\": 1, \"pop\": 5943000, \"life_expect\": 72.77, \"fertility\": 2.27}, {\"year\": 1970, \"country\": \"Switzerland\", \"cluster\": 1, \"pop\": 6267000, \"life_expect\": 73.78, \"fertility\": 1.82}, {\"year\": 1975, \"country\": \"Switzerland\", \"cluster\": 1, \"pop\": 6403500, \"life_expect\": 75.39, \"fertility\": 1.53}, {\"year\": 1980, \"country\": \"Switzerland\", \"cluster\": 1, \"pop\": 6385229, \"life_expect\": 76.21, \"fertility\": 1.53}, {\"year\": 1985, \"country\": \"Switzerland\", \"cluster\": 1, \"pop\": 6563770, \"life_expect\": 77.41, \"fertility\": 1.53}, {\"year\": 1990, \"country\": \"Switzerland\", \"cluster\": 1, \"pop\": 6836626, \"life_expect\": 78.03, \"fertility\": 1.54}, {\"year\": 1995, \"country\": \"Switzerland\", \"cluster\": 1, \"pop\": 7157106, \"life_expect\": 79.37, \"fertility\": 1.47}, {\"year\": 2000, \"country\": \"Switzerland\", \"cluster\": 1, \"pop\": 7266920, \"life_expect\": 80.62, \"fertility\": 1.415}, {\"year\": 2005, \"country\": \"Switzerland\", \"cluster\": 1, \"pop\": 7489370, \"life_expect\": 81.701, \"fertility\": 1.42}, {\"year\": 1955, \"country\": \"Turkey\", \"cluster\": 1, \"pop\": 24144571, \"life_expect\": 48.079, \"fertility\": 6.6}, {\"year\": 1960, \"country\": \"Turkey\", \"cluster\": 1, \"pop\": 28217122, \"life_expect\": 52.098, \"fertility\": 6.19}, {\"year\": 1965, \"country\": \"Turkey\", \"cluster\": 1, \"pop\": 31950718, \"life_expect\": 54.336, \"fertility\": 5.7}, {\"year\": 1970, \"country\": \"Turkey\", \"cluster\": 1, \"pop\": 35758382, \"life_expect\": 57.005, \"fertility\": 5.3}, {\"year\": 1975, \"country\": \"Turkey\", \"cluster\": 1, \"pop\": 40529798, \"life_expect\": 59.507, \"fertility\": 4.715}, {\"year\": 1980, \"country\": \"Turkey\", \"cluster\": 1, \"pop\": 45120802, \"life_expect\": 61.036, \"fertility\": 4.15}, {\"year\": 1985, \"country\": \"Turkey\", \"cluster\": 1, \"pop\": 50669003, \"life_expect\": 63.108, \"fertility\": 3.276}, {\"year\": 1990, \"country\": \"Turkey\", \"cluster\": 1, \"pop\": 56084632, \"life_expect\": 66.146, \"fertility\": 2.904}, {\"year\": 1995, \"country\": \"Turkey\", \"cluster\": 1, \"pop\": 61188984, \"life_expect\": 68.835, \"fertility\": 2.574}, {\"year\": 2000, \"country\": \"Turkey\", \"cluster\": 1, \"pop\": 65666677, \"life_expect\": 70.845, \"fertility\": 2.23}, {\"year\": 2005, \"country\": \"Turkey\", \"cluster\": 1, \"pop\": 69660559, \"life_expect\": 71.777, \"fertility\": 2.143}, {\"year\": 1955, \"country\": \"United Kingdom\", \"cluster\": 1, \"pop\": 50946000, \"life_expect\": 70.42, \"fertility\": 2.49}, {\"year\": 1960, \"country\": \"United Kingdom\", \"cluster\": 1, \"pop\": 52372000, \"life_expect\": 70.76, \"fertility\": 2.81}, {\"year\": 1965, \"country\": \"United Kingdom\", \"cluster\": 1, \"pop\": 54350000, \"life_expect\": 71.36, \"fertility\": 2.52}, {\"year\": 1970, \"country\": \"United Kingdom\", \"cluster\": 1, \"pop\": 55632000, \"life_expect\": 72.01, \"fertility\": 2.04}, {\"year\": 1975, \"country\": \"United Kingdom\", \"cluster\": 1, \"pop\": 56215000, \"life_expect\": 72.76, \"fertility\": 1.72}, {\"year\": 1980, \"country\": \"United Kingdom\", \"cluster\": 1, \"pop\": 56314000, \"life_expect\": 74.04, \"fertility\": 1.8}, {\"year\": 1985, \"country\": \"United Kingdom\", \"cluster\": 1, \"pop\": 56620240, \"life_expect\": 75.007, \"fertility\": 1.81}, {\"year\": 1990, \"country\": \"United Kingdom\", \"cluster\": 1, \"pop\": 57493307, \"life_expect\": 76.42, \"fertility\": 1.78}, {\"year\": 1995, \"country\": \"United Kingdom\", \"cluster\": 1, \"pop\": 58426014, \"life_expect\": 77.218, \"fertility\": 1.7000000000000002}, {\"year\": 2000, \"country\": \"United Kingdom\", \"cluster\": 1, \"pop\": 59522468, \"life_expect\": 78.471, \"fertility\": 1.695}, {\"year\": 2005, \"country\": \"United Kingdom\", \"cluster\": 1, \"pop\": 60441457, \"life_expect\": 79.425, \"fertility\": 1.815}, {\"year\": 1955, \"country\": \"United States\", \"cluster\": 3, \"pop\": 165931000, \"life_expect\": 69.49, \"fertility\": 3.706}, {\"year\": 1960, \"country\": \"United States\", \"cluster\": 3, \"pop\": 180671000, \"life_expect\": 70.21, \"fertility\": 3.314}, {\"year\": 1965, \"country\": \"United States\", \"cluster\": 3, \"pop\": 194303000, \"life_expect\": 70.76, \"fertility\": 2.545}, {\"year\": 1970, \"country\": \"United States\", \"cluster\": 3, \"pop\": 205052000, \"life_expect\": 71.34, \"fertility\": 2.016}, {\"year\": 1975, \"country\": \"United States\", \"cluster\": 3, \"pop\": 215973000, \"life_expect\": 73.38, \"fertility\": 1.788}, {\"year\": 1980, \"country\": \"United States\", \"cluster\": 3, \"pop\": 227726463, \"life_expect\": 74.65, \"fertility\": 1.8250000000000002}, {\"year\": 1985, \"country\": \"United States\", \"cluster\": 3, \"pop\": 238466283, \"life_expect\": 75.02, \"fertility\": 1.924}, {\"year\": 1990, \"country\": \"United States\", \"cluster\": 3, \"pop\": 250131894, \"life_expect\": 76.09, \"fertility\": 2.025}, {\"year\": 1995, \"country\": \"United States\", \"cluster\": 3, \"pop\": 266557091, \"life_expect\": 76.81, \"fertility\": 1.994}, {\"year\": 2000, \"country\": \"United States\", \"cluster\": 3, \"pop\": 282338631, \"life_expect\": 77.31, \"fertility\": 2.038}, {\"year\": 2005, \"country\": \"United States\", \"cluster\": 3, \"pop\": 295734134, \"life_expect\": 78.242, \"fertility\": 2.054}, {\"year\": 1955, \"country\": \"Venezuela\", \"cluster\": 3, \"pop\": 6170497, \"life_expect\": 57.907, \"fertility\": 6.4585}, {\"year\": 1960, \"country\": \"Venezuela\", \"cluster\": 3, \"pop\": 7556483, \"life_expect\": 60.77, \"fertility\": 6.657}, {\"year\": 1965, \"country\": \"Venezuela\", \"cluster\": 3, \"pop\": 9067735, \"life_expect\": 63.479, \"fertility\": 5.9045000000000005}, {\"year\": 1970, \"country\": \"Venezuela\", \"cluster\": 3, \"pop\": 10758017, \"life_expect\": 65.712, \"fertility\": 4.941}, {\"year\": 1975, \"country\": \"Venezuela\", \"cluster\": 3, \"pop\": 12674987, \"life_expect\": 67.456, \"fertility\": 4.4685}, {\"year\": 1980, \"country\": \"Venezuela\", \"cluster\": 3, \"pop\": 14767890, \"life_expect\": 68.557, \"fertility\": 3.957}, {\"year\": 1985, \"country\": \"Venezuela\", \"cluster\": 3, \"pop\": 16997509, \"life_expect\": 70.19, \"fertility\": 3.6485000000000003}, {\"year\": 1990, \"country\": \"Venezuela\", \"cluster\": 3, \"pop\": 19325222, \"life_expect\": 71.15, \"fertility\": 3.25}, {\"year\": 1995, \"country\": \"Venezuela\", \"cluster\": 3, \"pop\": 21555902, \"life_expect\": 72.146, \"fertility\": 2.9415}, {\"year\": 2000, \"country\": \"Venezuela\", \"cluster\": 3, \"pop\": 23542649, \"life_expect\": 72.766, \"fertility\": 2.723}, {\"year\": 2005, \"country\": \"Venezuela\", \"cluster\": 3, \"pop\": 25375281, \"life_expect\": 73.747, \"fertility\": 2.547}]}}, {\"mode\": \"vega-lite\"});\n",
       "</script>"
      ],
      "text/plain": [
       "alt.Chart(...)"
      ]
     },
     "execution_count": 26,
     "metadata": {},
     "output_type": "execute_result"
    }
   ],
   "source": [
    "select_year = alt.selection_single(\n",
    "    name='select', fields=['year'], init={'year': 1955},\n",
    "    bind=alt.binding_range(min=1955, max=2005, step=5)\n",
    ")\n",
    "\n",
    "alt.Chart(data).mark_point(filled=True).encode(\n",
    "    alt.X('fertility:Q', scale=alt.Scale(domain=[0,9])),\n",
    "    alt.Y('life_expect:Q', scale=alt.Scale(domain=[0,90])),\n",
    "    alt.Size('pop:Q', scale=alt.Scale(domain=[0, 1200000000], range=[0,2000])),\n",
    "    alt.Color('cluster:N', legend=None),\n",
    "    alt.OpacityValue(0.5),\n",
    "    alt.Tooltip('country:N'),\n",
    "    alt.Order('pop:Q', sort='descending')\n",
    ").add_selection(select_year).transform_filter(select_year)"
   ]
  },
  {
   "cell_type": "markdown",
   "metadata": {
    "slideshow": {
     "slide_type": "subslide"
    }
   },
   "source": [
    "- 시각화 결과에서 의미를 찾아보자. \n",
    "  - 출산율과 기대 수명은 반비례 상관 관계가 강하다.  \n",
    "  - 1955년도에는 국가 집단의 차별성이 컸었다. \n",
    "    - 선진국: 기대 수명이 높고, 출산율이 낮은 국가 집단\n",
    "    - 후진국: 기대 수명이 낮고, 출산율은 높은 국가 집단\n",
    "  - 2005년도에 근접할수록, 전반적으로  \n",
    "    기대 수명이 높아지고, 출산율은 낮아지고 있다. \n",
    "  - 적어도 보건 관점에서는, 선진국과 후진국의 격차가 감소하고 있다. \n",
    "  - 연도를 슬라이더로 선택함으로써 애니메이션 효과를 얻을 수 있다.  "
   ]
  },
  {
   "cell_type": "markdown",
   "metadata": {
    "slideshow": {
     "slide_type": "fragment"
    }
   },
   "source": [
    "- 시각화 결과에 한글 제목을 추가하여 보자. "
   ]
  },
  {
   "cell_type": "code",
   "execution_count": 27,
   "metadata": {
    "colab": {
     "base_uri": "https://localhost:8080/",
     "height": 393
    },
    "colab_type": "code",
    "id": "6kQLe1wqZPub",
    "outputId": "3c934853-9167-4ad1-e560-b366250eb40e",
    "slideshow": {
     "slide_type": "subslide"
    }
   },
   "outputs": [
    {
     "data": {
      "text/html": [
       "\n",
       "<div id=\"altair-viz-daea92e3ed2b474da7f36731c44ee941\"></div>\n",
       "<script type=\"text/javascript\">\n",
       "  (function(spec, embedOpt){\n",
       "    let outputDiv = document.currentScript.previousElementSibling;\n",
       "    if (outputDiv.id !== \"altair-viz-daea92e3ed2b474da7f36731c44ee941\") {\n",
       "      outputDiv = document.getElementById(\"altair-viz-daea92e3ed2b474da7f36731c44ee941\");\n",
       "    }\n",
       "    const paths = {\n",
       "      \"vega\": \"https://cdn.jsdelivr.net/npm//vega@5?noext\",\n",
       "      \"vega-lib\": \"https://cdn.jsdelivr.net/npm//vega-lib?noext\",\n",
       "      \"vega-lite\": \"https://cdn.jsdelivr.net/npm//vega-lite@4.8.1?noext\",\n",
       "      \"vega-embed\": \"https://cdn.jsdelivr.net/npm//vega-embed@6?noext\",\n",
       "    };\n",
       "\n",
       "    function loadScript(lib) {\n",
       "      return new Promise(function(resolve, reject) {\n",
       "        var s = document.createElement('script');\n",
       "        s.src = paths[lib];\n",
       "        s.async = true;\n",
       "        s.onload = () => resolve(paths[lib]);\n",
       "        s.onerror = () => reject(`Error loading script: ${paths[lib]}`);\n",
       "        document.getElementsByTagName(\"head\")[0].appendChild(s);\n",
       "      });\n",
       "    }\n",
       "\n",
       "    function showError(err) {\n",
       "      outputDiv.innerHTML = `<div class=\"error\" style=\"color:red;\">${err}</div>`;\n",
       "      throw err;\n",
       "    }\n",
       "\n",
       "    function displayChart(vegaEmbed) {\n",
       "      vegaEmbed(outputDiv, spec, embedOpt)\n",
       "        .catch(err => showError(`Javascript Error: ${err.message}<br>This usually means there's a typo in your chart specification. See the javascript console for the full traceback.`));\n",
       "    }\n",
       "\n",
       "    if(typeof define === \"function\" && define.amd) {\n",
       "      requirejs.config({paths});\n",
       "      require([\"vega-embed\"], displayChart, err => showError(`Error loading script: ${err.message}`));\n",
       "    } else if (typeof vegaEmbed === \"function\") {\n",
       "      displayChart(vegaEmbed);\n",
       "    } else {\n",
       "      loadScript(\"vega\")\n",
       "        .then(() => loadScript(\"vega-lite\"))\n",
       "        .then(() => loadScript(\"vega-embed\"))\n",
       "        .catch(showError)\n",
       "        .then(() => displayChart(vegaEmbed));\n",
       "    }\n",
       "  })({\"config\": {\"view\": {\"continuousWidth\": 400, \"continuousHeight\": 300}}, \"data\": {\"name\": \"data-89be1acdd14c7effd56f4dd0fabf92c3\"}, \"mark\": {\"type\": \"point\", \"filled\": true}, \"encoding\": {\"color\": {\"type\": \"nominal\", \"field\": \"cluster\", \"legend\": null}, \"opacity\": {\"value\": 0.5}, \"order\": {\"type\": \"quantitative\", \"field\": \"pop\", \"sort\": \"descending\"}, \"size\": {\"type\": \"quantitative\", \"field\": \"pop\", \"legend\": {\"direction\": \"vertical\", \"legendX\": 450, \"legendY\": 50, \"orient\": \"none\"}, \"scale\": {\"domain\": [0, 1200000000], \"range\": [0, 2000]}, \"title\": \"\\uc778\\uad6c \\uaddc\\ubaa8\"}, \"tooltip\": {\"type\": \"nominal\", \"field\": \"country\"}, \"x\": {\"type\": \"quantitative\", \"field\": \"fertility\", \"scale\": {\"domain\": [0, 9]}, \"title\": \"\\ucd9c\\uc0b0\\uc728 [\\ub2e8\\uc704: \\uba85]\"}, \"y\": {\"type\": \"quantitative\", \"field\": \"life_expect\", \"scale\": {\"domain\": [0, 90]}, \"title\": \"\\uae30\\ub300 \\uc218\\uba85 [\\ub2e8\\uc704: \\uc138]\"}}, \"selection\": {\"selectorName\": {\"type\": \"single\", \"fields\": [\"year\"], \"bind\": {\"input\": \"range\", \"max\": 2005, \"min\": 1955, \"name\": \"\\uc5f0\\ub3c4 \\uc120\\ud0dd\", \"step\": 5}, \"init\": {\"year\": 1955}}}, \"title\": {\"text\": \"\\ucd9c\\uc0b0\\uc728\\uacfc \\uae30\\ub300 \\uc218\\uba85\\uc758 \\uc0c1\\uad00\\uc131\", \"subtitle\": \"\\uc5f0\\ub3c4\\ubcc4 \\ubc84\\ube14 \\ucc28\\ud2b8\"}, \"transform\": [{\"filter\": {\"selection\": \"selectorName\"}}], \"$schema\": \"https://vega.github.io/schema/vega-lite/v4.8.1.json\", \"datasets\": {\"data-89be1acdd14c7effd56f4dd0fabf92c3\": [{\"year\": 1955, \"country\": \"Afghanistan\", \"cluster\": 0, \"pop\": 8891209, \"life_expect\": 30.332, \"fertility\": 7.7}, {\"year\": 1960, \"country\": \"Afghanistan\", \"cluster\": 0, \"pop\": 9829450, \"life_expect\": 31.997, \"fertility\": 7.7}, {\"year\": 1965, \"country\": \"Afghanistan\", \"cluster\": 0, \"pop\": 10997885, \"life_expect\": 34.02, \"fertility\": 7.7}, {\"year\": 1970, \"country\": \"Afghanistan\", \"cluster\": 0, \"pop\": 12430623, \"life_expect\": 36.088, \"fertility\": 7.7}, {\"year\": 1975, \"country\": \"Afghanistan\", \"cluster\": 0, \"pop\": 14132019, \"life_expect\": 38.438, \"fertility\": 7.7}, {\"year\": 1980, \"country\": \"Afghanistan\", \"cluster\": 0, \"pop\": 15112149, \"life_expect\": 39.854, \"fertility\": 7.8}, {\"year\": 1985, \"country\": \"Afghanistan\", \"cluster\": 0, \"pop\": 13796928, \"life_expect\": 40.822, \"fertility\": 7.9}, {\"year\": 1990, \"country\": \"Afghanistan\", \"cluster\": 0, \"pop\": 14669339, \"life_expect\": 41.674, \"fertility\": 8.0}, {\"year\": 1995, \"country\": \"Afghanistan\", \"cluster\": 0, \"pop\": 20881480, \"life_expect\": 41.763, \"fertility\": 8.0}, {\"year\": 2000, \"country\": \"Afghanistan\", \"cluster\": 0, \"pop\": 23898198, \"life_expect\": 42.129, \"fertility\": 7.4792}, {\"year\": 2005, \"country\": \"Afghanistan\", \"cluster\": 0, \"pop\": 29928987, \"life_expect\": 43.828, \"fertility\": 7.0685}, {\"year\": 1955, \"country\": \"Argentina\", \"cluster\": 3, \"pop\": 18927821, \"life_expect\": 64.399, \"fertility\": 3.1265}, {\"year\": 1960, \"country\": \"Argentina\", \"cluster\": 3, \"pop\": 20616009, \"life_expect\": 65.142, \"fertility\": 3.0895}, {\"year\": 1965, \"country\": \"Argentina\", \"cluster\": 3, \"pop\": 22283100, \"life_expect\": 65.634, \"fertility\": 3.049}, {\"year\": 1970, \"country\": \"Argentina\", \"cluster\": 3, \"pop\": 23962313, \"life_expect\": 67.065, \"fertility\": 3.1455}, {\"year\": 1975, \"country\": \"Argentina\", \"cluster\": 3, \"pop\": 26081880, \"life_expect\": 68.481, \"fertility\": 3.44}, {\"year\": 1980, \"country\": \"Argentina\", \"cluster\": 3, \"pop\": 28369799, \"life_expect\": 69.942, \"fertility\": 3.15}, {\"year\": 1985, \"country\": \"Argentina\", \"cluster\": 3, \"pop\": 30675059, \"life_expect\": 70.774, \"fertility\": 3.053}, {\"year\": 1990, \"country\": \"Argentina\", \"cluster\": 3, \"pop\": 33022202, \"life_expect\": 71.868, \"fertility\": 2.9}, {\"year\": 1995, \"country\": \"Argentina\", \"cluster\": 3, \"pop\": 35311049, \"life_expect\": 73.275, \"fertility\": 2.63}, {\"year\": 2000, \"country\": \"Argentina\", \"cluster\": 3, \"pop\": 37497728, \"life_expect\": 74.34, \"fertility\": 2.35}, {\"year\": 2005, \"country\": \"Argentina\", \"cluster\": 3, \"pop\": 39537943, \"life_expect\": 75.32, \"fertility\": 2.254}, {\"year\": 1955, \"country\": \"Aruba\", \"cluster\": 3, \"pop\": 53865, \"life_expect\": 64.381, \"fertility\": 5.15}, {\"year\": 1960, \"country\": \"Aruba\", \"cluster\": 3, \"pop\": 57203, \"life_expect\": 66.606, \"fertility\": 4.399}, {\"year\": 1965, \"country\": \"Aruba\", \"cluster\": 3, \"pop\": 59020, \"life_expect\": 68.336, \"fertility\": 3.301}, {\"year\": 1970, \"country\": \"Aruba\", \"cluster\": 3, \"pop\": 59039, \"life_expect\": 70.941, \"fertility\": 2.651}, {\"year\": 1975, \"country\": \"Aruba\", \"cluster\": 3, \"pop\": 59390, \"life_expect\": 71.83, \"fertility\": 2.45}, {\"year\": 1980, \"country\": \"Aruba\", \"cluster\": 3, \"pop\": 60266, \"life_expect\": 74.116, \"fertility\": 2.358}, {\"year\": 1985, \"country\": \"Aruba\", \"cluster\": 3, \"pop\": 64129, \"life_expect\": 74.494, \"fertility\": 2.3}, {\"year\": 1990, \"country\": \"Aruba\", \"cluster\": 3, \"pop\": 66653, \"life_expect\": 74.108, \"fertility\": 2.2800000000000002}, {\"year\": 1995, \"country\": \"Aruba\", \"cluster\": 3, \"pop\": 67836, \"life_expect\": 73.011, \"fertility\": 2.208}, {\"year\": 2000, \"country\": \"Aruba\", \"cluster\": 3, \"pop\": 69539, \"life_expect\": 73.451, \"fertility\": 2.124}, {\"year\": 2005, \"country\": \"Aruba\", \"cluster\": 3, \"pop\": 71566, \"life_expect\": 74.239, \"fertility\": 2.04}, {\"year\": 1955, \"country\": \"Australia\", \"cluster\": 4, \"pop\": 9277087, \"life_expect\": 70.33, \"fertility\": 3.406}, {\"year\": 1960, \"country\": \"Australia\", \"cluster\": 4, \"pop\": 10361273, \"life_expect\": 70.93, \"fertility\": 3.274}, {\"year\": 1965, \"country\": \"Australia\", \"cluster\": 4, \"pop\": 11439384, \"life_expect\": 71.1, \"fertility\": 2.871}, {\"year\": 1970, \"country\": \"Australia\", \"cluster\": 4, \"pop\": 12660160, \"life_expect\": 71.93, \"fertility\": 2.535}, {\"year\": 1975, \"country\": \"Australia\", \"cluster\": 4, \"pop\": 13771400, \"life_expect\": 73.49, \"fertility\": 1.9889999999999999}, {\"year\": 1980, \"country\": \"Australia\", \"cluster\": 4, \"pop\": 14615900, \"life_expect\": 74.74, \"fertility\": 1.907}, {\"year\": 1985, \"country\": \"Australia\", \"cluster\": 4, \"pop\": 15788300, \"life_expect\": 76.32, \"fertility\": 1.859}, {\"year\": 1990, \"country\": \"Australia\", \"cluster\": 4, \"pop\": 17022133, \"life_expect\": 77.56, \"fertility\": 1.8599999999999999}, {\"year\": 1995, \"country\": \"Australia\", \"cluster\": 4, \"pop\": 18116171, \"life_expect\": 78.83, \"fertility\": 1.776}, {\"year\": 2000, \"country\": \"Australia\", \"cluster\": 4, \"pop\": 19164620, \"life_expect\": 80.37, \"fertility\": 1.756}, {\"year\": 2005, \"country\": \"Australia\", \"cluster\": 4, \"pop\": 20090437, \"life_expect\": 81.235, \"fertility\": 1.788}, {\"year\": 1955, \"country\": \"Austria\", \"cluster\": 1, \"pop\": 6946885, \"life_expect\": 67.48, \"fertility\": 2.52}, {\"year\": 1960, \"country\": \"Austria\", \"cluster\": 1, \"pop\": 7047437, \"life_expect\": 69.54, \"fertility\": 2.7800000000000002}, {\"year\": 1965, \"country\": \"Austria\", \"cluster\": 1, \"pop\": 7270889, \"life_expect\": 70.14, \"fertility\": 2.5300000000000002}, {\"year\": 1970, \"country\": \"Austria\", \"cluster\": 1, \"pop\": 7467086, \"life_expect\": 70.63, \"fertility\": 2.02}, {\"year\": 1975, \"country\": \"Austria\", \"cluster\": 1, \"pop\": 7578903, \"life_expect\": 72.17, \"fertility\": 1.6400000000000001}, {\"year\": 1980, \"country\": \"Austria\", \"cluster\": 1, \"pop\": 7549433, \"life_expect\": 73.18, \"fertility\": 1.62}, {\"year\": 1985, \"country\": \"Austria\", \"cluster\": 1, \"pop\": 7559776, \"life_expect\": 74.94, \"fertility\": 1.45}, {\"year\": 1990, \"country\": \"Austria\", \"cluster\": 1, \"pop\": 7722953, \"life_expect\": 76.04, \"fertility\": 1.47}, {\"year\": 1995, \"country\": \"Austria\", \"cluster\": 1, \"pop\": 8047433, \"life_expect\": 77.51, \"fertility\": 1.388}, {\"year\": 2000, \"country\": \"Austria\", \"cluster\": 1, \"pop\": 8113413, \"life_expect\": 78.98, \"fertility\": 1.3820000000000001}, {\"year\": 2005, \"country\": \"Austria\", \"cluster\": 1, \"pop\": 8184691, \"life_expect\": 79.829, \"fertility\": 1.42}, {\"year\": 1955, \"country\": \"Bahamas\", \"cluster\": 3, \"pop\": 87138, \"life_expect\": 62.405, \"fertility\": 4.305}, {\"year\": 1960, \"country\": \"Bahamas\", \"cluster\": 3, \"pop\": 112234, \"life_expect\": 64.209, \"fertility\": 4.503}, {\"year\": 1965, \"country\": \"Bahamas\", \"cluster\": 3, \"pop\": 139205, \"life_expect\": 65.795, \"fertility\": 3.794}, {\"year\": 1970, \"country\": \"Bahamas\", \"cluster\": 3, \"pop\": 170323, \"life_expect\": 66.515, \"fertility\": 3.444}, {\"year\": 1975, \"country\": \"Bahamas\", \"cluster\": 3, \"pop\": 189139, \"life_expect\": 67.199, \"fertility\": 3.221}, {\"year\": 1980, \"country\": \"Bahamas\", \"cluster\": 3, \"pop\": 209944, \"life_expect\": 67.874, \"fertility\": 3.16}, {\"year\": 1985, \"country\": \"Bahamas\", \"cluster\": 3, \"pop\": 234988, \"life_expect\": 69.524, \"fertility\": 2.62}, {\"year\": 1990, \"country\": \"Bahamas\", \"cluster\": 3, \"pop\": 257253, \"life_expect\": 69.171, \"fertility\": 2.6}, {\"year\": 1995, \"country\": \"Bahamas\", \"cluster\": 3, \"pop\": 275303, \"life_expect\": 68.472, \"fertility\": 2.4}, {\"year\": 2000, \"country\": \"Bahamas\", \"cluster\": 3, \"pop\": 290075, \"life_expect\": 71.068, \"fertility\": 2.1111}, {\"year\": 2005, \"country\": \"Bahamas\", \"cluster\": 3, \"pop\": 301790, \"life_expect\": 73.495, \"fertility\": 2.0221}, {\"year\": 1955, \"country\": \"Bangladesh\", \"cluster\": 0, \"pop\": 49601520, \"life_expect\": 39.348, \"fertility\": 6.76}, {\"year\": 1960, \"country\": \"Bangladesh\", \"cluster\": 0, \"pop\": 54621538, \"life_expect\": 41.216, \"fertility\": 6.85}, {\"year\": 1965, \"country\": \"Bangladesh\", \"cluster\": 0, \"pop\": 60332117, \"life_expect\": 43.453, \"fertility\": 6.6}, {\"year\": 1970, \"country\": \"Bangladesh\", \"cluster\": 0, \"pop\": 67402621, \"life_expect\": 45.252, \"fertility\": 6.15}, {\"year\": 1975, \"country\": \"Bangladesh\", \"cluster\": 0, \"pop\": 76253310, \"life_expect\": 46.923, \"fertility\": 5.6}, {\"year\": 1980, \"country\": \"Bangladesh\", \"cluster\": 0, \"pop\": 88076996, \"life_expect\": 50.009, \"fertility\": 5.25}, {\"year\": 1985, \"country\": \"Bangladesh\", \"cluster\": 0, \"pop\": 99752733, \"life_expect\": 52.819, \"fertility\": 4.629}, {\"year\": 1990, \"country\": \"Bangladesh\", \"cluster\": 0, \"pop\": 109896945, \"life_expect\": 56.018, \"fertility\": 4.117}, {\"year\": 1995, \"country\": \"Bangladesh\", \"cluster\": 0, \"pop\": 119186448, \"life_expect\": 59.412, \"fertility\": 3.5042999999999997}, {\"year\": 2000, \"country\": \"Bangladesh\", \"cluster\": 0, \"pop\": 130406594, \"life_expect\": 62.013, \"fertility\": 3.224}, {\"year\": 2005, \"country\": \"Bangladesh\", \"cluster\": 0, \"pop\": 144319628, \"life_expect\": 64.062, \"fertility\": 2.826}, {\"year\": 1955, \"country\": \"Barbados\", \"cluster\": 3, \"pop\": 227255, \"life_expect\": 62.57, \"fertility\": 4.67}, {\"year\": 1960, \"country\": \"Barbados\", \"cluster\": 3, \"pop\": 232339, \"life_expect\": 65.87, \"fertility\": 4.26}, {\"year\": 1965, \"country\": \"Barbados\", \"cluster\": 3, \"pop\": 234980, \"life_expect\": 67.62, \"fertility\": 3.45}, {\"year\": 1970, \"country\": \"Barbados\", \"cluster\": 3, \"pop\": 238756, \"life_expect\": 69.42, \"fertility\": 2.74}, {\"year\": 1975, \"country\": \"Barbados\", \"cluster\": 3, \"pop\": 247147, \"life_expect\": 71.27, \"fertility\": 2.19}, {\"year\": 1980, \"country\": \"Barbados\", \"cluster\": 3, \"pop\": 251966, \"life_expect\": 72.695, \"fertility\": 1.92}, {\"year\": 1985, \"country\": \"Barbados\", \"cluster\": 3, \"pop\": 257446, \"life_expect\": 74.027, \"fertility\": 1.75}, {\"year\": 1990, \"country\": \"Barbados\", \"cluster\": 3, \"pop\": 262624, \"life_expect\": 74.894, \"fertility\": 1.6}, {\"year\": 1995, \"country\": \"Barbados\", \"cluster\": 3, \"pop\": 267907, \"life_expect\": 74.912, \"fertility\": 1.5}, {\"year\": 2000, \"country\": \"Barbados\", \"cluster\": 3, \"pop\": 273483, \"life_expect\": 75.97, \"fertility\": 1.5}, {\"year\": 2005, \"country\": \"Barbados\", \"cluster\": 3, \"pop\": 278870, \"life_expect\": 77.296, \"fertility\": 1.5}, {\"year\": 1955, \"country\": \"Belgium\", \"cluster\": 1, \"pop\": 8868475, \"life_expect\": 69.24, \"fertility\": 2.496}, {\"year\": 1960, \"country\": \"Belgium\", \"cluster\": 1, \"pop\": 9118700, \"life_expect\": 70.25, \"fertility\": 2.644}, {\"year\": 1965, \"country\": \"Belgium\", \"cluster\": 1, \"pop\": 9448100, \"life_expect\": 70.94, \"fertility\": 2.392}, {\"year\": 1970, \"country\": \"Belgium\", \"cluster\": 1, \"pop\": 9637800, \"life_expect\": 71.44, \"fertility\": 2.015}, {\"year\": 1975, \"country\": \"Belgium\", \"cluster\": 1, \"pop\": 9794800, \"life_expect\": 72.8, \"fertility\": 1.705}, {\"year\": 1980, \"country\": \"Belgium\", \"cluster\": 1, \"pop\": 9846800, \"life_expect\": 73.93, \"fertility\": 1.595}, {\"year\": 1985, \"country\": \"Belgium\", \"cluster\": 1, \"pop\": 9858200, \"life_expect\": 75.35, \"fertility\": 1.5590000000000002}, {\"year\": 1990, \"country\": \"Belgium\", \"cluster\": 1, \"pop\": 9969310, \"life_expect\": 76.46, \"fertility\": 1.613}, {\"year\": 1995, \"country\": \"Belgium\", \"cluster\": 1, \"pop\": 10155459, \"life_expect\": 77.53, \"fertility\": 1.604}, {\"year\": 2000, \"country\": \"Belgium\", \"cluster\": 1, \"pop\": 10263618, \"life_expect\": 78.32, \"fertility\": 1.638}, {\"year\": 2005, \"country\": \"Belgium\", \"cluster\": 1, \"pop\": 10364388, \"life_expect\": 79.441, \"fertility\": 1.646}, {\"year\": 1955, \"country\": \"Bolivia\", \"cluster\": 3, \"pop\": 3074311, \"life_expect\": 41.89, \"fertility\": 6.75}, {\"year\": 1960, \"country\": \"Bolivia\", \"cluster\": 3, \"pop\": 3434073, \"life_expect\": 43.428, \"fertility\": 6.63}, {\"year\": 1965, \"country\": \"Bolivia\", \"cluster\": 3, \"pop\": 3853315, \"life_expect\": 45.032, \"fertility\": 6.5600000000000005}, {\"year\": 1970, \"country\": \"Bolivia\", \"cluster\": 3, \"pop\": 4346218, \"life_expect\": 46.714, \"fertility\": 6.5}, {\"year\": 1975, \"country\": \"Bolivia\", \"cluster\": 3, \"pop\": 4914316, \"life_expect\": 50.023, \"fertility\": 5.8}, {\"year\": 1980, \"country\": \"Bolivia\", \"cluster\": 3, \"pop\": 5441298, \"life_expect\": 53.859, \"fertility\": 5.2995}, {\"year\": 1985, \"country\": \"Bolivia\", \"cluster\": 3, \"pop\": 5934935, \"life_expect\": 57.251, \"fertility\": 5.0}, {\"year\": 1990, \"country\": \"Bolivia\", \"cluster\": 3, \"pop\": 6573900, \"life_expect\": 59.957, \"fertility\": 4.8}, {\"year\": 1995, \"country\": \"Bolivia\", \"cluster\": 3, \"pop\": 7376582, \"life_expect\": 62.05, \"fertility\": 4.324}, {\"year\": 2000, \"country\": \"Bolivia\", \"cluster\": 3, \"pop\": 8152620, \"life_expect\": 63.883, \"fertility\": 3.9585}, {\"year\": 2005, \"country\": \"Bolivia\", \"cluster\": 3, \"pop\": 8857870, \"life_expect\": 65.554, \"fertility\": 3.5}, {\"year\": 1955, \"country\": \"Brazil\", \"cluster\": 3, \"pop\": 61773546, \"life_expect\": 53.285, \"fertility\": 6.1501}, {\"year\": 1960, \"country\": \"Brazil\", \"cluster\": 3, \"pop\": 71694810, \"life_expect\": 55.665, \"fertility\": 6.1501}, {\"year\": 1965, \"country\": \"Brazil\", \"cluster\": 3, \"pop\": 83092908, \"life_expect\": 57.632, \"fertility\": 5.38}, {\"year\": 1970, \"country\": \"Brazil\", \"cluster\": 3, \"pop\": 95684297, \"life_expect\": 59.504, \"fertility\": 4.7175}, {\"year\": 1975, \"country\": \"Brazil\", \"cluster\": 3, \"pop\": 108823732, \"life_expect\": 61.489, \"fertility\": 4.305}, {\"year\": 1980, \"country\": \"Brazil\", \"cluster\": 3, \"pop\": 122958132, \"life_expect\": 63.336, \"fertility\": 3.8}, {\"year\": 1985, \"country\": \"Brazil\", \"cluster\": 3, \"pop\": 137302933, \"life_expect\": 65.205, \"fertility\": 3.1}, {\"year\": 1990, \"country\": \"Brazil\", \"cluster\": 3, \"pop\": 151083809, \"life_expect\": 67.057, \"fertility\": 2.6}, {\"year\": 1995, \"country\": \"Brazil\", \"cluster\": 3, \"pop\": 163542501, \"life_expect\": 69.388, \"fertility\": 2.45}, {\"year\": 2000, \"country\": \"Brazil\", \"cluster\": 3, \"pop\": 175552771, \"life_expect\": 71.006, \"fertility\": 2.345}, {\"year\": 2005, \"country\": \"Brazil\", \"cluster\": 3, \"pop\": 186112794, \"life_expect\": 72.39, \"fertility\": 2.245}, {\"year\": 1955, \"country\": \"Canada\", \"cluster\": 3, \"pop\": 16050356, \"life_expect\": 69.96, \"fertility\": 3.882}, {\"year\": 1960, \"country\": \"Canada\", \"cluster\": 3, \"pop\": 18266765, \"life_expect\": 71.3, \"fertility\": 3.675}, {\"year\": 1965, \"country\": \"Canada\", \"cluster\": 3, \"pop\": 20071104, \"life_expect\": 72.13, \"fertility\": 2.61}, {\"year\": 1970, \"country\": \"Canada\", \"cluster\": 3, \"pop\": 21749986, \"life_expect\": 72.88, \"fertility\": 1.976}, {\"year\": 1975, \"country\": \"Canada\", \"cluster\": 3, \"pop\": 23209200, \"life_expect\": 74.21, \"fertility\": 1.734}, {\"year\": 1980, \"country\": \"Canada\", \"cluster\": 3, \"pop\": 24593300, \"life_expect\": 75.76, \"fertility\": 1.634}, {\"year\": 1985, \"country\": \"Canada\", \"cluster\": 3, \"pop\": 25941600, \"life_expect\": 76.86, \"fertility\": 1.616}, {\"year\": 1990, \"country\": \"Canada\", \"cluster\": 3, \"pop\": 27790600, \"life_expect\": 77.95, \"fertility\": 1.694}, {\"year\": 1995, \"country\": \"Canada\", \"cluster\": 3, \"pop\": 29619002, \"life_expect\": 78.61, \"fertility\": 1.564}, {\"year\": 2000, \"country\": \"Canada\", \"cluster\": 3, \"pop\": 31278097, \"life_expect\": 79.77, \"fertility\": 1.522}, {\"year\": 2005, \"country\": \"Canada\", \"cluster\": 3, \"pop\": 32805041, \"life_expect\": 80.653, \"fertility\": 1.5270000000000001}, {\"year\": 1955, \"country\": \"Chile\", \"cluster\": 3, \"pop\": 6743269, \"life_expect\": 56.074, \"fertility\": 5.486}, {\"year\": 1960, \"country\": \"Chile\", \"cluster\": 3, \"pop\": 7585349, \"life_expect\": 57.924, \"fertility\": 5.4385}, {\"year\": 1965, \"country\": \"Chile\", \"cluster\": 3, \"pop\": 8509950, \"life_expect\": 60.523, \"fertility\": 4.4405}, {\"year\": 1970, \"country\": \"Chile\", \"cluster\": 3, \"pop\": 9368558, \"life_expect\": 63.441, \"fertility\": 3.63}, {\"year\": 1975, \"country\": \"Chile\", \"cluster\": 3, \"pop\": 10251542, \"life_expect\": 67.052, \"fertility\": 2.803}, {\"year\": 1980, \"country\": \"Chile\", \"cluster\": 3, \"pop\": 11093718, \"life_expect\": 70.565, \"fertility\": 2.6710000000000003}, {\"year\": 1985, \"country\": \"Chile\", \"cluster\": 3, \"pop\": 12066701, \"life_expect\": 72.492, \"fertility\": 2.65}, {\"year\": 1990, \"country\": \"Chile\", \"cluster\": 3, \"pop\": 13127760, \"life_expect\": 74.126, \"fertility\": 2.55}, {\"year\": 1995, \"country\": \"Chile\", \"cluster\": 3, \"pop\": 14205449, \"life_expect\": 75.816, \"fertility\": 2.21}, {\"year\": 2000, \"country\": \"Chile\", \"cluster\": 3, \"pop\": 15153450, \"life_expect\": 77.86, \"fertility\": 2.0}, {\"year\": 2005, \"country\": \"Chile\", \"cluster\": 3, \"pop\": 15980912, \"life_expect\": 78.553, \"fertility\": 1.944}, {\"year\": 1955, \"country\": \"China\", \"cluster\": 4, \"pop\": 608655000, \"life_expect\": 50.54896, \"fertility\": 5.59}, {\"year\": 1960, \"country\": \"China\", \"cluster\": 4, \"pop\": 667070000, \"life_expect\": 44.50136, \"fertility\": 5.72}, {\"year\": 1965, \"country\": \"China\", \"cluster\": 4, \"pop\": 715185000, \"life_expect\": 58.38112, \"fertility\": 6.06}, {\"year\": 1970, \"country\": \"China\", \"cluster\": 4, \"pop\": 818315000, \"life_expect\": 63.11888, \"fertility\": 4.86}, {\"year\": 1975, \"country\": \"China\", \"cluster\": 4, \"pop\": 916395000, \"life_expect\": 63.96736, \"fertility\": 3.32}, {\"year\": 1980, \"country\": \"China\", \"cluster\": 4, \"pop\": 981235000, \"life_expect\": 65.525, \"fertility\": 2.55}, {\"year\": 1985, \"country\": \"China\", \"cluster\": 4, \"pop\": 1051040000, \"life_expect\": 67.274, \"fertility\": 2.46}, {\"year\": 1990, \"country\": \"China\", \"cluster\": 4, \"pop\": 1135185000, \"life_expect\": 68.69, \"fertility\": 1.92}, {\"year\": 1995, \"country\": \"China\", \"cluster\": 4, \"pop\": 1204855000, \"life_expect\": 70.426, \"fertility\": 1.7810000000000001}, {\"year\": 2000, \"country\": \"China\", \"cluster\": 4, \"pop\": 1262645000, \"life_expect\": 72.028, \"fertility\": 1.7000000000000002}, {\"year\": 2005, \"country\": \"China\", \"cluster\": 4, \"pop\": 1303182268, \"life_expect\": 72.961, \"fertility\": 1.725}, {\"year\": 1955, \"country\": \"Colombia\", \"cluster\": 3, \"pop\": 13588405, \"life_expect\": 55.118, \"fertility\": 6.76}, {\"year\": 1960, \"country\": \"Colombia\", \"cluster\": 3, \"pop\": 15952727, \"life_expect\": 57.863, \"fertility\": 6.76}, {\"year\": 1965, \"country\": \"Colombia\", \"cluster\": 3, \"pop\": 18646175, \"life_expect\": 59.963, \"fertility\": 6.18}, {\"year\": 1970, \"country\": \"Colombia\", \"cluster\": 3, \"pop\": 21429658, \"life_expect\": 61.623, \"fertility\": 5.0005}, {\"year\": 1975, \"country\": \"Colombia\", \"cluster\": 3, \"pop\": 24114177, \"life_expect\": 63.837, \"fertility\": 4.3385}, {\"year\": 1980, \"country\": \"Colombia\", \"cluster\": 3, \"pop\": 26582811, \"life_expect\": 66.653, \"fertility\": 3.685}, {\"year\": 1985, \"country\": \"Colombia\", \"cluster\": 3, \"pop\": 29678395, \"life_expect\": 67.768, \"fertility\": 3.172}, {\"year\": 1990, \"country\": \"Colombia\", \"cluster\": 3, \"pop\": 32858579, \"life_expect\": 68.421, \"fertility\": 2.93005}, {\"year\": 1995, \"country\": \"Colombia\", \"cluster\": 3, \"pop\": 36280883, \"life_expect\": 70.313, \"fertility\": 2.7}, {\"year\": 2000, \"country\": \"Colombia\", \"cluster\": 3, \"pop\": 39685655, \"life_expect\": 71.682, \"fertility\": 2.4705}, {\"year\": 2005, \"country\": \"Colombia\", \"cluster\": 3, \"pop\": 42954279, \"life_expect\": 72.889, \"fertility\": 2.2205}, {\"year\": 1955, \"country\": \"Costa Rica\", \"cluster\": 3, \"pop\": 1031782, \"life_expect\": 60.026, \"fertility\": 7.1135}, {\"year\": 1960, \"country\": \"Costa Rica\", \"cluster\": 3, \"pop\": 1248022, \"life_expect\": 62.842, \"fertility\": 7.2245}, {\"year\": 1965, \"country\": \"Costa Rica\", \"cluster\": 3, \"pop\": 1487605, \"life_expect\": 65.424, \"fertility\": 5.801}, {\"year\": 1970, \"country\": \"Costa Rica\", \"cluster\": 3, \"pop\": 1735523, \"life_expect\": 67.849, \"fertility\": 4.346}, {\"year\": 1975, \"country\": \"Costa Rica\", \"cluster\": 3, \"pop\": 1991580, \"life_expect\": 70.75, \"fertility\": 3.7755}, {\"year\": 1980, \"country\": \"Costa Rica\", \"cluster\": 3, \"pop\": 2299124, \"life_expect\": 73.45, \"fertility\": 3.527}, {\"year\": 1985, \"country\": \"Costa Rica\", \"cluster\": 3, \"pop\": 2643808, \"life_expect\": 74.752, \"fertility\": 3.374}, {\"year\": 1990, \"country\": \"Costa Rica\", \"cluster\": 3, \"pop\": 3027175, \"life_expect\": 75.713, \"fertility\": 2.9450000000000003}, {\"year\": 1995, \"country\": \"Costa Rica\", \"cluster\": 3, \"pop\": 3383786, \"life_expect\": 77.26, \"fertility\": 2.5835}, {\"year\": 2000, \"country\": \"Costa Rica\", \"cluster\": 3, \"pop\": 3710558, \"life_expect\": 78.123, \"fertility\": 2.2815}, {\"year\": 2005, \"country\": \"Costa Rica\", \"cluster\": 3, \"pop\": 4016173, \"life_expect\": 78.782, \"fertility\": 2.0985}, {\"year\": 1955, \"country\": \"Croatia\", \"cluster\": 1, \"pop\": 3955526, \"life_expect\": 64.77, \"fertility\": 2.42}, {\"year\": 1960, \"country\": \"Croatia\", \"cluster\": 1, \"pop\": 4036145, \"life_expect\": 67.13, \"fertility\": 2.27}, {\"year\": 1965, \"country\": \"Croatia\", \"cluster\": 1, \"pop\": 4133313, \"life_expect\": 68.5, \"fertility\": 2.09}, {\"year\": 1970, \"country\": \"Croatia\", \"cluster\": 1, \"pop\": 4205389, \"life_expect\": 69.61, \"fertility\": 1.96}, {\"year\": 1975, \"country\": \"Croatia\", \"cluster\": 1, \"pop\": 4255000, \"life_expect\": 70.64, \"fertility\": 2.02}, {\"year\": 1980, \"country\": \"Croatia\", \"cluster\": 1, \"pop\": 4383000, \"life_expect\": 70.46, \"fertility\": 1.96}, {\"year\": 1985, \"country\": \"Croatia\", \"cluster\": 1, \"pop\": 4457874, \"life_expect\": 71.52, \"fertility\": 1.8399999999999999}, {\"year\": 1990, \"country\": \"Croatia\", \"cluster\": 1, \"pop\": 4508347, \"life_expect\": 72.527, \"fertility\": 1.52}, {\"year\": 1995, \"country\": \"Croatia\", \"cluster\": 1, \"pop\": 4496683, \"life_expect\": 73.68, \"fertility\": 1.537}, {\"year\": 2000, \"country\": \"Croatia\", \"cluster\": 1, \"pop\": 4410830, \"life_expect\": 74.876, \"fertility\": 1.348}, {\"year\": 2005, \"country\": \"Croatia\", \"cluster\": 1, \"pop\": 4495904, \"life_expect\": 75.748, \"fertility\": 1.346}, {\"year\": 1955, \"country\": \"Cuba\", \"cluster\": 3, \"pop\": 6381106, \"life_expect\": 62.325, \"fertility\": 3.6995}, {\"year\": 1960, \"country\": \"Cuba\", \"cluster\": 3, \"pop\": 7027210, \"life_expect\": 65.246, \"fertility\": 4.6805}, {\"year\": 1965, \"country\": \"Cuba\", \"cluster\": 3, \"pop\": 7809916, \"life_expect\": 68.29, \"fertility\": 4.3}, {\"year\": 1970, \"country\": \"Cuba\", \"cluster\": 3, \"pop\": 8542746, \"life_expect\": 70.723, \"fertility\": 3.6}, {\"year\": 1975, \"country\": \"Cuba\", \"cluster\": 3, \"pop\": 9290074, \"life_expect\": 72.649, \"fertility\": 2.15}, {\"year\": 1980, \"country\": \"Cuba\", \"cluster\": 3, \"pop\": 9652975, \"life_expect\": 73.717, \"fertility\": 1.8495}, {\"year\": 1985, \"country\": \"Cuba\", \"cluster\": 3, \"pop\": 10078658, \"life_expect\": 74.174, \"fertility\": 1.8495}, {\"year\": 1990, \"country\": \"Cuba\", \"cluster\": 3, \"pop\": 10544793, \"life_expect\": 74.414, \"fertility\": 1.6505}, {\"year\": 1995, \"country\": \"Cuba\", \"cluster\": 3, \"pop\": 10896802, \"life_expect\": 76.151, \"fertility\": 1.6095000000000002}, {\"year\": 2000, \"country\": \"Cuba\", \"cluster\": 3, \"pop\": 11134273, \"life_expect\": 77.158, \"fertility\": 1.63}, {\"year\": 2005, \"country\": \"Cuba\", \"cluster\": 3, \"pop\": 11346670, \"life_expect\": 78.273, \"fertility\": 1.49}, {\"year\": 1955, \"country\": \"Dominican Republic\", \"cluster\": 3, \"pop\": 2737257, \"life_expect\": 49.828, \"fertility\": 7.6405}, {\"year\": 1960, \"country\": \"Dominican Republic\", \"cluster\": 3, \"pop\": 3231488, \"life_expect\": 53.459, \"fertility\": 7.3505}, {\"year\": 1965, \"country\": \"Dominican Republic\", \"cluster\": 3, \"pop\": 3805881, \"life_expect\": 56.751, \"fertility\": 6.6495}, {\"year\": 1970, \"country\": \"Dominican Republic\", \"cluster\": 3, \"pop\": 4422755, \"life_expect\": 59.631, \"fertility\": 5.71}, {\"year\": 1975, \"country\": \"Dominican Republic\", \"cluster\": 3, \"pop\": 5048499, \"life_expect\": 61.788, \"fertility\": 4.76}, {\"year\": 1980, \"country\": \"Dominican Republic\", \"cluster\": 3, \"pop\": 5696855, \"life_expect\": 63.727, \"fertility\": 4.0}, {\"year\": 1985, \"country\": \"Dominican Republic\", \"cluster\": 3, \"pop\": 6377765, \"life_expect\": 66.046, \"fertility\": 3.47}, {\"year\": 1990, \"country\": \"Dominican Republic\", \"cluster\": 3, \"pop\": 7077651, \"life_expect\": 68.457, \"fertility\": 3.1995}, {\"year\": 1995, \"country\": \"Dominican Republic\", \"cluster\": 3, \"pop\": 7730224, \"life_expect\": 69.957, \"fertility\": 3.05}, {\"year\": 2000, \"country\": \"Dominican Republic\", \"cluster\": 3, \"pop\": 8385828, \"life_expect\": 70.847, \"fertility\": 2.95}, {\"year\": 2005, \"country\": \"Dominican Republic\", \"cluster\": 3, \"pop\": 9049595, \"life_expect\": 72.235, \"fertility\": 2.81}, {\"year\": 1955, \"country\": \"Ecuador\", \"cluster\": 3, \"pop\": 3842399, \"life_expect\": 51.356, \"fertility\": 6.7}, {\"year\": 1960, \"country\": \"Ecuador\", \"cluster\": 3, \"pop\": 4415956, \"life_expect\": 54.64, \"fertility\": 6.7}, {\"year\": 1965, \"country\": \"Ecuador\", \"cluster\": 3, \"pop\": 5117779, \"life_expect\": 56.678, \"fertility\": 6.5}, {\"year\": 1970, \"country\": \"Ecuador\", \"cluster\": 3, \"pop\": 5939246, \"life_expect\": 58.796, \"fertility\": 6.0005}, {\"year\": 1975, \"country\": \"Ecuador\", \"cluster\": 3, \"pop\": 6871698, \"life_expect\": 61.31, \"fertility\": 5.4005}, {\"year\": 1980, \"country\": \"Ecuador\", \"cluster\": 3, \"pop\": 7920499, \"life_expect\": 64.342, \"fertility\": 4.7005}, {\"year\": 1985, \"country\": \"Ecuador\", \"cluster\": 3, \"pop\": 9061664, \"life_expect\": 67.231, \"fertility\": 4.0}, {\"year\": 1990, \"country\": \"Ecuador\", \"cluster\": 3, \"pop\": 10318036, \"life_expect\": 69.613, \"fertility\": 3.4005}, {\"year\": 1995, \"country\": \"Ecuador\", \"cluster\": 3, \"pop\": 11438004, \"life_expect\": 72.312, \"fertility\": 3.1}, {\"year\": 2000, \"country\": \"Ecuador\", \"cluster\": 3, \"pop\": 12505204, \"life_expect\": 74.173, \"fertility\": 2.8175}, {\"year\": 2005, \"country\": \"Ecuador\", \"cluster\": 3, \"pop\": 13363593, \"life_expect\": 74.994, \"fertility\": 2.578}, {\"year\": 1955, \"country\": \"Egypt\", \"cluster\": 5, \"pop\": 23855527, \"life_expect\": 44.444, \"fertility\": 6.97}, {\"year\": 1960, \"country\": \"Egypt\", \"cluster\": 5, \"pop\": 26846610, \"life_expect\": 46.992, \"fertility\": 7.073}, {\"year\": 1965, \"country\": \"Egypt\", \"cluster\": 5, \"pop\": 30265148, \"life_expect\": 49.293, \"fertility\": 6.5600000000000005}, {\"year\": 1970, \"country\": \"Egypt\", \"cluster\": 5, \"pop\": 33574026, \"life_expect\": 51.137, \"fertility\": 5.855}, {\"year\": 1975, \"country\": \"Egypt\", \"cluster\": 5, \"pop\": 36952499, \"life_expect\": 53.319, \"fertility\": 5.609}, {\"year\": 1980, \"country\": \"Egypt\", \"cluster\": 5, \"pop\": 42634215, \"life_expect\": 56.006, \"fertility\": 5.332}, {\"year\": 1985, \"country\": \"Egypt\", \"cluster\": 5, \"pop\": 50052381, \"life_expect\": 59.797, \"fertility\": 4.833}, {\"year\": 1990, \"country\": \"Egypt\", \"cluster\": 5, \"pop\": 56694413, \"life_expect\": 63.674, \"fertility\": 3.908}, {\"year\": 1995, \"country\": \"Egypt\", \"cluster\": 5, \"pop\": 63321615, \"life_expect\": 67.217, \"fertility\": 3.5}, {\"year\": 2000, \"country\": \"Egypt\", \"cluster\": 5, \"pop\": 70492342, \"life_expect\": 69.806, \"fertility\": 3.174}, {\"year\": 2005, \"country\": \"Egypt\", \"cluster\": 5, \"pop\": 77505756, \"life_expect\": 71.338, \"fertility\": 2.891}, {\"year\": 1955, \"country\": \"El Salvador\", \"cluster\": 3, \"pop\": 2221139, \"life_expect\": 48.57, \"fertility\": 6.8065}, {\"year\": 1960, \"country\": \"El Salvador\", \"cluster\": 3, \"pop\": 2581583, \"life_expect\": 52.307, \"fertility\": 6.8469999999999995}, {\"year\": 1965, \"country\": \"El Salvador\", \"cluster\": 3, \"pop\": 3017852, \"life_expect\": 55.855, \"fertility\": 6.621}, {\"year\": 1970, \"country\": \"El Salvador\", \"cluster\": 3, \"pop\": 3603907, \"life_expect\": 58.207, \"fertility\": 6.0995}, {\"year\": 1975, \"country\": \"El Salvador\", \"cluster\": 3, \"pop\": 4071179, \"life_expect\": 56.696, \"fertility\": 5.5996}, {\"year\": 1980, \"country\": \"El Salvador\", \"cluster\": 3, \"pop\": 4566199, \"life_expect\": 56.604, \"fertility\": 4.5}, {\"year\": 1985, \"country\": \"El Salvador\", \"cluster\": 3, \"pop\": 4664361, \"life_expect\": 63.154, \"fertility\": 3.901}, {\"year\": 1990, \"country\": \"El Salvador\", \"cluster\": 3, \"pop\": 5099884, \"life_expect\": 66.798, \"fertility\": 3.52}, {\"year\": 1995, \"country\": \"El Salvador\", \"cluster\": 3, \"pop\": 5568437, \"life_expect\": 69.535, \"fertility\": 3.17}, {\"year\": 2000, \"country\": \"El Salvador\", \"cluster\": 3, \"pop\": 6122515, \"life_expect\": 70.734, \"fertility\": 2.883}, {\"year\": 2005, \"country\": \"El Salvador\", \"cluster\": 3, \"pop\": 6704932, \"life_expect\": 71.878, \"fertility\": 2.6825}, {\"year\": 1955, \"country\": \"Finland\", \"cluster\": 1, \"pop\": 4234900, \"life_expect\": 67.49, \"fertility\": 2.769}, {\"year\": 1960, \"country\": \"Finland\", \"cluster\": 1, \"pop\": 4429600, \"life_expect\": 68.75, \"fertility\": 2.66}, {\"year\": 1965, \"country\": \"Finland\", \"cluster\": 1, \"pop\": 4563732, \"life_expect\": 69.83, \"fertility\": 2.191}, {\"year\": 1970, \"country\": \"Finland\", \"cluster\": 1, \"pop\": 4606307, \"life_expect\": 70.87, \"fertility\": 1.623}, {\"year\": 1975, \"country\": \"Finland\", \"cluster\": 1, \"pop\": 4711439, \"life_expect\": 72.52, \"fertility\": 1.663}, {\"year\": 1980, \"country\": \"Finland\", \"cluster\": 1, \"pop\": 4779535, \"life_expect\": 74.55, \"fertility\": 1.685}, {\"year\": 1985, \"country\": \"Finland\", \"cluster\": 1, \"pop\": 4901783, \"life_expect\": 74.83, \"fertility\": 1.6600000000000001}, {\"year\": 1990, \"country\": \"Finland\", \"cluster\": 1, \"pop\": 4986431, \"life_expect\": 75.7, \"fertility\": 1.819}, {\"year\": 1995, \"country\": \"Finland\", \"cluster\": 1, \"pop\": 5104654, \"life_expect\": 77.13, \"fertility\": 1.7429999999999999}, {\"year\": 2000, \"country\": \"Finland\", \"cluster\": 1, \"pop\": 5168595, \"life_expect\": 78.37, \"fertility\": 1.754}, {\"year\": 2005, \"country\": \"Finland\", \"cluster\": 1, \"pop\": 5223442, \"life_expect\": 79.313, \"fertility\": 1.8250000000000002}, {\"year\": 1955, \"country\": \"France\", \"cluster\": 1, \"pop\": 43427669, \"life_expect\": 68.93, \"fertility\": 2.7119999999999997}, {\"year\": 1960, \"country\": \"France\", \"cluster\": 1, \"pop\": 45670000, \"life_expect\": 70.51, \"fertility\": 2.85}, {\"year\": 1965, \"country\": \"France\", \"cluster\": 1, \"pop\": 48763000, \"life_expect\": 71.55, \"fertility\": 2.607}, {\"year\": 1970, \"country\": \"France\", \"cluster\": 1, \"pop\": 50787000, \"life_expect\": 72.38, \"fertility\": 2.31}, {\"year\": 1975, \"country\": \"France\", \"cluster\": 1, \"pop\": 52758427, \"life_expect\": 73.83, \"fertility\": 1.862}, {\"year\": 1980, \"country\": \"France\", \"cluster\": 1, \"pop\": 53869743, \"life_expect\": 74.89, \"fertility\": 1.866}, {\"year\": 1985, \"country\": \"France\", \"cluster\": 1, \"pop\": 55171224, \"life_expect\": 76.34, \"fertility\": 1.8050000000000002}, {\"year\": 1990, \"country\": \"France\", \"cluster\": 1, \"pop\": 56735161, \"life_expect\": 77.46, \"fertility\": 1.713}, {\"year\": 1995, \"country\": \"France\", \"cluster\": 1, \"pop\": 58149727, \"life_expect\": 78.64, \"fertility\": 1.7624}, {\"year\": 2000, \"country\": \"France\", \"cluster\": 1, \"pop\": 59381628, \"life_expect\": 79.59, \"fertility\": 1.8833000000000002}, {\"year\": 2005, \"country\": \"France\", \"cluster\": 1, \"pop\": 60656178, \"life_expect\": 80.657, \"fertility\": 1.8916}, {\"year\": 1955, \"country\": \"Georgia\", \"cluster\": 1, \"pop\": 3827154, \"life_expect\": 62.625, \"fertility\": 2.909}, {\"year\": 1960, \"country\": \"Georgia\", \"cluster\": 1, \"pop\": 4146570, \"life_expect\": 64.644, \"fertility\": 2.979}, {\"year\": 1965, \"country\": \"Georgia\", \"cluster\": 1, \"pop\": 4464959, \"life_expect\": 66.654, \"fertility\": 2.6109999999999998}, {\"year\": 1970, \"country\": \"Georgia\", \"cluster\": 1, \"pop\": 4694491, \"life_expect\": 68.158, \"fertility\": 2.601}, {\"year\": 1975, \"country\": \"Georgia\", \"cluster\": 1, \"pop\": 4897656, \"life_expect\": 69.634, \"fertility\": 2.39}, {\"year\": 1980, \"country\": \"Georgia\", \"cluster\": 1, \"pop\": 5045697, \"life_expect\": 69.638, \"fertility\": 2.269}, {\"year\": 1985, \"country\": \"Georgia\", \"cluster\": 1, \"pop\": 5192957, \"life_expect\": 70.45, \"fertility\": 2.263}, {\"year\": 1990, \"country\": \"Georgia\", \"cluster\": 1, \"pop\": 5426207, \"life_expect\": 70.465, \"fertility\": 1.9500000000000002}, {\"year\": 1995, \"country\": \"Georgia\", \"cluster\": 1, \"pop\": 5012952, \"life_expect\": 70.49, \"fertility\": 1.58}, {\"year\": 2000, \"country\": \"Georgia\", \"cluster\": 1, \"pop\": 4777209, \"life_expect\": 70.476, \"fertility\": 1.478}, {\"year\": 2005, \"country\": \"Georgia\", \"cluster\": 1, \"pop\": 4677401, \"life_expect\": 70.987, \"fertility\": 1.407}, {\"year\": 1955, \"country\": \"Germany\", \"cluster\": 1, \"pop\": 70195612, \"life_expect\": 69.1, \"fertility\": 2.3}, {\"year\": 1960, \"country\": \"Germany\", \"cluster\": 1, \"pop\": 72480869, \"life_expect\": 70.3, \"fertility\": 2.49}, {\"year\": 1965, \"country\": \"Germany\", \"cluster\": 1, \"pop\": 75638851, \"life_expect\": 70.8, \"fertility\": 2.32}, {\"year\": 1970, \"country\": \"Germany\", \"cluster\": 1, \"pop\": 77783164, \"life_expect\": 71.0, \"fertility\": 1.6400000000000001}, {\"year\": 1975, \"country\": \"Germany\", \"cluster\": 1, \"pop\": 78682325, \"life_expect\": 72.5, \"fertility\": 1.52}, {\"year\": 1980, \"country\": \"Germany\", \"cluster\": 1, \"pop\": 78297904, \"life_expect\": 73.8, \"fertility\": 1.46}, {\"year\": 1985, \"country\": \"Germany\", \"cluster\": 1, \"pop\": 77684907, \"life_expect\": 74.847, \"fertility\": 1.43}, {\"year\": 1990, \"country\": \"Germany\", \"cluster\": 1, \"pop\": 79380394, \"life_expect\": 76.07, \"fertility\": 1.31}, {\"year\": 1995, \"country\": \"Germany\", \"cluster\": 1, \"pop\": 81653702, \"life_expect\": 77.34, \"fertility\": 1.34}, {\"year\": 2000, \"country\": \"Germany\", \"cluster\": 1, \"pop\": 82187909, \"life_expect\": 78.67, \"fertility\": 1.346}, {\"year\": 2005, \"country\": \"Germany\", \"cluster\": 1, \"pop\": 82431390, \"life_expect\": 79.406, \"fertility\": 1.3599999999999999}, {\"year\": 1955, \"country\": \"Greece\", \"cluster\": 1, \"pop\": 7965538, \"life_expect\": 67.86, \"fertility\": 2.27}, {\"year\": 1960, \"country\": \"Greece\", \"cluster\": 1, \"pop\": 8327405, \"life_expect\": 69.51, \"fertility\": 2.2}, {\"year\": 1965, \"country\": \"Greece\", \"cluster\": 1, \"pop\": 8550333, \"life_expect\": 71.0, \"fertility\": 2.38}, {\"year\": 1970, \"country\": \"Greece\", \"cluster\": 1, \"pop\": 8792806, \"life_expect\": 72.34, \"fertility\": 2.32}, {\"year\": 1975, \"country\": \"Greece\", \"cluster\": 1, \"pop\": 9046542, \"life_expect\": 73.68, \"fertility\": 2.32}, {\"year\": 1980, \"country\": \"Greece\", \"cluster\": 1, \"pop\": 9642505, \"life_expect\": 75.24, \"fertility\": 1.96}, {\"year\": 1985, \"country\": \"Greece\", \"cluster\": 1, \"pop\": 9923253, \"life_expect\": 76.67, \"fertility\": 1.53}, {\"year\": 1990, \"country\": \"Greece\", \"cluster\": 1, \"pop\": 10129603, \"life_expect\": 77.03, \"fertility\": 1.37}, {\"year\": 1995, \"country\": \"Greece\", \"cluster\": 1, \"pop\": 10457554, \"life_expect\": 77.869, \"fertility\": 1.296}, {\"year\": 2000, \"country\": \"Greece\", \"cluster\": 1, \"pop\": 10559110, \"life_expect\": 78.256, \"fertility\": 1.2770000000000001}, {\"year\": 2005, \"country\": \"Greece\", \"cluster\": 1, \"pop\": 10668354, \"life_expect\": 79.483, \"fertility\": 1.325}, {\"year\": 1955, \"country\": \"Grenada\", \"cluster\": 3, \"pop\": 84621, \"life_expect\": 63.114, \"fertility\": 6.7}, {\"year\": 1960, \"country\": \"Grenada\", \"cluster\": 3, \"pop\": 90148, \"life_expect\": 63.608, \"fertility\": 6.4}, {\"year\": 1965, \"country\": \"Grenada\", \"cluster\": 3, \"pop\": 93290, \"life_expect\": 64.091, \"fertility\": 4.8}, {\"year\": 1970, \"country\": \"Grenada\", \"cluster\": 3, \"pop\": 95410, \"life_expect\": 64.577, \"fertility\": 4.6}, {\"year\": 1975, \"country\": \"Grenada\", \"cluster\": 3, \"pop\": 95819, \"life_expect\": 65.035, \"fertility\": 4.3}, {\"year\": 1980, \"country\": \"Grenada\", \"cluster\": 3, \"pop\": 90164, \"life_expect\": 65.503, \"fertility\": 4.23}, {\"year\": 1985, \"country\": \"Grenada\", \"cluster\": 3, \"pop\": 92203, \"life_expect\": 66.002, \"fertility\": 4.14}, {\"year\": 1990, \"country\": \"Grenada\", \"cluster\": 3, \"pop\": 92360, \"life_expect\": 66.469, \"fertility\": 3.26}, {\"year\": 1995, \"country\": \"Grenada\", \"cluster\": 3, \"pop\": 90603, \"life_expect\": 66.986, \"fertility\": 2.814}, {\"year\": 2000, \"country\": \"Grenada\", \"cluster\": 3, \"pop\": 89312, \"life_expect\": 67.746, \"fertility\": 2.429}, {\"year\": 2005, \"country\": \"Grenada\", \"cluster\": 3, \"pop\": 89502, \"life_expect\": 68.724, \"fertility\": 2.302}, {\"year\": 1955, \"country\": \"Haiti\", \"cluster\": 3, \"pop\": 3376419, \"life_expect\": 40.696, \"fertility\": 6.3}, {\"year\": 1960, \"country\": \"Haiti\", \"cluster\": 3, \"pop\": 3722743, \"life_expect\": 43.59, \"fertility\": 6.3}, {\"year\": 1965, \"country\": \"Haiti\", \"cluster\": 3, \"pop\": 4137405, \"life_expect\": 46.243, \"fertility\": 6.0}, {\"year\": 1970, \"country\": \"Haiti\", \"cluster\": 3, \"pop\": 4604915, \"life_expect\": 48.042, \"fertility\": 5.6005}, {\"year\": 1975, \"country\": \"Haiti\", \"cluster\": 3, \"pop\": 4828338, \"life_expect\": 49.923, \"fertility\": 5.8}, {\"year\": 1980, \"country\": \"Haiti\", \"cluster\": 3, \"pop\": 5029725, \"life_expect\": 51.461, \"fertility\": 6.2099}, {\"year\": 1985, \"country\": \"Haiti\", \"cluster\": 3, \"pop\": 5517977, \"life_expect\": 53.636, \"fertility\": 5.69985}, {\"year\": 1990, \"country\": \"Haiti\", \"cluster\": 3, \"pop\": 6126101, \"life_expect\": 55.089, \"fertility\": 5.14985}, {\"year\": 1995, \"country\": \"Haiti\", \"cluster\": 3, \"pop\": 6675578, \"life_expect\": 56.671, \"fertility\": 4.61995}, {\"year\": 2000, \"country\": \"Haiti\", \"cluster\": 3, \"pop\": 7306302, \"life_expect\": 58.137, \"fertility\": 4.0}, {\"year\": 2005, \"country\": \"Haiti\", \"cluster\": 3, \"pop\": 8121622, \"life_expect\": 60.916, \"fertility\": 3.5445}, {\"year\": 1955, \"country\": \"Hong Kong\", \"cluster\": 4, \"pop\": 2490400, \"life_expect\": 64.75, \"fertility\": 4.72}, {\"year\": 1960, \"country\": \"Hong Kong\", \"cluster\": 4, \"pop\": 3075300, \"life_expect\": 67.65, \"fertility\": 5.31}, {\"year\": 1965, \"country\": \"Hong Kong\", \"cluster\": 4, \"pop\": 3597900, \"life_expect\": 70.0, \"fertility\": 4.02}, {\"year\": 1970, \"country\": \"Hong Kong\", \"cluster\": 4, \"pop\": 3959000, \"life_expect\": 72.0, \"fertility\": 2.89}, {\"year\": 1975, \"country\": \"Hong Kong\", \"cluster\": 4, \"pop\": 4395800, \"life_expect\": 73.6, \"fertility\": 2.32}, {\"year\": 1980, \"country\": \"Hong Kong\", \"cluster\": 4, \"pop\": 5063100, \"life_expect\": 75.45, \"fertility\": 1.8}, {\"year\": 1985, \"country\": \"Hong Kong\", \"cluster\": 4, \"pop\": 5456200, \"life_expect\": 76.2, \"fertility\": 1.31}, {\"year\": 1990, \"country\": \"Hong Kong\", \"cluster\": 4, \"pop\": 5687959, \"life_expect\": 77.601, \"fertility\": 1.288}, {\"year\": 1995, \"country\": \"Hong Kong\", \"cluster\": 4, \"pop\": 6225347, \"life_expect\": 80.0, \"fertility\": 1.08}, {\"year\": 2000, \"country\": \"Hong Kong\", \"cluster\": 4, \"pop\": 6658720, \"life_expect\": 81.495, \"fertility\": 0.9400000000000001}, {\"year\": 2005, \"country\": \"Hong Kong\", \"cluster\": 4, \"pop\": 6898686, \"life_expect\": 82.208, \"fertility\": 0.966}, {\"year\": 1955, \"country\": \"Iceland\", \"cluster\": 1, \"pop\": 158044, \"life_expect\": 73.47, \"fertility\": 4.023}, {\"year\": 1960, \"country\": \"Iceland\", \"cluster\": 1, \"pop\": 175860, \"life_expect\": 73.68, \"fertility\": 3.943}, {\"year\": 1965, \"country\": \"Iceland\", \"cluster\": 1, \"pop\": 192288, \"life_expect\": 73.73, \"fertility\": 3.154}, {\"year\": 1970, \"country\": \"Iceland\", \"cluster\": 1, \"pop\": 204104, \"life_expect\": 74.46, \"fertility\": 2.843}, {\"year\": 1975, \"country\": \"Iceland\", \"cluster\": 1, \"pop\": 218031, \"life_expect\": 76.11, \"fertility\": 2.287}, {\"year\": 1980, \"country\": \"Iceland\", \"cluster\": 1, \"pop\": 228161, \"life_expect\": 76.99, \"fertility\": 2.248}, {\"year\": 1985, \"country\": \"Iceland\", \"cluster\": 1, \"pop\": 241403, \"life_expect\": 77.23, \"fertility\": 2.116}, {\"year\": 1990, \"country\": \"Iceland\", \"cluster\": 1, \"pop\": 254719, \"life_expect\": 78.77, \"fertility\": 2.194}, {\"year\": 1995, \"country\": \"Iceland\", \"cluster\": 1, \"pop\": 267527, \"life_expect\": 78.95, \"fertility\": 2.056}, {\"year\": 2000, \"country\": \"Iceland\", \"cluster\": 1, \"pop\": 281043, \"life_expect\": 80.5, \"fertility\": 1.9929999999999999}, {\"year\": 2005, \"country\": \"Iceland\", \"cluster\": 1, \"pop\": 296737, \"life_expect\": 81.757, \"fertility\": 2.052}, {\"year\": 1955, \"country\": \"India\", \"cluster\": 0, \"pop\": 393000000, \"life_expect\": 40.249, \"fertility\": 5.8961}, {\"year\": 1960, \"country\": \"India\", \"cluster\": 0, \"pop\": 434000000, \"life_expect\": 43.605, \"fertility\": 5.8216}, {\"year\": 1965, \"country\": \"India\", \"cluster\": 0, \"pop\": 485000000, \"life_expect\": 47.193, \"fertility\": 5.6058}, {\"year\": 1970, \"country\": \"India\", \"cluster\": 0, \"pop\": 541000000, \"life_expect\": 50.651, \"fertility\": 5.264}, {\"year\": 1975, \"country\": \"India\", \"cluster\": 0, \"pop\": 607000000, \"life_expect\": 54.208, \"fertility\": 4.8888}, {\"year\": 1980, \"country\": \"India\", \"cluster\": 0, \"pop\": 679000000, \"life_expect\": 56.596, \"fertility\": 4.4975}, {\"year\": 1985, \"country\": \"India\", \"cluster\": 0, \"pop\": 755000000, \"life_expect\": 58.553, \"fertility\": 4.15}, {\"year\": 1990, \"country\": \"India\", \"cluster\": 0, \"pop\": 839000000, \"life_expect\": 60.223, \"fertility\": 3.8648}, {\"year\": 1995, \"country\": \"India\", \"cluster\": 0, \"pop\": 927000000, \"life_expect\": 61.765, \"fertility\": 3.4551}, {\"year\": 2000, \"country\": \"India\", \"cluster\": 0, \"pop\": 1007702000, \"life_expect\": 62.879, \"fertility\": 3.1132}, {\"year\": 2005, \"country\": \"India\", \"cluster\": 0, \"pop\": 1080264388, \"life_expect\": 64.698, \"fertility\": 2.8073}, {\"year\": 1955, \"country\": \"Indonesia\", \"cluster\": 4, \"pop\": 86807000, \"life_expect\": 39.918, \"fertility\": 5.672}, {\"year\": 1960, \"country\": \"Indonesia\", \"cluster\": 4, \"pop\": 95254000, \"life_expect\": 42.518, \"fertility\": 5.62}, {\"year\": 1965, \"country\": \"Indonesia\", \"cluster\": 4, \"pop\": 105093000, \"life_expect\": 45.964, \"fertility\": 5.568}, {\"year\": 1970, \"country\": \"Indonesia\", \"cluster\": 4, \"pop\": 116044000, \"life_expect\": 49.203, \"fertility\": 5.3}, {\"year\": 1975, \"country\": \"Indonesia\", \"cluster\": 4, \"pop\": 130297000, \"life_expect\": 52.702, \"fertility\": 4.73}, {\"year\": 1980, \"country\": \"Indonesia\", \"cluster\": 4, \"pop\": 146995000, \"life_expect\": 56.159, \"fertility\": 4.109}, {\"year\": 1985, \"country\": \"Indonesia\", \"cluster\": 4, \"pop\": 163403000, \"life_expect\": 60.137, \"fertility\": 3.4}, {\"year\": 1990, \"country\": \"Indonesia\", \"cluster\": 4, \"pop\": 178500000, \"life_expect\": 62.681, \"fertility\": 2.9}, {\"year\": 1995, \"country\": \"Indonesia\", \"cluster\": 4, \"pop\": 194755000, \"life_expect\": 66.041, \"fertility\": 2.55}, {\"year\": 2000, \"country\": \"Indonesia\", \"cluster\": 4, \"pop\": 206265000, \"life_expect\": 68.588, \"fertility\": 2.3761}, {\"year\": 2005, \"country\": \"Indonesia\", \"cluster\": 4, \"pop\": 218465000, \"life_expect\": 70.65, \"fertility\": 2.182}, {\"year\": 1955, \"country\": \"Iran\", \"cluster\": 5, \"pop\": 18729000, \"life_expect\": 47.181, \"fertility\": 7.0}, {\"year\": 1960, \"country\": \"Iran\", \"cluster\": 5, \"pop\": 21577000, \"life_expect\": 49.325, \"fertility\": 7.0}, {\"year\": 1965, \"country\": \"Iran\", \"cluster\": 5, \"pop\": 25000000, \"life_expect\": 52.469, \"fertility\": 6.8}, {\"year\": 1970, \"country\": \"Iran\", \"cluster\": 5, \"pop\": 28933000, \"life_expect\": 55.234, \"fertility\": 6.4}, {\"year\": 1975, \"country\": \"Iran\", \"cluster\": 5, \"pop\": 33379000, \"life_expect\": 57.702, \"fertility\": 6.5}, {\"year\": 1980, \"country\": \"Iran\", \"cluster\": 5, \"pop\": 39583397, \"life_expect\": 59.62, \"fertility\": 6.63}, {\"year\": 1985, \"country\": \"Iran\", \"cluster\": 5, \"pop\": 48439952, \"life_expect\": 63.04, \"fertility\": 5.62}, {\"year\": 1990, \"country\": \"Iran\", \"cluster\": 5, \"pop\": 57035717, \"life_expect\": 65.742, \"fertility\": 4.328}, {\"year\": 1995, \"country\": \"Iran\", \"cluster\": 5, \"pop\": 61628116, \"life_expect\": 68.042, \"fertility\": 2.534}, {\"year\": 2000, \"country\": \"Iran\", \"cluster\": 5, \"pop\": 65660289, \"life_expect\": 69.451, \"fertility\": 2.124}, {\"year\": 2005, \"country\": \"Iran\", \"cluster\": 5, \"pop\": 68017860, \"life_expect\": 70.964, \"fertility\": 2.04}, {\"year\": 1955, \"country\": \"Iraq\", \"cluster\": 5, \"pop\": 5903253, \"life_expect\": 48.437, \"fertility\": 7.3}, {\"year\": 1960, \"country\": \"Iraq\", \"cluster\": 5, \"pop\": 6822030, \"life_expect\": 51.457, \"fertility\": 7.25}, {\"year\": 1965, \"country\": \"Iraq\", \"cluster\": 5, \"pop\": 7970746, \"life_expect\": 54.459, \"fertility\": 7.2}, {\"year\": 1970, \"country\": \"Iraq\", \"cluster\": 5, \"pop\": 9413671, \"life_expect\": 56.95, \"fertility\": 7.15}, {\"year\": 1975, \"country\": \"Iraq\", \"cluster\": 5, \"pop\": 11117804, \"life_expect\": 60.413, \"fertility\": 6.8}, {\"year\": 1980, \"country\": \"Iraq\", \"cluster\": 5, \"pop\": 13232839, \"life_expect\": 62.038, \"fertility\": 6.35}, {\"year\": 1985, \"country\": \"Iraq\", \"cluster\": 5, \"pop\": 15693620, \"life_expect\": 65.044, \"fertility\": 6.15}, {\"year\": 1990, \"country\": \"Iraq\", \"cluster\": 5, \"pop\": 18134702, \"life_expect\": 59.461, \"fertility\": 5.7}, {\"year\": 1995, \"country\": \"Iraq\", \"cluster\": 5, \"pop\": 19557247, \"life_expect\": 58.811, \"fertility\": 5.37}, {\"year\": 2000, \"country\": \"Iraq\", \"cluster\": 5, \"pop\": 22675617, \"life_expect\": 57.046, \"fertility\": 4.858}, {\"year\": 2005, \"country\": \"Iraq\", \"cluster\": 5, \"pop\": 26074906, \"life_expect\": 59.545, \"fertility\": 4.264}, {\"year\": 1955, \"country\": \"Ireland\", \"cluster\": 1, \"pop\": 2916133, \"life_expect\": 68.9, \"fertility\": 3.68}, {\"year\": 1960, \"country\": \"Ireland\", \"cluster\": 1, \"pop\": 2832000, \"life_expect\": 70.29, \"fertility\": 3.979}, {\"year\": 1965, \"country\": \"Ireland\", \"cluster\": 1, \"pop\": 2876000, \"life_expect\": 71.08, \"fertility\": 3.873}, {\"year\": 1970, \"country\": \"Ireland\", \"cluster\": 1, \"pop\": 2950100, \"life_expect\": 71.28, \"fertility\": 3.815}, {\"year\": 1975, \"country\": \"Ireland\", \"cluster\": 1, \"pop\": 3177300, \"life_expect\": 72.03, \"fertility\": 3.478}, {\"year\": 1980, \"country\": \"Ireland\", \"cluster\": 1, \"pop\": 3401000, \"life_expect\": 73.1, \"fertility\": 2.877}, {\"year\": 1985, \"country\": \"Ireland\", \"cluster\": 1, \"pop\": 3540000, \"life_expect\": 74.36, \"fertility\": 2.287}, {\"year\": 1990, \"country\": \"Ireland\", \"cluster\": 1, \"pop\": 3508200, \"life_expect\": 75.467, \"fertility\": 1.9689999999999999}, {\"year\": 1995, \"country\": \"Ireland\", \"cluster\": 1, \"pop\": 3613890, \"life_expect\": 76.122, \"fertility\": 1.9}, {\"year\": 2000, \"country\": \"Ireland\", \"cluster\": 1, \"pop\": 3791690, \"life_expect\": 77.783, \"fertility\": 1.9689999999999999}, {\"year\": 2005, \"country\": \"Ireland\", \"cluster\": 1, \"pop\": 4015676, \"life_expect\": 78.885, \"fertility\": 1.964}, {\"year\": 1955, \"country\": \"Israel\", \"cluster\": 5, \"pop\": 1772032, \"life_expect\": 67.84, \"fertility\": 3.893}, {\"year\": 1960, \"country\": \"Israel\", \"cluster\": 5, \"pop\": 2141495, \"life_expect\": 69.39, \"fertility\": 3.852}, {\"year\": 1965, \"country\": \"Israel\", \"cluster\": 5, \"pop\": 2578184, \"life_expect\": 70.75, \"fertility\": 3.79}, {\"year\": 1970, \"country\": \"Israel\", \"cluster\": 5, \"pop\": 2903434, \"life_expect\": 71.63, \"fertility\": 3.77}, {\"year\": 1975, \"country\": \"Israel\", \"cluster\": 5, \"pop\": 3354242, \"life_expect\": 73.06, \"fertility\": 3.409}, {\"year\": 1980, \"country\": \"Israel\", \"cluster\": 5, \"pop\": 3737473, \"life_expect\": 74.45, \"fertility\": 3.125}, {\"year\": 1985, \"country\": \"Israel\", \"cluster\": 5, \"pop\": 4074965, \"life_expect\": 75.6, \"fertility\": 3.051}, {\"year\": 1990, \"country\": \"Israel\", \"cluster\": 5, \"pop\": 4512068, \"life_expect\": 76.93, \"fertility\": 2.933}, {\"year\": 1995, \"country\": \"Israel\", \"cluster\": 5, \"pop\": 5305120, \"life_expect\": 78.269, \"fertility\": 2.942}, {\"year\": 2000, \"country\": \"Israel\", \"cluster\": 5, \"pop\": 5842454, \"life_expect\": 79.696, \"fertility\": 2.906}, {\"year\": 2005, \"country\": \"Israel\", \"cluster\": 5, \"pop\": 6276883, \"life_expect\": 80.745, \"fertility\": 2.75}, {\"year\": 1955, \"country\": \"Italy\", \"cluster\": 1, \"pop\": 48633000, \"life_expect\": 67.81, \"fertility\": 2.35}, {\"year\": 1960, \"country\": \"Italy\", \"cluster\": 1, \"pop\": 50197600, \"life_expect\": 69.24, \"fertility\": 2.498}, {\"year\": 1965, \"country\": \"Italy\", \"cluster\": 1, \"pop\": 51987100, \"life_expect\": 71.06, \"fertility\": 2.493}, {\"year\": 1970, \"country\": \"Italy\", \"cluster\": 1, \"pop\": 53661100, \"life_expect\": 72.19, \"fertility\": 2.325}, {\"year\": 1975, \"country\": \"Italy\", \"cluster\": 1, \"pop\": 55571894, \"life_expect\": 73.48, \"fertility\": 1.889}, {\"year\": 1980, \"country\": \"Italy\", \"cluster\": 1, \"pop\": 56451247, \"life_expect\": 74.98, \"fertility\": 1.53}, {\"year\": 1985, \"country\": \"Italy\", \"cluster\": 1, \"pop\": 56731215, \"life_expect\": 76.42, \"fertility\": 1.349}, {\"year\": 1990, \"country\": \"Italy\", \"cluster\": 1, \"pop\": 56742886, \"life_expect\": 77.44, \"fertility\": 1.275}, {\"year\": 1995, \"country\": \"Italy\", \"cluster\": 1, \"pop\": 57274531, \"life_expect\": 78.82, \"fertility\": 1.213}, {\"year\": 2000, \"country\": \"Italy\", \"cluster\": 1, \"pop\": 57719337, \"life_expect\": 80.24, \"fertility\": 1.286}, {\"year\": 2005, \"country\": \"Italy\", \"cluster\": 1, \"pop\": 58103033, \"life_expect\": 80.546, \"fertility\": 1.379}, {\"year\": 1955, \"country\": \"Jamaica\", \"cluster\": 3, \"pop\": 1488805, \"life_expect\": 62.61, \"fertility\": 5.08}, {\"year\": 1960, \"country\": \"Jamaica\", \"cluster\": 3, \"pop\": 1631784, \"life_expect\": 65.61, \"fertility\": 5.64}, {\"year\": 1965, \"country\": \"Jamaica\", \"cluster\": 3, \"pop\": 1777397, \"life_expect\": 67.51, \"fertility\": 5.78}, {\"year\": 1970, \"country\": \"Jamaica\", \"cluster\": 3, \"pop\": 1943787, \"life_expect\": 69.0, \"fertility\": 5.0}, {\"year\": 1975, \"country\": \"Jamaica\", \"cluster\": 3, \"pop\": 2104879, \"life_expect\": 70.11, \"fertility\": 4.0}, {\"year\": 1980, \"country\": \"Jamaica\", \"cluster\": 3, \"pop\": 2228803, \"life_expect\": 71.21, \"fertility\": 3.55}, {\"year\": 1985, \"country\": \"Jamaica\", \"cluster\": 3, \"pop\": 2318652, \"life_expect\": 71.77, \"fertility\": 3.1}, {\"year\": 1990, \"country\": \"Jamaica\", \"cluster\": 3, \"pop\": 2347922, \"life_expect\": 71.766, \"fertility\": 2.84}, {\"year\": 1995, \"country\": \"Jamaica\", \"cluster\": 3, \"pop\": 2469389, \"life_expect\": 72.262, \"fertility\": 2.67}, {\"year\": 2000, \"country\": \"Jamaica\", \"cluster\": 3, \"pop\": 2615467, \"life_expect\": 72.047, \"fertility\": 2.628}, {\"year\": 2005, \"country\": \"Jamaica\", \"cluster\": 3, \"pop\": 2735520, \"life_expect\": 72.567, \"fertility\": 2.4289}, {\"year\": 1955, \"country\": \"Japan\", \"cluster\": 4, \"pop\": 89815060, \"life_expect\": 65.5, \"fertility\": 2.08}, {\"year\": 1960, \"country\": \"Japan\", \"cluster\": 4, \"pop\": 94091638, \"life_expect\": 68.73, \"fertility\": 2.02}, {\"year\": 1965, \"country\": \"Japan\", \"cluster\": 4, \"pop\": 98882534, \"life_expect\": 71.43, \"fertility\": 2.0}, {\"year\": 1970, \"country\": \"Japan\", \"cluster\": 4, \"pop\": 104344973, \"life_expect\": 73.42, \"fertility\": 2.07}, {\"year\": 1975, \"country\": \"Japan\", \"cluster\": 4, \"pop\": 111573116, \"life_expect\": 75.38, \"fertility\": 1.81}, {\"year\": 1980, \"country\": \"Japan\", \"cluster\": 4, \"pop\": 116807309, \"life_expect\": 77.11, \"fertility\": 1.76}, {\"year\": 1985, \"country\": \"Japan\", \"cluster\": 4, \"pop\": 120754335, \"life_expect\": 78.67, \"fertility\": 1.6600000000000001}, {\"year\": 1990, \"country\": \"Japan\", \"cluster\": 4, \"pop\": 123537399, \"life_expect\": 79.36, \"fertility\": 1.49}, {\"year\": 1995, \"country\": \"Japan\", \"cluster\": 4, \"pop\": 125341354, \"life_expect\": 80.69, \"fertility\": 1.3900000000000001}, {\"year\": 2000, \"country\": \"Japan\", \"cluster\": 4, \"pop\": 126699784, \"life_expect\": 82.0, \"fertility\": 1.291}, {\"year\": 2005, \"country\": \"Japan\", \"cluster\": 4, \"pop\": 127417244, \"life_expect\": 82.603, \"fertility\": 1.27}, {\"year\": 1955, \"country\": \"Kenya\", \"cluster\": 2, \"pop\": 7033999, \"life_expect\": 44.686, \"fertility\": 7.816}, {\"year\": 1960, \"country\": \"Kenya\", \"cluster\": 2, \"pop\": 8156827, \"life_expect\": 47.949, \"fertility\": 8.12}, {\"year\": 1965, \"country\": \"Kenya\", \"cluster\": 2, \"pop\": 9549179, \"life_expect\": 50.654, \"fertility\": 8.12}, {\"year\": 1970, \"country\": \"Kenya\", \"cluster\": 2, \"pop\": 11247182, \"life_expect\": 53.559, \"fertility\": 8.0}, {\"year\": 1975, \"country\": \"Kenya\", \"cluster\": 2, \"pop\": 13433414, \"life_expect\": 56.155, \"fertility\": 7.6}, {\"year\": 1980, \"country\": \"Kenya\", \"cluster\": 2, \"pop\": 16331401, \"life_expect\": 58.766, \"fertility\": 7.2}, {\"year\": 1985, \"country\": \"Kenya\", \"cluster\": 2, \"pop\": 19763285, \"life_expect\": 59.339, \"fertility\": 6.5}, {\"year\": 1990, \"country\": \"Kenya\", \"cluster\": 2, \"pop\": 23358413, \"life_expect\": 59.285, \"fertility\": 5.4}, {\"year\": 1995, \"country\": \"Kenya\", \"cluster\": 2, \"pop\": 27060142, \"life_expect\": 54.407, \"fertility\": 5.0}, {\"year\": 2000, \"country\": \"Kenya\", \"cluster\": 2, \"pop\": 29985839, \"life_expect\": 50.992, \"fertility\": 5.0}, {\"year\": 2005, \"country\": \"Kenya\", \"cluster\": 2, \"pop\": 33829590, \"life_expect\": 54.11, \"fertility\": 4.959}, {\"year\": 1955, \"country\": \"South Korea\", \"cluster\": 4, \"pop\": 8839427, \"life_expect\": 54.081, \"fertility\": 3.8}, {\"year\": 1960, \"country\": \"South Korea\", \"cluster\": 4, \"pop\": 10391909, \"life_expect\": 56.656, \"fertility\": 3.41}, {\"year\": 1965, \"country\": \"South Korea\", \"cluster\": 4, \"pop\": 11868751, \"life_expect\": 59.942, \"fertility\": 4.09}, {\"year\": 1970, \"country\": \"South Korea\", \"cluster\": 4, \"pop\": 13911902, \"life_expect\": 63.983, \"fertility\": 3.7199999999999998}, {\"year\": 1975, \"country\": \"South Korea\", \"cluster\": 4, \"pop\": 15801308, \"life_expect\": 67.159, \"fertility\": 2.58}, {\"year\": 1980, \"country\": \"South Korea\", \"cluster\": 4, \"pop\": 17113626, \"life_expect\": 69.1, \"fertility\": 2.93}, {\"year\": 1985, \"country\": \"South Korea\", \"cluster\": 4, \"pop\": 18481420, \"life_expect\": 70.647, \"fertility\": 2.45}, {\"year\": 1990, \"country\": \"South Korea\", \"cluster\": 4, \"pop\": 20018546, \"life_expect\": 69.978, \"fertility\": 2.35}, {\"year\": 1995, \"country\": \"South Korea\", \"cluster\": 4, \"pop\": 21561856, \"life_expect\": 67.727, \"fertility\": 2.0938}, {\"year\": 2000, \"country\": \"South Korea\", \"cluster\": 4, \"pop\": 21647682, \"life_expect\": 66.662, \"fertility\": 1.9173}, {\"year\": 2005, \"country\": \"South Korea\", \"cluster\": 4, \"pop\": 22912177, \"life_expect\": 67.297, \"fertility\": 1.85}, {\"year\": 1955, \"country\": \"North Korea\", \"cluster\": 4, \"pop\": 21551834, \"life_expect\": 52.681, \"fertility\": 6.332}, {\"year\": 1960, \"country\": \"North Korea\", \"cluster\": 4, \"pop\": 24784140, \"life_expect\": 55.292, \"fertility\": 5.63}, {\"year\": 1965, \"country\": \"North Korea\", \"cluster\": 4, \"pop\": 28705000, \"life_expect\": 57.716, \"fertility\": 4.708}, {\"year\": 1970, \"country\": \"North Korea\", \"cluster\": 4, \"pop\": 32241000, \"life_expect\": 62.612, \"fertility\": 4.281}, {\"year\": 1975, \"country\": \"North Korea\", \"cluster\": 4, \"pop\": 35281000, \"life_expect\": 64.766, \"fertility\": 2.919}, {\"year\": 1980, \"country\": \"North Korea\", \"cluster\": 4, \"pop\": 38124000, \"life_expect\": 67.123, \"fertility\": 2.234}, {\"year\": 1985, \"country\": \"North Korea\", \"cluster\": 4, \"pop\": 40806000, \"life_expect\": 69.81, \"fertility\": 1.601}, {\"year\": 1990, \"country\": \"North Korea\", \"cluster\": 4, \"pop\": 42869000, \"life_expect\": 72.244, \"fertility\": 1.6960000000000002}, {\"year\": 1995, \"country\": \"North Korea\", \"cluster\": 4, \"pop\": 45264146, \"life_expect\": 74.647, \"fertility\": 1.514}, {\"year\": 2000, \"country\": \"North Korea\", \"cluster\": 4, \"pop\": 47351083, \"life_expect\": 77.045, \"fertility\": 1.242}, {\"year\": 2005, \"country\": \"North Korea\", \"cluster\": 4, \"pop\": 48640671, \"life_expect\": 78.623, \"fertility\": 1.21}, {\"year\": 1955, \"country\": \"Lebanon\", \"cluster\": 5, \"pop\": 1560985, \"life_expect\": 59.489, \"fertility\": 5.72}, {\"year\": 1960, \"country\": \"Lebanon\", \"cluster\": 5, \"pop\": 1786235, \"life_expect\": 62.094, \"fertility\": 5.689}, {\"year\": 1965, \"country\": \"Lebanon\", \"cluster\": 5, \"pop\": 2057945, \"life_expect\": 63.87, \"fertility\": 5.336}, {\"year\": 1970, \"country\": \"Lebanon\", \"cluster\": 5, \"pop\": 2383029, \"life_expect\": 65.421, \"fertility\": 4.78}, {\"year\": 1975, \"country\": \"Lebanon\", \"cluster\": 5, \"pop\": 3098159, \"life_expect\": 66.099, \"fertility\": 4.311}, {\"year\": 1980, \"country\": \"Lebanon\", \"cluster\": 5, \"pop\": 3085876, \"life_expect\": 66.983, \"fertility\": 3.895}, {\"year\": 1985, \"country\": \"Lebanon\", \"cluster\": 5, \"pop\": 3088235, \"life_expect\": 67.926, \"fertility\": 3.313}, {\"year\": 1990, \"country\": \"Lebanon\", \"cluster\": 5, \"pop\": 3147267, \"life_expect\": 69.292, \"fertility\": 3.0}, {\"year\": 1995, \"country\": \"Lebanon\", \"cluster\": 5, \"pop\": 3334733, \"life_expect\": 70.265, \"fertility\": 2.6950000000000003}, {\"year\": 2000, \"country\": \"Lebanon\", \"cluster\": 5, \"pop\": 3578036, \"life_expect\": 71.028, \"fertility\": 2.319}, {\"year\": 2005, \"country\": \"Lebanon\", \"cluster\": 5, \"pop\": 3826018, \"life_expect\": 71.993, \"fertility\": 2.209}, {\"year\": 1955, \"country\": \"Mexico\", \"cluster\": 3, \"pop\": 32929914, \"life_expect\": 55.19, \"fertility\": 6.8}, {\"year\": 1960, \"country\": \"Mexico\", \"cluster\": 3, \"pop\": 38578505, \"life_expect\": 58.299, \"fertility\": 6.7495}, {\"year\": 1965, \"country\": \"Mexico\", \"cluster\": 3, \"pop\": 45142399, \"life_expect\": 60.11, \"fertility\": 6.7495}, {\"year\": 1970, \"country\": \"Mexico\", \"cluster\": 3, \"pop\": 52775158, \"life_expect\": 62.361, \"fertility\": 6.5}, {\"year\": 1975, \"country\": \"Mexico\", \"cluster\": 3, \"pop\": 60678045, \"life_expect\": 65.032, \"fertility\": 5.2505}, {\"year\": 1980, \"country\": \"Mexico\", \"cluster\": 3, \"pop\": 68347479, \"life_expect\": 67.405, \"fertility\": 4.25}, {\"year\": 1985, \"country\": \"Mexico\", \"cluster\": 3, \"pop\": 76767225, \"life_expect\": 69.498, \"fertility\": 3.6295}, {\"year\": 1990, \"country\": \"Mexico\", \"cluster\": 3, \"pop\": 84913652, \"life_expect\": 71.455, \"fertility\": 3.1905}, {\"year\": 1995, \"country\": \"Mexico\", \"cluster\": 3, \"pop\": 92880353, \"life_expect\": 73.67, \"fertility\": 2.6705}, {\"year\": 2000, \"country\": \"Mexico\", \"cluster\": 3, \"pop\": 99926620, \"life_expect\": 74.902, \"fertility\": 2.4005}, {\"year\": 2005, \"country\": \"Mexico\", \"cluster\": 3, \"pop\": 106202903, \"life_expect\": 76.195, \"fertility\": 2.211}, {\"year\": 1955, \"country\": \"Netherlands\", \"cluster\": 1, \"pop\": 10750842, \"life_expect\": 72.99, \"fertility\": 3.095}, {\"year\": 1960, \"country\": \"Netherlands\", \"cluster\": 1, \"pop\": 11486000, \"life_expect\": 73.23, \"fertility\": 3.168}, {\"year\": 1965, \"country\": \"Netherlands\", \"cluster\": 1, \"pop\": 12292000, \"life_expect\": 73.82, \"fertility\": 2.797}, {\"year\": 1970, \"country\": \"Netherlands\", \"cluster\": 1, \"pop\": 13032335, \"life_expect\": 73.75, \"fertility\": 2.059}, {\"year\": 1975, \"country\": \"Netherlands\", \"cluster\": 1, \"pop\": 13653438, \"life_expect\": 75.24, \"fertility\": 1.596}, {\"year\": 1980, \"country\": \"Netherlands\", \"cluster\": 1, \"pop\": 14143901, \"life_expect\": 76.05, \"fertility\": 1.5150000000000001}, {\"year\": 1985, \"country\": \"Netherlands\", \"cluster\": 1, \"pop\": 14491380, \"life_expect\": 76.83, \"fertility\": 1.5550000000000002}, {\"year\": 1990, \"country\": \"Netherlands\", \"cluster\": 1, \"pop\": 14951510, \"life_expect\": 77.42, \"fertility\": 1.583}, {\"year\": 1995, \"country\": \"Netherlands\", \"cluster\": 1, \"pop\": 15459054, \"life_expect\": 78.03, \"fertility\": 1.6}, {\"year\": 2000, \"country\": \"Netherlands\", \"cluster\": 1, \"pop\": 15907853, \"life_expect\": 78.53, \"fertility\": 1.726}, {\"year\": 2005, \"country\": \"Netherlands\", \"cluster\": 1, \"pop\": 16407491, \"life_expect\": 79.762, \"fertility\": 1.721}, {\"year\": 1955, \"country\": \"New Zealand\", \"cluster\": 4, \"pop\": 2136168, \"life_expect\": 70.26, \"fertility\": 4.07}, {\"year\": 1960, \"country\": \"New Zealand\", \"cluster\": 4, \"pop\": 2371746, \"life_expect\": 71.24, \"fertility\": 4.022}, {\"year\": 1965, \"country\": \"New Zealand\", \"cluster\": 4, \"pop\": 2640400, \"life_expect\": 71.52, \"fertility\": 3.348}, {\"year\": 1970, \"country\": \"New Zealand\", \"cluster\": 4, \"pop\": 2828050, \"life_expect\": 71.89, \"fertility\": 2.843}, {\"year\": 1975, \"country\": \"New Zealand\", \"cluster\": 4, \"pop\": 3117800, \"life_expect\": 72.22, \"fertility\": 2.178}, {\"year\": 1980, \"country\": \"New Zealand\", \"cluster\": 4, \"pop\": 3170150, \"life_expect\": 73.84, \"fertility\": 1.963}, {\"year\": 1985, \"country\": \"New Zealand\", \"cluster\": 4, \"pop\": 3298050, \"life_expect\": 74.32, \"fertility\": 2.053}, {\"year\": 1990, \"country\": \"New Zealand\", \"cluster\": 4, \"pop\": 3359604, \"life_expect\": 76.33, \"fertility\": 2.061}, {\"year\": 1995, \"country\": \"New Zealand\", \"cluster\": 4, \"pop\": 3565990, \"life_expect\": 77.55, \"fertility\": 1.952}, {\"year\": 2000, \"country\": \"New Zealand\", \"cluster\": 4, \"pop\": 3819762, \"life_expect\": 79.11, \"fertility\": 1.964}, {\"year\": 2005, \"country\": \"New Zealand\", \"cluster\": 4, \"pop\": 4035461, \"life_expect\": 80.204, \"fertility\": 1.994}, {\"year\": 1955, \"country\": \"Nigeria\", \"cluster\": 2, \"pop\": 35458978, \"life_expect\": 37.802, \"fertility\": 6.9}, {\"year\": 1960, \"country\": \"Nigeria\", \"cluster\": 2, \"pop\": 39914593, \"life_expect\": 39.36, \"fertility\": 6.9}, {\"year\": 1965, \"country\": \"Nigeria\", \"cluster\": 2, \"pop\": 45020052, \"life_expect\": 41.04, \"fertility\": 6.9}, {\"year\": 1970, \"country\": \"Nigeria\", \"cluster\": 2, \"pop\": 51027516, \"life_expect\": 42.821, \"fertility\": 6.9}, {\"year\": 1975, \"country\": \"Nigeria\", \"cluster\": 2, \"pop\": 58522112, \"life_expect\": 44.514, \"fertility\": 6.9}, {\"year\": 1980, \"country\": \"Nigeria\", \"cluster\": 2, \"pop\": 68550274, \"life_expect\": 45.826, \"fertility\": 6.9}, {\"year\": 1985, \"country\": \"Nigeria\", \"cluster\": 2, \"pop\": 77573154, \"life_expect\": 46.886, \"fertility\": 6.834}, {\"year\": 1990, \"country\": \"Nigeria\", \"cluster\": 2, \"pop\": 88510354, \"life_expect\": 47.472, \"fertility\": 6.635}, {\"year\": 1995, \"country\": \"Nigeria\", \"cluster\": 2, \"pop\": 100960105, \"life_expect\": 47.464, \"fertility\": 6.246}, {\"year\": 2000, \"country\": \"Nigeria\", \"cluster\": 2, \"pop\": 114306700, \"life_expect\": 46.608, \"fertility\": 5.845}, {\"year\": 2005, \"country\": \"Nigeria\", \"cluster\": 2, \"pop\": 128765768, \"life_expect\": 46.859, \"fertility\": 5.322}, {\"year\": 1955, \"country\": \"Norway\", \"cluster\": 1, \"pop\": 3427409, \"life_expect\": 73.44, \"fertility\": 2.8369999999999997}, {\"year\": 1960, \"country\": \"Norway\", \"cluster\": 1, \"pop\": 3581239, \"life_expect\": 73.47, \"fertility\": 2.898}, {\"year\": 1965, \"country\": \"Norway\", \"cluster\": 1, \"pop\": 3723153, \"life_expect\": 74.08, \"fertility\": 2.719}, {\"year\": 1970, \"country\": \"Norway\", \"cluster\": 1, \"pop\": 3877386, \"life_expect\": 74.34, \"fertility\": 2.248}, {\"year\": 1975, \"country\": \"Norway\", \"cluster\": 1, \"pop\": 4007313, \"life_expect\": 75.37, \"fertility\": 1.81}, {\"year\": 1980, \"country\": \"Norway\", \"cluster\": 1, \"pop\": 4085620, \"life_expect\": 75.97, \"fertility\": 1.687}, {\"year\": 1985, \"country\": \"Norway\", \"cluster\": 1, \"pop\": 4152419, \"life_expect\": 75.89, \"fertility\": 1.8}, {\"year\": 1990, \"country\": \"Norway\", \"cluster\": 1, \"pop\": 4242006, \"life_expect\": 77.32, \"fertility\": 1.8860000000000001}, {\"year\": 1995, \"country\": \"Norway\", \"cluster\": 1, \"pop\": 4359101, \"life_expect\": 78.32, \"fertility\": 1.853}, {\"year\": 2000, \"country\": \"Norway\", \"cluster\": 1, \"pop\": 4492400, \"life_expect\": 79.05, \"fertility\": 1.8010000000000002}, {\"year\": 2005, \"country\": \"Norway\", \"cluster\": 1, \"pop\": 4593041, \"life_expect\": 80.196, \"fertility\": 1.8479999999999999}, {\"year\": 1955, \"country\": \"Pakistan\", \"cluster\": 0, \"pop\": 44434445, \"life_expect\": 45.557, \"fertility\": 6.6}, {\"year\": 1960, \"country\": \"Pakistan\", \"cluster\": 0, \"pop\": 50386898, \"life_expect\": 47.67, \"fertility\": 6.6}, {\"year\": 1965, \"country\": \"Pakistan\", \"cluster\": 0, \"pop\": 57494940, \"life_expect\": 49.8, \"fertility\": 6.6}, {\"year\": 1970, \"country\": \"Pakistan\", \"cluster\": 0, \"pop\": 65705964, \"life_expect\": 51.929, \"fertility\": 6.6}, {\"year\": 1975, \"country\": \"Pakistan\", \"cluster\": 0, \"pop\": 74711541, \"life_expect\": 54.043, \"fertility\": 6.6}, {\"year\": 1980, \"country\": \"Pakistan\", \"cluster\": 0, \"pop\": 85219117, \"life_expect\": 56.158, \"fertility\": 6.6}, {\"year\": 1985, \"country\": \"Pakistan\", \"cluster\": 0, \"pop\": 99060352, \"life_expect\": 58.245, \"fertility\": 6.66}, {\"year\": 1990, \"country\": \"Pakistan\", \"cluster\": 0, \"pop\": 114578478, \"life_expect\": 60.838, \"fertility\": 5.8}, {\"year\": 1995, \"country\": \"Pakistan\", \"cluster\": 0, \"pop\": 128690285, \"life_expect\": 61.818, \"fertility\": 4.9596}, {\"year\": 2000, \"country\": \"Pakistan\", \"cluster\": 0, \"pop\": 146342958, \"life_expect\": 63.61, \"fertility\": 3.9936}, {\"year\": 2005, \"country\": \"Pakistan\", \"cluster\": 0, \"pop\": 162419946, \"life_expect\": 65.483, \"fertility\": 3.5211}, {\"year\": 1955, \"country\": \"Peru\", \"cluster\": 3, \"pop\": 8671500, \"life_expect\": 46.263, \"fertility\": 6.853}, {\"year\": 1960, \"country\": \"Peru\", \"cluster\": 3, \"pop\": 9931000, \"life_expect\": 49.096, \"fertility\": 6.853}, {\"year\": 1965, \"country\": \"Peru\", \"cluster\": 3, \"pop\": 11467300, \"life_expect\": 51.445, \"fertility\": 6.5600000000000005}, {\"year\": 1970, \"country\": \"Peru\", \"cluster\": 3, \"pop\": 13192800, \"life_expect\": 55.448, \"fertility\": 6.0}, {\"year\": 1975, \"country\": \"Peru\", \"cluster\": 3, \"pop\": 15161199, \"life_expect\": 58.447, \"fertility\": 5.378}, {\"year\": 1980, \"country\": \"Peru\", \"cluster\": 3, \"pop\": 17295298, \"life_expect\": 61.406, \"fertility\": 4.65}, {\"year\": 1985, \"country\": \"Peru\", \"cluster\": 3, \"pop\": 19348926, \"life_expect\": 64.134, \"fertility\": 4.1}, {\"year\": 1990, \"country\": \"Peru\", \"cluster\": 3, \"pop\": 21511443, \"life_expect\": 66.458, \"fertility\": 3.7}, {\"year\": 1995, \"country\": \"Peru\", \"cluster\": 3, \"pop\": 23846388, \"life_expect\": 68.386, \"fertility\": 3.0995}, {\"year\": 2000, \"country\": \"Peru\", \"cluster\": 3, \"pop\": 25979722, \"life_expect\": 69.906, \"fertility\": 2.7005}, {\"year\": 2005, \"country\": \"Peru\", \"cluster\": 3, \"pop\": 27925628, \"life_expect\": 71.421, \"fertility\": 2.5065}, {\"year\": 1955, \"country\": \"Philippines\", \"cluster\": 4, \"pop\": 24553055, \"life_expect\": 51.334, \"fertility\": 7.13}, {\"year\": 1960, \"country\": \"Philippines\", \"cluster\": 4, \"pop\": 28528939, \"life_expect\": 54.757, \"fertility\": 6.85}, {\"year\": 1965, \"country\": \"Philippines\", \"cluster\": 4, \"pop\": 33267569, \"life_expect\": 56.393, \"fertility\": 6.5}, {\"year\": 1970, \"country\": \"Philippines\", \"cluster\": 4, \"pop\": 38603696, \"life_expect\": 58.065, \"fertility\": 6.0}, {\"year\": 1975, \"country\": \"Philippines\", \"cluster\": 4, \"pop\": 44336842, \"life_expect\": 60.06, \"fertility\": 5.5}, {\"year\": 1980, \"country\": \"Philippines\", \"cluster\": 4, \"pop\": 50940182, \"life_expect\": 62.082, \"fertility\": 4.95}, {\"year\": 1985, \"country\": \"Philippines\", \"cluster\": 4, \"pop\": 57288037, \"life_expect\": 64.151, \"fertility\": 4.55}, {\"year\": 1990, \"country\": \"Philippines\", \"cluster\": 4, \"pop\": 64318120, \"life_expect\": 66.458, \"fertility\": 4.143}, {\"year\": 1995, \"country\": \"Philippines\", \"cluster\": 4, \"pop\": 71717437, \"life_expect\": 68.564, \"fertility\": 3.7248}, {\"year\": 2000, \"country\": \"Philippines\", \"cluster\": 4, \"pop\": 79739825, \"life_expect\": 70.303, \"fertility\": 3.5436}, {\"year\": 2005, \"country\": \"Philippines\", \"cluster\": 4, \"pop\": 87857473, \"life_expect\": 71.688, \"fertility\": 3.2327}, {\"year\": 1955, \"country\": \"Poland\", \"cluster\": 1, \"pop\": 27220668, \"life_expect\": 65.77, \"fertility\": 3.29}, {\"year\": 1960, \"country\": \"Poland\", \"cluster\": 1, \"pop\": 29589842, \"life_expect\": 67.64, \"fertility\": 2.65}, {\"year\": 1965, \"country\": \"Poland\", \"cluster\": 1, \"pop\": 31262358, \"life_expect\": 69.61, \"fertility\": 2.27}, {\"year\": 1970, \"country\": \"Poland\", \"cluster\": 1, \"pop\": 32526000, \"life_expect\": 70.85, \"fertility\": 2.25}, {\"year\": 1975, \"country\": \"Poland\", \"cluster\": 1, \"pop\": 33969240, \"life_expect\": 70.67, \"fertility\": 2.26}, {\"year\": 1980, \"country\": \"Poland\", \"cluster\": 1, \"pop\": 35578016, \"life_expect\": 71.32, \"fertility\": 2.33}, {\"year\": 1985, \"country\": \"Poland\", \"cluster\": 1, \"pop\": 37225792, \"life_expect\": 70.98, \"fertility\": 2.15}, {\"year\": 1990, \"country\": \"Poland\", \"cluster\": 1, \"pop\": 38119408, \"life_expect\": 70.99, \"fertility\": 1.8900000000000001}, {\"year\": 1995, \"country\": \"Poland\", \"cluster\": 1, \"pop\": 38600642, \"life_expect\": 72.75, \"fertility\": 1.478}, {\"year\": 2000, \"country\": \"Poland\", \"cluster\": 1, \"pop\": 38654164, \"life_expect\": 74.67, \"fertility\": 1.251}, {\"year\": 2005, \"country\": \"Poland\", \"cluster\": 1, \"pop\": 38557984, \"life_expect\": 75.563, \"fertility\": 1.227}, {\"year\": 1955, \"country\": \"Portugal\", \"cluster\": 1, \"pop\": 8692600, \"life_expect\": 61.51, \"fertility\": 3.03}, {\"year\": 1960, \"country\": \"Portugal\", \"cluster\": 1, \"pop\": 9036700, \"life_expect\": 64.39, \"fertility\": 3.074}, {\"year\": 1965, \"country\": \"Portugal\", \"cluster\": 1, \"pop\": 9128850, \"life_expect\": 66.6, \"fertility\": 2.849}, {\"year\": 1970, \"country\": \"Portugal\", \"cluster\": 1, \"pop\": 9044200, \"life_expect\": 69.26, \"fertility\": 2.748}, {\"year\": 1975, \"country\": \"Portugal\", \"cluster\": 1, \"pop\": 9411090, \"life_expect\": 70.41, \"fertility\": 2.41}, {\"year\": 1980, \"country\": \"Portugal\", \"cluster\": 1, \"pop\": 9777800, \"life_expect\": 72.77, \"fertility\": 1.982}, {\"year\": 1985, \"country\": \"Portugal\", \"cluster\": 1, \"pop\": 9897192, \"life_expect\": 74.06, \"fertility\": 1.5939999999999999}, {\"year\": 1990, \"country\": \"Portugal\", \"cluster\": 1, \"pop\": 9922689, \"life_expect\": 74.86, \"fertility\": 1.516}, {\"year\": 1995, \"country\": \"Portugal\", \"cluster\": 1, \"pop\": 10065543, \"life_expect\": 75.97, \"fertility\": 1.475}, {\"year\": 2000, \"country\": \"Portugal\", \"cluster\": 1, \"pop\": 10335597, \"life_expect\": 77.29, \"fertility\": 1.454}, {\"year\": 2005, \"country\": \"Portugal\", \"cluster\": 1, \"pop\": 10566212, \"life_expect\": 78.098, \"fertility\": 1.455}, {\"year\": 1955, \"country\": \"Rwanda\", \"cluster\": 2, \"pop\": 2698272, \"life_expect\": 41.5, \"fertility\": 8.0}, {\"year\": 1960, \"country\": \"Rwanda\", \"cluster\": 2, \"pop\": 3031804, \"life_expect\": 43.0, \"fertility\": 8.1}, {\"year\": 1965, \"country\": \"Rwanda\", \"cluster\": 2, \"pop\": 3264640, \"life_expect\": 44.1, \"fertility\": 8.2}, {\"year\": 1970, \"country\": \"Rwanda\", \"cluster\": 2, \"pop\": 3769171, \"life_expect\": 44.6, \"fertility\": 8.29}, {\"year\": 1975, \"country\": \"Rwanda\", \"cluster\": 2, \"pop\": 4356863, \"life_expect\": 45.0, \"fertility\": 8.492}, {\"year\": 1980, \"country\": \"Rwanda\", \"cluster\": 2, \"pop\": 5138689, \"life_expect\": 46.218, \"fertility\": 8.5}, {\"year\": 1985, \"country\": \"Rwanda\", \"cluster\": 2, \"pop\": 6009833, \"life_expect\": 44.02, \"fertility\": 8.25}, {\"year\": 1990, \"country\": \"Rwanda\", \"cluster\": 2, \"pop\": 6923738, \"life_expect\": 23.599, \"fertility\": 6.9}, {\"year\": 1995, \"country\": \"Rwanda\", \"cluster\": 2, \"pop\": 5706501, \"life_expect\": 36.087, \"fertility\": 6.0993}, {\"year\": 2000, \"country\": \"Rwanda\", \"cluster\": 2, \"pop\": 7507056, \"life_expect\": 43.413, \"fertility\": 6.01}, {\"year\": 2005, \"country\": \"Rwanda\", \"cluster\": 2, \"pop\": 8440820, \"life_expect\": 46.242, \"fertility\": 5.9169}, {\"year\": 1955, \"country\": \"Saudi Arabia\", \"cluster\": 5, \"pop\": 4243218, \"life_expect\": 42.868, \"fertility\": 7.175}, {\"year\": 1960, \"country\": \"Saudi Arabia\", \"cluster\": 5, \"pop\": 4718301, \"life_expect\": 45.914, \"fertility\": 7.257}, {\"year\": 1965, \"country\": \"Saudi Arabia\", \"cluster\": 5, \"pop\": 5327432, \"life_expect\": 49.901, \"fertility\": 7.257}, {\"year\": 1970, \"country\": \"Saudi Arabia\", \"cluster\": 5, \"pop\": 6109051, \"life_expect\": 53.886, \"fertility\": 7.298}, {\"year\": 1975, \"country\": \"Saudi Arabia\", \"cluster\": 5, \"pop\": 7204820, \"life_expect\": 58.69, \"fertility\": 7.2780000000000005}, {\"year\": 1980, \"country\": \"Saudi Arabia\", \"cluster\": 5, \"pop\": 9999161, \"life_expect\": 63.012, \"fertility\": 7.015}, {\"year\": 1985, \"country\": \"Saudi Arabia\", \"cluster\": 5, \"pop\": 13330067, \"life_expect\": 66.295, \"fertility\": 6.217}, {\"year\": 1990, \"country\": \"Saudi Arabia\", \"cluster\": 5, \"pop\": 16060761, \"life_expect\": 68.768, \"fertility\": 5.446}, {\"year\": 1995, \"country\": \"Saudi Arabia\", \"cluster\": 5, \"pop\": 19966998, \"life_expect\": 70.533, \"fertility\": 4.621}, {\"year\": 2000, \"country\": \"Saudi Arabia\", \"cluster\": 5, \"pop\": 23153090, \"life_expect\": 71.626, \"fertility\": 3.81}, {\"year\": 2005, \"country\": \"Saudi Arabia\", \"cluster\": 5, \"pop\": 26417599, \"life_expect\": 72.777, \"fertility\": 3.352}, {\"year\": 1955, \"country\": \"South Africa\", \"cluster\": 2, \"pop\": 15368551, \"life_expect\": 47.985, \"fertility\": 6.5}, {\"year\": 1960, \"country\": \"South Africa\", \"cluster\": 2, \"pop\": 17416653, \"life_expect\": 49.951, \"fertility\": 6.3}, {\"year\": 1965, \"country\": \"South Africa\", \"cluster\": 2, \"pop\": 19898242, \"life_expect\": 51.927, \"fertility\": 5.7}, {\"year\": 1970, \"country\": \"South Africa\", \"cluster\": 2, \"pop\": 22739921, \"life_expect\": 53.696, \"fertility\": 5.47}, {\"year\": 1975, \"country\": \"South Africa\", \"cluster\": 2, \"pop\": 25815144, \"life_expect\": 55.527, \"fertility\": 5.0}, {\"year\": 1980, \"country\": \"South Africa\", \"cluster\": 2, \"pop\": 29251588, \"life_expect\": 58.161, \"fertility\": 4.556}, {\"year\": 1985, \"country\": \"South Africa\", \"cluster\": 2, \"pop\": 34254092, \"life_expect\": 60.834, \"fertility\": 3.85}, {\"year\": 1990, \"country\": \"South Africa\", \"cluster\": 2, \"pop\": 38391094, \"life_expect\": 61.888, \"fertility\": 3.343}, {\"year\": 1995, \"country\": \"South Africa\", \"cluster\": 2, \"pop\": 41779149, \"life_expect\": 60.236, \"fertility\": 2.954}, {\"year\": 2000, \"country\": \"South Africa\", \"cluster\": 2, \"pop\": 44066197, \"life_expect\": 53.365, \"fertility\": 2.802}, {\"year\": 2005, \"country\": \"South Africa\", \"cluster\": 2, \"pop\": 44344136, \"life_expect\": 49.339, \"fertility\": 2.637}, {\"year\": 1955, \"country\": \"Spain\", \"cluster\": 1, \"pop\": 29318745, \"life_expect\": 66.66, \"fertility\": 2.75}, {\"year\": 1960, \"country\": \"Spain\", \"cluster\": 1, \"pop\": 30641187, \"life_expect\": 69.69, \"fertility\": 2.89}, {\"year\": 1965, \"country\": \"Spain\", \"cluster\": 1, \"pop\": 32084511, \"life_expect\": 71.44, \"fertility\": 2.92}, {\"year\": 1970, \"country\": \"Spain\", \"cluster\": 1, \"pop\": 33876479, \"life_expect\": 73.06, \"fertility\": 2.86}, {\"year\": 1975, \"country\": \"Spain\", \"cluster\": 1, \"pop\": 35563535, \"life_expect\": 74.39, \"fertility\": 2.5700000000000003}, {\"year\": 1980, \"country\": \"Spain\", \"cluster\": 1, \"pop\": 37488360, \"life_expect\": 76.3, \"fertility\": 1.8900000000000001}, {\"year\": 1985, \"country\": \"Spain\", \"cluster\": 1, \"pop\": 38534853, \"life_expect\": 76.9, \"fertility\": 1.48}, {\"year\": 1990, \"country\": \"Spain\", \"cluster\": 1, \"pop\": 39350769, \"life_expect\": 77.57, \"fertility\": 1.27}, {\"year\": 1995, \"country\": \"Spain\", \"cluster\": 1, \"pop\": 39749715, \"life_expect\": 78.77, \"fertility\": 1.182}, {\"year\": 2000, \"country\": \"Spain\", \"cluster\": 1, \"pop\": 40016081, \"life_expect\": 79.78, \"fertility\": 1.287}, {\"year\": 2005, \"country\": \"Spain\", \"cluster\": 1, \"pop\": 40341462, \"life_expect\": 80.941, \"fertility\": 1.409}, {\"year\": 1955, \"country\": \"Switzerland\", \"cluster\": 1, \"pop\": 4980000, \"life_expect\": 70.56, \"fertility\": 2.34}, {\"year\": 1960, \"country\": \"Switzerland\", \"cluster\": 1, \"pop\": 5362000, \"life_expect\": 71.32, \"fertility\": 2.51}, {\"year\": 1965, \"country\": \"Switzerland\", \"cluster\": 1, \"pop\": 5943000, \"life_expect\": 72.77, \"fertility\": 2.27}, {\"year\": 1970, \"country\": \"Switzerland\", \"cluster\": 1, \"pop\": 6267000, \"life_expect\": 73.78, \"fertility\": 1.82}, {\"year\": 1975, \"country\": \"Switzerland\", \"cluster\": 1, \"pop\": 6403500, \"life_expect\": 75.39, \"fertility\": 1.53}, {\"year\": 1980, \"country\": \"Switzerland\", \"cluster\": 1, \"pop\": 6385229, \"life_expect\": 76.21, \"fertility\": 1.53}, {\"year\": 1985, \"country\": \"Switzerland\", \"cluster\": 1, \"pop\": 6563770, \"life_expect\": 77.41, \"fertility\": 1.53}, {\"year\": 1990, \"country\": \"Switzerland\", \"cluster\": 1, \"pop\": 6836626, \"life_expect\": 78.03, \"fertility\": 1.54}, {\"year\": 1995, \"country\": \"Switzerland\", \"cluster\": 1, \"pop\": 7157106, \"life_expect\": 79.37, \"fertility\": 1.47}, {\"year\": 2000, \"country\": \"Switzerland\", \"cluster\": 1, \"pop\": 7266920, \"life_expect\": 80.62, \"fertility\": 1.415}, {\"year\": 2005, \"country\": \"Switzerland\", \"cluster\": 1, \"pop\": 7489370, \"life_expect\": 81.701, \"fertility\": 1.42}, {\"year\": 1955, \"country\": \"Turkey\", \"cluster\": 1, \"pop\": 24144571, \"life_expect\": 48.079, \"fertility\": 6.6}, {\"year\": 1960, \"country\": \"Turkey\", \"cluster\": 1, \"pop\": 28217122, \"life_expect\": 52.098, \"fertility\": 6.19}, {\"year\": 1965, \"country\": \"Turkey\", \"cluster\": 1, \"pop\": 31950718, \"life_expect\": 54.336, \"fertility\": 5.7}, {\"year\": 1970, \"country\": \"Turkey\", \"cluster\": 1, \"pop\": 35758382, \"life_expect\": 57.005, \"fertility\": 5.3}, {\"year\": 1975, \"country\": \"Turkey\", \"cluster\": 1, \"pop\": 40529798, \"life_expect\": 59.507, \"fertility\": 4.715}, {\"year\": 1980, \"country\": \"Turkey\", \"cluster\": 1, \"pop\": 45120802, \"life_expect\": 61.036, \"fertility\": 4.15}, {\"year\": 1985, \"country\": \"Turkey\", \"cluster\": 1, \"pop\": 50669003, \"life_expect\": 63.108, \"fertility\": 3.276}, {\"year\": 1990, \"country\": \"Turkey\", \"cluster\": 1, \"pop\": 56084632, \"life_expect\": 66.146, \"fertility\": 2.904}, {\"year\": 1995, \"country\": \"Turkey\", \"cluster\": 1, \"pop\": 61188984, \"life_expect\": 68.835, \"fertility\": 2.574}, {\"year\": 2000, \"country\": \"Turkey\", \"cluster\": 1, \"pop\": 65666677, \"life_expect\": 70.845, \"fertility\": 2.23}, {\"year\": 2005, \"country\": \"Turkey\", \"cluster\": 1, \"pop\": 69660559, \"life_expect\": 71.777, \"fertility\": 2.143}, {\"year\": 1955, \"country\": \"United Kingdom\", \"cluster\": 1, \"pop\": 50946000, \"life_expect\": 70.42, \"fertility\": 2.49}, {\"year\": 1960, \"country\": \"United Kingdom\", \"cluster\": 1, \"pop\": 52372000, \"life_expect\": 70.76, \"fertility\": 2.81}, {\"year\": 1965, \"country\": \"United Kingdom\", \"cluster\": 1, \"pop\": 54350000, \"life_expect\": 71.36, \"fertility\": 2.52}, {\"year\": 1970, \"country\": \"United Kingdom\", \"cluster\": 1, \"pop\": 55632000, \"life_expect\": 72.01, \"fertility\": 2.04}, {\"year\": 1975, \"country\": \"United Kingdom\", \"cluster\": 1, \"pop\": 56215000, \"life_expect\": 72.76, \"fertility\": 1.72}, {\"year\": 1980, \"country\": \"United Kingdom\", \"cluster\": 1, \"pop\": 56314000, \"life_expect\": 74.04, \"fertility\": 1.8}, {\"year\": 1985, \"country\": \"United Kingdom\", \"cluster\": 1, \"pop\": 56620240, \"life_expect\": 75.007, \"fertility\": 1.81}, {\"year\": 1990, \"country\": \"United Kingdom\", \"cluster\": 1, \"pop\": 57493307, \"life_expect\": 76.42, \"fertility\": 1.78}, {\"year\": 1995, \"country\": \"United Kingdom\", \"cluster\": 1, \"pop\": 58426014, \"life_expect\": 77.218, \"fertility\": 1.7000000000000002}, {\"year\": 2000, \"country\": \"United Kingdom\", \"cluster\": 1, \"pop\": 59522468, \"life_expect\": 78.471, \"fertility\": 1.695}, {\"year\": 2005, \"country\": \"United Kingdom\", \"cluster\": 1, \"pop\": 60441457, \"life_expect\": 79.425, \"fertility\": 1.815}, {\"year\": 1955, \"country\": \"United States\", \"cluster\": 3, \"pop\": 165931000, \"life_expect\": 69.49, \"fertility\": 3.706}, {\"year\": 1960, \"country\": \"United States\", \"cluster\": 3, \"pop\": 180671000, \"life_expect\": 70.21, \"fertility\": 3.314}, {\"year\": 1965, \"country\": \"United States\", \"cluster\": 3, \"pop\": 194303000, \"life_expect\": 70.76, \"fertility\": 2.545}, {\"year\": 1970, \"country\": \"United States\", \"cluster\": 3, \"pop\": 205052000, \"life_expect\": 71.34, \"fertility\": 2.016}, {\"year\": 1975, \"country\": \"United States\", \"cluster\": 3, \"pop\": 215973000, \"life_expect\": 73.38, \"fertility\": 1.788}, {\"year\": 1980, \"country\": \"United States\", \"cluster\": 3, \"pop\": 227726463, \"life_expect\": 74.65, \"fertility\": 1.8250000000000002}, {\"year\": 1985, \"country\": \"United States\", \"cluster\": 3, \"pop\": 238466283, \"life_expect\": 75.02, \"fertility\": 1.924}, {\"year\": 1990, \"country\": \"United States\", \"cluster\": 3, \"pop\": 250131894, \"life_expect\": 76.09, \"fertility\": 2.025}, {\"year\": 1995, \"country\": \"United States\", \"cluster\": 3, \"pop\": 266557091, \"life_expect\": 76.81, \"fertility\": 1.994}, {\"year\": 2000, \"country\": \"United States\", \"cluster\": 3, \"pop\": 282338631, \"life_expect\": 77.31, \"fertility\": 2.038}, {\"year\": 2005, \"country\": \"United States\", \"cluster\": 3, \"pop\": 295734134, \"life_expect\": 78.242, \"fertility\": 2.054}, {\"year\": 1955, \"country\": \"Venezuela\", \"cluster\": 3, \"pop\": 6170497, \"life_expect\": 57.907, \"fertility\": 6.4585}, {\"year\": 1960, \"country\": \"Venezuela\", \"cluster\": 3, \"pop\": 7556483, \"life_expect\": 60.77, \"fertility\": 6.657}, {\"year\": 1965, \"country\": \"Venezuela\", \"cluster\": 3, \"pop\": 9067735, \"life_expect\": 63.479, \"fertility\": 5.9045000000000005}, {\"year\": 1970, \"country\": \"Venezuela\", \"cluster\": 3, \"pop\": 10758017, \"life_expect\": 65.712, \"fertility\": 4.941}, {\"year\": 1975, \"country\": \"Venezuela\", \"cluster\": 3, \"pop\": 12674987, \"life_expect\": 67.456, \"fertility\": 4.4685}, {\"year\": 1980, \"country\": \"Venezuela\", \"cluster\": 3, \"pop\": 14767890, \"life_expect\": 68.557, \"fertility\": 3.957}, {\"year\": 1985, \"country\": \"Venezuela\", \"cluster\": 3, \"pop\": 16997509, \"life_expect\": 70.19, \"fertility\": 3.6485000000000003}, {\"year\": 1990, \"country\": \"Venezuela\", \"cluster\": 3, \"pop\": 19325222, \"life_expect\": 71.15, \"fertility\": 3.25}, {\"year\": 1995, \"country\": \"Venezuela\", \"cluster\": 3, \"pop\": 21555902, \"life_expect\": 72.146, \"fertility\": 2.9415}, {\"year\": 2000, \"country\": \"Venezuela\", \"cluster\": 3, \"pop\": 23542649, \"life_expect\": 72.766, \"fertility\": 2.723}, {\"year\": 2005, \"country\": \"Venezuela\", \"cluster\": 3, \"pop\": 25375281, \"life_expect\": 73.747, \"fertility\": 2.547}]}}, {\"mode\": \"vega-lite\"});\n",
       "</script>"
      ],
      "text/plain": [
       "alt.Chart(...)"
      ]
     },
     "execution_count": 27,
     "metadata": {},
     "output_type": "execute_result"
    }
   ],
   "source": [
    "# from IPython.display import display, HTML\n",
    "\n",
    "# display(HTML(\"\"\"\n",
    "# <style>\n",
    "# form.vega-bindings {\n",
    "#   position: absolute; right: 50px; top: 10px; \n",
    "# }\n",
    "# </style>\n",
    "# \"\"\"))\n",
    "\n",
    "slider = alt.binding_range(min=1955, max=2005, step=5, name='연도 선택')\n",
    "select_year = alt.selection_single(\n",
    "    name='selectorName', fields=['year'], bind=slider, init={'year': 1955})\n",
    "\n",
    "alt.Chart(data).mark_point(filled=True).encode(\n",
    "    alt.X('fertility:Q', scale=alt.Scale(domain=[0,9]), title='출산율 [단위: 명]'),\n",
    "    alt.Y('life_expect:Q', scale=alt.Scale(domain=[0,90]), title='기대 수명 [단위: 세]'),\n",
    "    alt.Size('pop:Q', scale=alt.Scale(domain=[0, 1200000000], range=[0,2000]), title='인구 규모', legend=alt.Legend(\n",
    "        orient='none', legendX=450, legendY=50, direction='vertical')),\n",
    "    alt.Color('cluster:N', legend=None),\n",
    "    alt.OpacityValue(0.5),\n",
    "    alt.Tooltip('country:N'),\n",
    "    alt.Order('pop:Q', sort='descending')\n",
    ").add_selection(select_year).transform_filter(select_year).properties(\n",
    "    title={'text': '출산율과 기대 수명의 상관성', 'subtitle': '연도별 버블 차트'}\n",
    ")"
   ]
  },
  {
   "cell_type": "markdown",
   "metadata": {
    "colab_type": "text",
    "id": "UPdDrmm9YK5E",
    "slideshow": {
     "slide_type": "slide"
    }
   },
   "source": [
    "## 4. 그래픽 마크\n",
    "\n",
    "- 지금까지 인코딩 채널에 대해 공부하면서 `point` 마크에만 집중했었다.  \n",
    "  이 외에도 다양한 기하학적 모양의 마크를 사용할 수 있다. \n",
    "    - `mark_area()` - 상한 선과 하한 선으로 정의되는 채워진 영역\n",
    "    - `mark_bar()` -\t사각형 막대\n",
    "    - `mark_circle()`\t- 채워진 원으로 표시되는 산점도\n",
    "    - `mark_line()` - 연결된 꺽어진 선\n",
    "    - `mark_point()` - 모양을 설정할 수 있는 산점도\n",
    "    - `mark_rect()` - 열지도(heatmap)등에 사용되는 채워진 사각형\n",
    "    - `mark_rule()` - 축을 가로지르는 수직선 또는 수평선\n",
    "    - `mark_square()` - 사각형 점으로 표시되는 산점도\n",
    "    - `mark_text()` - 텍스트로 표시하는 산점도\n",
    "    - `mark_tick()` - 수직 또는 수평 눈금\t"
   ]
  },
  {
   "cell_type": "markdown",
   "metadata": {
    "colab_type": "text",
    "id": "UPdDrmm9YK5E",
    "slideshow": {
     "slide_type": "slide"
    }
   },
   "source": [
    "- 그래픽 마크에 대한 전체 목록과 예제를 확인하려면  \n",
    "  [Altair marks documentation](https://altair-viz.github.io/user_guide/marks.html)를 보라. \n",
    "- 아래에서 통계적 시각화에서 자주 사용하는 마크 유형을 공부하자."
   ]
  },
  {
   "cell_type": "markdown",
   "metadata": {
    "colab_type": "text",
    "id": "jVp7cC-BbYF5",
    "slideshow": {
     "slide_type": "slide"
    }
   },
   "source": [
    "### 4.1 점 마크\n",
    "\n",
    "- 점 `point` 마크 유형은 *산점도(scatter plots)* 및 *점 플롯(dot plots)*과 같은 점을 시각화 한다. \n",
    "  - 점 마크에서는 기본적으로 2차원 위치를 표시하기 위하여 `x`와 `y` 인코딩 채널을 지정한다. \n",
    "  - 아울러 색상 `color`, 크기 `size` 및 모양 `shape` 인코딩 채널에 대하여 추가적인 데이터 필드를 지정할 수 있다.\n",
    "- 아래는 출산율 `fertility` 필드를 x-축 인코딩 채널로,  \n",
    "  지역을 의미하는 `cluster` 필드를 y-축 및 모양 `shape` 인코딩 채널로 지정한 점 플롯(dot plot)이다.    "
   ]
  },
  {
   "cell_type": "code",
   "execution_count": 28,
   "metadata": {
    "colab": {
     "base_uri": "https://localhost:8080/",
     "height": 192
    },
    "colab_type": "code",
    "id": "3jrFfaKCtbyL",
    "outputId": "6332a348-f8f0-4dd8-9c4a-63687e286d4a",
    "slideshow": {
     "slide_type": "fragment"
    }
   },
   "outputs": [
    {
     "data": {
      "text/html": [
       "\n",
       "<div id=\"altair-viz-968a43b4ba4a4f27913104a1447a114c\"></div>\n",
       "<script type=\"text/javascript\">\n",
       "  (function(spec, embedOpt){\n",
       "    let outputDiv = document.currentScript.previousElementSibling;\n",
       "    if (outputDiv.id !== \"altair-viz-968a43b4ba4a4f27913104a1447a114c\") {\n",
       "      outputDiv = document.getElementById(\"altair-viz-968a43b4ba4a4f27913104a1447a114c\");\n",
       "    }\n",
       "    const paths = {\n",
       "      \"vega\": \"https://cdn.jsdelivr.net/npm//vega@5?noext\",\n",
       "      \"vega-lib\": \"https://cdn.jsdelivr.net/npm//vega-lib?noext\",\n",
       "      \"vega-lite\": \"https://cdn.jsdelivr.net/npm//vega-lite@4.8.1?noext\",\n",
       "      \"vega-embed\": \"https://cdn.jsdelivr.net/npm//vega-embed@6?noext\",\n",
       "    };\n",
       "\n",
       "    function loadScript(lib) {\n",
       "      return new Promise(function(resolve, reject) {\n",
       "        var s = document.createElement('script');\n",
       "        s.src = paths[lib];\n",
       "        s.async = true;\n",
       "        s.onload = () => resolve(paths[lib]);\n",
       "        s.onerror = () => reject(`Error loading script: ${paths[lib]}`);\n",
       "        document.getElementsByTagName(\"head\")[0].appendChild(s);\n",
       "      });\n",
       "    }\n",
       "\n",
       "    function showError(err) {\n",
       "      outputDiv.innerHTML = `<div class=\"error\" style=\"color:red;\">${err}</div>`;\n",
       "      throw err;\n",
       "    }\n",
       "\n",
       "    function displayChart(vegaEmbed) {\n",
       "      vegaEmbed(outputDiv, spec, embedOpt)\n",
       "        .catch(err => showError(`Javascript Error: ${err.message}<br>This usually means there's a typo in your chart specification. See the javascript console for the full traceback.`));\n",
       "    }\n",
       "\n",
       "    if(typeof define === \"function\" && define.amd) {\n",
       "      requirejs.config({paths});\n",
       "      require([\"vega-embed\"], displayChart, err => showError(`Error loading script: ${err.message}`));\n",
       "    } else if (typeof vegaEmbed === \"function\") {\n",
       "      displayChart(vegaEmbed);\n",
       "    } else {\n",
       "      loadScript(\"vega\")\n",
       "        .then(() => loadScript(\"vega-lite\"))\n",
       "        .then(() => loadScript(\"vega-embed\"))\n",
       "        .catch(showError)\n",
       "        .then(() => displayChart(vegaEmbed));\n",
       "    }\n",
       "  })({\"config\": {\"view\": {\"continuousWidth\": 400, \"continuousHeight\": 300}}, \"data\": {\"name\": \"data-fdeb0b749a6385830bd1445d39ad6ea0\"}, \"mark\": \"point\", \"encoding\": {\"shape\": {\"type\": \"nominal\", \"field\": \"cluster\"}, \"x\": {\"type\": \"quantitative\", \"field\": \"fertility\"}, \"y\": {\"type\": \"nominal\", \"field\": \"cluster\"}}, \"$schema\": \"https://vega.github.io/schema/vega-lite/v4.8.1.json\", \"datasets\": {\"data-fdeb0b749a6385830bd1445d39ad6ea0\": [{\"year\": 2000, \"country\": \"Afghanistan\", \"cluster\": 0, \"pop\": 23898198, \"life_expect\": 42.129, \"fertility\": 7.4792}, {\"year\": 2000, \"country\": \"Argentina\", \"cluster\": 3, \"pop\": 37497728, \"life_expect\": 74.34, \"fertility\": 2.35}, {\"year\": 2000, \"country\": \"Aruba\", \"cluster\": 3, \"pop\": 69539, \"life_expect\": 73.451, \"fertility\": 2.124}, {\"year\": 2000, \"country\": \"Australia\", \"cluster\": 4, \"pop\": 19164620, \"life_expect\": 80.37, \"fertility\": 1.756}, {\"year\": 2000, \"country\": \"Austria\", \"cluster\": 1, \"pop\": 8113413, \"life_expect\": 78.98, \"fertility\": 1.3820000000000001}, {\"year\": 2000, \"country\": \"Bahamas\", \"cluster\": 3, \"pop\": 290075, \"life_expect\": 71.068, \"fertility\": 2.1111}, {\"year\": 2000, \"country\": \"Bangladesh\", \"cluster\": 0, \"pop\": 130406594, \"life_expect\": 62.013, \"fertility\": 3.224}, {\"year\": 2000, \"country\": \"Barbados\", \"cluster\": 3, \"pop\": 273483, \"life_expect\": 75.97, \"fertility\": 1.5}, {\"year\": 2000, \"country\": \"Belgium\", \"cluster\": 1, \"pop\": 10263618, \"life_expect\": 78.32, \"fertility\": 1.638}, {\"year\": 2000, \"country\": \"Bolivia\", \"cluster\": 3, \"pop\": 8152620, \"life_expect\": 63.883, \"fertility\": 3.9585}, {\"year\": 2000, \"country\": \"Brazil\", \"cluster\": 3, \"pop\": 175552771, \"life_expect\": 71.006, \"fertility\": 2.345}, {\"year\": 2000, \"country\": \"Canada\", \"cluster\": 3, \"pop\": 31278097, \"life_expect\": 79.77, \"fertility\": 1.522}, {\"year\": 2000, \"country\": \"Chile\", \"cluster\": 3, \"pop\": 15153450, \"life_expect\": 77.86, \"fertility\": 2.0}, {\"year\": 2000, \"country\": \"China\", \"cluster\": 4, \"pop\": 1262645000, \"life_expect\": 72.028, \"fertility\": 1.7000000000000002}, {\"year\": 2000, \"country\": \"Colombia\", \"cluster\": 3, \"pop\": 39685655, \"life_expect\": 71.682, \"fertility\": 2.4705}, {\"year\": 2000, \"country\": \"Costa Rica\", \"cluster\": 3, \"pop\": 3710558, \"life_expect\": 78.123, \"fertility\": 2.2815}, {\"year\": 2000, \"country\": \"Croatia\", \"cluster\": 1, \"pop\": 4410830, \"life_expect\": 74.876, \"fertility\": 1.348}, {\"year\": 2000, \"country\": \"Cuba\", \"cluster\": 3, \"pop\": 11134273, \"life_expect\": 77.158, \"fertility\": 1.63}, {\"year\": 2000, \"country\": \"Dominican Republic\", \"cluster\": 3, \"pop\": 8385828, \"life_expect\": 70.847, \"fertility\": 2.95}, {\"year\": 2000, \"country\": \"Ecuador\", \"cluster\": 3, \"pop\": 12505204, \"life_expect\": 74.173, \"fertility\": 2.8175}, {\"year\": 2000, \"country\": \"Egypt\", \"cluster\": 5, \"pop\": 70492342, \"life_expect\": 69.806, \"fertility\": 3.174}, {\"year\": 2000, \"country\": \"El Salvador\", \"cluster\": 3, \"pop\": 6122515, \"life_expect\": 70.734, \"fertility\": 2.883}, {\"year\": 2000, \"country\": \"Finland\", \"cluster\": 1, \"pop\": 5168595, \"life_expect\": 78.37, \"fertility\": 1.754}, {\"year\": 2000, \"country\": \"France\", \"cluster\": 1, \"pop\": 59381628, \"life_expect\": 79.59, \"fertility\": 1.8833000000000002}, {\"year\": 2000, \"country\": \"Georgia\", \"cluster\": 1, \"pop\": 4777209, \"life_expect\": 70.476, \"fertility\": 1.478}, {\"year\": 2000, \"country\": \"Germany\", \"cluster\": 1, \"pop\": 82187909, \"life_expect\": 78.67, \"fertility\": 1.346}, {\"year\": 2000, \"country\": \"Greece\", \"cluster\": 1, \"pop\": 10559110, \"life_expect\": 78.256, \"fertility\": 1.2770000000000001}, {\"year\": 2000, \"country\": \"Grenada\", \"cluster\": 3, \"pop\": 89312, \"life_expect\": 67.746, \"fertility\": 2.429}, {\"year\": 2000, \"country\": \"Haiti\", \"cluster\": 3, \"pop\": 7306302, \"life_expect\": 58.137, \"fertility\": 4.0}, {\"year\": 2000, \"country\": \"Hong Kong\", \"cluster\": 4, \"pop\": 6658720, \"life_expect\": 81.495, \"fertility\": 0.9400000000000001}, {\"year\": 2000, \"country\": \"Iceland\", \"cluster\": 1, \"pop\": 281043, \"life_expect\": 80.5, \"fertility\": 1.9929999999999999}, {\"year\": 2000, \"country\": \"India\", \"cluster\": 0, \"pop\": 1007702000, \"life_expect\": 62.879, \"fertility\": 3.1132}, {\"year\": 2000, \"country\": \"Indonesia\", \"cluster\": 4, \"pop\": 206265000, \"life_expect\": 68.588, \"fertility\": 2.3761}, {\"year\": 2000, \"country\": \"Iran\", \"cluster\": 5, \"pop\": 65660289, \"life_expect\": 69.451, \"fertility\": 2.124}, {\"year\": 2000, \"country\": \"Iraq\", \"cluster\": 5, \"pop\": 22675617, \"life_expect\": 57.046, \"fertility\": 4.858}, {\"year\": 2000, \"country\": \"Ireland\", \"cluster\": 1, \"pop\": 3791690, \"life_expect\": 77.783, \"fertility\": 1.9689999999999999}, {\"year\": 2000, \"country\": \"Israel\", \"cluster\": 5, \"pop\": 5842454, \"life_expect\": 79.696, \"fertility\": 2.906}, {\"year\": 2000, \"country\": \"Italy\", \"cluster\": 1, \"pop\": 57719337, \"life_expect\": 80.24, \"fertility\": 1.286}, {\"year\": 2000, \"country\": \"Jamaica\", \"cluster\": 3, \"pop\": 2615467, \"life_expect\": 72.047, \"fertility\": 2.628}, {\"year\": 2000, \"country\": \"Japan\", \"cluster\": 4, \"pop\": 126699784, \"life_expect\": 82.0, \"fertility\": 1.291}, {\"year\": 2000, \"country\": \"Kenya\", \"cluster\": 2, \"pop\": 29985839, \"life_expect\": 50.992, \"fertility\": 5.0}, {\"year\": 2000, \"country\": \"South Korea\", \"cluster\": 4, \"pop\": 21647682, \"life_expect\": 66.662, \"fertility\": 1.9173}, {\"year\": 2000, \"country\": \"North Korea\", \"cluster\": 4, \"pop\": 47351083, \"life_expect\": 77.045, \"fertility\": 1.242}, {\"year\": 2000, \"country\": \"Lebanon\", \"cluster\": 5, \"pop\": 3578036, \"life_expect\": 71.028, \"fertility\": 2.319}, {\"year\": 2000, \"country\": \"Mexico\", \"cluster\": 3, \"pop\": 99926620, \"life_expect\": 74.902, \"fertility\": 2.4005}, {\"year\": 2000, \"country\": \"Netherlands\", \"cluster\": 1, \"pop\": 15907853, \"life_expect\": 78.53, \"fertility\": 1.726}, {\"year\": 2000, \"country\": \"New Zealand\", \"cluster\": 4, \"pop\": 3819762, \"life_expect\": 79.11, \"fertility\": 1.964}, {\"year\": 2000, \"country\": \"Nigeria\", \"cluster\": 2, \"pop\": 114306700, \"life_expect\": 46.608, \"fertility\": 5.845}, {\"year\": 2000, \"country\": \"Norway\", \"cluster\": 1, \"pop\": 4492400, \"life_expect\": 79.05, \"fertility\": 1.8010000000000002}, {\"year\": 2000, \"country\": \"Pakistan\", \"cluster\": 0, \"pop\": 146342958, \"life_expect\": 63.61, \"fertility\": 3.9936}, {\"year\": 2000, \"country\": \"Peru\", \"cluster\": 3, \"pop\": 25979722, \"life_expect\": 69.906, \"fertility\": 2.7005}, {\"year\": 2000, \"country\": \"Philippines\", \"cluster\": 4, \"pop\": 79739825, \"life_expect\": 70.303, \"fertility\": 3.5436}, {\"year\": 2000, \"country\": \"Poland\", \"cluster\": 1, \"pop\": 38654164, \"life_expect\": 74.67, \"fertility\": 1.251}, {\"year\": 2000, \"country\": \"Portugal\", \"cluster\": 1, \"pop\": 10335597, \"life_expect\": 77.29, \"fertility\": 1.454}, {\"year\": 2000, \"country\": \"Rwanda\", \"cluster\": 2, \"pop\": 7507056, \"life_expect\": 43.413, \"fertility\": 6.01}, {\"year\": 2000, \"country\": \"Saudi Arabia\", \"cluster\": 5, \"pop\": 23153090, \"life_expect\": 71.626, \"fertility\": 3.81}, {\"year\": 2000, \"country\": \"South Africa\", \"cluster\": 2, \"pop\": 44066197, \"life_expect\": 53.365, \"fertility\": 2.802}, {\"year\": 2000, \"country\": \"Spain\", \"cluster\": 1, \"pop\": 40016081, \"life_expect\": 79.78, \"fertility\": 1.287}, {\"year\": 2000, \"country\": \"Switzerland\", \"cluster\": 1, \"pop\": 7266920, \"life_expect\": 80.62, \"fertility\": 1.415}, {\"year\": 2000, \"country\": \"Turkey\", \"cluster\": 1, \"pop\": 65666677, \"life_expect\": 70.845, \"fertility\": 2.23}, {\"year\": 2000, \"country\": \"United Kingdom\", \"cluster\": 1, \"pop\": 59522468, \"life_expect\": 78.471, \"fertility\": 1.695}, {\"year\": 2000, \"country\": \"United States\", \"cluster\": 3, \"pop\": 282338631, \"life_expect\": 77.31, \"fertility\": 2.038}, {\"year\": 2000, \"country\": \"Venezuela\", \"cluster\": 3, \"pop\": 23542649, \"life_expect\": 72.766, \"fertility\": 2.723}]}}, {\"mode\": \"vega-lite\"});\n",
       "</script>"
      ],
      "text/plain": [
       "alt.Chart(...)"
      ]
     },
     "execution_count": 28,
     "metadata": {},
     "output_type": "execute_result"
    }
   ],
   "source": [
    "alt.Chart(data2000).mark_point().encode(\n",
    "    alt.X('fertility:Q'),\n",
    "    alt.Y('cluster:N'),\n",
    "    alt.Shape('cluster:N')\n",
    ")"
   ]
  },
  {
   "cell_type": "markdown",
   "metadata": {
    "colab_type": "text",
    "id": "bONM4Ccrt4Sw",
    "slideshow": {
     "slide_type": "subslide"
    }
   },
   "source": [
    "- 인코딩 채널 외에도, \n",
    "  `mark_*()` 메소드에서 여러 옵션 값을 지정하여 마크 스타일을 지정할 수 있다.  \n",
    "  점 마크는 기본적으로 외곽선으로 그려지는데,  \n",
    "  - `filled` 옵션으로 색상이 채워진 모습으로 도형을 표시하고, \n",
    "  - `size` 옵션으로 도형의 크기를 지정할 수 있다. "
   ]
  },
  {
   "cell_type": "code",
   "execution_count": 29,
   "metadata": {
    "colab": {
     "base_uri": "https://localhost:8080/",
     "height": 192
    },
    "colab_type": "code",
    "id": "3-HgJ1PjvKdH",
    "outputId": "dcf26fa9-281b-4297-da50-84c7f5ccd318",
    "slideshow": {
     "slide_type": "fragment"
    }
   },
   "outputs": [
    {
     "data": {
      "text/html": [
       "\n",
       "<div id=\"altair-viz-7a92f78477d84b879b67b03d35859297\"></div>\n",
       "<script type=\"text/javascript\">\n",
       "  (function(spec, embedOpt){\n",
       "    let outputDiv = document.currentScript.previousElementSibling;\n",
       "    if (outputDiv.id !== \"altair-viz-7a92f78477d84b879b67b03d35859297\") {\n",
       "      outputDiv = document.getElementById(\"altair-viz-7a92f78477d84b879b67b03d35859297\");\n",
       "    }\n",
       "    const paths = {\n",
       "      \"vega\": \"https://cdn.jsdelivr.net/npm//vega@5?noext\",\n",
       "      \"vega-lib\": \"https://cdn.jsdelivr.net/npm//vega-lib?noext\",\n",
       "      \"vega-lite\": \"https://cdn.jsdelivr.net/npm//vega-lite@4.8.1?noext\",\n",
       "      \"vega-embed\": \"https://cdn.jsdelivr.net/npm//vega-embed@6?noext\",\n",
       "    };\n",
       "\n",
       "    function loadScript(lib) {\n",
       "      return new Promise(function(resolve, reject) {\n",
       "        var s = document.createElement('script');\n",
       "        s.src = paths[lib];\n",
       "        s.async = true;\n",
       "        s.onload = () => resolve(paths[lib]);\n",
       "        s.onerror = () => reject(`Error loading script: ${paths[lib]}`);\n",
       "        document.getElementsByTagName(\"head\")[0].appendChild(s);\n",
       "      });\n",
       "    }\n",
       "\n",
       "    function showError(err) {\n",
       "      outputDiv.innerHTML = `<div class=\"error\" style=\"color:red;\">${err}</div>`;\n",
       "      throw err;\n",
       "    }\n",
       "\n",
       "    function displayChart(vegaEmbed) {\n",
       "      vegaEmbed(outputDiv, spec, embedOpt)\n",
       "        .catch(err => showError(`Javascript Error: ${err.message}<br>This usually means there's a typo in your chart specification. See the javascript console for the full traceback.`));\n",
       "    }\n",
       "\n",
       "    if(typeof define === \"function\" && define.amd) {\n",
       "      requirejs.config({paths});\n",
       "      require([\"vega-embed\"], displayChart, err => showError(`Error loading script: ${err.message}`));\n",
       "    } else if (typeof vegaEmbed === \"function\") {\n",
       "      displayChart(vegaEmbed);\n",
       "    } else {\n",
       "      loadScript(\"vega\")\n",
       "        .then(() => loadScript(\"vega-lite\"))\n",
       "        .then(() => loadScript(\"vega-embed\"))\n",
       "        .catch(showError)\n",
       "        .then(() => displayChart(vegaEmbed));\n",
       "    }\n",
       "  })({\"config\": {\"view\": {\"continuousWidth\": 400, \"continuousHeight\": 300}}, \"data\": {\"name\": \"data-fdeb0b749a6385830bd1445d39ad6ea0\"}, \"mark\": {\"type\": \"point\", \"filled\": true, \"size\": 100}, \"encoding\": {\"shape\": {\"type\": \"nominal\", \"field\": \"cluster\"}, \"x\": {\"type\": \"quantitative\", \"field\": \"fertility\"}, \"y\": {\"type\": \"nominal\", \"field\": \"cluster\"}}, \"$schema\": \"https://vega.github.io/schema/vega-lite/v4.8.1.json\", \"datasets\": {\"data-fdeb0b749a6385830bd1445d39ad6ea0\": [{\"year\": 2000, \"country\": \"Afghanistan\", \"cluster\": 0, \"pop\": 23898198, \"life_expect\": 42.129, \"fertility\": 7.4792}, {\"year\": 2000, \"country\": \"Argentina\", \"cluster\": 3, \"pop\": 37497728, \"life_expect\": 74.34, \"fertility\": 2.35}, {\"year\": 2000, \"country\": \"Aruba\", \"cluster\": 3, \"pop\": 69539, \"life_expect\": 73.451, \"fertility\": 2.124}, {\"year\": 2000, \"country\": \"Australia\", \"cluster\": 4, \"pop\": 19164620, \"life_expect\": 80.37, \"fertility\": 1.756}, {\"year\": 2000, \"country\": \"Austria\", \"cluster\": 1, \"pop\": 8113413, \"life_expect\": 78.98, \"fertility\": 1.3820000000000001}, {\"year\": 2000, \"country\": \"Bahamas\", \"cluster\": 3, \"pop\": 290075, \"life_expect\": 71.068, \"fertility\": 2.1111}, {\"year\": 2000, \"country\": \"Bangladesh\", \"cluster\": 0, \"pop\": 130406594, \"life_expect\": 62.013, \"fertility\": 3.224}, {\"year\": 2000, \"country\": \"Barbados\", \"cluster\": 3, \"pop\": 273483, \"life_expect\": 75.97, \"fertility\": 1.5}, {\"year\": 2000, \"country\": \"Belgium\", \"cluster\": 1, \"pop\": 10263618, \"life_expect\": 78.32, \"fertility\": 1.638}, {\"year\": 2000, \"country\": \"Bolivia\", \"cluster\": 3, \"pop\": 8152620, \"life_expect\": 63.883, \"fertility\": 3.9585}, {\"year\": 2000, \"country\": \"Brazil\", \"cluster\": 3, \"pop\": 175552771, \"life_expect\": 71.006, \"fertility\": 2.345}, {\"year\": 2000, \"country\": \"Canada\", \"cluster\": 3, \"pop\": 31278097, \"life_expect\": 79.77, \"fertility\": 1.522}, {\"year\": 2000, \"country\": \"Chile\", \"cluster\": 3, \"pop\": 15153450, \"life_expect\": 77.86, \"fertility\": 2.0}, {\"year\": 2000, \"country\": \"China\", \"cluster\": 4, \"pop\": 1262645000, \"life_expect\": 72.028, \"fertility\": 1.7000000000000002}, {\"year\": 2000, \"country\": \"Colombia\", \"cluster\": 3, \"pop\": 39685655, \"life_expect\": 71.682, \"fertility\": 2.4705}, {\"year\": 2000, \"country\": \"Costa Rica\", \"cluster\": 3, \"pop\": 3710558, \"life_expect\": 78.123, \"fertility\": 2.2815}, {\"year\": 2000, \"country\": \"Croatia\", \"cluster\": 1, \"pop\": 4410830, \"life_expect\": 74.876, \"fertility\": 1.348}, {\"year\": 2000, \"country\": \"Cuba\", \"cluster\": 3, \"pop\": 11134273, \"life_expect\": 77.158, \"fertility\": 1.63}, {\"year\": 2000, \"country\": \"Dominican Republic\", \"cluster\": 3, \"pop\": 8385828, \"life_expect\": 70.847, \"fertility\": 2.95}, {\"year\": 2000, \"country\": \"Ecuador\", \"cluster\": 3, \"pop\": 12505204, \"life_expect\": 74.173, \"fertility\": 2.8175}, {\"year\": 2000, \"country\": \"Egypt\", \"cluster\": 5, \"pop\": 70492342, \"life_expect\": 69.806, \"fertility\": 3.174}, {\"year\": 2000, \"country\": \"El Salvador\", \"cluster\": 3, \"pop\": 6122515, \"life_expect\": 70.734, \"fertility\": 2.883}, {\"year\": 2000, \"country\": \"Finland\", \"cluster\": 1, \"pop\": 5168595, \"life_expect\": 78.37, \"fertility\": 1.754}, {\"year\": 2000, \"country\": \"France\", \"cluster\": 1, \"pop\": 59381628, \"life_expect\": 79.59, \"fertility\": 1.8833000000000002}, {\"year\": 2000, \"country\": \"Georgia\", \"cluster\": 1, \"pop\": 4777209, \"life_expect\": 70.476, \"fertility\": 1.478}, {\"year\": 2000, \"country\": \"Germany\", \"cluster\": 1, \"pop\": 82187909, \"life_expect\": 78.67, \"fertility\": 1.346}, {\"year\": 2000, \"country\": \"Greece\", \"cluster\": 1, \"pop\": 10559110, \"life_expect\": 78.256, \"fertility\": 1.2770000000000001}, {\"year\": 2000, \"country\": \"Grenada\", \"cluster\": 3, \"pop\": 89312, \"life_expect\": 67.746, \"fertility\": 2.429}, {\"year\": 2000, \"country\": \"Haiti\", \"cluster\": 3, \"pop\": 7306302, \"life_expect\": 58.137, \"fertility\": 4.0}, {\"year\": 2000, \"country\": \"Hong Kong\", \"cluster\": 4, \"pop\": 6658720, \"life_expect\": 81.495, \"fertility\": 0.9400000000000001}, {\"year\": 2000, \"country\": \"Iceland\", \"cluster\": 1, \"pop\": 281043, \"life_expect\": 80.5, \"fertility\": 1.9929999999999999}, {\"year\": 2000, \"country\": \"India\", \"cluster\": 0, \"pop\": 1007702000, \"life_expect\": 62.879, \"fertility\": 3.1132}, {\"year\": 2000, \"country\": \"Indonesia\", \"cluster\": 4, \"pop\": 206265000, \"life_expect\": 68.588, \"fertility\": 2.3761}, {\"year\": 2000, \"country\": \"Iran\", \"cluster\": 5, \"pop\": 65660289, \"life_expect\": 69.451, \"fertility\": 2.124}, {\"year\": 2000, \"country\": \"Iraq\", \"cluster\": 5, \"pop\": 22675617, \"life_expect\": 57.046, \"fertility\": 4.858}, {\"year\": 2000, \"country\": \"Ireland\", \"cluster\": 1, \"pop\": 3791690, \"life_expect\": 77.783, \"fertility\": 1.9689999999999999}, {\"year\": 2000, \"country\": \"Israel\", \"cluster\": 5, \"pop\": 5842454, \"life_expect\": 79.696, \"fertility\": 2.906}, {\"year\": 2000, \"country\": \"Italy\", \"cluster\": 1, \"pop\": 57719337, \"life_expect\": 80.24, \"fertility\": 1.286}, {\"year\": 2000, \"country\": \"Jamaica\", \"cluster\": 3, \"pop\": 2615467, \"life_expect\": 72.047, \"fertility\": 2.628}, {\"year\": 2000, \"country\": \"Japan\", \"cluster\": 4, \"pop\": 126699784, \"life_expect\": 82.0, \"fertility\": 1.291}, {\"year\": 2000, \"country\": \"Kenya\", \"cluster\": 2, \"pop\": 29985839, \"life_expect\": 50.992, \"fertility\": 5.0}, {\"year\": 2000, \"country\": \"South Korea\", \"cluster\": 4, \"pop\": 21647682, \"life_expect\": 66.662, \"fertility\": 1.9173}, {\"year\": 2000, \"country\": \"North Korea\", \"cluster\": 4, \"pop\": 47351083, \"life_expect\": 77.045, \"fertility\": 1.242}, {\"year\": 2000, \"country\": \"Lebanon\", \"cluster\": 5, \"pop\": 3578036, \"life_expect\": 71.028, \"fertility\": 2.319}, {\"year\": 2000, \"country\": \"Mexico\", \"cluster\": 3, \"pop\": 99926620, \"life_expect\": 74.902, \"fertility\": 2.4005}, {\"year\": 2000, \"country\": \"Netherlands\", \"cluster\": 1, \"pop\": 15907853, \"life_expect\": 78.53, \"fertility\": 1.726}, {\"year\": 2000, \"country\": \"New Zealand\", \"cluster\": 4, \"pop\": 3819762, \"life_expect\": 79.11, \"fertility\": 1.964}, {\"year\": 2000, \"country\": \"Nigeria\", \"cluster\": 2, \"pop\": 114306700, \"life_expect\": 46.608, \"fertility\": 5.845}, {\"year\": 2000, \"country\": \"Norway\", \"cluster\": 1, \"pop\": 4492400, \"life_expect\": 79.05, \"fertility\": 1.8010000000000002}, {\"year\": 2000, \"country\": \"Pakistan\", \"cluster\": 0, \"pop\": 146342958, \"life_expect\": 63.61, \"fertility\": 3.9936}, {\"year\": 2000, \"country\": \"Peru\", \"cluster\": 3, \"pop\": 25979722, \"life_expect\": 69.906, \"fertility\": 2.7005}, {\"year\": 2000, \"country\": \"Philippines\", \"cluster\": 4, \"pop\": 79739825, \"life_expect\": 70.303, \"fertility\": 3.5436}, {\"year\": 2000, \"country\": \"Poland\", \"cluster\": 1, \"pop\": 38654164, \"life_expect\": 74.67, \"fertility\": 1.251}, {\"year\": 2000, \"country\": \"Portugal\", \"cluster\": 1, \"pop\": 10335597, \"life_expect\": 77.29, \"fertility\": 1.454}, {\"year\": 2000, \"country\": \"Rwanda\", \"cluster\": 2, \"pop\": 7507056, \"life_expect\": 43.413, \"fertility\": 6.01}, {\"year\": 2000, \"country\": \"Saudi Arabia\", \"cluster\": 5, \"pop\": 23153090, \"life_expect\": 71.626, \"fertility\": 3.81}, {\"year\": 2000, \"country\": \"South Africa\", \"cluster\": 2, \"pop\": 44066197, \"life_expect\": 53.365, \"fertility\": 2.802}, {\"year\": 2000, \"country\": \"Spain\", \"cluster\": 1, \"pop\": 40016081, \"life_expect\": 79.78, \"fertility\": 1.287}, {\"year\": 2000, \"country\": \"Switzerland\", \"cluster\": 1, \"pop\": 7266920, \"life_expect\": 80.62, \"fertility\": 1.415}, {\"year\": 2000, \"country\": \"Turkey\", \"cluster\": 1, \"pop\": 65666677, \"life_expect\": 70.845, \"fertility\": 2.23}, {\"year\": 2000, \"country\": \"United Kingdom\", \"cluster\": 1, \"pop\": 59522468, \"life_expect\": 78.471, \"fertility\": 1.695}, {\"year\": 2000, \"country\": \"United States\", \"cluster\": 3, \"pop\": 282338631, \"life_expect\": 77.31, \"fertility\": 2.038}, {\"year\": 2000, \"country\": \"Venezuela\", \"cluster\": 3, \"pop\": 23542649, \"life_expect\": 72.766, \"fertility\": 2.723}]}}, {\"mode\": \"vega-lite\"});\n",
       "</script>"
      ],
      "text/plain": [
       "alt.Chart(...)"
      ]
     },
     "execution_count": 29,
     "metadata": {},
     "output_type": "execute_result"
    }
   ],
   "source": [
    "alt.Chart(data2000).mark_point(filled=True, size=100).encode(\n",
    "    alt.X('fertility:Q'),\n",
    "    alt.Y('cluster:N'),\n",
    "    alt.Shape('cluster:N')\n",
    ")"
   ]
  },
  {
   "cell_type": "markdown",
   "metadata": {
    "colab_type": "text",
    "id": "CGMm4gyNcLzB",
    "slideshow": {
     "slide_type": "slide"
    }
   },
   "source": [
    "### 4.2 원 마크\n",
    "\n",
    "- `circle` 마크 유형은 내부가 채워진 원 형태로 시각화하기 위하여 `point` 마크 대신에 사용된다. "
   ]
  },
  {
   "cell_type": "code",
   "execution_count": 30,
   "metadata": {
    "colab": {
     "base_uri": "https://localhost:8080/",
     "height": 192
    },
    "colab_type": "code",
    "id": "R7JgFhB-vn5X",
    "outputId": "80cd9d0f-c126-4673-bfcf-eaf5b34e0058",
    "slideshow": {
     "slide_type": "fragment"
    }
   },
   "outputs": [
    {
     "data": {
      "text/html": [
       "\n",
       "<div id=\"altair-viz-66faf86241ce44ec8efdb7c50c4f64c4\"></div>\n",
       "<script type=\"text/javascript\">\n",
       "  (function(spec, embedOpt){\n",
       "    let outputDiv = document.currentScript.previousElementSibling;\n",
       "    if (outputDiv.id !== \"altair-viz-66faf86241ce44ec8efdb7c50c4f64c4\") {\n",
       "      outputDiv = document.getElementById(\"altair-viz-66faf86241ce44ec8efdb7c50c4f64c4\");\n",
       "    }\n",
       "    const paths = {\n",
       "      \"vega\": \"https://cdn.jsdelivr.net/npm//vega@5?noext\",\n",
       "      \"vega-lib\": \"https://cdn.jsdelivr.net/npm//vega-lib?noext\",\n",
       "      \"vega-lite\": \"https://cdn.jsdelivr.net/npm//vega-lite@4.8.1?noext\",\n",
       "      \"vega-embed\": \"https://cdn.jsdelivr.net/npm//vega-embed@6?noext\",\n",
       "    };\n",
       "\n",
       "    function loadScript(lib) {\n",
       "      return new Promise(function(resolve, reject) {\n",
       "        var s = document.createElement('script');\n",
       "        s.src = paths[lib];\n",
       "        s.async = true;\n",
       "        s.onload = () => resolve(paths[lib]);\n",
       "        s.onerror = () => reject(`Error loading script: ${paths[lib]}`);\n",
       "        document.getElementsByTagName(\"head\")[0].appendChild(s);\n",
       "      });\n",
       "    }\n",
       "\n",
       "    function showError(err) {\n",
       "      outputDiv.innerHTML = `<div class=\"error\" style=\"color:red;\">${err}</div>`;\n",
       "      throw err;\n",
       "    }\n",
       "\n",
       "    function displayChart(vegaEmbed) {\n",
       "      vegaEmbed(outputDiv, spec, embedOpt)\n",
       "        .catch(err => showError(`Javascript Error: ${err.message}<br>This usually means there's a typo in your chart specification. See the javascript console for the full traceback.`));\n",
       "    }\n",
       "\n",
       "    if(typeof define === \"function\" && define.amd) {\n",
       "      requirejs.config({paths});\n",
       "      require([\"vega-embed\"], displayChart, err => showError(`Error loading script: ${err.message}`));\n",
       "    } else if (typeof vegaEmbed === \"function\") {\n",
       "      displayChart(vegaEmbed);\n",
       "    } else {\n",
       "      loadScript(\"vega\")\n",
       "        .then(() => loadScript(\"vega-lite\"))\n",
       "        .then(() => loadScript(\"vega-embed\"))\n",
       "        .catch(showError)\n",
       "        .then(() => displayChart(vegaEmbed));\n",
       "    }\n",
       "  })({\"config\": {\"view\": {\"continuousWidth\": 400, \"continuousHeight\": 300}}, \"data\": {\"name\": \"data-fdeb0b749a6385830bd1445d39ad6ea0\"}, \"mark\": {\"type\": \"circle\", \"size\": 100}, \"encoding\": {\"x\": {\"type\": \"quantitative\", \"field\": \"fertility\"}, \"y\": {\"type\": \"nominal\", \"field\": \"cluster\"}}, \"$schema\": \"https://vega.github.io/schema/vega-lite/v4.8.1.json\", \"datasets\": {\"data-fdeb0b749a6385830bd1445d39ad6ea0\": [{\"year\": 2000, \"country\": \"Afghanistan\", \"cluster\": 0, \"pop\": 23898198, \"life_expect\": 42.129, \"fertility\": 7.4792}, {\"year\": 2000, \"country\": \"Argentina\", \"cluster\": 3, \"pop\": 37497728, \"life_expect\": 74.34, \"fertility\": 2.35}, {\"year\": 2000, \"country\": \"Aruba\", \"cluster\": 3, \"pop\": 69539, \"life_expect\": 73.451, \"fertility\": 2.124}, {\"year\": 2000, \"country\": \"Australia\", \"cluster\": 4, \"pop\": 19164620, \"life_expect\": 80.37, \"fertility\": 1.756}, {\"year\": 2000, \"country\": \"Austria\", \"cluster\": 1, \"pop\": 8113413, \"life_expect\": 78.98, \"fertility\": 1.3820000000000001}, {\"year\": 2000, \"country\": \"Bahamas\", \"cluster\": 3, \"pop\": 290075, \"life_expect\": 71.068, \"fertility\": 2.1111}, {\"year\": 2000, \"country\": \"Bangladesh\", \"cluster\": 0, \"pop\": 130406594, \"life_expect\": 62.013, \"fertility\": 3.224}, {\"year\": 2000, \"country\": \"Barbados\", \"cluster\": 3, \"pop\": 273483, \"life_expect\": 75.97, \"fertility\": 1.5}, {\"year\": 2000, \"country\": \"Belgium\", \"cluster\": 1, \"pop\": 10263618, \"life_expect\": 78.32, \"fertility\": 1.638}, {\"year\": 2000, \"country\": \"Bolivia\", \"cluster\": 3, \"pop\": 8152620, \"life_expect\": 63.883, \"fertility\": 3.9585}, {\"year\": 2000, \"country\": \"Brazil\", \"cluster\": 3, \"pop\": 175552771, \"life_expect\": 71.006, \"fertility\": 2.345}, {\"year\": 2000, \"country\": \"Canada\", \"cluster\": 3, \"pop\": 31278097, \"life_expect\": 79.77, \"fertility\": 1.522}, {\"year\": 2000, \"country\": \"Chile\", \"cluster\": 3, \"pop\": 15153450, \"life_expect\": 77.86, \"fertility\": 2.0}, {\"year\": 2000, \"country\": \"China\", \"cluster\": 4, \"pop\": 1262645000, \"life_expect\": 72.028, \"fertility\": 1.7000000000000002}, {\"year\": 2000, \"country\": \"Colombia\", \"cluster\": 3, \"pop\": 39685655, \"life_expect\": 71.682, \"fertility\": 2.4705}, {\"year\": 2000, \"country\": \"Costa Rica\", \"cluster\": 3, \"pop\": 3710558, \"life_expect\": 78.123, \"fertility\": 2.2815}, {\"year\": 2000, \"country\": \"Croatia\", \"cluster\": 1, \"pop\": 4410830, \"life_expect\": 74.876, \"fertility\": 1.348}, {\"year\": 2000, \"country\": \"Cuba\", \"cluster\": 3, \"pop\": 11134273, \"life_expect\": 77.158, \"fertility\": 1.63}, {\"year\": 2000, \"country\": \"Dominican Republic\", \"cluster\": 3, \"pop\": 8385828, \"life_expect\": 70.847, \"fertility\": 2.95}, {\"year\": 2000, \"country\": \"Ecuador\", \"cluster\": 3, \"pop\": 12505204, \"life_expect\": 74.173, \"fertility\": 2.8175}, {\"year\": 2000, \"country\": \"Egypt\", \"cluster\": 5, \"pop\": 70492342, \"life_expect\": 69.806, \"fertility\": 3.174}, {\"year\": 2000, \"country\": \"El Salvador\", \"cluster\": 3, \"pop\": 6122515, \"life_expect\": 70.734, \"fertility\": 2.883}, {\"year\": 2000, \"country\": \"Finland\", \"cluster\": 1, \"pop\": 5168595, \"life_expect\": 78.37, \"fertility\": 1.754}, {\"year\": 2000, \"country\": \"France\", \"cluster\": 1, \"pop\": 59381628, \"life_expect\": 79.59, \"fertility\": 1.8833000000000002}, {\"year\": 2000, \"country\": \"Georgia\", \"cluster\": 1, \"pop\": 4777209, \"life_expect\": 70.476, \"fertility\": 1.478}, {\"year\": 2000, \"country\": \"Germany\", \"cluster\": 1, \"pop\": 82187909, \"life_expect\": 78.67, \"fertility\": 1.346}, {\"year\": 2000, \"country\": \"Greece\", \"cluster\": 1, \"pop\": 10559110, \"life_expect\": 78.256, \"fertility\": 1.2770000000000001}, {\"year\": 2000, \"country\": \"Grenada\", \"cluster\": 3, \"pop\": 89312, \"life_expect\": 67.746, \"fertility\": 2.429}, {\"year\": 2000, \"country\": \"Haiti\", \"cluster\": 3, \"pop\": 7306302, \"life_expect\": 58.137, \"fertility\": 4.0}, {\"year\": 2000, \"country\": \"Hong Kong\", \"cluster\": 4, \"pop\": 6658720, \"life_expect\": 81.495, \"fertility\": 0.9400000000000001}, {\"year\": 2000, \"country\": \"Iceland\", \"cluster\": 1, \"pop\": 281043, \"life_expect\": 80.5, \"fertility\": 1.9929999999999999}, {\"year\": 2000, \"country\": \"India\", \"cluster\": 0, \"pop\": 1007702000, \"life_expect\": 62.879, \"fertility\": 3.1132}, {\"year\": 2000, \"country\": \"Indonesia\", \"cluster\": 4, \"pop\": 206265000, \"life_expect\": 68.588, \"fertility\": 2.3761}, {\"year\": 2000, \"country\": \"Iran\", \"cluster\": 5, \"pop\": 65660289, \"life_expect\": 69.451, \"fertility\": 2.124}, {\"year\": 2000, \"country\": \"Iraq\", \"cluster\": 5, \"pop\": 22675617, \"life_expect\": 57.046, \"fertility\": 4.858}, {\"year\": 2000, \"country\": \"Ireland\", \"cluster\": 1, \"pop\": 3791690, \"life_expect\": 77.783, \"fertility\": 1.9689999999999999}, {\"year\": 2000, \"country\": \"Israel\", \"cluster\": 5, \"pop\": 5842454, \"life_expect\": 79.696, \"fertility\": 2.906}, {\"year\": 2000, \"country\": \"Italy\", \"cluster\": 1, \"pop\": 57719337, \"life_expect\": 80.24, \"fertility\": 1.286}, {\"year\": 2000, \"country\": \"Jamaica\", \"cluster\": 3, \"pop\": 2615467, \"life_expect\": 72.047, \"fertility\": 2.628}, {\"year\": 2000, \"country\": \"Japan\", \"cluster\": 4, \"pop\": 126699784, \"life_expect\": 82.0, \"fertility\": 1.291}, {\"year\": 2000, \"country\": \"Kenya\", \"cluster\": 2, \"pop\": 29985839, \"life_expect\": 50.992, \"fertility\": 5.0}, {\"year\": 2000, \"country\": \"South Korea\", \"cluster\": 4, \"pop\": 21647682, \"life_expect\": 66.662, \"fertility\": 1.9173}, {\"year\": 2000, \"country\": \"North Korea\", \"cluster\": 4, \"pop\": 47351083, \"life_expect\": 77.045, \"fertility\": 1.242}, {\"year\": 2000, \"country\": \"Lebanon\", \"cluster\": 5, \"pop\": 3578036, \"life_expect\": 71.028, \"fertility\": 2.319}, {\"year\": 2000, \"country\": \"Mexico\", \"cluster\": 3, \"pop\": 99926620, \"life_expect\": 74.902, \"fertility\": 2.4005}, {\"year\": 2000, \"country\": \"Netherlands\", \"cluster\": 1, \"pop\": 15907853, \"life_expect\": 78.53, \"fertility\": 1.726}, {\"year\": 2000, \"country\": \"New Zealand\", \"cluster\": 4, \"pop\": 3819762, \"life_expect\": 79.11, \"fertility\": 1.964}, {\"year\": 2000, \"country\": \"Nigeria\", \"cluster\": 2, \"pop\": 114306700, \"life_expect\": 46.608, \"fertility\": 5.845}, {\"year\": 2000, \"country\": \"Norway\", \"cluster\": 1, \"pop\": 4492400, \"life_expect\": 79.05, \"fertility\": 1.8010000000000002}, {\"year\": 2000, \"country\": \"Pakistan\", \"cluster\": 0, \"pop\": 146342958, \"life_expect\": 63.61, \"fertility\": 3.9936}, {\"year\": 2000, \"country\": \"Peru\", \"cluster\": 3, \"pop\": 25979722, \"life_expect\": 69.906, \"fertility\": 2.7005}, {\"year\": 2000, \"country\": \"Philippines\", \"cluster\": 4, \"pop\": 79739825, \"life_expect\": 70.303, \"fertility\": 3.5436}, {\"year\": 2000, \"country\": \"Poland\", \"cluster\": 1, \"pop\": 38654164, \"life_expect\": 74.67, \"fertility\": 1.251}, {\"year\": 2000, \"country\": \"Portugal\", \"cluster\": 1, \"pop\": 10335597, \"life_expect\": 77.29, \"fertility\": 1.454}, {\"year\": 2000, \"country\": \"Rwanda\", \"cluster\": 2, \"pop\": 7507056, \"life_expect\": 43.413, \"fertility\": 6.01}, {\"year\": 2000, \"country\": \"Saudi Arabia\", \"cluster\": 5, \"pop\": 23153090, \"life_expect\": 71.626, \"fertility\": 3.81}, {\"year\": 2000, \"country\": \"South Africa\", \"cluster\": 2, \"pop\": 44066197, \"life_expect\": 53.365, \"fertility\": 2.802}, {\"year\": 2000, \"country\": \"Spain\", \"cluster\": 1, \"pop\": 40016081, \"life_expect\": 79.78, \"fertility\": 1.287}, {\"year\": 2000, \"country\": \"Switzerland\", \"cluster\": 1, \"pop\": 7266920, \"life_expect\": 80.62, \"fertility\": 1.415}, {\"year\": 2000, \"country\": \"Turkey\", \"cluster\": 1, \"pop\": 65666677, \"life_expect\": 70.845, \"fertility\": 2.23}, {\"year\": 2000, \"country\": \"United Kingdom\", \"cluster\": 1, \"pop\": 59522468, \"life_expect\": 78.471, \"fertility\": 1.695}, {\"year\": 2000, \"country\": \"United States\", \"cluster\": 3, \"pop\": 282338631, \"life_expect\": 77.31, \"fertility\": 2.038}, {\"year\": 2000, \"country\": \"Venezuela\", \"cluster\": 3, \"pop\": 23542649, \"life_expect\": 72.766, \"fertility\": 2.723}]}}, {\"mode\": \"vega-lite\"});\n",
       "</script>"
      ],
      "text/plain": [
       "alt.Chart(...)"
      ]
     },
     "execution_count": 30,
     "metadata": {},
     "output_type": "execute_result"
    }
   ],
   "source": [
    "alt.Chart(data2000).mark_circle(size=100).encode(\n",
    "    alt.X('fertility:Q'),\n",
    "    alt.Y('cluster:N'),\n",
    ")"
   ]
  },
  {
   "cell_type": "markdown",
   "metadata": {
    "colab_type": "text",
    "id": "IAZSJlWhcOr_",
    "slideshow": {
     "slide_type": "slide"
    }
   },
   "source": [
    "### 4.3 정사각형 마크\n",
    "\n",
    "- `square` 마크 유형은 내부가 채워진 정사각형 형태로 시각화하기 위하여 `point` 마크 대신에 사용된다. "
   ]
  },
  {
   "cell_type": "code",
   "execution_count": 31,
   "metadata": {
    "colab": {
     "base_uri": "https://localhost:8080/",
     "height": 192
    },
    "colab_type": "code",
    "id": "rfby5R-Mvuwx",
    "outputId": "8ff4b0d4-f3ce-45e5-f597-1a6fd296ba47",
    "slideshow": {
     "slide_type": "fragment"
    }
   },
   "outputs": [
    {
     "data": {
      "text/html": [
       "\n",
       "<div id=\"altair-viz-71afee38e41142d7bf38cb7966602a62\"></div>\n",
       "<script type=\"text/javascript\">\n",
       "  (function(spec, embedOpt){\n",
       "    let outputDiv = document.currentScript.previousElementSibling;\n",
       "    if (outputDiv.id !== \"altair-viz-71afee38e41142d7bf38cb7966602a62\") {\n",
       "      outputDiv = document.getElementById(\"altair-viz-71afee38e41142d7bf38cb7966602a62\");\n",
       "    }\n",
       "    const paths = {\n",
       "      \"vega\": \"https://cdn.jsdelivr.net/npm//vega@5?noext\",\n",
       "      \"vega-lib\": \"https://cdn.jsdelivr.net/npm//vega-lib?noext\",\n",
       "      \"vega-lite\": \"https://cdn.jsdelivr.net/npm//vega-lite@4.8.1?noext\",\n",
       "      \"vega-embed\": \"https://cdn.jsdelivr.net/npm//vega-embed@6?noext\",\n",
       "    };\n",
       "\n",
       "    function loadScript(lib) {\n",
       "      return new Promise(function(resolve, reject) {\n",
       "        var s = document.createElement('script');\n",
       "        s.src = paths[lib];\n",
       "        s.async = true;\n",
       "        s.onload = () => resolve(paths[lib]);\n",
       "        s.onerror = () => reject(`Error loading script: ${paths[lib]}`);\n",
       "        document.getElementsByTagName(\"head\")[0].appendChild(s);\n",
       "      });\n",
       "    }\n",
       "\n",
       "    function showError(err) {\n",
       "      outputDiv.innerHTML = `<div class=\"error\" style=\"color:red;\">${err}</div>`;\n",
       "      throw err;\n",
       "    }\n",
       "\n",
       "    function displayChart(vegaEmbed) {\n",
       "      vegaEmbed(outputDiv, spec, embedOpt)\n",
       "        .catch(err => showError(`Javascript Error: ${err.message}<br>This usually means there's a typo in your chart specification. See the javascript console for the full traceback.`));\n",
       "    }\n",
       "\n",
       "    if(typeof define === \"function\" && define.amd) {\n",
       "      requirejs.config({paths});\n",
       "      require([\"vega-embed\"], displayChart, err => showError(`Error loading script: ${err.message}`));\n",
       "    } else if (typeof vegaEmbed === \"function\") {\n",
       "      displayChart(vegaEmbed);\n",
       "    } else {\n",
       "      loadScript(\"vega\")\n",
       "        .then(() => loadScript(\"vega-lite\"))\n",
       "        .then(() => loadScript(\"vega-embed\"))\n",
       "        .catch(showError)\n",
       "        .then(() => displayChart(vegaEmbed));\n",
       "    }\n",
       "  })({\"config\": {\"view\": {\"continuousWidth\": 400, \"continuousHeight\": 300}}, \"data\": {\"name\": \"data-fdeb0b749a6385830bd1445d39ad6ea0\"}, \"mark\": {\"type\": \"square\", \"size\": 100}, \"encoding\": {\"x\": {\"type\": \"quantitative\", \"field\": \"fertility\"}, \"y\": {\"type\": \"nominal\", \"field\": \"cluster\"}}, \"$schema\": \"https://vega.github.io/schema/vega-lite/v4.8.1.json\", \"datasets\": {\"data-fdeb0b749a6385830bd1445d39ad6ea0\": [{\"year\": 2000, \"country\": \"Afghanistan\", \"cluster\": 0, \"pop\": 23898198, \"life_expect\": 42.129, \"fertility\": 7.4792}, {\"year\": 2000, \"country\": \"Argentina\", \"cluster\": 3, \"pop\": 37497728, \"life_expect\": 74.34, \"fertility\": 2.35}, {\"year\": 2000, \"country\": \"Aruba\", \"cluster\": 3, \"pop\": 69539, \"life_expect\": 73.451, \"fertility\": 2.124}, {\"year\": 2000, \"country\": \"Australia\", \"cluster\": 4, \"pop\": 19164620, \"life_expect\": 80.37, \"fertility\": 1.756}, {\"year\": 2000, \"country\": \"Austria\", \"cluster\": 1, \"pop\": 8113413, \"life_expect\": 78.98, \"fertility\": 1.3820000000000001}, {\"year\": 2000, \"country\": \"Bahamas\", \"cluster\": 3, \"pop\": 290075, \"life_expect\": 71.068, \"fertility\": 2.1111}, {\"year\": 2000, \"country\": \"Bangladesh\", \"cluster\": 0, \"pop\": 130406594, \"life_expect\": 62.013, \"fertility\": 3.224}, {\"year\": 2000, \"country\": \"Barbados\", \"cluster\": 3, \"pop\": 273483, \"life_expect\": 75.97, \"fertility\": 1.5}, {\"year\": 2000, \"country\": \"Belgium\", \"cluster\": 1, \"pop\": 10263618, \"life_expect\": 78.32, \"fertility\": 1.638}, {\"year\": 2000, \"country\": \"Bolivia\", \"cluster\": 3, \"pop\": 8152620, \"life_expect\": 63.883, \"fertility\": 3.9585}, {\"year\": 2000, \"country\": \"Brazil\", \"cluster\": 3, \"pop\": 175552771, \"life_expect\": 71.006, \"fertility\": 2.345}, {\"year\": 2000, \"country\": \"Canada\", \"cluster\": 3, \"pop\": 31278097, \"life_expect\": 79.77, \"fertility\": 1.522}, {\"year\": 2000, \"country\": \"Chile\", \"cluster\": 3, \"pop\": 15153450, \"life_expect\": 77.86, \"fertility\": 2.0}, {\"year\": 2000, \"country\": \"China\", \"cluster\": 4, \"pop\": 1262645000, \"life_expect\": 72.028, \"fertility\": 1.7000000000000002}, {\"year\": 2000, \"country\": \"Colombia\", \"cluster\": 3, \"pop\": 39685655, \"life_expect\": 71.682, \"fertility\": 2.4705}, {\"year\": 2000, \"country\": \"Costa Rica\", \"cluster\": 3, \"pop\": 3710558, \"life_expect\": 78.123, \"fertility\": 2.2815}, {\"year\": 2000, \"country\": \"Croatia\", \"cluster\": 1, \"pop\": 4410830, \"life_expect\": 74.876, \"fertility\": 1.348}, {\"year\": 2000, \"country\": \"Cuba\", \"cluster\": 3, \"pop\": 11134273, \"life_expect\": 77.158, \"fertility\": 1.63}, {\"year\": 2000, \"country\": \"Dominican Republic\", \"cluster\": 3, \"pop\": 8385828, \"life_expect\": 70.847, \"fertility\": 2.95}, {\"year\": 2000, \"country\": \"Ecuador\", \"cluster\": 3, \"pop\": 12505204, \"life_expect\": 74.173, \"fertility\": 2.8175}, {\"year\": 2000, \"country\": \"Egypt\", \"cluster\": 5, \"pop\": 70492342, \"life_expect\": 69.806, \"fertility\": 3.174}, {\"year\": 2000, \"country\": \"El Salvador\", \"cluster\": 3, \"pop\": 6122515, \"life_expect\": 70.734, \"fertility\": 2.883}, {\"year\": 2000, \"country\": \"Finland\", \"cluster\": 1, \"pop\": 5168595, \"life_expect\": 78.37, \"fertility\": 1.754}, {\"year\": 2000, \"country\": \"France\", \"cluster\": 1, \"pop\": 59381628, \"life_expect\": 79.59, \"fertility\": 1.8833000000000002}, {\"year\": 2000, \"country\": \"Georgia\", \"cluster\": 1, \"pop\": 4777209, \"life_expect\": 70.476, \"fertility\": 1.478}, {\"year\": 2000, \"country\": \"Germany\", \"cluster\": 1, \"pop\": 82187909, \"life_expect\": 78.67, \"fertility\": 1.346}, {\"year\": 2000, \"country\": \"Greece\", \"cluster\": 1, \"pop\": 10559110, \"life_expect\": 78.256, \"fertility\": 1.2770000000000001}, {\"year\": 2000, \"country\": \"Grenada\", \"cluster\": 3, \"pop\": 89312, \"life_expect\": 67.746, \"fertility\": 2.429}, {\"year\": 2000, \"country\": \"Haiti\", \"cluster\": 3, \"pop\": 7306302, \"life_expect\": 58.137, \"fertility\": 4.0}, {\"year\": 2000, \"country\": \"Hong Kong\", \"cluster\": 4, \"pop\": 6658720, \"life_expect\": 81.495, \"fertility\": 0.9400000000000001}, {\"year\": 2000, \"country\": \"Iceland\", \"cluster\": 1, \"pop\": 281043, \"life_expect\": 80.5, \"fertility\": 1.9929999999999999}, {\"year\": 2000, \"country\": \"India\", \"cluster\": 0, \"pop\": 1007702000, \"life_expect\": 62.879, \"fertility\": 3.1132}, {\"year\": 2000, \"country\": \"Indonesia\", \"cluster\": 4, \"pop\": 206265000, \"life_expect\": 68.588, \"fertility\": 2.3761}, {\"year\": 2000, \"country\": \"Iran\", \"cluster\": 5, \"pop\": 65660289, \"life_expect\": 69.451, \"fertility\": 2.124}, {\"year\": 2000, \"country\": \"Iraq\", \"cluster\": 5, \"pop\": 22675617, \"life_expect\": 57.046, \"fertility\": 4.858}, {\"year\": 2000, \"country\": \"Ireland\", \"cluster\": 1, \"pop\": 3791690, \"life_expect\": 77.783, \"fertility\": 1.9689999999999999}, {\"year\": 2000, \"country\": \"Israel\", \"cluster\": 5, \"pop\": 5842454, \"life_expect\": 79.696, \"fertility\": 2.906}, {\"year\": 2000, \"country\": \"Italy\", \"cluster\": 1, \"pop\": 57719337, \"life_expect\": 80.24, \"fertility\": 1.286}, {\"year\": 2000, \"country\": \"Jamaica\", \"cluster\": 3, \"pop\": 2615467, \"life_expect\": 72.047, \"fertility\": 2.628}, {\"year\": 2000, \"country\": \"Japan\", \"cluster\": 4, \"pop\": 126699784, \"life_expect\": 82.0, \"fertility\": 1.291}, {\"year\": 2000, \"country\": \"Kenya\", \"cluster\": 2, \"pop\": 29985839, \"life_expect\": 50.992, \"fertility\": 5.0}, {\"year\": 2000, \"country\": \"South Korea\", \"cluster\": 4, \"pop\": 21647682, \"life_expect\": 66.662, \"fertility\": 1.9173}, {\"year\": 2000, \"country\": \"North Korea\", \"cluster\": 4, \"pop\": 47351083, \"life_expect\": 77.045, \"fertility\": 1.242}, {\"year\": 2000, \"country\": \"Lebanon\", \"cluster\": 5, \"pop\": 3578036, \"life_expect\": 71.028, \"fertility\": 2.319}, {\"year\": 2000, \"country\": \"Mexico\", \"cluster\": 3, \"pop\": 99926620, \"life_expect\": 74.902, \"fertility\": 2.4005}, {\"year\": 2000, \"country\": \"Netherlands\", \"cluster\": 1, \"pop\": 15907853, \"life_expect\": 78.53, \"fertility\": 1.726}, {\"year\": 2000, \"country\": \"New Zealand\", \"cluster\": 4, \"pop\": 3819762, \"life_expect\": 79.11, \"fertility\": 1.964}, {\"year\": 2000, \"country\": \"Nigeria\", \"cluster\": 2, \"pop\": 114306700, \"life_expect\": 46.608, \"fertility\": 5.845}, {\"year\": 2000, \"country\": \"Norway\", \"cluster\": 1, \"pop\": 4492400, \"life_expect\": 79.05, \"fertility\": 1.8010000000000002}, {\"year\": 2000, \"country\": \"Pakistan\", \"cluster\": 0, \"pop\": 146342958, \"life_expect\": 63.61, \"fertility\": 3.9936}, {\"year\": 2000, \"country\": \"Peru\", \"cluster\": 3, \"pop\": 25979722, \"life_expect\": 69.906, \"fertility\": 2.7005}, {\"year\": 2000, \"country\": \"Philippines\", \"cluster\": 4, \"pop\": 79739825, \"life_expect\": 70.303, \"fertility\": 3.5436}, {\"year\": 2000, \"country\": \"Poland\", \"cluster\": 1, \"pop\": 38654164, \"life_expect\": 74.67, \"fertility\": 1.251}, {\"year\": 2000, \"country\": \"Portugal\", \"cluster\": 1, \"pop\": 10335597, \"life_expect\": 77.29, \"fertility\": 1.454}, {\"year\": 2000, \"country\": \"Rwanda\", \"cluster\": 2, \"pop\": 7507056, \"life_expect\": 43.413, \"fertility\": 6.01}, {\"year\": 2000, \"country\": \"Saudi Arabia\", \"cluster\": 5, \"pop\": 23153090, \"life_expect\": 71.626, \"fertility\": 3.81}, {\"year\": 2000, \"country\": \"South Africa\", \"cluster\": 2, \"pop\": 44066197, \"life_expect\": 53.365, \"fertility\": 2.802}, {\"year\": 2000, \"country\": \"Spain\", \"cluster\": 1, \"pop\": 40016081, \"life_expect\": 79.78, \"fertility\": 1.287}, {\"year\": 2000, \"country\": \"Switzerland\", \"cluster\": 1, \"pop\": 7266920, \"life_expect\": 80.62, \"fertility\": 1.415}, {\"year\": 2000, \"country\": \"Turkey\", \"cluster\": 1, \"pop\": 65666677, \"life_expect\": 70.845, \"fertility\": 2.23}, {\"year\": 2000, \"country\": \"United Kingdom\", \"cluster\": 1, \"pop\": 59522468, \"life_expect\": 78.471, \"fertility\": 1.695}, {\"year\": 2000, \"country\": \"United States\", \"cluster\": 3, \"pop\": 282338631, \"life_expect\": 77.31, \"fertility\": 2.038}, {\"year\": 2000, \"country\": \"Venezuela\", \"cluster\": 3, \"pop\": 23542649, \"life_expect\": 72.766, \"fertility\": 2.723}]}}, {\"mode\": \"vega-lite\"});\n",
       "</script>"
      ],
      "text/plain": [
       "alt.Chart(...)"
      ]
     },
     "execution_count": 31,
     "metadata": {},
     "output_type": "execute_result"
    }
   ],
   "source": [
    "alt.Chart(data2000).mark_square(size=100).encode(\n",
    "    alt.X('fertility:Q'),\n",
    "    alt.Y('cluster:N'),\n",
    ")"
   ]
  },
  {
   "cell_type": "markdown",
   "metadata": {
    "colab_type": "text",
    "id": "SJF0vNqGcRdv",
    "slideshow": {
     "slide_type": "slide"
    }
   },
   "source": [
    "### 4.4 눈금 마크\n",
    "\n",
    "- `tick` 마크 유형은 데이터 포인트를 짧은 선분 형태의 눈금(tick)으로 시각화한다. \n",
    "  - 이러한 시각화는 일차원 직선 상에서 겹치는 부분을 최소화 한 형태로 값을 비교할 때 유용하다. \n",
    "  - 눈금 마크로 그려진 점 플롯을 때로 *스트립 플롯(strip plot)*으로 부르기도 한다. "
   ]
  },
  {
   "cell_type": "code",
   "execution_count": 32,
   "metadata": {
    "colab": {
     "base_uri": "https://localhost:8080/",
     "height": 192
    },
    "colab_type": "code",
    "id": "Thvp_VJ2v-xd",
    "outputId": "c6133250-333f-4c29-e217-221634dd8337",
    "slideshow": {
     "slide_type": "fragment"
    }
   },
   "outputs": [
    {
     "data": {
      "text/html": [
       "\n",
       "<div id=\"altair-viz-f5c842789588460eb82be6a41e9a1d2f\"></div>\n",
       "<script type=\"text/javascript\">\n",
       "  (function(spec, embedOpt){\n",
       "    let outputDiv = document.currentScript.previousElementSibling;\n",
       "    if (outputDiv.id !== \"altair-viz-f5c842789588460eb82be6a41e9a1d2f\") {\n",
       "      outputDiv = document.getElementById(\"altair-viz-f5c842789588460eb82be6a41e9a1d2f\");\n",
       "    }\n",
       "    const paths = {\n",
       "      \"vega\": \"https://cdn.jsdelivr.net/npm//vega@5?noext\",\n",
       "      \"vega-lib\": \"https://cdn.jsdelivr.net/npm//vega-lib?noext\",\n",
       "      \"vega-lite\": \"https://cdn.jsdelivr.net/npm//vega-lite@4.8.1?noext\",\n",
       "      \"vega-embed\": \"https://cdn.jsdelivr.net/npm//vega-embed@6?noext\",\n",
       "    };\n",
       "\n",
       "    function loadScript(lib) {\n",
       "      return new Promise(function(resolve, reject) {\n",
       "        var s = document.createElement('script');\n",
       "        s.src = paths[lib];\n",
       "        s.async = true;\n",
       "        s.onload = () => resolve(paths[lib]);\n",
       "        s.onerror = () => reject(`Error loading script: ${paths[lib]}`);\n",
       "        document.getElementsByTagName(\"head\")[0].appendChild(s);\n",
       "      });\n",
       "    }\n",
       "\n",
       "    function showError(err) {\n",
       "      outputDiv.innerHTML = `<div class=\"error\" style=\"color:red;\">${err}</div>`;\n",
       "      throw err;\n",
       "    }\n",
       "\n",
       "    function displayChart(vegaEmbed) {\n",
       "      vegaEmbed(outputDiv, spec, embedOpt)\n",
       "        .catch(err => showError(`Javascript Error: ${err.message}<br>This usually means there's a typo in your chart specification. See the javascript console for the full traceback.`));\n",
       "    }\n",
       "\n",
       "    if(typeof define === \"function\" && define.amd) {\n",
       "      requirejs.config({paths});\n",
       "      require([\"vega-embed\"], displayChart, err => showError(`Error loading script: ${err.message}`));\n",
       "    } else if (typeof vegaEmbed === \"function\") {\n",
       "      displayChart(vegaEmbed);\n",
       "    } else {\n",
       "      loadScript(\"vega\")\n",
       "        .then(() => loadScript(\"vega-lite\"))\n",
       "        .then(() => loadScript(\"vega-embed\"))\n",
       "        .catch(showError)\n",
       "        .then(() => displayChart(vegaEmbed));\n",
       "    }\n",
       "  })({\"config\": {\"view\": {\"continuousWidth\": 400, \"continuousHeight\": 300}}, \"data\": {\"name\": \"data-fdeb0b749a6385830bd1445d39ad6ea0\"}, \"mark\": \"tick\", \"encoding\": {\"x\": {\"type\": \"quantitative\", \"field\": \"fertility\"}, \"y\": {\"type\": \"nominal\", \"field\": \"cluster\"}}, \"$schema\": \"https://vega.github.io/schema/vega-lite/v4.8.1.json\", \"datasets\": {\"data-fdeb0b749a6385830bd1445d39ad6ea0\": [{\"year\": 2000, \"country\": \"Afghanistan\", \"cluster\": 0, \"pop\": 23898198, \"life_expect\": 42.129, \"fertility\": 7.4792}, {\"year\": 2000, \"country\": \"Argentina\", \"cluster\": 3, \"pop\": 37497728, \"life_expect\": 74.34, \"fertility\": 2.35}, {\"year\": 2000, \"country\": \"Aruba\", \"cluster\": 3, \"pop\": 69539, \"life_expect\": 73.451, \"fertility\": 2.124}, {\"year\": 2000, \"country\": \"Australia\", \"cluster\": 4, \"pop\": 19164620, \"life_expect\": 80.37, \"fertility\": 1.756}, {\"year\": 2000, \"country\": \"Austria\", \"cluster\": 1, \"pop\": 8113413, \"life_expect\": 78.98, \"fertility\": 1.3820000000000001}, {\"year\": 2000, \"country\": \"Bahamas\", \"cluster\": 3, \"pop\": 290075, \"life_expect\": 71.068, \"fertility\": 2.1111}, {\"year\": 2000, \"country\": \"Bangladesh\", \"cluster\": 0, \"pop\": 130406594, \"life_expect\": 62.013, \"fertility\": 3.224}, {\"year\": 2000, \"country\": \"Barbados\", \"cluster\": 3, \"pop\": 273483, \"life_expect\": 75.97, \"fertility\": 1.5}, {\"year\": 2000, \"country\": \"Belgium\", \"cluster\": 1, \"pop\": 10263618, \"life_expect\": 78.32, \"fertility\": 1.638}, {\"year\": 2000, \"country\": \"Bolivia\", \"cluster\": 3, \"pop\": 8152620, \"life_expect\": 63.883, \"fertility\": 3.9585}, {\"year\": 2000, \"country\": \"Brazil\", \"cluster\": 3, \"pop\": 175552771, \"life_expect\": 71.006, \"fertility\": 2.345}, {\"year\": 2000, \"country\": \"Canada\", \"cluster\": 3, \"pop\": 31278097, \"life_expect\": 79.77, \"fertility\": 1.522}, {\"year\": 2000, \"country\": \"Chile\", \"cluster\": 3, \"pop\": 15153450, \"life_expect\": 77.86, \"fertility\": 2.0}, {\"year\": 2000, \"country\": \"China\", \"cluster\": 4, \"pop\": 1262645000, \"life_expect\": 72.028, \"fertility\": 1.7000000000000002}, {\"year\": 2000, \"country\": \"Colombia\", \"cluster\": 3, \"pop\": 39685655, \"life_expect\": 71.682, \"fertility\": 2.4705}, {\"year\": 2000, \"country\": \"Costa Rica\", \"cluster\": 3, \"pop\": 3710558, \"life_expect\": 78.123, \"fertility\": 2.2815}, {\"year\": 2000, \"country\": \"Croatia\", \"cluster\": 1, \"pop\": 4410830, \"life_expect\": 74.876, \"fertility\": 1.348}, {\"year\": 2000, \"country\": \"Cuba\", \"cluster\": 3, \"pop\": 11134273, \"life_expect\": 77.158, \"fertility\": 1.63}, {\"year\": 2000, \"country\": \"Dominican Republic\", \"cluster\": 3, \"pop\": 8385828, \"life_expect\": 70.847, \"fertility\": 2.95}, {\"year\": 2000, \"country\": \"Ecuador\", \"cluster\": 3, \"pop\": 12505204, \"life_expect\": 74.173, \"fertility\": 2.8175}, {\"year\": 2000, \"country\": \"Egypt\", \"cluster\": 5, \"pop\": 70492342, \"life_expect\": 69.806, \"fertility\": 3.174}, {\"year\": 2000, \"country\": \"El Salvador\", \"cluster\": 3, \"pop\": 6122515, \"life_expect\": 70.734, \"fertility\": 2.883}, {\"year\": 2000, \"country\": \"Finland\", \"cluster\": 1, \"pop\": 5168595, \"life_expect\": 78.37, \"fertility\": 1.754}, {\"year\": 2000, \"country\": \"France\", \"cluster\": 1, \"pop\": 59381628, \"life_expect\": 79.59, \"fertility\": 1.8833000000000002}, {\"year\": 2000, \"country\": \"Georgia\", \"cluster\": 1, \"pop\": 4777209, \"life_expect\": 70.476, \"fertility\": 1.478}, {\"year\": 2000, \"country\": \"Germany\", \"cluster\": 1, \"pop\": 82187909, \"life_expect\": 78.67, \"fertility\": 1.346}, {\"year\": 2000, \"country\": \"Greece\", \"cluster\": 1, \"pop\": 10559110, \"life_expect\": 78.256, \"fertility\": 1.2770000000000001}, {\"year\": 2000, \"country\": \"Grenada\", \"cluster\": 3, \"pop\": 89312, \"life_expect\": 67.746, \"fertility\": 2.429}, {\"year\": 2000, \"country\": \"Haiti\", \"cluster\": 3, \"pop\": 7306302, \"life_expect\": 58.137, \"fertility\": 4.0}, {\"year\": 2000, \"country\": \"Hong Kong\", \"cluster\": 4, \"pop\": 6658720, \"life_expect\": 81.495, \"fertility\": 0.9400000000000001}, {\"year\": 2000, \"country\": \"Iceland\", \"cluster\": 1, \"pop\": 281043, \"life_expect\": 80.5, \"fertility\": 1.9929999999999999}, {\"year\": 2000, \"country\": \"India\", \"cluster\": 0, \"pop\": 1007702000, \"life_expect\": 62.879, \"fertility\": 3.1132}, {\"year\": 2000, \"country\": \"Indonesia\", \"cluster\": 4, \"pop\": 206265000, \"life_expect\": 68.588, \"fertility\": 2.3761}, {\"year\": 2000, \"country\": \"Iran\", \"cluster\": 5, \"pop\": 65660289, \"life_expect\": 69.451, \"fertility\": 2.124}, {\"year\": 2000, \"country\": \"Iraq\", \"cluster\": 5, \"pop\": 22675617, \"life_expect\": 57.046, \"fertility\": 4.858}, {\"year\": 2000, \"country\": \"Ireland\", \"cluster\": 1, \"pop\": 3791690, \"life_expect\": 77.783, \"fertility\": 1.9689999999999999}, {\"year\": 2000, \"country\": \"Israel\", \"cluster\": 5, \"pop\": 5842454, \"life_expect\": 79.696, \"fertility\": 2.906}, {\"year\": 2000, \"country\": \"Italy\", \"cluster\": 1, \"pop\": 57719337, \"life_expect\": 80.24, \"fertility\": 1.286}, {\"year\": 2000, \"country\": \"Jamaica\", \"cluster\": 3, \"pop\": 2615467, \"life_expect\": 72.047, \"fertility\": 2.628}, {\"year\": 2000, \"country\": \"Japan\", \"cluster\": 4, \"pop\": 126699784, \"life_expect\": 82.0, \"fertility\": 1.291}, {\"year\": 2000, \"country\": \"Kenya\", \"cluster\": 2, \"pop\": 29985839, \"life_expect\": 50.992, \"fertility\": 5.0}, {\"year\": 2000, \"country\": \"South Korea\", \"cluster\": 4, \"pop\": 21647682, \"life_expect\": 66.662, \"fertility\": 1.9173}, {\"year\": 2000, \"country\": \"North Korea\", \"cluster\": 4, \"pop\": 47351083, \"life_expect\": 77.045, \"fertility\": 1.242}, {\"year\": 2000, \"country\": \"Lebanon\", \"cluster\": 5, \"pop\": 3578036, \"life_expect\": 71.028, \"fertility\": 2.319}, {\"year\": 2000, \"country\": \"Mexico\", \"cluster\": 3, \"pop\": 99926620, \"life_expect\": 74.902, \"fertility\": 2.4005}, {\"year\": 2000, \"country\": \"Netherlands\", \"cluster\": 1, \"pop\": 15907853, \"life_expect\": 78.53, \"fertility\": 1.726}, {\"year\": 2000, \"country\": \"New Zealand\", \"cluster\": 4, \"pop\": 3819762, \"life_expect\": 79.11, \"fertility\": 1.964}, {\"year\": 2000, \"country\": \"Nigeria\", \"cluster\": 2, \"pop\": 114306700, \"life_expect\": 46.608, \"fertility\": 5.845}, {\"year\": 2000, \"country\": \"Norway\", \"cluster\": 1, \"pop\": 4492400, \"life_expect\": 79.05, \"fertility\": 1.8010000000000002}, {\"year\": 2000, \"country\": \"Pakistan\", \"cluster\": 0, \"pop\": 146342958, \"life_expect\": 63.61, \"fertility\": 3.9936}, {\"year\": 2000, \"country\": \"Peru\", \"cluster\": 3, \"pop\": 25979722, \"life_expect\": 69.906, \"fertility\": 2.7005}, {\"year\": 2000, \"country\": \"Philippines\", \"cluster\": 4, \"pop\": 79739825, \"life_expect\": 70.303, \"fertility\": 3.5436}, {\"year\": 2000, \"country\": \"Poland\", \"cluster\": 1, \"pop\": 38654164, \"life_expect\": 74.67, \"fertility\": 1.251}, {\"year\": 2000, \"country\": \"Portugal\", \"cluster\": 1, \"pop\": 10335597, \"life_expect\": 77.29, \"fertility\": 1.454}, {\"year\": 2000, \"country\": \"Rwanda\", \"cluster\": 2, \"pop\": 7507056, \"life_expect\": 43.413, \"fertility\": 6.01}, {\"year\": 2000, \"country\": \"Saudi Arabia\", \"cluster\": 5, \"pop\": 23153090, \"life_expect\": 71.626, \"fertility\": 3.81}, {\"year\": 2000, \"country\": \"South Africa\", \"cluster\": 2, \"pop\": 44066197, \"life_expect\": 53.365, \"fertility\": 2.802}, {\"year\": 2000, \"country\": \"Spain\", \"cluster\": 1, \"pop\": 40016081, \"life_expect\": 79.78, \"fertility\": 1.287}, {\"year\": 2000, \"country\": \"Switzerland\", \"cluster\": 1, \"pop\": 7266920, \"life_expect\": 80.62, \"fertility\": 1.415}, {\"year\": 2000, \"country\": \"Turkey\", \"cluster\": 1, \"pop\": 65666677, \"life_expect\": 70.845, \"fertility\": 2.23}, {\"year\": 2000, \"country\": \"United Kingdom\", \"cluster\": 1, \"pop\": 59522468, \"life_expect\": 78.471, \"fertility\": 1.695}, {\"year\": 2000, \"country\": \"United States\", \"cluster\": 3, \"pop\": 282338631, \"life_expect\": 77.31, \"fertility\": 2.038}, {\"year\": 2000, \"country\": \"Venezuela\", \"cluster\": 3, \"pop\": 23542649, \"life_expect\": 72.766, \"fertility\": 2.723}]}}, {\"mode\": \"vega-lite\"});\n",
       "</script>"
      ],
      "text/plain": [
       "alt.Chart(...)"
      ]
     },
     "execution_count": 32,
     "metadata": {},
     "output_type": "execute_result"
    }
   ],
   "source": [
    "alt.Chart(data2000).mark_tick().encode(\n",
    "    alt.X('fertility:Q'),\n",
    "    alt.Y('cluster:N'),\n",
    ")"
   ]
  },
  {
   "cell_type": "markdown",
   "metadata": {
    "colab_type": "text",
    "id": "x8j5XVZJcB7l",
    "slideshow": {
     "slide_type": "slide"
    }
   },
   "source": [
    "### 4.5 막대 마크\n",
    "\n",
    "- `bar` 마크 유형은 직사각형의 긴 막대 모양으로 시각화한다. \n",
    "- 아래에서는 국가별 인구 `pop` 필드에 대한 단순한 막대 차트를 시각화 한다. "
   ]
  },
  {
   "cell_type": "code",
   "execution_count": 33,
   "metadata": {
    "colab": {
     "base_uri": "https://localhost:8080/",
     "height": 445
    },
    "colab_type": "code",
    "id": "eFN9Kw85xFQK",
    "outputId": "8da431d3-9ba7-4ecf-de55-e478c4527a39",
    "scrolled": false,
    "slideshow": {
     "slide_type": "fragment"
    }
   },
   "outputs": [
    {
     "data": {
      "text/html": [
       "\n",
       "<div id=\"altair-viz-4009466d7cf54ce28ccee219a7165b3b\"></div>\n",
       "<script type=\"text/javascript\">\n",
       "  (function(spec, embedOpt){\n",
       "    let outputDiv = document.currentScript.previousElementSibling;\n",
       "    if (outputDiv.id !== \"altair-viz-4009466d7cf54ce28ccee219a7165b3b\") {\n",
       "      outputDiv = document.getElementById(\"altair-viz-4009466d7cf54ce28ccee219a7165b3b\");\n",
       "    }\n",
       "    const paths = {\n",
       "      \"vega\": \"https://cdn.jsdelivr.net/npm//vega@5?noext\",\n",
       "      \"vega-lib\": \"https://cdn.jsdelivr.net/npm//vega-lib?noext\",\n",
       "      \"vega-lite\": \"https://cdn.jsdelivr.net/npm//vega-lite@4.8.1?noext\",\n",
       "      \"vega-embed\": \"https://cdn.jsdelivr.net/npm//vega-embed@6?noext\",\n",
       "    };\n",
       "\n",
       "    function loadScript(lib) {\n",
       "      return new Promise(function(resolve, reject) {\n",
       "        var s = document.createElement('script');\n",
       "        s.src = paths[lib];\n",
       "        s.async = true;\n",
       "        s.onload = () => resolve(paths[lib]);\n",
       "        s.onerror = () => reject(`Error loading script: ${paths[lib]}`);\n",
       "        document.getElementsByTagName(\"head\")[0].appendChild(s);\n",
       "      });\n",
       "    }\n",
       "\n",
       "    function showError(err) {\n",
       "      outputDiv.innerHTML = `<div class=\"error\" style=\"color:red;\">${err}</div>`;\n",
       "      throw err;\n",
       "    }\n",
       "\n",
       "    function displayChart(vegaEmbed) {\n",
       "      vegaEmbed(outputDiv, spec, embedOpt)\n",
       "        .catch(err => showError(`Javascript Error: ${err.message}<br>This usually means there's a typo in your chart specification. See the javascript console for the full traceback.`));\n",
       "    }\n",
       "\n",
       "    if(typeof define === \"function\" && define.amd) {\n",
       "      requirejs.config({paths});\n",
       "      require([\"vega-embed\"], displayChart, err => showError(`Error loading script: ${err.message}`));\n",
       "    } else if (typeof vegaEmbed === \"function\") {\n",
       "      displayChart(vegaEmbed);\n",
       "    } else {\n",
       "      loadScript(\"vega\")\n",
       "        .then(() => loadScript(\"vega-lite\"))\n",
       "        .then(() => loadScript(\"vega-embed\"))\n",
       "        .catch(showError)\n",
       "        .then(() => displayChart(vegaEmbed));\n",
       "    }\n",
       "  })({\"config\": {\"view\": {\"continuousWidth\": 400, \"continuousHeight\": 300}}, \"data\": {\"name\": \"data-fdeb0b749a6385830bd1445d39ad6ea0\"}, \"mark\": \"bar\", \"encoding\": {\"x\": {\"type\": \"nominal\", \"axis\": {\"labelAngle\": 30, \"title\": \"\\uad6d\\uac00\"}, \"field\": \"country\", \"sort\": \"-y\"}, \"y\": {\"type\": \"quantitative\", \"field\": \"pop\"}}, \"$schema\": \"https://vega.github.io/schema/vega-lite/v4.8.1.json\", \"datasets\": {\"data-fdeb0b749a6385830bd1445d39ad6ea0\": [{\"year\": 2000, \"country\": \"Afghanistan\", \"cluster\": 0, \"pop\": 23898198, \"life_expect\": 42.129, \"fertility\": 7.4792}, {\"year\": 2000, \"country\": \"Argentina\", \"cluster\": 3, \"pop\": 37497728, \"life_expect\": 74.34, \"fertility\": 2.35}, {\"year\": 2000, \"country\": \"Aruba\", \"cluster\": 3, \"pop\": 69539, \"life_expect\": 73.451, \"fertility\": 2.124}, {\"year\": 2000, \"country\": \"Australia\", \"cluster\": 4, \"pop\": 19164620, \"life_expect\": 80.37, \"fertility\": 1.756}, {\"year\": 2000, \"country\": \"Austria\", \"cluster\": 1, \"pop\": 8113413, \"life_expect\": 78.98, \"fertility\": 1.3820000000000001}, {\"year\": 2000, \"country\": \"Bahamas\", \"cluster\": 3, \"pop\": 290075, \"life_expect\": 71.068, \"fertility\": 2.1111}, {\"year\": 2000, \"country\": \"Bangladesh\", \"cluster\": 0, \"pop\": 130406594, \"life_expect\": 62.013, \"fertility\": 3.224}, {\"year\": 2000, \"country\": \"Barbados\", \"cluster\": 3, \"pop\": 273483, \"life_expect\": 75.97, \"fertility\": 1.5}, {\"year\": 2000, \"country\": \"Belgium\", \"cluster\": 1, \"pop\": 10263618, \"life_expect\": 78.32, \"fertility\": 1.638}, {\"year\": 2000, \"country\": \"Bolivia\", \"cluster\": 3, \"pop\": 8152620, \"life_expect\": 63.883, \"fertility\": 3.9585}, {\"year\": 2000, \"country\": \"Brazil\", \"cluster\": 3, \"pop\": 175552771, \"life_expect\": 71.006, \"fertility\": 2.345}, {\"year\": 2000, \"country\": \"Canada\", \"cluster\": 3, \"pop\": 31278097, \"life_expect\": 79.77, \"fertility\": 1.522}, {\"year\": 2000, \"country\": \"Chile\", \"cluster\": 3, \"pop\": 15153450, \"life_expect\": 77.86, \"fertility\": 2.0}, {\"year\": 2000, \"country\": \"China\", \"cluster\": 4, \"pop\": 1262645000, \"life_expect\": 72.028, \"fertility\": 1.7000000000000002}, {\"year\": 2000, \"country\": \"Colombia\", \"cluster\": 3, \"pop\": 39685655, \"life_expect\": 71.682, \"fertility\": 2.4705}, {\"year\": 2000, \"country\": \"Costa Rica\", \"cluster\": 3, \"pop\": 3710558, \"life_expect\": 78.123, \"fertility\": 2.2815}, {\"year\": 2000, \"country\": \"Croatia\", \"cluster\": 1, \"pop\": 4410830, \"life_expect\": 74.876, \"fertility\": 1.348}, {\"year\": 2000, \"country\": \"Cuba\", \"cluster\": 3, \"pop\": 11134273, \"life_expect\": 77.158, \"fertility\": 1.63}, {\"year\": 2000, \"country\": \"Dominican Republic\", \"cluster\": 3, \"pop\": 8385828, \"life_expect\": 70.847, \"fertility\": 2.95}, {\"year\": 2000, \"country\": \"Ecuador\", \"cluster\": 3, \"pop\": 12505204, \"life_expect\": 74.173, \"fertility\": 2.8175}, {\"year\": 2000, \"country\": \"Egypt\", \"cluster\": 5, \"pop\": 70492342, \"life_expect\": 69.806, \"fertility\": 3.174}, {\"year\": 2000, \"country\": \"El Salvador\", \"cluster\": 3, \"pop\": 6122515, \"life_expect\": 70.734, \"fertility\": 2.883}, {\"year\": 2000, \"country\": \"Finland\", \"cluster\": 1, \"pop\": 5168595, \"life_expect\": 78.37, \"fertility\": 1.754}, {\"year\": 2000, \"country\": \"France\", \"cluster\": 1, \"pop\": 59381628, \"life_expect\": 79.59, \"fertility\": 1.8833000000000002}, {\"year\": 2000, \"country\": \"Georgia\", \"cluster\": 1, \"pop\": 4777209, \"life_expect\": 70.476, \"fertility\": 1.478}, {\"year\": 2000, \"country\": \"Germany\", \"cluster\": 1, \"pop\": 82187909, \"life_expect\": 78.67, \"fertility\": 1.346}, {\"year\": 2000, \"country\": \"Greece\", \"cluster\": 1, \"pop\": 10559110, \"life_expect\": 78.256, \"fertility\": 1.2770000000000001}, {\"year\": 2000, \"country\": \"Grenada\", \"cluster\": 3, \"pop\": 89312, \"life_expect\": 67.746, \"fertility\": 2.429}, {\"year\": 2000, \"country\": \"Haiti\", \"cluster\": 3, \"pop\": 7306302, \"life_expect\": 58.137, \"fertility\": 4.0}, {\"year\": 2000, \"country\": \"Hong Kong\", \"cluster\": 4, \"pop\": 6658720, \"life_expect\": 81.495, \"fertility\": 0.9400000000000001}, {\"year\": 2000, \"country\": \"Iceland\", \"cluster\": 1, \"pop\": 281043, \"life_expect\": 80.5, \"fertility\": 1.9929999999999999}, {\"year\": 2000, \"country\": \"India\", \"cluster\": 0, \"pop\": 1007702000, \"life_expect\": 62.879, \"fertility\": 3.1132}, {\"year\": 2000, \"country\": \"Indonesia\", \"cluster\": 4, \"pop\": 206265000, \"life_expect\": 68.588, \"fertility\": 2.3761}, {\"year\": 2000, \"country\": \"Iran\", \"cluster\": 5, \"pop\": 65660289, \"life_expect\": 69.451, \"fertility\": 2.124}, {\"year\": 2000, \"country\": \"Iraq\", \"cluster\": 5, \"pop\": 22675617, \"life_expect\": 57.046, \"fertility\": 4.858}, {\"year\": 2000, \"country\": \"Ireland\", \"cluster\": 1, \"pop\": 3791690, \"life_expect\": 77.783, \"fertility\": 1.9689999999999999}, {\"year\": 2000, \"country\": \"Israel\", \"cluster\": 5, \"pop\": 5842454, \"life_expect\": 79.696, \"fertility\": 2.906}, {\"year\": 2000, \"country\": \"Italy\", \"cluster\": 1, \"pop\": 57719337, \"life_expect\": 80.24, \"fertility\": 1.286}, {\"year\": 2000, \"country\": \"Jamaica\", \"cluster\": 3, \"pop\": 2615467, \"life_expect\": 72.047, \"fertility\": 2.628}, {\"year\": 2000, \"country\": \"Japan\", \"cluster\": 4, \"pop\": 126699784, \"life_expect\": 82.0, \"fertility\": 1.291}, {\"year\": 2000, \"country\": \"Kenya\", \"cluster\": 2, \"pop\": 29985839, \"life_expect\": 50.992, \"fertility\": 5.0}, {\"year\": 2000, \"country\": \"South Korea\", \"cluster\": 4, \"pop\": 21647682, \"life_expect\": 66.662, \"fertility\": 1.9173}, {\"year\": 2000, \"country\": \"North Korea\", \"cluster\": 4, \"pop\": 47351083, \"life_expect\": 77.045, \"fertility\": 1.242}, {\"year\": 2000, \"country\": \"Lebanon\", \"cluster\": 5, \"pop\": 3578036, \"life_expect\": 71.028, \"fertility\": 2.319}, {\"year\": 2000, \"country\": \"Mexico\", \"cluster\": 3, \"pop\": 99926620, \"life_expect\": 74.902, \"fertility\": 2.4005}, {\"year\": 2000, \"country\": \"Netherlands\", \"cluster\": 1, \"pop\": 15907853, \"life_expect\": 78.53, \"fertility\": 1.726}, {\"year\": 2000, \"country\": \"New Zealand\", \"cluster\": 4, \"pop\": 3819762, \"life_expect\": 79.11, \"fertility\": 1.964}, {\"year\": 2000, \"country\": \"Nigeria\", \"cluster\": 2, \"pop\": 114306700, \"life_expect\": 46.608, \"fertility\": 5.845}, {\"year\": 2000, \"country\": \"Norway\", \"cluster\": 1, \"pop\": 4492400, \"life_expect\": 79.05, \"fertility\": 1.8010000000000002}, {\"year\": 2000, \"country\": \"Pakistan\", \"cluster\": 0, \"pop\": 146342958, \"life_expect\": 63.61, \"fertility\": 3.9936}, {\"year\": 2000, \"country\": \"Peru\", \"cluster\": 3, \"pop\": 25979722, \"life_expect\": 69.906, \"fertility\": 2.7005}, {\"year\": 2000, \"country\": \"Philippines\", \"cluster\": 4, \"pop\": 79739825, \"life_expect\": 70.303, \"fertility\": 3.5436}, {\"year\": 2000, \"country\": \"Poland\", \"cluster\": 1, \"pop\": 38654164, \"life_expect\": 74.67, \"fertility\": 1.251}, {\"year\": 2000, \"country\": \"Portugal\", \"cluster\": 1, \"pop\": 10335597, \"life_expect\": 77.29, \"fertility\": 1.454}, {\"year\": 2000, \"country\": \"Rwanda\", \"cluster\": 2, \"pop\": 7507056, \"life_expect\": 43.413, \"fertility\": 6.01}, {\"year\": 2000, \"country\": \"Saudi Arabia\", \"cluster\": 5, \"pop\": 23153090, \"life_expect\": 71.626, \"fertility\": 3.81}, {\"year\": 2000, \"country\": \"South Africa\", \"cluster\": 2, \"pop\": 44066197, \"life_expect\": 53.365, \"fertility\": 2.802}, {\"year\": 2000, \"country\": \"Spain\", \"cluster\": 1, \"pop\": 40016081, \"life_expect\": 79.78, \"fertility\": 1.287}, {\"year\": 2000, \"country\": \"Switzerland\", \"cluster\": 1, \"pop\": 7266920, \"life_expect\": 80.62, \"fertility\": 1.415}, {\"year\": 2000, \"country\": \"Turkey\", \"cluster\": 1, \"pop\": 65666677, \"life_expect\": 70.845, \"fertility\": 2.23}, {\"year\": 2000, \"country\": \"United Kingdom\", \"cluster\": 1, \"pop\": 59522468, \"life_expect\": 78.471, \"fertility\": 1.695}, {\"year\": 2000, \"country\": \"United States\", \"cluster\": 3, \"pop\": 282338631, \"life_expect\": 77.31, \"fertility\": 2.038}, {\"year\": 2000, \"country\": \"Venezuela\", \"cluster\": 3, \"pop\": 23542649, \"life_expect\": 72.766, \"fertility\": 2.723}]}}, {\"mode\": \"vega-lite\"});\n",
       "</script>"
      ],
      "text/plain": [
       "alt.Chart(...)"
      ]
     },
     "execution_count": 33,
     "metadata": {},
     "output_type": "execute_result"
    }
   ],
   "source": [
    "alt.Chart(data2000).mark_bar().encode(\n",
    "    alt.X('country:N', sort='-y',                       # y 값 내림차순 정렬\n",
    "          axis=alt.Axis(title='국가', labelAngle=30)),  # 한글 축 제목, 레이블 각도\n",
    "    alt.Y('pop:Q')\n",
    ")"
   ]
  },
  {
   "cell_type": "markdown",
   "metadata": {
    "slideshow": {
     "slide_type": "subslide"
    }
   },
   "source": [
    "- 수직 막대 차트를 수평 막대 차트로 변경하려면,  \n",
    "  x-축과 y-축에 대한 인코딩 필드를 맞바꾸어 준다. "
   ]
  },
  {
   "cell_type": "code",
   "execution_count": 34,
   "metadata": {
    "colab": {
     "base_uri": "https://localhost:8080/",
     "height": 445
    },
    "colab_type": "code",
    "id": "eFN9Kw85xFQK",
    "outputId": "8da431d3-9ba7-4ecf-de55-e478c4527a39",
    "scrolled": true,
    "slideshow": {
     "slide_type": "fragment"
    }
   },
   "outputs": [
    {
     "data": {
      "text/html": [
       "\n",
       "<div id=\"altair-viz-47bb16f723c14f74b26faacbff490c5c\"></div>\n",
       "<script type=\"text/javascript\">\n",
       "  (function(spec, embedOpt){\n",
       "    let outputDiv = document.currentScript.previousElementSibling;\n",
       "    if (outputDiv.id !== \"altair-viz-47bb16f723c14f74b26faacbff490c5c\") {\n",
       "      outputDiv = document.getElementById(\"altair-viz-47bb16f723c14f74b26faacbff490c5c\");\n",
       "    }\n",
       "    const paths = {\n",
       "      \"vega\": \"https://cdn.jsdelivr.net/npm//vega@5?noext\",\n",
       "      \"vega-lib\": \"https://cdn.jsdelivr.net/npm//vega-lib?noext\",\n",
       "      \"vega-lite\": \"https://cdn.jsdelivr.net/npm//vega-lite@4.8.1?noext\",\n",
       "      \"vega-embed\": \"https://cdn.jsdelivr.net/npm//vega-embed@6?noext\",\n",
       "    };\n",
       "\n",
       "    function loadScript(lib) {\n",
       "      return new Promise(function(resolve, reject) {\n",
       "        var s = document.createElement('script');\n",
       "        s.src = paths[lib];\n",
       "        s.async = true;\n",
       "        s.onload = () => resolve(paths[lib]);\n",
       "        s.onerror = () => reject(`Error loading script: ${paths[lib]}`);\n",
       "        document.getElementsByTagName(\"head\")[0].appendChild(s);\n",
       "      });\n",
       "    }\n",
       "\n",
       "    function showError(err) {\n",
       "      outputDiv.innerHTML = `<div class=\"error\" style=\"color:red;\">${err}</div>`;\n",
       "      throw err;\n",
       "    }\n",
       "\n",
       "    function displayChart(vegaEmbed) {\n",
       "      vegaEmbed(outputDiv, spec, embedOpt)\n",
       "        .catch(err => showError(`Javascript Error: ${err.message}<br>This usually means there's a typo in your chart specification. See the javascript console for the full traceback.`));\n",
       "    }\n",
       "\n",
       "    if(typeof define === \"function\" && define.amd) {\n",
       "      requirejs.config({paths});\n",
       "      require([\"vega-embed\"], displayChart, err => showError(`Error loading script: ${err.message}`));\n",
       "    } else if (typeof vegaEmbed === \"function\") {\n",
       "      displayChart(vegaEmbed);\n",
       "    } else {\n",
       "      loadScript(\"vega\")\n",
       "        .then(() => loadScript(\"vega-lite\"))\n",
       "        .then(() => loadScript(\"vega-embed\"))\n",
       "        .catch(showError)\n",
       "        .then(() => displayChart(vegaEmbed));\n",
       "    }\n",
       "  })({\"config\": {\"view\": {\"continuousWidth\": 400, \"continuousHeight\": 300}}, \"data\": {\"name\": \"data-fdeb0b749a6385830bd1445d39ad6ea0\"}, \"mark\": \"bar\", \"encoding\": {\"x\": {\"type\": \"quantitative\", \"field\": \"pop\"}, \"y\": {\"type\": \"nominal\", \"field\": \"country\", \"sort\": \"-x\"}}, \"$schema\": \"https://vega.github.io/schema/vega-lite/v4.8.1.json\", \"datasets\": {\"data-fdeb0b749a6385830bd1445d39ad6ea0\": [{\"year\": 2000, \"country\": \"Afghanistan\", \"cluster\": 0, \"pop\": 23898198, \"life_expect\": 42.129, \"fertility\": 7.4792}, {\"year\": 2000, \"country\": \"Argentina\", \"cluster\": 3, \"pop\": 37497728, \"life_expect\": 74.34, \"fertility\": 2.35}, {\"year\": 2000, \"country\": \"Aruba\", \"cluster\": 3, \"pop\": 69539, \"life_expect\": 73.451, \"fertility\": 2.124}, {\"year\": 2000, \"country\": \"Australia\", \"cluster\": 4, \"pop\": 19164620, \"life_expect\": 80.37, \"fertility\": 1.756}, {\"year\": 2000, \"country\": \"Austria\", \"cluster\": 1, \"pop\": 8113413, \"life_expect\": 78.98, \"fertility\": 1.3820000000000001}, {\"year\": 2000, \"country\": \"Bahamas\", \"cluster\": 3, \"pop\": 290075, \"life_expect\": 71.068, \"fertility\": 2.1111}, {\"year\": 2000, \"country\": \"Bangladesh\", \"cluster\": 0, \"pop\": 130406594, \"life_expect\": 62.013, \"fertility\": 3.224}, {\"year\": 2000, \"country\": \"Barbados\", \"cluster\": 3, \"pop\": 273483, \"life_expect\": 75.97, \"fertility\": 1.5}, {\"year\": 2000, \"country\": \"Belgium\", \"cluster\": 1, \"pop\": 10263618, \"life_expect\": 78.32, \"fertility\": 1.638}, {\"year\": 2000, \"country\": \"Bolivia\", \"cluster\": 3, \"pop\": 8152620, \"life_expect\": 63.883, \"fertility\": 3.9585}, {\"year\": 2000, \"country\": \"Brazil\", \"cluster\": 3, \"pop\": 175552771, \"life_expect\": 71.006, \"fertility\": 2.345}, {\"year\": 2000, \"country\": \"Canada\", \"cluster\": 3, \"pop\": 31278097, \"life_expect\": 79.77, \"fertility\": 1.522}, {\"year\": 2000, \"country\": \"Chile\", \"cluster\": 3, \"pop\": 15153450, \"life_expect\": 77.86, \"fertility\": 2.0}, {\"year\": 2000, \"country\": \"China\", \"cluster\": 4, \"pop\": 1262645000, \"life_expect\": 72.028, \"fertility\": 1.7000000000000002}, {\"year\": 2000, \"country\": \"Colombia\", \"cluster\": 3, \"pop\": 39685655, \"life_expect\": 71.682, \"fertility\": 2.4705}, {\"year\": 2000, \"country\": \"Costa Rica\", \"cluster\": 3, \"pop\": 3710558, \"life_expect\": 78.123, \"fertility\": 2.2815}, {\"year\": 2000, \"country\": \"Croatia\", \"cluster\": 1, \"pop\": 4410830, \"life_expect\": 74.876, \"fertility\": 1.348}, {\"year\": 2000, \"country\": \"Cuba\", \"cluster\": 3, \"pop\": 11134273, \"life_expect\": 77.158, \"fertility\": 1.63}, {\"year\": 2000, \"country\": \"Dominican Republic\", \"cluster\": 3, \"pop\": 8385828, \"life_expect\": 70.847, \"fertility\": 2.95}, {\"year\": 2000, \"country\": \"Ecuador\", \"cluster\": 3, \"pop\": 12505204, \"life_expect\": 74.173, \"fertility\": 2.8175}, {\"year\": 2000, \"country\": \"Egypt\", \"cluster\": 5, \"pop\": 70492342, \"life_expect\": 69.806, \"fertility\": 3.174}, {\"year\": 2000, \"country\": \"El Salvador\", \"cluster\": 3, \"pop\": 6122515, \"life_expect\": 70.734, \"fertility\": 2.883}, {\"year\": 2000, \"country\": \"Finland\", \"cluster\": 1, \"pop\": 5168595, \"life_expect\": 78.37, \"fertility\": 1.754}, {\"year\": 2000, \"country\": \"France\", \"cluster\": 1, \"pop\": 59381628, \"life_expect\": 79.59, \"fertility\": 1.8833000000000002}, {\"year\": 2000, \"country\": \"Georgia\", \"cluster\": 1, \"pop\": 4777209, \"life_expect\": 70.476, \"fertility\": 1.478}, {\"year\": 2000, \"country\": \"Germany\", \"cluster\": 1, \"pop\": 82187909, \"life_expect\": 78.67, \"fertility\": 1.346}, {\"year\": 2000, \"country\": \"Greece\", \"cluster\": 1, \"pop\": 10559110, \"life_expect\": 78.256, \"fertility\": 1.2770000000000001}, {\"year\": 2000, \"country\": \"Grenada\", \"cluster\": 3, \"pop\": 89312, \"life_expect\": 67.746, \"fertility\": 2.429}, {\"year\": 2000, \"country\": \"Haiti\", \"cluster\": 3, \"pop\": 7306302, \"life_expect\": 58.137, \"fertility\": 4.0}, {\"year\": 2000, \"country\": \"Hong Kong\", \"cluster\": 4, \"pop\": 6658720, \"life_expect\": 81.495, \"fertility\": 0.9400000000000001}, {\"year\": 2000, \"country\": \"Iceland\", \"cluster\": 1, \"pop\": 281043, \"life_expect\": 80.5, \"fertility\": 1.9929999999999999}, {\"year\": 2000, \"country\": \"India\", \"cluster\": 0, \"pop\": 1007702000, \"life_expect\": 62.879, \"fertility\": 3.1132}, {\"year\": 2000, \"country\": \"Indonesia\", \"cluster\": 4, \"pop\": 206265000, \"life_expect\": 68.588, \"fertility\": 2.3761}, {\"year\": 2000, \"country\": \"Iran\", \"cluster\": 5, \"pop\": 65660289, \"life_expect\": 69.451, \"fertility\": 2.124}, {\"year\": 2000, \"country\": \"Iraq\", \"cluster\": 5, \"pop\": 22675617, \"life_expect\": 57.046, \"fertility\": 4.858}, {\"year\": 2000, \"country\": \"Ireland\", \"cluster\": 1, \"pop\": 3791690, \"life_expect\": 77.783, \"fertility\": 1.9689999999999999}, {\"year\": 2000, \"country\": \"Israel\", \"cluster\": 5, \"pop\": 5842454, \"life_expect\": 79.696, \"fertility\": 2.906}, {\"year\": 2000, \"country\": \"Italy\", \"cluster\": 1, \"pop\": 57719337, \"life_expect\": 80.24, \"fertility\": 1.286}, {\"year\": 2000, \"country\": \"Jamaica\", \"cluster\": 3, \"pop\": 2615467, \"life_expect\": 72.047, \"fertility\": 2.628}, {\"year\": 2000, \"country\": \"Japan\", \"cluster\": 4, \"pop\": 126699784, \"life_expect\": 82.0, \"fertility\": 1.291}, {\"year\": 2000, \"country\": \"Kenya\", \"cluster\": 2, \"pop\": 29985839, \"life_expect\": 50.992, \"fertility\": 5.0}, {\"year\": 2000, \"country\": \"South Korea\", \"cluster\": 4, \"pop\": 21647682, \"life_expect\": 66.662, \"fertility\": 1.9173}, {\"year\": 2000, \"country\": \"North Korea\", \"cluster\": 4, \"pop\": 47351083, \"life_expect\": 77.045, \"fertility\": 1.242}, {\"year\": 2000, \"country\": \"Lebanon\", \"cluster\": 5, \"pop\": 3578036, \"life_expect\": 71.028, \"fertility\": 2.319}, {\"year\": 2000, \"country\": \"Mexico\", \"cluster\": 3, \"pop\": 99926620, \"life_expect\": 74.902, \"fertility\": 2.4005}, {\"year\": 2000, \"country\": \"Netherlands\", \"cluster\": 1, \"pop\": 15907853, \"life_expect\": 78.53, \"fertility\": 1.726}, {\"year\": 2000, \"country\": \"New Zealand\", \"cluster\": 4, \"pop\": 3819762, \"life_expect\": 79.11, \"fertility\": 1.964}, {\"year\": 2000, \"country\": \"Nigeria\", \"cluster\": 2, \"pop\": 114306700, \"life_expect\": 46.608, \"fertility\": 5.845}, {\"year\": 2000, \"country\": \"Norway\", \"cluster\": 1, \"pop\": 4492400, \"life_expect\": 79.05, \"fertility\": 1.8010000000000002}, {\"year\": 2000, \"country\": \"Pakistan\", \"cluster\": 0, \"pop\": 146342958, \"life_expect\": 63.61, \"fertility\": 3.9936}, {\"year\": 2000, \"country\": \"Peru\", \"cluster\": 3, \"pop\": 25979722, \"life_expect\": 69.906, \"fertility\": 2.7005}, {\"year\": 2000, \"country\": \"Philippines\", \"cluster\": 4, \"pop\": 79739825, \"life_expect\": 70.303, \"fertility\": 3.5436}, {\"year\": 2000, \"country\": \"Poland\", \"cluster\": 1, \"pop\": 38654164, \"life_expect\": 74.67, \"fertility\": 1.251}, {\"year\": 2000, \"country\": \"Portugal\", \"cluster\": 1, \"pop\": 10335597, \"life_expect\": 77.29, \"fertility\": 1.454}, {\"year\": 2000, \"country\": \"Rwanda\", \"cluster\": 2, \"pop\": 7507056, \"life_expect\": 43.413, \"fertility\": 6.01}, {\"year\": 2000, \"country\": \"Saudi Arabia\", \"cluster\": 5, \"pop\": 23153090, \"life_expect\": 71.626, \"fertility\": 3.81}, {\"year\": 2000, \"country\": \"South Africa\", \"cluster\": 2, \"pop\": 44066197, \"life_expect\": 53.365, \"fertility\": 2.802}, {\"year\": 2000, \"country\": \"Spain\", \"cluster\": 1, \"pop\": 40016081, \"life_expect\": 79.78, \"fertility\": 1.287}, {\"year\": 2000, \"country\": \"Switzerland\", \"cluster\": 1, \"pop\": 7266920, \"life_expect\": 80.62, \"fertility\": 1.415}, {\"year\": 2000, \"country\": \"Turkey\", \"cluster\": 1, \"pop\": 65666677, \"life_expect\": 70.845, \"fertility\": 2.23}, {\"year\": 2000, \"country\": \"United Kingdom\", \"cluster\": 1, \"pop\": 59522468, \"life_expect\": 78.471, \"fertility\": 1.695}, {\"year\": 2000, \"country\": \"United States\", \"cluster\": 3, \"pop\": 282338631, \"life_expect\": 77.31, \"fertility\": 2.038}, {\"year\": 2000, \"country\": \"Venezuela\", \"cluster\": 3, \"pop\": 23542649, \"life_expect\": 72.766, \"fertility\": 2.723}]}}, {\"mode\": \"vega-lite\"});\n",
       "</script>"
      ],
      "text/plain": [
       "alt.Chart(...)"
      ]
     },
     "execution_count": 34,
     "metadata": {},
     "output_type": "execute_result"
    }
   ],
   "source": [
    "alt.Chart(data2000).mark_bar().encode(\n",
    "    alt.Y('country:N', sort='-x'),      # x 값 내림차순 정렬 \n",
    "    alt.X('pop:Q')\n",
    ")"
   ]
  },
  {
   "cell_type": "markdown",
   "metadata": {
    "colab_type": "text",
    "id": "rHX8bKgbzW3I",
    "slideshow": {
     "slide_type": "subslide"
    }
   },
   "source": [
    "- 막대 폭은 기본값으로 자동 설정된다.  \n",
    "  이를 변경하려면, `Chart` 객체의 `properties()` 메소드에서 `width=alt.Step()` 옵션을 설정한다.   \n",
    "  축, 스케일 및 범례에 대한 설정에 대해서는 나중에 자세히 공부할 예정이다. \n",
    "- 막대를 적층식으로 쌓아서 시각화 할 수 있다.  \n",
    "  `x` 인코딩을 지역 `cluster` 필드로 수정하고, 국가 `country` 필드를 `color` 채널로 인코딩하여 보자.  \n",
    "  또한 국가에 대한 범례는 생략하도록 지정하고, 국가 이름을 툴팁으로 처리하자. "
   ]
  },
  {
   "cell_type": "code",
   "execution_count": 35,
   "metadata": {
    "colab": {
     "base_uri": "https://localhost:8080/",
     "height": 368
    },
    "colab_type": "code",
    "id": "x9maAWhOxsrq",
    "outputId": "7960be03-eefd-4c3f-a114-8405395c772c",
    "scrolled": true,
    "slideshow": {
     "slide_type": "subslide"
    }
   },
   "outputs": [
    {
     "data": {
      "text/html": [
       "\n",
       "<div id=\"altair-viz-8a257ef243ee489f902e1dde17841b39\"></div>\n",
       "<script type=\"text/javascript\">\n",
       "  (function(spec, embedOpt){\n",
       "    let outputDiv = document.currentScript.previousElementSibling;\n",
       "    if (outputDiv.id !== \"altair-viz-8a257ef243ee489f902e1dde17841b39\") {\n",
       "      outputDiv = document.getElementById(\"altair-viz-8a257ef243ee489f902e1dde17841b39\");\n",
       "    }\n",
       "    const paths = {\n",
       "      \"vega\": \"https://cdn.jsdelivr.net/npm//vega@5?noext\",\n",
       "      \"vega-lib\": \"https://cdn.jsdelivr.net/npm//vega-lib?noext\",\n",
       "      \"vega-lite\": \"https://cdn.jsdelivr.net/npm//vega-lite@4.8.1?noext\",\n",
       "      \"vega-embed\": \"https://cdn.jsdelivr.net/npm//vega-embed@6?noext\",\n",
       "    };\n",
       "\n",
       "    function loadScript(lib) {\n",
       "      return new Promise(function(resolve, reject) {\n",
       "        var s = document.createElement('script');\n",
       "        s.src = paths[lib];\n",
       "        s.async = true;\n",
       "        s.onload = () => resolve(paths[lib]);\n",
       "        s.onerror = () => reject(`Error loading script: ${paths[lib]}`);\n",
       "        document.getElementsByTagName(\"head\")[0].appendChild(s);\n",
       "      });\n",
       "    }\n",
       "\n",
       "    function showError(err) {\n",
       "      outputDiv.innerHTML = `<div class=\"error\" style=\"color:red;\">${err}</div>`;\n",
       "      throw err;\n",
       "    }\n",
       "\n",
       "    function displayChart(vegaEmbed) {\n",
       "      vegaEmbed(outputDiv, spec, embedOpt)\n",
       "        .catch(err => showError(`Javascript Error: ${err.message}<br>This usually means there's a typo in your chart specification. See the javascript console for the full traceback.`));\n",
       "    }\n",
       "\n",
       "    if(typeof define === \"function\" && define.amd) {\n",
       "      requirejs.config({paths});\n",
       "      require([\"vega-embed\"], displayChart, err => showError(`Error loading script: ${err.message}`));\n",
       "    } else if (typeof vegaEmbed === \"function\") {\n",
       "      displayChart(vegaEmbed);\n",
       "    } else {\n",
       "      loadScript(\"vega\")\n",
       "        .then(() => loadScript(\"vega-lite\"))\n",
       "        .then(() => loadScript(\"vega-embed\"))\n",
       "        .catch(showError)\n",
       "        .then(() => displayChart(vegaEmbed));\n",
       "    }\n",
       "  })({\"config\": {\"view\": {\"continuousWidth\": 400, \"continuousHeight\": 300}}, \"data\": {\"name\": \"data-fdeb0b749a6385830bd1445d39ad6ea0\"}, \"mark\": \"bar\", \"encoding\": {\"color\": {\"type\": \"nominal\", \"field\": \"country\", \"legend\": null}, \"order\": {\"type\": \"quantitative\", \"field\": \"pop\", \"sort\": \"descending\"}, \"tooltip\": {\"type\": \"nominal\", \"field\": \"country\"}, \"x\": {\"type\": \"nominal\", \"field\": \"cluster\"}, \"y\": {\"type\": \"quantitative\", \"field\": \"pop\"}}, \"width\": {\"step\": 50}, \"$schema\": \"https://vega.github.io/schema/vega-lite/v4.8.1.json\", \"datasets\": {\"data-fdeb0b749a6385830bd1445d39ad6ea0\": [{\"year\": 2000, \"country\": \"Afghanistan\", \"cluster\": 0, \"pop\": 23898198, \"life_expect\": 42.129, \"fertility\": 7.4792}, {\"year\": 2000, \"country\": \"Argentina\", \"cluster\": 3, \"pop\": 37497728, \"life_expect\": 74.34, \"fertility\": 2.35}, {\"year\": 2000, \"country\": \"Aruba\", \"cluster\": 3, \"pop\": 69539, \"life_expect\": 73.451, \"fertility\": 2.124}, {\"year\": 2000, \"country\": \"Australia\", \"cluster\": 4, \"pop\": 19164620, \"life_expect\": 80.37, \"fertility\": 1.756}, {\"year\": 2000, \"country\": \"Austria\", \"cluster\": 1, \"pop\": 8113413, \"life_expect\": 78.98, \"fertility\": 1.3820000000000001}, {\"year\": 2000, \"country\": \"Bahamas\", \"cluster\": 3, \"pop\": 290075, \"life_expect\": 71.068, \"fertility\": 2.1111}, {\"year\": 2000, \"country\": \"Bangladesh\", \"cluster\": 0, \"pop\": 130406594, \"life_expect\": 62.013, \"fertility\": 3.224}, {\"year\": 2000, \"country\": \"Barbados\", \"cluster\": 3, \"pop\": 273483, \"life_expect\": 75.97, \"fertility\": 1.5}, {\"year\": 2000, \"country\": \"Belgium\", \"cluster\": 1, \"pop\": 10263618, \"life_expect\": 78.32, \"fertility\": 1.638}, {\"year\": 2000, \"country\": \"Bolivia\", \"cluster\": 3, \"pop\": 8152620, \"life_expect\": 63.883, \"fertility\": 3.9585}, {\"year\": 2000, \"country\": \"Brazil\", \"cluster\": 3, \"pop\": 175552771, \"life_expect\": 71.006, \"fertility\": 2.345}, {\"year\": 2000, \"country\": \"Canada\", \"cluster\": 3, \"pop\": 31278097, \"life_expect\": 79.77, \"fertility\": 1.522}, {\"year\": 2000, \"country\": \"Chile\", \"cluster\": 3, \"pop\": 15153450, \"life_expect\": 77.86, \"fertility\": 2.0}, {\"year\": 2000, \"country\": \"China\", \"cluster\": 4, \"pop\": 1262645000, \"life_expect\": 72.028, \"fertility\": 1.7000000000000002}, {\"year\": 2000, \"country\": \"Colombia\", \"cluster\": 3, \"pop\": 39685655, \"life_expect\": 71.682, \"fertility\": 2.4705}, {\"year\": 2000, \"country\": \"Costa Rica\", \"cluster\": 3, \"pop\": 3710558, \"life_expect\": 78.123, \"fertility\": 2.2815}, {\"year\": 2000, \"country\": \"Croatia\", \"cluster\": 1, \"pop\": 4410830, \"life_expect\": 74.876, \"fertility\": 1.348}, {\"year\": 2000, \"country\": \"Cuba\", \"cluster\": 3, \"pop\": 11134273, \"life_expect\": 77.158, \"fertility\": 1.63}, {\"year\": 2000, \"country\": \"Dominican Republic\", \"cluster\": 3, \"pop\": 8385828, \"life_expect\": 70.847, \"fertility\": 2.95}, {\"year\": 2000, \"country\": \"Ecuador\", \"cluster\": 3, \"pop\": 12505204, \"life_expect\": 74.173, \"fertility\": 2.8175}, {\"year\": 2000, \"country\": \"Egypt\", \"cluster\": 5, \"pop\": 70492342, \"life_expect\": 69.806, \"fertility\": 3.174}, {\"year\": 2000, \"country\": \"El Salvador\", \"cluster\": 3, \"pop\": 6122515, \"life_expect\": 70.734, \"fertility\": 2.883}, {\"year\": 2000, \"country\": \"Finland\", \"cluster\": 1, \"pop\": 5168595, \"life_expect\": 78.37, \"fertility\": 1.754}, {\"year\": 2000, \"country\": \"France\", \"cluster\": 1, \"pop\": 59381628, \"life_expect\": 79.59, \"fertility\": 1.8833000000000002}, {\"year\": 2000, \"country\": \"Georgia\", \"cluster\": 1, \"pop\": 4777209, \"life_expect\": 70.476, \"fertility\": 1.478}, {\"year\": 2000, \"country\": \"Germany\", \"cluster\": 1, \"pop\": 82187909, \"life_expect\": 78.67, \"fertility\": 1.346}, {\"year\": 2000, \"country\": \"Greece\", \"cluster\": 1, \"pop\": 10559110, \"life_expect\": 78.256, \"fertility\": 1.2770000000000001}, {\"year\": 2000, \"country\": \"Grenada\", \"cluster\": 3, \"pop\": 89312, \"life_expect\": 67.746, \"fertility\": 2.429}, {\"year\": 2000, \"country\": \"Haiti\", \"cluster\": 3, \"pop\": 7306302, \"life_expect\": 58.137, \"fertility\": 4.0}, {\"year\": 2000, \"country\": \"Hong Kong\", \"cluster\": 4, \"pop\": 6658720, \"life_expect\": 81.495, \"fertility\": 0.9400000000000001}, {\"year\": 2000, \"country\": \"Iceland\", \"cluster\": 1, \"pop\": 281043, \"life_expect\": 80.5, \"fertility\": 1.9929999999999999}, {\"year\": 2000, \"country\": \"India\", \"cluster\": 0, \"pop\": 1007702000, \"life_expect\": 62.879, \"fertility\": 3.1132}, {\"year\": 2000, \"country\": \"Indonesia\", \"cluster\": 4, \"pop\": 206265000, \"life_expect\": 68.588, \"fertility\": 2.3761}, {\"year\": 2000, \"country\": \"Iran\", \"cluster\": 5, \"pop\": 65660289, \"life_expect\": 69.451, \"fertility\": 2.124}, {\"year\": 2000, \"country\": \"Iraq\", \"cluster\": 5, \"pop\": 22675617, \"life_expect\": 57.046, \"fertility\": 4.858}, {\"year\": 2000, \"country\": \"Ireland\", \"cluster\": 1, \"pop\": 3791690, \"life_expect\": 77.783, \"fertility\": 1.9689999999999999}, {\"year\": 2000, \"country\": \"Israel\", \"cluster\": 5, \"pop\": 5842454, \"life_expect\": 79.696, \"fertility\": 2.906}, {\"year\": 2000, \"country\": \"Italy\", \"cluster\": 1, \"pop\": 57719337, \"life_expect\": 80.24, \"fertility\": 1.286}, {\"year\": 2000, \"country\": \"Jamaica\", \"cluster\": 3, \"pop\": 2615467, \"life_expect\": 72.047, \"fertility\": 2.628}, {\"year\": 2000, \"country\": \"Japan\", \"cluster\": 4, \"pop\": 126699784, \"life_expect\": 82.0, \"fertility\": 1.291}, {\"year\": 2000, \"country\": \"Kenya\", \"cluster\": 2, \"pop\": 29985839, \"life_expect\": 50.992, \"fertility\": 5.0}, {\"year\": 2000, \"country\": \"South Korea\", \"cluster\": 4, \"pop\": 21647682, \"life_expect\": 66.662, \"fertility\": 1.9173}, {\"year\": 2000, \"country\": \"North Korea\", \"cluster\": 4, \"pop\": 47351083, \"life_expect\": 77.045, \"fertility\": 1.242}, {\"year\": 2000, \"country\": \"Lebanon\", \"cluster\": 5, \"pop\": 3578036, \"life_expect\": 71.028, \"fertility\": 2.319}, {\"year\": 2000, \"country\": \"Mexico\", \"cluster\": 3, \"pop\": 99926620, \"life_expect\": 74.902, \"fertility\": 2.4005}, {\"year\": 2000, \"country\": \"Netherlands\", \"cluster\": 1, \"pop\": 15907853, \"life_expect\": 78.53, \"fertility\": 1.726}, {\"year\": 2000, \"country\": \"New Zealand\", \"cluster\": 4, \"pop\": 3819762, \"life_expect\": 79.11, \"fertility\": 1.964}, {\"year\": 2000, \"country\": \"Nigeria\", \"cluster\": 2, \"pop\": 114306700, \"life_expect\": 46.608, \"fertility\": 5.845}, {\"year\": 2000, \"country\": \"Norway\", \"cluster\": 1, \"pop\": 4492400, \"life_expect\": 79.05, \"fertility\": 1.8010000000000002}, {\"year\": 2000, \"country\": \"Pakistan\", \"cluster\": 0, \"pop\": 146342958, \"life_expect\": 63.61, \"fertility\": 3.9936}, {\"year\": 2000, \"country\": \"Peru\", \"cluster\": 3, \"pop\": 25979722, \"life_expect\": 69.906, \"fertility\": 2.7005}, {\"year\": 2000, \"country\": \"Philippines\", \"cluster\": 4, \"pop\": 79739825, \"life_expect\": 70.303, \"fertility\": 3.5436}, {\"year\": 2000, \"country\": \"Poland\", \"cluster\": 1, \"pop\": 38654164, \"life_expect\": 74.67, \"fertility\": 1.251}, {\"year\": 2000, \"country\": \"Portugal\", \"cluster\": 1, \"pop\": 10335597, \"life_expect\": 77.29, \"fertility\": 1.454}, {\"year\": 2000, \"country\": \"Rwanda\", \"cluster\": 2, \"pop\": 7507056, \"life_expect\": 43.413, \"fertility\": 6.01}, {\"year\": 2000, \"country\": \"Saudi Arabia\", \"cluster\": 5, \"pop\": 23153090, \"life_expect\": 71.626, \"fertility\": 3.81}, {\"year\": 2000, \"country\": \"South Africa\", \"cluster\": 2, \"pop\": 44066197, \"life_expect\": 53.365, \"fertility\": 2.802}, {\"year\": 2000, \"country\": \"Spain\", \"cluster\": 1, \"pop\": 40016081, \"life_expect\": 79.78, \"fertility\": 1.287}, {\"year\": 2000, \"country\": \"Switzerland\", \"cluster\": 1, \"pop\": 7266920, \"life_expect\": 80.62, \"fertility\": 1.415}, {\"year\": 2000, \"country\": \"Turkey\", \"cluster\": 1, \"pop\": 65666677, \"life_expect\": 70.845, \"fertility\": 2.23}, {\"year\": 2000, \"country\": \"United Kingdom\", \"cluster\": 1, \"pop\": 59522468, \"life_expect\": 78.471, \"fertility\": 1.695}, {\"year\": 2000, \"country\": \"United States\", \"cluster\": 3, \"pop\": 282338631, \"life_expect\": 77.31, \"fertility\": 2.038}, {\"year\": 2000, \"country\": \"Venezuela\", \"cluster\": 3, \"pop\": 23542649, \"life_expect\": 72.766, \"fertility\": 2.723}]}}, {\"mode\": \"vega-lite\"});\n",
       "</script>"
      ],
      "text/plain": [
       "alt.Chart(...)"
      ]
     },
     "execution_count": 35,
     "metadata": {},
     "output_type": "execute_result"
    }
   ],
   "source": [
    "alt.Chart(data2000).mark_bar().encode(\n",
    "    alt.X('cluster:N'),         \n",
    "    alt.Y('pop:Q'),\n",
    "    alt.Color('country:N', legend=None),   # 단위 막대를 국가별 색상으로 구분하면, 자동적으로 적층식이 적용됨 \n",
    "    alt.Tooltip('country:N'), \n",
    "    alt.Order('pop:Q', sort='descending')  # 단위 막대의 정렬\n",
    ").properties(width=alt.Step(50))           # 막대 두께"
   ]
  },
  {
   "cell_type": "markdown",
   "metadata": {
    "colab_type": "text",
    "id": "de4181jhzgUx",
    "slideshow": {
     "slide_type": "subslide"
    }
   },
   "source": [
    "- 위 코드에서, `color` 채널이 알테어/베가-라이트로 하여금 막대 마크를 적층식으로 만들어 준다. \n",
    "- 만일 `y` 인코딩 채널에 `stack=None` 옵션을 추가 지정하면,   \n",
    "    적층식을 거부하게 되기는 하지만, 모든 국가별 막대가 같은 위치에서 겹쳐서 그려진다.\n",
    "  - 이때 `order` 인코딩 채널에서 인구의 오름차순으로 정렬하면,  \n",
    "    작은 막대는 큰 막대에 가려서 보이지 않게 된다.   \n",
    "  - `order` 인코딩 채널에서 인구의 내림차순으로 정렬해야, 작은 막대도 보이게 된다. \n",
    "  - 작은 막대는 뒤에 그려진 큰 막대를 부분적으로 가리게 되어, 착각을 유도할 수도 있다. "
   ]
  },
  {
   "cell_type": "code",
   "execution_count": 36,
   "metadata": {
    "colab": {
     "base_uri": "https://localhost:8080/",
     "height": 368
    },
    "colab_type": "code",
    "id": "x9maAWhOxsrq",
    "outputId": "7960be03-eefd-4c3f-a114-8405395c772c",
    "scrolled": true,
    "slideshow": {
     "slide_type": "fragment"
    }
   },
   "outputs": [
    {
     "data": {
      "text/html": [
       "\n",
       "<div id=\"altair-viz-1bf27629939d45a59423055b3a198938\"></div>\n",
       "<script type=\"text/javascript\">\n",
       "  (function(spec, embedOpt){\n",
       "    let outputDiv = document.currentScript.previousElementSibling;\n",
       "    if (outputDiv.id !== \"altair-viz-1bf27629939d45a59423055b3a198938\") {\n",
       "      outputDiv = document.getElementById(\"altair-viz-1bf27629939d45a59423055b3a198938\");\n",
       "    }\n",
       "    const paths = {\n",
       "      \"vega\": \"https://cdn.jsdelivr.net/npm//vega@5?noext\",\n",
       "      \"vega-lib\": \"https://cdn.jsdelivr.net/npm//vega-lib?noext\",\n",
       "      \"vega-lite\": \"https://cdn.jsdelivr.net/npm//vega-lite@4.8.1?noext\",\n",
       "      \"vega-embed\": \"https://cdn.jsdelivr.net/npm//vega-embed@6?noext\",\n",
       "    };\n",
       "\n",
       "    function loadScript(lib) {\n",
       "      return new Promise(function(resolve, reject) {\n",
       "        var s = document.createElement('script');\n",
       "        s.src = paths[lib];\n",
       "        s.async = true;\n",
       "        s.onload = () => resolve(paths[lib]);\n",
       "        s.onerror = () => reject(`Error loading script: ${paths[lib]}`);\n",
       "        document.getElementsByTagName(\"head\")[0].appendChild(s);\n",
       "      });\n",
       "    }\n",
       "\n",
       "    function showError(err) {\n",
       "      outputDiv.innerHTML = `<div class=\"error\" style=\"color:red;\">${err}</div>`;\n",
       "      throw err;\n",
       "    }\n",
       "\n",
       "    function displayChart(vegaEmbed) {\n",
       "      vegaEmbed(outputDiv, spec, embedOpt)\n",
       "        .catch(err => showError(`Javascript Error: ${err.message}<br>This usually means there's a typo in your chart specification. See the javascript console for the full traceback.`));\n",
       "    }\n",
       "\n",
       "    if(typeof define === \"function\" && define.amd) {\n",
       "      requirejs.config({paths});\n",
       "      require([\"vega-embed\"], displayChart, err => showError(`Error loading script: ${err.message}`));\n",
       "    } else if (typeof vegaEmbed === \"function\") {\n",
       "      displayChart(vegaEmbed);\n",
       "    } else {\n",
       "      loadScript(\"vega\")\n",
       "        .then(() => loadScript(\"vega-lite\"))\n",
       "        .then(() => loadScript(\"vega-embed\"))\n",
       "        .catch(showError)\n",
       "        .then(() => displayChart(vegaEmbed));\n",
       "    }\n",
       "  })({\"config\": {\"view\": {\"continuousWidth\": 400, \"continuousHeight\": 300}}, \"data\": {\"name\": \"data-fdeb0b749a6385830bd1445d39ad6ea0\"}, \"mark\": \"bar\", \"encoding\": {\"color\": {\"type\": \"nominal\", \"field\": \"country\", \"legend\": null}, \"order\": {\"type\": \"quantitative\", \"field\": \"pop\", \"sort\": \"descending\"}, \"tooltip\": {\"type\": \"nominal\", \"field\": \"country\"}, \"x\": {\"type\": \"nominal\", \"field\": \"cluster\"}, \"y\": {\"type\": \"quantitative\", \"field\": \"pop\", \"stack\": null}}, \"width\": {\"step\": 40}, \"$schema\": \"https://vega.github.io/schema/vega-lite/v4.8.1.json\", \"datasets\": {\"data-fdeb0b749a6385830bd1445d39ad6ea0\": [{\"year\": 2000, \"country\": \"Afghanistan\", \"cluster\": 0, \"pop\": 23898198, \"life_expect\": 42.129, \"fertility\": 7.4792}, {\"year\": 2000, \"country\": \"Argentina\", \"cluster\": 3, \"pop\": 37497728, \"life_expect\": 74.34, \"fertility\": 2.35}, {\"year\": 2000, \"country\": \"Aruba\", \"cluster\": 3, \"pop\": 69539, \"life_expect\": 73.451, \"fertility\": 2.124}, {\"year\": 2000, \"country\": \"Australia\", \"cluster\": 4, \"pop\": 19164620, \"life_expect\": 80.37, \"fertility\": 1.756}, {\"year\": 2000, \"country\": \"Austria\", \"cluster\": 1, \"pop\": 8113413, \"life_expect\": 78.98, \"fertility\": 1.3820000000000001}, {\"year\": 2000, \"country\": \"Bahamas\", \"cluster\": 3, \"pop\": 290075, \"life_expect\": 71.068, \"fertility\": 2.1111}, {\"year\": 2000, \"country\": \"Bangladesh\", \"cluster\": 0, \"pop\": 130406594, \"life_expect\": 62.013, \"fertility\": 3.224}, {\"year\": 2000, \"country\": \"Barbados\", \"cluster\": 3, \"pop\": 273483, \"life_expect\": 75.97, \"fertility\": 1.5}, {\"year\": 2000, \"country\": \"Belgium\", \"cluster\": 1, \"pop\": 10263618, \"life_expect\": 78.32, \"fertility\": 1.638}, {\"year\": 2000, \"country\": \"Bolivia\", \"cluster\": 3, \"pop\": 8152620, \"life_expect\": 63.883, \"fertility\": 3.9585}, {\"year\": 2000, \"country\": \"Brazil\", \"cluster\": 3, \"pop\": 175552771, \"life_expect\": 71.006, \"fertility\": 2.345}, {\"year\": 2000, \"country\": \"Canada\", \"cluster\": 3, \"pop\": 31278097, \"life_expect\": 79.77, \"fertility\": 1.522}, {\"year\": 2000, \"country\": \"Chile\", \"cluster\": 3, \"pop\": 15153450, \"life_expect\": 77.86, \"fertility\": 2.0}, {\"year\": 2000, \"country\": \"China\", \"cluster\": 4, \"pop\": 1262645000, \"life_expect\": 72.028, \"fertility\": 1.7000000000000002}, {\"year\": 2000, \"country\": \"Colombia\", \"cluster\": 3, \"pop\": 39685655, \"life_expect\": 71.682, \"fertility\": 2.4705}, {\"year\": 2000, \"country\": \"Costa Rica\", \"cluster\": 3, \"pop\": 3710558, \"life_expect\": 78.123, \"fertility\": 2.2815}, {\"year\": 2000, \"country\": \"Croatia\", \"cluster\": 1, \"pop\": 4410830, \"life_expect\": 74.876, \"fertility\": 1.348}, {\"year\": 2000, \"country\": \"Cuba\", \"cluster\": 3, \"pop\": 11134273, \"life_expect\": 77.158, \"fertility\": 1.63}, {\"year\": 2000, \"country\": \"Dominican Republic\", \"cluster\": 3, \"pop\": 8385828, \"life_expect\": 70.847, \"fertility\": 2.95}, {\"year\": 2000, \"country\": \"Ecuador\", \"cluster\": 3, \"pop\": 12505204, \"life_expect\": 74.173, \"fertility\": 2.8175}, {\"year\": 2000, \"country\": \"Egypt\", \"cluster\": 5, \"pop\": 70492342, \"life_expect\": 69.806, \"fertility\": 3.174}, {\"year\": 2000, \"country\": \"El Salvador\", \"cluster\": 3, \"pop\": 6122515, \"life_expect\": 70.734, \"fertility\": 2.883}, {\"year\": 2000, \"country\": \"Finland\", \"cluster\": 1, \"pop\": 5168595, \"life_expect\": 78.37, \"fertility\": 1.754}, {\"year\": 2000, \"country\": \"France\", \"cluster\": 1, \"pop\": 59381628, \"life_expect\": 79.59, \"fertility\": 1.8833000000000002}, {\"year\": 2000, \"country\": \"Georgia\", \"cluster\": 1, \"pop\": 4777209, \"life_expect\": 70.476, \"fertility\": 1.478}, {\"year\": 2000, \"country\": \"Germany\", \"cluster\": 1, \"pop\": 82187909, \"life_expect\": 78.67, \"fertility\": 1.346}, {\"year\": 2000, \"country\": \"Greece\", \"cluster\": 1, \"pop\": 10559110, \"life_expect\": 78.256, \"fertility\": 1.2770000000000001}, {\"year\": 2000, \"country\": \"Grenada\", \"cluster\": 3, \"pop\": 89312, \"life_expect\": 67.746, \"fertility\": 2.429}, {\"year\": 2000, \"country\": \"Haiti\", \"cluster\": 3, \"pop\": 7306302, \"life_expect\": 58.137, \"fertility\": 4.0}, {\"year\": 2000, \"country\": \"Hong Kong\", \"cluster\": 4, \"pop\": 6658720, \"life_expect\": 81.495, \"fertility\": 0.9400000000000001}, {\"year\": 2000, \"country\": \"Iceland\", \"cluster\": 1, \"pop\": 281043, \"life_expect\": 80.5, \"fertility\": 1.9929999999999999}, {\"year\": 2000, \"country\": \"India\", \"cluster\": 0, \"pop\": 1007702000, \"life_expect\": 62.879, \"fertility\": 3.1132}, {\"year\": 2000, \"country\": \"Indonesia\", \"cluster\": 4, \"pop\": 206265000, \"life_expect\": 68.588, \"fertility\": 2.3761}, {\"year\": 2000, \"country\": \"Iran\", \"cluster\": 5, \"pop\": 65660289, \"life_expect\": 69.451, \"fertility\": 2.124}, {\"year\": 2000, \"country\": \"Iraq\", \"cluster\": 5, \"pop\": 22675617, \"life_expect\": 57.046, \"fertility\": 4.858}, {\"year\": 2000, \"country\": \"Ireland\", \"cluster\": 1, \"pop\": 3791690, \"life_expect\": 77.783, \"fertility\": 1.9689999999999999}, {\"year\": 2000, \"country\": \"Israel\", \"cluster\": 5, \"pop\": 5842454, \"life_expect\": 79.696, \"fertility\": 2.906}, {\"year\": 2000, \"country\": \"Italy\", \"cluster\": 1, \"pop\": 57719337, \"life_expect\": 80.24, \"fertility\": 1.286}, {\"year\": 2000, \"country\": \"Jamaica\", \"cluster\": 3, \"pop\": 2615467, \"life_expect\": 72.047, \"fertility\": 2.628}, {\"year\": 2000, \"country\": \"Japan\", \"cluster\": 4, \"pop\": 126699784, \"life_expect\": 82.0, \"fertility\": 1.291}, {\"year\": 2000, \"country\": \"Kenya\", \"cluster\": 2, \"pop\": 29985839, \"life_expect\": 50.992, \"fertility\": 5.0}, {\"year\": 2000, \"country\": \"South Korea\", \"cluster\": 4, \"pop\": 21647682, \"life_expect\": 66.662, \"fertility\": 1.9173}, {\"year\": 2000, \"country\": \"North Korea\", \"cluster\": 4, \"pop\": 47351083, \"life_expect\": 77.045, \"fertility\": 1.242}, {\"year\": 2000, \"country\": \"Lebanon\", \"cluster\": 5, \"pop\": 3578036, \"life_expect\": 71.028, \"fertility\": 2.319}, {\"year\": 2000, \"country\": \"Mexico\", \"cluster\": 3, \"pop\": 99926620, \"life_expect\": 74.902, \"fertility\": 2.4005}, {\"year\": 2000, \"country\": \"Netherlands\", \"cluster\": 1, \"pop\": 15907853, \"life_expect\": 78.53, \"fertility\": 1.726}, {\"year\": 2000, \"country\": \"New Zealand\", \"cluster\": 4, \"pop\": 3819762, \"life_expect\": 79.11, \"fertility\": 1.964}, {\"year\": 2000, \"country\": \"Nigeria\", \"cluster\": 2, \"pop\": 114306700, \"life_expect\": 46.608, \"fertility\": 5.845}, {\"year\": 2000, \"country\": \"Norway\", \"cluster\": 1, \"pop\": 4492400, \"life_expect\": 79.05, \"fertility\": 1.8010000000000002}, {\"year\": 2000, \"country\": \"Pakistan\", \"cluster\": 0, \"pop\": 146342958, \"life_expect\": 63.61, \"fertility\": 3.9936}, {\"year\": 2000, \"country\": \"Peru\", \"cluster\": 3, \"pop\": 25979722, \"life_expect\": 69.906, \"fertility\": 2.7005}, {\"year\": 2000, \"country\": \"Philippines\", \"cluster\": 4, \"pop\": 79739825, \"life_expect\": 70.303, \"fertility\": 3.5436}, {\"year\": 2000, \"country\": \"Poland\", \"cluster\": 1, \"pop\": 38654164, \"life_expect\": 74.67, \"fertility\": 1.251}, {\"year\": 2000, \"country\": \"Portugal\", \"cluster\": 1, \"pop\": 10335597, \"life_expect\": 77.29, \"fertility\": 1.454}, {\"year\": 2000, \"country\": \"Rwanda\", \"cluster\": 2, \"pop\": 7507056, \"life_expect\": 43.413, \"fertility\": 6.01}, {\"year\": 2000, \"country\": \"Saudi Arabia\", \"cluster\": 5, \"pop\": 23153090, \"life_expect\": 71.626, \"fertility\": 3.81}, {\"year\": 2000, \"country\": \"South Africa\", \"cluster\": 2, \"pop\": 44066197, \"life_expect\": 53.365, \"fertility\": 2.802}, {\"year\": 2000, \"country\": \"Spain\", \"cluster\": 1, \"pop\": 40016081, \"life_expect\": 79.78, \"fertility\": 1.287}, {\"year\": 2000, \"country\": \"Switzerland\", \"cluster\": 1, \"pop\": 7266920, \"life_expect\": 80.62, \"fertility\": 1.415}, {\"year\": 2000, \"country\": \"Turkey\", \"cluster\": 1, \"pop\": 65666677, \"life_expect\": 70.845, \"fertility\": 2.23}, {\"year\": 2000, \"country\": \"United Kingdom\", \"cluster\": 1, \"pop\": 59522468, \"life_expect\": 78.471, \"fertility\": 1.695}, {\"year\": 2000, \"country\": \"United States\", \"cluster\": 3, \"pop\": 282338631, \"life_expect\": 77.31, \"fertility\": 2.038}, {\"year\": 2000, \"country\": \"Venezuela\", \"cluster\": 3, \"pop\": 23542649, \"life_expect\": 72.766, \"fertility\": 2.723}]}}, {\"mode\": \"vega-lite\"});\n",
       "</script>"
      ],
      "text/plain": [
       "alt.Chart(...)"
      ]
     },
     "execution_count": 36,
     "metadata": {},
     "output_type": "execute_result"
    }
   ],
   "source": [
    "alt.Chart(data2000).mark_bar().encode(\n",
    "    alt.X('cluster:N'),                    \n",
    "    alt.Y('pop:Q', stack=None),            # 적층식 거부 \n",
    "    alt.Color('country:N', legend=None),   # 단위 막대를 국가별 색상으로 구분\n",
    "    alt.Tooltip('country:N'), \n",
    "    alt.Order('pop:Q', sort='descending')  # 단위 막대의 정렬 (오름차순이면 큰 막대가 작은 막대를 가리게 됨)\n",
    ").properties(width=alt.Step(40))           # 막대 두께"
   ]
  },
  {
   "cell_type": "markdown",
   "metadata": {
    "colab_type": "text",
    "id": "mLSz2vHb2qiV",
    "slideshow": {
     "slide_type": "subslide"
    }
   },
   "source": [
    "- 이전 막대 차트는 영점 기저 선(zero-baseline)을 기준으로 시각화 되었다. \n",
    "  - `y` 채널은 영 아닌(non-zero) 값만을 막대 형식으로 인코드 한다.\n",
    "  - 원한다면, 막대 마크에서 막대의 시작 및 끝 값을 범위로 지정할 수 있다. \n",
    "- 아래 차트는 하한 `x` 및 상한 `x2` 채널을 개별적으로 사용하여 지역별 기대 수명의 범위를 보여준다.   \n",
    "  - 여기서는 `min()` 및 `max()` 집계 함수를 사용하여 기대 수명 범위의 시작 값과 끝 값을 처리하였다. \n",
    "  - 집계 함수에 대해서는 나중에 자세히 공부할 예정이다. \n",
    "- 또 다른 방법으로, `x` 및 `width`를 활용하여  \n",
    "  `x2 = x + width`와 같이 시작 점과 오프셋을 지정할 수 있다."
   ]
  },
  {
   "cell_type": "code",
   "execution_count": 37,
   "metadata": {
    "colab": {
     "base_uri": "https://localhost:8080/",
     "height": 192
    },
    "colab_type": "code",
    "id": "NxEVEQLj0l9t",
    "outputId": "2fa67514-b66c-4449-a1e3-c0b1b377ed3a",
    "scrolled": true,
    "slideshow": {
     "slide_type": "fragment"
    }
   },
   "outputs": [
    {
     "data": {
      "text/html": [
       "\n",
       "<div id=\"altair-viz-eb5cc915738b48a6b7126d7f880af50d\"></div>\n",
       "<script type=\"text/javascript\">\n",
       "  (function(spec, embedOpt){\n",
       "    let outputDiv = document.currentScript.previousElementSibling;\n",
       "    if (outputDiv.id !== \"altair-viz-eb5cc915738b48a6b7126d7f880af50d\") {\n",
       "      outputDiv = document.getElementById(\"altair-viz-eb5cc915738b48a6b7126d7f880af50d\");\n",
       "    }\n",
       "    const paths = {\n",
       "      \"vega\": \"https://cdn.jsdelivr.net/npm//vega@5?noext\",\n",
       "      \"vega-lib\": \"https://cdn.jsdelivr.net/npm//vega-lib?noext\",\n",
       "      \"vega-lite\": \"https://cdn.jsdelivr.net/npm//vega-lite@4.8.1?noext\",\n",
       "      \"vega-embed\": \"https://cdn.jsdelivr.net/npm//vega-embed@6?noext\",\n",
       "    };\n",
       "\n",
       "    function loadScript(lib) {\n",
       "      return new Promise(function(resolve, reject) {\n",
       "        var s = document.createElement('script');\n",
       "        s.src = paths[lib];\n",
       "        s.async = true;\n",
       "        s.onload = () => resolve(paths[lib]);\n",
       "        s.onerror = () => reject(`Error loading script: ${paths[lib]}`);\n",
       "        document.getElementsByTagName(\"head\")[0].appendChild(s);\n",
       "      });\n",
       "    }\n",
       "\n",
       "    function showError(err) {\n",
       "      outputDiv.innerHTML = `<div class=\"error\" style=\"color:red;\">${err}</div>`;\n",
       "      throw err;\n",
       "    }\n",
       "\n",
       "    function displayChart(vegaEmbed) {\n",
       "      vegaEmbed(outputDiv, spec, embedOpt)\n",
       "        .catch(err => showError(`Javascript Error: ${err.message}<br>This usually means there's a typo in your chart specification. See the javascript console for the full traceback.`));\n",
       "    }\n",
       "\n",
       "    if(typeof define === \"function\" && define.amd) {\n",
       "      requirejs.config({paths});\n",
       "      require([\"vega-embed\"], displayChart, err => showError(`Error loading script: ${err.message}`));\n",
       "    } else if (typeof vegaEmbed === \"function\") {\n",
       "      displayChart(vegaEmbed);\n",
       "    } else {\n",
       "      loadScript(\"vega\")\n",
       "        .then(() => loadScript(\"vega-lite\"))\n",
       "        .then(() => loadScript(\"vega-embed\"))\n",
       "        .catch(showError)\n",
       "        .then(() => displayChart(vegaEmbed));\n",
       "    }\n",
       "  })({\"config\": {\"view\": {\"continuousWidth\": 400, \"continuousHeight\": 300}}, \"data\": {\"name\": \"data-fdeb0b749a6385830bd1445d39ad6ea0\"}, \"mark\": \"bar\", \"encoding\": {\"x\": {\"type\": \"quantitative\", \"aggregate\": \"min\", \"field\": \"life_expect\"}, \"x2\": {\"aggregate\": \"max\", \"field\": \"life_expect\"}, \"y\": {\"type\": \"nominal\", \"field\": \"cluster\"}}, \"$schema\": \"https://vega.github.io/schema/vega-lite/v4.8.1.json\", \"datasets\": {\"data-fdeb0b749a6385830bd1445d39ad6ea0\": [{\"year\": 2000, \"country\": \"Afghanistan\", \"cluster\": 0, \"pop\": 23898198, \"life_expect\": 42.129, \"fertility\": 7.4792}, {\"year\": 2000, \"country\": \"Argentina\", \"cluster\": 3, \"pop\": 37497728, \"life_expect\": 74.34, \"fertility\": 2.35}, {\"year\": 2000, \"country\": \"Aruba\", \"cluster\": 3, \"pop\": 69539, \"life_expect\": 73.451, \"fertility\": 2.124}, {\"year\": 2000, \"country\": \"Australia\", \"cluster\": 4, \"pop\": 19164620, \"life_expect\": 80.37, \"fertility\": 1.756}, {\"year\": 2000, \"country\": \"Austria\", \"cluster\": 1, \"pop\": 8113413, \"life_expect\": 78.98, \"fertility\": 1.3820000000000001}, {\"year\": 2000, \"country\": \"Bahamas\", \"cluster\": 3, \"pop\": 290075, \"life_expect\": 71.068, \"fertility\": 2.1111}, {\"year\": 2000, \"country\": \"Bangladesh\", \"cluster\": 0, \"pop\": 130406594, \"life_expect\": 62.013, \"fertility\": 3.224}, {\"year\": 2000, \"country\": \"Barbados\", \"cluster\": 3, \"pop\": 273483, \"life_expect\": 75.97, \"fertility\": 1.5}, {\"year\": 2000, \"country\": \"Belgium\", \"cluster\": 1, \"pop\": 10263618, \"life_expect\": 78.32, \"fertility\": 1.638}, {\"year\": 2000, \"country\": \"Bolivia\", \"cluster\": 3, \"pop\": 8152620, \"life_expect\": 63.883, \"fertility\": 3.9585}, {\"year\": 2000, \"country\": \"Brazil\", \"cluster\": 3, \"pop\": 175552771, \"life_expect\": 71.006, \"fertility\": 2.345}, {\"year\": 2000, \"country\": \"Canada\", \"cluster\": 3, \"pop\": 31278097, \"life_expect\": 79.77, \"fertility\": 1.522}, {\"year\": 2000, \"country\": \"Chile\", \"cluster\": 3, \"pop\": 15153450, \"life_expect\": 77.86, \"fertility\": 2.0}, {\"year\": 2000, \"country\": \"China\", \"cluster\": 4, \"pop\": 1262645000, \"life_expect\": 72.028, \"fertility\": 1.7000000000000002}, {\"year\": 2000, \"country\": \"Colombia\", \"cluster\": 3, \"pop\": 39685655, \"life_expect\": 71.682, \"fertility\": 2.4705}, {\"year\": 2000, \"country\": \"Costa Rica\", \"cluster\": 3, \"pop\": 3710558, \"life_expect\": 78.123, \"fertility\": 2.2815}, {\"year\": 2000, \"country\": \"Croatia\", \"cluster\": 1, \"pop\": 4410830, \"life_expect\": 74.876, \"fertility\": 1.348}, {\"year\": 2000, \"country\": \"Cuba\", \"cluster\": 3, \"pop\": 11134273, \"life_expect\": 77.158, \"fertility\": 1.63}, {\"year\": 2000, \"country\": \"Dominican Republic\", \"cluster\": 3, \"pop\": 8385828, \"life_expect\": 70.847, \"fertility\": 2.95}, {\"year\": 2000, \"country\": \"Ecuador\", \"cluster\": 3, \"pop\": 12505204, \"life_expect\": 74.173, \"fertility\": 2.8175}, {\"year\": 2000, \"country\": \"Egypt\", \"cluster\": 5, \"pop\": 70492342, \"life_expect\": 69.806, \"fertility\": 3.174}, {\"year\": 2000, \"country\": \"El Salvador\", \"cluster\": 3, \"pop\": 6122515, \"life_expect\": 70.734, \"fertility\": 2.883}, {\"year\": 2000, \"country\": \"Finland\", \"cluster\": 1, \"pop\": 5168595, \"life_expect\": 78.37, \"fertility\": 1.754}, {\"year\": 2000, \"country\": \"France\", \"cluster\": 1, \"pop\": 59381628, \"life_expect\": 79.59, \"fertility\": 1.8833000000000002}, {\"year\": 2000, \"country\": \"Georgia\", \"cluster\": 1, \"pop\": 4777209, \"life_expect\": 70.476, \"fertility\": 1.478}, {\"year\": 2000, \"country\": \"Germany\", \"cluster\": 1, \"pop\": 82187909, \"life_expect\": 78.67, \"fertility\": 1.346}, {\"year\": 2000, \"country\": \"Greece\", \"cluster\": 1, \"pop\": 10559110, \"life_expect\": 78.256, \"fertility\": 1.2770000000000001}, {\"year\": 2000, \"country\": \"Grenada\", \"cluster\": 3, \"pop\": 89312, \"life_expect\": 67.746, \"fertility\": 2.429}, {\"year\": 2000, \"country\": \"Haiti\", \"cluster\": 3, \"pop\": 7306302, \"life_expect\": 58.137, \"fertility\": 4.0}, {\"year\": 2000, \"country\": \"Hong Kong\", \"cluster\": 4, \"pop\": 6658720, \"life_expect\": 81.495, \"fertility\": 0.9400000000000001}, {\"year\": 2000, \"country\": \"Iceland\", \"cluster\": 1, \"pop\": 281043, \"life_expect\": 80.5, \"fertility\": 1.9929999999999999}, {\"year\": 2000, \"country\": \"India\", \"cluster\": 0, \"pop\": 1007702000, \"life_expect\": 62.879, \"fertility\": 3.1132}, {\"year\": 2000, \"country\": \"Indonesia\", \"cluster\": 4, \"pop\": 206265000, \"life_expect\": 68.588, \"fertility\": 2.3761}, {\"year\": 2000, \"country\": \"Iran\", \"cluster\": 5, \"pop\": 65660289, \"life_expect\": 69.451, \"fertility\": 2.124}, {\"year\": 2000, \"country\": \"Iraq\", \"cluster\": 5, \"pop\": 22675617, \"life_expect\": 57.046, \"fertility\": 4.858}, {\"year\": 2000, \"country\": \"Ireland\", \"cluster\": 1, \"pop\": 3791690, \"life_expect\": 77.783, \"fertility\": 1.9689999999999999}, {\"year\": 2000, \"country\": \"Israel\", \"cluster\": 5, \"pop\": 5842454, \"life_expect\": 79.696, \"fertility\": 2.906}, {\"year\": 2000, \"country\": \"Italy\", \"cluster\": 1, \"pop\": 57719337, \"life_expect\": 80.24, \"fertility\": 1.286}, {\"year\": 2000, \"country\": \"Jamaica\", \"cluster\": 3, \"pop\": 2615467, \"life_expect\": 72.047, \"fertility\": 2.628}, {\"year\": 2000, \"country\": \"Japan\", \"cluster\": 4, \"pop\": 126699784, \"life_expect\": 82.0, \"fertility\": 1.291}, {\"year\": 2000, \"country\": \"Kenya\", \"cluster\": 2, \"pop\": 29985839, \"life_expect\": 50.992, \"fertility\": 5.0}, {\"year\": 2000, \"country\": \"South Korea\", \"cluster\": 4, \"pop\": 21647682, \"life_expect\": 66.662, \"fertility\": 1.9173}, {\"year\": 2000, \"country\": \"North Korea\", \"cluster\": 4, \"pop\": 47351083, \"life_expect\": 77.045, \"fertility\": 1.242}, {\"year\": 2000, \"country\": \"Lebanon\", \"cluster\": 5, \"pop\": 3578036, \"life_expect\": 71.028, \"fertility\": 2.319}, {\"year\": 2000, \"country\": \"Mexico\", \"cluster\": 3, \"pop\": 99926620, \"life_expect\": 74.902, \"fertility\": 2.4005}, {\"year\": 2000, \"country\": \"Netherlands\", \"cluster\": 1, \"pop\": 15907853, \"life_expect\": 78.53, \"fertility\": 1.726}, {\"year\": 2000, \"country\": \"New Zealand\", \"cluster\": 4, \"pop\": 3819762, \"life_expect\": 79.11, \"fertility\": 1.964}, {\"year\": 2000, \"country\": \"Nigeria\", \"cluster\": 2, \"pop\": 114306700, \"life_expect\": 46.608, \"fertility\": 5.845}, {\"year\": 2000, \"country\": \"Norway\", \"cluster\": 1, \"pop\": 4492400, \"life_expect\": 79.05, \"fertility\": 1.8010000000000002}, {\"year\": 2000, \"country\": \"Pakistan\", \"cluster\": 0, \"pop\": 146342958, \"life_expect\": 63.61, \"fertility\": 3.9936}, {\"year\": 2000, \"country\": \"Peru\", \"cluster\": 3, \"pop\": 25979722, \"life_expect\": 69.906, \"fertility\": 2.7005}, {\"year\": 2000, \"country\": \"Philippines\", \"cluster\": 4, \"pop\": 79739825, \"life_expect\": 70.303, \"fertility\": 3.5436}, {\"year\": 2000, \"country\": \"Poland\", \"cluster\": 1, \"pop\": 38654164, \"life_expect\": 74.67, \"fertility\": 1.251}, {\"year\": 2000, \"country\": \"Portugal\", \"cluster\": 1, \"pop\": 10335597, \"life_expect\": 77.29, \"fertility\": 1.454}, {\"year\": 2000, \"country\": \"Rwanda\", \"cluster\": 2, \"pop\": 7507056, \"life_expect\": 43.413, \"fertility\": 6.01}, {\"year\": 2000, \"country\": \"Saudi Arabia\", \"cluster\": 5, \"pop\": 23153090, \"life_expect\": 71.626, \"fertility\": 3.81}, {\"year\": 2000, \"country\": \"South Africa\", \"cluster\": 2, \"pop\": 44066197, \"life_expect\": 53.365, \"fertility\": 2.802}, {\"year\": 2000, \"country\": \"Spain\", \"cluster\": 1, \"pop\": 40016081, \"life_expect\": 79.78, \"fertility\": 1.287}, {\"year\": 2000, \"country\": \"Switzerland\", \"cluster\": 1, \"pop\": 7266920, \"life_expect\": 80.62, \"fertility\": 1.415}, {\"year\": 2000, \"country\": \"Turkey\", \"cluster\": 1, \"pop\": 65666677, \"life_expect\": 70.845, \"fertility\": 2.23}, {\"year\": 2000, \"country\": \"United Kingdom\", \"cluster\": 1, \"pop\": 59522468, \"life_expect\": 78.471, \"fertility\": 1.695}, {\"year\": 2000, \"country\": \"United States\", \"cluster\": 3, \"pop\": 282338631, \"life_expect\": 77.31, \"fertility\": 2.038}, {\"year\": 2000, \"country\": \"Venezuela\", \"cluster\": 3, \"pop\": 23542649, \"life_expect\": 72.766, \"fertility\": 2.723}]}}, {\"mode\": \"vega-lite\"});\n",
       "</script>"
      ],
      "text/plain": [
       "alt.Chart(...)"
      ]
     },
     "execution_count": 37,
     "metadata": {},
     "output_type": "execute_result"
    }
   ],
   "source": [
    "alt.Chart(data2000).mark_bar().encode(   # cluster = {0: 남아시아, \n",
    "    alt.X('min(life_expect):Q'),         #            1: 유럽,                \n",
    "    alt.X2('max(life_expect):Q'),        #            2: 아프리카, \n",
    "    alt.Y('cluster:N')                   #            3: 아메리카, \n",
    ")                                        #            4: 동남아시아, \n",
    "                                         #            5: 중앙아시아} "
   ]
  },
  {
   "cell_type": "markdown",
   "metadata": {
    "slideshow": {
     "slide_type": "subslide"
    }
   },
   "source": [
    "- (유럽인 시각에서 구분한) 지역 `cluster`를 [지도](https://www.google.com/maps/place/Central+Asia/@1.7635712,112.2481561,4z/data=!4m5!3m4!1s0x421ca47a95e8b557:0xc9e4e4fa8732db50!8m2!3d45.4506875!4d68.8319005)에서 확인하자. \n",
    "  0. 남아시아: 아프가니스탄, 파키스탄, 인도, 방글라데시\n",
    "  1. 유럽: 노르웨이, 스웨덴, 핀란드, 덴마크, 아일랜드, 영국, 네델란드, 벨기에, 독일, 폴란드, 체코, 오스트리아, 스위스, 프랑스, 포르투갈, 스페인, 이탈리아  \n",
    "  2. 아프리카: 나이지리아, 르완다, 케냐\n",
    "  3. 아메리카: 캐나다, 미국, 멕시코, 페루, 브라질, 볼리비아, 칠레, 아르헨티나 \n",
    "  4. 동남아시아: 중국, 필리핀, 인도네시아, 호주, 한국, 일본\n",
    "  5. 중앙아시아: 이집트, 사우디아라비아, 이라크, 이란"
   ]
  },
  {
   "cell_type": "markdown",
   "metadata": {
    "colab_type": "text",
    "id": "bTnEQk1NcD7y",
    "slideshow": {
     "slide_type": "slide"
    }
   },
   "source": [
    "### 4.6 선 마크\n",
    "\n",
    "- `line` 마크 유형은 그려진 점들을 선분으로 연결한다.  \n",
    "  선의 기울기로 변화율 정보를 보여줄 수 있다. \n",
    "- 국가별 출산율을 연도에 따라서 꺽은선 차트로 시각화하자.  \n",
    "  - 필터링되지 않은 세계 개발 데이터프레임 전체를 사용하자. \n",
    "  - 범례는 숨기고 툴팁을 활용하자. "
   ]
  },
  {
   "cell_type": "code",
   "execution_count": 38,
   "metadata": {
    "colab": {
     "base_uri": "https://localhost:8080/",
     "height": 385
    },
    "colab_type": "code",
    "id": "lTWmDwv1Jhzt",
    "outputId": "7bbd15a9-4b8f-4f66-fe7e-6a55f2c38449",
    "slideshow": {
     "slide_type": "subslide"
    }
   },
   "outputs": [
    {
     "data": {
      "text/html": [
       "\n",
       "<div id=\"altair-viz-921ff9a1944d41b29569052b8c2b7de4\"></div>\n",
       "<script type=\"text/javascript\">\n",
       "  (function(spec, embedOpt){\n",
       "    let outputDiv = document.currentScript.previousElementSibling;\n",
       "    if (outputDiv.id !== \"altair-viz-921ff9a1944d41b29569052b8c2b7de4\") {\n",
       "      outputDiv = document.getElementById(\"altair-viz-921ff9a1944d41b29569052b8c2b7de4\");\n",
       "    }\n",
       "    const paths = {\n",
       "      \"vega\": \"https://cdn.jsdelivr.net/npm//vega@5?noext\",\n",
       "      \"vega-lib\": \"https://cdn.jsdelivr.net/npm//vega-lib?noext\",\n",
       "      \"vega-lite\": \"https://cdn.jsdelivr.net/npm//vega-lite@4.8.1?noext\",\n",
       "      \"vega-embed\": \"https://cdn.jsdelivr.net/npm//vega-embed@6?noext\",\n",
       "    };\n",
       "\n",
       "    function loadScript(lib) {\n",
       "      return new Promise(function(resolve, reject) {\n",
       "        var s = document.createElement('script');\n",
       "        s.src = paths[lib];\n",
       "        s.async = true;\n",
       "        s.onload = () => resolve(paths[lib]);\n",
       "        s.onerror = () => reject(`Error loading script: ${paths[lib]}`);\n",
       "        document.getElementsByTagName(\"head\")[0].appendChild(s);\n",
       "      });\n",
       "    }\n",
       "\n",
       "    function showError(err) {\n",
       "      outputDiv.innerHTML = `<div class=\"error\" style=\"color:red;\">${err}</div>`;\n",
       "      throw err;\n",
       "    }\n",
       "\n",
       "    function displayChart(vegaEmbed) {\n",
       "      vegaEmbed(outputDiv, spec, embedOpt)\n",
       "        .catch(err => showError(`Javascript Error: ${err.message}<br>This usually means there's a typo in your chart specification. See the javascript console for the full traceback.`));\n",
       "    }\n",
       "\n",
       "    if(typeof define === \"function\" && define.amd) {\n",
       "      requirejs.config({paths});\n",
       "      require([\"vega-embed\"], displayChart, err => showError(`Error loading script: ${err.message}`));\n",
       "    } else if (typeof vegaEmbed === \"function\") {\n",
       "      displayChart(vegaEmbed);\n",
       "    } else {\n",
       "      loadScript(\"vega\")\n",
       "        .then(() => loadScript(\"vega-lite\"))\n",
       "        .then(() => loadScript(\"vega-embed\"))\n",
       "        .catch(showError)\n",
       "        .then(() => displayChart(vegaEmbed));\n",
       "    }\n",
       "  })({\"config\": {\"view\": {\"continuousWidth\": 400, \"continuousHeight\": 300}}, \"data\": {\"name\": \"data-89be1acdd14c7effd56f4dd0fabf92c3\"}, \"mark\": \"line\", \"encoding\": {\"color\": {\"type\": \"nominal\", \"field\": \"country\", \"legend\": null}, \"tooltip\": {\"type\": \"nominal\", \"field\": \"country\"}, \"x\": {\"type\": \"ordinal\", \"field\": \"year\"}, \"y\": {\"type\": \"quantitative\", \"field\": \"fertility\"}}, \"width\": 600, \"$schema\": \"https://vega.github.io/schema/vega-lite/v4.8.1.json\", \"datasets\": {\"data-89be1acdd14c7effd56f4dd0fabf92c3\": [{\"year\": 1955, \"country\": \"Afghanistan\", \"cluster\": 0, \"pop\": 8891209, \"life_expect\": 30.332, \"fertility\": 7.7}, {\"year\": 1960, \"country\": \"Afghanistan\", \"cluster\": 0, \"pop\": 9829450, \"life_expect\": 31.997, \"fertility\": 7.7}, {\"year\": 1965, \"country\": \"Afghanistan\", \"cluster\": 0, \"pop\": 10997885, \"life_expect\": 34.02, \"fertility\": 7.7}, {\"year\": 1970, \"country\": \"Afghanistan\", \"cluster\": 0, \"pop\": 12430623, \"life_expect\": 36.088, \"fertility\": 7.7}, {\"year\": 1975, \"country\": \"Afghanistan\", \"cluster\": 0, \"pop\": 14132019, \"life_expect\": 38.438, \"fertility\": 7.7}, {\"year\": 1980, \"country\": \"Afghanistan\", \"cluster\": 0, \"pop\": 15112149, \"life_expect\": 39.854, \"fertility\": 7.8}, {\"year\": 1985, \"country\": \"Afghanistan\", \"cluster\": 0, \"pop\": 13796928, \"life_expect\": 40.822, \"fertility\": 7.9}, {\"year\": 1990, \"country\": \"Afghanistan\", \"cluster\": 0, \"pop\": 14669339, \"life_expect\": 41.674, \"fertility\": 8.0}, {\"year\": 1995, \"country\": \"Afghanistan\", \"cluster\": 0, \"pop\": 20881480, \"life_expect\": 41.763, \"fertility\": 8.0}, {\"year\": 2000, \"country\": \"Afghanistan\", \"cluster\": 0, \"pop\": 23898198, \"life_expect\": 42.129, \"fertility\": 7.4792}, {\"year\": 2005, \"country\": \"Afghanistan\", \"cluster\": 0, \"pop\": 29928987, \"life_expect\": 43.828, \"fertility\": 7.0685}, {\"year\": 1955, \"country\": \"Argentina\", \"cluster\": 3, \"pop\": 18927821, \"life_expect\": 64.399, \"fertility\": 3.1265}, {\"year\": 1960, \"country\": \"Argentina\", \"cluster\": 3, \"pop\": 20616009, \"life_expect\": 65.142, \"fertility\": 3.0895}, {\"year\": 1965, \"country\": \"Argentina\", \"cluster\": 3, \"pop\": 22283100, \"life_expect\": 65.634, \"fertility\": 3.049}, {\"year\": 1970, \"country\": \"Argentina\", \"cluster\": 3, \"pop\": 23962313, \"life_expect\": 67.065, \"fertility\": 3.1455}, {\"year\": 1975, \"country\": \"Argentina\", \"cluster\": 3, \"pop\": 26081880, \"life_expect\": 68.481, \"fertility\": 3.44}, {\"year\": 1980, \"country\": \"Argentina\", \"cluster\": 3, \"pop\": 28369799, \"life_expect\": 69.942, \"fertility\": 3.15}, {\"year\": 1985, \"country\": \"Argentina\", \"cluster\": 3, \"pop\": 30675059, \"life_expect\": 70.774, \"fertility\": 3.053}, {\"year\": 1990, \"country\": \"Argentina\", \"cluster\": 3, \"pop\": 33022202, \"life_expect\": 71.868, \"fertility\": 2.9}, {\"year\": 1995, \"country\": \"Argentina\", \"cluster\": 3, \"pop\": 35311049, \"life_expect\": 73.275, \"fertility\": 2.63}, {\"year\": 2000, \"country\": \"Argentina\", \"cluster\": 3, \"pop\": 37497728, \"life_expect\": 74.34, \"fertility\": 2.35}, {\"year\": 2005, \"country\": \"Argentina\", \"cluster\": 3, \"pop\": 39537943, \"life_expect\": 75.32, \"fertility\": 2.254}, {\"year\": 1955, \"country\": \"Aruba\", \"cluster\": 3, \"pop\": 53865, \"life_expect\": 64.381, \"fertility\": 5.15}, {\"year\": 1960, \"country\": \"Aruba\", \"cluster\": 3, \"pop\": 57203, \"life_expect\": 66.606, \"fertility\": 4.399}, {\"year\": 1965, \"country\": \"Aruba\", \"cluster\": 3, \"pop\": 59020, \"life_expect\": 68.336, \"fertility\": 3.301}, {\"year\": 1970, \"country\": \"Aruba\", \"cluster\": 3, \"pop\": 59039, \"life_expect\": 70.941, \"fertility\": 2.651}, {\"year\": 1975, \"country\": \"Aruba\", \"cluster\": 3, \"pop\": 59390, \"life_expect\": 71.83, \"fertility\": 2.45}, {\"year\": 1980, \"country\": \"Aruba\", \"cluster\": 3, \"pop\": 60266, \"life_expect\": 74.116, \"fertility\": 2.358}, {\"year\": 1985, \"country\": \"Aruba\", \"cluster\": 3, \"pop\": 64129, \"life_expect\": 74.494, \"fertility\": 2.3}, {\"year\": 1990, \"country\": \"Aruba\", \"cluster\": 3, \"pop\": 66653, \"life_expect\": 74.108, \"fertility\": 2.2800000000000002}, {\"year\": 1995, \"country\": \"Aruba\", \"cluster\": 3, \"pop\": 67836, \"life_expect\": 73.011, \"fertility\": 2.208}, {\"year\": 2000, \"country\": \"Aruba\", \"cluster\": 3, \"pop\": 69539, \"life_expect\": 73.451, \"fertility\": 2.124}, {\"year\": 2005, \"country\": \"Aruba\", \"cluster\": 3, \"pop\": 71566, \"life_expect\": 74.239, \"fertility\": 2.04}, {\"year\": 1955, \"country\": \"Australia\", \"cluster\": 4, \"pop\": 9277087, \"life_expect\": 70.33, \"fertility\": 3.406}, {\"year\": 1960, \"country\": \"Australia\", \"cluster\": 4, \"pop\": 10361273, \"life_expect\": 70.93, \"fertility\": 3.274}, {\"year\": 1965, \"country\": \"Australia\", \"cluster\": 4, \"pop\": 11439384, \"life_expect\": 71.1, \"fertility\": 2.871}, {\"year\": 1970, \"country\": \"Australia\", \"cluster\": 4, \"pop\": 12660160, \"life_expect\": 71.93, \"fertility\": 2.535}, {\"year\": 1975, \"country\": \"Australia\", \"cluster\": 4, \"pop\": 13771400, \"life_expect\": 73.49, \"fertility\": 1.9889999999999999}, {\"year\": 1980, \"country\": \"Australia\", \"cluster\": 4, \"pop\": 14615900, \"life_expect\": 74.74, \"fertility\": 1.907}, {\"year\": 1985, \"country\": \"Australia\", \"cluster\": 4, \"pop\": 15788300, \"life_expect\": 76.32, \"fertility\": 1.859}, {\"year\": 1990, \"country\": \"Australia\", \"cluster\": 4, \"pop\": 17022133, \"life_expect\": 77.56, \"fertility\": 1.8599999999999999}, {\"year\": 1995, \"country\": \"Australia\", \"cluster\": 4, \"pop\": 18116171, \"life_expect\": 78.83, \"fertility\": 1.776}, {\"year\": 2000, \"country\": \"Australia\", \"cluster\": 4, \"pop\": 19164620, \"life_expect\": 80.37, \"fertility\": 1.756}, {\"year\": 2005, \"country\": \"Australia\", \"cluster\": 4, \"pop\": 20090437, \"life_expect\": 81.235, \"fertility\": 1.788}, {\"year\": 1955, \"country\": \"Austria\", \"cluster\": 1, \"pop\": 6946885, \"life_expect\": 67.48, \"fertility\": 2.52}, {\"year\": 1960, \"country\": \"Austria\", \"cluster\": 1, \"pop\": 7047437, \"life_expect\": 69.54, \"fertility\": 2.7800000000000002}, {\"year\": 1965, \"country\": \"Austria\", \"cluster\": 1, \"pop\": 7270889, \"life_expect\": 70.14, \"fertility\": 2.5300000000000002}, {\"year\": 1970, \"country\": \"Austria\", \"cluster\": 1, \"pop\": 7467086, \"life_expect\": 70.63, \"fertility\": 2.02}, {\"year\": 1975, \"country\": \"Austria\", \"cluster\": 1, \"pop\": 7578903, \"life_expect\": 72.17, \"fertility\": 1.6400000000000001}, {\"year\": 1980, \"country\": \"Austria\", \"cluster\": 1, \"pop\": 7549433, \"life_expect\": 73.18, \"fertility\": 1.62}, {\"year\": 1985, \"country\": \"Austria\", \"cluster\": 1, \"pop\": 7559776, \"life_expect\": 74.94, \"fertility\": 1.45}, {\"year\": 1990, \"country\": \"Austria\", \"cluster\": 1, \"pop\": 7722953, \"life_expect\": 76.04, \"fertility\": 1.47}, {\"year\": 1995, \"country\": \"Austria\", \"cluster\": 1, \"pop\": 8047433, \"life_expect\": 77.51, \"fertility\": 1.388}, {\"year\": 2000, \"country\": \"Austria\", \"cluster\": 1, \"pop\": 8113413, \"life_expect\": 78.98, \"fertility\": 1.3820000000000001}, {\"year\": 2005, \"country\": \"Austria\", \"cluster\": 1, \"pop\": 8184691, \"life_expect\": 79.829, \"fertility\": 1.42}, {\"year\": 1955, \"country\": \"Bahamas\", \"cluster\": 3, \"pop\": 87138, \"life_expect\": 62.405, \"fertility\": 4.305}, {\"year\": 1960, \"country\": \"Bahamas\", \"cluster\": 3, \"pop\": 112234, \"life_expect\": 64.209, \"fertility\": 4.503}, {\"year\": 1965, \"country\": \"Bahamas\", \"cluster\": 3, \"pop\": 139205, \"life_expect\": 65.795, \"fertility\": 3.794}, {\"year\": 1970, \"country\": \"Bahamas\", \"cluster\": 3, \"pop\": 170323, \"life_expect\": 66.515, \"fertility\": 3.444}, {\"year\": 1975, \"country\": \"Bahamas\", \"cluster\": 3, \"pop\": 189139, \"life_expect\": 67.199, \"fertility\": 3.221}, {\"year\": 1980, \"country\": \"Bahamas\", \"cluster\": 3, \"pop\": 209944, \"life_expect\": 67.874, \"fertility\": 3.16}, {\"year\": 1985, \"country\": \"Bahamas\", \"cluster\": 3, \"pop\": 234988, \"life_expect\": 69.524, \"fertility\": 2.62}, {\"year\": 1990, \"country\": \"Bahamas\", \"cluster\": 3, \"pop\": 257253, \"life_expect\": 69.171, \"fertility\": 2.6}, {\"year\": 1995, \"country\": \"Bahamas\", \"cluster\": 3, \"pop\": 275303, \"life_expect\": 68.472, \"fertility\": 2.4}, {\"year\": 2000, \"country\": \"Bahamas\", \"cluster\": 3, \"pop\": 290075, \"life_expect\": 71.068, \"fertility\": 2.1111}, {\"year\": 2005, \"country\": \"Bahamas\", \"cluster\": 3, \"pop\": 301790, \"life_expect\": 73.495, \"fertility\": 2.0221}, {\"year\": 1955, \"country\": \"Bangladesh\", \"cluster\": 0, \"pop\": 49601520, \"life_expect\": 39.348, \"fertility\": 6.76}, {\"year\": 1960, \"country\": \"Bangladesh\", \"cluster\": 0, \"pop\": 54621538, \"life_expect\": 41.216, \"fertility\": 6.85}, {\"year\": 1965, \"country\": \"Bangladesh\", \"cluster\": 0, \"pop\": 60332117, \"life_expect\": 43.453, \"fertility\": 6.6}, {\"year\": 1970, \"country\": \"Bangladesh\", \"cluster\": 0, \"pop\": 67402621, \"life_expect\": 45.252, \"fertility\": 6.15}, {\"year\": 1975, \"country\": \"Bangladesh\", \"cluster\": 0, \"pop\": 76253310, \"life_expect\": 46.923, \"fertility\": 5.6}, {\"year\": 1980, \"country\": \"Bangladesh\", \"cluster\": 0, \"pop\": 88076996, \"life_expect\": 50.009, \"fertility\": 5.25}, {\"year\": 1985, \"country\": \"Bangladesh\", \"cluster\": 0, \"pop\": 99752733, \"life_expect\": 52.819, \"fertility\": 4.629}, {\"year\": 1990, \"country\": \"Bangladesh\", \"cluster\": 0, \"pop\": 109896945, \"life_expect\": 56.018, \"fertility\": 4.117}, {\"year\": 1995, \"country\": \"Bangladesh\", \"cluster\": 0, \"pop\": 119186448, \"life_expect\": 59.412, \"fertility\": 3.5042999999999997}, {\"year\": 2000, \"country\": \"Bangladesh\", \"cluster\": 0, \"pop\": 130406594, \"life_expect\": 62.013, \"fertility\": 3.224}, {\"year\": 2005, \"country\": \"Bangladesh\", \"cluster\": 0, \"pop\": 144319628, \"life_expect\": 64.062, \"fertility\": 2.826}, {\"year\": 1955, \"country\": \"Barbados\", \"cluster\": 3, \"pop\": 227255, \"life_expect\": 62.57, \"fertility\": 4.67}, {\"year\": 1960, \"country\": \"Barbados\", \"cluster\": 3, \"pop\": 232339, \"life_expect\": 65.87, \"fertility\": 4.26}, {\"year\": 1965, \"country\": \"Barbados\", \"cluster\": 3, \"pop\": 234980, \"life_expect\": 67.62, \"fertility\": 3.45}, {\"year\": 1970, \"country\": \"Barbados\", \"cluster\": 3, \"pop\": 238756, \"life_expect\": 69.42, \"fertility\": 2.74}, {\"year\": 1975, \"country\": \"Barbados\", \"cluster\": 3, \"pop\": 247147, \"life_expect\": 71.27, \"fertility\": 2.19}, {\"year\": 1980, \"country\": \"Barbados\", \"cluster\": 3, \"pop\": 251966, \"life_expect\": 72.695, \"fertility\": 1.92}, {\"year\": 1985, \"country\": \"Barbados\", \"cluster\": 3, \"pop\": 257446, \"life_expect\": 74.027, \"fertility\": 1.75}, {\"year\": 1990, \"country\": \"Barbados\", \"cluster\": 3, \"pop\": 262624, \"life_expect\": 74.894, \"fertility\": 1.6}, {\"year\": 1995, \"country\": \"Barbados\", \"cluster\": 3, \"pop\": 267907, \"life_expect\": 74.912, \"fertility\": 1.5}, {\"year\": 2000, \"country\": \"Barbados\", \"cluster\": 3, \"pop\": 273483, \"life_expect\": 75.97, \"fertility\": 1.5}, {\"year\": 2005, \"country\": \"Barbados\", \"cluster\": 3, \"pop\": 278870, \"life_expect\": 77.296, \"fertility\": 1.5}, {\"year\": 1955, \"country\": \"Belgium\", \"cluster\": 1, \"pop\": 8868475, \"life_expect\": 69.24, \"fertility\": 2.496}, {\"year\": 1960, \"country\": \"Belgium\", \"cluster\": 1, \"pop\": 9118700, \"life_expect\": 70.25, \"fertility\": 2.644}, {\"year\": 1965, \"country\": \"Belgium\", \"cluster\": 1, \"pop\": 9448100, \"life_expect\": 70.94, \"fertility\": 2.392}, {\"year\": 1970, \"country\": \"Belgium\", \"cluster\": 1, \"pop\": 9637800, \"life_expect\": 71.44, \"fertility\": 2.015}, {\"year\": 1975, \"country\": \"Belgium\", \"cluster\": 1, \"pop\": 9794800, \"life_expect\": 72.8, \"fertility\": 1.705}, {\"year\": 1980, \"country\": \"Belgium\", \"cluster\": 1, \"pop\": 9846800, \"life_expect\": 73.93, \"fertility\": 1.595}, {\"year\": 1985, \"country\": \"Belgium\", \"cluster\": 1, \"pop\": 9858200, \"life_expect\": 75.35, \"fertility\": 1.5590000000000002}, {\"year\": 1990, \"country\": \"Belgium\", \"cluster\": 1, \"pop\": 9969310, \"life_expect\": 76.46, \"fertility\": 1.613}, {\"year\": 1995, \"country\": \"Belgium\", \"cluster\": 1, \"pop\": 10155459, \"life_expect\": 77.53, \"fertility\": 1.604}, {\"year\": 2000, \"country\": \"Belgium\", \"cluster\": 1, \"pop\": 10263618, \"life_expect\": 78.32, \"fertility\": 1.638}, {\"year\": 2005, \"country\": \"Belgium\", \"cluster\": 1, \"pop\": 10364388, \"life_expect\": 79.441, \"fertility\": 1.646}, {\"year\": 1955, \"country\": \"Bolivia\", \"cluster\": 3, \"pop\": 3074311, \"life_expect\": 41.89, \"fertility\": 6.75}, {\"year\": 1960, \"country\": \"Bolivia\", \"cluster\": 3, \"pop\": 3434073, \"life_expect\": 43.428, \"fertility\": 6.63}, {\"year\": 1965, \"country\": \"Bolivia\", \"cluster\": 3, \"pop\": 3853315, \"life_expect\": 45.032, \"fertility\": 6.5600000000000005}, {\"year\": 1970, \"country\": \"Bolivia\", \"cluster\": 3, \"pop\": 4346218, \"life_expect\": 46.714, \"fertility\": 6.5}, {\"year\": 1975, \"country\": \"Bolivia\", \"cluster\": 3, \"pop\": 4914316, \"life_expect\": 50.023, \"fertility\": 5.8}, {\"year\": 1980, \"country\": \"Bolivia\", \"cluster\": 3, \"pop\": 5441298, \"life_expect\": 53.859, \"fertility\": 5.2995}, {\"year\": 1985, \"country\": \"Bolivia\", \"cluster\": 3, \"pop\": 5934935, \"life_expect\": 57.251, \"fertility\": 5.0}, {\"year\": 1990, \"country\": \"Bolivia\", \"cluster\": 3, \"pop\": 6573900, \"life_expect\": 59.957, \"fertility\": 4.8}, {\"year\": 1995, \"country\": \"Bolivia\", \"cluster\": 3, \"pop\": 7376582, \"life_expect\": 62.05, \"fertility\": 4.324}, {\"year\": 2000, \"country\": \"Bolivia\", \"cluster\": 3, \"pop\": 8152620, \"life_expect\": 63.883, \"fertility\": 3.9585}, {\"year\": 2005, \"country\": \"Bolivia\", \"cluster\": 3, \"pop\": 8857870, \"life_expect\": 65.554, \"fertility\": 3.5}, {\"year\": 1955, \"country\": \"Brazil\", \"cluster\": 3, \"pop\": 61773546, \"life_expect\": 53.285, \"fertility\": 6.1501}, {\"year\": 1960, \"country\": \"Brazil\", \"cluster\": 3, \"pop\": 71694810, \"life_expect\": 55.665, \"fertility\": 6.1501}, {\"year\": 1965, \"country\": \"Brazil\", \"cluster\": 3, \"pop\": 83092908, \"life_expect\": 57.632, \"fertility\": 5.38}, {\"year\": 1970, \"country\": \"Brazil\", \"cluster\": 3, \"pop\": 95684297, \"life_expect\": 59.504, \"fertility\": 4.7175}, {\"year\": 1975, \"country\": \"Brazil\", \"cluster\": 3, \"pop\": 108823732, \"life_expect\": 61.489, \"fertility\": 4.305}, {\"year\": 1980, \"country\": \"Brazil\", \"cluster\": 3, \"pop\": 122958132, \"life_expect\": 63.336, \"fertility\": 3.8}, {\"year\": 1985, \"country\": \"Brazil\", \"cluster\": 3, \"pop\": 137302933, \"life_expect\": 65.205, \"fertility\": 3.1}, {\"year\": 1990, \"country\": \"Brazil\", \"cluster\": 3, \"pop\": 151083809, \"life_expect\": 67.057, \"fertility\": 2.6}, {\"year\": 1995, \"country\": \"Brazil\", \"cluster\": 3, \"pop\": 163542501, \"life_expect\": 69.388, \"fertility\": 2.45}, {\"year\": 2000, \"country\": \"Brazil\", \"cluster\": 3, \"pop\": 175552771, \"life_expect\": 71.006, \"fertility\": 2.345}, {\"year\": 2005, \"country\": \"Brazil\", \"cluster\": 3, \"pop\": 186112794, \"life_expect\": 72.39, \"fertility\": 2.245}, {\"year\": 1955, \"country\": \"Canada\", \"cluster\": 3, \"pop\": 16050356, \"life_expect\": 69.96, \"fertility\": 3.882}, {\"year\": 1960, \"country\": \"Canada\", \"cluster\": 3, \"pop\": 18266765, \"life_expect\": 71.3, \"fertility\": 3.675}, {\"year\": 1965, \"country\": \"Canada\", \"cluster\": 3, \"pop\": 20071104, \"life_expect\": 72.13, \"fertility\": 2.61}, {\"year\": 1970, \"country\": \"Canada\", \"cluster\": 3, \"pop\": 21749986, \"life_expect\": 72.88, \"fertility\": 1.976}, {\"year\": 1975, \"country\": \"Canada\", \"cluster\": 3, \"pop\": 23209200, \"life_expect\": 74.21, \"fertility\": 1.734}, {\"year\": 1980, \"country\": \"Canada\", \"cluster\": 3, \"pop\": 24593300, \"life_expect\": 75.76, \"fertility\": 1.634}, {\"year\": 1985, \"country\": \"Canada\", \"cluster\": 3, \"pop\": 25941600, \"life_expect\": 76.86, \"fertility\": 1.616}, {\"year\": 1990, \"country\": \"Canada\", \"cluster\": 3, \"pop\": 27790600, \"life_expect\": 77.95, \"fertility\": 1.694}, {\"year\": 1995, \"country\": \"Canada\", \"cluster\": 3, \"pop\": 29619002, \"life_expect\": 78.61, \"fertility\": 1.564}, {\"year\": 2000, \"country\": \"Canada\", \"cluster\": 3, \"pop\": 31278097, \"life_expect\": 79.77, \"fertility\": 1.522}, {\"year\": 2005, \"country\": \"Canada\", \"cluster\": 3, \"pop\": 32805041, \"life_expect\": 80.653, \"fertility\": 1.5270000000000001}, {\"year\": 1955, \"country\": \"Chile\", \"cluster\": 3, \"pop\": 6743269, \"life_expect\": 56.074, \"fertility\": 5.486}, {\"year\": 1960, \"country\": \"Chile\", \"cluster\": 3, \"pop\": 7585349, \"life_expect\": 57.924, \"fertility\": 5.4385}, {\"year\": 1965, \"country\": \"Chile\", \"cluster\": 3, \"pop\": 8509950, \"life_expect\": 60.523, \"fertility\": 4.4405}, {\"year\": 1970, \"country\": \"Chile\", \"cluster\": 3, \"pop\": 9368558, \"life_expect\": 63.441, \"fertility\": 3.63}, {\"year\": 1975, \"country\": \"Chile\", \"cluster\": 3, \"pop\": 10251542, \"life_expect\": 67.052, \"fertility\": 2.803}, {\"year\": 1980, \"country\": \"Chile\", \"cluster\": 3, \"pop\": 11093718, \"life_expect\": 70.565, \"fertility\": 2.6710000000000003}, {\"year\": 1985, \"country\": \"Chile\", \"cluster\": 3, \"pop\": 12066701, \"life_expect\": 72.492, \"fertility\": 2.65}, {\"year\": 1990, \"country\": \"Chile\", \"cluster\": 3, \"pop\": 13127760, \"life_expect\": 74.126, \"fertility\": 2.55}, {\"year\": 1995, \"country\": \"Chile\", \"cluster\": 3, \"pop\": 14205449, \"life_expect\": 75.816, \"fertility\": 2.21}, {\"year\": 2000, \"country\": \"Chile\", \"cluster\": 3, \"pop\": 15153450, \"life_expect\": 77.86, \"fertility\": 2.0}, {\"year\": 2005, \"country\": \"Chile\", \"cluster\": 3, \"pop\": 15980912, \"life_expect\": 78.553, \"fertility\": 1.944}, {\"year\": 1955, \"country\": \"China\", \"cluster\": 4, \"pop\": 608655000, \"life_expect\": 50.54896, \"fertility\": 5.59}, {\"year\": 1960, \"country\": \"China\", \"cluster\": 4, \"pop\": 667070000, \"life_expect\": 44.50136, \"fertility\": 5.72}, {\"year\": 1965, \"country\": \"China\", \"cluster\": 4, \"pop\": 715185000, \"life_expect\": 58.38112, \"fertility\": 6.06}, {\"year\": 1970, \"country\": \"China\", \"cluster\": 4, \"pop\": 818315000, \"life_expect\": 63.11888, \"fertility\": 4.86}, {\"year\": 1975, \"country\": \"China\", \"cluster\": 4, \"pop\": 916395000, \"life_expect\": 63.96736, \"fertility\": 3.32}, {\"year\": 1980, \"country\": \"China\", \"cluster\": 4, \"pop\": 981235000, \"life_expect\": 65.525, \"fertility\": 2.55}, {\"year\": 1985, \"country\": \"China\", \"cluster\": 4, \"pop\": 1051040000, \"life_expect\": 67.274, \"fertility\": 2.46}, {\"year\": 1990, \"country\": \"China\", \"cluster\": 4, \"pop\": 1135185000, \"life_expect\": 68.69, \"fertility\": 1.92}, {\"year\": 1995, \"country\": \"China\", \"cluster\": 4, \"pop\": 1204855000, \"life_expect\": 70.426, \"fertility\": 1.7810000000000001}, {\"year\": 2000, \"country\": \"China\", \"cluster\": 4, \"pop\": 1262645000, \"life_expect\": 72.028, \"fertility\": 1.7000000000000002}, {\"year\": 2005, \"country\": \"China\", \"cluster\": 4, \"pop\": 1303182268, \"life_expect\": 72.961, \"fertility\": 1.725}, {\"year\": 1955, \"country\": \"Colombia\", \"cluster\": 3, \"pop\": 13588405, \"life_expect\": 55.118, \"fertility\": 6.76}, {\"year\": 1960, \"country\": \"Colombia\", \"cluster\": 3, \"pop\": 15952727, \"life_expect\": 57.863, \"fertility\": 6.76}, {\"year\": 1965, \"country\": \"Colombia\", \"cluster\": 3, \"pop\": 18646175, \"life_expect\": 59.963, \"fertility\": 6.18}, {\"year\": 1970, \"country\": \"Colombia\", \"cluster\": 3, \"pop\": 21429658, \"life_expect\": 61.623, \"fertility\": 5.0005}, {\"year\": 1975, \"country\": \"Colombia\", \"cluster\": 3, \"pop\": 24114177, \"life_expect\": 63.837, \"fertility\": 4.3385}, {\"year\": 1980, \"country\": \"Colombia\", \"cluster\": 3, \"pop\": 26582811, \"life_expect\": 66.653, \"fertility\": 3.685}, {\"year\": 1985, \"country\": \"Colombia\", \"cluster\": 3, \"pop\": 29678395, \"life_expect\": 67.768, \"fertility\": 3.172}, {\"year\": 1990, \"country\": \"Colombia\", \"cluster\": 3, \"pop\": 32858579, \"life_expect\": 68.421, \"fertility\": 2.93005}, {\"year\": 1995, \"country\": \"Colombia\", \"cluster\": 3, \"pop\": 36280883, \"life_expect\": 70.313, \"fertility\": 2.7}, {\"year\": 2000, \"country\": \"Colombia\", \"cluster\": 3, \"pop\": 39685655, \"life_expect\": 71.682, \"fertility\": 2.4705}, {\"year\": 2005, \"country\": \"Colombia\", \"cluster\": 3, \"pop\": 42954279, \"life_expect\": 72.889, \"fertility\": 2.2205}, {\"year\": 1955, \"country\": \"Costa Rica\", \"cluster\": 3, \"pop\": 1031782, \"life_expect\": 60.026, \"fertility\": 7.1135}, {\"year\": 1960, \"country\": \"Costa Rica\", \"cluster\": 3, \"pop\": 1248022, \"life_expect\": 62.842, \"fertility\": 7.2245}, {\"year\": 1965, \"country\": \"Costa Rica\", \"cluster\": 3, \"pop\": 1487605, \"life_expect\": 65.424, \"fertility\": 5.801}, {\"year\": 1970, \"country\": \"Costa Rica\", \"cluster\": 3, \"pop\": 1735523, \"life_expect\": 67.849, \"fertility\": 4.346}, {\"year\": 1975, \"country\": \"Costa Rica\", \"cluster\": 3, \"pop\": 1991580, \"life_expect\": 70.75, \"fertility\": 3.7755}, {\"year\": 1980, \"country\": \"Costa Rica\", \"cluster\": 3, \"pop\": 2299124, \"life_expect\": 73.45, \"fertility\": 3.527}, {\"year\": 1985, \"country\": \"Costa Rica\", \"cluster\": 3, \"pop\": 2643808, \"life_expect\": 74.752, \"fertility\": 3.374}, {\"year\": 1990, \"country\": \"Costa Rica\", \"cluster\": 3, \"pop\": 3027175, \"life_expect\": 75.713, \"fertility\": 2.9450000000000003}, {\"year\": 1995, \"country\": \"Costa Rica\", \"cluster\": 3, \"pop\": 3383786, \"life_expect\": 77.26, \"fertility\": 2.5835}, {\"year\": 2000, \"country\": \"Costa Rica\", \"cluster\": 3, \"pop\": 3710558, \"life_expect\": 78.123, \"fertility\": 2.2815}, {\"year\": 2005, \"country\": \"Costa Rica\", \"cluster\": 3, \"pop\": 4016173, \"life_expect\": 78.782, \"fertility\": 2.0985}, {\"year\": 1955, \"country\": \"Croatia\", \"cluster\": 1, \"pop\": 3955526, \"life_expect\": 64.77, \"fertility\": 2.42}, {\"year\": 1960, \"country\": \"Croatia\", \"cluster\": 1, \"pop\": 4036145, \"life_expect\": 67.13, \"fertility\": 2.27}, {\"year\": 1965, \"country\": \"Croatia\", \"cluster\": 1, \"pop\": 4133313, \"life_expect\": 68.5, \"fertility\": 2.09}, {\"year\": 1970, \"country\": \"Croatia\", \"cluster\": 1, \"pop\": 4205389, \"life_expect\": 69.61, \"fertility\": 1.96}, {\"year\": 1975, \"country\": \"Croatia\", \"cluster\": 1, \"pop\": 4255000, \"life_expect\": 70.64, \"fertility\": 2.02}, {\"year\": 1980, \"country\": \"Croatia\", \"cluster\": 1, \"pop\": 4383000, \"life_expect\": 70.46, \"fertility\": 1.96}, {\"year\": 1985, \"country\": \"Croatia\", \"cluster\": 1, \"pop\": 4457874, \"life_expect\": 71.52, \"fertility\": 1.8399999999999999}, {\"year\": 1990, \"country\": \"Croatia\", \"cluster\": 1, \"pop\": 4508347, \"life_expect\": 72.527, \"fertility\": 1.52}, {\"year\": 1995, \"country\": \"Croatia\", \"cluster\": 1, \"pop\": 4496683, \"life_expect\": 73.68, \"fertility\": 1.537}, {\"year\": 2000, \"country\": \"Croatia\", \"cluster\": 1, \"pop\": 4410830, \"life_expect\": 74.876, \"fertility\": 1.348}, {\"year\": 2005, \"country\": \"Croatia\", \"cluster\": 1, \"pop\": 4495904, \"life_expect\": 75.748, \"fertility\": 1.346}, {\"year\": 1955, \"country\": \"Cuba\", \"cluster\": 3, \"pop\": 6381106, \"life_expect\": 62.325, \"fertility\": 3.6995}, {\"year\": 1960, \"country\": \"Cuba\", \"cluster\": 3, \"pop\": 7027210, \"life_expect\": 65.246, \"fertility\": 4.6805}, {\"year\": 1965, \"country\": \"Cuba\", \"cluster\": 3, \"pop\": 7809916, \"life_expect\": 68.29, \"fertility\": 4.3}, {\"year\": 1970, \"country\": \"Cuba\", \"cluster\": 3, \"pop\": 8542746, \"life_expect\": 70.723, \"fertility\": 3.6}, {\"year\": 1975, \"country\": \"Cuba\", \"cluster\": 3, \"pop\": 9290074, \"life_expect\": 72.649, \"fertility\": 2.15}, {\"year\": 1980, \"country\": \"Cuba\", \"cluster\": 3, \"pop\": 9652975, \"life_expect\": 73.717, \"fertility\": 1.8495}, {\"year\": 1985, \"country\": \"Cuba\", \"cluster\": 3, \"pop\": 10078658, \"life_expect\": 74.174, \"fertility\": 1.8495}, {\"year\": 1990, \"country\": \"Cuba\", \"cluster\": 3, \"pop\": 10544793, \"life_expect\": 74.414, \"fertility\": 1.6505}, {\"year\": 1995, \"country\": \"Cuba\", \"cluster\": 3, \"pop\": 10896802, \"life_expect\": 76.151, \"fertility\": 1.6095000000000002}, {\"year\": 2000, \"country\": \"Cuba\", \"cluster\": 3, \"pop\": 11134273, \"life_expect\": 77.158, \"fertility\": 1.63}, {\"year\": 2005, \"country\": \"Cuba\", \"cluster\": 3, \"pop\": 11346670, \"life_expect\": 78.273, \"fertility\": 1.49}, {\"year\": 1955, \"country\": \"Dominican Republic\", \"cluster\": 3, \"pop\": 2737257, \"life_expect\": 49.828, \"fertility\": 7.6405}, {\"year\": 1960, \"country\": \"Dominican Republic\", \"cluster\": 3, \"pop\": 3231488, \"life_expect\": 53.459, \"fertility\": 7.3505}, {\"year\": 1965, \"country\": \"Dominican Republic\", \"cluster\": 3, \"pop\": 3805881, \"life_expect\": 56.751, \"fertility\": 6.6495}, {\"year\": 1970, \"country\": \"Dominican Republic\", \"cluster\": 3, \"pop\": 4422755, \"life_expect\": 59.631, \"fertility\": 5.71}, {\"year\": 1975, \"country\": \"Dominican Republic\", \"cluster\": 3, \"pop\": 5048499, \"life_expect\": 61.788, \"fertility\": 4.76}, {\"year\": 1980, \"country\": \"Dominican Republic\", \"cluster\": 3, \"pop\": 5696855, \"life_expect\": 63.727, \"fertility\": 4.0}, {\"year\": 1985, \"country\": \"Dominican Republic\", \"cluster\": 3, \"pop\": 6377765, \"life_expect\": 66.046, \"fertility\": 3.47}, {\"year\": 1990, \"country\": \"Dominican Republic\", \"cluster\": 3, \"pop\": 7077651, \"life_expect\": 68.457, \"fertility\": 3.1995}, {\"year\": 1995, \"country\": \"Dominican Republic\", \"cluster\": 3, \"pop\": 7730224, \"life_expect\": 69.957, \"fertility\": 3.05}, {\"year\": 2000, \"country\": \"Dominican Republic\", \"cluster\": 3, \"pop\": 8385828, \"life_expect\": 70.847, \"fertility\": 2.95}, {\"year\": 2005, \"country\": \"Dominican Republic\", \"cluster\": 3, \"pop\": 9049595, \"life_expect\": 72.235, \"fertility\": 2.81}, {\"year\": 1955, \"country\": \"Ecuador\", \"cluster\": 3, \"pop\": 3842399, \"life_expect\": 51.356, \"fertility\": 6.7}, {\"year\": 1960, \"country\": \"Ecuador\", \"cluster\": 3, \"pop\": 4415956, \"life_expect\": 54.64, \"fertility\": 6.7}, {\"year\": 1965, \"country\": \"Ecuador\", \"cluster\": 3, \"pop\": 5117779, \"life_expect\": 56.678, \"fertility\": 6.5}, {\"year\": 1970, \"country\": \"Ecuador\", \"cluster\": 3, \"pop\": 5939246, \"life_expect\": 58.796, \"fertility\": 6.0005}, {\"year\": 1975, \"country\": \"Ecuador\", \"cluster\": 3, \"pop\": 6871698, \"life_expect\": 61.31, \"fertility\": 5.4005}, {\"year\": 1980, \"country\": \"Ecuador\", \"cluster\": 3, \"pop\": 7920499, \"life_expect\": 64.342, \"fertility\": 4.7005}, {\"year\": 1985, \"country\": \"Ecuador\", \"cluster\": 3, \"pop\": 9061664, \"life_expect\": 67.231, \"fertility\": 4.0}, {\"year\": 1990, \"country\": \"Ecuador\", \"cluster\": 3, \"pop\": 10318036, \"life_expect\": 69.613, \"fertility\": 3.4005}, {\"year\": 1995, \"country\": \"Ecuador\", \"cluster\": 3, \"pop\": 11438004, \"life_expect\": 72.312, \"fertility\": 3.1}, {\"year\": 2000, \"country\": \"Ecuador\", \"cluster\": 3, \"pop\": 12505204, \"life_expect\": 74.173, \"fertility\": 2.8175}, {\"year\": 2005, \"country\": \"Ecuador\", \"cluster\": 3, \"pop\": 13363593, \"life_expect\": 74.994, \"fertility\": 2.578}, {\"year\": 1955, \"country\": \"Egypt\", \"cluster\": 5, \"pop\": 23855527, \"life_expect\": 44.444, \"fertility\": 6.97}, {\"year\": 1960, \"country\": \"Egypt\", \"cluster\": 5, \"pop\": 26846610, \"life_expect\": 46.992, \"fertility\": 7.073}, {\"year\": 1965, \"country\": \"Egypt\", \"cluster\": 5, \"pop\": 30265148, \"life_expect\": 49.293, \"fertility\": 6.5600000000000005}, {\"year\": 1970, \"country\": \"Egypt\", \"cluster\": 5, \"pop\": 33574026, \"life_expect\": 51.137, \"fertility\": 5.855}, {\"year\": 1975, \"country\": \"Egypt\", \"cluster\": 5, \"pop\": 36952499, \"life_expect\": 53.319, \"fertility\": 5.609}, {\"year\": 1980, \"country\": \"Egypt\", \"cluster\": 5, \"pop\": 42634215, \"life_expect\": 56.006, \"fertility\": 5.332}, {\"year\": 1985, \"country\": \"Egypt\", \"cluster\": 5, \"pop\": 50052381, \"life_expect\": 59.797, \"fertility\": 4.833}, {\"year\": 1990, \"country\": \"Egypt\", \"cluster\": 5, \"pop\": 56694413, \"life_expect\": 63.674, \"fertility\": 3.908}, {\"year\": 1995, \"country\": \"Egypt\", \"cluster\": 5, \"pop\": 63321615, \"life_expect\": 67.217, \"fertility\": 3.5}, {\"year\": 2000, \"country\": \"Egypt\", \"cluster\": 5, \"pop\": 70492342, \"life_expect\": 69.806, \"fertility\": 3.174}, {\"year\": 2005, \"country\": \"Egypt\", \"cluster\": 5, \"pop\": 77505756, \"life_expect\": 71.338, \"fertility\": 2.891}, {\"year\": 1955, \"country\": \"El Salvador\", \"cluster\": 3, \"pop\": 2221139, \"life_expect\": 48.57, \"fertility\": 6.8065}, {\"year\": 1960, \"country\": \"El Salvador\", \"cluster\": 3, \"pop\": 2581583, \"life_expect\": 52.307, \"fertility\": 6.8469999999999995}, {\"year\": 1965, \"country\": \"El Salvador\", \"cluster\": 3, \"pop\": 3017852, \"life_expect\": 55.855, \"fertility\": 6.621}, {\"year\": 1970, \"country\": \"El Salvador\", \"cluster\": 3, \"pop\": 3603907, \"life_expect\": 58.207, \"fertility\": 6.0995}, {\"year\": 1975, \"country\": \"El Salvador\", \"cluster\": 3, \"pop\": 4071179, \"life_expect\": 56.696, \"fertility\": 5.5996}, {\"year\": 1980, \"country\": \"El Salvador\", \"cluster\": 3, \"pop\": 4566199, \"life_expect\": 56.604, \"fertility\": 4.5}, {\"year\": 1985, \"country\": \"El Salvador\", \"cluster\": 3, \"pop\": 4664361, \"life_expect\": 63.154, \"fertility\": 3.901}, {\"year\": 1990, \"country\": \"El Salvador\", \"cluster\": 3, \"pop\": 5099884, \"life_expect\": 66.798, \"fertility\": 3.52}, {\"year\": 1995, \"country\": \"El Salvador\", \"cluster\": 3, \"pop\": 5568437, \"life_expect\": 69.535, \"fertility\": 3.17}, {\"year\": 2000, \"country\": \"El Salvador\", \"cluster\": 3, \"pop\": 6122515, \"life_expect\": 70.734, \"fertility\": 2.883}, {\"year\": 2005, \"country\": \"El Salvador\", \"cluster\": 3, \"pop\": 6704932, \"life_expect\": 71.878, \"fertility\": 2.6825}, {\"year\": 1955, \"country\": \"Finland\", \"cluster\": 1, \"pop\": 4234900, \"life_expect\": 67.49, \"fertility\": 2.769}, {\"year\": 1960, \"country\": \"Finland\", \"cluster\": 1, \"pop\": 4429600, \"life_expect\": 68.75, \"fertility\": 2.66}, {\"year\": 1965, \"country\": \"Finland\", \"cluster\": 1, \"pop\": 4563732, \"life_expect\": 69.83, \"fertility\": 2.191}, {\"year\": 1970, \"country\": \"Finland\", \"cluster\": 1, \"pop\": 4606307, \"life_expect\": 70.87, \"fertility\": 1.623}, {\"year\": 1975, \"country\": \"Finland\", \"cluster\": 1, \"pop\": 4711439, \"life_expect\": 72.52, \"fertility\": 1.663}, {\"year\": 1980, \"country\": \"Finland\", \"cluster\": 1, \"pop\": 4779535, \"life_expect\": 74.55, \"fertility\": 1.685}, {\"year\": 1985, \"country\": \"Finland\", \"cluster\": 1, \"pop\": 4901783, \"life_expect\": 74.83, \"fertility\": 1.6600000000000001}, {\"year\": 1990, \"country\": \"Finland\", \"cluster\": 1, \"pop\": 4986431, \"life_expect\": 75.7, \"fertility\": 1.819}, {\"year\": 1995, \"country\": \"Finland\", \"cluster\": 1, \"pop\": 5104654, \"life_expect\": 77.13, \"fertility\": 1.7429999999999999}, {\"year\": 2000, \"country\": \"Finland\", \"cluster\": 1, \"pop\": 5168595, \"life_expect\": 78.37, \"fertility\": 1.754}, {\"year\": 2005, \"country\": \"Finland\", \"cluster\": 1, \"pop\": 5223442, \"life_expect\": 79.313, \"fertility\": 1.8250000000000002}, {\"year\": 1955, \"country\": \"France\", \"cluster\": 1, \"pop\": 43427669, \"life_expect\": 68.93, \"fertility\": 2.7119999999999997}, {\"year\": 1960, \"country\": \"France\", \"cluster\": 1, \"pop\": 45670000, \"life_expect\": 70.51, \"fertility\": 2.85}, {\"year\": 1965, \"country\": \"France\", \"cluster\": 1, \"pop\": 48763000, \"life_expect\": 71.55, \"fertility\": 2.607}, {\"year\": 1970, \"country\": \"France\", \"cluster\": 1, \"pop\": 50787000, \"life_expect\": 72.38, \"fertility\": 2.31}, {\"year\": 1975, \"country\": \"France\", \"cluster\": 1, \"pop\": 52758427, \"life_expect\": 73.83, \"fertility\": 1.862}, {\"year\": 1980, \"country\": \"France\", \"cluster\": 1, \"pop\": 53869743, \"life_expect\": 74.89, \"fertility\": 1.866}, {\"year\": 1985, \"country\": \"France\", \"cluster\": 1, \"pop\": 55171224, \"life_expect\": 76.34, \"fertility\": 1.8050000000000002}, {\"year\": 1990, \"country\": \"France\", \"cluster\": 1, \"pop\": 56735161, \"life_expect\": 77.46, \"fertility\": 1.713}, {\"year\": 1995, \"country\": \"France\", \"cluster\": 1, \"pop\": 58149727, \"life_expect\": 78.64, \"fertility\": 1.7624}, {\"year\": 2000, \"country\": \"France\", \"cluster\": 1, \"pop\": 59381628, \"life_expect\": 79.59, \"fertility\": 1.8833000000000002}, {\"year\": 2005, \"country\": \"France\", \"cluster\": 1, \"pop\": 60656178, \"life_expect\": 80.657, \"fertility\": 1.8916}, {\"year\": 1955, \"country\": \"Georgia\", \"cluster\": 1, \"pop\": 3827154, \"life_expect\": 62.625, \"fertility\": 2.909}, {\"year\": 1960, \"country\": \"Georgia\", \"cluster\": 1, \"pop\": 4146570, \"life_expect\": 64.644, \"fertility\": 2.979}, {\"year\": 1965, \"country\": \"Georgia\", \"cluster\": 1, \"pop\": 4464959, \"life_expect\": 66.654, \"fertility\": 2.6109999999999998}, {\"year\": 1970, \"country\": \"Georgia\", \"cluster\": 1, \"pop\": 4694491, \"life_expect\": 68.158, \"fertility\": 2.601}, {\"year\": 1975, \"country\": \"Georgia\", \"cluster\": 1, \"pop\": 4897656, \"life_expect\": 69.634, \"fertility\": 2.39}, {\"year\": 1980, \"country\": \"Georgia\", \"cluster\": 1, \"pop\": 5045697, \"life_expect\": 69.638, \"fertility\": 2.269}, {\"year\": 1985, \"country\": \"Georgia\", \"cluster\": 1, \"pop\": 5192957, \"life_expect\": 70.45, \"fertility\": 2.263}, {\"year\": 1990, \"country\": \"Georgia\", \"cluster\": 1, \"pop\": 5426207, \"life_expect\": 70.465, \"fertility\": 1.9500000000000002}, {\"year\": 1995, \"country\": \"Georgia\", \"cluster\": 1, \"pop\": 5012952, \"life_expect\": 70.49, \"fertility\": 1.58}, {\"year\": 2000, \"country\": \"Georgia\", \"cluster\": 1, \"pop\": 4777209, \"life_expect\": 70.476, \"fertility\": 1.478}, {\"year\": 2005, \"country\": \"Georgia\", \"cluster\": 1, \"pop\": 4677401, \"life_expect\": 70.987, \"fertility\": 1.407}, {\"year\": 1955, \"country\": \"Germany\", \"cluster\": 1, \"pop\": 70195612, \"life_expect\": 69.1, \"fertility\": 2.3}, {\"year\": 1960, \"country\": \"Germany\", \"cluster\": 1, \"pop\": 72480869, \"life_expect\": 70.3, \"fertility\": 2.49}, {\"year\": 1965, \"country\": \"Germany\", \"cluster\": 1, \"pop\": 75638851, \"life_expect\": 70.8, \"fertility\": 2.32}, {\"year\": 1970, \"country\": \"Germany\", \"cluster\": 1, \"pop\": 77783164, \"life_expect\": 71.0, \"fertility\": 1.6400000000000001}, {\"year\": 1975, \"country\": \"Germany\", \"cluster\": 1, \"pop\": 78682325, \"life_expect\": 72.5, \"fertility\": 1.52}, {\"year\": 1980, \"country\": \"Germany\", \"cluster\": 1, \"pop\": 78297904, \"life_expect\": 73.8, \"fertility\": 1.46}, {\"year\": 1985, \"country\": \"Germany\", \"cluster\": 1, \"pop\": 77684907, \"life_expect\": 74.847, \"fertility\": 1.43}, {\"year\": 1990, \"country\": \"Germany\", \"cluster\": 1, \"pop\": 79380394, \"life_expect\": 76.07, \"fertility\": 1.31}, {\"year\": 1995, \"country\": \"Germany\", \"cluster\": 1, \"pop\": 81653702, \"life_expect\": 77.34, \"fertility\": 1.34}, {\"year\": 2000, \"country\": \"Germany\", \"cluster\": 1, \"pop\": 82187909, \"life_expect\": 78.67, \"fertility\": 1.346}, {\"year\": 2005, \"country\": \"Germany\", \"cluster\": 1, \"pop\": 82431390, \"life_expect\": 79.406, \"fertility\": 1.3599999999999999}, {\"year\": 1955, \"country\": \"Greece\", \"cluster\": 1, \"pop\": 7965538, \"life_expect\": 67.86, \"fertility\": 2.27}, {\"year\": 1960, \"country\": \"Greece\", \"cluster\": 1, \"pop\": 8327405, \"life_expect\": 69.51, \"fertility\": 2.2}, {\"year\": 1965, \"country\": \"Greece\", \"cluster\": 1, \"pop\": 8550333, \"life_expect\": 71.0, \"fertility\": 2.38}, {\"year\": 1970, \"country\": \"Greece\", \"cluster\": 1, \"pop\": 8792806, \"life_expect\": 72.34, \"fertility\": 2.32}, {\"year\": 1975, \"country\": \"Greece\", \"cluster\": 1, \"pop\": 9046542, \"life_expect\": 73.68, \"fertility\": 2.32}, {\"year\": 1980, \"country\": \"Greece\", \"cluster\": 1, \"pop\": 9642505, \"life_expect\": 75.24, \"fertility\": 1.96}, {\"year\": 1985, \"country\": \"Greece\", \"cluster\": 1, \"pop\": 9923253, \"life_expect\": 76.67, \"fertility\": 1.53}, {\"year\": 1990, \"country\": \"Greece\", \"cluster\": 1, \"pop\": 10129603, \"life_expect\": 77.03, \"fertility\": 1.37}, {\"year\": 1995, \"country\": \"Greece\", \"cluster\": 1, \"pop\": 10457554, \"life_expect\": 77.869, \"fertility\": 1.296}, {\"year\": 2000, \"country\": \"Greece\", \"cluster\": 1, \"pop\": 10559110, \"life_expect\": 78.256, \"fertility\": 1.2770000000000001}, {\"year\": 2005, \"country\": \"Greece\", \"cluster\": 1, \"pop\": 10668354, \"life_expect\": 79.483, \"fertility\": 1.325}, {\"year\": 1955, \"country\": \"Grenada\", \"cluster\": 3, \"pop\": 84621, \"life_expect\": 63.114, \"fertility\": 6.7}, {\"year\": 1960, \"country\": \"Grenada\", \"cluster\": 3, \"pop\": 90148, \"life_expect\": 63.608, \"fertility\": 6.4}, {\"year\": 1965, \"country\": \"Grenada\", \"cluster\": 3, \"pop\": 93290, \"life_expect\": 64.091, \"fertility\": 4.8}, {\"year\": 1970, \"country\": \"Grenada\", \"cluster\": 3, \"pop\": 95410, \"life_expect\": 64.577, \"fertility\": 4.6}, {\"year\": 1975, \"country\": \"Grenada\", \"cluster\": 3, \"pop\": 95819, \"life_expect\": 65.035, \"fertility\": 4.3}, {\"year\": 1980, \"country\": \"Grenada\", \"cluster\": 3, \"pop\": 90164, \"life_expect\": 65.503, \"fertility\": 4.23}, {\"year\": 1985, \"country\": \"Grenada\", \"cluster\": 3, \"pop\": 92203, \"life_expect\": 66.002, \"fertility\": 4.14}, {\"year\": 1990, \"country\": \"Grenada\", \"cluster\": 3, \"pop\": 92360, \"life_expect\": 66.469, \"fertility\": 3.26}, {\"year\": 1995, \"country\": \"Grenada\", \"cluster\": 3, \"pop\": 90603, \"life_expect\": 66.986, \"fertility\": 2.814}, {\"year\": 2000, \"country\": \"Grenada\", \"cluster\": 3, \"pop\": 89312, \"life_expect\": 67.746, \"fertility\": 2.429}, {\"year\": 2005, \"country\": \"Grenada\", \"cluster\": 3, \"pop\": 89502, \"life_expect\": 68.724, \"fertility\": 2.302}, {\"year\": 1955, \"country\": \"Haiti\", \"cluster\": 3, \"pop\": 3376419, \"life_expect\": 40.696, \"fertility\": 6.3}, {\"year\": 1960, \"country\": \"Haiti\", \"cluster\": 3, \"pop\": 3722743, \"life_expect\": 43.59, \"fertility\": 6.3}, {\"year\": 1965, \"country\": \"Haiti\", \"cluster\": 3, \"pop\": 4137405, \"life_expect\": 46.243, \"fertility\": 6.0}, {\"year\": 1970, \"country\": \"Haiti\", \"cluster\": 3, \"pop\": 4604915, \"life_expect\": 48.042, \"fertility\": 5.6005}, {\"year\": 1975, \"country\": \"Haiti\", \"cluster\": 3, \"pop\": 4828338, \"life_expect\": 49.923, \"fertility\": 5.8}, {\"year\": 1980, \"country\": \"Haiti\", \"cluster\": 3, \"pop\": 5029725, \"life_expect\": 51.461, \"fertility\": 6.2099}, {\"year\": 1985, \"country\": \"Haiti\", \"cluster\": 3, \"pop\": 5517977, \"life_expect\": 53.636, \"fertility\": 5.69985}, {\"year\": 1990, \"country\": \"Haiti\", \"cluster\": 3, \"pop\": 6126101, \"life_expect\": 55.089, \"fertility\": 5.14985}, {\"year\": 1995, \"country\": \"Haiti\", \"cluster\": 3, \"pop\": 6675578, \"life_expect\": 56.671, \"fertility\": 4.61995}, {\"year\": 2000, \"country\": \"Haiti\", \"cluster\": 3, \"pop\": 7306302, \"life_expect\": 58.137, \"fertility\": 4.0}, {\"year\": 2005, \"country\": \"Haiti\", \"cluster\": 3, \"pop\": 8121622, \"life_expect\": 60.916, \"fertility\": 3.5445}, {\"year\": 1955, \"country\": \"Hong Kong\", \"cluster\": 4, \"pop\": 2490400, \"life_expect\": 64.75, \"fertility\": 4.72}, {\"year\": 1960, \"country\": \"Hong Kong\", \"cluster\": 4, \"pop\": 3075300, \"life_expect\": 67.65, \"fertility\": 5.31}, {\"year\": 1965, \"country\": \"Hong Kong\", \"cluster\": 4, \"pop\": 3597900, \"life_expect\": 70.0, \"fertility\": 4.02}, {\"year\": 1970, \"country\": \"Hong Kong\", \"cluster\": 4, \"pop\": 3959000, \"life_expect\": 72.0, \"fertility\": 2.89}, {\"year\": 1975, \"country\": \"Hong Kong\", \"cluster\": 4, \"pop\": 4395800, \"life_expect\": 73.6, \"fertility\": 2.32}, {\"year\": 1980, \"country\": \"Hong Kong\", \"cluster\": 4, \"pop\": 5063100, \"life_expect\": 75.45, \"fertility\": 1.8}, {\"year\": 1985, \"country\": \"Hong Kong\", \"cluster\": 4, \"pop\": 5456200, \"life_expect\": 76.2, \"fertility\": 1.31}, {\"year\": 1990, \"country\": \"Hong Kong\", \"cluster\": 4, \"pop\": 5687959, \"life_expect\": 77.601, \"fertility\": 1.288}, {\"year\": 1995, \"country\": \"Hong Kong\", \"cluster\": 4, \"pop\": 6225347, \"life_expect\": 80.0, \"fertility\": 1.08}, {\"year\": 2000, \"country\": \"Hong Kong\", \"cluster\": 4, \"pop\": 6658720, \"life_expect\": 81.495, \"fertility\": 0.9400000000000001}, {\"year\": 2005, \"country\": \"Hong Kong\", \"cluster\": 4, \"pop\": 6898686, \"life_expect\": 82.208, \"fertility\": 0.966}, {\"year\": 1955, \"country\": \"Iceland\", \"cluster\": 1, \"pop\": 158044, \"life_expect\": 73.47, \"fertility\": 4.023}, {\"year\": 1960, \"country\": \"Iceland\", \"cluster\": 1, \"pop\": 175860, \"life_expect\": 73.68, \"fertility\": 3.943}, {\"year\": 1965, \"country\": \"Iceland\", \"cluster\": 1, \"pop\": 192288, \"life_expect\": 73.73, \"fertility\": 3.154}, {\"year\": 1970, \"country\": \"Iceland\", \"cluster\": 1, \"pop\": 204104, \"life_expect\": 74.46, \"fertility\": 2.843}, {\"year\": 1975, \"country\": \"Iceland\", \"cluster\": 1, \"pop\": 218031, \"life_expect\": 76.11, \"fertility\": 2.287}, {\"year\": 1980, \"country\": \"Iceland\", \"cluster\": 1, \"pop\": 228161, \"life_expect\": 76.99, \"fertility\": 2.248}, {\"year\": 1985, \"country\": \"Iceland\", \"cluster\": 1, \"pop\": 241403, \"life_expect\": 77.23, \"fertility\": 2.116}, {\"year\": 1990, \"country\": \"Iceland\", \"cluster\": 1, \"pop\": 254719, \"life_expect\": 78.77, \"fertility\": 2.194}, {\"year\": 1995, \"country\": \"Iceland\", \"cluster\": 1, \"pop\": 267527, \"life_expect\": 78.95, \"fertility\": 2.056}, {\"year\": 2000, \"country\": \"Iceland\", \"cluster\": 1, \"pop\": 281043, \"life_expect\": 80.5, \"fertility\": 1.9929999999999999}, {\"year\": 2005, \"country\": \"Iceland\", \"cluster\": 1, \"pop\": 296737, \"life_expect\": 81.757, \"fertility\": 2.052}, {\"year\": 1955, \"country\": \"India\", \"cluster\": 0, \"pop\": 393000000, \"life_expect\": 40.249, \"fertility\": 5.8961}, {\"year\": 1960, \"country\": \"India\", \"cluster\": 0, \"pop\": 434000000, \"life_expect\": 43.605, \"fertility\": 5.8216}, {\"year\": 1965, \"country\": \"India\", \"cluster\": 0, \"pop\": 485000000, \"life_expect\": 47.193, \"fertility\": 5.6058}, {\"year\": 1970, \"country\": \"India\", \"cluster\": 0, \"pop\": 541000000, \"life_expect\": 50.651, \"fertility\": 5.264}, {\"year\": 1975, \"country\": \"India\", \"cluster\": 0, \"pop\": 607000000, \"life_expect\": 54.208, \"fertility\": 4.8888}, {\"year\": 1980, \"country\": \"India\", \"cluster\": 0, \"pop\": 679000000, \"life_expect\": 56.596, \"fertility\": 4.4975}, {\"year\": 1985, \"country\": \"India\", \"cluster\": 0, \"pop\": 755000000, \"life_expect\": 58.553, \"fertility\": 4.15}, {\"year\": 1990, \"country\": \"India\", \"cluster\": 0, \"pop\": 839000000, \"life_expect\": 60.223, \"fertility\": 3.8648}, {\"year\": 1995, \"country\": \"India\", \"cluster\": 0, \"pop\": 927000000, \"life_expect\": 61.765, \"fertility\": 3.4551}, {\"year\": 2000, \"country\": \"India\", \"cluster\": 0, \"pop\": 1007702000, \"life_expect\": 62.879, \"fertility\": 3.1132}, {\"year\": 2005, \"country\": \"India\", \"cluster\": 0, \"pop\": 1080264388, \"life_expect\": 64.698, \"fertility\": 2.8073}, {\"year\": 1955, \"country\": \"Indonesia\", \"cluster\": 4, \"pop\": 86807000, \"life_expect\": 39.918, \"fertility\": 5.672}, {\"year\": 1960, \"country\": \"Indonesia\", \"cluster\": 4, \"pop\": 95254000, \"life_expect\": 42.518, \"fertility\": 5.62}, {\"year\": 1965, \"country\": \"Indonesia\", \"cluster\": 4, \"pop\": 105093000, \"life_expect\": 45.964, \"fertility\": 5.568}, {\"year\": 1970, \"country\": \"Indonesia\", \"cluster\": 4, \"pop\": 116044000, \"life_expect\": 49.203, \"fertility\": 5.3}, {\"year\": 1975, \"country\": \"Indonesia\", \"cluster\": 4, \"pop\": 130297000, \"life_expect\": 52.702, \"fertility\": 4.73}, {\"year\": 1980, \"country\": \"Indonesia\", \"cluster\": 4, \"pop\": 146995000, \"life_expect\": 56.159, \"fertility\": 4.109}, {\"year\": 1985, \"country\": \"Indonesia\", \"cluster\": 4, \"pop\": 163403000, \"life_expect\": 60.137, \"fertility\": 3.4}, {\"year\": 1990, \"country\": \"Indonesia\", \"cluster\": 4, \"pop\": 178500000, \"life_expect\": 62.681, \"fertility\": 2.9}, {\"year\": 1995, \"country\": \"Indonesia\", \"cluster\": 4, \"pop\": 194755000, \"life_expect\": 66.041, \"fertility\": 2.55}, {\"year\": 2000, \"country\": \"Indonesia\", \"cluster\": 4, \"pop\": 206265000, \"life_expect\": 68.588, \"fertility\": 2.3761}, {\"year\": 2005, \"country\": \"Indonesia\", \"cluster\": 4, \"pop\": 218465000, \"life_expect\": 70.65, \"fertility\": 2.182}, {\"year\": 1955, \"country\": \"Iran\", \"cluster\": 5, \"pop\": 18729000, \"life_expect\": 47.181, \"fertility\": 7.0}, {\"year\": 1960, \"country\": \"Iran\", \"cluster\": 5, \"pop\": 21577000, \"life_expect\": 49.325, \"fertility\": 7.0}, {\"year\": 1965, \"country\": \"Iran\", \"cluster\": 5, \"pop\": 25000000, \"life_expect\": 52.469, \"fertility\": 6.8}, {\"year\": 1970, \"country\": \"Iran\", \"cluster\": 5, \"pop\": 28933000, \"life_expect\": 55.234, \"fertility\": 6.4}, {\"year\": 1975, \"country\": \"Iran\", \"cluster\": 5, \"pop\": 33379000, \"life_expect\": 57.702, \"fertility\": 6.5}, {\"year\": 1980, \"country\": \"Iran\", \"cluster\": 5, \"pop\": 39583397, \"life_expect\": 59.62, \"fertility\": 6.63}, {\"year\": 1985, \"country\": \"Iran\", \"cluster\": 5, \"pop\": 48439952, \"life_expect\": 63.04, \"fertility\": 5.62}, {\"year\": 1990, \"country\": \"Iran\", \"cluster\": 5, \"pop\": 57035717, \"life_expect\": 65.742, \"fertility\": 4.328}, {\"year\": 1995, \"country\": \"Iran\", \"cluster\": 5, \"pop\": 61628116, \"life_expect\": 68.042, \"fertility\": 2.534}, {\"year\": 2000, \"country\": \"Iran\", \"cluster\": 5, \"pop\": 65660289, \"life_expect\": 69.451, \"fertility\": 2.124}, {\"year\": 2005, \"country\": \"Iran\", \"cluster\": 5, \"pop\": 68017860, \"life_expect\": 70.964, \"fertility\": 2.04}, {\"year\": 1955, \"country\": \"Iraq\", \"cluster\": 5, \"pop\": 5903253, \"life_expect\": 48.437, \"fertility\": 7.3}, {\"year\": 1960, \"country\": \"Iraq\", \"cluster\": 5, \"pop\": 6822030, \"life_expect\": 51.457, \"fertility\": 7.25}, {\"year\": 1965, \"country\": \"Iraq\", \"cluster\": 5, \"pop\": 7970746, \"life_expect\": 54.459, \"fertility\": 7.2}, {\"year\": 1970, \"country\": \"Iraq\", \"cluster\": 5, \"pop\": 9413671, \"life_expect\": 56.95, \"fertility\": 7.15}, {\"year\": 1975, \"country\": \"Iraq\", \"cluster\": 5, \"pop\": 11117804, \"life_expect\": 60.413, \"fertility\": 6.8}, {\"year\": 1980, \"country\": \"Iraq\", \"cluster\": 5, \"pop\": 13232839, \"life_expect\": 62.038, \"fertility\": 6.35}, {\"year\": 1985, \"country\": \"Iraq\", \"cluster\": 5, \"pop\": 15693620, \"life_expect\": 65.044, \"fertility\": 6.15}, {\"year\": 1990, \"country\": \"Iraq\", \"cluster\": 5, \"pop\": 18134702, \"life_expect\": 59.461, \"fertility\": 5.7}, {\"year\": 1995, \"country\": \"Iraq\", \"cluster\": 5, \"pop\": 19557247, \"life_expect\": 58.811, \"fertility\": 5.37}, {\"year\": 2000, \"country\": \"Iraq\", \"cluster\": 5, \"pop\": 22675617, \"life_expect\": 57.046, \"fertility\": 4.858}, {\"year\": 2005, \"country\": \"Iraq\", \"cluster\": 5, \"pop\": 26074906, \"life_expect\": 59.545, \"fertility\": 4.264}, {\"year\": 1955, \"country\": \"Ireland\", \"cluster\": 1, \"pop\": 2916133, \"life_expect\": 68.9, \"fertility\": 3.68}, {\"year\": 1960, \"country\": \"Ireland\", \"cluster\": 1, \"pop\": 2832000, \"life_expect\": 70.29, \"fertility\": 3.979}, {\"year\": 1965, \"country\": \"Ireland\", \"cluster\": 1, \"pop\": 2876000, \"life_expect\": 71.08, \"fertility\": 3.873}, {\"year\": 1970, \"country\": \"Ireland\", \"cluster\": 1, \"pop\": 2950100, \"life_expect\": 71.28, \"fertility\": 3.815}, {\"year\": 1975, \"country\": \"Ireland\", \"cluster\": 1, \"pop\": 3177300, \"life_expect\": 72.03, \"fertility\": 3.478}, {\"year\": 1980, \"country\": \"Ireland\", \"cluster\": 1, \"pop\": 3401000, \"life_expect\": 73.1, \"fertility\": 2.877}, {\"year\": 1985, \"country\": \"Ireland\", \"cluster\": 1, \"pop\": 3540000, \"life_expect\": 74.36, \"fertility\": 2.287}, {\"year\": 1990, \"country\": \"Ireland\", \"cluster\": 1, \"pop\": 3508200, \"life_expect\": 75.467, \"fertility\": 1.9689999999999999}, {\"year\": 1995, \"country\": \"Ireland\", \"cluster\": 1, \"pop\": 3613890, \"life_expect\": 76.122, \"fertility\": 1.9}, {\"year\": 2000, \"country\": \"Ireland\", \"cluster\": 1, \"pop\": 3791690, \"life_expect\": 77.783, \"fertility\": 1.9689999999999999}, {\"year\": 2005, \"country\": \"Ireland\", \"cluster\": 1, \"pop\": 4015676, \"life_expect\": 78.885, \"fertility\": 1.964}, {\"year\": 1955, \"country\": \"Israel\", \"cluster\": 5, \"pop\": 1772032, \"life_expect\": 67.84, \"fertility\": 3.893}, {\"year\": 1960, \"country\": \"Israel\", \"cluster\": 5, \"pop\": 2141495, \"life_expect\": 69.39, \"fertility\": 3.852}, {\"year\": 1965, \"country\": \"Israel\", \"cluster\": 5, \"pop\": 2578184, \"life_expect\": 70.75, \"fertility\": 3.79}, {\"year\": 1970, \"country\": \"Israel\", \"cluster\": 5, \"pop\": 2903434, \"life_expect\": 71.63, \"fertility\": 3.77}, {\"year\": 1975, \"country\": \"Israel\", \"cluster\": 5, \"pop\": 3354242, \"life_expect\": 73.06, \"fertility\": 3.409}, {\"year\": 1980, \"country\": \"Israel\", \"cluster\": 5, \"pop\": 3737473, \"life_expect\": 74.45, \"fertility\": 3.125}, {\"year\": 1985, \"country\": \"Israel\", \"cluster\": 5, \"pop\": 4074965, \"life_expect\": 75.6, \"fertility\": 3.051}, {\"year\": 1990, \"country\": \"Israel\", \"cluster\": 5, \"pop\": 4512068, \"life_expect\": 76.93, \"fertility\": 2.933}, {\"year\": 1995, \"country\": \"Israel\", \"cluster\": 5, \"pop\": 5305120, \"life_expect\": 78.269, \"fertility\": 2.942}, {\"year\": 2000, \"country\": \"Israel\", \"cluster\": 5, \"pop\": 5842454, \"life_expect\": 79.696, \"fertility\": 2.906}, {\"year\": 2005, \"country\": \"Israel\", \"cluster\": 5, \"pop\": 6276883, \"life_expect\": 80.745, \"fertility\": 2.75}, {\"year\": 1955, \"country\": \"Italy\", \"cluster\": 1, \"pop\": 48633000, \"life_expect\": 67.81, \"fertility\": 2.35}, {\"year\": 1960, \"country\": \"Italy\", \"cluster\": 1, \"pop\": 50197600, \"life_expect\": 69.24, \"fertility\": 2.498}, {\"year\": 1965, \"country\": \"Italy\", \"cluster\": 1, \"pop\": 51987100, \"life_expect\": 71.06, \"fertility\": 2.493}, {\"year\": 1970, \"country\": \"Italy\", \"cluster\": 1, \"pop\": 53661100, \"life_expect\": 72.19, \"fertility\": 2.325}, {\"year\": 1975, \"country\": \"Italy\", \"cluster\": 1, \"pop\": 55571894, \"life_expect\": 73.48, \"fertility\": 1.889}, {\"year\": 1980, \"country\": \"Italy\", \"cluster\": 1, \"pop\": 56451247, \"life_expect\": 74.98, \"fertility\": 1.53}, {\"year\": 1985, \"country\": \"Italy\", \"cluster\": 1, \"pop\": 56731215, \"life_expect\": 76.42, \"fertility\": 1.349}, {\"year\": 1990, \"country\": \"Italy\", \"cluster\": 1, \"pop\": 56742886, \"life_expect\": 77.44, \"fertility\": 1.275}, {\"year\": 1995, \"country\": \"Italy\", \"cluster\": 1, \"pop\": 57274531, \"life_expect\": 78.82, \"fertility\": 1.213}, {\"year\": 2000, \"country\": \"Italy\", \"cluster\": 1, \"pop\": 57719337, \"life_expect\": 80.24, \"fertility\": 1.286}, {\"year\": 2005, \"country\": \"Italy\", \"cluster\": 1, \"pop\": 58103033, \"life_expect\": 80.546, \"fertility\": 1.379}, {\"year\": 1955, \"country\": \"Jamaica\", \"cluster\": 3, \"pop\": 1488805, \"life_expect\": 62.61, \"fertility\": 5.08}, {\"year\": 1960, \"country\": \"Jamaica\", \"cluster\": 3, \"pop\": 1631784, \"life_expect\": 65.61, \"fertility\": 5.64}, {\"year\": 1965, \"country\": \"Jamaica\", \"cluster\": 3, \"pop\": 1777397, \"life_expect\": 67.51, \"fertility\": 5.78}, {\"year\": 1970, \"country\": \"Jamaica\", \"cluster\": 3, \"pop\": 1943787, \"life_expect\": 69.0, \"fertility\": 5.0}, {\"year\": 1975, \"country\": \"Jamaica\", \"cluster\": 3, \"pop\": 2104879, \"life_expect\": 70.11, \"fertility\": 4.0}, {\"year\": 1980, \"country\": \"Jamaica\", \"cluster\": 3, \"pop\": 2228803, \"life_expect\": 71.21, \"fertility\": 3.55}, {\"year\": 1985, \"country\": \"Jamaica\", \"cluster\": 3, \"pop\": 2318652, \"life_expect\": 71.77, \"fertility\": 3.1}, {\"year\": 1990, \"country\": \"Jamaica\", \"cluster\": 3, \"pop\": 2347922, \"life_expect\": 71.766, \"fertility\": 2.84}, {\"year\": 1995, \"country\": \"Jamaica\", \"cluster\": 3, \"pop\": 2469389, \"life_expect\": 72.262, \"fertility\": 2.67}, {\"year\": 2000, \"country\": \"Jamaica\", \"cluster\": 3, \"pop\": 2615467, \"life_expect\": 72.047, \"fertility\": 2.628}, {\"year\": 2005, \"country\": \"Jamaica\", \"cluster\": 3, \"pop\": 2735520, \"life_expect\": 72.567, \"fertility\": 2.4289}, {\"year\": 1955, \"country\": \"Japan\", \"cluster\": 4, \"pop\": 89815060, \"life_expect\": 65.5, \"fertility\": 2.08}, {\"year\": 1960, \"country\": \"Japan\", \"cluster\": 4, \"pop\": 94091638, \"life_expect\": 68.73, \"fertility\": 2.02}, {\"year\": 1965, \"country\": \"Japan\", \"cluster\": 4, \"pop\": 98882534, \"life_expect\": 71.43, \"fertility\": 2.0}, {\"year\": 1970, \"country\": \"Japan\", \"cluster\": 4, \"pop\": 104344973, \"life_expect\": 73.42, \"fertility\": 2.07}, {\"year\": 1975, \"country\": \"Japan\", \"cluster\": 4, \"pop\": 111573116, \"life_expect\": 75.38, \"fertility\": 1.81}, {\"year\": 1980, \"country\": \"Japan\", \"cluster\": 4, \"pop\": 116807309, \"life_expect\": 77.11, \"fertility\": 1.76}, {\"year\": 1985, \"country\": \"Japan\", \"cluster\": 4, \"pop\": 120754335, \"life_expect\": 78.67, \"fertility\": 1.6600000000000001}, {\"year\": 1990, \"country\": \"Japan\", \"cluster\": 4, \"pop\": 123537399, \"life_expect\": 79.36, \"fertility\": 1.49}, {\"year\": 1995, \"country\": \"Japan\", \"cluster\": 4, \"pop\": 125341354, \"life_expect\": 80.69, \"fertility\": 1.3900000000000001}, {\"year\": 2000, \"country\": \"Japan\", \"cluster\": 4, \"pop\": 126699784, \"life_expect\": 82.0, \"fertility\": 1.291}, {\"year\": 2005, \"country\": \"Japan\", \"cluster\": 4, \"pop\": 127417244, \"life_expect\": 82.603, \"fertility\": 1.27}, {\"year\": 1955, \"country\": \"Kenya\", \"cluster\": 2, \"pop\": 7033999, \"life_expect\": 44.686, \"fertility\": 7.816}, {\"year\": 1960, \"country\": \"Kenya\", \"cluster\": 2, \"pop\": 8156827, \"life_expect\": 47.949, \"fertility\": 8.12}, {\"year\": 1965, \"country\": \"Kenya\", \"cluster\": 2, \"pop\": 9549179, \"life_expect\": 50.654, \"fertility\": 8.12}, {\"year\": 1970, \"country\": \"Kenya\", \"cluster\": 2, \"pop\": 11247182, \"life_expect\": 53.559, \"fertility\": 8.0}, {\"year\": 1975, \"country\": \"Kenya\", \"cluster\": 2, \"pop\": 13433414, \"life_expect\": 56.155, \"fertility\": 7.6}, {\"year\": 1980, \"country\": \"Kenya\", \"cluster\": 2, \"pop\": 16331401, \"life_expect\": 58.766, \"fertility\": 7.2}, {\"year\": 1985, \"country\": \"Kenya\", \"cluster\": 2, \"pop\": 19763285, \"life_expect\": 59.339, \"fertility\": 6.5}, {\"year\": 1990, \"country\": \"Kenya\", \"cluster\": 2, \"pop\": 23358413, \"life_expect\": 59.285, \"fertility\": 5.4}, {\"year\": 1995, \"country\": \"Kenya\", \"cluster\": 2, \"pop\": 27060142, \"life_expect\": 54.407, \"fertility\": 5.0}, {\"year\": 2000, \"country\": \"Kenya\", \"cluster\": 2, \"pop\": 29985839, \"life_expect\": 50.992, \"fertility\": 5.0}, {\"year\": 2005, \"country\": \"Kenya\", \"cluster\": 2, \"pop\": 33829590, \"life_expect\": 54.11, \"fertility\": 4.959}, {\"year\": 1955, \"country\": \"South Korea\", \"cluster\": 4, \"pop\": 8839427, \"life_expect\": 54.081, \"fertility\": 3.8}, {\"year\": 1960, \"country\": \"South Korea\", \"cluster\": 4, \"pop\": 10391909, \"life_expect\": 56.656, \"fertility\": 3.41}, {\"year\": 1965, \"country\": \"South Korea\", \"cluster\": 4, \"pop\": 11868751, \"life_expect\": 59.942, \"fertility\": 4.09}, {\"year\": 1970, \"country\": \"South Korea\", \"cluster\": 4, \"pop\": 13911902, \"life_expect\": 63.983, \"fertility\": 3.7199999999999998}, {\"year\": 1975, \"country\": \"South Korea\", \"cluster\": 4, \"pop\": 15801308, \"life_expect\": 67.159, \"fertility\": 2.58}, {\"year\": 1980, \"country\": \"South Korea\", \"cluster\": 4, \"pop\": 17113626, \"life_expect\": 69.1, \"fertility\": 2.93}, {\"year\": 1985, \"country\": \"South Korea\", \"cluster\": 4, \"pop\": 18481420, \"life_expect\": 70.647, \"fertility\": 2.45}, {\"year\": 1990, \"country\": \"South Korea\", \"cluster\": 4, \"pop\": 20018546, \"life_expect\": 69.978, \"fertility\": 2.35}, {\"year\": 1995, \"country\": \"South Korea\", \"cluster\": 4, \"pop\": 21561856, \"life_expect\": 67.727, \"fertility\": 2.0938}, {\"year\": 2000, \"country\": \"South Korea\", \"cluster\": 4, \"pop\": 21647682, \"life_expect\": 66.662, \"fertility\": 1.9173}, {\"year\": 2005, \"country\": \"South Korea\", \"cluster\": 4, \"pop\": 22912177, \"life_expect\": 67.297, \"fertility\": 1.85}, {\"year\": 1955, \"country\": \"North Korea\", \"cluster\": 4, \"pop\": 21551834, \"life_expect\": 52.681, \"fertility\": 6.332}, {\"year\": 1960, \"country\": \"North Korea\", \"cluster\": 4, \"pop\": 24784140, \"life_expect\": 55.292, \"fertility\": 5.63}, {\"year\": 1965, \"country\": \"North Korea\", \"cluster\": 4, \"pop\": 28705000, \"life_expect\": 57.716, \"fertility\": 4.708}, {\"year\": 1970, \"country\": \"North Korea\", \"cluster\": 4, \"pop\": 32241000, \"life_expect\": 62.612, \"fertility\": 4.281}, {\"year\": 1975, \"country\": \"North Korea\", \"cluster\": 4, \"pop\": 35281000, \"life_expect\": 64.766, \"fertility\": 2.919}, {\"year\": 1980, \"country\": \"North Korea\", \"cluster\": 4, \"pop\": 38124000, \"life_expect\": 67.123, \"fertility\": 2.234}, {\"year\": 1985, \"country\": \"North Korea\", \"cluster\": 4, \"pop\": 40806000, \"life_expect\": 69.81, \"fertility\": 1.601}, {\"year\": 1990, \"country\": \"North Korea\", \"cluster\": 4, \"pop\": 42869000, \"life_expect\": 72.244, \"fertility\": 1.6960000000000002}, {\"year\": 1995, \"country\": \"North Korea\", \"cluster\": 4, \"pop\": 45264146, \"life_expect\": 74.647, \"fertility\": 1.514}, {\"year\": 2000, \"country\": \"North Korea\", \"cluster\": 4, \"pop\": 47351083, \"life_expect\": 77.045, \"fertility\": 1.242}, {\"year\": 2005, \"country\": \"North Korea\", \"cluster\": 4, \"pop\": 48640671, \"life_expect\": 78.623, \"fertility\": 1.21}, {\"year\": 1955, \"country\": \"Lebanon\", \"cluster\": 5, \"pop\": 1560985, \"life_expect\": 59.489, \"fertility\": 5.72}, {\"year\": 1960, \"country\": \"Lebanon\", \"cluster\": 5, \"pop\": 1786235, \"life_expect\": 62.094, \"fertility\": 5.689}, {\"year\": 1965, \"country\": \"Lebanon\", \"cluster\": 5, \"pop\": 2057945, \"life_expect\": 63.87, \"fertility\": 5.336}, {\"year\": 1970, \"country\": \"Lebanon\", \"cluster\": 5, \"pop\": 2383029, \"life_expect\": 65.421, \"fertility\": 4.78}, {\"year\": 1975, \"country\": \"Lebanon\", \"cluster\": 5, \"pop\": 3098159, \"life_expect\": 66.099, \"fertility\": 4.311}, {\"year\": 1980, \"country\": \"Lebanon\", \"cluster\": 5, \"pop\": 3085876, \"life_expect\": 66.983, \"fertility\": 3.895}, {\"year\": 1985, \"country\": \"Lebanon\", \"cluster\": 5, \"pop\": 3088235, \"life_expect\": 67.926, \"fertility\": 3.313}, {\"year\": 1990, \"country\": \"Lebanon\", \"cluster\": 5, \"pop\": 3147267, \"life_expect\": 69.292, \"fertility\": 3.0}, {\"year\": 1995, \"country\": \"Lebanon\", \"cluster\": 5, \"pop\": 3334733, \"life_expect\": 70.265, \"fertility\": 2.6950000000000003}, {\"year\": 2000, \"country\": \"Lebanon\", \"cluster\": 5, \"pop\": 3578036, \"life_expect\": 71.028, \"fertility\": 2.319}, {\"year\": 2005, \"country\": \"Lebanon\", \"cluster\": 5, \"pop\": 3826018, \"life_expect\": 71.993, \"fertility\": 2.209}, {\"year\": 1955, \"country\": \"Mexico\", \"cluster\": 3, \"pop\": 32929914, \"life_expect\": 55.19, \"fertility\": 6.8}, {\"year\": 1960, \"country\": \"Mexico\", \"cluster\": 3, \"pop\": 38578505, \"life_expect\": 58.299, \"fertility\": 6.7495}, {\"year\": 1965, \"country\": \"Mexico\", \"cluster\": 3, \"pop\": 45142399, \"life_expect\": 60.11, \"fertility\": 6.7495}, {\"year\": 1970, \"country\": \"Mexico\", \"cluster\": 3, \"pop\": 52775158, \"life_expect\": 62.361, \"fertility\": 6.5}, {\"year\": 1975, \"country\": \"Mexico\", \"cluster\": 3, \"pop\": 60678045, \"life_expect\": 65.032, \"fertility\": 5.2505}, {\"year\": 1980, \"country\": \"Mexico\", \"cluster\": 3, \"pop\": 68347479, \"life_expect\": 67.405, \"fertility\": 4.25}, {\"year\": 1985, \"country\": \"Mexico\", \"cluster\": 3, \"pop\": 76767225, \"life_expect\": 69.498, \"fertility\": 3.6295}, {\"year\": 1990, \"country\": \"Mexico\", \"cluster\": 3, \"pop\": 84913652, \"life_expect\": 71.455, \"fertility\": 3.1905}, {\"year\": 1995, \"country\": \"Mexico\", \"cluster\": 3, \"pop\": 92880353, \"life_expect\": 73.67, \"fertility\": 2.6705}, {\"year\": 2000, \"country\": \"Mexico\", \"cluster\": 3, \"pop\": 99926620, \"life_expect\": 74.902, \"fertility\": 2.4005}, {\"year\": 2005, \"country\": \"Mexico\", \"cluster\": 3, \"pop\": 106202903, \"life_expect\": 76.195, \"fertility\": 2.211}, {\"year\": 1955, \"country\": \"Netherlands\", \"cluster\": 1, \"pop\": 10750842, \"life_expect\": 72.99, \"fertility\": 3.095}, {\"year\": 1960, \"country\": \"Netherlands\", \"cluster\": 1, \"pop\": 11486000, \"life_expect\": 73.23, \"fertility\": 3.168}, {\"year\": 1965, \"country\": \"Netherlands\", \"cluster\": 1, \"pop\": 12292000, \"life_expect\": 73.82, \"fertility\": 2.797}, {\"year\": 1970, \"country\": \"Netherlands\", \"cluster\": 1, \"pop\": 13032335, \"life_expect\": 73.75, \"fertility\": 2.059}, {\"year\": 1975, \"country\": \"Netherlands\", \"cluster\": 1, \"pop\": 13653438, \"life_expect\": 75.24, \"fertility\": 1.596}, {\"year\": 1980, \"country\": \"Netherlands\", \"cluster\": 1, \"pop\": 14143901, \"life_expect\": 76.05, \"fertility\": 1.5150000000000001}, {\"year\": 1985, \"country\": \"Netherlands\", \"cluster\": 1, \"pop\": 14491380, \"life_expect\": 76.83, \"fertility\": 1.5550000000000002}, {\"year\": 1990, \"country\": \"Netherlands\", \"cluster\": 1, \"pop\": 14951510, \"life_expect\": 77.42, \"fertility\": 1.583}, {\"year\": 1995, \"country\": \"Netherlands\", \"cluster\": 1, \"pop\": 15459054, \"life_expect\": 78.03, \"fertility\": 1.6}, {\"year\": 2000, \"country\": \"Netherlands\", \"cluster\": 1, \"pop\": 15907853, \"life_expect\": 78.53, \"fertility\": 1.726}, {\"year\": 2005, \"country\": \"Netherlands\", \"cluster\": 1, \"pop\": 16407491, \"life_expect\": 79.762, \"fertility\": 1.721}, {\"year\": 1955, \"country\": \"New Zealand\", \"cluster\": 4, \"pop\": 2136168, \"life_expect\": 70.26, \"fertility\": 4.07}, {\"year\": 1960, \"country\": \"New Zealand\", \"cluster\": 4, \"pop\": 2371746, \"life_expect\": 71.24, \"fertility\": 4.022}, {\"year\": 1965, \"country\": \"New Zealand\", \"cluster\": 4, \"pop\": 2640400, \"life_expect\": 71.52, \"fertility\": 3.348}, {\"year\": 1970, \"country\": \"New Zealand\", \"cluster\": 4, \"pop\": 2828050, \"life_expect\": 71.89, \"fertility\": 2.843}, {\"year\": 1975, \"country\": \"New Zealand\", \"cluster\": 4, \"pop\": 3117800, \"life_expect\": 72.22, \"fertility\": 2.178}, {\"year\": 1980, \"country\": \"New Zealand\", \"cluster\": 4, \"pop\": 3170150, \"life_expect\": 73.84, \"fertility\": 1.963}, {\"year\": 1985, \"country\": \"New Zealand\", \"cluster\": 4, \"pop\": 3298050, \"life_expect\": 74.32, \"fertility\": 2.053}, {\"year\": 1990, \"country\": \"New Zealand\", \"cluster\": 4, \"pop\": 3359604, \"life_expect\": 76.33, \"fertility\": 2.061}, {\"year\": 1995, \"country\": \"New Zealand\", \"cluster\": 4, \"pop\": 3565990, \"life_expect\": 77.55, \"fertility\": 1.952}, {\"year\": 2000, \"country\": \"New Zealand\", \"cluster\": 4, \"pop\": 3819762, \"life_expect\": 79.11, \"fertility\": 1.964}, {\"year\": 2005, \"country\": \"New Zealand\", \"cluster\": 4, \"pop\": 4035461, \"life_expect\": 80.204, \"fertility\": 1.994}, {\"year\": 1955, \"country\": \"Nigeria\", \"cluster\": 2, \"pop\": 35458978, \"life_expect\": 37.802, \"fertility\": 6.9}, {\"year\": 1960, \"country\": \"Nigeria\", \"cluster\": 2, \"pop\": 39914593, \"life_expect\": 39.36, \"fertility\": 6.9}, {\"year\": 1965, \"country\": \"Nigeria\", \"cluster\": 2, \"pop\": 45020052, \"life_expect\": 41.04, \"fertility\": 6.9}, {\"year\": 1970, \"country\": \"Nigeria\", \"cluster\": 2, \"pop\": 51027516, \"life_expect\": 42.821, \"fertility\": 6.9}, {\"year\": 1975, \"country\": \"Nigeria\", \"cluster\": 2, \"pop\": 58522112, \"life_expect\": 44.514, \"fertility\": 6.9}, {\"year\": 1980, \"country\": \"Nigeria\", \"cluster\": 2, \"pop\": 68550274, \"life_expect\": 45.826, \"fertility\": 6.9}, {\"year\": 1985, \"country\": \"Nigeria\", \"cluster\": 2, \"pop\": 77573154, \"life_expect\": 46.886, \"fertility\": 6.834}, {\"year\": 1990, \"country\": \"Nigeria\", \"cluster\": 2, \"pop\": 88510354, \"life_expect\": 47.472, \"fertility\": 6.635}, {\"year\": 1995, \"country\": \"Nigeria\", \"cluster\": 2, \"pop\": 100960105, \"life_expect\": 47.464, \"fertility\": 6.246}, {\"year\": 2000, \"country\": \"Nigeria\", \"cluster\": 2, \"pop\": 114306700, \"life_expect\": 46.608, \"fertility\": 5.845}, {\"year\": 2005, \"country\": \"Nigeria\", \"cluster\": 2, \"pop\": 128765768, \"life_expect\": 46.859, \"fertility\": 5.322}, {\"year\": 1955, \"country\": \"Norway\", \"cluster\": 1, \"pop\": 3427409, \"life_expect\": 73.44, \"fertility\": 2.8369999999999997}, {\"year\": 1960, \"country\": \"Norway\", \"cluster\": 1, \"pop\": 3581239, \"life_expect\": 73.47, \"fertility\": 2.898}, {\"year\": 1965, \"country\": \"Norway\", \"cluster\": 1, \"pop\": 3723153, \"life_expect\": 74.08, \"fertility\": 2.719}, {\"year\": 1970, \"country\": \"Norway\", \"cluster\": 1, \"pop\": 3877386, \"life_expect\": 74.34, \"fertility\": 2.248}, {\"year\": 1975, \"country\": \"Norway\", \"cluster\": 1, \"pop\": 4007313, \"life_expect\": 75.37, \"fertility\": 1.81}, {\"year\": 1980, \"country\": \"Norway\", \"cluster\": 1, \"pop\": 4085620, \"life_expect\": 75.97, \"fertility\": 1.687}, {\"year\": 1985, \"country\": \"Norway\", \"cluster\": 1, \"pop\": 4152419, \"life_expect\": 75.89, \"fertility\": 1.8}, {\"year\": 1990, \"country\": \"Norway\", \"cluster\": 1, \"pop\": 4242006, \"life_expect\": 77.32, \"fertility\": 1.8860000000000001}, {\"year\": 1995, \"country\": \"Norway\", \"cluster\": 1, \"pop\": 4359101, \"life_expect\": 78.32, \"fertility\": 1.853}, {\"year\": 2000, \"country\": \"Norway\", \"cluster\": 1, \"pop\": 4492400, \"life_expect\": 79.05, \"fertility\": 1.8010000000000002}, {\"year\": 2005, \"country\": \"Norway\", \"cluster\": 1, \"pop\": 4593041, \"life_expect\": 80.196, \"fertility\": 1.8479999999999999}, {\"year\": 1955, \"country\": \"Pakistan\", \"cluster\": 0, \"pop\": 44434445, \"life_expect\": 45.557, \"fertility\": 6.6}, {\"year\": 1960, \"country\": \"Pakistan\", \"cluster\": 0, \"pop\": 50386898, \"life_expect\": 47.67, \"fertility\": 6.6}, {\"year\": 1965, \"country\": \"Pakistan\", \"cluster\": 0, \"pop\": 57494940, \"life_expect\": 49.8, \"fertility\": 6.6}, {\"year\": 1970, \"country\": \"Pakistan\", \"cluster\": 0, \"pop\": 65705964, \"life_expect\": 51.929, \"fertility\": 6.6}, {\"year\": 1975, \"country\": \"Pakistan\", \"cluster\": 0, \"pop\": 74711541, \"life_expect\": 54.043, \"fertility\": 6.6}, {\"year\": 1980, \"country\": \"Pakistan\", \"cluster\": 0, \"pop\": 85219117, \"life_expect\": 56.158, \"fertility\": 6.6}, {\"year\": 1985, \"country\": \"Pakistan\", \"cluster\": 0, \"pop\": 99060352, \"life_expect\": 58.245, \"fertility\": 6.66}, {\"year\": 1990, \"country\": \"Pakistan\", \"cluster\": 0, \"pop\": 114578478, \"life_expect\": 60.838, \"fertility\": 5.8}, {\"year\": 1995, \"country\": \"Pakistan\", \"cluster\": 0, \"pop\": 128690285, \"life_expect\": 61.818, \"fertility\": 4.9596}, {\"year\": 2000, \"country\": \"Pakistan\", \"cluster\": 0, \"pop\": 146342958, \"life_expect\": 63.61, \"fertility\": 3.9936}, {\"year\": 2005, \"country\": \"Pakistan\", \"cluster\": 0, \"pop\": 162419946, \"life_expect\": 65.483, \"fertility\": 3.5211}, {\"year\": 1955, \"country\": \"Peru\", \"cluster\": 3, \"pop\": 8671500, \"life_expect\": 46.263, \"fertility\": 6.853}, {\"year\": 1960, \"country\": \"Peru\", \"cluster\": 3, \"pop\": 9931000, \"life_expect\": 49.096, \"fertility\": 6.853}, {\"year\": 1965, \"country\": \"Peru\", \"cluster\": 3, \"pop\": 11467300, \"life_expect\": 51.445, \"fertility\": 6.5600000000000005}, {\"year\": 1970, \"country\": \"Peru\", \"cluster\": 3, \"pop\": 13192800, \"life_expect\": 55.448, \"fertility\": 6.0}, {\"year\": 1975, \"country\": \"Peru\", \"cluster\": 3, \"pop\": 15161199, \"life_expect\": 58.447, \"fertility\": 5.378}, {\"year\": 1980, \"country\": \"Peru\", \"cluster\": 3, \"pop\": 17295298, \"life_expect\": 61.406, \"fertility\": 4.65}, {\"year\": 1985, \"country\": \"Peru\", \"cluster\": 3, \"pop\": 19348926, \"life_expect\": 64.134, \"fertility\": 4.1}, {\"year\": 1990, \"country\": \"Peru\", \"cluster\": 3, \"pop\": 21511443, \"life_expect\": 66.458, \"fertility\": 3.7}, {\"year\": 1995, \"country\": \"Peru\", \"cluster\": 3, \"pop\": 23846388, \"life_expect\": 68.386, \"fertility\": 3.0995}, {\"year\": 2000, \"country\": \"Peru\", \"cluster\": 3, \"pop\": 25979722, \"life_expect\": 69.906, \"fertility\": 2.7005}, {\"year\": 2005, \"country\": \"Peru\", \"cluster\": 3, \"pop\": 27925628, \"life_expect\": 71.421, \"fertility\": 2.5065}, {\"year\": 1955, \"country\": \"Philippines\", \"cluster\": 4, \"pop\": 24553055, \"life_expect\": 51.334, \"fertility\": 7.13}, {\"year\": 1960, \"country\": \"Philippines\", \"cluster\": 4, \"pop\": 28528939, \"life_expect\": 54.757, \"fertility\": 6.85}, {\"year\": 1965, \"country\": \"Philippines\", \"cluster\": 4, \"pop\": 33267569, \"life_expect\": 56.393, \"fertility\": 6.5}, {\"year\": 1970, \"country\": \"Philippines\", \"cluster\": 4, \"pop\": 38603696, \"life_expect\": 58.065, \"fertility\": 6.0}, {\"year\": 1975, \"country\": \"Philippines\", \"cluster\": 4, \"pop\": 44336842, \"life_expect\": 60.06, \"fertility\": 5.5}, {\"year\": 1980, \"country\": \"Philippines\", \"cluster\": 4, \"pop\": 50940182, \"life_expect\": 62.082, \"fertility\": 4.95}, {\"year\": 1985, \"country\": \"Philippines\", \"cluster\": 4, \"pop\": 57288037, \"life_expect\": 64.151, \"fertility\": 4.55}, {\"year\": 1990, \"country\": \"Philippines\", \"cluster\": 4, \"pop\": 64318120, \"life_expect\": 66.458, \"fertility\": 4.143}, {\"year\": 1995, \"country\": \"Philippines\", \"cluster\": 4, \"pop\": 71717437, \"life_expect\": 68.564, \"fertility\": 3.7248}, {\"year\": 2000, \"country\": \"Philippines\", \"cluster\": 4, \"pop\": 79739825, \"life_expect\": 70.303, \"fertility\": 3.5436}, {\"year\": 2005, \"country\": \"Philippines\", \"cluster\": 4, \"pop\": 87857473, \"life_expect\": 71.688, \"fertility\": 3.2327}, {\"year\": 1955, \"country\": \"Poland\", \"cluster\": 1, \"pop\": 27220668, \"life_expect\": 65.77, \"fertility\": 3.29}, {\"year\": 1960, \"country\": \"Poland\", \"cluster\": 1, \"pop\": 29589842, \"life_expect\": 67.64, \"fertility\": 2.65}, {\"year\": 1965, \"country\": \"Poland\", \"cluster\": 1, \"pop\": 31262358, \"life_expect\": 69.61, \"fertility\": 2.27}, {\"year\": 1970, \"country\": \"Poland\", \"cluster\": 1, \"pop\": 32526000, \"life_expect\": 70.85, \"fertility\": 2.25}, {\"year\": 1975, \"country\": \"Poland\", \"cluster\": 1, \"pop\": 33969240, \"life_expect\": 70.67, \"fertility\": 2.26}, {\"year\": 1980, \"country\": \"Poland\", \"cluster\": 1, \"pop\": 35578016, \"life_expect\": 71.32, \"fertility\": 2.33}, {\"year\": 1985, \"country\": \"Poland\", \"cluster\": 1, \"pop\": 37225792, \"life_expect\": 70.98, \"fertility\": 2.15}, {\"year\": 1990, \"country\": \"Poland\", \"cluster\": 1, \"pop\": 38119408, \"life_expect\": 70.99, \"fertility\": 1.8900000000000001}, {\"year\": 1995, \"country\": \"Poland\", \"cluster\": 1, \"pop\": 38600642, \"life_expect\": 72.75, \"fertility\": 1.478}, {\"year\": 2000, \"country\": \"Poland\", \"cluster\": 1, \"pop\": 38654164, \"life_expect\": 74.67, \"fertility\": 1.251}, {\"year\": 2005, \"country\": \"Poland\", \"cluster\": 1, \"pop\": 38557984, \"life_expect\": 75.563, \"fertility\": 1.227}, {\"year\": 1955, \"country\": \"Portugal\", \"cluster\": 1, \"pop\": 8692600, \"life_expect\": 61.51, \"fertility\": 3.03}, {\"year\": 1960, \"country\": \"Portugal\", \"cluster\": 1, \"pop\": 9036700, \"life_expect\": 64.39, \"fertility\": 3.074}, {\"year\": 1965, \"country\": \"Portugal\", \"cluster\": 1, \"pop\": 9128850, \"life_expect\": 66.6, \"fertility\": 2.849}, {\"year\": 1970, \"country\": \"Portugal\", \"cluster\": 1, \"pop\": 9044200, \"life_expect\": 69.26, \"fertility\": 2.748}, {\"year\": 1975, \"country\": \"Portugal\", \"cluster\": 1, \"pop\": 9411090, \"life_expect\": 70.41, \"fertility\": 2.41}, {\"year\": 1980, \"country\": \"Portugal\", \"cluster\": 1, \"pop\": 9777800, \"life_expect\": 72.77, \"fertility\": 1.982}, {\"year\": 1985, \"country\": \"Portugal\", \"cluster\": 1, \"pop\": 9897192, \"life_expect\": 74.06, \"fertility\": 1.5939999999999999}, {\"year\": 1990, \"country\": \"Portugal\", \"cluster\": 1, \"pop\": 9922689, \"life_expect\": 74.86, \"fertility\": 1.516}, {\"year\": 1995, \"country\": \"Portugal\", \"cluster\": 1, \"pop\": 10065543, \"life_expect\": 75.97, \"fertility\": 1.475}, {\"year\": 2000, \"country\": \"Portugal\", \"cluster\": 1, \"pop\": 10335597, \"life_expect\": 77.29, \"fertility\": 1.454}, {\"year\": 2005, \"country\": \"Portugal\", \"cluster\": 1, \"pop\": 10566212, \"life_expect\": 78.098, \"fertility\": 1.455}, {\"year\": 1955, \"country\": \"Rwanda\", \"cluster\": 2, \"pop\": 2698272, \"life_expect\": 41.5, \"fertility\": 8.0}, {\"year\": 1960, \"country\": \"Rwanda\", \"cluster\": 2, \"pop\": 3031804, \"life_expect\": 43.0, \"fertility\": 8.1}, {\"year\": 1965, \"country\": \"Rwanda\", \"cluster\": 2, \"pop\": 3264640, \"life_expect\": 44.1, \"fertility\": 8.2}, {\"year\": 1970, \"country\": \"Rwanda\", \"cluster\": 2, \"pop\": 3769171, \"life_expect\": 44.6, \"fertility\": 8.29}, {\"year\": 1975, \"country\": \"Rwanda\", \"cluster\": 2, \"pop\": 4356863, \"life_expect\": 45.0, \"fertility\": 8.492}, {\"year\": 1980, \"country\": \"Rwanda\", \"cluster\": 2, \"pop\": 5138689, \"life_expect\": 46.218, \"fertility\": 8.5}, {\"year\": 1985, \"country\": \"Rwanda\", \"cluster\": 2, \"pop\": 6009833, \"life_expect\": 44.02, \"fertility\": 8.25}, {\"year\": 1990, \"country\": \"Rwanda\", \"cluster\": 2, \"pop\": 6923738, \"life_expect\": 23.599, \"fertility\": 6.9}, {\"year\": 1995, \"country\": \"Rwanda\", \"cluster\": 2, \"pop\": 5706501, \"life_expect\": 36.087, \"fertility\": 6.0993}, {\"year\": 2000, \"country\": \"Rwanda\", \"cluster\": 2, \"pop\": 7507056, \"life_expect\": 43.413, \"fertility\": 6.01}, {\"year\": 2005, \"country\": \"Rwanda\", \"cluster\": 2, \"pop\": 8440820, \"life_expect\": 46.242, \"fertility\": 5.9169}, {\"year\": 1955, \"country\": \"Saudi Arabia\", \"cluster\": 5, \"pop\": 4243218, \"life_expect\": 42.868, \"fertility\": 7.175}, {\"year\": 1960, \"country\": \"Saudi Arabia\", \"cluster\": 5, \"pop\": 4718301, \"life_expect\": 45.914, \"fertility\": 7.257}, {\"year\": 1965, \"country\": \"Saudi Arabia\", \"cluster\": 5, \"pop\": 5327432, \"life_expect\": 49.901, \"fertility\": 7.257}, {\"year\": 1970, \"country\": \"Saudi Arabia\", \"cluster\": 5, \"pop\": 6109051, \"life_expect\": 53.886, \"fertility\": 7.298}, {\"year\": 1975, \"country\": \"Saudi Arabia\", \"cluster\": 5, \"pop\": 7204820, \"life_expect\": 58.69, \"fertility\": 7.2780000000000005}, {\"year\": 1980, \"country\": \"Saudi Arabia\", \"cluster\": 5, \"pop\": 9999161, \"life_expect\": 63.012, \"fertility\": 7.015}, {\"year\": 1985, \"country\": \"Saudi Arabia\", \"cluster\": 5, \"pop\": 13330067, \"life_expect\": 66.295, \"fertility\": 6.217}, {\"year\": 1990, \"country\": \"Saudi Arabia\", \"cluster\": 5, \"pop\": 16060761, \"life_expect\": 68.768, \"fertility\": 5.446}, {\"year\": 1995, \"country\": \"Saudi Arabia\", \"cluster\": 5, \"pop\": 19966998, \"life_expect\": 70.533, \"fertility\": 4.621}, {\"year\": 2000, \"country\": \"Saudi Arabia\", \"cluster\": 5, \"pop\": 23153090, \"life_expect\": 71.626, \"fertility\": 3.81}, {\"year\": 2005, \"country\": \"Saudi Arabia\", \"cluster\": 5, \"pop\": 26417599, \"life_expect\": 72.777, \"fertility\": 3.352}, {\"year\": 1955, \"country\": \"South Africa\", \"cluster\": 2, \"pop\": 15368551, \"life_expect\": 47.985, \"fertility\": 6.5}, {\"year\": 1960, \"country\": \"South Africa\", \"cluster\": 2, \"pop\": 17416653, \"life_expect\": 49.951, \"fertility\": 6.3}, {\"year\": 1965, \"country\": \"South Africa\", \"cluster\": 2, \"pop\": 19898242, \"life_expect\": 51.927, \"fertility\": 5.7}, {\"year\": 1970, \"country\": \"South Africa\", \"cluster\": 2, \"pop\": 22739921, \"life_expect\": 53.696, \"fertility\": 5.47}, {\"year\": 1975, \"country\": \"South Africa\", \"cluster\": 2, \"pop\": 25815144, \"life_expect\": 55.527, \"fertility\": 5.0}, {\"year\": 1980, \"country\": \"South Africa\", \"cluster\": 2, \"pop\": 29251588, \"life_expect\": 58.161, \"fertility\": 4.556}, {\"year\": 1985, \"country\": \"South Africa\", \"cluster\": 2, \"pop\": 34254092, \"life_expect\": 60.834, \"fertility\": 3.85}, {\"year\": 1990, \"country\": \"South Africa\", \"cluster\": 2, \"pop\": 38391094, \"life_expect\": 61.888, \"fertility\": 3.343}, {\"year\": 1995, \"country\": \"South Africa\", \"cluster\": 2, \"pop\": 41779149, \"life_expect\": 60.236, \"fertility\": 2.954}, {\"year\": 2000, \"country\": \"South Africa\", \"cluster\": 2, \"pop\": 44066197, \"life_expect\": 53.365, \"fertility\": 2.802}, {\"year\": 2005, \"country\": \"South Africa\", \"cluster\": 2, \"pop\": 44344136, \"life_expect\": 49.339, \"fertility\": 2.637}, {\"year\": 1955, \"country\": \"Spain\", \"cluster\": 1, \"pop\": 29318745, \"life_expect\": 66.66, \"fertility\": 2.75}, {\"year\": 1960, \"country\": \"Spain\", \"cluster\": 1, \"pop\": 30641187, \"life_expect\": 69.69, \"fertility\": 2.89}, {\"year\": 1965, \"country\": \"Spain\", \"cluster\": 1, \"pop\": 32084511, \"life_expect\": 71.44, \"fertility\": 2.92}, {\"year\": 1970, \"country\": \"Spain\", \"cluster\": 1, \"pop\": 33876479, \"life_expect\": 73.06, \"fertility\": 2.86}, {\"year\": 1975, \"country\": \"Spain\", \"cluster\": 1, \"pop\": 35563535, \"life_expect\": 74.39, \"fertility\": 2.5700000000000003}, {\"year\": 1980, \"country\": \"Spain\", \"cluster\": 1, \"pop\": 37488360, \"life_expect\": 76.3, \"fertility\": 1.8900000000000001}, {\"year\": 1985, \"country\": \"Spain\", \"cluster\": 1, \"pop\": 38534853, \"life_expect\": 76.9, \"fertility\": 1.48}, {\"year\": 1990, \"country\": \"Spain\", \"cluster\": 1, \"pop\": 39350769, \"life_expect\": 77.57, \"fertility\": 1.27}, {\"year\": 1995, \"country\": \"Spain\", \"cluster\": 1, \"pop\": 39749715, \"life_expect\": 78.77, \"fertility\": 1.182}, {\"year\": 2000, \"country\": \"Spain\", \"cluster\": 1, \"pop\": 40016081, \"life_expect\": 79.78, \"fertility\": 1.287}, {\"year\": 2005, \"country\": \"Spain\", \"cluster\": 1, \"pop\": 40341462, \"life_expect\": 80.941, \"fertility\": 1.409}, {\"year\": 1955, \"country\": \"Switzerland\", \"cluster\": 1, \"pop\": 4980000, \"life_expect\": 70.56, \"fertility\": 2.34}, {\"year\": 1960, \"country\": \"Switzerland\", \"cluster\": 1, \"pop\": 5362000, \"life_expect\": 71.32, \"fertility\": 2.51}, {\"year\": 1965, \"country\": \"Switzerland\", \"cluster\": 1, \"pop\": 5943000, \"life_expect\": 72.77, \"fertility\": 2.27}, {\"year\": 1970, \"country\": \"Switzerland\", \"cluster\": 1, \"pop\": 6267000, \"life_expect\": 73.78, \"fertility\": 1.82}, {\"year\": 1975, \"country\": \"Switzerland\", \"cluster\": 1, \"pop\": 6403500, \"life_expect\": 75.39, \"fertility\": 1.53}, {\"year\": 1980, \"country\": \"Switzerland\", \"cluster\": 1, \"pop\": 6385229, \"life_expect\": 76.21, \"fertility\": 1.53}, {\"year\": 1985, \"country\": \"Switzerland\", \"cluster\": 1, \"pop\": 6563770, \"life_expect\": 77.41, \"fertility\": 1.53}, {\"year\": 1990, \"country\": \"Switzerland\", \"cluster\": 1, \"pop\": 6836626, \"life_expect\": 78.03, \"fertility\": 1.54}, {\"year\": 1995, \"country\": \"Switzerland\", \"cluster\": 1, \"pop\": 7157106, \"life_expect\": 79.37, \"fertility\": 1.47}, {\"year\": 2000, \"country\": \"Switzerland\", \"cluster\": 1, \"pop\": 7266920, \"life_expect\": 80.62, \"fertility\": 1.415}, {\"year\": 2005, \"country\": \"Switzerland\", \"cluster\": 1, \"pop\": 7489370, \"life_expect\": 81.701, \"fertility\": 1.42}, {\"year\": 1955, \"country\": \"Turkey\", \"cluster\": 1, \"pop\": 24144571, \"life_expect\": 48.079, \"fertility\": 6.6}, {\"year\": 1960, \"country\": \"Turkey\", \"cluster\": 1, \"pop\": 28217122, \"life_expect\": 52.098, \"fertility\": 6.19}, {\"year\": 1965, \"country\": \"Turkey\", \"cluster\": 1, \"pop\": 31950718, \"life_expect\": 54.336, \"fertility\": 5.7}, {\"year\": 1970, \"country\": \"Turkey\", \"cluster\": 1, \"pop\": 35758382, \"life_expect\": 57.005, \"fertility\": 5.3}, {\"year\": 1975, \"country\": \"Turkey\", \"cluster\": 1, \"pop\": 40529798, \"life_expect\": 59.507, \"fertility\": 4.715}, {\"year\": 1980, \"country\": \"Turkey\", \"cluster\": 1, \"pop\": 45120802, \"life_expect\": 61.036, \"fertility\": 4.15}, {\"year\": 1985, \"country\": \"Turkey\", \"cluster\": 1, \"pop\": 50669003, \"life_expect\": 63.108, \"fertility\": 3.276}, {\"year\": 1990, \"country\": \"Turkey\", \"cluster\": 1, \"pop\": 56084632, \"life_expect\": 66.146, \"fertility\": 2.904}, {\"year\": 1995, \"country\": \"Turkey\", \"cluster\": 1, \"pop\": 61188984, \"life_expect\": 68.835, \"fertility\": 2.574}, {\"year\": 2000, \"country\": \"Turkey\", \"cluster\": 1, \"pop\": 65666677, \"life_expect\": 70.845, \"fertility\": 2.23}, {\"year\": 2005, \"country\": \"Turkey\", \"cluster\": 1, \"pop\": 69660559, \"life_expect\": 71.777, \"fertility\": 2.143}, {\"year\": 1955, \"country\": \"United Kingdom\", \"cluster\": 1, \"pop\": 50946000, \"life_expect\": 70.42, \"fertility\": 2.49}, {\"year\": 1960, \"country\": \"United Kingdom\", \"cluster\": 1, \"pop\": 52372000, \"life_expect\": 70.76, \"fertility\": 2.81}, {\"year\": 1965, \"country\": \"United Kingdom\", \"cluster\": 1, \"pop\": 54350000, \"life_expect\": 71.36, \"fertility\": 2.52}, {\"year\": 1970, \"country\": \"United Kingdom\", \"cluster\": 1, \"pop\": 55632000, \"life_expect\": 72.01, \"fertility\": 2.04}, {\"year\": 1975, \"country\": \"United Kingdom\", \"cluster\": 1, \"pop\": 56215000, \"life_expect\": 72.76, \"fertility\": 1.72}, {\"year\": 1980, \"country\": \"United Kingdom\", \"cluster\": 1, \"pop\": 56314000, \"life_expect\": 74.04, \"fertility\": 1.8}, {\"year\": 1985, \"country\": \"United Kingdom\", \"cluster\": 1, \"pop\": 56620240, \"life_expect\": 75.007, \"fertility\": 1.81}, {\"year\": 1990, \"country\": \"United Kingdom\", \"cluster\": 1, \"pop\": 57493307, \"life_expect\": 76.42, \"fertility\": 1.78}, {\"year\": 1995, \"country\": \"United Kingdom\", \"cluster\": 1, \"pop\": 58426014, \"life_expect\": 77.218, \"fertility\": 1.7000000000000002}, {\"year\": 2000, \"country\": \"United Kingdom\", \"cluster\": 1, \"pop\": 59522468, \"life_expect\": 78.471, \"fertility\": 1.695}, {\"year\": 2005, \"country\": \"United Kingdom\", \"cluster\": 1, \"pop\": 60441457, \"life_expect\": 79.425, \"fertility\": 1.815}, {\"year\": 1955, \"country\": \"United States\", \"cluster\": 3, \"pop\": 165931000, \"life_expect\": 69.49, \"fertility\": 3.706}, {\"year\": 1960, \"country\": \"United States\", \"cluster\": 3, \"pop\": 180671000, \"life_expect\": 70.21, \"fertility\": 3.314}, {\"year\": 1965, \"country\": \"United States\", \"cluster\": 3, \"pop\": 194303000, \"life_expect\": 70.76, \"fertility\": 2.545}, {\"year\": 1970, \"country\": \"United States\", \"cluster\": 3, \"pop\": 205052000, \"life_expect\": 71.34, \"fertility\": 2.016}, {\"year\": 1975, \"country\": \"United States\", \"cluster\": 3, \"pop\": 215973000, \"life_expect\": 73.38, \"fertility\": 1.788}, {\"year\": 1980, \"country\": \"United States\", \"cluster\": 3, \"pop\": 227726463, \"life_expect\": 74.65, \"fertility\": 1.8250000000000002}, {\"year\": 1985, \"country\": \"United States\", \"cluster\": 3, \"pop\": 238466283, \"life_expect\": 75.02, \"fertility\": 1.924}, {\"year\": 1990, \"country\": \"United States\", \"cluster\": 3, \"pop\": 250131894, \"life_expect\": 76.09, \"fertility\": 2.025}, {\"year\": 1995, \"country\": \"United States\", \"cluster\": 3, \"pop\": 266557091, \"life_expect\": 76.81, \"fertility\": 1.994}, {\"year\": 2000, \"country\": \"United States\", \"cluster\": 3, \"pop\": 282338631, \"life_expect\": 77.31, \"fertility\": 2.038}, {\"year\": 2005, \"country\": \"United States\", \"cluster\": 3, \"pop\": 295734134, \"life_expect\": 78.242, \"fertility\": 2.054}, {\"year\": 1955, \"country\": \"Venezuela\", \"cluster\": 3, \"pop\": 6170497, \"life_expect\": 57.907, \"fertility\": 6.4585}, {\"year\": 1960, \"country\": \"Venezuela\", \"cluster\": 3, \"pop\": 7556483, \"life_expect\": 60.77, \"fertility\": 6.657}, {\"year\": 1965, \"country\": \"Venezuela\", \"cluster\": 3, \"pop\": 9067735, \"life_expect\": 63.479, \"fertility\": 5.9045000000000005}, {\"year\": 1970, \"country\": \"Venezuela\", \"cluster\": 3, \"pop\": 10758017, \"life_expect\": 65.712, \"fertility\": 4.941}, {\"year\": 1975, \"country\": \"Venezuela\", \"cluster\": 3, \"pop\": 12674987, \"life_expect\": 67.456, \"fertility\": 4.4685}, {\"year\": 1980, \"country\": \"Venezuela\", \"cluster\": 3, \"pop\": 14767890, \"life_expect\": 68.557, \"fertility\": 3.957}, {\"year\": 1985, \"country\": \"Venezuela\", \"cluster\": 3, \"pop\": 16997509, \"life_expect\": 70.19, \"fertility\": 3.6485000000000003}, {\"year\": 1990, \"country\": \"Venezuela\", \"cluster\": 3, \"pop\": 19325222, \"life_expect\": 71.15, \"fertility\": 3.25}, {\"year\": 1995, \"country\": \"Venezuela\", \"cluster\": 3, \"pop\": 21555902, \"life_expect\": 72.146, \"fertility\": 2.9415}, {\"year\": 2000, \"country\": \"Venezuela\", \"cluster\": 3, \"pop\": 23542649, \"life_expect\": 72.766, \"fertility\": 2.723}, {\"year\": 2005, \"country\": \"Venezuela\", \"cluster\": 3, \"pop\": 25375281, \"life_expect\": 73.747, \"fertility\": 2.547}]}}, {\"mode\": \"vega-lite\"});\n",
       "</script>"
      ],
      "text/plain": [
       "alt.Chart(...)"
      ]
     },
     "execution_count": 38,
     "metadata": {},
     "output_type": "execute_result"
    }
   ],
   "source": [
    "alt.Chart(data).mark_line().encode(\n",
    "    alt.X('year:O'),\n",
    "    alt.Y('fertility:Q'),\n",
    "    alt.Color('country:N', legend=None),\n",
    "    alt.Tooltip('country:N')\n",
    ").properties(\n",
    "    width=600\n",
    ")"
   ]
  },
  {
   "cell_type": "markdown",
   "metadata": {
    "colab_type": "text",
    "id": "qmV54UhSMPxU",
    "slideshow": {
     "slide_type": "subslide"
    }
   },
   "source": [
    "- 국가마다 보여주는 변화가 흥미롭다. \n",
    "  - 하지만 전반적인 추세는 시간이 갈수록 출산율이 낮아진다는 점이다. \n",
    "  - 차트 폭을 변경하였는데, 이 부분을 제거하면 어떻게 되는지 확인해 보라. \n",
    "- 맞춤형 시각화를 위하여 마크 매개변수에 대한 기본값을 변경해 보자. \n",
    "  - `strokeWidth`를 설정하여 선의 굵기를 조절할 수 있다. \n",
    "  - `opacity`를 설정하여 투명도를 조절할 수 있다. \n",
    "  - `line` 마크는 기본적으로 꺽은선을 사용하는데, 부드러운 곡선을 사용하도록 조절할 수 있다.  \n",
    "    - `interpolate` 마크 매개변수를 설정하여 보간법을 적용할 수 있다. \n",
    "    - `'monotone'` 보간법을 적용해 보자. "
   ]
  },
  {
   "cell_type": "code",
   "execution_count": 39,
   "metadata": {
    "colab": {
     "base_uri": "https://localhost:8080/",
     "height": 385
    },
    "colab_type": "code",
    "id": "PbdSZMs43rgW",
    "outputId": "07007338-a2c7-4dc2-9f36-bb344e4103ec",
    "slideshow": {
     "slide_type": "subslide"
    }
   },
   "outputs": [
    {
     "data": {
      "text/html": [
       "\n",
       "<div id=\"altair-viz-d57d3b0e219f48d3a60fed95efa01db1\"></div>\n",
       "<script type=\"text/javascript\">\n",
       "  (function(spec, embedOpt){\n",
       "    let outputDiv = document.currentScript.previousElementSibling;\n",
       "    if (outputDiv.id !== \"altair-viz-d57d3b0e219f48d3a60fed95efa01db1\") {\n",
       "      outputDiv = document.getElementById(\"altair-viz-d57d3b0e219f48d3a60fed95efa01db1\");\n",
       "    }\n",
       "    const paths = {\n",
       "      \"vega\": \"https://cdn.jsdelivr.net/npm//vega@5?noext\",\n",
       "      \"vega-lib\": \"https://cdn.jsdelivr.net/npm//vega-lib?noext\",\n",
       "      \"vega-lite\": \"https://cdn.jsdelivr.net/npm//vega-lite@4.8.1?noext\",\n",
       "      \"vega-embed\": \"https://cdn.jsdelivr.net/npm//vega-embed@6?noext\",\n",
       "    };\n",
       "\n",
       "    function loadScript(lib) {\n",
       "      return new Promise(function(resolve, reject) {\n",
       "        var s = document.createElement('script');\n",
       "        s.src = paths[lib];\n",
       "        s.async = true;\n",
       "        s.onload = () => resolve(paths[lib]);\n",
       "        s.onerror = () => reject(`Error loading script: ${paths[lib]}`);\n",
       "        document.getElementsByTagName(\"head\")[0].appendChild(s);\n",
       "      });\n",
       "    }\n",
       "\n",
       "    function showError(err) {\n",
       "      outputDiv.innerHTML = `<div class=\"error\" style=\"color:red;\">${err}</div>`;\n",
       "      throw err;\n",
       "    }\n",
       "\n",
       "    function displayChart(vegaEmbed) {\n",
       "      vegaEmbed(outputDiv, spec, embedOpt)\n",
       "        .catch(err => showError(`Javascript Error: ${err.message}<br>This usually means there's a typo in your chart specification. See the javascript console for the full traceback.`));\n",
       "    }\n",
       "\n",
       "    if(typeof define === \"function\" && define.amd) {\n",
       "      requirejs.config({paths});\n",
       "      require([\"vega-embed\"], displayChart, err => showError(`Error loading script: ${err.message}`));\n",
       "    } else if (typeof vegaEmbed === \"function\") {\n",
       "      displayChart(vegaEmbed);\n",
       "    } else {\n",
       "      loadScript(\"vega\")\n",
       "        .then(() => loadScript(\"vega-lite\"))\n",
       "        .then(() => loadScript(\"vega-embed\"))\n",
       "        .catch(showError)\n",
       "        .then(() => displayChart(vegaEmbed));\n",
       "    }\n",
       "  })({\"config\": {\"view\": {\"continuousWidth\": 400, \"continuousHeight\": 300}}, \"data\": {\"name\": \"data-89be1acdd14c7effd56f4dd0fabf92c3\"}, \"mark\": {\"type\": \"line\", \"interpolate\": \"monotone\", \"opacity\": 0.5, \"strokeWidth\": 3}, \"encoding\": {\"color\": {\"type\": \"nominal\", \"field\": \"country\", \"legend\": null}, \"tooltip\": {\"type\": \"nominal\", \"field\": \"country\"}, \"x\": {\"type\": \"ordinal\", \"field\": \"year\"}, \"y\": {\"type\": \"quantitative\", \"field\": \"fertility\"}}, \"width\": 600, \"$schema\": \"https://vega.github.io/schema/vega-lite/v4.8.1.json\", \"datasets\": {\"data-89be1acdd14c7effd56f4dd0fabf92c3\": [{\"year\": 1955, \"country\": \"Afghanistan\", \"cluster\": 0, \"pop\": 8891209, \"life_expect\": 30.332, \"fertility\": 7.7}, {\"year\": 1960, \"country\": \"Afghanistan\", \"cluster\": 0, \"pop\": 9829450, \"life_expect\": 31.997, \"fertility\": 7.7}, {\"year\": 1965, \"country\": \"Afghanistan\", \"cluster\": 0, \"pop\": 10997885, \"life_expect\": 34.02, \"fertility\": 7.7}, {\"year\": 1970, \"country\": \"Afghanistan\", \"cluster\": 0, \"pop\": 12430623, \"life_expect\": 36.088, \"fertility\": 7.7}, {\"year\": 1975, \"country\": \"Afghanistan\", \"cluster\": 0, \"pop\": 14132019, \"life_expect\": 38.438, \"fertility\": 7.7}, {\"year\": 1980, \"country\": \"Afghanistan\", \"cluster\": 0, \"pop\": 15112149, \"life_expect\": 39.854, \"fertility\": 7.8}, {\"year\": 1985, \"country\": \"Afghanistan\", \"cluster\": 0, \"pop\": 13796928, \"life_expect\": 40.822, \"fertility\": 7.9}, {\"year\": 1990, \"country\": \"Afghanistan\", \"cluster\": 0, \"pop\": 14669339, \"life_expect\": 41.674, \"fertility\": 8.0}, {\"year\": 1995, \"country\": \"Afghanistan\", \"cluster\": 0, \"pop\": 20881480, \"life_expect\": 41.763, \"fertility\": 8.0}, {\"year\": 2000, \"country\": \"Afghanistan\", \"cluster\": 0, \"pop\": 23898198, \"life_expect\": 42.129, \"fertility\": 7.4792}, {\"year\": 2005, \"country\": \"Afghanistan\", \"cluster\": 0, \"pop\": 29928987, \"life_expect\": 43.828, \"fertility\": 7.0685}, {\"year\": 1955, \"country\": \"Argentina\", \"cluster\": 3, \"pop\": 18927821, \"life_expect\": 64.399, \"fertility\": 3.1265}, {\"year\": 1960, \"country\": \"Argentina\", \"cluster\": 3, \"pop\": 20616009, \"life_expect\": 65.142, \"fertility\": 3.0895}, {\"year\": 1965, \"country\": \"Argentina\", \"cluster\": 3, \"pop\": 22283100, \"life_expect\": 65.634, \"fertility\": 3.049}, {\"year\": 1970, \"country\": \"Argentina\", \"cluster\": 3, \"pop\": 23962313, \"life_expect\": 67.065, \"fertility\": 3.1455}, {\"year\": 1975, \"country\": \"Argentina\", \"cluster\": 3, \"pop\": 26081880, \"life_expect\": 68.481, \"fertility\": 3.44}, {\"year\": 1980, \"country\": \"Argentina\", \"cluster\": 3, \"pop\": 28369799, \"life_expect\": 69.942, \"fertility\": 3.15}, {\"year\": 1985, \"country\": \"Argentina\", \"cluster\": 3, \"pop\": 30675059, \"life_expect\": 70.774, \"fertility\": 3.053}, {\"year\": 1990, \"country\": \"Argentina\", \"cluster\": 3, \"pop\": 33022202, \"life_expect\": 71.868, \"fertility\": 2.9}, {\"year\": 1995, \"country\": \"Argentina\", \"cluster\": 3, \"pop\": 35311049, \"life_expect\": 73.275, \"fertility\": 2.63}, {\"year\": 2000, \"country\": \"Argentina\", \"cluster\": 3, \"pop\": 37497728, \"life_expect\": 74.34, \"fertility\": 2.35}, {\"year\": 2005, \"country\": \"Argentina\", \"cluster\": 3, \"pop\": 39537943, \"life_expect\": 75.32, \"fertility\": 2.254}, {\"year\": 1955, \"country\": \"Aruba\", \"cluster\": 3, \"pop\": 53865, \"life_expect\": 64.381, \"fertility\": 5.15}, {\"year\": 1960, \"country\": \"Aruba\", \"cluster\": 3, \"pop\": 57203, \"life_expect\": 66.606, \"fertility\": 4.399}, {\"year\": 1965, \"country\": \"Aruba\", \"cluster\": 3, \"pop\": 59020, \"life_expect\": 68.336, \"fertility\": 3.301}, {\"year\": 1970, \"country\": \"Aruba\", \"cluster\": 3, \"pop\": 59039, \"life_expect\": 70.941, \"fertility\": 2.651}, {\"year\": 1975, \"country\": \"Aruba\", \"cluster\": 3, \"pop\": 59390, \"life_expect\": 71.83, \"fertility\": 2.45}, {\"year\": 1980, \"country\": \"Aruba\", \"cluster\": 3, \"pop\": 60266, \"life_expect\": 74.116, \"fertility\": 2.358}, {\"year\": 1985, \"country\": \"Aruba\", \"cluster\": 3, \"pop\": 64129, \"life_expect\": 74.494, \"fertility\": 2.3}, {\"year\": 1990, \"country\": \"Aruba\", \"cluster\": 3, \"pop\": 66653, \"life_expect\": 74.108, \"fertility\": 2.2800000000000002}, {\"year\": 1995, \"country\": \"Aruba\", \"cluster\": 3, \"pop\": 67836, \"life_expect\": 73.011, \"fertility\": 2.208}, {\"year\": 2000, \"country\": \"Aruba\", \"cluster\": 3, \"pop\": 69539, \"life_expect\": 73.451, \"fertility\": 2.124}, {\"year\": 2005, \"country\": \"Aruba\", \"cluster\": 3, \"pop\": 71566, \"life_expect\": 74.239, \"fertility\": 2.04}, {\"year\": 1955, \"country\": \"Australia\", \"cluster\": 4, \"pop\": 9277087, \"life_expect\": 70.33, \"fertility\": 3.406}, {\"year\": 1960, \"country\": \"Australia\", \"cluster\": 4, \"pop\": 10361273, \"life_expect\": 70.93, \"fertility\": 3.274}, {\"year\": 1965, \"country\": \"Australia\", \"cluster\": 4, \"pop\": 11439384, \"life_expect\": 71.1, \"fertility\": 2.871}, {\"year\": 1970, \"country\": \"Australia\", \"cluster\": 4, \"pop\": 12660160, \"life_expect\": 71.93, \"fertility\": 2.535}, {\"year\": 1975, \"country\": \"Australia\", \"cluster\": 4, \"pop\": 13771400, \"life_expect\": 73.49, \"fertility\": 1.9889999999999999}, {\"year\": 1980, \"country\": \"Australia\", \"cluster\": 4, \"pop\": 14615900, \"life_expect\": 74.74, \"fertility\": 1.907}, {\"year\": 1985, \"country\": \"Australia\", \"cluster\": 4, \"pop\": 15788300, \"life_expect\": 76.32, \"fertility\": 1.859}, {\"year\": 1990, \"country\": \"Australia\", \"cluster\": 4, \"pop\": 17022133, \"life_expect\": 77.56, \"fertility\": 1.8599999999999999}, {\"year\": 1995, \"country\": \"Australia\", \"cluster\": 4, \"pop\": 18116171, \"life_expect\": 78.83, \"fertility\": 1.776}, {\"year\": 2000, \"country\": \"Australia\", \"cluster\": 4, \"pop\": 19164620, \"life_expect\": 80.37, \"fertility\": 1.756}, {\"year\": 2005, \"country\": \"Australia\", \"cluster\": 4, \"pop\": 20090437, \"life_expect\": 81.235, \"fertility\": 1.788}, {\"year\": 1955, \"country\": \"Austria\", \"cluster\": 1, \"pop\": 6946885, \"life_expect\": 67.48, \"fertility\": 2.52}, {\"year\": 1960, \"country\": \"Austria\", \"cluster\": 1, \"pop\": 7047437, \"life_expect\": 69.54, \"fertility\": 2.7800000000000002}, {\"year\": 1965, \"country\": \"Austria\", \"cluster\": 1, \"pop\": 7270889, \"life_expect\": 70.14, \"fertility\": 2.5300000000000002}, {\"year\": 1970, \"country\": \"Austria\", \"cluster\": 1, \"pop\": 7467086, \"life_expect\": 70.63, \"fertility\": 2.02}, {\"year\": 1975, \"country\": \"Austria\", \"cluster\": 1, \"pop\": 7578903, \"life_expect\": 72.17, \"fertility\": 1.6400000000000001}, {\"year\": 1980, \"country\": \"Austria\", \"cluster\": 1, \"pop\": 7549433, \"life_expect\": 73.18, \"fertility\": 1.62}, {\"year\": 1985, \"country\": \"Austria\", \"cluster\": 1, \"pop\": 7559776, \"life_expect\": 74.94, \"fertility\": 1.45}, {\"year\": 1990, \"country\": \"Austria\", \"cluster\": 1, \"pop\": 7722953, \"life_expect\": 76.04, \"fertility\": 1.47}, {\"year\": 1995, \"country\": \"Austria\", \"cluster\": 1, \"pop\": 8047433, \"life_expect\": 77.51, \"fertility\": 1.388}, {\"year\": 2000, \"country\": \"Austria\", \"cluster\": 1, \"pop\": 8113413, \"life_expect\": 78.98, \"fertility\": 1.3820000000000001}, {\"year\": 2005, \"country\": \"Austria\", \"cluster\": 1, \"pop\": 8184691, \"life_expect\": 79.829, \"fertility\": 1.42}, {\"year\": 1955, \"country\": \"Bahamas\", \"cluster\": 3, \"pop\": 87138, \"life_expect\": 62.405, \"fertility\": 4.305}, {\"year\": 1960, \"country\": \"Bahamas\", \"cluster\": 3, \"pop\": 112234, \"life_expect\": 64.209, \"fertility\": 4.503}, {\"year\": 1965, \"country\": \"Bahamas\", \"cluster\": 3, \"pop\": 139205, \"life_expect\": 65.795, \"fertility\": 3.794}, {\"year\": 1970, \"country\": \"Bahamas\", \"cluster\": 3, \"pop\": 170323, \"life_expect\": 66.515, \"fertility\": 3.444}, {\"year\": 1975, \"country\": \"Bahamas\", \"cluster\": 3, \"pop\": 189139, \"life_expect\": 67.199, \"fertility\": 3.221}, {\"year\": 1980, \"country\": \"Bahamas\", \"cluster\": 3, \"pop\": 209944, \"life_expect\": 67.874, \"fertility\": 3.16}, {\"year\": 1985, \"country\": \"Bahamas\", \"cluster\": 3, \"pop\": 234988, \"life_expect\": 69.524, \"fertility\": 2.62}, {\"year\": 1990, \"country\": \"Bahamas\", \"cluster\": 3, \"pop\": 257253, \"life_expect\": 69.171, \"fertility\": 2.6}, {\"year\": 1995, \"country\": \"Bahamas\", \"cluster\": 3, \"pop\": 275303, \"life_expect\": 68.472, \"fertility\": 2.4}, {\"year\": 2000, \"country\": \"Bahamas\", \"cluster\": 3, \"pop\": 290075, \"life_expect\": 71.068, \"fertility\": 2.1111}, {\"year\": 2005, \"country\": \"Bahamas\", \"cluster\": 3, \"pop\": 301790, \"life_expect\": 73.495, \"fertility\": 2.0221}, {\"year\": 1955, \"country\": \"Bangladesh\", \"cluster\": 0, \"pop\": 49601520, \"life_expect\": 39.348, \"fertility\": 6.76}, {\"year\": 1960, \"country\": \"Bangladesh\", \"cluster\": 0, \"pop\": 54621538, \"life_expect\": 41.216, \"fertility\": 6.85}, {\"year\": 1965, \"country\": \"Bangladesh\", \"cluster\": 0, \"pop\": 60332117, \"life_expect\": 43.453, \"fertility\": 6.6}, {\"year\": 1970, \"country\": \"Bangladesh\", \"cluster\": 0, \"pop\": 67402621, \"life_expect\": 45.252, \"fertility\": 6.15}, {\"year\": 1975, \"country\": \"Bangladesh\", \"cluster\": 0, \"pop\": 76253310, \"life_expect\": 46.923, \"fertility\": 5.6}, {\"year\": 1980, \"country\": \"Bangladesh\", \"cluster\": 0, \"pop\": 88076996, \"life_expect\": 50.009, \"fertility\": 5.25}, {\"year\": 1985, \"country\": \"Bangladesh\", \"cluster\": 0, \"pop\": 99752733, \"life_expect\": 52.819, \"fertility\": 4.629}, {\"year\": 1990, \"country\": \"Bangladesh\", \"cluster\": 0, \"pop\": 109896945, \"life_expect\": 56.018, \"fertility\": 4.117}, {\"year\": 1995, \"country\": \"Bangladesh\", \"cluster\": 0, \"pop\": 119186448, \"life_expect\": 59.412, \"fertility\": 3.5042999999999997}, {\"year\": 2000, \"country\": \"Bangladesh\", \"cluster\": 0, \"pop\": 130406594, \"life_expect\": 62.013, \"fertility\": 3.224}, {\"year\": 2005, \"country\": \"Bangladesh\", \"cluster\": 0, \"pop\": 144319628, \"life_expect\": 64.062, \"fertility\": 2.826}, {\"year\": 1955, \"country\": \"Barbados\", \"cluster\": 3, \"pop\": 227255, \"life_expect\": 62.57, \"fertility\": 4.67}, {\"year\": 1960, \"country\": \"Barbados\", \"cluster\": 3, \"pop\": 232339, \"life_expect\": 65.87, \"fertility\": 4.26}, {\"year\": 1965, \"country\": \"Barbados\", \"cluster\": 3, \"pop\": 234980, \"life_expect\": 67.62, \"fertility\": 3.45}, {\"year\": 1970, \"country\": \"Barbados\", \"cluster\": 3, \"pop\": 238756, \"life_expect\": 69.42, \"fertility\": 2.74}, {\"year\": 1975, \"country\": \"Barbados\", \"cluster\": 3, \"pop\": 247147, \"life_expect\": 71.27, \"fertility\": 2.19}, {\"year\": 1980, \"country\": \"Barbados\", \"cluster\": 3, \"pop\": 251966, \"life_expect\": 72.695, \"fertility\": 1.92}, {\"year\": 1985, \"country\": \"Barbados\", \"cluster\": 3, \"pop\": 257446, \"life_expect\": 74.027, \"fertility\": 1.75}, {\"year\": 1990, \"country\": \"Barbados\", \"cluster\": 3, \"pop\": 262624, \"life_expect\": 74.894, \"fertility\": 1.6}, {\"year\": 1995, \"country\": \"Barbados\", \"cluster\": 3, \"pop\": 267907, \"life_expect\": 74.912, \"fertility\": 1.5}, {\"year\": 2000, \"country\": \"Barbados\", \"cluster\": 3, \"pop\": 273483, \"life_expect\": 75.97, \"fertility\": 1.5}, {\"year\": 2005, \"country\": \"Barbados\", \"cluster\": 3, \"pop\": 278870, \"life_expect\": 77.296, \"fertility\": 1.5}, {\"year\": 1955, \"country\": \"Belgium\", \"cluster\": 1, \"pop\": 8868475, \"life_expect\": 69.24, \"fertility\": 2.496}, {\"year\": 1960, \"country\": \"Belgium\", \"cluster\": 1, \"pop\": 9118700, \"life_expect\": 70.25, \"fertility\": 2.644}, {\"year\": 1965, \"country\": \"Belgium\", \"cluster\": 1, \"pop\": 9448100, \"life_expect\": 70.94, \"fertility\": 2.392}, {\"year\": 1970, \"country\": \"Belgium\", \"cluster\": 1, \"pop\": 9637800, \"life_expect\": 71.44, \"fertility\": 2.015}, {\"year\": 1975, \"country\": \"Belgium\", \"cluster\": 1, \"pop\": 9794800, \"life_expect\": 72.8, \"fertility\": 1.705}, {\"year\": 1980, \"country\": \"Belgium\", \"cluster\": 1, \"pop\": 9846800, \"life_expect\": 73.93, \"fertility\": 1.595}, {\"year\": 1985, \"country\": \"Belgium\", \"cluster\": 1, \"pop\": 9858200, \"life_expect\": 75.35, \"fertility\": 1.5590000000000002}, {\"year\": 1990, \"country\": \"Belgium\", \"cluster\": 1, \"pop\": 9969310, \"life_expect\": 76.46, \"fertility\": 1.613}, {\"year\": 1995, \"country\": \"Belgium\", \"cluster\": 1, \"pop\": 10155459, \"life_expect\": 77.53, \"fertility\": 1.604}, {\"year\": 2000, \"country\": \"Belgium\", \"cluster\": 1, \"pop\": 10263618, \"life_expect\": 78.32, \"fertility\": 1.638}, {\"year\": 2005, \"country\": \"Belgium\", \"cluster\": 1, \"pop\": 10364388, \"life_expect\": 79.441, \"fertility\": 1.646}, {\"year\": 1955, \"country\": \"Bolivia\", \"cluster\": 3, \"pop\": 3074311, \"life_expect\": 41.89, \"fertility\": 6.75}, {\"year\": 1960, \"country\": \"Bolivia\", \"cluster\": 3, \"pop\": 3434073, \"life_expect\": 43.428, \"fertility\": 6.63}, {\"year\": 1965, \"country\": \"Bolivia\", \"cluster\": 3, \"pop\": 3853315, \"life_expect\": 45.032, \"fertility\": 6.5600000000000005}, {\"year\": 1970, \"country\": \"Bolivia\", \"cluster\": 3, \"pop\": 4346218, \"life_expect\": 46.714, \"fertility\": 6.5}, {\"year\": 1975, \"country\": \"Bolivia\", \"cluster\": 3, \"pop\": 4914316, \"life_expect\": 50.023, \"fertility\": 5.8}, {\"year\": 1980, \"country\": \"Bolivia\", \"cluster\": 3, \"pop\": 5441298, \"life_expect\": 53.859, \"fertility\": 5.2995}, {\"year\": 1985, \"country\": \"Bolivia\", \"cluster\": 3, \"pop\": 5934935, \"life_expect\": 57.251, \"fertility\": 5.0}, {\"year\": 1990, \"country\": \"Bolivia\", \"cluster\": 3, \"pop\": 6573900, \"life_expect\": 59.957, \"fertility\": 4.8}, {\"year\": 1995, \"country\": \"Bolivia\", \"cluster\": 3, \"pop\": 7376582, \"life_expect\": 62.05, \"fertility\": 4.324}, {\"year\": 2000, \"country\": \"Bolivia\", \"cluster\": 3, \"pop\": 8152620, \"life_expect\": 63.883, \"fertility\": 3.9585}, {\"year\": 2005, \"country\": \"Bolivia\", \"cluster\": 3, \"pop\": 8857870, \"life_expect\": 65.554, \"fertility\": 3.5}, {\"year\": 1955, \"country\": \"Brazil\", \"cluster\": 3, \"pop\": 61773546, \"life_expect\": 53.285, \"fertility\": 6.1501}, {\"year\": 1960, \"country\": \"Brazil\", \"cluster\": 3, \"pop\": 71694810, \"life_expect\": 55.665, \"fertility\": 6.1501}, {\"year\": 1965, \"country\": \"Brazil\", \"cluster\": 3, \"pop\": 83092908, \"life_expect\": 57.632, \"fertility\": 5.38}, {\"year\": 1970, \"country\": \"Brazil\", \"cluster\": 3, \"pop\": 95684297, \"life_expect\": 59.504, \"fertility\": 4.7175}, {\"year\": 1975, \"country\": \"Brazil\", \"cluster\": 3, \"pop\": 108823732, \"life_expect\": 61.489, \"fertility\": 4.305}, {\"year\": 1980, \"country\": \"Brazil\", \"cluster\": 3, \"pop\": 122958132, \"life_expect\": 63.336, \"fertility\": 3.8}, {\"year\": 1985, \"country\": \"Brazil\", \"cluster\": 3, \"pop\": 137302933, \"life_expect\": 65.205, \"fertility\": 3.1}, {\"year\": 1990, \"country\": \"Brazil\", \"cluster\": 3, \"pop\": 151083809, \"life_expect\": 67.057, \"fertility\": 2.6}, {\"year\": 1995, \"country\": \"Brazil\", \"cluster\": 3, \"pop\": 163542501, \"life_expect\": 69.388, \"fertility\": 2.45}, {\"year\": 2000, \"country\": \"Brazil\", \"cluster\": 3, \"pop\": 175552771, \"life_expect\": 71.006, \"fertility\": 2.345}, {\"year\": 2005, \"country\": \"Brazil\", \"cluster\": 3, \"pop\": 186112794, \"life_expect\": 72.39, \"fertility\": 2.245}, {\"year\": 1955, \"country\": \"Canada\", \"cluster\": 3, \"pop\": 16050356, \"life_expect\": 69.96, \"fertility\": 3.882}, {\"year\": 1960, \"country\": \"Canada\", \"cluster\": 3, \"pop\": 18266765, \"life_expect\": 71.3, \"fertility\": 3.675}, {\"year\": 1965, \"country\": \"Canada\", \"cluster\": 3, \"pop\": 20071104, \"life_expect\": 72.13, \"fertility\": 2.61}, {\"year\": 1970, \"country\": \"Canada\", \"cluster\": 3, \"pop\": 21749986, \"life_expect\": 72.88, \"fertility\": 1.976}, {\"year\": 1975, \"country\": \"Canada\", \"cluster\": 3, \"pop\": 23209200, \"life_expect\": 74.21, \"fertility\": 1.734}, {\"year\": 1980, \"country\": \"Canada\", \"cluster\": 3, \"pop\": 24593300, \"life_expect\": 75.76, \"fertility\": 1.634}, {\"year\": 1985, \"country\": \"Canada\", \"cluster\": 3, \"pop\": 25941600, \"life_expect\": 76.86, \"fertility\": 1.616}, {\"year\": 1990, \"country\": \"Canada\", \"cluster\": 3, \"pop\": 27790600, \"life_expect\": 77.95, \"fertility\": 1.694}, {\"year\": 1995, \"country\": \"Canada\", \"cluster\": 3, \"pop\": 29619002, \"life_expect\": 78.61, \"fertility\": 1.564}, {\"year\": 2000, \"country\": \"Canada\", \"cluster\": 3, \"pop\": 31278097, \"life_expect\": 79.77, \"fertility\": 1.522}, {\"year\": 2005, \"country\": \"Canada\", \"cluster\": 3, \"pop\": 32805041, \"life_expect\": 80.653, \"fertility\": 1.5270000000000001}, {\"year\": 1955, \"country\": \"Chile\", \"cluster\": 3, \"pop\": 6743269, \"life_expect\": 56.074, \"fertility\": 5.486}, {\"year\": 1960, \"country\": \"Chile\", \"cluster\": 3, \"pop\": 7585349, \"life_expect\": 57.924, \"fertility\": 5.4385}, {\"year\": 1965, \"country\": \"Chile\", \"cluster\": 3, \"pop\": 8509950, \"life_expect\": 60.523, \"fertility\": 4.4405}, {\"year\": 1970, \"country\": \"Chile\", \"cluster\": 3, \"pop\": 9368558, \"life_expect\": 63.441, \"fertility\": 3.63}, {\"year\": 1975, \"country\": \"Chile\", \"cluster\": 3, \"pop\": 10251542, \"life_expect\": 67.052, \"fertility\": 2.803}, {\"year\": 1980, \"country\": \"Chile\", \"cluster\": 3, \"pop\": 11093718, \"life_expect\": 70.565, \"fertility\": 2.6710000000000003}, {\"year\": 1985, \"country\": \"Chile\", \"cluster\": 3, \"pop\": 12066701, \"life_expect\": 72.492, \"fertility\": 2.65}, {\"year\": 1990, \"country\": \"Chile\", \"cluster\": 3, \"pop\": 13127760, \"life_expect\": 74.126, \"fertility\": 2.55}, {\"year\": 1995, \"country\": \"Chile\", \"cluster\": 3, \"pop\": 14205449, \"life_expect\": 75.816, \"fertility\": 2.21}, {\"year\": 2000, \"country\": \"Chile\", \"cluster\": 3, \"pop\": 15153450, \"life_expect\": 77.86, \"fertility\": 2.0}, {\"year\": 2005, \"country\": \"Chile\", \"cluster\": 3, \"pop\": 15980912, \"life_expect\": 78.553, \"fertility\": 1.944}, {\"year\": 1955, \"country\": \"China\", \"cluster\": 4, \"pop\": 608655000, \"life_expect\": 50.54896, \"fertility\": 5.59}, {\"year\": 1960, \"country\": \"China\", \"cluster\": 4, \"pop\": 667070000, \"life_expect\": 44.50136, \"fertility\": 5.72}, {\"year\": 1965, \"country\": \"China\", \"cluster\": 4, \"pop\": 715185000, \"life_expect\": 58.38112, \"fertility\": 6.06}, {\"year\": 1970, \"country\": \"China\", \"cluster\": 4, \"pop\": 818315000, \"life_expect\": 63.11888, \"fertility\": 4.86}, {\"year\": 1975, \"country\": \"China\", \"cluster\": 4, \"pop\": 916395000, \"life_expect\": 63.96736, \"fertility\": 3.32}, {\"year\": 1980, \"country\": \"China\", \"cluster\": 4, \"pop\": 981235000, \"life_expect\": 65.525, \"fertility\": 2.55}, {\"year\": 1985, \"country\": \"China\", \"cluster\": 4, \"pop\": 1051040000, \"life_expect\": 67.274, \"fertility\": 2.46}, {\"year\": 1990, \"country\": \"China\", \"cluster\": 4, \"pop\": 1135185000, \"life_expect\": 68.69, \"fertility\": 1.92}, {\"year\": 1995, \"country\": \"China\", \"cluster\": 4, \"pop\": 1204855000, \"life_expect\": 70.426, \"fertility\": 1.7810000000000001}, {\"year\": 2000, \"country\": \"China\", \"cluster\": 4, \"pop\": 1262645000, \"life_expect\": 72.028, \"fertility\": 1.7000000000000002}, {\"year\": 2005, \"country\": \"China\", \"cluster\": 4, \"pop\": 1303182268, \"life_expect\": 72.961, \"fertility\": 1.725}, {\"year\": 1955, \"country\": \"Colombia\", \"cluster\": 3, \"pop\": 13588405, \"life_expect\": 55.118, \"fertility\": 6.76}, {\"year\": 1960, \"country\": \"Colombia\", \"cluster\": 3, \"pop\": 15952727, \"life_expect\": 57.863, \"fertility\": 6.76}, {\"year\": 1965, \"country\": \"Colombia\", \"cluster\": 3, \"pop\": 18646175, \"life_expect\": 59.963, \"fertility\": 6.18}, {\"year\": 1970, \"country\": \"Colombia\", \"cluster\": 3, \"pop\": 21429658, \"life_expect\": 61.623, \"fertility\": 5.0005}, {\"year\": 1975, \"country\": \"Colombia\", \"cluster\": 3, \"pop\": 24114177, \"life_expect\": 63.837, \"fertility\": 4.3385}, {\"year\": 1980, \"country\": \"Colombia\", \"cluster\": 3, \"pop\": 26582811, \"life_expect\": 66.653, \"fertility\": 3.685}, {\"year\": 1985, \"country\": \"Colombia\", \"cluster\": 3, \"pop\": 29678395, \"life_expect\": 67.768, \"fertility\": 3.172}, {\"year\": 1990, \"country\": \"Colombia\", \"cluster\": 3, \"pop\": 32858579, \"life_expect\": 68.421, \"fertility\": 2.93005}, {\"year\": 1995, \"country\": \"Colombia\", \"cluster\": 3, \"pop\": 36280883, \"life_expect\": 70.313, \"fertility\": 2.7}, {\"year\": 2000, \"country\": \"Colombia\", \"cluster\": 3, \"pop\": 39685655, \"life_expect\": 71.682, \"fertility\": 2.4705}, {\"year\": 2005, \"country\": \"Colombia\", \"cluster\": 3, \"pop\": 42954279, \"life_expect\": 72.889, \"fertility\": 2.2205}, {\"year\": 1955, \"country\": \"Costa Rica\", \"cluster\": 3, \"pop\": 1031782, \"life_expect\": 60.026, \"fertility\": 7.1135}, {\"year\": 1960, \"country\": \"Costa Rica\", \"cluster\": 3, \"pop\": 1248022, \"life_expect\": 62.842, \"fertility\": 7.2245}, {\"year\": 1965, \"country\": \"Costa Rica\", \"cluster\": 3, \"pop\": 1487605, \"life_expect\": 65.424, \"fertility\": 5.801}, {\"year\": 1970, \"country\": \"Costa Rica\", \"cluster\": 3, \"pop\": 1735523, \"life_expect\": 67.849, \"fertility\": 4.346}, {\"year\": 1975, \"country\": \"Costa Rica\", \"cluster\": 3, \"pop\": 1991580, \"life_expect\": 70.75, \"fertility\": 3.7755}, {\"year\": 1980, \"country\": \"Costa Rica\", \"cluster\": 3, \"pop\": 2299124, \"life_expect\": 73.45, \"fertility\": 3.527}, {\"year\": 1985, \"country\": \"Costa Rica\", \"cluster\": 3, \"pop\": 2643808, \"life_expect\": 74.752, \"fertility\": 3.374}, {\"year\": 1990, \"country\": \"Costa Rica\", \"cluster\": 3, \"pop\": 3027175, \"life_expect\": 75.713, \"fertility\": 2.9450000000000003}, {\"year\": 1995, \"country\": \"Costa Rica\", \"cluster\": 3, \"pop\": 3383786, \"life_expect\": 77.26, \"fertility\": 2.5835}, {\"year\": 2000, \"country\": \"Costa Rica\", \"cluster\": 3, \"pop\": 3710558, \"life_expect\": 78.123, \"fertility\": 2.2815}, {\"year\": 2005, \"country\": \"Costa Rica\", \"cluster\": 3, \"pop\": 4016173, \"life_expect\": 78.782, \"fertility\": 2.0985}, {\"year\": 1955, \"country\": \"Croatia\", \"cluster\": 1, \"pop\": 3955526, \"life_expect\": 64.77, \"fertility\": 2.42}, {\"year\": 1960, \"country\": \"Croatia\", \"cluster\": 1, \"pop\": 4036145, \"life_expect\": 67.13, \"fertility\": 2.27}, {\"year\": 1965, \"country\": \"Croatia\", \"cluster\": 1, \"pop\": 4133313, \"life_expect\": 68.5, \"fertility\": 2.09}, {\"year\": 1970, \"country\": \"Croatia\", \"cluster\": 1, \"pop\": 4205389, \"life_expect\": 69.61, \"fertility\": 1.96}, {\"year\": 1975, \"country\": \"Croatia\", \"cluster\": 1, \"pop\": 4255000, \"life_expect\": 70.64, \"fertility\": 2.02}, {\"year\": 1980, \"country\": \"Croatia\", \"cluster\": 1, \"pop\": 4383000, \"life_expect\": 70.46, \"fertility\": 1.96}, {\"year\": 1985, \"country\": \"Croatia\", \"cluster\": 1, \"pop\": 4457874, \"life_expect\": 71.52, \"fertility\": 1.8399999999999999}, {\"year\": 1990, \"country\": \"Croatia\", \"cluster\": 1, \"pop\": 4508347, \"life_expect\": 72.527, \"fertility\": 1.52}, {\"year\": 1995, \"country\": \"Croatia\", \"cluster\": 1, \"pop\": 4496683, \"life_expect\": 73.68, \"fertility\": 1.537}, {\"year\": 2000, \"country\": \"Croatia\", \"cluster\": 1, \"pop\": 4410830, \"life_expect\": 74.876, \"fertility\": 1.348}, {\"year\": 2005, \"country\": \"Croatia\", \"cluster\": 1, \"pop\": 4495904, \"life_expect\": 75.748, \"fertility\": 1.346}, {\"year\": 1955, \"country\": \"Cuba\", \"cluster\": 3, \"pop\": 6381106, \"life_expect\": 62.325, \"fertility\": 3.6995}, {\"year\": 1960, \"country\": \"Cuba\", \"cluster\": 3, \"pop\": 7027210, \"life_expect\": 65.246, \"fertility\": 4.6805}, {\"year\": 1965, \"country\": \"Cuba\", \"cluster\": 3, \"pop\": 7809916, \"life_expect\": 68.29, \"fertility\": 4.3}, {\"year\": 1970, \"country\": \"Cuba\", \"cluster\": 3, \"pop\": 8542746, \"life_expect\": 70.723, \"fertility\": 3.6}, {\"year\": 1975, \"country\": \"Cuba\", \"cluster\": 3, \"pop\": 9290074, \"life_expect\": 72.649, \"fertility\": 2.15}, {\"year\": 1980, \"country\": \"Cuba\", \"cluster\": 3, \"pop\": 9652975, \"life_expect\": 73.717, \"fertility\": 1.8495}, {\"year\": 1985, \"country\": \"Cuba\", \"cluster\": 3, \"pop\": 10078658, \"life_expect\": 74.174, \"fertility\": 1.8495}, {\"year\": 1990, \"country\": \"Cuba\", \"cluster\": 3, \"pop\": 10544793, \"life_expect\": 74.414, \"fertility\": 1.6505}, {\"year\": 1995, \"country\": \"Cuba\", \"cluster\": 3, \"pop\": 10896802, \"life_expect\": 76.151, \"fertility\": 1.6095000000000002}, {\"year\": 2000, \"country\": \"Cuba\", \"cluster\": 3, \"pop\": 11134273, \"life_expect\": 77.158, \"fertility\": 1.63}, {\"year\": 2005, \"country\": \"Cuba\", \"cluster\": 3, \"pop\": 11346670, \"life_expect\": 78.273, \"fertility\": 1.49}, {\"year\": 1955, \"country\": \"Dominican Republic\", \"cluster\": 3, \"pop\": 2737257, \"life_expect\": 49.828, \"fertility\": 7.6405}, {\"year\": 1960, \"country\": \"Dominican Republic\", \"cluster\": 3, \"pop\": 3231488, \"life_expect\": 53.459, \"fertility\": 7.3505}, {\"year\": 1965, \"country\": \"Dominican Republic\", \"cluster\": 3, \"pop\": 3805881, \"life_expect\": 56.751, \"fertility\": 6.6495}, {\"year\": 1970, \"country\": \"Dominican Republic\", \"cluster\": 3, \"pop\": 4422755, \"life_expect\": 59.631, \"fertility\": 5.71}, {\"year\": 1975, \"country\": \"Dominican Republic\", \"cluster\": 3, \"pop\": 5048499, \"life_expect\": 61.788, \"fertility\": 4.76}, {\"year\": 1980, \"country\": \"Dominican Republic\", \"cluster\": 3, \"pop\": 5696855, \"life_expect\": 63.727, \"fertility\": 4.0}, {\"year\": 1985, \"country\": \"Dominican Republic\", \"cluster\": 3, \"pop\": 6377765, \"life_expect\": 66.046, \"fertility\": 3.47}, {\"year\": 1990, \"country\": \"Dominican Republic\", \"cluster\": 3, \"pop\": 7077651, \"life_expect\": 68.457, \"fertility\": 3.1995}, {\"year\": 1995, \"country\": \"Dominican Republic\", \"cluster\": 3, \"pop\": 7730224, \"life_expect\": 69.957, \"fertility\": 3.05}, {\"year\": 2000, \"country\": \"Dominican Republic\", \"cluster\": 3, \"pop\": 8385828, \"life_expect\": 70.847, \"fertility\": 2.95}, {\"year\": 2005, \"country\": \"Dominican Republic\", \"cluster\": 3, \"pop\": 9049595, \"life_expect\": 72.235, \"fertility\": 2.81}, {\"year\": 1955, \"country\": \"Ecuador\", \"cluster\": 3, \"pop\": 3842399, \"life_expect\": 51.356, \"fertility\": 6.7}, {\"year\": 1960, \"country\": \"Ecuador\", \"cluster\": 3, \"pop\": 4415956, \"life_expect\": 54.64, \"fertility\": 6.7}, {\"year\": 1965, \"country\": \"Ecuador\", \"cluster\": 3, \"pop\": 5117779, \"life_expect\": 56.678, \"fertility\": 6.5}, {\"year\": 1970, \"country\": \"Ecuador\", \"cluster\": 3, \"pop\": 5939246, \"life_expect\": 58.796, \"fertility\": 6.0005}, {\"year\": 1975, \"country\": \"Ecuador\", \"cluster\": 3, \"pop\": 6871698, \"life_expect\": 61.31, \"fertility\": 5.4005}, {\"year\": 1980, \"country\": \"Ecuador\", \"cluster\": 3, \"pop\": 7920499, \"life_expect\": 64.342, \"fertility\": 4.7005}, {\"year\": 1985, \"country\": \"Ecuador\", \"cluster\": 3, \"pop\": 9061664, \"life_expect\": 67.231, \"fertility\": 4.0}, {\"year\": 1990, \"country\": \"Ecuador\", \"cluster\": 3, \"pop\": 10318036, \"life_expect\": 69.613, \"fertility\": 3.4005}, {\"year\": 1995, \"country\": \"Ecuador\", \"cluster\": 3, \"pop\": 11438004, \"life_expect\": 72.312, \"fertility\": 3.1}, {\"year\": 2000, \"country\": \"Ecuador\", \"cluster\": 3, \"pop\": 12505204, \"life_expect\": 74.173, \"fertility\": 2.8175}, {\"year\": 2005, \"country\": \"Ecuador\", \"cluster\": 3, \"pop\": 13363593, \"life_expect\": 74.994, \"fertility\": 2.578}, {\"year\": 1955, \"country\": \"Egypt\", \"cluster\": 5, \"pop\": 23855527, \"life_expect\": 44.444, \"fertility\": 6.97}, {\"year\": 1960, \"country\": \"Egypt\", \"cluster\": 5, \"pop\": 26846610, \"life_expect\": 46.992, \"fertility\": 7.073}, {\"year\": 1965, \"country\": \"Egypt\", \"cluster\": 5, \"pop\": 30265148, \"life_expect\": 49.293, \"fertility\": 6.5600000000000005}, {\"year\": 1970, \"country\": \"Egypt\", \"cluster\": 5, \"pop\": 33574026, \"life_expect\": 51.137, \"fertility\": 5.855}, {\"year\": 1975, \"country\": \"Egypt\", \"cluster\": 5, \"pop\": 36952499, \"life_expect\": 53.319, \"fertility\": 5.609}, {\"year\": 1980, \"country\": \"Egypt\", \"cluster\": 5, \"pop\": 42634215, \"life_expect\": 56.006, \"fertility\": 5.332}, {\"year\": 1985, \"country\": \"Egypt\", \"cluster\": 5, \"pop\": 50052381, \"life_expect\": 59.797, \"fertility\": 4.833}, {\"year\": 1990, \"country\": \"Egypt\", \"cluster\": 5, \"pop\": 56694413, \"life_expect\": 63.674, \"fertility\": 3.908}, {\"year\": 1995, \"country\": \"Egypt\", \"cluster\": 5, \"pop\": 63321615, \"life_expect\": 67.217, \"fertility\": 3.5}, {\"year\": 2000, \"country\": \"Egypt\", \"cluster\": 5, \"pop\": 70492342, \"life_expect\": 69.806, \"fertility\": 3.174}, {\"year\": 2005, \"country\": \"Egypt\", \"cluster\": 5, \"pop\": 77505756, \"life_expect\": 71.338, \"fertility\": 2.891}, {\"year\": 1955, \"country\": \"El Salvador\", \"cluster\": 3, \"pop\": 2221139, \"life_expect\": 48.57, \"fertility\": 6.8065}, {\"year\": 1960, \"country\": \"El Salvador\", \"cluster\": 3, \"pop\": 2581583, \"life_expect\": 52.307, \"fertility\": 6.8469999999999995}, {\"year\": 1965, \"country\": \"El Salvador\", \"cluster\": 3, \"pop\": 3017852, \"life_expect\": 55.855, \"fertility\": 6.621}, {\"year\": 1970, \"country\": \"El Salvador\", \"cluster\": 3, \"pop\": 3603907, \"life_expect\": 58.207, \"fertility\": 6.0995}, {\"year\": 1975, \"country\": \"El Salvador\", \"cluster\": 3, \"pop\": 4071179, \"life_expect\": 56.696, \"fertility\": 5.5996}, {\"year\": 1980, \"country\": \"El Salvador\", \"cluster\": 3, \"pop\": 4566199, \"life_expect\": 56.604, \"fertility\": 4.5}, {\"year\": 1985, \"country\": \"El Salvador\", \"cluster\": 3, \"pop\": 4664361, \"life_expect\": 63.154, \"fertility\": 3.901}, {\"year\": 1990, \"country\": \"El Salvador\", \"cluster\": 3, \"pop\": 5099884, \"life_expect\": 66.798, \"fertility\": 3.52}, {\"year\": 1995, \"country\": \"El Salvador\", \"cluster\": 3, \"pop\": 5568437, \"life_expect\": 69.535, \"fertility\": 3.17}, {\"year\": 2000, \"country\": \"El Salvador\", \"cluster\": 3, \"pop\": 6122515, \"life_expect\": 70.734, \"fertility\": 2.883}, {\"year\": 2005, \"country\": \"El Salvador\", \"cluster\": 3, \"pop\": 6704932, \"life_expect\": 71.878, \"fertility\": 2.6825}, {\"year\": 1955, \"country\": \"Finland\", \"cluster\": 1, \"pop\": 4234900, \"life_expect\": 67.49, \"fertility\": 2.769}, {\"year\": 1960, \"country\": \"Finland\", \"cluster\": 1, \"pop\": 4429600, \"life_expect\": 68.75, \"fertility\": 2.66}, {\"year\": 1965, \"country\": \"Finland\", \"cluster\": 1, \"pop\": 4563732, \"life_expect\": 69.83, \"fertility\": 2.191}, {\"year\": 1970, \"country\": \"Finland\", \"cluster\": 1, \"pop\": 4606307, \"life_expect\": 70.87, \"fertility\": 1.623}, {\"year\": 1975, \"country\": \"Finland\", \"cluster\": 1, \"pop\": 4711439, \"life_expect\": 72.52, \"fertility\": 1.663}, {\"year\": 1980, \"country\": \"Finland\", \"cluster\": 1, \"pop\": 4779535, \"life_expect\": 74.55, \"fertility\": 1.685}, {\"year\": 1985, \"country\": \"Finland\", \"cluster\": 1, \"pop\": 4901783, \"life_expect\": 74.83, \"fertility\": 1.6600000000000001}, {\"year\": 1990, \"country\": \"Finland\", \"cluster\": 1, \"pop\": 4986431, \"life_expect\": 75.7, \"fertility\": 1.819}, {\"year\": 1995, \"country\": \"Finland\", \"cluster\": 1, \"pop\": 5104654, \"life_expect\": 77.13, \"fertility\": 1.7429999999999999}, {\"year\": 2000, \"country\": \"Finland\", \"cluster\": 1, \"pop\": 5168595, \"life_expect\": 78.37, \"fertility\": 1.754}, {\"year\": 2005, \"country\": \"Finland\", \"cluster\": 1, \"pop\": 5223442, \"life_expect\": 79.313, \"fertility\": 1.8250000000000002}, {\"year\": 1955, \"country\": \"France\", \"cluster\": 1, \"pop\": 43427669, \"life_expect\": 68.93, \"fertility\": 2.7119999999999997}, {\"year\": 1960, \"country\": \"France\", \"cluster\": 1, \"pop\": 45670000, \"life_expect\": 70.51, \"fertility\": 2.85}, {\"year\": 1965, \"country\": \"France\", \"cluster\": 1, \"pop\": 48763000, \"life_expect\": 71.55, \"fertility\": 2.607}, {\"year\": 1970, \"country\": \"France\", \"cluster\": 1, \"pop\": 50787000, \"life_expect\": 72.38, \"fertility\": 2.31}, {\"year\": 1975, \"country\": \"France\", \"cluster\": 1, \"pop\": 52758427, \"life_expect\": 73.83, \"fertility\": 1.862}, {\"year\": 1980, \"country\": \"France\", \"cluster\": 1, \"pop\": 53869743, \"life_expect\": 74.89, \"fertility\": 1.866}, {\"year\": 1985, \"country\": \"France\", \"cluster\": 1, \"pop\": 55171224, \"life_expect\": 76.34, \"fertility\": 1.8050000000000002}, {\"year\": 1990, \"country\": \"France\", \"cluster\": 1, \"pop\": 56735161, \"life_expect\": 77.46, \"fertility\": 1.713}, {\"year\": 1995, \"country\": \"France\", \"cluster\": 1, \"pop\": 58149727, \"life_expect\": 78.64, \"fertility\": 1.7624}, {\"year\": 2000, \"country\": \"France\", \"cluster\": 1, \"pop\": 59381628, \"life_expect\": 79.59, \"fertility\": 1.8833000000000002}, {\"year\": 2005, \"country\": \"France\", \"cluster\": 1, \"pop\": 60656178, \"life_expect\": 80.657, \"fertility\": 1.8916}, {\"year\": 1955, \"country\": \"Georgia\", \"cluster\": 1, \"pop\": 3827154, \"life_expect\": 62.625, \"fertility\": 2.909}, {\"year\": 1960, \"country\": \"Georgia\", \"cluster\": 1, \"pop\": 4146570, \"life_expect\": 64.644, \"fertility\": 2.979}, {\"year\": 1965, \"country\": \"Georgia\", \"cluster\": 1, \"pop\": 4464959, \"life_expect\": 66.654, \"fertility\": 2.6109999999999998}, {\"year\": 1970, \"country\": \"Georgia\", \"cluster\": 1, \"pop\": 4694491, \"life_expect\": 68.158, \"fertility\": 2.601}, {\"year\": 1975, \"country\": \"Georgia\", \"cluster\": 1, \"pop\": 4897656, \"life_expect\": 69.634, \"fertility\": 2.39}, {\"year\": 1980, \"country\": \"Georgia\", \"cluster\": 1, \"pop\": 5045697, \"life_expect\": 69.638, \"fertility\": 2.269}, {\"year\": 1985, \"country\": \"Georgia\", \"cluster\": 1, \"pop\": 5192957, \"life_expect\": 70.45, \"fertility\": 2.263}, {\"year\": 1990, \"country\": \"Georgia\", \"cluster\": 1, \"pop\": 5426207, \"life_expect\": 70.465, \"fertility\": 1.9500000000000002}, {\"year\": 1995, \"country\": \"Georgia\", \"cluster\": 1, \"pop\": 5012952, \"life_expect\": 70.49, \"fertility\": 1.58}, {\"year\": 2000, \"country\": \"Georgia\", \"cluster\": 1, \"pop\": 4777209, \"life_expect\": 70.476, \"fertility\": 1.478}, {\"year\": 2005, \"country\": \"Georgia\", \"cluster\": 1, \"pop\": 4677401, \"life_expect\": 70.987, \"fertility\": 1.407}, {\"year\": 1955, \"country\": \"Germany\", \"cluster\": 1, \"pop\": 70195612, \"life_expect\": 69.1, \"fertility\": 2.3}, {\"year\": 1960, \"country\": \"Germany\", \"cluster\": 1, \"pop\": 72480869, \"life_expect\": 70.3, \"fertility\": 2.49}, {\"year\": 1965, \"country\": \"Germany\", \"cluster\": 1, \"pop\": 75638851, \"life_expect\": 70.8, \"fertility\": 2.32}, {\"year\": 1970, \"country\": \"Germany\", \"cluster\": 1, \"pop\": 77783164, \"life_expect\": 71.0, \"fertility\": 1.6400000000000001}, {\"year\": 1975, \"country\": \"Germany\", \"cluster\": 1, \"pop\": 78682325, \"life_expect\": 72.5, \"fertility\": 1.52}, {\"year\": 1980, \"country\": \"Germany\", \"cluster\": 1, \"pop\": 78297904, \"life_expect\": 73.8, \"fertility\": 1.46}, {\"year\": 1985, \"country\": \"Germany\", \"cluster\": 1, \"pop\": 77684907, \"life_expect\": 74.847, \"fertility\": 1.43}, {\"year\": 1990, \"country\": \"Germany\", \"cluster\": 1, \"pop\": 79380394, \"life_expect\": 76.07, \"fertility\": 1.31}, {\"year\": 1995, \"country\": \"Germany\", \"cluster\": 1, \"pop\": 81653702, \"life_expect\": 77.34, \"fertility\": 1.34}, {\"year\": 2000, \"country\": \"Germany\", \"cluster\": 1, \"pop\": 82187909, \"life_expect\": 78.67, \"fertility\": 1.346}, {\"year\": 2005, \"country\": \"Germany\", \"cluster\": 1, \"pop\": 82431390, \"life_expect\": 79.406, \"fertility\": 1.3599999999999999}, {\"year\": 1955, \"country\": \"Greece\", \"cluster\": 1, \"pop\": 7965538, \"life_expect\": 67.86, \"fertility\": 2.27}, {\"year\": 1960, \"country\": \"Greece\", \"cluster\": 1, \"pop\": 8327405, \"life_expect\": 69.51, \"fertility\": 2.2}, {\"year\": 1965, \"country\": \"Greece\", \"cluster\": 1, \"pop\": 8550333, \"life_expect\": 71.0, \"fertility\": 2.38}, {\"year\": 1970, \"country\": \"Greece\", \"cluster\": 1, \"pop\": 8792806, \"life_expect\": 72.34, \"fertility\": 2.32}, {\"year\": 1975, \"country\": \"Greece\", \"cluster\": 1, \"pop\": 9046542, \"life_expect\": 73.68, \"fertility\": 2.32}, {\"year\": 1980, \"country\": \"Greece\", \"cluster\": 1, \"pop\": 9642505, \"life_expect\": 75.24, \"fertility\": 1.96}, {\"year\": 1985, \"country\": \"Greece\", \"cluster\": 1, \"pop\": 9923253, \"life_expect\": 76.67, \"fertility\": 1.53}, {\"year\": 1990, \"country\": \"Greece\", \"cluster\": 1, \"pop\": 10129603, \"life_expect\": 77.03, \"fertility\": 1.37}, {\"year\": 1995, \"country\": \"Greece\", \"cluster\": 1, \"pop\": 10457554, \"life_expect\": 77.869, \"fertility\": 1.296}, {\"year\": 2000, \"country\": \"Greece\", \"cluster\": 1, \"pop\": 10559110, \"life_expect\": 78.256, \"fertility\": 1.2770000000000001}, {\"year\": 2005, \"country\": \"Greece\", \"cluster\": 1, \"pop\": 10668354, \"life_expect\": 79.483, \"fertility\": 1.325}, {\"year\": 1955, \"country\": \"Grenada\", \"cluster\": 3, \"pop\": 84621, \"life_expect\": 63.114, \"fertility\": 6.7}, {\"year\": 1960, \"country\": \"Grenada\", \"cluster\": 3, \"pop\": 90148, \"life_expect\": 63.608, \"fertility\": 6.4}, {\"year\": 1965, \"country\": \"Grenada\", \"cluster\": 3, \"pop\": 93290, \"life_expect\": 64.091, \"fertility\": 4.8}, {\"year\": 1970, \"country\": \"Grenada\", \"cluster\": 3, \"pop\": 95410, \"life_expect\": 64.577, \"fertility\": 4.6}, {\"year\": 1975, \"country\": \"Grenada\", \"cluster\": 3, \"pop\": 95819, \"life_expect\": 65.035, \"fertility\": 4.3}, {\"year\": 1980, \"country\": \"Grenada\", \"cluster\": 3, \"pop\": 90164, \"life_expect\": 65.503, \"fertility\": 4.23}, {\"year\": 1985, \"country\": \"Grenada\", \"cluster\": 3, \"pop\": 92203, \"life_expect\": 66.002, \"fertility\": 4.14}, {\"year\": 1990, \"country\": \"Grenada\", \"cluster\": 3, \"pop\": 92360, \"life_expect\": 66.469, \"fertility\": 3.26}, {\"year\": 1995, \"country\": \"Grenada\", \"cluster\": 3, \"pop\": 90603, \"life_expect\": 66.986, \"fertility\": 2.814}, {\"year\": 2000, \"country\": \"Grenada\", \"cluster\": 3, \"pop\": 89312, \"life_expect\": 67.746, \"fertility\": 2.429}, {\"year\": 2005, \"country\": \"Grenada\", \"cluster\": 3, \"pop\": 89502, \"life_expect\": 68.724, \"fertility\": 2.302}, {\"year\": 1955, \"country\": \"Haiti\", \"cluster\": 3, \"pop\": 3376419, \"life_expect\": 40.696, \"fertility\": 6.3}, {\"year\": 1960, \"country\": \"Haiti\", \"cluster\": 3, \"pop\": 3722743, \"life_expect\": 43.59, \"fertility\": 6.3}, {\"year\": 1965, \"country\": \"Haiti\", \"cluster\": 3, \"pop\": 4137405, \"life_expect\": 46.243, \"fertility\": 6.0}, {\"year\": 1970, \"country\": \"Haiti\", \"cluster\": 3, \"pop\": 4604915, \"life_expect\": 48.042, \"fertility\": 5.6005}, {\"year\": 1975, \"country\": \"Haiti\", \"cluster\": 3, \"pop\": 4828338, \"life_expect\": 49.923, \"fertility\": 5.8}, {\"year\": 1980, \"country\": \"Haiti\", \"cluster\": 3, \"pop\": 5029725, \"life_expect\": 51.461, \"fertility\": 6.2099}, {\"year\": 1985, \"country\": \"Haiti\", \"cluster\": 3, \"pop\": 5517977, \"life_expect\": 53.636, \"fertility\": 5.69985}, {\"year\": 1990, \"country\": \"Haiti\", \"cluster\": 3, \"pop\": 6126101, \"life_expect\": 55.089, \"fertility\": 5.14985}, {\"year\": 1995, \"country\": \"Haiti\", \"cluster\": 3, \"pop\": 6675578, \"life_expect\": 56.671, \"fertility\": 4.61995}, {\"year\": 2000, \"country\": \"Haiti\", \"cluster\": 3, \"pop\": 7306302, \"life_expect\": 58.137, \"fertility\": 4.0}, {\"year\": 2005, \"country\": \"Haiti\", \"cluster\": 3, \"pop\": 8121622, \"life_expect\": 60.916, \"fertility\": 3.5445}, {\"year\": 1955, \"country\": \"Hong Kong\", \"cluster\": 4, \"pop\": 2490400, \"life_expect\": 64.75, \"fertility\": 4.72}, {\"year\": 1960, \"country\": \"Hong Kong\", \"cluster\": 4, \"pop\": 3075300, \"life_expect\": 67.65, \"fertility\": 5.31}, {\"year\": 1965, \"country\": \"Hong Kong\", \"cluster\": 4, \"pop\": 3597900, \"life_expect\": 70.0, \"fertility\": 4.02}, {\"year\": 1970, \"country\": \"Hong Kong\", \"cluster\": 4, \"pop\": 3959000, \"life_expect\": 72.0, \"fertility\": 2.89}, {\"year\": 1975, \"country\": \"Hong Kong\", \"cluster\": 4, \"pop\": 4395800, \"life_expect\": 73.6, \"fertility\": 2.32}, {\"year\": 1980, \"country\": \"Hong Kong\", \"cluster\": 4, \"pop\": 5063100, \"life_expect\": 75.45, \"fertility\": 1.8}, {\"year\": 1985, \"country\": \"Hong Kong\", \"cluster\": 4, \"pop\": 5456200, \"life_expect\": 76.2, \"fertility\": 1.31}, {\"year\": 1990, \"country\": \"Hong Kong\", \"cluster\": 4, \"pop\": 5687959, \"life_expect\": 77.601, \"fertility\": 1.288}, {\"year\": 1995, \"country\": \"Hong Kong\", \"cluster\": 4, \"pop\": 6225347, \"life_expect\": 80.0, \"fertility\": 1.08}, {\"year\": 2000, \"country\": \"Hong Kong\", \"cluster\": 4, \"pop\": 6658720, \"life_expect\": 81.495, \"fertility\": 0.9400000000000001}, {\"year\": 2005, \"country\": \"Hong Kong\", \"cluster\": 4, \"pop\": 6898686, \"life_expect\": 82.208, \"fertility\": 0.966}, {\"year\": 1955, \"country\": \"Iceland\", \"cluster\": 1, \"pop\": 158044, \"life_expect\": 73.47, \"fertility\": 4.023}, {\"year\": 1960, \"country\": \"Iceland\", \"cluster\": 1, \"pop\": 175860, \"life_expect\": 73.68, \"fertility\": 3.943}, {\"year\": 1965, \"country\": \"Iceland\", \"cluster\": 1, \"pop\": 192288, \"life_expect\": 73.73, \"fertility\": 3.154}, {\"year\": 1970, \"country\": \"Iceland\", \"cluster\": 1, \"pop\": 204104, \"life_expect\": 74.46, \"fertility\": 2.843}, {\"year\": 1975, \"country\": \"Iceland\", \"cluster\": 1, \"pop\": 218031, \"life_expect\": 76.11, \"fertility\": 2.287}, {\"year\": 1980, \"country\": \"Iceland\", \"cluster\": 1, \"pop\": 228161, \"life_expect\": 76.99, \"fertility\": 2.248}, {\"year\": 1985, \"country\": \"Iceland\", \"cluster\": 1, \"pop\": 241403, \"life_expect\": 77.23, \"fertility\": 2.116}, {\"year\": 1990, \"country\": \"Iceland\", \"cluster\": 1, \"pop\": 254719, \"life_expect\": 78.77, \"fertility\": 2.194}, {\"year\": 1995, \"country\": \"Iceland\", \"cluster\": 1, \"pop\": 267527, \"life_expect\": 78.95, \"fertility\": 2.056}, {\"year\": 2000, \"country\": \"Iceland\", \"cluster\": 1, \"pop\": 281043, \"life_expect\": 80.5, \"fertility\": 1.9929999999999999}, {\"year\": 2005, \"country\": \"Iceland\", \"cluster\": 1, \"pop\": 296737, \"life_expect\": 81.757, \"fertility\": 2.052}, {\"year\": 1955, \"country\": \"India\", \"cluster\": 0, \"pop\": 393000000, \"life_expect\": 40.249, \"fertility\": 5.8961}, {\"year\": 1960, \"country\": \"India\", \"cluster\": 0, \"pop\": 434000000, \"life_expect\": 43.605, \"fertility\": 5.8216}, {\"year\": 1965, \"country\": \"India\", \"cluster\": 0, \"pop\": 485000000, \"life_expect\": 47.193, \"fertility\": 5.6058}, {\"year\": 1970, \"country\": \"India\", \"cluster\": 0, \"pop\": 541000000, \"life_expect\": 50.651, \"fertility\": 5.264}, {\"year\": 1975, \"country\": \"India\", \"cluster\": 0, \"pop\": 607000000, \"life_expect\": 54.208, \"fertility\": 4.8888}, {\"year\": 1980, \"country\": \"India\", \"cluster\": 0, \"pop\": 679000000, \"life_expect\": 56.596, \"fertility\": 4.4975}, {\"year\": 1985, \"country\": \"India\", \"cluster\": 0, \"pop\": 755000000, \"life_expect\": 58.553, \"fertility\": 4.15}, {\"year\": 1990, \"country\": \"India\", \"cluster\": 0, \"pop\": 839000000, \"life_expect\": 60.223, \"fertility\": 3.8648}, {\"year\": 1995, \"country\": \"India\", \"cluster\": 0, \"pop\": 927000000, \"life_expect\": 61.765, \"fertility\": 3.4551}, {\"year\": 2000, \"country\": \"India\", \"cluster\": 0, \"pop\": 1007702000, \"life_expect\": 62.879, \"fertility\": 3.1132}, {\"year\": 2005, \"country\": \"India\", \"cluster\": 0, \"pop\": 1080264388, \"life_expect\": 64.698, \"fertility\": 2.8073}, {\"year\": 1955, \"country\": \"Indonesia\", \"cluster\": 4, \"pop\": 86807000, \"life_expect\": 39.918, \"fertility\": 5.672}, {\"year\": 1960, \"country\": \"Indonesia\", \"cluster\": 4, \"pop\": 95254000, \"life_expect\": 42.518, \"fertility\": 5.62}, {\"year\": 1965, \"country\": \"Indonesia\", \"cluster\": 4, \"pop\": 105093000, \"life_expect\": 45.964, \"fertility\": 5.568}, {\"year\": 1970, \"country\": \"Indonesia\", \"cluster\": 4, \"pop\": 116044000, \"life_expect\": 49.203, \"fertility\": 5.3}, {\"year\": 1975, \"country\": \"Indonesia\", \"cluster\": 4, \"pop\": 130297000, \"life_expect\": 52.702, \"fertility\": 4.73}, {\"year\": 1980, \"country\": \"Indonesia\", \"cluster\": 4, \"pop\": 146995000, \"life_expect\": 56.159, \"fertility\": 4.109}, {\"year\": 1985, \"country\": \"Indonesia\", \"cluster\": 4, \"pop\": 163403000, \"life_expect\": 60.137, \"fertility\": 3.4}, {\"year\": 1990, \"country\": \"Indonesia\", \"cluster\": 4, \"pop\": 178500000, \"life_expect\": 62.681, \"fertility\": 2.9}, {\"year\": 1995, \"country\": \"Indonesia\", \"cluster\": 4, \"pop\": 194755000, \"life_expect\": 66.041, \"fertility\": 2.55}, {\"year\": 2000, \"country\": \"Indonesia\", \"cluster\": 4, \"pop\": 206265000, \"life_expect\": 68.588, \"fertility\": 2.3761}, {\"year\": 2005, \"country\": \"Indonesia\", \"cluster\": 4, \"pop\": 218465000, \"life_expect\": 70.65, \"fertility\": 2.182}, {\"year\": 1955, \"country\": \"Iran\", \"cluster\": 5, \"pop\": 18729000, \"life_expect\": 47.181, \"fertility\": 7.0}, {\"year\": 1960, \"country\": \"Iran\", \"cluster\": 5, \"pop\": 21577000, \"life_expect\": 49.325, \"fertility\": 7.0}, {\"year\": 1965, \"country\": \"Iran\", \"cluster\": 5, \"pop\": 25000000, \"life_expect\": 52.469, \"fertility\": 6.8}, {\"year\": 1970, \"country\": \"Iran\", \"cluster\": 5, \"pop\": 28933000, \"life_expect\": 55.234, \"fertility\": 6.4}, {\"year\": 1975, \"country\": \"Iran\", \"cluster\": 5, \"pop\": 33379000, \"life_expect\": 57.702, \"fertility\": 6.5}, {\"year\": 1980, \"country\": \"Iran\", \"cluster\": 5, \"pop\": 39583397, \"life_expect\": 59.62, \"fertility\": 6.63}, {\"year\": 1985, \"country\": \"Iran\", \"cluster\": 5, \"pop\": 48439952, \"life_expect\": 63.04, \"fertility\": 5.62}, {\"year\": 1990, \"country\": \"Iran\", \"cluster\": 5, \"pop\": 57035717, \"life_expect\": 65.742, \"fertility\": 4.328}, {\"year\": 1995, \"country\": \"Iran\", \"cluster\": 5, \"pop\": 61628116, \"life_expect\": 68.042, \"fertility\": 2.534}, {\"year\": 2000, \"country\": \"Iran\", \"cluster\": 5, \"pop\": 65660289, \"life_expect\": 69.451, \"fertility\": 2.124}, {\"year\": 2005, \"country\": \"Iran\", \"cluster\": 5, \"pop\": 68017860, \"life_expect\": 70.964, \"fertility\": 2.04}, {\"year\": 1955, \"country\": \"Iraq\", \"cluster\": 5, \"pop\": 5903253, \"life_expect\": 48.437, \"fertility\": 7.3}, {\"year\": 1960, \"country\": \"Iraq\", \"cluster\": 5, \"pop\": 6822030, \"life_expect\": 51.457, \"fertility\": 7.25}, {\"year\": 1965, \"country\": \"Iraq\", \"cluster\": 5, \"pop\": 7970746, \"life_expect\": 54.459, \"fertility\": 7.2}, {\"year\": 1970, \"country\": \"Iraq\", \"cluster\": 5, \"pop\": 9413671, \"life_expect\": 56.95, \"fertility\": 7.15}, {\"year\": 1975, \"country\": \"Iraq\", \"cluster\": 5, \"pop\": 11117804, \"life_expect\": 60.413, \"fertility\": 6.8}, {\"year\": 1980, \"country\": \"Iraq\", \"cluster\": 5, \"pop\": 13232839, \"life_expect\": 62.038, \"fertility\": 6.35}, {\"year\": 1985, \"country\": \"Iraq\", \"cluster\": 5, \"pop\": 15693620, \"life_expect\": 65.044, \"fertility\": 6.15}, {\"year\": 1990, \"country\": \"Iraq\", \"cluster\": 5, \"pop\": 18134702, \"life_expect\": 59.461, \"fertility\": 5.7}, {\"year\": 1995, \"country\": \"Iraq\", \"cluster\": 5, \"pop\": 19557247, \"life_expect\": 58.811, \"fertility\": 5.37}, {\"year\": 2000, \"country\": \"Iraq\", \"cluster\": 5, \"pop\": 22675617, \"life_expect\": 57.046, \"fertility\": 4.858}, {\"year\": 2005, \"country\": \"Iraq\", \"cluster\": 5, \"pop\": 26074906, \"life_expect\": 59.545, \"fertility\": 4.264}, {\"year\": 1955, \"country\": \"Ireland\", \"cluster\": 1, \"pop\": 2916133, \"life_expect\": 68.9, \"fertility\": 3.68}, {\"year\": 1960, \"country\": \"Ireland\", \"cluster\": 1, \"pop\": 2832000, \"life_expect\": 70.29, \"fertility\": 3.979}, {\"year\": 1965, \"country\": \"Ireland\", \"cluster\": 1, \"pop\": 2876000, \"life_expect\": 71.08, \"fertility\": 3.873}, {\"year\": 1970, \"country\": \"Ireland\", \"cluster\": 1, \"pop\": 2950100, \"life_expect\": 71.28, \"fertility\": 3.815}, {\"year\": 1975, \"country\": \"Ireland\", \"cluster\": 1, \"pop\": 3177300, \"life_expect\": 72.03, \"fertility\": 3.478}, {\"year\": 1980, \"country\": \"Ireland\", \"cluster\": 1, \"pop\": 3401000, \"life_expect\": 73.1, \"fertility\": 2.877}, {\"year\": 1985, \"country\": \"Ireland\", \"cluster\": 1, \"pop\": 3540000, \"life_expect\": 74.36, \"fertility\": 2.287}, {\"year\": 1990, \"country\": \"Ireland\", \"cluster\": 1, \"pop\": 3508200, \"life_expect\": 75.467, \"fertility\": 1.9689999999999999}, {\"year\": 1995, \"country\": \"Ireland\", \"cluster\": 1, \"pop\": 3613890, \"life_expect\": 76.122, \"fertility\": 1.9}, {\"year\": 2000, \"country\": \"Ireland\", \"cluster\": 1, \"pop\": 3791690, \"life_expect\": 77.783, \"fertility\": 1.9689999999999999}, {\"year\": 2005, \"country\": \"Ireland\", \"cluster\": 1, \"pop\": 4015676, \"life_expect\": 78.885, \"fertility\": 1.964}, {\"year\": 1955, \"country\": \"Israel\", \"cluster\": 5, \"pop\": 1772032, \"life_expect\": 67.84, \"fertility\": 3.893}, {\"year\": 1960, \"country\": \"Israel\", \"cluster\": 5, \"pop\": 2141495, \"life_expect\": 69.39, \"fertility\": 3.852}, {\"year\": 1965, \"country\": \"Israel\", \"cluster\": 5, \"pop\": 2578184, \"life_expect\": 70.75, \"fertility\": 3.79}, {\"year\": 1970, \"country\": \"Israel\", \"cluster\": 5, \"pop\": 2903434, \"life_expect\": 71.63, \"fertility\": 3.77}, {\"year\": 1975, \"country\": \"Israel\", \"cluster\": 5, \"pop\": 3354242, \"life_expect\": 73.06, \"fertility\": 3.409}, {\"year\": 1980, \"country\": \"Israel\", \"cluster\": 5, \"pop\": 3737473, \"life_expect\": 74.45, \"fertility\": 3.125}, {\"year\": 1985, \"country\": \"Israel\", \"cluster\": 5, \"pop\": 4074965, \"life_expect\": 75.6, \"fertility\": 3.051}, {\"year\": 1990, \"country\": \"Israel\", \"cluster\": 5, \"pop\": 4512068, \"life_expect\": 76.93, \"fertility\": 2.933}, {\"year\": 1995, \"country\": \"Israel\", \"cluster\": 5, \"pop\": 5305120, \"life_expect\": 78.269, \"fertility\": 2.942}, {\"year\": 2000, \"country\": \"Israel\", \"cluster\": 5, \"pop\": 5842454, \"life_expect\": 79.696, \"fertility\": 2.906}, {\"year\": 2005, \"country\": \"Israel\", \"cluster\": 5, \"pop\": 6276883, \"life_expect\": 80.745, \"fertility\": 2.75}, {\"year\": 1955, \"country\": \"Italy\", \"cluster\": 1, \"pop\": 48633000, \"life_expect\": 67.81, \"fertility\": 2.35}, {\"year\": 1960, \"country\": \"Italy\", \"cluster\": 1, \"pop\": 50197600, \"life_expect\": 69.24, \"fertility\": 2.498}, {\"year\": 1965, \"country\": \"Italy\", \"cluster\": 1, \"pop\": 51987100, \"life_expect\": 71.06, \"fertility\": 2.493}, {\"year\": 1970, \"country\": \"Italy\", \"cluster\": 1, \"pop\": 53661100, \"life_expect\": 72.19, \"fertility\": 2.325}, {\"year\": 1975, \"country\": \"Italy\", \"cluster\": 1, \"pop\": 55571894, \"life_expect\": 73.48, \"fertility\": 1.889}, {\"year\": 1980, \"country\": \"Italy\", \"cluster\": 1, \"pop\": 56451247, \"life_expect\": 74.98, \"fertility\": 1.53}, {\"year\": 1985, \"country\": \"Italy\", \"cluster\": 1, \"pop\": 56731215, \"life_expect\": 76.42, \"fertility\": 1.349}, {\"year\": 1990, \"country\": \"Italy\", \"cluster\": 1, \"pop\": 56742886, \"life_expect\": 77.44, \"fertility\": 1.275}, {\"year\": 1995, \"country\": \"Italy\", \"cluster\": 1, \"pop\": 57274531, \"life_expect\": 78.82, \"fertility\": 1.213}, {\"year\": 2000, \"country\": \"Italy\", \"cluster\": 1, \"pop\": 57719337, \"life_expect\": 80.24, \"fertility\": 1.286}, {\"year\": 2005, \"country\": \"Italy\", \"cluster\": 1, \"pop\": 58103033, \"life_expect\": 80.546, \"fertility\": 1.379}, {\"year\": 1955, \"country\": \"Jamaica\", \"cluster\": 3, \"pop\": 1488805, \"life_expect\": 62.61, \"fertility\": 5.08}, {\"year\": 1960, \"country\": \"Jamaica\", \"cluster\": 3, \"pop\": 1631784, \"life_expect\": 65.61, \"fertility\": 5.64}, {\"year\": 1965, \"country\": \"Jamaica\", \"cluster\": 3, \"pop\": 1777397, \"life_expect\": 67.51, \"fertility\": 5.78}, {\"year\": 1970, \"country\": \"Jamaica\", \"cluster\": 3, \"pop\": 1943787, \"life_expect\": 69.0, \"fertility\": 5.0}, {\"year\": 1975, \"country\": \"Jamaica\", \"cluster\": 3, \"pop\": 2104879, \"life_expect\": 70.11, \"fertility\": 4.0}, {\"year\": 1980, \"country\": \"Jamaica\", \"cluster\": 3, \"pop\": 2228803, \"life_expect\": 71.21, \"fertility\": 3.55}, {\"year\": 1985, \"country\": \"Jamaica\", \"cluster\": 3, \"pop\": 2318652, \"life_expect\": 71.77, \"fertility\": 3.1}, {\"year\": 1990, \"country\": \"Jamaica\", \"cluster\": 3, \"pop\": 2347922, \"life_expect\": 71.766, \"fertility\": 2.84}, {\"year\": 1995, \"country\": \"Jamaica\", \"cluster\": 3, \"pop\": 2469389, \"life_expect\": 72.262, \"fertility\": 2.67}, {\"year\": 2000, \"country\": \"Jamaica\", \"cluster\": 3, \"pop\": 2615467, \"life_expect\": 72.047, \"fertility\": 2.628}, {\"year\": 2005, \"country\": \"Jamaica\", \"cluster\": 3, \"pop\": 2735520, \"life_expect\": 72.567, \"fertility\": 2.4289}, {\"year\": 1955, \"country\": \"Japan\", \"cluster\": 4, \"pop\": 89815060, \"life_expect\": 65.5, \"fertility\": 2.08}, {\"year\": 1960, \"country\": \"Japan\", \"cluster\": 4, \"pop\": 94091638, \"life_expect\": 68.73, \"fertility\": 2.02}, {\"year\": 1965, \"country\": \"Japan\", \"cluster\": 4, \"pop\": 98882534, \"life_expect\": 71.43, \"fertility\": 2.0}, {\"year\": 1970, \"country\": \"Japan\", \"cluster\": 4, \"pop\": 104344973, \"life_expect\": 73.42, \"fertility\": 2.07}, {\"year\": 1975, \"country\": \"Japan\", \"cluster\": 4, \"pop\": 111573116, \"life_expect\": 75.38, \"fertility\": 1.81}, {\"year\": 1980, \"country\": \"Japan\", \"cluster\": 4, \"pop\": 116807309, \"life_expect\": 77.11, \"fertility\": 1.76}, {\"year\": 1985, \"country\": \"Japan\", \"cluster\": 4, \"pop\": 120754335, \"life_expect\": 78.67, \"fertility\": 1.6600000000000001}, {\"year\": 1990, \"country\": \"Japan\", \"cluster\": 4, \"pop\": 123537399, \"life_expect\": 79.36, \"fertility\": 1.49}, {\"year\": 1995, \"country\": \"Japan\", \"cluster\": 4, \"pop\": 125341354, \"life_expect\": 80.69, \"fertility\": 1.3900000000000001}, {\"year\": 2000, \"country\": \"Japan\", \"cluster\": 4, \"pop\": 126699784, \"life_expect\": 82.0, \"fertility\": 1.291}, {\"year\": 2005, \"country\": \"Japan\", \"cluster\": 4, \"pop\": 127417244, \"life_expect\": 82.603, \"fertility\": 1.27}, {\"year\": 1955, \"country\": \"Kenya\", \"cluster\": 2, \"pop\": 7033999, \"life_expect\": 44.686, \"fertility\": 7.816}, {\"year\": 1960, \"country\": \"Kenya\", \"cluster\": 2, \"pop\": 8156827, \"life_expect\": 47.949, \"fertility\": 8.12}, {\"year\": 1965, \"country\": \"Kenya\", \"cluster\": 2, \"pop\": 9549179, \"life_expect\": 50.654, \"fertility\": 8.12}, {\"year\": 1970, \"country\": \"Kenya\", \"cluster\": 2, \"pop\": 11247182, \"life_expect\": 53.559, \"fertility\": 8.0}, {\"year\": 1975, \"country\": \"Kenya\", \"cluster\": 2, \"pop\": 13433414, \"life_expect\": 56.155, \"fertility\": 7.6}, {\"year\": 1980, \"country\": \"Kenya\", \"cluster\": 2, \"pop\": 16331401, \"life_expect\": 58.766, \"fertility\": 7.2}, {\"year\": 1985, \"country\": \"Kenya\", \"cluster\": 2, \"pop\": 19763285, \"life_expect\": 59.339, \"fertility\": 6.5}, {\"year\": 1990, \"country\": \"Kenya\", \"cluster\": 2, \"pop\": 23358413, \"life_expect\": 59.285, \"fertility\": 5.4}, {\"year\": 1995, \"country\": \"Kenya\", \"cluster\": 2, \"pop\": 27060142, \"life_expect\": 54.407, \"fertility\": 5.0}, {\"year\": 2000, \"country\": \"Kenya\", \"cluster\": 2, \"pop\": 29985839, \"life_expect\": 50.992, \"fertility\": 5.0}, {\"year\": 2005, \"country\": \"Kenya\", \"cluster\": 2, \"pop\": 33829590, \"life_expect\": 54.11, \"fertility\": 4.959}, {\"year\": 1955, \"country\": \"South Korea\", \"cluster\": 4, \"pop\": 8839427, \"life_expect\": 54.081, \"fertility\": 3.8}, {\"year\": 1960, \"country\": \"South Korea\", \"cluster\": 4, \"pop\": 10391909, \"life_expect\": 56.656, \"fertility\": 3.41}, {\"year\": 1965, \"country\": \"South Korea\", \"cluster\": 4, \"pop\": 11868751, \"life_expect\": 59.942, \"fertility\": 4.09}, {\"year\": 1970, \"country\": \"South Korea\", \"cluster\": 4, \"pop\": 13911902, \"life_expect\": 63.983, \"fertility\": 3.7199999999999998}, {\"year\": 1975, \"country\": \"South Korea\", \"cluster\": 4, \"pop\": 15801308, \"life_expect\": 67.159, \"fertility\": 2.58}, {\"year\": 1980, \"country\": \"South Korea\", \"cluster\": 4, \"pop\": 17113626, \"life_expect\": 69.1, \"fertility\": 2.93}, {\"year\": 1985, \"country\": \"South Korea\", \"cluster\": 4, \"pop\": 18481420, \"life_expect\": 70.647, \"fertility\": 2.45}, {\"year\": 1990, \"country\": \"South Korea\", \"cluster\": 4, \"pop\": 20018546, \"life_expect\": 69.978, \"fertility\": 2.35}, {\"year\": 1995, \"country\": \"South Korea\", \"cluster\": 4, \"pop\": 21561856, \"life_expect\": 67.727, \"fertility\": 2.0938}, {\"year\": 2000, \"country\": \"South Korea\", \"cluster\": 4, \"pop\": 21647682, \"life_expect\": 66.662, \"fertility\": 1.9173}, {\"year\": 2005, \"country\": \"South Korea\", \"cluster\": 4, \"pop\": 22912177, \"life_expect\": 67.297, \"fertility\": 1.85}, {\"year\": 1955, \"country\": \"North Korea\", \"cluster\": 4, \"pop\": 21551834, \"life_expect\": 52.681, \"fertility\": 6.332}, {\"year\": 1960, \"country\": \"North Korea\", \"cluster\": 4, \"pop\": 24784140, \"life_expect\": 55.292, \"fertility\": 5.63}, {\"year\": 1965, \"country\": \"North Korea\", \"cluster\": 4, \"pop\": 28705000, \"life_expect\": 57.716, \"fertility\": 4.708}, {\"year\": 1970, \"country\": \"North Korea\", \"cluster\": 4, \"pop\": 32241000, \"life_expect\": 62.612, \"fertility\": 4.281}, {\"year\": 1975, \"country\": \"North Korea\", \"cluster\": 4, \"pop\": 35281000, \"life_expect\": 64.766, \"fertility\": 2.919}, {\"year\": 1980, \"country\": \"North Korea\", \"cluster\": 4, \"pop\": 38124000, \"life_expect\": 67.123, \"fertility\": 2.234}, {\"year\": 1985, \"country\": \"North Korea\", \"cluster\": 4, \"pop\": 40806000, \"life_expect\": 69.81, \"fertility\": 1.601}, {\"year\": 1990, \"country\": \"North Korea\", \"cluster\": 4, \"pop\": 42869000, \"life_expect\": 72.244, \"fertility\": 1.6960000000000002}, {\"year\": 1995, \"country\": \"North Korea\", \"cluster\": 4, \"pop\": 45264146, \"life_expect\": 74.647, \"fertility\": 1.514}, {\"year\": 2000, \"country\": \"North Korea\", \"cluster\": 4, \"pop\": 47351083, \"life_expect\": 77.045, \"fertility\": 1.242}, {\"year\": 2005, \"country\": \"North Korea\", \"cluster\": 4, \"pop\": 48640671, \"life_expect\": 78.623, \"fertility\": 1.21}, {\"year\": 1955, \"country\": \"Lebanon\", \"cluster\": 5, \"pop\": 1560985, \"life_expect\": 59.489, \"fertility\": 5.72}, {\"year\": 1960, \"country\": \"Lebanon\", \"cluster\": 5, \"pop\": 1786235, \"life_expect\": 62.094, \"fertility\": 5.689}, {\"year\": 1965, \"country\": \"Lebanon\", \"cluster\": 5, \"pop\": 2057945, \"life_expect\": 63.87, \"fertility\": 5.336}, {\"year\": 1970, \"country\": \"Lebanon\", \"cluster\": 5, \"pop\": 2383029, \"life_expect\": 65.421, \"fertility\": 4.78}, {\"year\": 1975, \"country\": \"Lebanon\", \"cluster\": 5, \"pop\": 3098159, \"life_expect\": 66.099, \"fertility\": 4.311}, {\"year\": 1980, \"country\": \"Lebanon\", \"cluster\": 5, \"pop\": 3085876, \"life_expect\": 66.983, \"fertility\": 3.895}, {\"year\": 1985, \"country\": \"Lebanon\", \"cluster\": 5, \"pop\": 3088235, \"life_expect\": 67.926, \"fertility\": 3.313}, {\"year\": 1990, \"country\": \"Lebanon\", \"cluster\": 5, \"pop\": 3147267, \"life_expect\": 69.292, \"fertility\": 3.0}, {\"year\": 1995, \"country\": \"Lebanon\", \"cluster\": 5, \"pop\": 3334733, \"life_expect\": 70.265, \"fertility\": 2.6950000000000003}, {\"year\": 2000, \"country\": \"Lebanon\", \"cluster\": 5, \"pop\": 3578036, \"life_expect\": 71.028, \"fertility\": 2.319}, {\"year\": 2005, \"country\": \"Lebanon\", \"cluster\": 5, \"pop\": 3826018, \"life_expect\": 71.993, \"fertility\": 2.209}, {\"year\": 1955, \"country\": \"Mexico\", \"cluster\": 3, \"pop\": 32929914, \"life_expect\": 55.19, \"fertility\": 6.8}, {\"year\": 1960, \"country\": \"Mexico\", \"cluster\": 3, \"pop\": 38578505, \"life_expect\": 58.299, \"fertility\": 6.7495}, {\"year\": 1965, \"country\": \"Mexico\", \"cluster\": 3, \"pop\": 45142399, \"life_expect\": 60.11, \"fertility\": 6.7495}, {\"year\": 1970, \"country\": \"Mexico\", \"cluster\": 3, \"pop\": 52775158, \"life_expect\": 62.361, \"fertility\": 6.5}, {\"year\": 1975, \"country\": \"Mexico\", \"cluster\": 3, \"pop\": 60678045, \"life_expect\": 65.032, \"fertility\": 5.2505}, {\"year\": 1980, \"country\": \"Mexico\", \"cluster\": 3, \"pop\": 68347479, \"life_expect\": 67.405, \"fertility\": 4.25}, {\"year\": 1985, \"country\": \"Mexico\", \"cluster\": 3, \"pop\": 76767225, \"life_expect\": 69.498, \"fertility\": 3.6295}, {\"year\": 1990, \"country\": \"Mexico\", \"cluster\": 3, \"pop\": 84913652, \"life_expect\": 71.455, \"fertility\": 3.1905}, {\"year\": 1995, \"country\": \"Mexico\", \"cluster\": 3, \"pop\": 92880353, \"life_expect\": 73.67, \"fertility\": 2.6705}, {\"year\": 2000, \"country\": \"Mexico\", \"cluster\": 3, \"pop\": 99926620, \"life_expect\": 74.902, \"fertility\": 2.4005}, {\"year\": 2005, \"country\": \"Mexico\", \"cluster\": 3, \"pop\": 106202903, \"life_expect\": 76.195, \"fertility\": 2.211}, {\"year\": 1955, \"country\": \"Netherlands\", \"cluster\": 1, \"pop\": 10750842, \"life_expect\": 72.99, \"fertility\": 3.095}, {\"year\": 1960, \"country\": \"Netherlands\", \"cluster\": 1, \"pop\": 11486000, \"life_expect\": 73.23, \"fertility\": 3.168}, {\"year\": 1965, \"country\": \"Netherlands\", \"cluster\": 1, \"pop\": 12292000, \"life_expect\": 73.82, \"fertility\": 2.797}, {\"year\": 1970, \"country\": \"Netherlands\", \"cluster\": 1, \"pop\": 13032335, \"life_expect\": 73.75, \"fertility\": 2.059}, {\"year\": 1975, \"country\": \"Netherlands\", \"cluster\": 1, \"pop\": 13653438, \"life_expect\": 75.24, \"fertility\": 1.596}, {\"year\": 1980, \"country\": \"Netherlands\", \"cluster\": 1, \"pop\": 14143901, \"life_expect\": 76.05, \"fertility\": 1.5150000000000001}, {\"year\": 1985, \"country\": \"Netherlands\", \"cluster\": 1, \"pop\": 14491380, \"life_expect\": 76.83, \"fertility\": 1.5550000000000002}, {\"year\": 1990, \"country\": \"Netherlands\", \"cluster\": 1, \"pop\": 14951510, \"life_expect\": 77.42, \"fertility\": 1.583}, {\"year\": 1995, \"country\": \"Netherlands\", \"cluster\": 1, \"pop\": 15459054, \"life_expect\": 78.03, \"fertility\": 1.6}, {\"year\": 2000, \"country\": \"Netherlands\", \"cluster\": 1, \"pop\": 15907853, \"life_expect\": 78.53, \"fertility\": 1.726}, {\"year\": 2005, \"country\": \"Netherlands\", \"cluster\": 1, \"pop\": 16407491, \"life_expect\": 79.762, \"fertility\": 1.721}, {\"year\": 1955, \"country\": \"New Zealand\", \"cluster\": 4, \"pop\": 2136168, \"life_expect\": 70.26, \"fertility\": 4.07}, {\"year\": 1960, \"country\": \"New Zealand\", \"cluster\": 4, \"pop\": 2371746, \"life_expect\": 71.24, \"fertility\": 4.022}, {\"year\": 1965, \"country\": \"New Zealand\", \"cluster\": 4, \"pop\": 2640400, \"life_expect\": 71.52, \"fertility\": 3.348}, {\"year\": 1970, \"country\": \"New Zealand\", \"cluster\": 4, \"pop\": 2828050, \"life_expect\": 71.89, \"fertility\": 2.843}, {\"year\": 1975, \"country\": \"New Zealand\", \"cluster\": 4, \"pop\": 3117800, \"life_expect\": 72.22, \"fertility\": 2.178}, {\"year\": 1980, \"country\": \"New Zealand\", \"cluster\": 4, \"pop\": 3170150, \"life_expect\": 73.84, \"fertility\": 1.963}, {\"year\": 1985, \"country\": \"New Zealand\", \"cluster\": 4, \"pop\": 3298050, \"life_expect\": 74.32, \"fertility\": 2.053}, {\"year\": 1990, \"country\": \"New Zealand\", \"cluster\": 4, \"pop\": 3359604, \"life_expect\": 76.33, \"fertility\": 2.061}, {\"year\": 1995, \"country\": \"New Zealand\", \"cluster\": 4, \"pop\": 3565990, \"life_expect\": 77.55, \"fertility\": 1.952}, {\"year\": 2000, \"country\": \"New Zealand\", \"cluster\": 4, \"pop\": 3819762, \"life_expect\": 79.11, \"fertility\": 1.964}, {\"year\": 2005, \"country\": \"New Zealand\", \"cluster\": 4, \"pop\": 4035461, \"life_expect\": 80.204, \"fertility\": 1.994}, {\"year\": 1955, \"country\": \"Nigeria\", \"cluster\": 2, \"pop\": 35458978, \"life_expect\": 37.802, \"fertility\": 6.9}, {\"year\": 1960, \"country\": \"Nigeria\", \"cluster\": 2, \"pop\": 39914593, \"life_expect\": 39.36, \"fertility\": 6.9}, {\"year\": 1965, \"country\": \"Nigeria\", \"cluster\": 2, \"pop\": 45020052, \"life_expect\": 41.04, \"fertility\": 6.9}, {\"year\": 1970, \"country\": \"Nigeria\", \"cluster\": 2, \"pop\": 51027516, \"life_expect\": 42.821, \"fertility\": 6.9}, {\"year\": 1975, \"country\": \"Nigeria\", \"cluster\": 2, \"pop\": 58522112, \"life_expect\": 44.514, \"fertility\": 6.9}, {\"year\": 1980, \"country\": \"Nigeria\", \"cluster\": 2, \"pop\": 68550274, \"life_expect\": 45.826, \"fertility\": 6.9}, {\"year\": 1985, \"country\": \"Nigeria\", \"cluster\": 2, \"pop\": 77573154, \"life_expect\": 46.886, \"fertility\": 6.834}, {\"year\": 1990, \"country\": \"Nigeria\", \"cluster\": 2, \"pop\": 88510354, \"life_expect\": 47.472, \"fertility\": 6.635}, {\"year\": 1995, \"country\": \"Nigeria\", \"cluster\": 2, \"pop\": 100960105, \"life_expect\": 47.464, \"fertility\": 6.246}, {\"year\": 2000, \"country\": \"Nigeria\", \"cluster\": 2, \"pop\": 114306700, \"life_expect\": 46.608, \"fertility\": 5.845}, {\"year\": 2005, \"country\": \"Nigeria\", \"cluster\": 2, \"pop\": 128765768, \"life_expect\": 46.859, \"fertility\": 5.322}, {\"year\": 1955, \"country\": \"Norway\", \"cluster\": 1, \"pop\": 3427409, \"life_expect\": 73.44, \"fertility\": 2.8369999999999997}, {\"year\": 1960, \"country\": \"Norway\", \"cluster\": 1, \"pop\": 3581239, \"life_expect\": 73.47, \"fertility\": 2.898}, {\"year\": 1965, \"country\": \"Norway\", \"cluster\": 1, \"pop\": 3723153, \"life_expect\": 74.08, \"fertility\": 2.719}, {\"year\": 1970, \"country\": \"Norway\", \"cluster\": 1, \"pop\": 3877386, \"life_expect\": 74.34, \"fertility\": 2.248}, {\"year\": 1975, \"country\": \"Norway\", \"cluster\": 1, \"pop\": 4007313, \"life_expect\": 75.37, \"fertility\": 1.81}, {\"year\": 1980, \"country\": \"Norway\", \"cluster\": 1, \"pop\": 4085620, \"life_expect\": 75.97, \"fertility\": 1.687}, {\"year\": 1985, \"country\": \"Norway\", \"cluster\": 1, \"pop\": 4152419, \"life_expect\": 75.89, \"fertility\": 1.8}, {\"year\": 1990, \"country\": \"Norway\", \"cluster\": 1, \"pop\": 4242006, \"life_expect\": 77.32, \"fertility\": 1.8860000000000001}, {\"year\": 1995, \"country\": \"Norway\", \"cluster\": 1, \"pop\": 4359101, \"life_expect\": 78.32, \"fertility\": 1.853}, {\"year\": 2000, \"country\": \"Norway\", \"cluster\": 1, \"pop\": 4492400, \"life_expect\": 79.05, \"fertility\": 1.8010000000000002}, {\"year\": 2005, \"country\": \"Norway\", \"cluster\": 1, \"pop\": 4593041, \"life_expect\": 80.196, \"fertility\": 1.8479999999999999}, {\"year\": 1955, \"country\": \"Pakistan\", \"cluster\": 0, \"pop\": 44434445, \"life_expect\": 45.557, \"fertility\": 6.6}, {\"year\": 1960, \"country\": \"Pakistan\", \"cluster\": 0, \"pop\": 50386898, \"life_expect\": 47.67, \"fertility\": 6.6}, {\"year\": 1965, \"country\": \"Pakistan\", \"cluster\": 0, \"pop\": 57494940, \"life_expect\": 49.8, \"fertility\": 6.6}, {\"year\": 1970, \"country\": \"Pakistan\", \"cluster\": 0, \"pop\": 65705964, \"life_expect\": 51.929, \"fertility\": 6.6}, {\"year\": 1975, \"country\": \"Pakistan\", \"cluster\": 0, \"pop\": 74711541, \"life_expect\": 54.043, \"fertility\": 6.6}, {\"year\": 1980, \"country\": \"Pakistan\", \"cluster\": 0, \"pop\": 85219117, \"life_expect\": 56.158, \"fertility\": 6.6}, {\"year\": 1985, \"country\": \"Pakistan\", \"cluster\": 0, \"pop\": 99060352, \"life_expect\": 58.245, \"fertility\": 6.66}, {\"year\": 1990, \"country\": \"Pakistan\", \"cluster\": 0, \"pop\": 114578478, \"life_expect\": 60.838, \"fertility\": 5.8}, {\"year\": 1995, \"country\": \"Pakistan\", \"cluster\": 0, \"pop\": 128690285, \"life_expect\": 61.818, \"fertility\": 4.9596}, {\"year\": 2000, \"country\": \"Pakistan\", \"cluster\": 0, \"pop\": 146342958, \"life_expect\": 63.61, \"fertility\": 3.9936}, {\"year\": 2005, \"country\": \"Pakistan\", \"cluster\": 0, \"pop\": 162419946, \"life_expect\": 65.483, \"fertility\": 3.5211}, {\"year\": 1955, \"country\": \"Peru\", \"cluster\": 3, \"pop\": 8671500, \"life_expect\": 46.263, \"fertility\": 6.853}, {\"year\": 1960, \"country\": \"Peru\", \"cluster\": 3, \"pop\": 9931000, \"life_expect\": 49.096, \"fertility\": 6.853}, {\"year\": 1965, \"country\": \"Peru\", \"cluster\": 3, \"pop\": 11467300, \"life_expect\": 51.445, \"fertility\": 6.5600000000000005}, {\"year\": 1970, \"country\": \"Peru\", \"cluster\": 3, \"pop\": 13192800, \"life_expect\": 55.448, \"fertility\": 6.0}, {\"year\": 1975, \"country\": \"Peru\", \"cluster\": 3, \"pop\": 15161199, \"life_expect\": 58.447, \"fertility\": 5.378}, {\"year\": 1980, \"country\": \"Peru\", \"cluster\": 3, \"pop\": 17295298, \"life_expect\": 61.406, \"fertility\": 4.65}, {\"year\": 1985, \"country\": \"Peru\", \"cluster\": 3, \"pop\": 19348926, \"life_expect\": 64.134, \"fertility\": 4.1}, {\"year\": 1990, \"country\": \"Peru\", \"cluster\": 3, \"pop\": 21511443, \"life_expect\": 66.458, \"fertility\": 3.7}, {\"year\": 1995, \"country\": \"Peru\", \"cluster\": 3, \"pop\": 23846388, \"life_expect\": 68.386, \"fertility\": 3.0995}, {\"year\": 2000, \"country\": \"Peru\", \"cluster\": 3, \"pop\": 25979722, \"life_expect\": 69.906, \"fertility\": 2.7005}, {\"year\": 2005, \"country\": \"Peru\", \"cluster\": 3, \"pop\": 27925628, \"life_expect\": 71.421, \"fertility\": 2.5065}, {\"year\": 1955, \"country\": \"Philippines\", \"cluster\": 4, \"pop\": 24553055, \"life_expect\": 51.334, \"fertility\": 7.13}, {\"year\": 1960, \"country\": \"Philippines\", \"cluster\": 4, \"pop\": 28528939, \"life_expect\": 54.757, \"fertility\": 6.85}, {\"year\": 1965, \"country\": \"Philippines\", \"cluster\": 4, \"pop\": 33267569, \"life_expect\": 56.393, \"fertility\": 6.5}, {\"year\": 1970, \"country\": \"Philippines\", \"cluster\": 4, \"pop\": 38603696, \"life_expect\": 58.065, \"fertility\": 6.0}, {\"year\": 1975, \"country\": \"Philippines\", \"cluster\": 4, \"pop\": 44336842, \"life_expect\": 60.06, \"fertility\": 5.5}, {\"year\": 1980, \"country\": \"Philippines\", \"cluster\": 4, \"pop\": 50940182, \"life_expect\": 62.082, \"fertility\": 4.95}, {\"year\": 1985, \"country\": \"Philippines\", \"cluster\": 4, \"pop\": 57288037, \"life_expect\": 64.151, \"fertility\": 4.55}, {\"year\": 1990, \"country\": \"Philippines\", \"cluster\": 4, \"pop\": 64318120, \"life_expect\": 66.458, \"fertility\": 4.143}, {\"year\": 1995, \"country\": \"Philippines\", \"cluster\": 4, \"pop\": 71717437, \"life_expect\": 68.564, \"fertility\": 3.7248}, {\"year\": 2000, \"country\": \"Philippines\", \"cluster\": 4, \"pop\": 79739825, \"life_expect\": 70.303, \"fertility\": 3.5436}, {\"year\": 2005, \"country\": \"Philippines\", \"cluster\": 4, \"pop\": 87857473, \"life_expect\": 71.688, \"fertility\": 3.2327}, {\"year\": 1955, \"country\": \"Poland\", \"cluster\": 1, \"pop\": 27220668, \"life_expect\": 65.77, \"fertility\": 3.29}, {\"year\": 1960, \"country\": \"Poland\", \"cluster\": 1, \"pop\": 29589842, \"life_expect\": 67.64, \"fertility\": 2.65}, {\"year\": 1965, \"country\": \"Poland\", \"cluster\": 1, \"pop\": 31262358, \"life_expect\": 69.61, \"fertility\": 2.27}, {\"year\": 1970, \"country\": \"Poland\", \"cluster\": 1, \"pop\": 32526000, \"life_expect\": 70.85, \"fertility\": 2.25}, {\"year\": 1975, \"country\": \"Poland\", \"cluster\": 1, \"pop\": 33969240, \"life_expect\": 70.67, \"fertility\": 2.26}, {\"year\": 1980, \"country\": \"Poland\", \"cluster\": 1, \"pop\": 35578016, \"life_expect\": 71.32, \"fertility\": 2.33}, {\"year\": 1985, \"country\": \"Poland\", \"cluster\": 1, \"pop\": 37225792, \"life_expect\": 70.98, \"fertility\": 2.15}, {\"year\": 1990, \"country\": \"Poland\", \"cluster\": 1, \"pop\": 38119408, \"life_expect\": 70.99, \"fertility\": 1.8900000000000001}, {\"year\": 1995, \"country\": \"Poland\", \"cluster\": 1, \"pop\": 38600642, \"life_expect\": 72.75, \"fertility\": 1.478}, {\"year\": 2000, \"country\": \"Poland\", \"cluster\": 1, \"pop\": 38654164, \"life_expect\": 74.67, \"fertility\": 1.251}, {\"year\": 2005, \"country\": \"Poland\", \"cluster\": 1, \"pop\": 38557984, \"life_expect\": 75.563, \"fertility\": 1.227}, {\"year\": 1955, \"country\": \"Portugal\", \"cluster\": 1, \"pop\": 8692600, \"life_expect\": 61.51, \"fertility\": 3.03}, {\"year\": 1960, \"country\": \"Portugal\", \"cluster\": 1, \"pop\": 9036700, \"life_expect\": 64.39, \"fertility\": 3.074}, {\"year\": 1965, \"country\": \"Portugal\", \"cluster\": 1, \"pop\": 9128850, \"life_expect\": 66.6, \"fertility\": 2.849}, {\"year\": 1970, \"country\": \"Portugal\", \"cluster\": 1, \"pop\": 9044200, \"life_expect\": 69.26, \"fertility\": 2.748}, {\"year\": 1975, \"country\": \"Portugal\", \"cluster\": 1, \"pop\": 9411090, \"life_expect\": 70.41, \"fertility\": 2.41}, {\"year\": 1980, \"country\": \"Portugal\", \"cluster\": 1, \"pop\": 9777800, \"life_expect\": 72.77, \"fertility\": 1.982}, {\"year\": 1985, \"country\": \"Portugal\", \"cluster\": 1, \"pop\": 9897192, \"life_expect\": 74.06, \"fertility\": 1.5939999999999999}, {\"year\": 1990, \"country\": \"Portugal\", \"cluster\": 1, \"pop\": 9922689, \"life_expect\": 74.86, \"fertility\": 1.516}, {\"year\": 1995, \"country\": \"Portugal\", \"cluster\": 1, \"pop\": 10065543, \"life_expect\": 75.97, \"fertility\": 1.475}, {\"year\": 2000, \"country\": \"Portugal\", \"cluster\": 1, \"pop\": 10335597, \"life_expect\": 77.29, \"fertility\": 1.454}, {\"year\": 2005, \"country\": \"Portugal\", \"cluster\": 1, \"pop\": 10566212, \"life_expect\": 78.098, \"fertility\": 1.455}, {\"year\": 1955, \"country\": \"Rwanda\", \"cluster\": 2, \"pop\": 2698272, \"life_expect\": 41.5, \"fertility\": 8.0}, {\"year\": 1960, \"country\": \"Rwanda\", \"cluster\": 2, \"pop\": 3031804, \"life_expect\": 43.0, \"fertility\": 8.1}, {\"year\": 1965, \"country\": \"Rwanda\", \"cluster\": 2, \"pop\": 3264640, \"life_expect\": 44.1, \"fertility\": 8.2}, {\"year\": 1970, \"country\": \"Rwanda\", \"cluster\": 2, \"pop\": 3769171, \"life_expect\": 44.6, \"fertility\": 8.29}, {\"year\": 1975, \"country\": \"Rwanda\", \"cluster\": 2, \"pop\": 4356863, \"life_expect\": 45.0, \"fertility\": 8.492}, {\"year\": 1980, \"country\": \"Rwanda\", \"cluster\": 2, \"pop\": 5138689, \"life_expect\": 46.218, \"fertility\": 8.5}, {\"year\": 1985, \"country\": \"Rwanda\", \"cluster\": 2, \"pop\": 6009833, \"life_expect\": 44.02, \"fertility\": 8.25}, {\"year\": 1990, \"country\": \"Rwanda\", \"cluster\": 2, \"pop\": 6923738, \"life_expect\": 23.599, \"fertility\": 6.9}, {\"year\": 1995, \"country\": \"Rwanda\", \"cluster\": 2, \"pop\": 5706501, \"life_expect\": 36.087, \"fertility\": 6.0993}, {\"year\": 2000, \"country\": \"Rwanda\", \"cluster\": 2, \"pop\": 7507056, \"life_expect\": 43.413, \"fertility\": 6.01}, {\"year\": 2005, \"country\": \"Rwanda\", \"cluster\": 2, \"pop\": 8440820, \"life_expect\": 46.242, \"fertility\": 5.9169}, {\"year\": 1955, \"country\": \"Saudi Arabia\", \"cluster\": 5, \"pop\": 4243218, \"life_expect\": 42.868, \"fertility\": 7.175}, {\"year\": 1960, \"country\": \"Saudi Arabia\", \"cluster\": 5, \"pop\": 4718301, \"life_expect\": 45.914, \"fertility\": 7.257}, {\"year\": 1965, \"country\": \"Saudi Arabia\", \"cluster\": 5, \"pop\": 5327432, \"life_expect\": 49.901, \"fertility\": 7.257}, {\"year\": 1970, \"country\": \"Saudi Arabia\", \"cluster\": 5, \"pop\": 6109051, \"life_expect\": 53.886, \"fertility\": 7.298}, {\"year\": 1975, \"country\": \"Saudi Arabia\", \"cluster\": 5, \"pop\": 7204820, \"life_expect\": 58.69, \"fertility\": 7.2780000000000005}, {\"year\": 1980, \"country\": \"Saudi Arabia\", \"cluster\": 5, \"pop\": 9999161, \"life_expect\": 63.012, \"fertility\": 7.015}, {\"year\": 1985, \"country\": \"Saudi Arabia\", \"cluster\": 5, \"pop\": 13330067, \"life_expect\": 66.295, \"fertility\": 6.217}, {\"year\": 1990, \"country\": \"Saudi Arabia\", \"cluster\": 5, \"pop\": 16060761, \"life_expect\": 68.768, \"fertility\": 5.446}, {\"year\": 1995, \"country\": \"Saudi Arabia\", \"cluster\": 5, \"pop\": 19966998, \"life_expect\": 70.533, \"fertility\": 4.621}, {\"year\": 2000, \"country\": \"Saudi Arabia\", \"cluster\": 5, \"pop\": 23153090, \"life_expect\": 71.626, \"fertility\": 3.81}, {\"year\": 2005, \"country\": \"Saudi Arabia\", \"cluster\": 5, \"pop\": 26417599, \"life_expect\": 72.777, \"fertility\": 3.352}, {\"year\": 1955, \"country\": \"South Africa\", \"cluster\": 2, \"pop\": 15368551, \"life_expect\": 47.985, \"fertility\": 6.5}, {\"year\": 1960, \"country\": \"South Africa\", \"cluster\": 2, \"pop\": 17416653, \"life_expect\": 49.951, \"fertility\": 6.3}, {\"year\": 1965, \"country\": \"South Africa\", \"cluster\": 2, \"pop\": 19898242, \"life_expect\": 51.927, \"fertility\": 5.7}, {\"year\": 1970, \"country\": \"South Africa\", \"cluster\": 2, \"pop\": 22739921, \"life_expect\": 53.696, \"fertility\": 5.47}, {\"year\": 1975, \"country\": \"South Africa\", \"cluster\": 2, \"pop\": 25815144, \"life_expect\": 55.527, \"fertility\": 5.0}, {\"year\": 1980, \"country\": \"South Africa\", \"cluster\": 2, \"pop\": 29251588, \"life_expect\": 58.161, \"fertility\": 4.556}, {\"year\": 1985, \"country\": \"South Africa\", \"cluster\": 2, \"pop\": 34254092, \"life_expect\": 60.834, \"fertility\": 3.85}, {\"year\": 1990, \"country\": \"South Africa\", \"cluster\": 2, \"pop\": 38391094, \"life_expect\": 61.888, \"fertility\": 3.343}, {\"year\": 1995, \"country\": \"South Africa\", \"cluster\": 2, \"pop\": 41779149, \"life_expect\": 60.236, \"fertility\": 2.954}, {\"year\": 2000, \"country\": \"South Africa\", \"cluster\": 2, \"pop\": 44066197, \"life_expect\": 53.365, \"fertility\": 2.802}, {\"year\": 2005, \"country\": \"South Africa\", \"cluster\": 2, \"pop\": 44344136, \"life_expect\": 49.339, \"fertility\": 2.637}, {\"year\": 1955, \"country\": \"Spain\", \"cluster\": 1, \"pop\": 29318745, \"life_expect\": 66.66, \"fertility\": 2.75}, {\"year\": 1960, \"country\": \"Spain\", \"cluster\": 1, \"pop\": 30641187, \"life_expect\": 69.69, \"fertility\": 2.89}, {\"year\": 1965, \"country\": \"Spain\", \"cluster\": 1, \"pop\": 32084511, \"life_expect\": 71.44, \"fertility\": 2.92}, {\"year\": 1970, \"country\": \"Spain\", \"cluster\": 1, \"pop\": 33876479, \"life_expect\": 73.06, \"fertility\": 2.86}, {\"year\": 1975, \"country\": \"Spain\", \"cluster\": 1, \"pop\": 35563535, \"life_expect\": 74.39, \"fertility\": 2.5700000000000003}, {\"year\": 1980, \"country\": \"Spain\", \"cluster\": 1, \"pop\": 37488360, \"life_expect\": 76.3, \"fertility\": 1.8900000000000001}, {\"year\": 1985, \"country\": \"Spain\", \"cluster\": 1, \"pop\": 38534853, \"life_expect\": 76.9, \"fertility\": 1.48}, {\"year\": 1990, \"country\": \"Spain\", \"cluster\": 1, \"pop\": 39350769, \"life_expect\": 77.57, \"fertility\": 1.27}, {\"year\": 1995, \"country\": \"Spain\", \"cluster\": 1, \"pop\": 39749715, \"life_expect\": 78.77, \"fertility\": 1.182}, {\"year\": 2000, \"country\": \"Spain\", \"cluster\": 1, \"pop\": 40016081, \"life_expect\": 79.78, \"fertility\": 1.287}, {\"year\": 2005, \"country\": \"Spain\", \"cluster\": 1, \"pop\": 40341462, \"life_expect\": 80.941, \"fertility\": 1.409}, {\"year\": 1955, \"country\": \"Switzerland\", \"cluster\": 1, \"pop\": 4980000, \"life_expect\": 70.56, \"fertility\": 2.34}, {\"year\": 1960, \"country\": \"Switzerland\", \"cluster\": 1, \"pop\": 5362000, \"life_expect\": 71.32, \"fertility\": 2.51}, {\"year\": 1965, \"country\": \"Switzerland\", \"cluster\": 1, \"pop\": 5943000, \"life_expect\": 72.77, \"fertility\": 2.27}, {\"year\": 1970, \"country\": \"Switzerland\", \"cluster\": 1, \"pop\": 6267000, \"life_expect\": 73.78, \"fertility\": 1.82}, {\"year\": 1975, \"country\": \"Switzerland\", \"cluster\": 1, \"pop\": 6403500, \"life_expect\": 75.39, \"fertility\": 1.53}, {\"year\": 1980, \"country\": \"Switzerland\", \"cluster\": 1, \"pop\": 6385229, \"life_expect\": 76.21, \"fertility\": 1.53}, {\"year\": 1985, \"country\": \"Switzerland\", \"cluster\": 1, \"pop\": 6563770, \"life_expect\": 77.41, \"fertility\": 1.53}, {\"year\": 1990, \"country\": \"Switzerland\", \"cluster\": 1, \"pop\": 6836626, \"life_expect\": 78.03, \"fertility\": 1.54}, {\"year\": 1995, \"country\": \"Switzerland\", \"cluster\": 1, \"pop\": 7157106, \"life_expect\": 79.37, \"fertility\": 1.47}, {\"year\": 2000, \"country\": \"Switzerland\", \"cluster\": 1, \"pop\": 7266920, \"life_expect\": 80.62, \"fertility\": 1.415}, {\"year\": 2005, \"country\": \"Switzerland\", \"cluster\": 1, \"pop\": 7489370, \"life_expect\": 81.701, \"fertility\": 1.42}, {\"year\": 1955, \"country\": \"Turkey\", \"cluster\": 1, \"pop\": 24144571, \"life_expect\": 48.079, \"fertility\": 6.6}, {\"year\": 1960, \"country\": \"Turkey\", \"cluster\": 1, \"pop\": 28217122, \"life_expect\": 52.098, \"fertility\": 6.19}, {\"year\": 1965, \"country\": \"Turkey\", \"cluster\": 1, \"pop\": 31950718, \"life_expect\": 54.336, \"fertility\": 5.7}, {\"year\": 1970, \"country\": \"Turkey\", \"cluster\": 1, \"pop\": 35758382, \"life_expect\": 57.005, \"fertility\": 5.3}, {\"year\": 1975, \"country\": \"Turkey\", \"cluster\": 1, \"pop\": 40529798, \"life_expect\": 59.507, \"fertility\": 4.715}, {\"year\": 1980, \"country\": \"Turkey\", \"cluster\": 1, \"pop\": 45120802, \"life_expect\": 61.036, \"fertility\": 4.15}, {\"year\": 1985, \"country\": \"Turkey\", \"cluster\": 1, \"pop\": 50669003, \"life_expect\": 63.108, \"fertility\": 3.276}, {\"year\": 1990, \"country\": \"Turkey\", \"cluster\": 1, \"pop\": 56084632, \"life_expect\": 66.146, \"fertility\": 2.904}, {\"year\": 1995, \"country\": \"Turkey\", \"cluster\": 1, \"pop\": 61188984, \"life_expect\": 68.835, \"fertility\": 2.574}, {\"year\": 2000, \"country\": \"Turkey\", \"cluster\": 1, \"pop\": 65666677, \"life_expect\": 70.845, \"fertility\": 2.23}, {\"year\": 2005, \"country\": \"Turkey\", \"cluster\": 1, \"pop\": 69660559, \"life_expect\": 71.777, \"fertility\": 2.143}, {\"year\": 1955, \"country\": \"United Kingdom\", \"cluster\": 1, \"pop\": 50946000, \"life_expect\": 70.42, \"fertility\": 2.49}, {\"year\": 1960, \"country\": \"United Kingdom\", \"cluster\": 1, \"pop\": 52372000, \"life_expect\": 70.76, \"fertility\": 2.81}, {\"year\": 1965, \"country\": \"United Kingdom\", \"cluster\": 1, \"pop\": 54350000, \"life_expect\": 71.36, \"fertility\": 2.52}, {\"year\": 1970, \"country\": \"United Kingdom\", \"cluster\": 1, \"pop\": 55632000, \"life_expect\": 72.01, \"fertility\": 2.04}, {\"year\": 1975, \"country\": \"United Kingdom\", \"cluster\": 1, \"pop\": 56215000, \"life_expect\": 72.76, \"fertility\": 1.72}, {\"year\": 1980, \"country\": \"United Kingdom\", \"cluster\": 1, \"pop\": 56314000, \"life_expect\": 74.04, \"fertility\": 1.8}, {\"year\": 1985, \"country\": \"United Kingdom\", \"cluster\": 1, \"pop\": 56620240, \"life_expect\": 75.007, \"fertility\": 1.81}, {\"year\": 1990, \"country\": \"United Kingdom\", \"cluster\": 1, \"pop\": 57493307, \"life_expect\": 76.42, \"fertility\": 1.78}, {\"year\": 1995, \"country\": \"United Kingdom\", \"cluster\": 1, \"pop\": 58426014, \"life_expect\": 77.218, \"fertility\": 1.7000000000000002}, {\"year\": 2000, \"country\": \"United Kingdom\", \"cluster\": 1, \"pop\": 59522468, \"life_expect\": 78.471, \"fertility\": 1.695}, {\"year\": 2005, \"country\": \"United Kingdom\", \"cluster\": 1, \"pop\": 60441457, \"life_expect\": 79.425, \"fertility\": 1.815}, {\"year\": 1955, \"country\": \"United States\", \"cluster\": 3, \"pop\": 165931000, \"life_expect\": 69.49, \"fertility\": 3.706}, {\"year\": 1960, \"country\": \"United States\", \"cluster\": 3, \"pop\": 180671000, \"life_expect\": 70.21, \"fertility\": 3.314}, {\"year\": 1965, \"country\": \"United States\", \"cluster\": 3, \"pop\": 194303000, \"life_expect\": 70.76, \"fertility\": 2.545}, {\"year\": 1970, \"country\": \"United States\", \"cluster\": 3, \"pop\": 205052000, \"life_expect\": 71.34, \"fertility\": 2.016}, {\"year\": 1975, \"country\": \"United States\", \"cluster\": 3, \"pop\": 215973000, \"life_expect\": 73.38, \"fertility\": 1.788}, {\"year\": 1980, \"country\": \"United States\", \"cluster\": 3, \"pop\": 227726463, \"life_expect\": 74.65, \"fertility\": 1.8250000000000002}, {\"year\": 1985, \"country\": \"United States\", \"cluster\": 3, \"pop\": 238466283, \"life_expect\": 75.02, \"fertility\": 1.924}, {\"year\": 1990, \"country\": \"United States\", \"cluster\": 3, \"pop\": 250131894, \"life_expect\": 76.09, \"fertility\": 2.025}, {\"year\": 1995, \"country\": \"United States\", \"cluster\": 3, \"pop\": 266557091, \"life_expect\": 76.81, \"fertility\": 1.994}, {\"year\": 2000, \"country\": \"United States\", \"cluster\": 3, \"pop\": 282338631, \"life_expect\": 77.31, \"fertility\": 2.038}, {\"year\": 2005, \"country\": \"United States\", \"cluster\": 3, \"pop\": 295734134, \"life_expect\": 78.242, \"fertility\": 2.054}, {\"year\": 1955, \"country\": \"Venezuela\", \"cluster\": 3, \"pop\": 6170497, \"life_expect\": 57.907, \"fertility\": 6.4585}, {\"year\": 1960, \"country\": \"Venezuela\", \"cluster\": 3, \"pop\": 7556483, \"life_expect\": 60.77, \"fertility\": 6.657}, {\"year\": 1965, \"country\": \"Venezuela\", \"cluster\": 3, \"pop\": 9067735, \"life_expect\": 63.479, \"fertility\": 5.9045000000000005}, {\"year\": 1970, \"country\": \"Venezuela\", \"cluster\": 3, \"pop\": 10758017, \"life_expect\": 65.712, \"fertility\": 4.941}, {\"year\": 1975, \"country\": \"Venezuela\", \"cluster\": 3, \"pop\": 12674987, \"life_expect\": 67.456, \"fertility\": 4.4685}, {\"year\": 1980, \"country\": \"Venezuela\", \"cluster\": 3, \"pop\": 14767890, \"life_expect\": 68.557, \"fertility\": 3.957}, {\"year\": 1985, \"country\": \"Venezuela\", \"cluster\": 3, \"pop\": 16997509, \"life_expect\": 70.19, \"fertility\": 3.6485000000000003}, {\"year\": 1990, \"country\": \"Venezuela\", \"cluster\": 3, \"pop\": 19325222, \"life_expect\": 71.15, \"fertility\": 3.25}, {\"year\": 1995, \"country\": \"Venezuela\", \"cluster\": 3, \"pop\": 21555902, \"life_expect\": 72.146, \"fertility\": 2.9415}, {\"year\": 2000, \"country\": \"Venezuela\", \"cluster\": 3, \"pop\": 23542649, \"life_expect\": 72.766, \"fertility\": 2.723}, {\"year\": 2005, \"country\": \"Venezuela\", \"cluster\": 3, \"pop\": 25375281, \"life_expect\": 73.747, \"fertility\": 2.547}]}}, {\"mode\": \"vega-lite\"});\n",
       "</script>"
      ],
      "text/plain": [
       "alt.Chart(...)"
      ]
     },
     "execution_count": 39,
     "metadata": {},
     "output_type": "execute_result"
    }
   ],
   "source": [
    "alt.Chart(data).mark_line(\n",
    "    strokeWidth=3,                        # 선 굵기\n",
    "    opacity=0.5,                          # 투명도\n",
    "    interpolate='monotone'                # 모노톤 보간법 적용하여 부드러운 곡선 효과\n",
    ").encode(\n",
    "    alt.X('year:O'),\n",
    "    alt.Y('fertility:Q'),\n",
    "    alt.Color('country:N', legend=None),\n",
    "    alt.Tooltip('country:N')\n",
    ").properties(\n",
    "    width=600\n",
    ")"
   ]
  },
  {
   "cell_type": "markdown",
   "metadata": {
    "colab_type": "text",
    "id": "_PZcXCF6OZm2",
    "slideshow": {
     "slide_type": "subslide"
    }
   },
   "source": [
    "- `line` 마크를 사용하여 *기울기 그래프(slope graphs)*를 시각화 할 수 있다.  \n",
    "  이를 통해 두 비교 대상 점 간의 변화를 기울기로 보여주는 시각화가 가능하다. \n",
    "- 모든 국가의 인구 변화를 기울기로 보여주는 기울기 그래프를 시각화 해 보자. \n",
    "  - 먼저 판다스 데이터프레임에서 1955년과 2005년에 해당하는 데이터 만을 추출하자. \n",
    "  - 기본값으로 그리면, 두 연도에 해당하는 x-축 눈금이 너무 근접하게 되므로,  \n",
    "    폭과 관련한 속성을 `width={\"step\": 100}`으로 조정하자. "
   ]
  },
  {
   "cell_type": "code",
   "execution_count": 40,
   "metadata": {
    "colab": {
     "base_uri": "https://localhost:8080/",
     "height": 385
    },
    "colab_type": "code",
    "id": "glipk3XoKUcc",
    "outputId": "edd1292a-97a7-44d1-b2ec-c5b8d755aa86",
    "slideshow": {
     "slide_type": "subslide"
    }
   },
   "outputs": [
    {
     "data": {
      "text/html": [
       "\n",
       "<div id=\"altair-viz-8116262bb5134d9190b6ecef7299627b\"></div>\n",
       "<script type=\"text/javascript\">\n",
       "  (function(spec, embedOpt){\n",
       "    let outputDiv = document.currentScript.previousElementSibling;\n",
       "    if (outputDiv.id !== \"altair-viz-8116262bb5134d9190b6ecef7299627b\") {\n",
       "      outputDiv = document.getElementById(\"altair-viz-8116262bb5134d9190b6ecef7299627b\");\n",
       "    }\n",
       "    const paths = {\n",
       "      \"vega\": \"https://cdn.jsdelivr.net/npm//vega@5?noext\",\n",
       "      \"vega-lib\": \"https://cdn.jsdelivr.net/npm//vega-lib?noext\",\n",
       "      \"vega-lite\": \"https://cdn.jsdelivr.net/npm//vega-lite@4.8.1?noext\",\n",
       "      \"vega-embed\": \"https://cdn.jsdelivr.net/npm//vega-embed@6?noext\",\n",
       "    };\n",
       "\n",
       "    function loadScript(lib) {\n",
       "      return new Promise(function(resolve, reject) {\n",
       "        var s = document.createElement('script');\n",
       "        s.src = paths[lib];\n",
       "        s.async = true;\n",
       "        s.onload = () => resolve(paths[lib]);\n",
       "        s.onerror = () => reject(`Error loading script: ${paths[lib]}`);\n",
       "        document.getElementsByTagName(\"head\")[0].appendChild(s);\n",
       "      });\n",
       "    }\n",
       "\n",
       "    function showError(err) {\n",
       "      outputDiv.innerHTML = `<div class=\"error\" style=\"color:red;\">${err}</div>`;\n",
       "      throw err;\n",
       "    }\n",
       "\n",
       "    function displayChart(vegaEmbed) {\n",
       "      vegaEmbed(outputDiv, spec, embedOpt)\n",
       "        .catch(err => showError(`Javascript Error: ${err.message}<br>This usually means there's a typo in your chart specification. See the javascript console for the full traceback.`));\n",
       "    }\n",
       "\n",
       "    if(typeof define === \"function\" && define.amd) {\n",
       "      requirejs.config({paths});\n",
       "      require([\"vega-embed\"], displayChart, err => showError(`Error loading script: ${err.message}`));\n",
       "    } else if (typeof vegaEmbed === \"function\") {\n",
       "      displayChart(vegaEmbed);\n",
       "    } else {\n",
       "      loadScript(\"vega\")\n",
       "        .then(() => loadScript(\"vega-lite\"))\n",
       "        .then(() => loadScript(\"vega-embed\"))\n",
       "        .catch(showError)\n",
       "        .then(() => displayChart(vegaEmbed));\n",
       "    }\n",
       "  })({\"config\": {\"view\": {\"continuousWidth\": 400, \"continuousHeight\": 300}}, \"data\": {\"name\": \"data-cb152d9c221aa74672d5bedc49a3e5c7\"}, \"mark\": {\"type\": \"line\", \"opacity\": 0.5}, \"encoding\": {\"color\": {\"type\": \"nominal\", \"field\": \"country\", \"legend\": null}, \"tooltip\": {\"type\": \"nominal\", \"field\": \"country\"}, \"x\": {\"type\": \"ordinal\", \"field\": \"year\"}, \"y\": {\"type\": \"quantitative\", \"field\": \"pop\"}}, \"width\": {\"step\": 100}, \"$schema\": \"https://vega.github.io/schema/vega-lite/v4.8.1.json\", \"datasets\": {\"data-cb152d9c221aa74672d5bedc49a3e5c7\": [{\"year\": 1955, \"country\": \"Afghanistan\", \"cluster\": 0, \"pop\": 8891209, \"life_expect\": 30.332, \"fertility\": 7.7}, {\"year\": 2005, \"country\": \"Afghanistan\", \"cluster\": 0, \"pop\": 29928987, \"life_expect\": 43.828, \"fertility\": 7.0685}, {\"year\": 1955, \"country\": \"Argentina\", \"cluster\": 3, \"pop\": 18927821, \"life_expect\": 64.399, \"fertility\": 3.1265}, {\"year\": 2005, \"country\": \"Argentina\", \"cluster\": 3, \"pop\": 39537943, \"life_expect\": 75.32, \"fertility\": 2.254}, {\"year\": 1955, \"country\": \"Aruba\", \"cluster\": 3, \"pop\": 53865, \"life_expect\": 64.381, \"fertility\": 5.15}, {\"year\": 2005, \"country\": \"Aruba\", \"cluster\": 3, \"pop\": 71566, \"life_expect\": 74.239, \"fertility\": 2.04}, {\"year\": 1955, \"country\": \"Australia\", \"cluster\": 4, \"pop\": 9277087, \"life_expect\": 70.33, \"fertility\": 3.406}, {\"year\": 2005, \"country\": \"Australia\", \"cluster\": 4, \"pop\": 20090437, \"life_expect\": 81.235, \"fertility\": 1.788}, {\"year\": 1955, \"country\": \"Austria\", \"cluster\": 1, \"pop\": 6946885, \"life_expect\": 67.48, \"fertility\": 2.52}, {\"year\": 2005, \"country\": \"Austria\", \"cluster\": 1, \"pop\": 8184691, \"life_expect\": 79.829, \"fertility\": 1.42}, {\"year\": 1955, \"country\": \"Bahamas\", \"cluster\": 3, \"pop\": 87138, \"life_expect\": 62.405, \"fertility\": 4.305}, {\"year\": 2005, \"country\": \"Bahamas\", \"cluster\": 3, \"pop\": 301790, \"life_expect\": 73.495, \"fertility\": 2.0221}, {\"year\": 1955, \"country\": \"Bangladesh\", \"cluster\": 0, \"pop\": 49601520, \"life_expect\": 39.348, \"fertility\": 6.76}, {\"year\": 2005, \"country\": \"Bangladesh\", \"cluster\": 0, \"pop\": 144319628, \"life_expect\": 64.062, \"fertility\": 2.826}, {\"year\": 1955, \"country\": \"Barbados\", \"cluster\": 3, \"pop\": 227255, \"life_expect\": 62.57, \"fertility\": 4.67}, {\"year\": 2005, \"country\": \"Barbados\", \"cluster\": 3, \"pop\": 278870, \"life_expect\": 77.296, \"fertility\": 1.5}, {\"year\": 1955, \"country\": \"Belgium\", \"cluster\": 1, \"pop\": 8868475, \"life_expect\": 69.24, \"fertility\": 2.496}, {\"year\": 2005, \"country\": \"Belgium\", \"cluster\": 1, \"pop\": 10364388, \"life_expect\": 79.441, \"fertility\": 1.646}, {\"year\": 1955, \"country\": \"Bolivia\", \"cluster\": 3, \"pop\": 3074311, \"life_expect\": 41.89, \"fertility\": 6.75}, {\"year\": 2005, \"country\": \"Bolivia\", \"cluster\": 3, \"pop\": 8857870, \"life_expect\": 65.554, \"fertility\": 3.5}, {\"year\": 1955, \"country\": \"Brazil\", \"cluster\": 3, \"pop\": 61773546, \"life_expect\": 53.285, \"fertility\": 6.1501}, {\"year\": 2005, \"country\": \"Brazil\", \"cluster\": 3, \"pop\": 186112794, \"life_expect\": 72.39, \"fertility\": 2.245}, {\"year\": 1955, \"country\": \"Canada\", \"cluster\": 3, \"pop\": 16050356, \"life_expect\": 69.96, \"fertility\": 3.882}, {\"year\": 2005, \"country\": \"Canada\", \"cluster\": 3, \"pop\": 32805041, \"life_expect\": 80.653, \"fertility\": 1.5270000000000001}, {\"year\": 1955, \"country\": \"Chile\", \"cluster\": 3, \"pop\": 6743269, \"life_expect\": 56.074, \"fertility\": 5.486}, {\"year\": 2005, \"country\": \"Chile\", \"cluster\": 3, \"pop\": 15980912, \"life_expect\": 78.553, \"fertility\": 1.944}, {\"year\": 1955, \"country\": \"China\", \"cluster\": 4, \"pop\": 608655000, \"life_expect\": 50.54896, \"fertility\": 5.59}, {\"year\": 2005, \"country\": \"China\", \"cluster\": 4, \"pop\": 1303182268, \"life_expect\": 72.961, \"fertility\": 1.725}, {\"year\": 1955, \"country\": \"Colombia\", \"cluster\": 3, \"pop\": 13588405, \"life_expect\": 55.118, \"fertility\": 6.76}, {\"year\": 2005, \"country\": \"Colombia\", \"cluster\": 3, \"pop\": 42954279, \"life_expect\": 72.889, \"fertility\": 2.2205}, {\"year\": 1955, \"country\": \"Costa Rica\", \"cluster\": 3, \"pop\": 1031782, \"life_expect\": 60.026, \"fertility\": 7.1135}, {\"year\": 2005, \"country\": \"Costa Rica\", \"cluster\": 3, \"pop\": 4016173, \"life_expect\": 78.782, \"fertility\": 2.0985}, {\"year\": 1955, \"country\": \"Croatia\", \"cluster\": 1, \"pop\": 3955526, \"life_expect\": 64.77, \"fertility\": 2.42}, {\"year\": 2005, \"country\": \"Croatia\", \"cluster\": 1, \"pop\": 4495904, \"life_expect\": 75.748, \"fertility\": 1.346}, {\"year\": 1955, \"country\": \"Cuba\", \"cluster\": 3, \"pop\": 6381106, \"life_expect\": 62.325, \"fertility\": 3.6995}, {\"year\": 2005, \"country\": \"Cuba\", \"cluster\": 3, \"pop\": 11346670, \"life_expect\": 78.273, \"fertility\": 1.49}, {\"year\": 1955, \"country\": \"Dominican Republic\", \"cluster\": 3, \"pop\": 2737257, \"life_expect\": 49.828, \"fertility\": 7.6405}, {\"year\": 2005, \"country\": \"Dominican Republic\", \"cluster\": 3, \"pop\": 9049595, \"life_expect\": 72.235, \"fertility\": 2.81}, {\"year\": 1955, \"country\": \"Ecuador\", \"cluster\": 3, \"pop\": 3842399, \"life_expect\": 51.356, \"fertility\": 6.7}, {\"year\": 2005, \"country\": \"Ecuador\", \"cluster\": 3, \"pop\": 13363593, \"life_expect\": 74.994, \"fertility\": 2.578}, {\"year\": 1955, \"country\": \"Egypt\", \"cluster\": 5, \"pop\": 23855527, \"life_expect\": 44.444, \"fertility\": 6.97}, {\"year\": 2005, \"country\": \"Egypt\", \"cluster\": 5, \"pop\": 77505756, \"life_expect\": 71.338, \"fertility\": 2.891}, {\"year\": 1955, \"country\": \"El Salvador\", \"cluster\": 3, \"pop\": 2221139, \"life_expect\": 48.57, \"fertility\": 6.8065}, {\"year\": 2005, \"country\": \"El Salvador\", \"cluster\": 3, \"pop\": 6704932, \"life_expect\": 71.878, \"fertility\": 2.6825}, {\"year\": 1955, \"country\": \"Finland\", \"cluster\": 1, \"pop\": 4234900, \"life_expect\": 67.49, \"fertility\": 2.769}, {\"year\": 2005, \"country\": \"Finland\", \"cluster\": 1, \"pop\": 5223442, \"life_expect\": 79.313, \"fertility\": 1.8250000000000002}, {\"year\": 1955, \"country\": \"France\", \"cluster\": 1, \"pop\": 43427669, \"life_expect\": 68.93, \"fertility\": 2.7119999999999997}, {\"year\": 2005, \"country\": \"France\", \"cluster\": 1, \"pop\": 60656178, \"life_expect\": 80.657, \"fertility\": 1.8916}, {\"year\": 1955, \"country\": \"Georgia\", \"cluster\": 1, \"pop\": 3827154, \"life_expect\": 62.625, \"fertility\": 2.909}, {\"year\": 2005, \"country\": \"Georgia\", \"cluster\": 1, \"pop\": 4677401, \"life_expect\": 70.987, \"fertility\": 1.407}, {\"year\": 1955, \"country\": \"Germany\", \"cluster\": 1, \"pop\": 70195612, \"life_expect\": 69.1, \"fertility\": 2.3}, {\"year\": 2005, \"country\": \"Germany\", \"cluster\": 1, \"pop\": 82431390, \"life_expect\": 79.406, \"fertility\": 1.3599999999999999}, {\"year\": 1955, \"country\": \"Greece\", \"cluster\": 1, \"pop\": 7965538, \"life_expect\": 67.86, \"fertility\": 2.27}, {\"year\": 2005, \"country\": \"Greece\", \"cluster\": 1, \"pop\": 10668354, \"life_expect\": 79.483, \"fertility\": 1.325}, {\"year\": 1955, \"country\": \"Grenada\", \"cluster\": 3, \"pop\": 84621, \"life_expect\": 63.114, \"fertility\": 6.7}, {\"year\": 2005, \"country\": \"Grenada\", \"cluster\": 3, \"pop\": 89502, \"life_expect\": 68.724, \"fertility\": 2.302}, {\"year\": 1955, \"country\": \"Haiti\", \"cluster\": 3, \"pop\": 3376419, \"life_expect\": 40.696, \"fertility\": 6.3}, {\"year\": 2005, \"country\": \"Haiti\", \"cluster\": 3, \"pop\": 8121622, \"life_expect\": 60.916, \"fertility\": 3.5445}, {\"year\": 1955, \"country\": \"Hong Kong\", \"cluster\": 4, \"pop\": 2490400, \"life_expect\": 64.75, \"fertility\": 4.72}, {\"year\": 2005, \"country\": \"Hong Kong\", \"cluster\": 4, \"pop\": 6898686, \"life_expect\": 82.208, \"fertility\": 0.966}, {\"year\": 1955, \"country\": \"Iceland\", \"cluster\": 1, \"pop\": 158044, \"life_expect\": 73.47, \"fertility\": 4.023}, {\"year\": 2005, \"country\": \"Iceland\", \"cluster\": 1, \"pop\": 296737, \"life_expect\": 81.757, \"fertility\": 2.052}, {\"year\": 1955, \"country\": \"India\", \"cluster\": 0, \"pop\": 393000000, \"life_expect\": 40.249, \"fertility\": 5.8961}, {\"year\": 2005, \"country\": \"India\", \"cluster\": 0, \"pop\": 1080264388, \"life_expect\": 64.698, \"fertility\": 2.8073}, {\"year\": 1955, \"country\": \"Indonesia\", \"cluster\": 4, \"pop\": 86807000, \"life_expect\": 39.918, \"fertility\": 5.672}, {\"year\": 2005, \"country\": \"Indonesia\", \"cluster\": 4, \"pop\": 218465000, \"life_expect\": 70.65, \"fertility\": 2.182}, {\"year\": 1955, \"country\": \"Iran\", \"cluster\": 5, \"pop\": 18729000, \"life_expect\": 47.181, \"fertility\": 7.0}, {\"year\": 2005, \"country\": \"Iran\", \"cluster\": 5, \"pop\": 68017860, \"life_expect\": 70.964, \"fertility\": 2.04}, {\"year\": 1955, \"country\": \"Iraq\", \"cluster\": 5, \"pop\": 5903253, \"life_expect\": 48.437, \"fertility\": 7.3}, {\"year\": 2005, \"country\": \"Iraq\", \"cluster\": 5, \"pop\": 26074906, \"life_expect\": 59.545, \"fertility\": 4.264}, {\"year\": 1955, \"country\": \"Ireland\", \"cluster\": 1, \"pop\": 2916133, \"life_expect\": 68.9, \"fertility\": 3.68}, {\"year\": 2005, \"country\": \"Ireland\", \"cluster\": 1, \"pop\": 4015676, \"life_expect\": 78.885, \"fertility\": 1.964}, {\"year\": 1955, \"country\": \"Israel\", \"cluster\": 5, \"pop\": 1772032, \"life_expect\": 67.84, \"fertility\": 3.893}, {\"year\": 2005, \"country\": \"Israel\", \"cluster\": 5, \"pop\": 6276883, \"life_expect\": 80.745, \"fertility\": 2.75}, {\"year\": 1955, \"country\": \"Italy\", \"cluster\": 1, \"pop\": 48633000, \"life_expect\": 67.81, \"fertility\": 2.35}, {\"year\": 2005, \"country\": \"Italy\", \"cluster\": 1, \"pop\": 58103033, \"life_expect\": 80.546, \"fertility\": 1.379}, {\"year\": 1955, \"country\": \"Jamaica\", \"cluster\": 3, \"pop\": 1488805, \"life_expect\": 62.61, \"fertility\": 5.08}, {\"year\": 2005, \"country\": \"Jamaica\", \"cluster\": 3, \"pop\": 2735520, \"life_expect\": 72.567, \"fertility\": 2.4289}, {\"year\": 1955, \"country\": \"Japan\", \"cluster\": 4, \"pop\": 89815060, \"life_expect\": 65.5, \"fertility\": 2.08}, {\"year\": 2005, \"country\": \"Japan\", \"cluster\": 4, \"pop\": 127417244, \"life_expect\": 82.603, \"fertility\": 1.27}, {\"year\": 1955, \"country\": \"Kenya\", \"cluster\": 2, \"pop\": 7033999, \"life_expect\": 44.686, \"fertility\": 7.816}, {\"year\": 2005, \"country\": \"Kenya\", \"cluster\": 2, \"pop\": 33829590, \"life_expect\": 54.11, \"fertility\": 4.959}, {\"year\": 1955, \"country\": \"South Korea\", \"cluster\": 4, \"pop\": 8839427, \"life_expect\": 54.081, \"fertility\": 3.8}, {\"year\": 2005, \"country\": \"South Korea\", \"cluster\": 4, \"pop\": 22912177, \"life_expect\": 67.297, \"fertility\": 1.85}, {\"year\": 1955, \"country\": \"North Korea\", \"cluster\": 4, \"pop\": 21551834, \"life_expect\": 52.681, \"fertility\": 6.332}, {\"year\": 2005, \"country\": \"North Korea\", \"cluster\": 4, \"pop\": 48640671, \"life_expect\": 78.623, \"fertility\": 1.21}, {\"year\": 1955, \"country\": \"Lebanon\", \"cluster\": 5, \"pop\": 1560985, \"life_expect\": 59.489, \"fertility\": 5.72}, {\"year\": 2005, \"country\": \"Lebanon\", \"cluster\": 5, \"pop\": 3826018, \"life_expect\": 71.993, \"fertility\": 2.209}, {\"year\": 1955, \"country\": \"Mexico\", \"cluster\": 3, \"pop\": 32929914, \"life_expect\": 55.19, \"fertility\": 6.8}, {\"year\": 2005, \"country\": \"Mexico\", \"cluster\": 3, \"pop\": 106202903, \"life_expect\": 76.195, \"fertility\": 2.211}, {\"year\": 1955, \"country\": \"Netherlands\", \"cluster\": 1, \"pop\": 10750842, \"life_expect\": 72.99, \"fertility\": 3.095}, {\"year\": 2005, \"country\": \"Netherlands\", \"cluster\": 1, \"pop\": 16407491, \"life_expect\": 79.762, \"fertility\": 1.721}, {\"year\": 1955, \"country\": \"New Zealand\", \"cluster\": 4, \"pop\": 2136168, \"life_expect\": 70.26, \"fertility\": 4.07}, {\"year\": 2005, \"country\": \"New Zealand\", \"cluster\": 4, \"pop\": 4035461, \"life_expect\": 80.204, \"fertility\": 1.994}, {\"year\": 1955, \"country\": \"Nigeria\", \"cluster\": 2, \"pop\": 35458978, \"life_expect\": 37.802, \"fertility\": 6.9}, {\"year\": 2005, \"country\": \"Nigeria\", \"cluster\": 2, \"pop\": 128765768, \"life_expect\": 46.859, \"fertility\": 5.322}, {\"year\": 1955, \"country\": \"Norway\", \"cluster\": 1, \"pop\": 3427409, \"life_expect\": 73.44, \"fertility\": 2.8369999999999997}, {\"year\": 2005, \"country\": \"Norway\", \"cluster\": 1, \"pop\": 4593041, \"life_expect\": 80.196, \"fertility\": 1.8479999999999999}, {\"year\": 1955, \"country\": \"Pakistan\", \"cluster\": 0, \"pop\": 44434445, \"life_expect\": 45.557, \"fertility\": 6.6}, {\"year\": 2005, \"country\": \"Pakistan\", \"cluster\": 0, \"pop\": 162419946, \"life_expect\": 65.483, \"fertility\": 3.5211}, {\"year\": 1955, \"country\": \"Peru\", \"cluster\": 3, \"pop\": 8671500, \"life_expect\": 46.263, \"fertility\": 6.853}, {\"year\": 2005, \"country\": \"Peru\", \"cluster\": 3, \"pop\": 27925628, \"life_expect\": 71.421, \"fertility\": 2.5065}, {\"year\": 1955, \"country\": \"Philippines\", \"cluster\": 4, \"pop\": 24553055, \"life_expect\": 51.334, \"fertility\": 7.13}, {\"year\": 2005, \"country\": \"Philippines\", \"cluster\": 4, \"pop\": 87857473, \"life_expect\": 71.688, \"fertility\": 3.2327}, {\"year\": 1955, \"country\": \"Poland\", \"cluster\": 1, \"pop\": 27220668, \"life_expect\": 65.77, \"fertility\": 3.29}, {\"year\": 2005, \"country\": \"Poland\", \"cluster\": 1, \"pop\": 38557984, \"life_expect\": 75.563, \"fertility\": 1.227}, {\"year\": 1955, \"country\": \"Portugal\", \"cluster\": 1, \"pop\": 8692600, \"life_expect\": 61.51, \"fertility\": 3.03}, {\"year\": 2005, \"country\": \"Portugal\", \"cluster\": 1, \"pop\": 10566212, \"life_expect\": 78.098, \"fertility\": 1.455}, {\"year\": 1955, \"country\": \"Rwanda\", \"cluster\": 2, \"pop\": 2698272, \"life_expect\": 41.5, \"fertility\": 8.0}, {\"year\": 2005, \"country\": \"Rwanda\", \"cluster\": 2, \"pop\": 8440820, \"life_expect\": 46.242, \"fertility\": 5.9169}, {\"year\": 1955, \"country\": \"Saudi Arabia\", \"cluster\": 5, \"pop\": 4243218, \"life_expect\": 42.868, \"fertility\": 7.175}, {\"year\": 2005, \"country\": \"Saudi Arabia\", \"cluster\": 5, \"pop\": 26417599, \"life_expect\": 72.777, \"fertility\": 3.352}, {\"year\": 1955, \"country\": \"South Africa\", \"cluster\": 2, \"pop\": 15368551, \"life_expect\": 47.985, \"fertility\": 6.5}, {\"year\": 2005, \"country\": \"South Africa\", \"cluster\": 2, \"pop\": 44344136, \"life_expect\": 49.339, \"fertility\": 2.637}, {\"year\": 1955, \"country\": \"Spain\", \"cluster\": 1, \"pop\": 29318745, \"life_expect\": 66.66, \"fertility\": 2.75}, {\"year\": 2005, \"country\": \"Spain\", \"cluster\": 1, \"pop\": 40341462, \"life_expect\": 80.941, \"fertility\": 1.409}, {\"year\": 1955, \"country\": \"Switzerland\", \"cluster\": 1, \"pop\": 4980000, \"life_expect\": 70.56, \"fertility\": 2.34}, {\"year\": 2005, \"country\": \"Switzerland\", \"cluster\": 1, \"pop\": 7489370, \"life_expect\": 81.701, \"fertility\": 1.42}, {\"year\": 1955, \"country\": \"Turkey\", \"cluster\": 1, \"pop\": 24144571, \"life_expect\": 48.079, \"fertility\": 6.6}, {\"year\": 2005, \"country\": \"Turkey\", \"cluster\": 1, \"pop\": 69660559, \"life_expect\": 71.777, \"fertility\": 2.143}, {\"year\": 1955, \"country\": \"United Kingdom\", \"cluster\": 1, \"pop\": 50946000, \"life_expect\": 70.42, \"fertility\": 2.49}, {\"year\": 2005, \"country\": \"United Kingdom\", \"cluster\": 1, \"pop\": 60441457, \"life_expect\": 79.425, \"fertility\": 1.815}, {\"year\": 1955, \"country\": \"United States\", \"cluster\": 3, \"pop\": 165931000, \"life_expect\": 69.49, \"fertility\": 3.706}, {\"year\": 2005, \"country\": \"United States\", \"cluster\": 3, \"pop\": 295734134, \"life_expect\": 78.242, \"fertility\": 2.054}, {\"year\": 1955, \"country\": \"Venezuela\", \"cluster\": 3, \"pop\": 6170497, \"life_expect\": 57.907, \"fertility\": 6.4585}, {\"year\": 2005, \"country\": \"Venezuela\", \"cluster\": 3, \"pop\": 25375281, \"life_expect\": 73.747, \"fertility\": 2.547}]}}, {\"mode\": \"vega-lite\"});\n",
       "</script>"
      ],
      "text/plain": [
       "alt.Chart(...)"
      ]
     },
     "execution_count": 40,
     "metadata": {},
     "output_type": "execute_result"
    }
   ],
   "source": [
    "dataTime = data.loc[(data.year == 1955) | (data['year'] == 2005)]\n",
    "\n",
    "alt.Chart(dataTime).mark_line(opacity=0.5).encode(\n",
    "    alt.X('year:O'),\n",
    "    alt.Y('pop:Q'),\n",
    "    alt.Color('country:N', legend=None),   # (중국, 인도, 미국, ...) 순으로 인구 증가율이 높음 \n",
    "    alt.Tooltip('country:N')\n",
    ").properties(width={\"step\": 100})          # `.properties(width=alt.Step(100))` 코드와 동일함"
   ]
  },
  {
   "cell_type": "markdown",
   "metadata": {
    "colab_type": "text",
    "id": "LLo0NmuncGAa",
    "slideshow": {
     "slide_type": "slide"
    }
   },
   "source": [
    "### 4.7 면적 마크\n",
    "\n",
    "- `area` 마크 유형은 꺽은선 `line` 마크와 막대 `bar` 마크를 결합한 형태이다.  \n",
    "  데이터 포인트 간의 기울기와 채워진 영역을 함께 보여준다. \n",
    "- 다음 차트는 우리 나라에 대해서, 연도에 따른 출산율의 변화를 면적 차트로 보여준다. "
   ]
  },
  {
   "cell_type": "code",
   "execution_count": 41,
   "metadata": {
    "colab": {
     "base_uri": "https://localhost:8080/",
     "height": 385
    },
    "colab_type": "code",
    "id": "cXdOREmBHiaH",
    "outputId": "37cd899d-2ad1-42ea-fbe0-12e591a28326",
    "slideshow": {
     "slide_type": "subslide"
    }
   },
   "outputs": [
    {
     "data": {
      "text/html": [
       "\n",
       "<div id=\"altair-viz-5f0e5a9cf54f4409881d769caba8df53\"></div>\n",
       "<script type=\"text/javascript\">\n",
       "  (function(spec, embedOpt){\n",
       "    let outputDiv = document.currentScript.previousElementSibling;\n",
       "    if (outputDiv.id !== \"altair-viz-5f0e5a9cf54f4409881d769caba8df53\") {\n",
       "      outputDiv = document.getElementById(\"altair-viz-5f0e5a9cf54f4409881d769caba8df53\");\n",
       "    }\n",
       "    const paths = {\n",
       "      \"vega\": \"https://cdn.jsdelivr.net/npm//vega@5?noext\",\n",
       "      \"vega-lib\": \"https://cdn.jsdelivr.net/npm//vega-lib?noext\",\n",
       "      \"vega-lite\": \"https://cdn.jsdelivr.net/npm//vega-lite@4.8.1?noext\",\n",
       "      \"vega-embed\": \"https://cdn.jsdelivr.net/npm//vega-embed@6?noext\",\n",
       "    };\n",
       "\n",
       "    function loadScript(lib) {\n",
       "      return new Promise(function(resolve, reject) {\n",
       "        var s = document.createElement('script');\n",
       "        s.src = paths[lib];\n",
       "        s.async = true;\n",
       "        s.onload = () => resolve(paths[lib]);\n",
       "        s.onerror = () => reject(`Error loading script: ${paths[lib]}`);\n",
       "        document.getElementsByTagName(\"head\")[0].appendChild(s);\n",
       "      });\n",
       "    }\n",
       "\n",
       "    function showError(err) {\n",
       "      outputDiv.innerHTML = `<div class=\"error\" style=\"color:red;\">${err}</div>`;\n",
       "      throw err;\n",
       "    }\n",
       "\n",
       "    function displayChart(vegaEmbed) {\n",
       "      vegaEmbed(outputDiv, spec, embedOpt)\n",
       "        .catch(err => showError(`Javascript Error: ${err.message}<br>This usually means there's a typo in your chart specification. See the javascript console for the full traceback.`));\n",
       "    }\n",
       "\n",
       "    if(typeof define === \"function\" && define.amd) {\n",
       "      requirejs.config({paths});\n",
       "      require([\"vega-embed\"], displayChart, err => showError(`Error loading script: ${err.message}`));\n",
       "    } else if (typeof vegaEmbed === \"function\") {\n",
       "      displayChart(vegaEmbed);\n",
       "    } else {\n",
       "      loadScript(\"vega\")\n",
       "        .then(() => loadScript(\"vega-lite\"))\n",
       "        .then(() => loadScript(\"vega-embed\"))\n",
       "        .catch(showError)\n",
       "        .then(() => displayChart(vegaEmbed));\n",
       "    }\n",
       "  })({\"config\": {\"view\": {\"continuousWidth\": 400, \"continuousHeight\": 300}}, \"data\": {\"name\": \"data-0eb73b81022d99bf80c45be6d61e4483\"}, \"mark\": \"area\", \"encoding\": {\"x\": {\"type\": \"ordinal\", \"field\": \"year\"}, \"y\": {\"type\": \"quantitative\", \"field\": \"fertility\"}}, \"width\": {\"step\": 50}, \"$schema\": \"https://vega.github.io/schema/vega-lite/v4.8.1.json\", \"datasets\": {\"data-0eb73b81022d99bf80c45be6d61e4483\": [{\"year\": 1955, \"country\": \"South Korea\", \"cluster\": 4, \"pop\": 8839427, \"life_expect\": 54.081, \"fertility\": 3.8}, {\"year\": 1960, \"country\": \"South Korea\", \"cluster\": 4, \"pop\": 10391909, \"life_expect\": 56.656, \"fertility\": 3.41}, {\"year\": 1965, \"country\": \"South Korea\", \"cluster\": 4, \"pop\": 11868751, \"life_expect\": 59.942, \"fertility\": 4.09}, {\"year\": 1970, \"country\": \"South Korea\", \"cluster\": 4, \"pop\": 13911902, \"life_expect\": 63.983, \"fertility\": 3.7199999999999998}, {\"year\": 1975, \"country\": \"South Korea\", \"cluster\": 4, \"pop\": 15801308, \"life_expect\": 67.159, \"fertility\": 2.58}, {\"year\": 1980, \"country\": \"South Korea\", \"cluster\": 4, \"pop\": 17113626, \"life_expect\": 69.1, \"fertility\": 2.93}, {\"year\": 1985, \"country\": \"South Korea\", \"cluster\": 4, \"pop\": 18481420, \"life_expect\": 70.647, \"fertility\": 2.45}, {\"year\": 1990, \"country\": \"South Korea\", \"cluster\": 4, \"pop\": 20018546, \"life_expect\": 69.978, \"fertility\": 2.35}, {\"year\": 1995, \"country\": \"South Korea\", \"cluster\": 4, \"pop\": 21561856, \"life_expect\": 67.727, \"fertility\": 2.0938}, {\"year\": 2000, \"country\": \"South Korea\", \"cluster\": 4, \"pop\": 21647682, \"life_expect\": 66.662, \"fertility\": 1.9173}, {\"year\": 2005, \"country\": \"South Korea\", \"cluster\": 4, \"pop\": 22912177, \"life_expect\": 67.297, \"fertility\": 1.85}]}}, {\"mode\": \"vega-lite\"});\n",
       "</script>"
      ],
      "text/plain": [
       "alt.Chart(...)"
      ]
     },
     "execution_count": 41,
     "metadata": {},
     "output_type": "execute_result"
    }
   ],
   "source": [
    "dataKR = data.loc[data['country'] == 'South Korea']  # 2020년 기준 0.84 명 \n",
    "                                                     # 2021년 예상 0.78 명\n",
    "alt.Chart(dataKR).mark_area().encode(\n",
    "    alt.X('year:O'),\n",
    "    alt.Y('fertility:Q')\n",
    ").properties(\n",
    "    width={\"step\": 50}\n",
    ")"
   ]
  },
  {
   "cell_type": "markdown",
   "metadata": {
    "colab_type": "text",
    "id": "aDPZ6bWEPv2_",
    "slideshow": {
     "slide_type": "subslide"
    }
   },
   "source": [
    "- `line` 마크와 마찬가지로 `area` 마크도 `interpolate` 매개변수를 지원한다."
   ]
  },
  {
   "cell_type": "code",
   "execution_count": 42,
   "metadata": {
    "colab": {
     "base_uri": "https://localhost:8080/",
     "height": 385
    },
    "colab_type": "code",
    "id": "-ZpfjqMxJvXF",
    "outputId": "eba5baab-44be-46ac-c9ae-0ad3b094573a",
    "slideshow": {
     "slide_type": "fragment"
    }
   },
   "outputs": [
    {
     "data": {
      "text/html": [
       "\n",
       "<div id=\"altair-viz-c43d20dab9ce4591a310775e0934a807\"></div>\n",
       "<script type=\"text/javascript\">\n",
       "  (function(spec, embedOpt){\n",
       "    let outputDiv = document.currentScript.previousElementSibling;\n",
       "    if (outputDiv.id !== \"altair-viz-c43d20dab9ce4591a310775e0934a807\") {\n",
       "      outputDiv = document.getElementById(\"altair-viz-c43d20dab9ce4591a310775e0934a807\");\n",
       "    }\n",
       "    const paths = {\n",
       "      \"vega\": \"https://cdn.jsdelivr.net/npm//vega@5?noext\",\n",
       "      \"vega-lib\": \"https://cdn.jsdelivr.net/npm//vega-lib?noext\",\n",
       "      \"vega-lite\": \"https://cdn.jsdelivr.net/npm//vega-lite@4.8.1?noext\",\n",
       "      \"vega-embed\": \"https://cdn.jsdelivr.net/npm//vega-embed@6?noext\",\n",
       "    };\n",
       "\n",
       "    function loadScript(lib) {\n",
       "      return new Promise(function(resolve, reject) {\n",
       "        var s = document.createElement('script');\n",
       "        s.src = paths[lib];\n",
       "        s.async = true;\n",
       "        s.onload = () => resolve(paths[lib]);\n",
       "        s.onerror = () => reject(`Error loading script: ${paths[lib]}`);\n",
       "        document.getElementsByTagName(\"head\")[0].appendChild(s);\n",
       "      });\n",
       "    }\n",
       "\n",
       "    function showError(err) {\n",
       "      outputDiv.innerHTML = `<div class=\"error\" style=\"color:red;\">${err}</div>`;\n",
       "      throw err;\n",
       "    }\n",
       "\n",
       "    function displayChart(vegaEmbed) {\n",
       "      vegaEmbed(outputDiv, spec, embedOpt)\n",
       "        .catch(err => showError(`Javascript Error: ${err.message}<br>This usually means there's a typo in your chart specification. See the javascript console for the full traceback.`));\n",
       "    }\n",
       "\n",
       "    if(typeof define === \"function\" && define.amd) {\n",
       "      requirejs.config({paths});\n",
       "      require([\"vega-embed\"], displayChart, err => showError(`Error loading script: ${err.message}`));\n",
       "    } else if (typeof vegaEmbed === \"function\") {\n",
       "      displayChart(vegaEmbed);\n",
       "    } else {\n",
       "      loadScript(\"vega\")\n",
       "        .then(() => loadScript(\"vega-lite\"))\n",
       "        .then(() => loadScript(\"vega-embed\"))\n",
       "        .catch(showError)\n",
       "        .then(() => displayChart(vegaEmbed));\n",
       "    }\n",
       "  })({\"config\": {\"view\": {\"continuousWidth\": 400, \"continuousHeight\": 300}}, \"data\": {\"name\": \"data-0eb73b81022d99bf80c45be6d61e4483\"}, \"mark\": {\"type\": \"area\", \"interpolate\": \"monotone\"}, \"encoding\": {\"x\": {\"type\": \"ordinal\", \"field\": \"year\"}, \"y\": {\"type\": \"quantitative\", \"field\": \"fertility\"}}, \"width\": {\"step\": 50}, \"$schema\": \"https://vega.github.io/schema/vega-lite/v4.8.1.json\", \"datasets\": {\"data-0eb73b81022d99bf80c45be6d61e4483\": [{\"year\": 1955, \"country\": \"South Korea\", \"cluster\": 4, \"pop\": 8839427, \"life_expect\": 54.081, \"fertility\": 3.8}, {\"year\": 1960, \"country\": \"South Korea\", \"cluster\": 4, \"pop\": 10391909, \"life_expect\": 56.656, \"fertility\": 3.41}, {\"year\": 1965, \"country\": \"South Korea\", \"cluster\": 4, \"pop\": 11868751, \"life_expect\": 59.942, \"fertility\": 4.09}, {\"year\": 1970, \"country\": \"South Korea\", \"cluster\": 4, \"pop\": 13911902, \"life_expect\": 63.983, \"fertility\": 3.7199999999999998}, {\"year\": 1975, \"country\": \"South Korea\", \"cluster\": 4, \"pop\": 15801308, \"life_expect\": 67.159, \"fertility\": 2.58}, {\"year\": 1980, \"country\": \"South Korea\", \"cluster\": 4, \"pop\": 17113626, \"life_expect\": 69.1, \"fertility\": 2.93}, {\"year\": 1985, \"country\": \"South Korea\", \"cluster\": 4, \"pop\": 18481420, \"life_expect\": 70.647, \"fertility\": 2.45}, {\"year\": 1990, \"country\": \"South Korea\", \"cluster\": 4, \"pop\": 20018546, \"life_expect\": 69.978, \"fertility\": 2.35}, {\"year\": 1995, \"country\": \"South Korea\", \"cluster\": 4, \"pop\": 21561856, \"life_expect\": 67.727, \"fertility\": 2.0938}, {\"year\": 2000, \"country\": \"South Korea\", \"cluster\": 4, \"pop\": 21647682, \"life_expect\": 66.662, \"fertility\": 1.9173}, {\"year\": 2005, \"country\": \"South Korea\", \"cluster\": 4, \"pop\": 22912177, \"life_expect\": 67.297, \"fertility\": 1.85}]}}, {\"mode\": \"vega-lite\"});\n",
       "</script>"
      ],
      "text/plain": [
       "alt.Chart(...)"
      ]
     },
     "execution_count": 42,
     "metadata": {},
     "output_type": "execute_result"
    }
   ],
   "source": [
    "alt.Chart(dataKR).mark_area(interpolate='monotone').encode(\n",
    "    alt.X('year:O'),\n",
    "    alt.Y('fertility:Q')\n",
    ").properties(\n",
    "    width={\"step\": 50}\n",
    ")"
   ]
  },
  {
   "cell_type": "markdown",
   "metadata": {
    "colab_type": "text",
    "id": "_YolZaDbP7jh",
    "slideshow": {
     "slide_type": "subslide"
    }
   },
   "source": [
    "- `bar` 마크와 유사하게, `area` 마크도 쌓기(stacking)를 지원한다.  \n",
    "  - 북미 3국에 대한 데이터프레임을 새롭게 생성한다. \n",
    "  - `area` 마크와 `color` 인코딩 채널을 이용하여 나라별로 쌓아 올린 시각화를 완성해 보자. "
   ]
  },
  {
   "cell_type": "code",
   "execution_count": 43,
   "metadata": {
    "colab": {
     "base_uri": "https://localhost:8080/",
     "height": 385
    },
    "colab_type": "code",
    "id": "tYOS0Il_H8h3",
    "outputId": "70e210aa-4771-4ed9-e5a3-0af587d03c60",
    "slideshow": {
     "slide_type": "subslide"
    }
   },
   "outputs": [
    {
     "data": {
      "text/html": [
       "\n",
       "<div id=\"altair-viz-93530f4f70414eb6b5222a9390d94be6\"></div>\n",
       "<script type=\"text/javascript\">\n",
       "  (function(spec, embedOpt){\n",
       "    let outputDiv = document.currentScript.previousElementSibling;\n",
       "    if (outputDiv.id !== \"altair-viz-93530f4f70414eb6b5222a9390d94be6\") {\n",
       "      outputDiv = document.getElementById(\"altair-viz-93530f4f70414eb6b5222a9390d94be6\");\n",
       "    }\n",
       "    const paths = {\n",
       "      \"vega\": \"https://cdn.jsdelivr.net/npm//vega@5?noext\",\n",
       "      \"vega-lib\": \"https://cdn.jsdelivr.net/npm//vega-lib?noext\",\n",
       "      \"vega-lite\": \"https://cdn.jsdelivr.net/npm//vega-lite@4.8.1?noext\",\n",
       "      \"vega-embed\": \"https://cdn.jsdelivr.net/npm//vega-embed@6?noext\",\n",
       "    };\n",
       "\n",
       "    function loadScript(lib) {\n",
       "      return new Promise(function(resolve, reject) {\n",
       "        var s = document.createElement('script');\n",
       "        s.src = paths[lib];\n",
       "        s.async = true;\n",
       "        s.onload = () => resolve(paths[lib]);\n",
       "        s.onerror = () => reject(`Error loading script: ${paths[lib]}`);\n",
       "        document.getElementsByTagName(\"head\")[0].appendChild(s);\n",
       "      });\n",
       "    }\n",
       "\n",
       "    function showError(err) {\n",
       "      outputDiv.innerHTML = `<div class=\"error\" style=\"color:red;\">${err}</div>`;\n",
       "      throw err;\n",
       "    }\n",
       "\n",
       "    function displayChart(vegaEmbed) {\n",
       "      vegaEmbed(outputDiv, spec, embedOpt)\n",
       "        .catch(err => showError(`Javascript Error: ${err.message}<br>This usually means there's a typo in your chart specification. See the javascript console for the full traceback.`));\n",
       "    }\n",
       "\n",
       "    if(typeof define === \"function\" && define.amd) {\n",
       "      requirejs.config({paths});\n",
       "      require([\"vega-embed\"], displayChart, err => showError(`Error loading script: ${err.message}`));\n",
       "    } else if (typeof vegaEmbed === \"function\") {\n",
       "      displayChart(vegaEmbed);\n",
       "    } else {\n",
       "      loadScript(\"vega\")\n",
       "        .then(() => loadScript(\"vega-lite\"))\n",
       "        .then(() => loadScript(\"vega-embed\"))\n",
       "        .catch(showError)\n",
       "        .then(() => displayChart(vegaEmbed));\n",
       "    }\n",
       "  })({\"config\": {\"view\": {\"continuousWidth\": 400, \"continuousHeight\": 300}}, \"data\": {\"name\": \"data-90247f35efb014c7706cfdd66a0e9a4d\"}, \"mark\": \"area\", \"encoding\": {\"color\": {\"type\": \"nominal\", \"field\": \"country\"}, \"x\": {\"type\": \"ordinal\", \"field\": \"year\"}, \"y\": {\"type\": \"quantitative\", \"field\": \"pop\"}}, \"width\": {\"step\": 50}, \"$schema\": \"https://vega.github.io/schema/vega-lite/v4.8.1.json\", \"datasets\": {\"data-90247f35efb014c7706cfdd66a0e9a4d\": [{\"year\": 1955, \"country\": \"Canada\", \"cluster\": 3, \"pop\": 16050356, \"life_expect\": 69.96, \"fertility\": 3.882}, {\"year\": 1960, \"country\": \"Canada\", \"cluster\": 3, \"pop\": 18266765, \"life_expect\": 71.3, \"fertility\": 3.675}, {\"year\": 1965, \"country\": \"Canada\", \"cluster\": 3, \"pop\": 20071104, \"life_expect\": 72.13, \"fertility\": 2.61}, {\"year\": 1970, \"country\": \"Canada\", \"cluster\": 3, \"pop\": 21749986, \"life_expect\": 72.88, \"fertility\": 1.976}, {\"year\": 1975, \"country\": \"Canada\", \"cluster\": 3, \"pop\": 23209200, \"life_expect\": 74.21, \"fertility\": 1.734}, {\"year\": 1980, \"country\": \"Canada\", \"cluster\": 3, \"pop\": 24593300, \"life_expect\": 75.76, \"fertility\": 1.634}, {\"year\": 1985, \"country\": \"Canada\", \"cluster\": 3, \"pop\": 25941600, \"life_expect\": 76.86, \"fertility\": 1.616}, {\"year\": 1990, \"country\": \"Canada\", \"cluster\": 3, \"pop\": 27790600, \"life_expect\": 77.95, \"fertility\": 1.694}, {\"year\": 1995, \"country\": \"Canada\", \"cluster\": 3, \"pop\": 29619002, \"life_expect\": 78.61, \"fertility\": 1.564}, {\"year\": 2000, \"country\": \"Canada\", \"cluster\": 3, \"pop\": 31278097, \"life_expect\": 79.77, \"fertility\": 1.522}, {\"year\": 2005, \"country\": \"Canada\", \"cluster\": 3, \"pop\": 32805041, \"life_expect\": 80.653, \"fertility\": 1.5270000000000001}, {\"year\": 1955, \"country\": \"Mexico\", \"cluster\": 3, \"pop\": 32929914, \"life_expect\": 55.19, \"fertility\": 6.8}, {\"year\": 1960, \"country\": \"Mexico\", \"cluster\": 3, \"pop\": 38578505, \"life_expect\": 58.299, \"fertility\": 6.7495}, {\"year\": 1965, \"country\": \"Mexico\", \"cluster\": 3, \"pop\": 45142399, \"life_expect\": 60.11, \"fertility\": 6.7495}, {\"year\": 1970, \"country\": \"Mexico\", \"cluster\": 3, \"pop\": 52775158, \"life_expect\": 62.361, \"fertility\": 6.5}, {\"year\": 1975, \"country\": \"Mexico\", \"cluster\": 3, \"pop\": 60678045, \"life_expect\": 65.032, \"fertility\": 5.2505}, {\"year\": 1980, \"country\": \"Mexico\", \"cluster\": 3, \"pop\": 68347479, \"life_expect\": 67.405, \"fertility\": 4.25}, {\"year\": 1985, \"country\": \"Mexico\", \"cluster\": 3, \"pop\": 76767225, \"life_expect\": 69.498, \"fertility\": 3.6295}, {\"year\": 1990, \"country\": \"Mexico\", \"cluster\": 3, \"pop\": 84913652, \"life_expect\": 71.455, \"fertility\": 3.1905}, {\"year\": 1995, \"country\": \"Mexico\", \"cluster\": 3, \"pop\": 92880353, \"life_expect\": 73.67, \"fertility\": 2.6705}, {\"year\": 2000, \"country\": \"Mexico\", \"cluster\": 3, \"pop\": 99926620, \"life_expect\": 74.902, \"fertility\": 2.4005}, {\"year\": 2005, \"country\": \"Mexico\", \"cluster\": 3, \"pop\": 106202903, \"life_expect\": 76.195, \"fertility\": 2.211}, {\"year\": 1955, \"country\": \"United States\", \"cluster\": 3, \"pop\": 165931000, \"life_expect\": 69.49, \"fertility\": 3.706}, {\"year\": 1960, \"country\": \"United States\", \"cluster\": 3, \"pop\": 180671000, \"life_expect\": 70.21, \"fertility\": 3.314}, {\"year\": 1965, \"country\": \"United States\", \"cluster\": 3, \"pop\": 194303000, \"life_expect\": 70.76, \"fertility\": 2.545}, {\"year\": 1970, \"country\": \"United States\", \"cluster\": 3, \"pop\": 205052000, \"life_expect\": 71.34, \"fertility\": 2.016}, {\"year\": 1975, \"country\": \"United States\", \"cluster\": 3, \"pop\": 215973000, \"life_expect\": 73.38, \"fertility\": 1.788}, {\"year\": 1980, \"country\": \"United States\", \"cluster\": 3, \"pop\": 227726463, \"life_expect\": 74.65, \"fertility\": 1.8250000000000002}, {\"year\": 1985, \"country\": \"United States\", \"cluster\": 3, \"pop\": 238466283, \"life_expect\": 75.02, \"fertility\": 1.924}, {\"year\": 1990, \"country\": \"United States\", \"cluster\": 3, \"pop\": 250131894, \"life_expect\": 76.09, \"fertility\": 2.025}, {\"year\": 1995, \"country\": \"United States\", \"cluster\": 3, \"pop\": 266557091, \"life_expect\": 76.81, \"fertility\": 1.994}, {\"year\": 2000, \"country\": \"United States\", \"cluster\": 3, \"pop\": 282338631, \"life_expect\": 77.31, \"fertility\": 2.038}, {\"year\": 2005, \"country\": \"United States\", \"cluster\": 3, \"pop\": 295734134, \"life_expect\": 78.242, \"fertility\": 2.054}]}}, {\"mode\": \"vega-lite\"});\n",
       "</script>"
      ],
      "text/plain": [
       "alt.Chart(...)"
      ]
     },
     "execution_count": 43,
     "metadata": {},
     "output_type": "execute_result"
    }
   ],
   "source": [
    "dataNA = data.loc[\n",
    "    (data['country'] == 'United States') |\n",
    "    (data['country'] == 'Canada') |\n",
    "    (data['country'] == 'Mexico')\n",
    "]\n",
    "\n",
    "alt.Chart(dataNA).mark_area().encode(\n",
    "    alt.X('year:O'),\n",
    "    alt.Y('pop:Q'),\n",
    "    alt.Color('country:N')               # 색상 인코딩을 지정하면 자동적으로 적층식 적용\n",
    ").properties(\n",
    "    width={\"step\": 50}\n",
    ")"
   ]
  },
  {
   "cell_type": "markdown",
   "metadata": {
    "colab_type": "text",
    "id": "oVinPfTZpNtY",
    "slideshow": {
     "slide_type": "subslide"
    }
   },
   "source": [
    "- 기본적으로, 쌓아올리기는 영점 기저선(zeo baseline)에 대한 상대값으로 처리되는데,  \n",
    "  다른 `stack` 옵션을 지정할 수 있다. \n",
    "  * `center` - 차트의 중앙을 기저선으로 지정하여,  \n",
    "    *스트림 그래프(streamgraph)*로 시각화 할 수 있다. \n",
    "  * `normalize` - 데이터의 합계 값을 정규화하여  \n",
    "    전체가 100%가 되면서, 각 요소의 비중을 백분율로 시각화 할 수 있다. \n",
    "- 아래에서는 `y` 인코딩에 `stack` 속성을 `center`로 지정하여 시각화 해 보자. "
   ]
  },
  {
   "cell_type": "code",
   "execution_count": 44,
   "metadata": {
    "colab": {
     "base_uri": "https://localhost:8080/",
     "height": 385
    },
    "colab_type": "code",
    "id": "6SQpyJzqpB5G",
    "outputId": "3a7cb75a-3acf-4b0e-d0e8-cdc7c85fd5ee",
    "scrolled": false,
    "slideshow": {
     "slide_type": "subslide"
    }
   },
   "outputs": [
    {
     "data": {
      "text/html": [
       "\n",
       "<div id=\"altair-viz-a1d3b2f094844fd2829655959b14fdef\"></div>\n",
       "<script type=\"text/javascript\">\n",
       "  (function(spec, embedOpt){\n",
       "    let outputDiv = document.currentScript.previousElementSibling;\n",
       "    if (outputDiv.id !== \"altair-viz-a1d3b2f094844fd2829655959b14fdef\") {\n",
       "      outputDiv = document.getElementById(\"altair-viz-a1d3b2f094844fd2829655959b14fdef\");\n",
       "    }\n",
       "    const paths = {\n",
       "      \"vega\": \"https://cdn.jsdelivr.net/npm//vega@5?noext\",\n",
       "      \"vega-lib\": \"https://cdn.jsdelivr.net/npm//vega-lib?noext\",\n",
       "      \"vega-lite\": \"https://cdn.jsdelivr.net/npm//vega-lite@4.8.1?noext\",\n",
       "      \"vega-embed\": \"https://cdn.jsdelivr.net/npm//vega-embed@6?noext\",\n",
       "    };\n",
       "\n",
       "    function loadScript(lib) {\n",
       "      return new Promise(function(resolve, reject) {\n",
       "        var s = document.createElement('script');\n",
       "        s.src = paths[lib];\n",
       "        s.async = true;\n",
       "        s.onload = () => resolve(paths[lib]);\n",
       "        s.onerror = () => reject(`Error loading script: ${paths[lib]}`);\n",
       "        document.getElementsByTagName(\"head\")[0].appendChild(s);\n",
       "      });\n",
       "    }\n",
       "\n",
       "    function showError(err) {\n",
       "      outputDiv.innerHTML = `<div class=\"error\" style=\"color:red;\">${err}</div>`;\n",
       "      throw err;\n",
       "    }\n",
       "\n",
       "    function displayChart(vegaEmbed) {\n",
       "      vegaEmbed(outputDiv, spec, embedOpt)\n",
       "        .catch(err => showError(`Javascript Error: ${err.message}<br>This usually means there's a typo in your chart specification. See the javascript console for the full traceback.`));\n",
       "    }\n",
       "\n",
       "    if(typeof define === \"function\" && define.amd) {\n",
       "      requirejs.config({paths});\n",
       "      require([\"vega-embed\"], displayChart, err => showError(`Error loading script: ${err.message}`));\n",
       "    } else if (typeof vegaEmbed === \"function\") {\n",
       "      displayChart(vegaEmbed);\n",
       "    } else {\n",
       "      loadScript(\"vega\")\n",
       "        .then(() => loadScript(\"vega-lite\"))\n",
       "        .then(() => loadScript(\"vega-embed\"))\n",
       "        .catch(showError)\n",
       "        .then(() => displayChart(vegaEmbed));\n",
       "    }\n",
       "  })({\"config\": {\"view\": {\"continuousWidth\": 400, \"continuousHeight\": 300}}, \"data\": {\"name\": \"data-90247f35efb014c7706cfdd66a0e9a4d\"}, \"mark\": \"area\", \"encoding\": {\"color\": {\"type\": \"nominal\", \"field\": \"country\"}, \"x\": {\"type\": \"ordinal\", \"field\": \"year\"}, \"y\": {\"type\": \"quantitative\", \"field\": \"pop\", \"stack\": \"center\"}}, \"width\": {\"step\": 50}, \"$schema\": \"https://vega.github.io/schema/vega-lite/v4.8.1.json\", \"datasets\": {\"data-90247f35efb014c7706cfdd66a0e9a4d\": [{\"year\": 1955, \"country\": \"Canada\", \"cluster\": 3, \"pop\": 16050356, \"life_expect\": 69.96, \"fertility\": 3.882}, {\"year\": 1960, \"country\": \"Canada\", \"cluster\": 3, \"pop\": 18266765, \"life_expect\": 71.3, \"fertility\": 3.675}, {\"year\": 1965, \"country\": \"Canada\", \"cluster\": 3, \"pop\": 20071104, \"life_expect\": 72.13, \"fertility\": 2.61}, {\"year\": 1970, \"country\": \"Canada\", \"cluster\": 3, \"pop\": 21749986, \"life_expect\": 72.88, \"fertility\": 1.976}, {\"year\": 1975, \"country\": \"Canada\", \"cluster\": 3, \"pop\": 23209200, \"life_expect\": 74.21, \"fertility\": 1.734}, {\"year\": 1980, \"country\": \"Canada\", \"cluster\": 3, \"pop\": 24593300, \"life_expect\": 75.76, \"fertility\": 1.634}, {\"year\": 1985, \"country\": \"Canada\", \"cluster\": 3, \"pop\": 25941600, \"life_expect\": 76.86, \"fertility\": 1.616}, {\"year\": 1990, \"country\": \"Canada\", \"cluster\": 3, \"pop\": 27790600, \"life_expect\": 77.95, \"fertility\": 1.694}, {\"year\": 1995, \"country\": \"Canada\", \"cluster\": 3, \"pop\": 29619002, \"life_expect\": 78.61, \"fertility\": 1.564}, {\"year\": 2000, \"country\": \"Canada\", \"cluster\": 3, \"pop\": 31278097, \"life_expect\": 79.77, \"fertility\": 1.522}, {\"year\": 2005, \"country\": \"Canada\", \"cluster\": 3, \"pop\": 32805041, \"life_expect\": 80.653, \"fertility\": 1.5270000000000001}, {\"year\": 1955, \"country\": \"Mexico\", \"cluster\": 3, \"pop\": 32929914, \"life_expect\": 55.19, \"fertility\": 6.8}, {\"year\": 1960, \"country\": \"Mexico\", \"cluster\": 3, \"pop\": 38578505, \"life_expect\": 58.299, \"fertility\": 6.7495}, {\"year\": 1965, \"country\": \"Mexico\", \"cluster\": 3, \"pop\": 45142399, \"life_expect\": 60.11, \"fertility\": 6.7495}, {\"year\": 1970, \"country\": \"Mexico\", \"cluster\": 3, \"pop\": 52775158, \"life_expect\": 62.361, \"fertility\": 6.5}, {\"year\": 1975, \"country\": \"Mexico\", \"cluster\": 3, \"pop\": 60678045, \"life_expect\": 65.032, \"fertility\": 5.2505}, {\"year\": 1980, \"country\": \"Mexico\", \"cluster\": 3, \"pop\": 68347479, \"life_expect\": 67.405, \"fertility\": 4.25}, {\"year\": 1985, \"country\": \"Mexico\", \"cluster\": 3, \"pop\": 76767225, \"life_expect\": 69.498, \"fertility\": 3.6295}, {\"year\": 1990, \"country\": \"Mexico\", \"cluster\": 3, \"pop\": 84913652, \"life_expect\": 71.455, \"fertility\": 3.1905}, {\"year\": 1995, \"country\": \"Mexico\", \"cluster\": 3, \"pop\": 92880353, \"life_expect\": 73.67, \"fertility\": 2.6705}, {\"year\": 2000, \"country\": \"Mexico\", \"cluster\": 3, \"pop\": 99926620, \"life_expect\": 74.902, \"fertility\": 2.4005}, {\"year\": 2005, \"country\": \"Mexico\", \"cluster\": 3, \"pop\": 106202903, \"life_expect\": 76.195, \"fertility\": 2.211}, {\"year\": 1955, \"country\": \"United States\", \"cluster\": 3, \"pop\": 165931000, \"life_expect\": 69.49, \"fertility\": 3.706}, {\"year\": 1960, \"country\": \"United States\", \"cluster\": 3, \"pop\": 180671000, \"life_expect\": 70.21, \"fertility\": 3.314}, {\"year\": 1965, \"country\": \"United States\", \"cluster\": 3, \"pop\": 194303000, \"life_expect\": 70.76, \"fertility\": 2.545}, {\"year\": 1970, \"country\": \"United States\", \"cluster\": 3, \"pop\": 205052000, \"life_expect\": 71.34, \"fertility\": 2.016}, {\"year\": 1975, \"country\": \"United States\", \"cluster\": 3, \"pop\": 215973000, \"life_expect\": 73.38, \"fertility\": 1.788}, {\"year\": 1980, \"country\": \"United States\", \"cluster\": 3, \"pop\": 227726463, \"life_expect\": 74.65, \"fertility\": 1.8250000000000002}, {\"year\": 1985, \"country\": \"United States\", \"cluster\": 3, \"pop\": 238466283, \"life_expect\": 75.02, \"fertility\": 1.924}, {\"year\": 1990, \"country\": \"United States\", \"cluster\": 3, \"pop\": 250131894, \"life_expect\": 76.09, \"fertility\": 2.025}, {\"year\": 1995, \"country\": \"United States\", \"cluster\": 3, \"pop\": 266557091, \"life_expect\": 76.81, \"fertility\": 1.994}, {\"year\": 2000, \"country\": \"United States\", \"cluster\": 3, \"pop\": 282338631, \"life_expect\": 77.31, \"fertility\": 2.038}, {\"year\": 2005, \"country\": \"United States\", \"cluster\": 3, \"pop\": 295734134, \"life_expect\": 78.242, \"fertility\": 2.054}]}}, {\"mode\": \"vega-lite\"});\n",
       "</script>"
      ],
      "text/plain": [
       "alt.Chart(...)"
      ]
     },
     "execution_count": 44,
     "metadata": {},
     "output_type": "execute_result"
    }
   ],
   "source": [
    "alt.Chart(dataNA).mark_area().encode(\n",
    "    alt.X('year:O'),\n",
    "    alt.Y('pop:Q', stack='center'),     # 중앙선을 기준으로 상하로 적층\n",
    "    alt.Color('country:N')\n",
    ").properties(\n",
    "    width={\"step\": 50}\n",
    ")"
   ]
  },
  {
   "cell_type": "markdown",
   "metadata": {
    "slideshow": {
     "slide_type": "subslide"
    }
   },
   "source": [
    "- 이번에는 y 인코딩에 `stack` 속성을 `normalize`로 지정하여 시각화 해 보자."
   ]
  },
  {
   "cell_type": "code",
   "execution_count": 45,
   "metadata": {
    "colab": {
     "base_uri": "https://localhost:8080/",
     "height": 385
    },
    "colab_type": "code",
    "id": "6SQpyJzqpB5G",
    "outputId": "3a7cb75a-3acf-4b0e-d0e8-cdc7c85fd5ee",
    "slideshow": {
     "slide_type": "fragment"
    }
   },
   "outputs": [
    {
     "data": {
      "text/html": [
       "\n",
       "<div id=\"altair-viz-32d16cd3b8024e04942f0d9e4445afd8\"></div>\n",
       "<script type=\"text/javascript\">\n",
       "  (function(spec, embedOpt){\n",
       "    let outputDiv = document.currentScript.previousElementSibling;\n",
       "    if (outputDiv.id !== \"altair-viz-32d16cd3b8024e04942f0d9e4445afd8\") {\n",
       "      outputDiv = document.getElementById(\"altair-viz-32d16cd3b8024e04942f0d9e4445afd8\");\n",
       "    }\n",
       "    const paths = {\n",
       "      \"vega\": \"https://cdn.jsdelivr.net/npm//vega@5?noext\",\n",
       "      \"vega-lib\": \"https://cdn.jsdelivr.net/npm//vega-lib?noext\",\n",
       "      \"vega-lite\": \"https://cdn.jsdelivr.net/npm//vega-lite@4.8.1?noext\",\n",
       "      \"vega-embed\": \"https://cdn.jsdelivr.net/npm//vega-embed@6?noext\",\n",
       "    };\n",
       "\n",
       "    function loadScript(lib) {\n",
       "      return new Promise(function(resolve, reject) {\n",
       "        var s = document.createElement('script');\n",
       "        s.src = paths[lib];\n",
       "        s.async = true;\n",
       "        s.onload = () => resolve(paths[lib]);\n",
       "        s.onerror = () => reject(`Error loading script: ${paths[lib]}`);\n",
       "        document.getElementsByTagName(\"head\")[0].appendChild(s);\n",
       "      });\n",
       "    }\n",
       "\n",
       "    function showError(err) {\n",
       "      outputDiv.innerHTML = `<div class=\"error\" style=\"color:red;\">${err}</div>`;\n",
       "      throw err;\n",
       "    }\n",
       "\n",
       "    function displayChart(vegaEmbed) {\n",
       "      vegaEmbed(outputDiv, spec, embedOpt)\n",
       "        .catch(err => showError(`Javascript Error: ${err.message}<br>This usually means there's a typo in your chart specification. See the javascript console for the full traceback.`));\n",
       "    }\n",
       "\n",
       "    if(typeof define === \"function\" && define.amd) {\n",
       "      requirejs.config({paths});\n",
       "      require([\"vega-embed\"], displayChart, err => showError(`Error loading script: ${err.message}`));\n",
       "    } else if (typeof vegaEmbed === \"function\") {\n",
       "      displayChart(vegaEmbed);\n",
       "    } else {\n",
       "      loadScript(\"vega\")\n",
       "        .then(() => loadScript(\"vega-lite\"))\n",
       "        .then(() => loadScript(\"vega-embed\"))\n",
       "        .catch(showError)\n",
       "        .then(() => displayChart(vegaEmbed));\n",
       "    }\n",
       "  })({\"config\": {\"view\": {\"continuousWidth\": 400, \"continuousHeight\": 300}}, \"data\": {\"name\": \"data-90247f35efb014c7706cfdd66a0e9a4d\"}, \"mark\": \"area\", \"encoding\": {\"color\": {\"type\": \"nominal\", \"field\": \"country\"}, \"x\": {\"type\": \"ordinal\", \"field\": \"year\"}, \"y\": {\"type\": \"quantitative\", \"field\": \"pop\", \"stack\": \"normalize\"}}, \"width\": {\"step\": 50}, \"$schema\": \"https://vega.github.io/schema/vega-lite/v4.8.1.json\", \"datasets\": {\"data-90247f35efb014c7706cfdd66a0e9a4d\": [{\"year\": 1955, \"country\": \"Canada\", \"cluster\": 3, \"pop\": 16050356, \"life_expect\": 69.96, \"fertility\": 3.882}, {\"year\": 1960, \"country\": \"Canada\", \"cluster\": 3, \"pop\": 18266765, \"life_expect\": 71.3, \"fertility\": 3.675}, {\"year\": 1965, \"country\": \"Canada\", \"cluster\": 3, \"pop\": 20071104, \"life_expect\": 72.13, \"fertility\": 2.61}, {\"year\": 1970, \"country\": \"Canada\", \"cluster\": 3, \"pop\": 21749986, \"life_expect\": 72.88, \"fertility\": 1.976}, {\"year\": 1975, \"country\": \"Canada\", \"cluster\": 3, \"pop\": 23209200, \"life_expect\": 74.21, \"fertility\": 1.734}, {\"year\": 1980, \"country\": \"Canada\", \"cluster\": 3, \"pop\": 24593300, \"life_expect\": 75.76, \"fertility\": 1.634}, {\"year\": 1985, \"country\": \"Canada\", \"cluster\": 3, \"pop\": 25941600, \"life_expect\": 76.86, \"fertility\": 1.616}, {\"year\": 1990, \"country\": \"Canada\", \"cluster\": 3, \"pop\": 27790600, \"life_expect\": 77.95, \"fertility\": 1.694}, {\"year\": 1995, \"country\": \"Canada\", \"cluster\": 3, \"pop\": 29619002, \"life_expect\": 78.61, \"fertility\": 1.564}, {\"year\": 2000, \"country\": \"Canada\", \"cluster\": 3, \"pop\": 31278097, \"life_expect\": 79.77, \"fertility\": 1.522}, {\"year\": 2005, \"country\": \"Canada\", \"cluster\": 3, \"pop\": 32805041, \"life_expect\": 80.653, \"fertility\": 1.5270000000000001}, {\"year\": 1955, \"country\": \"Mexico\", \"cluster\": 3, \"pop\": 32929914, \"life_expect\": 55.19, \"fertility\": 6.8}, {\"year\": 1960, \"country\": \"Mexico\", \"cluster\": 3, \"pop\": 38578505, \"life_expect\": 58.299, \"fertility\": 6.7495}, {\"year\": 1965, \"country\": \"Mexico\", \"cluster\": 3, \"pop\": 45142399, \"life_expect\": 60.11, \"fertility\": 6.7495}, {\"year\": 1970, \"country\": \"Mexico\", \"cluster\": 3, \"pop\": 52775158, \"life_expect\": 62.361, \"fertility\": 6.5}, {\"year\": 1975, \"country\": \"Mexico\", \"cluster\": 3, \"pop\": 60678045, \"life_expect\": 65.032, \"fertility\": 5.2505}, {\"year\": 1980, \"country\": \"Mexico\", \"cluster\": 3, \"pop\": 68347479, \"life_expect\": 67.405, \"fertility\": 4.25}, {\"year\": 1985, \"country\": \"Mexico\", \"cluster\": 3, \"pop\": 76767225, \"life_expect\": 69.498, \"fertility\": 3.6295}, {\"year\": 1990, \"country\": \"Mexico\", \"cluster\": 3, \"pop\": 84913652, \"life_expect\": 71.455, \"fertility\": 3.1905}, {\"year\": 1995, \"country\": \"Mexico\", \"cluster\": 3, \"pop\": 92880353, \"life_expect\": 73.67, \"fertility\": 2.6705}, {\"year\": 2000, \"country\": \"Mexico\", \"cluster\": 3, \"pop\": 99926620, \"life_expect\": 74.902, \"fertility\": 2.4005}, {\"year\": 2005, \"country\": \"Mexico\", \"cluster\": 3, \"pop\": 106202903, \"life_expect\": 76.195, \"fertility\": 2.211}, {\"year\": 1955, \"country\": \"United States\", \"cluster\": 3, \"pop\": 165931000, \"life_expect\": 69.49, \"fertility\": 3.706}, {\"year\": 1960, \"country\": \"United States\", \"cluster\": 3, \"pop\": 180671000, \"life_expect\": 70.21, \"fertility\": 3.314}, {\"year\": 1965, \"country\": \"United States\", \"cluster\": 3, \"pop\": 194303000, \"life_expect\": 70.76, \"fertility\": 2.545}, {\"year\": 1970, \"country\": \"United States\", \"cluster\": 3, \"pop\": 205052000, \"life_expect\": 71.34, \"fertility\": 2.016}, {\"year\": 1975, \"country\": \"United States\", \"cluster\": 3, \"pop\": 215973000, \"life_expect\": 73.38, \"fertility\": 1.788}, {\"year\": 1980, \"country\": \"United States\", \"cluster\": 3, \"pop\": 227726463, \"life_expect\": 74.65, \"fertility\": 1.8250000000000002}, {\"year\": 1985, \"country\": \"United States\", \"cluster\": 3, \"pop\": 238466283, \"life_expect\": 75.02, \"fertility\": 1.924}, {\"year\": 1990, \"country\": \"United States\", \"cluster\": 3, \"pop\": 250131894, \"life_expect\": 76.09, \"fertility\": 2.025}, {\"year\": 1995, \"country\": \"United States\", \"cluster\": 3, \"pop\": 266557091, \"life_expect\": 76.81, \"fertility\": 1.994}, {\"year\": 2000, \"country\": \"United States\", \"cluster\": 3, \"pop\": 282338631, \"life_expect\": 77.31, \"fertility\": 2.038}, {\"year\": 2005, \"country\": \"United States\", \"cluster\": 3, \"pop\": 295734134, \"life_expect\": 78.242, \"fertility\": 2.054}]}}, {\"mode\": \"vega-lite\"});\n",
       "</script>"
      ],
      "text/plain": [
       "alt.Chart(...)"
      ]
     },
     "execution_count": 45,
     "metadata": {},
     "output_type": "execute_result"
    }
   ],
   "source": [
    "alt.Chart(dataNA).mark_area().encode(\n",
    "    alt.X('year:O'),\n",
    "    alt.Y('pop:Q', stack='normalize'),   # 정규화하여 백분율로 적층 \n",
    "    alt.Color('country:N')\n",
    ").properties(\n",
    "    width={\"step\": 50}\n",
    ")"
   ]
  },
  {
   "cell_type": "markdown",
   "metadata": {
    "colab_type": "text",
    "id": "fQN5a3gfQFBW",
    "slideshow": {
     "slide_type": "subslide"
    }
   },
   "source": [
    "- 쌓아올리기를 모두 취소하려면, `stack` 속성을 `None`으로 설정하라.  \n",
    "  - 이렇게 되면 모든 면적 요소가 영점 기저선에서부터 그려진다. \n",
    "  - 또한 `opacity`를 `area` 마크에 대한 기본 매개변수로 지정하여, 겹쳐진 영역을 확인할 수 있다. "
   ]
  },
  {
   "cell_type": "code",
   "execution_count": 46,
   "metadata": {
    "colab": {
     "base_uri": "https://localhost:8080/",
     "height": 385
    },
    "colab_type": "code",
    "id": "MY8xDiqkKDMc",
    "outputId": "41345e53-eeaa-4c69-969d-738c1479ba26",
    "slideshow": {
     "slide_type": "fragment"
    }
   },
   "outputs": [
    {
     "data": {
      "text/html": [
       "\n",
       "<div id=\"altair-viz-1c05b0b2e4674d279d419855a8b7a4a3\"></div>\n",
       "<script type=\"text/javascript\">\n",
       "  (function(spec, embedOpt){\n",
       "    let outputDiv = document.currentScript.previousElementSibling;\n",
       "    if (outputDiv.id !== \"altair-viz-1c05b0b2e4674d279d419855a8b7a4a3\") {\n",
       "      outputDiv = document.getElementById(\"altair-viz-1c05b0b2e4674d279d419855a8b7a4a3\");\n",
       "    }\n",
       "    const paths = {\n",
       "      \"vega\": \"https://cdn.jsdelivr.net/npm//vega@5?noext\",\n",
       "      \"vega-lib\": \"https://cdn.jsdelivr.net/npm//vega-lib?noext\",\n",
       "      \"vega-lite\": \"https://cdn.jsdelivr.net/npm//vega-lite@4.8.1?noext\",\n",
       "      \"vega-embed\": \"https://cdn.jsdelivr.net/npm//vega-embed@6?noext\",\n",
       "    };\n",
       "\n",
       "    function loadScript(lib) {\n",
       "      return new Promise(function(resolve, reject) {\n",
       "        var s = document.createElement('script');\n",
       "        s.src = paths[lib];\n",
       "        s.async = true;\n",
       "        s.onload = () => resolve(paths[lib]);\n",
       "        s.onerror = () => reject(`Error loading script: ${paths[lib]}`);\n",
       "        document.getElementsByTagName(\"head\")[0].appendChild(s);\n",
       "      });\n",
       "    }\n",
       "\n",
       "    function showError(err) {\n",
       "      outputDiv.innerHTML = `<div class=\"error\" style=\"color:red;\">${err}</div>`;\n",
       "      throw err;\n",
       "    }\n",
       "\n",
       "    function displayChart(vegaEmbed) {\n",
       "      vegaEmbed(outputDiv, spec, embedOpt)\n",
       "        .catch(err => showError(`Javascript Error: ${err.message}<br>This usually means there's a typo in your chart specification. See the javascript console for the full traceback.`));\n",
       "    }\n",
       "\n",
       "    if(typeof define === \"function\" && define.amd) {\n",
       "      requirejs.config({paths});\n",
       "      require([\"vega-embed\"], displayChart, err => showError(`Error loading script: ${err.message}`));\n",
       "    } else if (typeof vegaEmbed === \"function\") {\n",
       "      displayChart(vegaEmbed);\n",
       "    } else {\n",
       "      loadScript(\"vega\")\n",
       "        .then(() => loadScript(\"vega-lite\"))\n",
       "        .then(() => loadScript(\"vega-embed\"))\n",
       "        .catch(showError)\n",
       "        .then(() => displayChart(vegaEmbed));\n",
       "    }\n",
       "  })({\"config\": {\"view\": {\"continuousWidth\": 400, \"continuousHeight\": 300}}, \"data\": {\"name\": \"data-90247f35efb014c7706cfdd66a0e9a4d\"}, \"mark\": {\"type\": \"area\", \"opacity\": 0.5}, \"encoding\": {\"color\": {\"type\": \"nominal\", \"field\": \"country\"}, \"x\": {\"type\": \"ordinal\", \"field\": \"year\"}, \"y\": {\"type\": \"quantitative\", \"field\": \"pop\", \"stack\": null}}, \"width\": {\"step\": 50}, \"$schema\": \"https://vega.github.io/schema/vega-lite/v4.8.1.json\", \"datasets\": {\"data-90247f35efb014c7706cfdd66a0e9a4d\": [{\"year\": 1955, \"country\": \"Canada\", \"cluster\": 3, \"pop\": 16050356, \"life_expect\": 69.96, \"fertility\": 3.882}, {\"year\": 1960, \"country\": \"Canada\", \"cluster\": 3, \"pop\": 18266765, \"life_expect\": 71.3, \"fertility\": 3.675}, {\"year\": 1965, \"country\": \"Canada\", \"cluster\": 3, \"pop\": 20071104, \"life_expect\": 72.13, \"fertility\": 2.61}, {\"year\": 1970, \"country\": \"Canada\", \"cluster\": 3, \"pop\": 21749986, \"life_expect\": 72.88, \"fertility\": 1.976}, {\"year\": 1975, \"country\": \"Canada\", \"cluster\": 3, \"pop\": 23209200, \"life_expect\": 74.21, \"fertility\": 1.734}, {\"year\": 1980, \"country\": \"Canada\", \"cluster\": 3, \"pop\": 24593300, \"life_expect\": 75.76, \"fertility\": 1.634}, {\"year\": 1985, \"country\": \"Canada\", \"cluster\": 3, \"pop\": 25941600, \"life_expect\": 76.86, \"fertility\": 1.616}, {\"year\": 1990, \"country\": \"Canada\", \"cluster\": 3, \"pop\": 27790600, \"life_expect\": 77.95, \"fertility\": 1.694}, {\"year\": 1995, \"country\": \"Canada\", \"cluster\": 3, \"pop\": 29619002, \"life_expect\": 78.61, \"fertility\": 1.564}, {\"year\": 2000, \"country\": \"Canada\", \"cluster\": 3, \"pop\": 31278097, \"life_expect\": 79.77, \"fertility\": 1.522}, {\"year\": 2005, \"country\": \"Canada\", \"cluster\": 3, \"pop\": 32805041, \"life_expect\": 80.653, \"fertility\": 1.5270000000000001}, {\"year\": 1955, \"country\": \"Mexico\", \"cluster\": 3, \"pop\": 32929914, \"life_expect\": 55.19, \"fertility\": 6.8}, {\"year\": 1960, \"country\": \"Mexico\", \"cluster\": 3, \"pop\": 38578505, \"life_expect\": 58.299, \"fertility\": 6.7495}, {\"year\": 1965, \"country\": \"Mexico\", \"cluster\": 3, \"pop\": 45142399, \"life_expect\": 60.11, \"fertility\": 6.7495}, {\"year\": 1970, \"country\": \"Mexico\", \"cluster\": 3, \"pop\": 52775158, \"life_expect\": 62.361, \"fertility\": 6.5}, {\"year\": 1975, \"country\": \"Mexico\", \"cluster\": 3, \"pop\": 60678045, \"life_expect\": 65.032, \"fertility\": 5.2505}, {\"year\": 1980, \"country\": \"Mexico\", \"cluster\": 3, \"pop\": 68347479, \"life_expect\": 67.405, \"fertility\": 4.25}, {\"year\": 1985, \"country\": \"Mexico\", \"cluster\": 3, \"pop\": 76767225, \"life_expect\": 69.498, \"fertility\": 3.6295}, {\"year\": 1990, \"country\": \"Mexico\", \"cluster\": 3, \"pop\": 84913652, \"life_expect\": 71.455, \"fertility\": 3.1905}, {\"year\": 1995, \"country\": \"Mexico\", \"cluster\": 3, \"pop\": 92880353, \"life_expect\": 73.67, \"fertility\": 2.6705}, {\"year\": 2000, \"country\": \"Mexico\", \"cluster\": 3, \"pop\": 99926620, \"life_expect\": 74.902, \"fertility\": 2.4005}, {\"year\": 2005, \"country\": \"Mexico\", \"cluster\": 3, \"pop\": 106202903, \"life_expect\": 76.195, \"fertility\": 2.211}, {\"year\": 1955, \"country\": \"United States\", \"cluster\": 3, \"pop\": 165931000, \"life_expect\": 69.49, \"fertility\": 3.706}, {\"year\": 1960, \"country\": \"United States\", \"cluster\": 3, \"pop\": 180671000, \"life_expect\": 70.21, \"fertility\": 3.314}, {\"year\": 1965, \"country\": \"United States\", \"cluster\": 3, \"pop\": 194303000, \"life_expect\": 70.76, \"fertility\": 2.545}, {\"year\": 1970, \"country\": \"United States\", \"cluster\": 3, \"pop\": 205052000, \"life_expect\": 71.34, \"fertility\": 2.016}, {\"year\": 1975, \"country\": \"United States\", \"cluster\": 3, \"pop\": 215973000, \"life_expect\": 73.38, \"fertility\": 1.788}, {\"year\": 1980, \"country\": \"United States\", \"cluster\": 3, \"pop\": 227726463, \"life_expect\": 74.65, \"fertility\": 1.8250000000000002}, {\"year\": 1985, \"country\": \"United States\", \"cluster\": 3, \"pop\": 238466283, \"life_expect\": 75.02, \"fertility\": 1.924}, {\"year\": 1990, \"country\": \"United States\", \"cluster\": 3, \"pop\": 250131894, \"life_expect\": 76.09, \"fertility\": 2.025}, {\"year\": 1995, \"country\": \"United States\", \"cluster\": 3, \"pop\": 266557091, \"life_expect\": 76.81, \"fertility\": 1.994}, {\"year\": 2000, \"country\": \"United States\", \"cluster\": 3, \"pop\": 282338631, \"life_expect\": 77.31, \"fertility\": 2.038}, {\"year\": 2005, \"country\": \"United States\", \"cluster\": 3, \"pop\": 295734134, \"life_expect\": 78.242, \"fertility\": 2.054}]}}, {\"mode\": \"vega-lite\"});\n",
       "</script>"
      ],
      "text/plain": [
       "alt.Chart(...)"
      ]
     },
     "execution_count": 46,
     "metadata": {},
     "output_type": "execute_result"
    }
   ],
   "source": [
    "alt.Chart(dataNA).mark_area(opacity=0.5).encode(\n",
    "    alt.X('year:O'),\n",
    "    alt.Y('pop:Q', stack=None),  # 적층식 거부하면, 영점 기저선에서부터 겹쳐서 시각화\n",
    "    alt.Color('country:N')\n",
    ").properties(\n",
    "    width={\"step\": 50}\n",
    ")"
   ]
  },
  {
   "cell_type": "markdown",
   "metadata": {
    "colab_type": "text",
    "id": "ro21p2rsQMl3",
    "slideshow": {
     "slide_type": "subslide"
    }
   },
   "source": [
    "- `area` 마크 유형도 데이터 중심의 기저선을 지원한다.  \n",
    "  - 데이터 필드에 의하여 계산한 상한 및 하한 시리즈를 적용할 수 있다.  \n",
    "  - `bar` 마크처럼, `x` 및 `x2` (또는 `y` 및 `y2`) 채널을 통하여 `area` 마크의 종료 점을 표시할 수 있다. \n",
    "- 아래 차트는 북미 3국에 대하여 연도별 출산율의 최소값과 최대값 범위를 시각화 한 결과이다. "
   ]
  },
  {
   "cell_type": "code",
   "execution_count": 47,
   "metadata": {
    "colab": {
     "base_uri": "https://localhost:8080/",
     "height": 385
    },
    "colab_type": "code",
    "id": "I084oc4aQeMw",
    "outputId": "fb6d0868-79f4-4f96-8f5d-aff6d504b3fe",
    "slideshow": {
     "slide_type": "subslide"
    }
   },
   "outputs": [
    {
     "data": {
      "text/html": [
       "\n",
       "<div id=\"altair-viz-77cea5533312432c880f8eb52a6f764d\"></div>\n",
       "<script type=\"text/javascript\">\n",
       "  (function(spec, embedOpt){\n",
       "    let outputDiv = document.currentScript.previousElementSibling;\n",
       "    if (outputDiv.id !== \"altair-viz-77cea5533312432c880f8eb52a6f764d\") {\n",
       "      outputDiv = document.getElementById(\"altair-viz-77cea5533312432c880f8eb52a6f764d\");\n",
       "    }\n",
       "    const paths = {\n",
       "      \"vega\": \"https://cdn.jsdelivr.net/npm//vega@5?noext\",\n",
       "      \"vega-lib\": \"https://cdn.jsdelivr.net/npm//vega-lib?noext\",\n",
       "      \"vega-lite\": \"https://cdn.jsdelivr.net/npm//vega-lite@4.8.1?noext\",\n",
       "      \"vega-embed\": \"https://cdn.jsdelivr.net/npm//vega-embed@6?noext\",\n",
       "    };\n",
       "\n",
       "    function loadScript(lib) {\n",
       "      return new Promise(function(resolve, reject) {\n",
       "        var s = document.createElement('script');\n",
       "        s.src = paths[lib];\n",
       "        s.async = true;\n",
       "        s.onload = () => resolve(paths[lib]);\n",
       "        s.onerror = () => reject(`Error loading script: ${paths[lib]}`);\n",
       "        document.getElementsByTagName(\"head\")[0].appendChild(s);\n",
       "      });\n",
       "    }\n",
       "\n",
       "    function showError(err) {\n",
       "      outputDiv.innerHTML = `<div class=\"error\" style=\"color:red;\">${err}</div>`;\n",
       "      throw err;\n",
       "    }\n",
       "\n",
       "    function displayChart(vegaEmbed) {\n",
       "      vegaEmbed(outputDiv, spec, embedOpt)\n",
       "        .catch(err => showError(`Javascript Error: ${err.message}<br>This usually means there's a typo in your chart specification. See the javascript console for the full traceback.`));\n",
       "    }\n",
       "\n",
       "    if(typeof define === \"function\" && define.amd) {\n",
       "      requirejs.config({paths});\n",
       "      require([\"vega-embed\"], displayChart, err => showError(`Error loading script: ${err.message}`));\n",
       "    } else if (typeof vegaEmbed === \"function\") {\n",
       "      displayChart(vegaEmbed);\n",
       "    } else {\n",
       "      loadScript(\"vega\")\n",
       "        .then(() => loadScript(\"vega-lite\"))\n",
       "        .then(() => loadScript(\"vega-embed\"))\n",
       "        .catch(showError)\n",
       "        .then(() => displayChart(vegaEmbed));\n",
       "    }\n",
       "  })({\"config\": {\"view\": {\"continuousWidth\": 400, \"continuousHeight\": 300}}, \"data\": {\"name\": \"data-90247f35efb014c7706cfdd66a0e9a4d\"}, \"mark\": \"area\", \"encoding\": {\"x\": {\"type\": \"ordinal\", \"field\": \"year\", \"title\": \"\\uc5f0\\ub3c4\"}, \"y\": {\"type\": \"quantitative\", \"aggregate\": \"min\", \"field\": \"fertility\", \"title\": \"(\\ucd5c\\uc800, \\ucd5c\\uace0) \\ucd9c\\uc0b0\\uc728\"}, \"y2\": {\"aggregate\": \"max\", \"field\": \"fertility\"}}, \"width\": {\"step\": 50}, \"$schema\": \"https://vega.github.io/schema/vega-lite/v4.8.1.json\", \"datasets\": {\"data-90247f35efb014c7706cfdd66a0e9a4d\": [{\"year\": 1955, \"country\": \"Canada\", \"cluster\": 3, \"pop\": 16050356, \"life_expect\": 69.96, \"fertility\": 3.882}, {\"year\": 1960, \"country\": \"Canada\", \"cluster\": 3, \"pop\": 18266765, \"life_expect\": 71.3, \"fertility\": 3.675}, {\"year\": 1965, \"country\": \"Canada\", \"cluster\": 3, \"pop\": 20071104, \"life_expect\": 72.13, \"fertility\": 2.61}, {\"year\": 1970, \"country\": \"Canada\", \"cluster\": 3, \"pop\": 21749986, \"life_expect\": 72.88, \"fertility\": 1.976}, {\"year\": 1975, \"country\": \"Canada\", \"cluster\": 3, \"pop\": 23209200, \"life_expect\": 74.21, \"fertility\": 1.734}, {\"year\": 1980, \"country\": \"Canada\", \"cluster\": 3, \"pop\": 24593300, \"life_expect\": 75.76, \"fertility\": 1.634}, {\"year\": 1985, \"country\": \"Canada\", \"cluster\": 3, \"pop\": 25941600, \"life_expect\": 76.86, \"fertility\": 1.616}, {\"year\": 1990, \"country\": \"Canada\", \"cluster\": 3, \"pop\": 27790600, \"life_expect\": 77.95, \"fertility\": 1.694}, {\"year\": 1995, \"country\": \"Canada\", \"cluster\": 3, \"pop\": 29619002, \"life_expect\": 78.61, \"fertility\": 1.564}, {\"year\": 2000, \"country\": \"Canada\", \"cluster\": 3, \"pop\": 31278097, \"life_expect\": 79.77, \"fertility\": 1.522}, {\"year\": 2005, \"country\": \"Canada\", \"cluster\": 3, \"pop\": 32805041, \"life_expect\": 80.653, \"fertility\": 1.5270000000000001}, {\"year\": 1955, \"country\": \"Mexico\", \"cluster\": 3, \"pop\": 32929914, \"life_expect\": 55.19, \"fertility\": 6.8}, {\"year\": 1960, \"country\": \"Mexico\", \"cluster\": 3, \"pop\": 38578505, \"life_expect\": 58.299, \"fertility\": 6.7495}, {\"year\": 1965, \"country\": \"Mexico\", \"cluster\": 3, \"pop\": 45142399, \"life_expect\": 60.11, \"fertility\": 6.7495}, {\"year\": 1970, \"country\": \"Mexico\", \"cluster\": 3, \"pop\": 52775158, \"life_expect\": 62.361, \"fertility\": 6.5}, {\"year\": 1975, \"country\": \"Mexico\", \"cluster\": 3, \"pop\": 60678045, \"life_expect\": 65.032, \"fertility\": 5.2505}, {\"year\": 1980, \"country\": \"Mexico\", \"cluster\": 3, \"pop\": 68347479, \"life_expect\": 67.405, \"fertility\": 4.25}, {\"year\": 1985, \"country\": \"Mexico\", \"cluster\": 3, \"pop\": 76767225, \"life_expect\": 69.498, \"fertility\": 3.6295}, {\"year\": 1990, \"country\": \"Mexico\", \"cluster\": 3, \"pop\": 84913652, \"life_expect\": 71.455, \"fertility\": 3.1905}, {\"year\": 1995, \"country\": \"Mexico\", \"cluster\": 3, \"pop\": 92880353, \"life_expect\": 73.67, \"fertility\": 2.6705}, {\"year\": 2000, \"country\": \"Mexico\", \"cluster\": 3, \"pop\": 99926620, \"life_expect\": 74.902, \"fertility\": 2.4005}, {\"year\": 2005, \"country\": \"Mexico\", \"cluster\": 3, \"pop\": 106202903, \"life_expect\": 76.195, \"fertility\": 2.211}, {\"year\": 1955, \"country\": \"United States\", \"cluster\": 3, \"pop\": 165931000, \"life_expect\": 69.49, \"fertility\": 3.706}, {\"year\": 1960, \"country\": \"United States\", \"cluster\": 3, \"pop\": 180671000, \"life_expect\": 70.21, \"fertility\": 3.314}, {\"year\": 1965, \"country\": \"United States\", \"cluster\": 3, \"pop\": 194303000, \"life_expect\": 70.76, \"fertility\": 2.545}, {\"year\": 1970, \"country\": \"United States\", \"cluster\": 3, \"pop\": 205052000, \"life_expect\": 71.34, \"fertility\": 2.016}, {\"year\": 1975, \"country\": \"United States\", \"cluster\": 3, \"pop\": 215973000, \"life_expect\": 73.38, \"fertility\": 1.788}, {\"year\": 1980, \"country\": \"United States\", \"cluster\": 3, \"pop\": 227726463, \"life_expect\": 74.65, \"fertility\": 1.8250000000000002}, {\"year\": 1985, \"country\": \"United States\", \"cluster\": 3, \"pop\": 238466283, \"life_expect\": 75.02, \"fertility\": 1.924}, {\"year\": 1990, \"country\": \"United States\", \"cluster\": 3, \"pop\": 250131894, \"life_expect\": 76.09, \"fertility\": 2.025}, {\"year\": 1995, \"country\": \"United States\", \"cluster\": 3, \"pop\": 266557091, \"life_expect\": 76.81, \"fertility\": 1.994}, {\"year\": 2000, \"country\": \"United States\", \"cluster\": 3, \"pop\": 282338631, \"life_expect\": 77.31, \"fertility\": 2.038}, {\"year\": 2005, \"country\": \"United States\", \"cluster\": 3, \"pop\": 295734134, \"life_expect\": 78.242, \"fertility\": 2.054}]}}, {\"mode\": \"vega-lite\"});\n",
       "</script>"
      ],
      "text/plain": [
       "alt.Chart(...)"
      ]
     },
     "execution_count": 47,
     "metadata": {},
     "output_type": "execute_result"
    }
   ],
   "source": [
    "alt.Chart(dataNA).mark_area().encode(\n",
    "    alt.X('year:O', title='연도'),\n",
    "    alt.Y('min(fertility):Q', title='(최저, 최고) 출산율'),\n",
    "    alt.Y2('max(fertility):Q')\n",
    ").properties(\n",
    "    width={\"step\": 50}\n",
    ")"
   ]
  },
  {
   "cell_type": "markdown",
   "metadata": {
    "colab_type": "text",
    "id": "msL27DW2qoqJ",
    "slideshow": {
     "slide_type": "fragment"
    }
   },
   "source": [
    "- 1955년에는 4에 육박하는 최소값과 7에 근접하는 최대값을 가질 정도로 출산율의 범위가 넓었다. \n",
    "- 그러나 시간이 지날수록 출산율이 낮아져서, 2005년에는 가족당 2 자녀 수준이 되었다. "
   ]
  },
  {
   "cell_type": "markdown",
   "metadata": {
    "colab_type": "text",
    "id": "5BoLjQCgrHZL",
    "slideshow": {
     "slide_type": "subslide"
    }
   },
   "source": [
    "- 지금까지 살펴 본 모든 `area` 마크 예제에서는 수직으로 범위를 가지는 면적을 시각화 하였다. \n",
    "  - 알테어 및 베가-라이트는 수평으로 범위를 가지는 면적의 시각화도 가능하다. \n",
    "  - 앞서 그린 차트에서 `x`와 `y` 채널을 교환함으로써 차트를 전치(transpose)할 수 있다. "
   ]
  },
  {
   "cell_type": "code",
   "execution_count": 48,
   "metadata": {
    "colab": {
     "base_uri": "https://localhost:8080/",
     "height": 506
    },
    "colab_type": "code",
    "id": "l_TDR4SNrStr",
    "outputId": "e7bf35e5-c94b-4316-9f8d-0dc68f242763",
    "slideshow": {
     "slide_type": "fragment"
    }
   },
   "outputs": [
    {
     "data": {
      "text/html": [
       "\n",
       "<div id=\"altair-viz-d7d6450f39e24c369285580ebb04b4bd\"></div>\n",
       "<script type=\"text/javascript\">\n",
       "  (function(spec, embedOpt){\n",
       "    let outputDiv = document.currentScript.previousElementSibling;\n",
       "    if (outputDiv.id !== \"altair-viz-d7d6450f39e24c369285580ebb04b4bd\") {\n",
       "      outputDiv = document.getElementById(\"altair-viz-d7d6450f39e24c369285580ebb04b4bd\");\n",
       "    }\n",
       "    const paths = {\n",
       "      \"vega\": \"https://cdn.jsdelivr.net/npm//vega@5?noext\",\n",
       "      \"vega-lib\": \"https://cdn.jsdelivr.net/npm//vega-lib?noext\",\n",
       "      \"vega-lite\": \"https://cdn.jsdelivr.net/npm//vega-lite@4.8.1?noext\",\n",
       "      \"vega-embed\": \"https://cdn.jsdelivr.net/npm//vega-embed@6?noext\",\n",
       "    };\n",
       "\n",
       "    function loadScript(lib) {\n",
       "      return new Promise(function(resolve, reject) {\n",
       "        var s = document.createElement('script');\n",
       "        s.src = paths[lib];\n",
       "        s.async = true;\n",
       "        s.onload = () => resolve(paths[lib]);\n",
       "        s.onerror = () => reject(`Error loading script: ${paths[lib]}`);\n",
       "        document.getElementsByTagName(\"head\")[0].appendChild(s);\n",
       "      });\n",
       "    }\n",
       "\n",
       "    function showError(err) {\n",
       "      outputDiv.innerHTML = `<div class=\"error\" style=\"color:red;\">${err}</div>`;\n",
       "      throw err;\n",
       "    }\n",
       "\n",
       "    function displayChart(vegaEmbed) {\n",
       "      vegaEmbed(outputDiv, spec, embedOpt)\n",
       "        .catch(err => showError(`Javascript Error: ${err.message}<br>This usually means there's a typo in your chart specification. See the javascript console for the full traceback.`));\n",
       "    }\n",
       "\n",
       "    if(typeof define === \"function\" && define.amd) {\n",
       "      requirejs.config({paths});\n",
       "      require([\"vega-embed\"], displayChart, err => showError(`Error loading script: ${err.message}`));\n",
       "    } else if (typeof vegaEmbed === \"function\") {\n",
       "      displayChart(vegaEmbed);\n",
       "    } else {\n",
       "      loadScript(\"vega\")\n",
       "        .then(() => loadScript(\"vega-lite\"))\n",
       "        .then(() => loadScript(\"vega-embed\"))\n",
       "        .catch(showError)\n",
       "        .then(() => displayChart(vegaEmbed));\n",
       "    }\n",
       "  })({\"config\": {\"view\": {\"continuousWidth\": 400, \"continuousHeight\": 300}}, \"data\": {\"name\": \"data-90247f35efb014c7706cfdd66a0e9a4d\"}, \"mark\": \"area\", \"encoding\": {\"x\": {\"type\": \"quantitative\", \"aggregate\": \"min\", \"field\": \"fertility\"}, \"x2\": {\"aggregate\": \"max\", \"field\": \"fertility\"}, \"y\": {\"type\": \"ordinal\", \"field\": \"year\"}}, \"height\": 400, \"width\": 600, \"$schema\": \"https://vega.github.io/schema/vega-lite/v4.8.1.json\", \"datasets\": {\"data-90247f35efb014c7706cfdd66a0e9a4d\": [{\"year\": 1955, \"country\": \"Canada\", \"cluster\": 3, \"pop\": 16050356, \"life_expect\": 69.96, \"fertility\": 3.882}, {\"year\": 1960, \"country\": \"Canada\", \"cluster\": 3, \"pop\": 18266765, \"life_expect\": 71.3, \"fertility\": 3.675}, {\"year\": 1965, \"country\": \"Canada\", \"cluster\": 3, \"pop\": 20071104, \"life_expect\": 72.13, \"fertility\": 2.61}, {\"year\": 1970, \"country\": \"Canada\", \"cluster\": 3, \"pop\": 21749986, \"life_expect\": 72.88, \"fertility\": 1.976}, {\"year\": 1975, \"country\": \"Canada\", \"cluster\": 3, \"pop\": 23209200, \"life_expect\": 74.21, \"fertility\": 1.734}, {\"year\": 1980, \"country\": \"Canada\", \"cluster\": 3, \"pop\": 24593300, \"life_expect\": 75.76, \"fertility\": 1.634}, {\"year\": 1985, \"country\": \"Canada\", \"cluster\": 3, \"pop\": 25941600, \"life_expect\": 76.86, \"fertility\": 1.616}, {\"year\": 1990, \"country\": \"Canada\", \"cluster\": 3, \"pop\": 27790600, \"life_expect\": 77.95, \"fertility\": 1.694}, {\"year\": 1995, \"country\": \"Canada\", \"cluster\": 3, \"pop\": 29619002, \"life_expect\": 78.61, \"fertility\": 1.564}, {\"year\": 2000, \"country\": \"Canada\", \"cluster\": 3, \"pop\": 31278097, \"life_expect\": 79.77, \"fertility\": 1.522}, {\"year\": 2005, \"country\": \"Canada\", \"cluster\": 3, \"pop\": 32805041, \"life_expect\": 80.653, \"fertility\": 1.5270000000000001}, {\"year\": 1955, \"country\": \"Mexico\", \"cluster\": 3, \"pop\": 32929914, \"life_expect\": 55.19, \"fertility\": 6.8}, {\"year\": 1960, \"country\": \"Mexico\", \"cluster\": 3, \"pop\": 38578505, \"life_expect\": 58.299, \"fertility\": 6.7495}, {\"year\": 1965, \"country\": \"Mexico\", \"cluster\": 3, \"pop\": 45142399, \"life_expect\": 60.11, \"fertility\": 6.7495}, {\"year\": 1970, \"country\": \"Mexico\", \"cluster\": 3, \"pop\": 52775158, \"life_expect\": 62.361, \"fertility\": 6.5}, {\"year\": 1975, \"country\": \"Mexico\", \"cluster\": 3, \"pop\": 60678045, \"life_expect\": 65.032, \"fertility\": 5.2505}, {\"year\": 1980, \"country\": \"Mexico\", \"cluster\": 3, \"pop\": 68347479, \"life_expect\": 67.405, \"fertility\": 4.25}, {\"year\": 1985, \"country\": \"Mexico\", \"cluster\": 3, \"pop\": 76767225, \"life_expect\": 69.498, \"fertility\": 3.6295}, {\"year\": 1990, \"country\": \"Mexico\", \"cluster\": 3, \"pop\": 84913652, \"life_expect\": 71.455, \"fertility\": 3.1905}, {\"year\": 1995, \"country\": \"Mexico\", \"cluster\": 3, \"pop\": 92880353, \"life_expect\": 73.67, \"fertility\": 2.6705}, {\"year\": 2000, \"country\": \"Mexico\", \"cluster\": 3, \"pop\": 99926620, \"life_expect\": 74.902, \"fertility\": 2.4005}, {\"year\": 2005, \"country\": \"Mexico\", \"cluster\": 3, \"pop\": 106202903, \"life_expect\": 76.195, \"fertility\": 2.211}, {\"year\": 1955, \"country\": \"United States\", \"cluster\": 3, \"pop\": 165931000, \"life_expect\": 69.49, \"fertility\": 3.706}, {\"year\": 1960, \"country\": \"United States\", \"cluster\": 3, \"pop\": 180671000, \"life_expect\": 70.21, \"fertility\": 3.314}, {\"year\": 1965, \"country\": \"United States\", \"cluster\": 3, \"pop\": 194303000, \"life_expect\": 70.76, \"fertility\": 2.545}, {\"year\": 1970, \"country\": \"United States\", \"cluster\": 3, \"pop\": 205052000, \"life_expect\": 71.34, \"fertility\": 2.016}, {\"year\": 1975, \"country\": \"United States\", \"cluster\": 3, \"pop\": 215973000, \"life_expect\": 73.38, \"fertility\": 1.788}, {\"year\": 1980, \"country\": \"United States\", \"cluster\": 3, \"pop\": 227726463, \"life_expect\": 74.65, \"fertility\": 1.8250000000000002}, {\"year\": 1985, \"country\": \"United States\", \"cluster\": 3, \"pop\": 238466283, \"life_expect\": 75.02, \"fertility\": 1.924}, {\"year\": 1990, \"country\": \"United States\", \"cluster\": 3, \"pop\": 250131894, \"life_expect\": 76.09, \"fertility\": 2.025}, {\"year\": 1995, \"country\": \"United States\", \"cluster\": 3, \"pop\": 266557091, \"life_expect\": 76.81, \"fertility\": 1.994}, {\"year\": 2000, \"country\": \"United States\", \"cluster\": 3, \"pop\": 282338631, \"life_expect\": 77.31, \"fertility\": 2.038}, {\"year\": 2005, \"country\": \"United States\", \"cluster\": 3, \"pop\": 295734134, \"life_expect\": 78.242, \"fertility\": 2.054}]}}, {\"mode\": \"vega-lite\"});\n",
       "</script>"
      ],
      "text/plain": [
       "alt.Chart(...)"
      ]
     },
     "execution_count": 48,
     "metadata": {},
     "output_type": "execute_result"
    }
   ],
   "source": [
    "alt.Chart(dataNA).mark_area().encode(\n",
    "    alt.Y('year:O'),\n",
    "    alt.X('min(fertility):Q'),\n",
    "    alt.X2('max(fertility):Q')\n",
    ").properties(\n",
    "    height=400, \n",
    "    width=600\n",
    ")"
   ]
  },
  {
   "cell_type": "markdown",
   "metadata": {
    "colab_type": "text",
    "id": "OAmIxLRarios",
    "slideshow": {
     "slide_type": "slide"
    }
   },
   "source": [
    "## 5. 요약\n",
    "\n",
    "- 지금까지 데이터 유형, 인코딩 채널, 그리고 그래픽 마크를 공부했다. \n",
    "  - 이제부터는 스스로 인코딩, 마크 유형 및 마크 매개변수에 대한 공부를 진행할 수 있을 것이다. \n",
    "  - 여기에서 생략한 전체 내용을 확인하기 위해서는 다음 자료를 확인하라.\n",
    "    - [marks](https://altair-viz.github.io/user_guide/marks.html)\n",
    "    - [encoding](https://altair-viz.github.io/user_guide/encoding.html)\n",
    "- 다음 장에서는 데이터 변환(transformations)에 관하여 공부한다. \n",
    "  - 전체 *데이터를 요약하는 차트*를 시각화하는 방법\n",
    "  - 기존 데이터에 대한 계산을 통하여 유도한 새로운 데이터 필드로 시각화하는 방법\n",
    "- 이후에는 스케일, 축 및 범례를 맞춤형으로 수정하는 방법을 공부한다. "
   ]
  },
  {
   "cell_type": "markdown",
   "metadata": {
    "colab_type": "text",
    "id": "OAmIxLRarios",
    "slideshow": {
     "slide_type": "subslide"
    }
   },
   "source": [
    "- 시각적 인코딩에 대하여 흥미가 커졌길 기대한다. "
   ]
  },
  {
   "cell_type": "markdown",
   "metadata": {
    "slideshow": {
     "slide_type": "fragment"
    }
   },
   "source": [
    "<img title=\"Bertin's Taxonomy of Visual Encoding Channels\" src=\"https://cdn-images-1.medium.com/max/2000/1*jsb78Rr2cDy6zrE7j2IKig.png\" style=\"max-width: 650px;\"><br/>\n",
    "\n",
    "<small><a href=\"https://books.google.com/books/about/Semiology_of_Graphics.html?id=X5caQwAACAAJ\"><em>Sémiologie Graphique</em></a>에서 발췌한 Bertin'의 시각적 인코딩에 대한 분류를 <a href=\"https://bost.ocks.org/mike/\">Mike Bostock</a>가 편집한 내용</small>"
   ]
  },
  {
   "cell_type": "markdown",
   "metadata": {
    "slideshow": {
     "slide_type": "subslide"
    }
   },
   "source": [
    "- 마크, 시각적 인코딩 및 데이터 유형에 관한 체계적 연구는 [Jacques Bertin](https://en.wikipedia.org/wiki/Jacques_Bertin)에 의하여,  \n",
    "  선구적인 1967년의 [Sémiologie Graphique(The Semiology of Graphics)](https://books.google.com/books/about/Semiology_of_Graphics.html?id=X5caQwAACAAJ) 작업에서 시작되었다.  \n",
    "  앞에서 제시한 이미지는 위치, 크기, 값(명도), 질감, 색조, 방향성 및 모양이라는 채널의 개념을  \n",
    "  이들에 적합한 데이터 유형에 대하여 Bertin이 추천한 내용과 함께 정리한 것이다. \n",
    "- 데이터 유형, 마크 및 채널이라는 체계는 또한 자동화된 시각화 설계 도구에 대한 지침을 제공한다.  \n",
    "  이러한 내용은 1986년에 제시된 [Mackinlay's APT (A Presentation Tool)](https://scholar.google.com/scholar?cluster=10191273548472217907)에서 시작되어,  \n",
    "  [Voyager](http://idl.cs.washington.edu/papers/voyager/) 및 [Draco](http://idl.cs.washington.edu/papers/draco/)와 같은 최근의 연구 성과로 이어지고 있다. \n",
    "- 명목형, 서수형, 구간 및 비율 척도에 대한 이론은  \n",
    "  최소한 S. S. Steven의 1947년 논문인 [On the theory of scales of measurement](https://scholar.google.com/scholar?cluster=14356809180080326415)까지 그 기원을 거슬러 올라갈 수 있다. "
   ]
  }
 ],
 "metadata": {
  "celltoolbar": "Slideshow",
  "kernelspec": {
   "display_name": "Python 3",
   "language": "python",
   "name": "python3"
  },
  "language_info": {
   "codemirror_mode": {
    "name": "ipython",
    "version": 3
   },
   "file_extension": ".py",
   "mimetype": "text/x-python",
   "name": "python",
   "nbconvert_exporter": "python",
   "pygments_lexer": "ipython3",
   "version": "3.8.11"
  },
  "latex_envs": {
   "LaTeX_envs_menu_present": true,
   "autoclose": false,
   "autocomplete": true,
   "bibliofile": "biblio.bib",
   "cite_by": "apalike",
   "current_citInitial": 1,
   "eqLabelWithNumbers": true,
   "eqNumInitial": 1,
   "hotkeys": {
    "equation": "Ctrl-E",
    "itemize": "Ctrl-I"
   },
   "labels_anchors": false,
   "latex_user_defs": false,
   "report_style_numbering": false,
   "user_envs_cfg": false
  },
  "toc": {
   "base_numbering": 1,
   "nav_menu": {},
   "number_sections": false,
   "sideBar": true,
   "skip_h1_title": false,
   "title_cell": "Table of Contents",
   "title_sidebar": "Contents",
   "toc_cell": false,
   "toc_position": {
    "height": "calc(100% - 180px)",
    "left": "10px",
    "top": "150px",
    "width": "165px"
   },
   "toc_section_display": true,
   "toc_window_display": true
  },
  "varInspector": {
   "cols": {
    "lenName": 16,
    "lenType": 16,
    "lenVar": 40
   },
   "kernels_config": {
    "python": {
     "delete_cmd_postfix": "",
     "delete_cmd_prefix": "del ",
     "library": "var_list.py",
     "varRefreshCmd": "print(var_dic_list())"
    },
    "r": {
     "delete_cmd_postfix": ") ",
     "delete_cmd_prefix": "rm(",
     "library": "var_list.r",
     "varRefreshCmd": "cat(var_dic_list()) "
    }
   },
   "types_to_exclude": [
    "module",
    "function",
    "builtin_function_or_method",
    "instance",
    "_Feature"
   ],
   "window_display": false
  }
 },
 "nbformat": 4,
 "nbformat_minor": 4
}
