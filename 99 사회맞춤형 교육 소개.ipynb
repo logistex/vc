{
 "cells": [
  {
   "cell_type": "markdown",
   "id": "4a552aee",
   "metadata": {
    "slideshow": {
     "slide_type": "slide"
    }
   },
   "source": [
    "2022년도 사회맞춤형 교육과정 설명회\n",
    "===========================\n",
    "\n",
    "![t_5447708](https://user-images.githubusercontent.com/10287629/142754855-157a6348-5411-44a9-882d-ba431cc38d83.jpg)"
   ]
  },
  {
   "cell_type": "markdown",
   "id": "15487cdd",
   "metadata": {
    "slideshow": {
     "slide_type": "slide"
    }
   },
   "source": [
    "## 사회맞춤형 교육의 이해\n",
    "\n",
    "![사맞춤 비전](https://user-images.githubusercontent.com/10287629/142717588-0a3fb376-aed1-4dbc-98d0-ed59569d60af.png)\n",
    "\n",
    "<div style=\"page-break-after: always;\"></div> "
   ]
  },
  {
   "cell_type": "markdown",
   "id": "6d4db9d9",
   "metadata": {
    "slideshow": {
     "slide_type": "slide"
    }
   },
   "source": [
    "## 사회맞춤형 교육의 취지 \n",
    "\n",
    "- 산업체가 요구하는 핵심 역량을 맞춤형 교육으로 이수하고 취업 연계\n",
    "- 산업체는 채용의 분야/조건/인원을 명시하여 학과와 약정 체결\n",
    "- 산업체가 학과와 교육과정 공동 설계 및 운영 참여  \n",
    "- 취업률 제고 및 취업의 품질을 개선\n",
    "\n",
    "## 참여 기업의 약정 사항\n",
    "\n",
    "- 적정한 수준으로 과정을 이수한 학생을  \n",
    "  우선적으로 채용하기로 약정\n",
    "- 입도선매(立稻先賣):'논에 서 있는 벼를 미리 판다.' \n",
    "  - 학과의 교수에 대한 신뢰 \n",
    "  - 학과의 교육에 대한 신뢰\n",
    "  - 학과의 선배에 대한 신뢰"
   ]
  },
  {
   "cell_type": "markdown",
   "id": "8ffbe31b",
   "metadata": {
    "slideshow": {
     "slide_type": "slide"
    }
   },
   "source": [
    "## 2021학년도 실적\n",
    "\n",
    "![2_company_list](https://user-images.githubusercontent.com/10287629/129842039-8084419b-b5ee-4569-933e-891c8facae13.png)"
   ]
  },
  {
   "cell_type": "markdown",
   "id": "a2305ca2",
   "metadata": {
    "slideshow": {
     "slide_type": "slide"
    }
   },
   "source": [
    "![협약업체사진모음](https://user-images.githubusercontent.com/10287629/142717729-a20bca63-3137-41c2-8dff-091b4b712b7a.png)"
   ]
  },
  {
   "cell_type": "markdown",
   "id": "2d956d3d",
   "metadata": {
    "slideshow": {
     "slide_type": "slide"
    }
   },
   "source": [
    "- 평균 연봉: 2,841.4 만원 \n",
    "\n",
    "![사맞춤 채용조건](https://user-images.githubusercontent.com/10287629/142717836-bdd5e33b-5235-42ed-93c8-8b273def4e81.png)\n"
   ]
  },
  {
   "cell_type": "markdown",
   "id": "f490f5cc",
   "metadata": {
    "slideshow": {
     "slide_type": "slide"
    }
   },
   "source": [
    "- 2021학년도 서약서 및 지원서 양식\n",
    "\n",
    "![사맞춤 지원양식](https://user-images.githubusercontent.com/10287629/142755378-f630d389-853a-4402-8ce1-145558b81e19.png)\n"
   ]
  },
  {
   "cell_type": "markdown",
   "id": "508a5bfe",
   "metadata": {
    "slideshow": {
     "slide_type": "slide"
    }
   },
   "source": [
    "- 2021학년도 참여 자격\n",
    "    - 한양여자대학교 스마트IT과 졸업 예정자\n",
    "    - 4개 학기 평점 3.0 이상인 자 또는 직전 학기(3학년 1학기) 평점 3.5 이상인 자\n",
    "    - 성적 미달자의 경우 지도교수 추천 시 지원 가능\n",
    "    - 연수 중 고용보험 가입자, 개인 사업자는 지원 불가  \n",
    "      (고용보험 가입자는 연수 시작 전 고용보험 해지 필수)"
   ]
  },
  {
   "cell_type": "markdown",
   "id": "bc6d581b",
   "metadata": {
    "slideshow": {
     "slide_type": "slide"
    }
   },
   "source": [
    "## 2022학년도 운영 계획\n",
    "\n",
    "- 데이터 과학 사회맞춤형 교육 과정(안)\n",
    "\n",
    "|3학년 1학기|3학년 2학기|\n",
    "|:---:|:---:|\n",
    "|탐색적 데이터 시각화 응용|데이터 통계 분석|\n",
    "|인공지능 활용|머신러닝 활용|\n",
    "|파이썬 웹 개발 응용|NoSQL 활용|\n",
    "|자바 웹 개발|자바 웹 개발 응용|\n",
    "|캡스톤디자인 EDA|캡스톤디자인 EDA 응용|\n",
    "|**5 과목(15 학점)**|**5 과목(15 학점)**|\n"
   ]
  },
  {
   "cell_type": "markdown",
   "id": "357d975c",
   "metadata": {
    "slideshow": {
     "slide_type": "slide"
    }
   },
   "source": [
    "- 운영 방안\n",
    "    - **빅데이터과에서 개설**하고 IT 계열 학과 졸업예정자를 대상으로 운영\n",
    "    - 소속 학과 3학년 교육 과정 대신 **데이터 과학 사회맞춤형 교육 과정**을 이수\n",
    "    - 사회맞춤형 지원 학생에 대한 선발 \n",
    "      - 서류 전형 (성적 및 소개서/지원서 평가)\n",
    "      - 면접 전형 (산업체 인사들로 면접 위원단 구성)\n",
    "      - 30명 수준으로 별도 학급 편성 \n",
    "    - 소속 학과 졸업 작품은 사회맞춤형 과정의 캡스톤 디자인 작품으로 대체\n",
    "    - 캡스톤디자인 과목은 산업체 전문가가 직접 강의\n",
    "    - 과목마다 1~2회 산업체 인사 특강 실시 \n",
    "    - 학기마다 1회 이상 모의 면접 실시"
   ]
  },
  {
   "cell_type": "markdown",
   "id": "42f368fc",
   "metadata": {
    "slideshow": {
     "slide_type": "slide"
    }
   },
   "source": [
    "- 주요 일정\n",
    "\n",
    "|구분|기간|\n",
    "|:---:|:---:|\n",
    "|줌 설명회|(1월 중순) 2022.01.10(월)~2022.01.22(금)|\n",
    "|지원 접수|(2월 초순) 2022.01.31(월)~2022.02.04(금)|\n",
    "|서류 전형|(2월 초순) 2022.02.07(월)~2022.02.08(화)|\n",
    "|면접 전형|(2월 초순) 2022.02.09(수)~2022.02.10(목)|\n",
    "|수강 신청|(2월 중순) 2022.02.14(월)~2022.02.16(수)|"
   ]
  },
  {
   "cell_type": "markdown",
   "id": "4132e1c2",
   "metadata": {
    "slideshow": {
     "slide_type": "slide"
    }
   },
   "source": [
    "# 결론\n",
    "\n",
    "- 취업의 의의\n",
    "  - 전문대학교 존재의 이유\n",
    "  - 코로나 상황에서 취업의 어려움\n",
    "  - IT 분야에서 취업의 의의\n",
    "    - IT 분야 취업 시장은 경력자 중심 시장\n",
    "    - 사회 초년생으로서는 일단 취업해야 경력 구축이 가능함\n",
    "- 취업 1년 지연의 손해\n",
    "   - 금전적 손해\n",
    "   - 정신적 손해\n",
    "   - 경력적 손해 "
   ]
  },
  {
   "cell_type": "markdown",
   "id": "31069fd5",
   "metadata": {
    "slideshow": {
     "slide_type": "slide"
    }
   },
   "source": [
    "- \"당신이 꼭 지원했으면 좋겠습니다!\" \n",
    "- \"책임지고 취업하도록 돕겠습니다!\""
   ]
  }
 ],
 "metadata": {
  "celltoolbar": "Slideshow",
  "kernelspec": {
   "display_name": "Python 3",
   "language": "python",
   "name": "python3"
  },
  "language_info": {
   "codemirror_mode": {
    "name": "ipython",
    "version": 3
   },
   "file_extension": ".py",
   "mimetype": "text/x-python",
   "name": "python",
   "nbconvert_exporter": "python",
   "pygments_lexer": "ipython3",
   "version": "3.8.11"
  },
  "latex_envs": {
   "LaTeX_envs_menu_present": true,
   "autoclose": false,
   "autocomplete": true,
   "bibliofile": "biblio.bib",
   "cite_by": "apalike",
   "current_citInitial": 1,
   "eqLabelWithNumbers": true,
   "eqNumInitial": 1,
   "hotkeys": {
    "equation": "Ctrl-E",
    "itemize": "Ctrl-I"
   },
   "labels_anchors": false,
   "latex_user_defs": false,
   "report_style_numbering": false,
   "user_envs_cfg": false
  },
  "toc": {
   "base_numbering": 1,
   "nav_menu": {},
   "number_sections": true,
   "sideBar": true,
   "skip_h1_title": true,
   "title_cell": "Table of Contents",
   "title_sidebar": "Contents",
   "toc_cell": false,
   "toc_position": {
    "height": "calc(100% - 180px)",
    "left": "10px",
    "top": "150px",
    "width": "297.326px"
   },
   "toc_section_display": true,
   "toc_window_display": true
  },
  "varInspector": {
   "cols": {
    "lenName": 16,
    "lenType": 16,
    "lenVar": 40
   },
   "kernels_config": {
    "python": {
     "delete_cmd_postfix": "",
     "delete_cmd_prefix": "del ",
     "library": "var_list.py",
     "varRefreshCmd": "print(var_dic_list())"
    },
    "r": {
     "delete_cmd_postfix": ") ",
     "delete_cmd_prefix": "rm(",
     "library": "var_list.r",
     "varRefreshCmd": "cat(var_dic_list()) "
    }
   },
   "types_to_exclude": [
    "module",
    "function",
    "builtin_function_or_method",
    "instance",
    "_Feature"
   ],
   "window_display": false
  }
 },
 "nbformat": 4,
 "nbformat_minor": 5
}
